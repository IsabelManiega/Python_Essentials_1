{
 "cells": [
  {
   "cell_type": "markdown",
   "id": "a4a50d21",
   "metadata": {},
   "source": [
    "*Creado por:*\n",
    "    \n",
    "*Isabel Maniega*"
   ]
  },
  {
   "cell_type": "markdown",
   "id": "721564c0",
   "metadata": {},
   "source": [
    "# Ejercicio 1"
   ]
  },
  {
   "cell_type": "markdown",
   "id": "f6fa912e",
   "metadata": {},
   "source": [
    "Cada número es la suma de los 2 anteriores:"
   ]
  },
  {
   "cell_type": "markdown",
   "id": "ad72159e",
   "metadata": {},
   "source": [
    "0-1-1-2-3-5-8-13-21-34..."
   ]
  },
  {
   "cell_type": "markdown",
   "id": "4f0f0de8",
   "metadata": {},
   "source": [
    "Se pide programar esa secuencia con Python."
   ]
  },
  {
   "cell_type": "markdown",
   "id": "63ebbc14",
   "metadata": {},
   "source": [
    "Nota:"
   ]
  },
  {
   "cell_type": "markdown",
   "id": "379c5ccc",
   "metadata": {},
   "source": [
    "Apendiza elementos hasta tener 10 primeros resultados.\n",
    "\n",
    "(los 10 números indicados desde 0 hasta 34)\n",
    "\n",
    "**Si sabes, hazlo de varias formas diferentes**"
   ]
  },
  {
   "cell_type": "code",
   "execution_count": 1,
   "id": "169efc37",
   "metadata": {},
   "outputs": [],
   "source": [
    "# OPCIÓN 1"
   ]
  },
  {
   "cell_type": "code",
   "execution_count": 2,
   "id": "c534e5f8",
   "metadata": {},
   "outputs": [
    {
     "name": "stdout",
     "output_type": "stream",
     "text": [
      "cuantos numeros quieres imprimir? - 10 por ejemplo\n",
      "\n",
      "\n",
      "[0, 1, 1, 2, 3, 5, 8, 13, 21, 34]\n"
     ]
    }
   ],
   "source": [
    "import numpy as np\n",
    "\n",
    "# 0 - 1 - 1 - 2 - 3 - 5 - 8 -13 - 21 - 34\n",
    "\n",
    "listado_fibo = []\n",
    "\n",
    "p,q = 0,1    # p = 0, q = 1\n",
    "\n",
    "listado_fibo.append(p)\n",
    "listado_fibo.append(q)\n",
    "\n",
    "print(\"cuantos numeros quieres imprimir? - 10 por ejemplo\")\n",
    "print(\"\\n\")\n",
    "\n",
    "while(len(listado_fibo)<10):\n",
    "    p = p+q\n",
    "    listado_fibo.append(p)\n",
    "    q = p+q\n",
    "    listado_fibo.append(q)\n",
    "    \n",
    "print(listado_fibo)"
   ]
  },
  {
   "cell_type": "code",
   "execution_count": 3,
   "id": "b2920a24",
   "metadata": {},
   "outputs": [],
   "source": [
    "# OPCIÓN 2"
   ]
  },
  {
   "cell_type": "code",
   "execution_count": 4,
   "id": "44d803d7",
   "metadata": {},
   "outputs": [
    {
     "data": {
      "text/plain": [
       "[0, 1, 1, 2, 3, 5, 8, 13, 21, 34]"
      ]
     },
     "execution_count": 4,
     "metadata": {},
     "output_type": "execute_result"
    }
   ],
   "source": [
    "L = [0, 1] \n",
    "while (len(L) < 10):\n",
    "    L.append(L[-1] + L[-2])\n",
    "    \n",
    "L"
   ]
  },
  {
   "cell_type": "code",
   "execution_count": 5,
   "id": "8e7843c5",
   "metadata": {},
   "outputs": [],
   "source": [
    "# MÁS POSIBLES SOLUCIONES..."
   ]
  },
  {
   "cell_type": "code",
   "execution_count": 6,
   "id": "9179185a",
   "metadata": {},
   "outputs": [],
   "source": [
    "# la siguiente solución se muestra para ver un posible caso, donde se nos pide un rango diferente..\n",
    "\n",
    "# 1000-5000 por ejemplo"
   ]
  },
  {
   "cell_type": "code",
   "execution_count": 7,
   "id": "72aeea42",
   "metadata": {},
   "outputs": [
    {
     "name": "stdout",
     "output_type": "stream",
     "text": [
      "[   0    1    1    2    3    5    8   13   21   34   55   89  144  233\n",
      "  377  610  987 1597 2584 4181]\n"
     ]
    }
   ],
   "source": [
    "L = [0, 1] \n",
    "while (len(L) < 20):\n",
    "    L.append(L[-1] + L[-2])\n",
    "    \n",
    "print(np.array(L))"
   ]
  },
  {
   "cell_type": "markdown",
   "id": "c39bed11",
   "metadata": {},
   "source": [
    "# Ejercicio 2"
   ]
  },
  {
   "cell_type": "markdown",
   "id": "59d9b401",
   "metadata": {},
   "source": [
    "Cada número es la suma de los 2 anteriores:"
   ]
  },
  {
   "cell_type": "markdown",
   "id": "1622353a",
   "metadata": {},
   "source": [
    "0-1-1-2-3-5-8-13-21-34..."
   ]
  },
  {
   "cell_type": "markdown",
   "id": "40647035",
   "metadata": {},
   "source": [
    "Se pide programar para los números de fibonacci mayores de 1000"
   ]
  },
  {
   "cell_type": "code",
   "execution_count": 8,
   "id": "6d62ad48",
   "metadata": {},
   "outputs": [],
   "source": [
    "# Primero muestra los valores de 0 hasta 1000000, crea una lista\n",
    "# con ese listado crea una segunda lista con los mayores de 1000"
   ]
  },
  {
   "cell_type": "code",
   "execution_count": 9,
   "id": "dabef4e3",
   "metadata": {},
   "outputs": [],
   "source": [
    "# OPCIÓN 1"
   ]
  },
  {
   "cell_type": "code",
   "execution_count": 10,
   "id": "4e3aca5f",
   "metadata": {},
   "outputs": [],
   "source": [
    "p,q = 0,1\n",
    "\n",
    "fibo = []\n",
    "fibo.append(0)\n",
    "fibo.append(1)\n",
    "\n",
    "while p<1000000:\n",
    "    p = p + q\n",
    "    fibo.append(p)\n",
    "    q = p + q\n",
    "    fibo.append(q)"
   ]
  },
  {
   "cell_type": "code",
   "execution_count": 11,
   "id": "7e4b9522",
   "metadata": {},
   "outputs": [
    {
     "name": "stdout",
     "output_type": "stream",
     "text": [
      "[0, 1, 1, 2, 3, 5, 8, 13, 21, 34, 55, 89, 144, 233, 377, 610, 987, 1597, 2584, 4181, 6765, 10946, 17711, 28657, 46368, 75025, 121393, 196418, 317811, 514229, 832040, 1346269, 2178309, 3524578]\n"
     ]
    }
   ],
   "source": [
    "print(fibo)"
   ]
  },
  {
   "cell_type": "code",
   "execution_count": 12,
   "id": "212163f2",
   "metadata": {},
   "outputs": [
    {
     "data": {
      "text/plain": [
       "[1597, 2584, 4181, 6765, 10946, 17711, 28657, 46368, 75025, 121393]"
      ]
     },
     "execution_count": 12,
     "metadata": {},
     "output_type": "execute_result"
    }
   ],
   "source": [
    "fibo_mayor_1000 = []\n",
    "\n",
    "for numero in fibo:\n",
    "    if (numero>1000) and (len(fibo_mayor_1000)<10):\n",
    "        fibo_mayor_1000.append(numero)\n",
    "\n",
    "fibo_mayor_1000"
   ]
  },
  {
   "cell_type": "code",
   "execution_count": 13,
   "id": "c749940d",
   "metadata": {},
   "outputs": [],
   "source": [
    "# son estos 10:\n",
    "# 1597, 2584, 4181, 6765, 10946, 17711, 28657, 46368, 75025, 121393"
   ]
  },
  {
   "cell_type": "code",
   "execution_count": 14,
   "id": "128c4ec8",
   "metadata": {},
   "outputs": [],
   "source": [
    "# OPCIÓN 2"
   ]
  },
  {
   "cell_type": "code",
   "execution_count": 15,
   "id": "0635b6ea",
   "metadata": {},
   "outputs": [
    {
     "data": {
      "text/plain": [
       "[1597, 2584, 4181, 6765, 10946, 17711, 28657, 46368, 75025, 121393]"
      ]
     },
     "execution_count": 15,
     "metadata": {},
     "output_type": "execute_result"
    }
   ],
   "source": [
    "p, q = 0,1\n",
    "sum_fibo=0\n",
    "list_values = []\n",
    "\n",
    "# aqui me doy cuenta que en 150.000 hacen justo la longitud de 10\n",
    "# si son menos de 1000 los calcula\n",
    "# si son mayores los apendiza a esta lista Fibonacci\n",
    "while p < 150000:\n",
    "    if p < 1000:\n",
    "        p,q = q,p+q\n",
    "    else:\n",
    "        if p < 2000:\n",
    "            list_values.append(p)            \n",
    "        p,q = q, p+q\n",
    "        #print(p)\n",
    "        list_values.append(p)\n",
    "list_values[:10]"
   ]
  },
  {
   "cell_type": "code",
   "execution_count": 16,
   "id": "1e53c2f9",
   "metadata": {},
   "outputs": [],
   "source": [
    "# OPCIÓN 3 "
   ]
  },
  {
   "cell_type": "code",
   "execution_count": 17,
   "id": "ec6ee080",
   "metadata": {},
   "outputs": [
    {
     "data": {
      "text/plain": [
       "array([  0,   1,   1,   2,   3,   5,   8,  13,  21,  34,  55,  89, 144,\n",
       "       233, 377, 610, 987])"
      ]
     },
     "execution_count": 17,
     "metadata": {},
     "output_type": "execute_result"
    }
   ],
   "source": [
    "# Obtengo los primeros valores y se observa que apartir de los 2 últimos empieza la parte que me interesa\n",
    "fibo = [0,1]\n",
    "while fibo[-1]<1000 and (fibo[-1]+fibo[-2]<1000):\n",
    "    fibo.append(fibo[-1]+fibo[-2])\n",
    "    \n",
    "np.array(fibo)"
   ]
  },
  {
   "cell_type": "code",
   "execution_count": 18,
   "id": "d3fe9162",
   "metadata": {},
   "outputs": [
    {
     "data": {
      "text/plain": [
       "[1597]"
      ]
     },
     "execution_count": 18,
     "metadata": {},
     "output_type": "execute_result"
    }
   ],
   "source": [
    "fibo2 = []\n",
    "fibo2.append(fibo[-1]+fibo[-2])\n",
    "fibo2"
   ]
  },
  {
   "cell_type": "code",
   "execution_count": 19,
   "id": "8e1b4572",
   "metadata": {},
   "outputs": [
    {
     "data": {
      "text/plain": [
       "[1597, 2584]"
      ]
     },
     "execution_count": 19,
     "metadata": {},
     "output_type": "execute_result"
    }
   ],
   "source": [
    "fibo2.append(fibo2[-1]+fibo[-1])\n",
    "fibo2"
   ]
  },
  {
   "cell_type": "code",
   "execution_count": 20,
   "id": "2efe1fd7",
   "metadata": {},
   "outputs": [
    {
     "name": "stdout",
     "output_type": "stream",
     "text": [
      "2\n"
     ]
    }
   ],
   "source": [
    "print(len(fibo2))"
   ]
  },
  {
   "cell_type": "code",
   "execution_count": 21,
   "id": "7065012e",
   "metadata": {},
   "outputs": [
    {
     "data": {
      "text/plain": [
       "[1597, 2584, 4181, 6765, 10946, 17711, 28657, 46368, 75025, 121393]"
      ]
     },
     "execution_count": 21,
     "metadata": {},
     "output_type": "execute_result"
    }
   ],
   "source": [
    "while len(fibo2)<10:\n",
    "    fibo2.append(fibo2[-1]+fibo2[-2])\n",
    "    \n",
    "fibo2"
   ]
  },
  {
   "cell_type": "markdown",
   "id": "ff4b8bac",
   "metadata": {},
   "source": [
    "*Creado por:*\n",
    "    \n",
    "*Isabel Maniega*"
   ]
  }
 ],
 "metadata": {
  "kernelspec": {
   "display_name": "Python 3 (ipykernel)",
   "language": "python",
   "name": "python3"
  },
  "language_info": {
   "codemirror_mode": {
    "name": "ipython",
    "version": 3
   },
   "file_extension": ".py",
   "mimetype": "text/x-python",
   "name": "python",
   "nbconvert_exporter": "python",
   "pygments_lexer": "ipython3",
   "version": "3.10.12"
  }
 },
 "nbformat": 4,
 "nbformat_minor": 5
}

{
 "cells": [
  {
   "cell_type": "markdown",
   "id": "bcd8cdbf",
   "metadata": {},
   "source": [
    "*Creado por*\n",
    "\n",
    "*Isabel Maniega*"
   ]
  },
  {
   "cell_type": "markdown",
   "id": "6012bd5b",
   "metadata": {},
   "source": [
    "# Ejercicio 1"
   ]
  },
  {
   "cell_type": "markdown",
   "id": "00435ad4",
   "metadata": {},
   "source": [
    "Algo típico en algunos proyectos, podría ser programar cosas según ciertas normativas o especificaciones."
   ]
  },
  {
   "cell_type": "markdown",
   "id": "cb6a9c60",
   "metadata": {},
   "source": [
    "Nos imaginaremos el siguiente supuesto."
   ]
  },
  {
   "cell_type": "markdown",
   "id": "5c9ca527",
   "metadata": {},
   "source": [
    "Es demasiado simple, y no simula algo real concreto, pero nos va a permitir repasar los condicionales."
   ]
  },
  {
   "cell_type": "code",
   "execution_count": 1,
   "id": "d2ccb1eb",
   "metadata": {},
   "outputs": [],
   "source": [
    "# Condicionales\n",
    "# if ....!=....: \n",
    "# elif.... == ...:\n",
    "# else:\n",
    "\n",
    "# Signos:\n",
    "# != distinto de\n",
    "# == igual a\n",
    "# >= mayor o igual\n",
    "# <= menor o igual\n",
    "\n",
    "# Continue / break\n",
    "# Bucle for break --> para la iteración (recorrer)\n",
    "# Bucle for continue --> sigue a otro valor"
   ]
  },
  {
   "cell_type": "markdown",
   "id": "6b379a83",
   "metadata": {},
   "source": [
    "Dado este listado de números:"
   ]
  },
  {
   "cell_type": "markdown",
   "id": "f55d5eff",
   "metadata": {},
   "source": [
    "-3, 150, 0, 499, 500, 1200, -350, 0, 750, 25"
   ]
  },
  {
   "cell_type": "markdown",
   "id": "06279822",
   "metadata": {},
   "source": [
    "Haz un pequeño algoritmo que haga lo siguiente:\n",
    "* Si el número es negativo debe imprimir lo siguiente **el valor es negativo**\n",
    "* Si es 0 debe imprimir un mensaje que indique: **0**\n",
    "* Si se encuentra entre 0 (no incluido) y 200 (si incluido), imprime **0,200**\n",
    "* Si se encuentra entre 200 (no incluido) y 500 (no incluido), debe imprimir **(200, 500)**\n",
    "* Si es 500 debe **continuar** sin hacer nada\n",
    "* Si se encuentra entre 500 (no incluido) y 1000 (no incluido) debe **saltar automaticamente y dejar de testear** (parar)\n",
    "* Para el resto de números, debe decir: **valor demasiado grande, desde 1000, en adelante**"
   ]
  },
  {
   "cell_type": "markdown",
   "id": "4b0faf2b",
   "metadata": {},
   "source": [
    "**1)** Escribir en formato lista"
   ]
  },
  {
   "cell_type": "code",
   "execution_count": 1,
   "id": "58821b0d",
   "metadata": {},
   "outputs": [
    {
     "data": {
      "text/plain": [
       "[-3, 150, 0, 499, 500, 1200, -350, 0, 750, 25]"
      ]
     },
     "execution_count": 1,
     "metadata": {},
     "output_type": "execute_result"
    }
   ],
   "source": [
    "valores = [-3, 150, 0, 499, 500, 1200, -350, 0, 750, 25]\n",
    "valores"
   ]
  },
  {
   "cell_type": "markdown",
   "id": "093d9bea",
   "metadata": {},
   "source": [
    "**2)**\n",
    "\n",
    "Haz el propio ejercicio de programación planteado"
   ]
  },
  {
   "cell_type": "code",
   "execution_count": null,
   "id": "fbd667a6",
   "metadata": {},
   "outputs": [],
   "source": [
    "for valor in valores:\n",
    "    if valor<0:\n",
    "        print(\"es valor negativo\")\n",
    "    elif valor==0:\n",
    "        print(\"0\")\n",
    "    elif 0<valor<=200:\n",
    "        print(\"(0,200]\")\n",
    "    elif 200<valor<500: \n",
    "        print(\"(200,500)\")\n",
    "    elif valor==500:\n",
    "        continue\n",
    "    elif 500<valor<1000:\n",
    "        break\n",
    "    else:  # valor>=1000\n",
    "        print(\"valor demasiado grande, desde 1000 en adelante\")"
   ]
  },
  {
   "cell_type": "markdown",
   "id": "ccf498b8",
   "metadata": {},
   "source": [
    "# Ejercicio 2"
   ]
  },
  {
   "cell_type": "markdown",
   "id": "7189939e",
   "metadata": {},
   "source": [
    "Dada la lista de nombre \"listado\" y de valores: 10, 20, 20, 30, 40, 40, 40"
   ]
  },
  {
   "cell_type": "markdown",
   "id": "81b765a5",
   "metadata": {},
   "source": [
    "**1)** Crea la lista e imprimela"
   ]
  },
  {
   "cell_type": "code",
   "execution_count": 3,
   "id": "fa34996d",
   "metadata": {},
   "outputs": [
    {
     "data": {
      "text/plain": [
       "[10, 20, 20, 30, 40, 40, 40]"
      ]
     },
     "execution_count": 3,
     "metadata": {},
     "output_type": "execute_result"
    }
   ],
   "source": [
    "listado = [10,20,20,30,40,40,40]\n",
    "listado"
   ]
  },
  {
   "cell_type": "markdown",
   "id": "b40c862d",
   "metadata": {},
   "source": [
    "**2)** Haz un set de esa lista"
   ]
  },
  {
   "cell_type": "code",
   "execution_count": 4,
   "id": "81da8bb5",
   "metadata": {},
   "outputs": [
    {
     "data": {
      "text/plain": [
       "{10, 20, 30, 40}"
      ]
     },
     "execution_count": 4,
     "metadata": {},
     "output_type": "execute_result"
    }
   ],
   "source": [
    "set(listado)"
   ]
  },
  {
   "cell_type": "markdown",
   "id": "44c15a2f",
   "metadata": {},
   "source": [
    "**3)** Trata de buscar los números NO REPETIDOS de esa lista (sin usar set)\n",
    "\n",
    "**Pista: Puedes almacenar todo en una nueva lista**"
   ]
  },
  {
   "cell_type": "code",
   "execution_count": 5,
   "id": "ed23e899",
   "metadata": {},
   "outputs": [
    {
     "data": {
      "text/plain": [
       "[10, 20, 30, 40]"
      ]
     },
     "execution_count": 5,
     "metadata": {},
     "output_type": "execute_result"
    }
   ],
   "source": [
    "# listado = [10,20,20,30,40,40,40]\n",
    "\n",
    "unicos = []\n",
    "\n",
    "for numero in listado:\n",
    "    if numero not in unicos:\n",
    "        unicos.append(numero)\n",
    "        \n",
    "unicos"
   ]
  },
  {
   "cell_type": "markdown",
   "id": "cabd63b0",
   "metadata": {},
   "source": [
    "# Ejercicio 3"
   ]
  },
  {
   "cell_type": "markdown",
   "id": "87d3b91a",
   "metadata": {},
   "source": [
    "Dados estos clientes:"
   ]
  },
  {
   "cell_type": "markdown",
   "id": "6a0035d7",
   "metadata": {},
   "source": [
    "* Usando el continue/break"
   ]
  },
  {
   "cell_type": "markdown",
   "id": "3a5ce2e8",
   "metadata": {},
   "source": [
    "Trata de averiguar si un cliente concreto se encuentra en la BBDD (Base de Datos)"
   ]
  },
  {
   "cell_type": "markdown",
   "id": "4ff9758a",
   "metadata": {},
   "source": [
    "\"Ana Pérez\", \"Juan García\", \"Andres Álvarez\", \"Luis Ramos\", \"Pedro Cadenas\", \"Estefanía Miguélez\", \"Alberto Delgado\", \"Susana Castro\", \"Luis González\""
   ]
  },
  {
   "cell_type": "code",
   "execution_count": 2,
   "id": "c6d3e395",
   "metadata": {},
   "outputs": [
    {
     "name": "stdout",
     "output_type": "stream",
     "text": [
      "['Ana Pérez', 'Juan García', 'Andrés Álvarez', 'Luis Ramos', 'Pedro Cadenas', 'Estefanía Miguélez', 'Alberto Delgado', 'Susana Castro', 'Luis González']\n"
     ]
    }
   ],
   "source": [
    "clientes = [\"Ana Pérez\", \"Juan García\", \"Andrés Álvarez\", \n",
    "            \"Luis Ramos\", \"Pedro Cadenas\", \"Estefanía Miguélez\", \n",
    "            \"Alberto Delgado\", \"Susana Castro\", \"Luis González\"]\n",
    "\n",
    "print(clientes)"
   ]
  },
  {
   "cell_type": "markdown",
   "id": "703d0fd7",
   "metadata": {},
   "source": [
    "**solución preliminar**"
   ]
  },
  {
   "cell_type": "code",
   "execution_count": 3,
   "id": "65debadd",
   "metadata": {},
   "outputs": [
    {
     "name": "stdout",
     "output_type": "stream",
     "text": [
      "el cliente:  Juan García se encuentra en mi Base de Datos de Clientes\n"
     ]
    }
   ],
   "source": [
    "cliente_buscado = \"Juan García\"\n",
    "\n",
    "encontrado=0\n",
    "\n",
    "for cliente in clientes:\n",
    "    if cliente == cliente_buscado:\n",
    "        encontrado=1\n",
    "        print(\"el cliente: \", cliente, \n",
    "              \"se encuentra en mi Base de Datos de Clientes\")\n",
    "        break\n",
    "    else: \n",
    "        continue\n",
    "        \n",
    "if encontrado==0:\n",
    "    print(\"el cliente: \", cliente_buscado, \n",
    "          \"NO se encuentra en mi Base de Datos de Clientes\")"
   ]
  },
  {
   "cell_type": "markdown",
   "id": "1a1ff28d",
   "metadata": {},
   "source": [
    "**Una solución igual que la anterior, pero más ordenado**"
   ]
  },
  {
   "cell_type": "code",
   "execution_count": 10,
   "id": "6e2ba867",
   "metadata": {},
   "outputs": [
    {
     "name": "stdout",
     "output_type": "stream",
     "text": [
      "el cliente:  Juan García se encuentra en mi Base de Datos de Clientes\n"
     ]
    }
   ],
   "source": [
    "cliente_buscado = \"Juan García\"\n",
    "\n",
    "encontrado=0                               # inicializamos a 0 (FALSE-NO-0)\n",
    "\n",
    "# AQUI TESTEAMOS SI LO ENCUENTRA O NO\n",
    "for cliente in clientes:\n",
    "    if cliente == cliente_buscado:\n",
    "        encontrado=1                       # SI LO ENCUENTRA -> ENCONTRADO = 1 (SI, TRUE)\n",
    "        break\n",
    "    else: \n",
    "        continue                           # le dices que vaya a testear el siguiente\n",
    "        \n",
    "\n",
    "# AQUI LO IMPRIMO (tanto que si, como que no)\n",
    "if encontrado==0:\n",
    "    print(\"el cliente: \", cliente_buscado, \n",
    "          \"NO se encuentra en mi Base de Datos de Clientes\")\n",
    "else: # encontrado = 1\n",
    "    print(\"el cliente: \", cliente_buscado, \n",
    "          \"se encuentra en mi Base de Datos de Clientes\")"
   ]
  },
  {
   "cell_type": "markdown",
   "id": "d9494b04",
   "metadata": {},
   "source": [
    "**podríamos no poner el continue si no queremos**"
   ]
  },
  {
   "cell_type": "code",
   "execution_count": 5,
   "id": "91520a7c",
   "metadata": {},
   "outputs": [
    {
     "name": "stdout",
     "output_type": "stream",
     "text": [
      "el cliente:  Juan García se encuentra en mi Base de Datos de Clientes\n"
     ]
    }
   ],
   "source": [
    "cliente_buscado = \"Juan García\"\n",
    "\n",
    "encontrado=0\n",
    "\n",
    "for cliente in clientes:\n",
    "    if cliente == cliente_buscado:\n",
    "        encontrado=1\n",
    "        break\n",
    "        \n",
    "if encontrado==0:\n",
    "    print(\"el cliente: \", cliente_buscado, \n",
    "          \"NO se encuentra en mi Base de Datos de Clientes\")\n",
    "else: # encontrado = 1\n",
    "    print(\"el cliente: \", cliente_buscado, \n",
    "          \"se encuentra en mi Base de Datos de Clientes\")"
   ]
  },
  {
   "cell_type": "markdown",
   "id": "ea331ff7-806c-402a-9e48-ba649cf4074e",
   "metadata": {},
   "source": [
    "**Forma 2**"
   ]
  },
  {
   "cell_type": "code",
   "execution_count": 6,
   "id": "b9828cf8-6138-4f59-93e3-630e7cb52745",
   "metadata": {},
   "outputs": [
    {
     "name": "stdout",
     "output_type": "stream",
     "text": [
      "el cliente:  Juan García se encuentra en mi Base de Datos de Clientes\n"
     ]
    }
   ],
   "source": [
    "cliente_buscado = \"Juan García\"\n",
    "\n",
    "encontrado = False\n",
    "\n",
    "for cliente in clientes:\n",
    "    if cliente == cliente_buscado:\n",
    "        encontrado = True\n",
    "        break\n",
    "        \n",
    "if encontrado:\n",
    "    print(\"el cliente: \", cliente_buscado, \n",
    "          \"se encuentra en mi Base de Datos de Clientes\")\n",
    "else:\n",
    "    print(\"el cliente: \", cliente_buscado, \n",
    "          \"NO se encuentra en mi Base de Datos de Clientes\")"
   ]
  },
  {
   "cell_type": "markdown",
   "id": "da2913c8",
   "metadata": {},
   "source": [
    "**probamos sin la tilde, para testear nuestro código..**"
   ]
  },
  {
   "cell_type": "code",
   "execution_count": 13,
   "id": "3d17ef0f",
   "metadata": {},
   "outputs": [
    {
     "name": "stdout",
     "output_type": "stream",
     "text": [
      "el cliente:  Juan Garcia NO se encuentra en mi Base de Datos de Clientes\n"
     ]
    }
   ],
   "source": [
    "cliente_buscado = \"Juan Garcia\"\n",
    "\n",
    "encontrado=0\n",
    "\n",
    "# solución preliminar\n",
    "for cliente in clientes:\n",
    "    if cliente == cliente_buscado:\n",
    "        encontrado=1\n",
    "        print(\"el cliente: \", cliente, \n",
    "              \"se encuentra en mi Base de Datos de Clientes\")\n",
    "        break\n",
    "    else:        \n",
    "        continue\n",
    "        \n",
    "if encontrado==0:\n",
    "    print(\"el cliente: \", cliente_buscado, \n",
    "          \"NO se encuentra en mi Base de Datos de Clientes\")"
   ]
  },
  {
   "cell_type": "markdown",
   "id": "048d6d06-f9f7-4fbb-9f34-0ccd836e47f3",
   "metadata": {},
   "source": [
    "**Forma 2**"
   ]
  },
  {
   "cell_type": "code",
   "execution_count": 8,
   "id": "0b56a365-3e9b-4429-b882-25efed1efc39",
   "metadata": {},
   "outputs": [
    {
     "name": "stdout",
     "output_type": "stream",
     "text": [
      "el cliente:  Juan Garcia NO se encuentra en mi Base de Datos de Clientes\n"
     ]
    }
   ],
   "source": [
    "cliente_buscado = \"Juan Garcia\"\n",
    "\n",
    "encontrado = False\n",
    "\n",
    "for cliente in clientes:\n",
    "    if cliente == cliente_buscado:\n",
    "        encontrado = True\n",
    "        break\n",
    "        \n",
    "if encontrado:\n",
    "    print(\"el cliente: \", cliente_buscado, \n",
    "          \"se encuentra en mi Base de Datos de Clientes\")\n",
    "else:\n",
    "    print(\"el cliente: \", cliente_buscado, \n",
    "          \"NO se encuentra en mi Base de Datos de Clientes\")"
   ]
  },
  {
   "cell_type": "markdown",
   "id": "8f80f0ff",
   "metadata": {},
   "source": [
    "*Creado por*\n",
    "\n",
    "*Isabel Maniega*"
   ]
  }
 ],
 "metadata": {
  "kernelspec": {
   "display_name": "Python 3 (ipykernel)",
   "language": "python",
   "name": "python3"
  },
  "language_info": {
   "codemirror_mode": {
    "name": "ipython",
    "version": 3
   },
   "file_extension": ".py",
   "mimetype": "text/x-python",
   "name": "python",
   "nbconvert_exporter": "python",
   "pygments_lexer": "ipython3",
   "version": "3.10.12"
  }
 },
 "nbformat": 4,
 "nbformat_minor": 5
}

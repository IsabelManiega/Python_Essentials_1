{
 "cells": [
  {
   "cell_type": "markdown",
   "id": "495c8a6a",
   "metadata": {},
   "source": [
    "*Creado por:*\n",
    "    \n",
    "*Isabel Maniega*"
   ]
  },
  {
   "cell_type": "markdown",
   "id": "42555d83",
   "metadata": {},
   "source": [
    "# Ejercicio 1"
   ]
  },
  {
   "cell_type": "markdown",
   "id": "d871c1ae",
   "metadata": {},
   "source": [
    "Cada número es la suma de los 2 anteriores:"
   ]
  },
  {
   "cell_type": "markdown",
   "id": "b446bc0e",
   "metadata": {},
   "source": [
    "0-1-1-2-3-5-8-13-21-34..."
   ]
  },
  {
   "cell_type": "markdown",
   "id": "7ac44d46",
   "metadata": {},
   "source": [
    "Se pide programar esa secuencia con Python."
   ]
  },
  {
   "cell_type": "markdown",
   "id": "4485ae56",
   "metadata": {},
   "source": [
    "Nota:"
   ]
  },
  {
   "cell_type": "markdown",
   "id": "fd803548",
   "metadata": {},
   "source": [
    "Apendiza elementos hasta tener 10 primeros resultados.\n",
    "\n",
    "(los 10 números indicados desde 0 hasta 34)\n",
    "\n",
    "**Si sabes, hazlo de varias formas diferentes**"
   ]
  },
  {
   "cell_type": "markdown",
   "id": "a938c5a4",
   "metadata": {},
   "source": [
    "# Ejercicio 2"
   ]
  },
  {
   "cell_type": "markdown",
   "id": "6050f69c",
   "metadata": {},
   "source": [
    "Cada número es la suma de los 2 anteriores:"
   ]
  },
  {
   "cell_type": "markdown",
   "id": "d6f0bbba",
   "metadata": {},
   "source": [
    "0-1-1-2-3-5-8-13-21-34..."
   ]
  },
  {
   "cell_type": "markdown",
   "id": "bd4d307e",
   "metadata": {},
   "source": [
    "Se pide programar para los números de fibonacci mayores de 1000"
   ]
  },
  {
   "cell_type": "code",
   "execution_count": 1,
   "id": "dc0cbd41",
   "metadata": {},
   "outputs": [],
   "source": [
    "# Primero muestra los valores de 0 hasta 1000000, crea una lista\n",
    "# con ese listado crea una segunda lista con los mayores de 1000"
   ]
  },
  {
   "cell_type": "markdown",
   "id": "d8bd3b59",
   "metadata": {},
   "source": [
    "*Creado por:*\n",
    "    \n",
    "*Isabel Maniega*"
   ]
  }
 ],
 "metadata": {
  "kernelspec": {
   "display_name": "Python 3 (ipykernel)",
   "language": "python",
   "name": "python3"
  },
  "language_info": {
   "codemirror_mode": {
    "name": "ipython",
    "version": 3
   },
   "file_extension": ".py",
   "mimetype": "text/x-python",
   "name": "python",
   "nbconvert_exporter": "python",
   "pygments_lexer": "ipython3",
   "version": "3.8.18"
  }
 },
 "nbformat": 4,
 "nbformat_minor": 5
}

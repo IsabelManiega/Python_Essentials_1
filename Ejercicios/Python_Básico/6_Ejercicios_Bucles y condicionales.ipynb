{
 "cells": [
  {
   "cell_type": "markdown",
   "id": "d8f832b1",
   "metadata": {},
   "source": [
    "*Creado por*\n",
    "\n",
    "*Isabel Maniega*"
   ]
  },
  {
   "cell_type": "markdown",
   "id": "aa948730",
   "metadata": {},
   "source": [
    "# Ejercicio 1"
   ]
  },
  {
   "cell_type": "markdown",
   "id": "dfd1b3d0",
   "metadata": {},
   "source": [
    "Algo típico en algunos proyectos, podría ser programar cosas según ciertas normativas o especificaciones."
   ]
  },
  {
   "cell_type": "markdown",
   "id": "0b834915",
   "metadata": {},
   "source": [
    "Nos imaginaremos el siguiente supuesto."
   ]
  },
  {
   "cell_type": "markdown",
   "id": "0928742e",
   "metadata": {},
   "source": [
    "Es demasiado simple, y no simula algo real concreto, pero nos va a permitir repasar los condicionales."
   ]
  },
  {
   "cell_type": "code",
   "execution_count": 1,
   "id": "66bfca5b",
   "metadata": {},
   "outputs": [],
   "source": [
    "# Condicionales\n",
    "# if ....!=....: \n",
    "# elif.... == ...:\n",
    "# else:\n",
    "\n",
    "# Signos:\n",
    "# != distinto de\n",
    "# == igual a\n",
    "# >= mayor o igual\n",
    "# <= menor o igual\n",
    "\n",
    "# Continue / break\n",
    "# Bucle for break --> para la iteración (recorrer)\n",
    "# Bucle for continue --> sigue a otro valor"
   ]
  },
  {
   "cell_type": "markdown",
   "id": "eae33aa2",
   "metadata": {},
   "source": [
    "Dado este listado de números:"
   ]
  },
  {
   "cell_type": "markdown",
   "id": "24465d4b",
   "metadata": {},
   "source": [
    "-3, 150, 0, 499, 500, 1200, -350, 0, 750, 25"
   ]
  },
  {
   "cell_type": "markdown",
   "id": "4d1468d1",
   "metadata": {},
   "source": [
    "Haz un pequeño algoritmo que haga lo siguiente:\n",
    "* Si el número es negativo debe imprimir lo siguiente **el valor es negativo**\n",
    "* Si es 0 debe imprimir un mensaje que indique: **0**\n",
    "* Si se encuentra entre 0 (no incluido) y 200 (si incluido), imprime **0,200**\n",
    "* Si se encuentra entre 200 (no incluido) y 500 (no incluido), debe imprimir **(200, 500)**\n",
    "* Si es 500 debe **continuar** sin hacer nada\n",
    "* Si se encuentra entre 500 (no incluido) y 1000 (no incluido) debe **saltar automaticamente y dejar de testear** (parar)\n",
    "* Para el resto de números, debe decir: **valor demasiado grande, desde 1000, en adelante**"
   ]
  },
  {
   "cell_type": "markdown",
   "id": "52a83c0d",
   "metadata": {},
   "source": [
    "# Ejercicio 2"
   ]
  },
  {
   "cell_type": "markdown",
   "id": "42558c59",
   "metadata": {},
   "source": [
    "Dada la lista de nombre \"listado\" y de valores: 10, 20, 20, 30, 40, 40, 40"
   ]
  },
  {
   "cell_type": "markdown",
   "id": "0d92af48",
   "metadata": {},
   "source": [
    "**1)** Crea la lista e imprimela"
   ]
  },
  {
   "cell_type": "markdown",
   "id": "1ed514f7",
   "metadata": {},
   "source": [
    "**2)** Haz un set de esa lista"
   ]
  },
  {
   "cell_type": "markdown",
   "id": "f731eeb3",
   "metadata": {},
   "source": [
    "**3)** Trata de buscar los números NO REPETIDOS de esa lista (sin usar set)\n",
    "\n",
    "**Pista: Puedes almacenar todo en una nueva lista**"
   ]
  },
  {
   "cell_type": "markdown",
   "id": "253dd867",
   "metadata": {},
   "source": [
    "# Ejercicio 3"
   ]
  },
  {
   "cell_type": "markdown",
   "id": "eb6a4b64",
   "metadata": {},
   "source": [
    "Dados estos clientes:"
   ]
  },
  {
   "cell_type": "markdown",
   "id": "d2f7ef7b",
   "metadata": {},
   "source": [
    "* Usando el continue/break"
   ]
  },
  {
   "cell_type": "markdown",
   "id": "313c599d",
   "metadata": {},
   "source": [
    "Trata de averiguar si un cliente concreto se encuentra en la BBDD (Base de Datos)"
   ]
  },
  {
   "cell_type": "markdown",
   "id": "ecefda56",
   "metadata": {},
   "source": [
    "\"Ana Pérez\", \"Juan García\", \"Andres Álvarez\", \"Luis Ramos\", \"Pedro Cadenas\", \"Estefanía Miguélez\", \"Alberto Delgado\", \"Susana Castro\", \"Luis González\""
   ]
  },
  {
   "cell_type": "markdown",
   "id": "ef39479b",
   "metadata": {},
   "source": [
    "*Creado por*\n",
    "\n",
    "*Isabel Maniega*"
   ]
  }
 ],
 "metadata": {
  "kernelspec": {
   "display_name": "Python 3 (ipykernel)",
   "language": "python",
   "name": "python3"
  },
  "language_info": {
   "codemirror_mode": {
    "name": "ipython",
    "version": 3
   },
   "file_extension": ".py",
   "mimetype": "text/x-python",
   "name": "python",
   "nbconvert_exporter": "python",
   "pygments_lexer": "ipython3",
   "version": "3.8.18"
  }
 },
 "nbformat": 4,
 "nbformat_minor": 5
}

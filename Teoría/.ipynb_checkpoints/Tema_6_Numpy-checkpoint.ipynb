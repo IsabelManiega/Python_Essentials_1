{
 "cells": [
  {
   "cell_type": "markdown",
   "id": "30968076",
   "metadata": {},
   "source": [
    "*Creado por:*\n",
    "\n",
    "*Isabel Maniega*"
   ]
  },
  {
   "cell_type": "markdown",
   "id": "206665ec",
   "metadata": {},
   "source": [
    "# -6- Numpy"
   ]
  },
  {
   "cell_type": "code",
   "execution_count": 1,
   "id": "95765383",
   "metadata": {},
   "outputs": [],
   "source": [
    "import numpy as np"
   ]
  },
  {
   "cell_type": "markdown",
   "id": "e6e4ea51",
   "metadata": {},
   "source": [
    "## Numeros dentro de un rango:"
   ]
  },
  {
   "cell_type": "markdown",
   "id": "b0b9e656",
   "metadata": {},
   "source": [
    "**Generación de números con numpy en un rango**"
   ]
  },
  {
   "cell_type": "code",
   "execution_count": 2,
   "id": "a5eb8651",
   "metadata": {},
   "outputs": [
    {
     "data": {
      "text/plain": [
       "array([0, 1, 2, 3, 4, 5])"
      ]
     },
     "execution_count": 2,
     "metadata": {},
     "output_type": "execute_result"
    }
   ],
   "source": [
    "a = np.arange(6)\n",
    "a"
   ]
  },
  {
   "cell_type": "code",
   "execution_count": 3,
   "id": "4de9f98f",
   "metadata": {},
   "outputs": [
    {
     "data": {
      "text/plain": [
       "numpy.ndarray"
      ]
     },
     "execution_count": 3,
     "metadata": {},
     "output_type": "execute_result"
    }
   ],
   "source": [
    "type(a)"
   ]
  },
  {
   "cell_type": "markdown",
   "id": "23612ae6",
   "metadata": {},
   "source": [
    "**Formas de imprimir la información**"
   ]
  },
  {
   "cell_type": "code",
   "execution_count": 4,
   "id": "488b29de",
   "metadata": {},
   "outputs": [
    {
     "data": {
      "text/plain": [
       "array([0, 1, 2, 3, 4, 5])"
      ]
     },
     "execution_count": 4,
     "metadata": {},
     "output_type": "execute_result"
    }
   ],
   "source": [
    "a"
   ]
  },
  {
   "cell_type": "code",
   "execution_count": 5,
   "id": "1775a6d3",
   "metadata": {},
   "outputs": [
    {
     "name": "stdout",
     "output_type": "stream",
     "text": [
      "0\n",
      "1\n",
      "2\n",
      "3\n",
      "4\n",
      "5\n"
     ]
    }
   ],
   "source": [
    "for i in a:\n",
    "    print(i)"
   ]
  },
  {
   "cell_type": "markdown",
   "id": "145bf0ce",
   "metadata": {},
   "source": [
    "**Longitud, forma, tamaño**"
   ]
  },
  {
   "cell_type": "code",
   "execution_count": 7,
   "id": "5d54b7f9",
   "metadata": {},
   "outputs": [
    {
     "data": {
      "text/plain": [
       "array([0, 1, 2, 3, 4, 5])"
      ]
     },
     "execution_count": 7,
     "metadata": {},
     "output_type": "execute_result"
    }
   ],
   "source": [
    "a"
   ]
  },
  {
   "cell_type": "code",
   "execution_count": 8,
   "id": "548d83a9",
   "metadata": {},
   "outputs": [
    {
     "data": {
      "text/plain": [
       "6"
      ]
     },
     "execution_count": 8,
     "metadata": {},
     "output_type": "execute_result"
    }
   ],
   "source": [
    "len(a)"
   ]
  },
  {
   "cell_type": "code",
   "execution_count": 9,
   "id": "133cafc2",
   "metadata": {},
   "outputs": [
    {
     "data": {
      "text/plain": [
       "(6,)"
      ]
     },
     "execution_count": 9,
     "metadata": {},
     "output_type": "execute_result"
    }
   ],
   "source": [
    "a.shape"
   ]
  },
  {
   "cell_type": "code",
   "execution_count": 10,
   "id": "d5661f5c",
   "metadata": {},
   "outputs": [
    {
     "data": {
      "text/plain": [
       "6"
      ]
     },
     "execution_count": 10,
     "metadata": {},
     "output_type": "execute_result"
    }
   ],
   "source": [
    "a.size"
   ]
  },
  {
   "cell_type": "markdown",
   "id": "aca31982",
   "metadata": {},
   "source": [
    "**Máximos y mínimos**"
   ]
  },
  {
   "cell_type": "code",
   "execution_count": 11,
   "id": "908b903b",
   "metadata": {},
   "outputs": [
    {
     "data": {
      "text/plain": [
       "array([0, 1, 2, 3, 4, 5])"
      ]
     },
     "execution_count": 11,
     "metadata": {},
     "output_type": "execute_result"
    }
   ],
   "source": [
    "a"
   ]
  },
  {
   "cell_type": "code",
   "execution_count": 12,
   "id": "79968316",
   "metadata": {},
   "outputs": [
    {
     "data": {
      "text/plain": [
       "5"
      ]
     },
     "execution_count": 12,
     "metadata": {},
     "output_type": "execute_result"
    }
   ],
   "source": [
    "max(a)"
   ]
  },
  {
   "cell_type": "code",
   "execution_count": 13,
   "id": "207fd6bc",
   "metadata": {},
   "outputs": [
    {
     "data": {
      "text/plain": [
       "0"
      ]
     },
     "execution_count": 13,
     "metadata": {},
     "output_type": "execute_result"
    }
   ],
   "source": [
    "min(a)"
   ]
  },
  {
   "cell_type": "markdown",
   "id": "c145fbb2",
   "metadata": {},
   "source": [
    "**Comprobación de elementos en el array**"
   ]
  },
  {
   "cell_type": "code",
   "execution_count": 14,
   "id": "4ea7a264",
   "metadata": {},
   "outputs": [
    {
     "data": {
      "text/plain": [
       "array([0, 1, 2, 3, 4, 5])"
      ]
     },
     "execution_count": 14,
     "metadata": {},
     "output_type": "execute_result"
    }
   ],
   "source": [
    "a"
   ]
  },
  {
   "cell_type": "code",
   "execution_count": 15,
   "id": "eb0f0dc3",
   "metadata": {},
   "outputs": [
    {
     "data": {
      "text/plain": [
       "False"
      ]
     },
     "execution_count": 15,
     "metadata": {},
     "output_type": "execute_result"
    }
   ],
   "source": [
    "25 in a"
   ]
  },
  {
   "cell_type": "code",
   "execution_count": 16,
   "id": "d4588ba6",
   "metadata": {},
   "outputs": [
    {
     "data": {
      "text/plain": [
       "True"
      ]
     },
     "execution_count": 16,
     "metadata": {},
     "output_type": "execute_result"
    }
   ],
   "source": [
    "0 in a"
   ]
  },
  {
   "cell_type": "code",
   "execution_count": 17,
   "id": "e7554167",
   "metadata": {},
   "outputs": [
    {
     "data": {
      "text/plain": [
       "True"
      ]
     },
     "execution_count": 17,
     "metadata": {},
     "output_type": "execute_result"
    }
   ],
   "source": [
    "25 not in a"
   ]
  },
  {
   "cell_type": "code",
   "execution_count": 18,
   "id": "47b34a04",
   "metadata": {},
   "outputs": [
    {
     "data": {
      "text/plain": [
       "False"
      ]
     },
     "execution_count": 18,
     "metadata": {},
     "output_type": "execute_result"
    }
   ],
   "source": [
    "0 not in a"
   ]
  },
  {
   "cell_type": "markdown",
   "id": "1ad97ea2",
   "metadata": {},
   "source": [
    "**Redefinir el tamaño**"
   ]
  },
  {
   "cell_type": "code",
   "execution_count": 19,
   "id": "f9940222",
   "metadata": {},
   "outputs": [
    {
     "data": {
      "text/plain": [
       "array([0, 1, 2, 3, 4, 5])"
      ]
     },
     "execution_count": 19,
     "metadata": {},
     "output_type": "execute_result"
    }
   ],
   "source": [
    "a"
   ]
  },
  {
   "cell_type": "code",
   "execution_count": 20,
   "id": "3209c984",
   "metadata": {},
   "outputs": [
    {
     "data": {
      "text/plain": [
       "array([[0, 1, 2],\n",
       "       [3, 4, 5]])"
      ]
     },
     "execution_count": 20,
     "metadata": {},
     "output_type": "execute_result"
    }
   ],
   "source": [
    "a1 = a.reshape(2, 3)\n",
    "a1"
   ]
  },
  {
   "cell_type": "markdown",
   "id": "b919e5a4",
   "metadata": {},
   "source": [
    "**Generar números en un intervalo**"
   ]
  },
  {
   "cell_type": "code",
   "execution_count": 21,
   "id": "8e47e962",
   "metadata": {},
   "outputs": [
    {
     "data": {
      "text/plain": [
       "array([2, 3, 4, 5, 6])"
      ]
     },
     "execution_count": 21,
     "metadata": {},
     "output_type": "execute_result"
    }
   ],
   "source": [
    "# sin especificar va de 1 en 1\n",
    "b = np.arange(2,7) # 2, 3, 4, 5, 6\n",
    "b"
   ]
  },
  {
   "cell_type": "markdown",
   "id": "d42364fa",
   "metadata": {},
   "source": [
    "**Generar números en un intervalo con salto**"
   ]
  },
  {
   "cell_type": "code",
   "execution_count": 22,
   "id": "5ff94f1f",
   "metadata": {},
   "outputs": [
    {
     "data": {
      "text/plain": [
       "array([10, 15, 20, 25, 30, 35])"
      ]
     },
     "execution_count": 22,
     "metadata": {},
     "output_type": "execute_result"
    }
   ],
   "source": [
    "c = np.arange(10, 40, 5)\n",
    "c"
   ]
  },
  {
   "cell_type": "code",
   "execution_count": 23,
   "id": "1d508b7c",
   "metadata": {},
   "outputs": [
    {
     "data": {
      "text/plain": [
       "array([10, 15, 20, 25, 30, 35, 40])"
      ]
     },
     "execution_count": 23,
     "metadata": {},
     "output_type": "execute_result"
    }
   ],
   "source": [
    "d = np.arange(10, 41, 5)\n",
    "d"
   ]
  },
  {
   "cell_type": "markdown",
   "id": "bdb0ec36",
   "metadata": {},
   "source": [
    "**Un array de varias filas y columnas**"
   ]
  },
  {
   "cell_type": "code",
   "execution_count": 24,
   "id": "d1664c8c",
   "metadata": {},
   "outputs": [
    {
     "data": {
      "text/plain": [
       "array([[1, 2],\n",
       "       [3, 4],\n",
       "       [5, 6]])"
      ]
     },
     "execution_count": 24,
     "metadata": {},
     "output_type": "execute_result"
    }
   ],
   "source": [
    "e = np.array([\n",
    "    [1, 2],\n",
    "    [3, 4],\n",
    "    [5, 6]\n",
    "])\n",
    "e"
   ]
  },
  {
   "cell_type": "code",
   "execution_count": 25,
   "id": "0b44a0cc",
   "metadata": {},
   "outputs": [
    {
     "data": {
      "text/plain": [
       "3"
      ]
     },
     "execution_count": 25,
     "metadata": {},
     "output_type": "execute_result"
    }
   ],
   "source": [
    "len(e)"
   ]
  },
  {
   "cell_type": "code",
   "execution_count": 26,
   "id": "a542cde5",
   "metadata": {},
   "outputs": [
    {
     "data": {
      "text/plain": [
       "(3, 2)"
      ]
     },
     "execution_count": 26,
     "metadata": {},
     "output_type": "execute_result"
    }
   ],
   "source": [
    "e.shape"
   ]
  },
  {
   "cell_type": "code",
   "execution_count": 27,
   "id": "c8121c6f",
   "metadata": {},
   "outputs": [
    {
     "data": {
      "text/plain": [
       "6"
      ]
     },
     "execution_count": 27,
     "metadata": {},
     "output_type": "execute_result"
    }
   ],
   "source": [
    "e.size"
   ]
  },
  {
   "cell_type": "code",
   "execution_count": 28,
   "id": "f157d784",
   "metadata": {},
   "outputs": [
    {
     "data": {
      "text/plain": [
       "array([1, 2])"
      ]
     },
     "execution_count": 28,
     "metadata": {},
     "output_type": "execute_result"
    }
   ],
   "source": [
    "e[0]"
   ]
  },
  {
   "cell_type": "code",
   "execution_count": 29,
   "id": "2b20cb3b",
   "metadata": {},
   "outputs": [
    {
     "name": "stdout",
     "output_type": "stream",
     "text": [
      "1\n",
      "2\n",
      "3\n",
      "4\n",
      "5\n",
      "6\n"
     ]
    }
   ],
   "source": [
    "for i in range(len(e)):\n",
    "    # print(e[i])\n",
    "    for j in range(len(e[i])):\n",
    "        print(e[i][j])"
   ]
  },
  {
   "cell_type": "markdown",
   "id": "8b9d96e5",
   "metadata": {},
   "source": [
    "## Linspace"
   ]
  },
  {
   "cell_type": "code",
   "execution_count": null,
   "id": "d6fc7f29",
   "metadata": {},
   "outputs": [],
   "source": [
    "# Recogemos una muestra de los datos, especificamos: min, max, y cada tantos recoja un valor"
   ]
  },
  {
   "cell_type": "code",
   "execution_count": 30,
   "id": "705e6006",
   "metadata": {},
   "outputs": [
    {
     "data": {
      "text/plain": [
       "array([10., 20.])"
      ]
     },
     "execution_count": 30,
     "metadata": {},
     "output_type": "execute_result"
    }
   ],
   "source": [
    "f = np.linspace(10, 20, 2) # de 10 a 20 con 2 elementos\n",
    "f"
   ]
  },
  {
   "cell_type": "code",
   "execution_count": 31,
   "id": "041138ae",
   "metadata": {},
   "outputs": [
    {
     "data": {
      "text/plain": [
       "array([10. , 12.5, 15. , 17.5, 20. ])"
      ]
     },
     "execution_count": 31,
     "metadata": {},
     "output_type": "execute_result"
    }
   ],
   "source": [
    "g = np.linspace(10, 20, 5) # de 10 a 20 muestra 5\n",
    "g"
   ]
  },
  {
   "cell_type": "code",
   "execution_count": 32,
   "id": "0ade50db",
   "metadata": {},
   "outputs": [
    {
     "data": {
      "text/plain": [
       "array([10., 15., 20.])"
      ]
     },
     "execution_count": 32,
     "metadata": {},
     "output_type": "execute_result"
    }
   ],
   "source": [
    "g1 = np.linspace(10, 20, 3) # de 10 a 20 muestra 3\n",
    "g1"
   ]
  },
  {
   "cell_type": "markdown",
   "id": "89ceea19",
   "metadata": {},
   "source": [
    "## Matrices básicas en numpy"
   ]
  },
  {
   "cell_type": "markdown",
   "id": "5a74c961",
   "metadata": {},
   "source": [
    "### Matriz Identidad: Diagonal principal llena de 1, resto 0"
   ]
  },
  {
   "cell_type": "code",
   "execution_count": 33,
   "id": "81d39b48",
   "metadata": {},
   "outputs": [
    {
     "data": {
      "text/plain": [
       "array([[1., 0., 0.],\n",
       "       [0., 1., 0.],\n",
       "       [0., 0., 1.]])"
      ]
     },
     "execution_count": 33,
     "metadata": {},
     "output_type": "execute_result"
    }
   ],
   "source": [
    "h = np.eye(3) # de 3 filas y 3 columnas --> matriz identidad\n",
    "h"
   ]
  },
  {
   "cell_type": "code",
   "execution_count": 34,
   "id": "01a22b82",
   "metadata": {},
   "outputs": [
    {
     "data": {
      "text/plain": [
       "array([[1., 0., 0., 0., 0.],\n",
       "       [0., 1., 0., 0., 0.],\n",
       "       [0., 0., 1., 0., 0.],\n",
       "       [0., 0., 0., 1., 0.],\n",
       "       [0., 0., 0., 0., 1.]])"
      ]
     },
     "execution_count": 34,
     "metadata": {},
     "output_type": "execute_result"
    }
   ],
   "source": [
    "i = np.eye(5) # Matriz de 5 filas y 5 columnas \n",
    "i"
   ]
  },
  {
   "cell_type": "markdown",
   "id": "b1b36ac5",
   "metadata": {},
   "source": [
    "### Matriz identidad multiplicada por un valor"
   ]
  },
  {
   "cell_type": "code",
   "execution_count": 35,
   "id": "e8501cac",
   "metadata": {},
   "outputs": [
    {
     "data": {
      "text/plain": [
       "array([[5., 0., 0., 0., 0.],\n",
       "       [0., 5., 0., 0., 0.],\n",
       "       [0., 0., 5., 0., 0.],\n",
       "       [0., 0., 0., 5., 0.],\n",
       "       [0., 0., 0., 0., 5.]])"
      ]
     },
     "execution_count": 35,
     "metadata": {},
     "output_type": "execute_result"
    }
   ],
   "source": [
    "j = 5 * i\n",
    "j"
   ]
  },
  {
   "cell_type": "markdown",
   "id": "d291d552",
   "metadata": {},
   "source": [
    "### Matriz de todo 1"
   ]
  },
  {
   "cell_type": "code",
   "execution_count": 36,
   "id": "55ef8599",
   "metadata": {},
   "outputs": [
    {
     "data": {
      "text/plain": [
       "array([[1., 1., 1., 1.],\n",
       "       [1., 1., 1., 1.],\n",
       "       [1., 1., 1., 1.]])"
      ]
     },
     "execution_count": 36,
     "metadata": {},
     "output_type": "execute_result"
    }
   ],
   "source": [
    "k = np.ones((3, 4)) # Matriz de 3 filas por 4 columnas --> valores 1\n",
    "k"
   ]
  },
  {
   "cell_type": "markdown",
   "id": "9ea90163",
   "metadata": {},
   "source": [
    "### Matriz de todo 0"
   ]
  },
  {
   "cell_type": "code",
   "execution_count": 37,
   "id": "1a7d2369",
   "metadata": {},
   "outputs": [
    {
     "data": {
      "text/plain": [
       "array([[0., 0., 0., 0.],\n",
       "       [0., 0., 0., 0.],\n",
       "       [0., 0., 0., 0.]])"
      ]
     },
     "execution_count": 37,
     "metadata": {},
     "output_type": "execute_result"
    }
   ],
   "source": [
    "l = np.zeros((3, 4)) # Matriz de 0s --> 3 filas por 4 columnas\n",
    "l"
   ]
  },
  {
   "cell_type": "code",
   "execution_count": 38,
   "id": "9ce77399",
   "metadata": {},
   "outputs": [
    {
     "data": {
      "text/plain": [
       "array([[0., 0.],\n",
       "       [0., 0.],\n",
       "       [0., 0.],\n",
       "       [0., 0.],\n",
       "       [0., 0.],\n",
       "       [0., 0.]])"
      ]
     },
     "execution_count": 38,
     "metadata": {},
     "output_type": "execute_result"
    }
   ],
   "source": [
    "l2 = np.zeros((6, 2))\n",
    "l2"
   ]
  },
  {
   "cell_type": "markdown",
   "id": "b348cf7c",
   "metadata": {},
   "source": [
    "### Transpuesta de una matriz"
   ]
  },
  {
   "cell_type": "markdown",
   "id": "f7da5f79",
   "metadata": {},
   "source": [
    "**Intercambio de filas por columnas**"
   ]
  },
  {
   "cell_type": "code",
   "execution_count": 39,
   "id": "a7f9146f",
   "metadata": {},
   "outputs": [
    {
     "data": {
      "text/plain": [
       "array([[1, 2, 3],\n",
       "       [4, 5, 6]])"
      ]
     },
     "execution_count": 39,
     "metadata": {},
     "output_type": "execute_result"
    }
   ],
   "source": [
    "m = np.array([[1, 2, 3],\n",
    "             [4, 5, 6]])\n",
    "m"
   ]
  },
  {
   "cell_type": "code",
   "execution_count": 40,
   "id": "fe4a9b39",
   "metadata": {},
   "outputs": [
    {
     "data": {
      "text/plain": [
       "array([[1, 4],\n",
       "       [2, 5],\n",
       "       [3, 6]])"
      ]
     },
     "execution_count": 40,
     "metadata": {},
     "output_type": "execute_result"
    }
   ],
   "source": [
    "# Opción 1\n",
    "m.transpose()"
   ]
  },
  {
   "cell_type": "code",
   "execution_count": 41,
   "id": "a2b77e50",
   "metadata": {},
   "outputs": [
    {
     "data": {
      "text/plain": [
       "array([[1, 4],\n",
       "       [2, 5],\n",
       "       [3, 6]])"
      ]
     },
     "execution_count": 41,
     "metadata": {},
     "output_type": "execute_result"
    }
   ],
   "source": [
    "# Opción 2\n",
    "m.T"
   ]
  },
  {
   "cell_type": "markdown",
   "id": "001be80f",
   "metadata": {},
   "source": [
    "### ALL y ANY"
   ]
  },
  {
   "cell_type": "code",
   "execution_count": 42,
   "id": "bc9bd2ce",
   "metadata": {},
   "outputs": [
    {
     "data": {
      "text/plain": [
       "array([[1, 2, 3],\n",
       "       [4, 5, 6]])"
      ]
     },
     "execution_count": 42,
     "metadata": {},
     "output_type": "execute_result"
    }
   ],
   "source": [
    "n = np.array([[1, 2, 3],\n",
    "             [4, 5, 6]])\n",
    "n"
   ]
  },
  {
   "cell_type": "code",
   "execution_count": 43,
   "id": "603b9be8",
   "metadata": {},
   "outputs": [
    {
     "data": {
      "text/plain": [
       "True"
      ]
     },
     "execution_count": 43,
     "metadata": {},
     "output_type": "execute_result"
    }
   ],
   "source": [
    "# ALL --> ¿Todos los elementos son mayores de 0? --> True/False\n",
    "np.all(n>0)"
   ]
  },
  {
   "cell_type": "code",
   "execution_count": 44,
   "id": "fe58fabb",
   "metadata": {},
   "outputs": [
    {
     "data": {
      "text/plain": [
       "False"
      ]
     },
     "execution_count": 44,
     "metadata": {},
     "output_type": "execute_result"
    }
   ],
   "source": [
    "np.all(n>2)"
   ]
  },
  {
   "cell_type": "code",
   "execution_count": 45,
   "id": "66d4e618",
   "metadata": {},
   "outputs": [
    {
     "data": {
      "text/plain": [
       "True"
      ]
     },
     "execution_count": 45,
     "metadata": {},
     "output_type": "execute_result"
    }
   ],
   "source": [
    "# ANY --> ¿Algún elemento son mayores de 2?\n",
    "np.any(n>2)"
   ]
  },
  {
   "cell_type": "markdown",
   "id": "fdfde49a",
   "metadata": {},
   "source": [
    "### Función Ravel"
   ]
  },
  {
   "cell_type": "code",
   "execution_count": 46,
   "id": "a1b400c6",
   "metadata": {},
   "outputs": [],
   "source": [
    "# Pone en una sola dimensión una matriz"
   ]
  },
  {
   "cell_type": "code",
   "execution_count": 47,
   "id": "400b3fb0",
   "metadata": {},
   "outputs": [
    {
     "data": {
      "text/plain": [
       "array([[1, 2, 3],\n",
       "       [4, 5, 6]])"
      ]
     },
     "execution_count": 47,
     "metadata": {},
     "output_type": "execute_result"
    }
   ],
   "source": [
    "p = np.array([[1, 2, 3],\n",
    "             [4, 5, 6]])\n",
    "p"
   ]
  },
  {
   "cell_type": "code",
   "execution_count": 48,
   "id": "04b76421",
   "metadata": {},
   "outputs": [
    {
     "data": {
      "text/plain": [
       "array([1, 2, 3, 4, 5, 6])"
      ]
     },
     "execution_count": 48,
     "metadata": {},
     "output_type": "execute_result"
    }
   ],
   "source": [
    "# np.ravel(matriz a modificar)\n",
    "np.ravel(p)"
   ]
  },
  {
   "cell_type": "code",
   "execution_count": 49,
   "id": "34555d1a",
   "metadata": {},
   "outputs": [
    {
     "data": {
      "text/plain": [
       "array([[1, 2, 3],\n",
       "       [4, 5, 6],\n",
       "       [7, 8, 9]])"
      ]
     },
     "execution_count": 49,
     "metadata": {},
     "output_type": "execute_result"
    }
   ],
   "source": [
    "p1 = np.array([[1, 2, 3],\n",
    "               [4, 5, 6],\n",
    "               [7, 8, 9]])\n",
    "p1"
   ]
  },
  {
   "cell_type": "code",
   "execution_count": 50,
   "id": "83e86297",
   "metadata": {},
   "outputs": [
    {
     "data": {
      "text/plain": [
       "array([1, 2, 3, 4, 5, 6, 7, 8, 9])"
      ]
     },
     "execution_count": 50,
     "metadata": {},
     "output_type": "execute_result"
    }
   ],
   "source": [
    "np.ravel(p1)"
   ]
  },
  {
   "cell_type": "markdown",
   "id": "e4bfa5d5",
   "metadata": {},
   "source": [
    "### Flatten"
   ]
  },
  {
   "cell_type": "code",
   "execution_count": null,
   "id": "2d7abdb2",
   "metadata": {},
   "outputs": [],
   "source": [
    "# Es una copia del array pero en 1 sola dimensión"
   ]
  },
  {
   "cell_type": "code",
   "execution_count": 51,
   "id": "d9b80579",
   "metadata": {},
   "outputs": [
    {
     "data": {
      "text/plain": [
       "array([[1, 2, 3],\n",
       "       [4, 5, 6],\n",
       "       [7, 8, 9]])"
      ]
     },
     "execution_count": 51,
     "metadata": {},
     "output_type": "execute_result"
    }
   ],
   "source": [
    "matriz = np.array([[1, 2, 3],\n",
    "                  [4, 5, 6],\n",
    "                  [7, 8, 9]])\n",
    "matriz"
   ]
  },
  {
   "cell_type": "code",
   "execution_count": 52,
   "id": "19d8e700",
   "metadata": {},
   "outputs": [
    {
     "data": {
      "text/plain": [
       "array([1, 2, 3, 4, 5, 6, 7, 8, 9])"
      ]
     },
     "execution_count": 52,
     "metadata": {},
     "output_type": "execute_result"
    }
   ],
   "source": [
    "# nombre matriz + flatten()\n",
    "matriz.flatten()"
   ]
  },
  {
   "cell_type": "code",
   "execution_count": 53,
   "id": "2519a2c9",
   "metadata": {},
   "outputs": [],
   "source": [
    "m = matriz.flatten()"
   ]
  },
  {
   "cell_type": "code",
   "execution_count": 54,
   "id": "dc30d6a7",
   "metadata": {},
   "outputs": [
    {
     "data": {
      "text/plain": [
       "(9,)"
      ]
     },
     "execution_count": 54,
     "metadata": {},
     "output_type": "execute_result"
    }
   ],
   "source": [
    "m.shape"
   ]
  },
  {
   "cell_type": "markdown",
   "id": "a4f87192",
   "metadata": {},
   "source": [
    "### Roll"
   ]
  },
  {
   "cell_type": "code",
   "execution_count": 55,
   "id": "47f50ee4",
   "metadata": {},
   "outputs": [],
   "source": [
    "# np.roll(array, desplazamiento, eje)\n",
    "# Desplaza los elementos de manera circular a través de una dimensión"
   ]
  },
  {
   "cell_type": "code",
   "execution_count": 56,
   "id": "61e8e006",
   "metadata": {},
   "outputs": [
    {
     "data": {
      "text/plain": [
       "array([[ 1,  2,  3,  4],\n",
       "       [ 5,  6,  7,  8],\n",
       "       [ 9, 10, 11, 12]])"
      ]
     },
     "execution_count": 56,
     "metadata": {},
     "output_type": "execute_result"
    }
   ],
   "source": [
    "b = np.array([[1, 2, 3, 4],\n",
    "              [5, 6, 7, 8],\n",
    "              [9, 10, 11, 12]])\n",
    "b"
   ]
  },
  {
   "cell_type": "code",
   "execution_count": 57,
   "id": "119ebd50",
   "metadata": {},
   "outputs": [
    {
     "data": {
      "text/plain": [
       "array([[ 9, 10, 11, 12],\n",
       "       [ 1,  2,  3,  4],\n",
       "       [ 5,  6,  7,  8]])"
      ]
     },
     "execution_count": 57,
     "metadata": {},
     "output_type": "execute_result"
    }
   ],
   "source": [
    "# Desplazamiento= 1 y eje horizontal\n",
    "np.roll(b, 1, axis=0)"
   ]
  },
  {
   "cell_type": "code",
   "execution_count": 58,
   "id": "a56ffcf3",
   "metadata": {},
   "outputs": [
    {
     "data": {
      "text/plain": [
       "array([[ 4,  1,  2,  3],\n",
       "       [ 8,  5,  6,  7],\n",
       "       [12,  9, 10, 11]])"
      ]
     },
     "execution_count": 58,
     "metadata": {},
     "output_type": "execute_result"
    }
   ],
   "source": [
    "# Desplazamiento = 1 y eje vertical\n",
    "np.roll(b, 1, axis=1)"
   ]
  },
  {
   "cell_type": "code",
   "execution_count": 59,
   "id": "12672894",
   "metadata": {},
   "outputs": [
    {
     "data": {
      "text/plain": [
       "array([[ 5,  6,  7,  8],\n",
       "       [ 9, 10, 11, 12],\n",
       "       [ 1,  2,  3,  4]])"
      ]
     },
     "execution_count": 59,
     "metadata": {},
     "output_type": "execute_result"
    }
   ],
   "source": [
    "# Desplazamiento= -1 y eje horizontal\n",
    "np.roll(b, -1, axis=0)"
   ]
  },
  {
   "cell_type": "code",
   "execution_count": 60,
   "id": "69aa0319",
   "metadata": {},
   "outputs": [
    {
     "data": {
      "text/plain": [
       "array([[ 2,  3,  4,  1],\n",
       "       [ 6,  7,  8,  5],\n",
       "       [10, 11, 12,  9]])"
      ]
     },
     "execution_count": 60,
     "metadata": {},
     "output_type": "execute_result"
    }
   ],
   "source": [
    "# Desplazamiento = -1 y eje vertical\n",
    "np.roll(b, -1, axis=1)"
   ]
  },
  {
   "cell_type": "markdown",
   "id": "812e105c",
   "metadata": {},
   "source": [
    "### logspace"
   ]
  },
  {
   "cell_type": "code",
   "execution_count": 61,
   "id": "fe20d9b9",
   "metadata": {},
   "outputs": [],
   "source": [
    "# Array de elementos logarítmicos espaciados"
   ]
  },
  {
   "cell_type": "code",
   "execution_count": 62,
   "id": "d5126c61",
   "metadata": {},
   "outputs": [
    {
     "data": {
      "text/plain": [
       "array([ 1.        ,  3.16227766, 10.        ])"
      ]
     },
     "execution_count": 62,
     "metadata": {},
     "output_type": "execute_result"
    }
   ],
   "source": [
    "# np.logspace(10^inicio, 10^fin, divisiones(elementos))\n",
    "# como en linspace se incluye los extremos (inicios-->fin)\n",
    "c = np.logspace(0, 1, 3)\n",
    "c"
   ]
  },
  {
   "cell_type": "code",
   "execution_count": 63,
   "id": "ac56bbe6",
   "metadata": {},
   "outputs": [],
   "source": [
    "# 10^0 = 1 ; 10^1 = 1; 3 divisiones(elementos)"
   ]
  },
  {
   "cell_type": "markdown",
   "id": "4eb11387",
   "metadata": {},
   "source": [
    "$$ 10^0 = 1\\,\\,\\,\\,y\\,\\,\\,\\, 10^1=1\\,\\,\\,\\,3 divisiones(elementos) $$"
   ]
  },
  {
   "cell_type": "markdown",
   "id": "3ae1efaf",
   "metadata": {},
   "source": [
    "### Acceso a un elemento de un array"
   ]
  },
  {
   "cell_type": "code",
   "execution_count": 65,
   "id": "4b63ea2d",
   "metadata": {},
   "outputs": [
    {
     "data": {
      "text/plain": [
       "array([[1, 2, 3],\n",
       "       [4, 5, 6],\n",
       "       [7, 8, 9]])"
      ]
     },
     "execution_count": 65,
     "metadata": {},
     "output_type": "execute_result"
    }
   ],
   "source": [
    "q = np.array([[1, 2, 3],\n",
    "              [4, 5, 6],\n",
    "              [7, 8, 9]])\n",
    "q"
   ]
  },
  {
   "cell_type": "code",
   "execution_count": 66,
   "id": "9a7f5cc0",
   "metadata": {},
   "outputs": [
    {
     "data": {
      "text/plain": [
       "8"
      ]
     },
     "execution_count": 66,
     "metadata": {},
     "output_type": "execute_result"
    }
   ],
   "source": [
    "# Opción 1\n",
    "q[2][1] # --> fila 2 y columna 1 (listas 0, 1, 2)"
   ]
  },
  {
   "cell_type": "code",
   "execution_count": 67,
   "id": "4ad59641",
   "metadata": {},
   "outputs": [
    {
     "data": {
      "text/plain": [
       "3"
      ]
     },
     "execution_count": 67,
     "metadata": {},
     "output_type": "execute_result"
    }
   ],
   "source": [
    "q[0][2]"
   ]
  },
  {
   "cell_type": "code",
   "execution_count": 68,
   "id": "ed83599a",
   "metadata": {},
   "outputs": [
    {
     "data": {
      "text/plain": [
       "8"
      ]
     },
     "execution_count": 68,
     "metadata": {},
     "output_type": "execute_result"
    }
   ],
   "source": [
    "# Opción 2\n",
    "q[2, 1]"
   ]
  },
  {
   "cell_type": "code",
   "execution_count": 69,
   "id": "7ee7896b",
   "metadata": {},
   "outputs": [
    {
     "data": {
      "text/plain": [
       "array([[1, 2, 3],\n",
       "       [4, 5, 6]])"
      ]
     },
     "execution_count": 69,
     "metadata": {},
     "output_type": "execute_result"
    }
   ],
   "source": [
    "# dos primeras filas (: --> todas)\n",
    "q[:2]"
   ]
  },
  {
   "cell_type": "code",
   "execution_count": 70,
   "id": "cab21108",
   "metadata": {},
   "outputs": [
    {
     "data": {
      "text/plain": [
       "array([[7, 8, 9]])"
      ]
     },
     "execution_count": 70,
     "metadata": {},
     "output_type": "execute_result"
    }
   ],
   "source": [
    "q[2:]"
   ]
  },
  {
   "cell_type": "code",
   "execution_count": 71,
   "id": "16f16af2",
   "metadata": {},
   "outputs": [
    {
     "data": {
      "text/plain": [
       "array([[1],\n",
       "       [4],\n",
       "       [7]])"
      ]
     },
     "execution_count": 71,
     "metadata": {},
     "output_type": "execute_result"
    }
   ],
   "source": [
    "# Filtrar por columnas\n",
    "q[:,[0]]"
   ]
  },
  {
   "cell_type": "code",
   "execution_count": 72,
   "id": "27f5d0bc",
   "metadata": {},
   "outputs": [
    {
     "data": {
      "text/plain": [
       "array([[1, 2],\n",
       "       [4, 5],\n",
       "       [7, 8]])"
      ]
     },
     "execution_count": 72,
     "metadata": {},
     "output_type": "execute_result"
    }
   ],
   "source": [
    "# Filtrar por columnas\n",
    "q[:,[0,1]]"
   ]
  },
  {
   "cell_type": "markdown",
   "id": "e637d074",
   "metadata": {},
   "source": [
    "### Algunas operaciones"
   ]
  },
  {
   "cell_type": "code",
   "execution_count": null,
   "id": "7ec51ad3",
   "metadata": {},
   "outputs": [],
   "source": [
    "# Potencias"
   ]
  },
  {
   "cell_type": "code",
   "execution_count": 73,
   "id": "1bd986a0",
   "metadata": {},
   "outputs": [
    {
     "data": {
      "text/plain": [
       "array([1, 2, 3, 4])"
      ]
     },
     "execution_count": 73,
     "metadata": {},
     "output_type": "execute_result"
    }
   ],
   "source": [
    "r = np.array([1, 2, 3, 4])\n",
    "r"
   ]
  },
  {
   "cell_type": "code",
   "execution_count": 74,
   "id": "ebbc1d24",
   "metadata": {},
   "outputs": [],
   "source": [
    "# Método 1"
   ]
  },
  {
   "cell_type": "code",
   "execution_count": 75,
   "id": "3d73e140",
   "metadata": {},
   "outputs": [
    {
     "data": {
      "text/plain": [
       "array([ 1,  4,  9, 16])"
      ]
     },
     "execution_count": 75,
     "metadata": {},
     "output_type": "execute_result"
    }
   ],
   "source": [
    "r**2 # 1^1, 2^2, 3^3, 4^4"
   ]
  },
  {
   "cell_type": "code",
   "execution_count": null,
   "id": "8ec664f8",
   "metadata": {},
   "outputs": [],
   "source": [
    "# Método 2 "
   ]
  },
  {
   "cell_type": "code",
   "execution_count": 76,
   "id": "8878b983",
   "metadata": {},
   "outputs": [
    {
     "data": {
      "text/plain": [
       "array([ 1,  4,  9, 16])"
      ]
     },
     "execution_count": 76,
     "metadata": {},
     "output_type": "execute_result"
    }
   ],
   "source": [
    "pow(r, 2)"
   ]
  },
  {
   "cell_type": "markdown",
   "id": "8c2c193e",
   "metadata": {},
   "source": [
    "## Comparación entre Arrays"
   ]
  },
  {
   "cell_type": "code",
   "execution_count": null,
   "id": "d721ac37",
   "metadata": {},
   "outputs": [],
   "source": [
    "# Creamos los arrays"
   ]
  },
  {
   "cell_type": "code",
   "execution_count": 77,
   "id": "87975bb5",
   "metadata": {},
   "outputs": [
    {
     "data": {
      "text/plain": [
       "array([[1, 2, 3],\n",
       "       [4, 5, 6]])"
      ]
     },
     "execution_count": 77,
     "metadata": {},
     "output_type": "execute_result"
    }
   ],
   "source": [
    "s = np.array([\n",
    "    [1, 2, 3],\n",
    "    [4, 5, 6]\n",
    "])\n",
    "s"
   ]
  },
  {
   "cell_type": "code",
   "execution_count": 78,
   "id": "f91e3a13",
   "metadata": {},
   "outputs": [
    {
     "data": {
      "text/plain": [
       "array([[100, 200,   3],\n",
       "       [400,   5,   6]])"
      ]
     },
     "execution_count": 78,
     "metadata": {},
     "output_type": "execute_result"
    }
   ],
   "source": [
    "t = np.array([\n",
    "    [100, 200, 3],\n",
    "    [400, 5, 6]\n",
    "])\n",
    "t"
   ]
  },
  {
   "cell_type": "markdown",
   "id": "10eda49d",
   "metadata": {},
   "source": [
    "**Los comparo**"
   ]
  },
  {
   "cell_type": "markdown",
   "id": "8ac6a72f",
   "metadata": {},
   "source": [
    "**np.where(condicion, si es cierto, si es falso)**"
   ]
  },
  {
   "cell_type": "code",
   "execution_count": 79,
   "id": "6c2dfa55",
   "metadata": {},
   "outputs": [
    {
     "data": {
      "text/plain": [
       "array([['False', 'False', 'True'],\n",
       "       ['False', 'True', 'True']], dtype='<U5')"
      ]
     },
     "execution_count": 79,
     "metadata": {},
     "output_type": "execute_result"
    }
   ],
   "source": [
    "np.where(s==t, \"True\", \"False\")"
   ]
  },
  {
   "cell_type": "code",
   "execution_count": 80,
   "id": "ed32f30a",
   "metadata": {},
   "outputs": [
    {
     "data": {
      "text/plain": [
       "array([['No', 'No', 'Si'],\n",
       "       ['No', 'Si', 'Si']], dtype='<U2')"
      ]
     },
     "execution_count": 80,
     "metadata": {},
     "output_type": "execute_result"
    }
   ],
   "source": [
    "np.where(s==t, \"Si\", \"No\")"
   ]
  },
  {
   "cell_type": "code",
   "execution_count": 81,
   "id": "9a7e8459",
   "metadata": {},
   "outputs": [
    {
     "data": {
      "text/plain": [
       "array([[0, 0, 1],\n",
       "       [0, 1, 1]])"
      ]
     },
     "execution_count": 81,
     "metadata": {},
     "output_type": "execute_result"
    }
   ],
   "source": [
    "np.where(s==t, 1, 0)"
   ]
  },
  {
   "cell_type": "markdown",
   "id": "bf5daaf2",
   "metadata": {},
   "source": [
    "## Producto escalar y producto vectorial de 2 vectores"
   ]
  },
  {
   "cell_type": "code",
   "execution_count": 82,
   "id": "2b351e53",
   "metadata": {},
   "outputs": [
    {
     "data": {
      "text/plain": [
       "array([1, 2, 3])"
      ]
     },
     "execution_count": 82,
     "metadata": {},
     "output_type": "execute_result"
    }
   ],
   "source": [
    "w = np.array([1, 2, 3])\n",
    "w"
   ]
  },
  {
   "cell_type": "code",
   "execution_count": 83,
   "id": "c96e6476",
   "metadata": {},
   "outputs": [
    {
     "data": {
      "text/plain": [
       "array([ 2,  5, -4])"
      ]
     },
     "execution_count": 83,
     "metadata": {},
     "output_type": "execute_result"
    }
   ],
   "source": [
    "x = np.array([2, 5, -4])\n",
    "x"
   ]
  },
  {
   "cell_type": "markdown",
   "id": "8562324e",
   "metadata": {},
   "source": [
    "**Producto escalar:**"
   ]
  },
  {
   "cell_type": "code",
   "execution_count": null,
   "id": "79333245",
   "metadata": {},
   "outputs": [],
   "source": [
    "# w * x = ((1*2) + (2*5) + (3*-4))"
   ]
  },
  {
   "cell_type": "code",
   "execution_count": 84,
   "id": "f0e67898",
   "metadata": {},
   "outputs": [
    {
     "data": {
      "text/plain": [
       "0"
      ]
     },
     "execution_count": 84,
     "metadata": {},
     "output_type": "execute_result"
    }
   ],
   "source": [
    "# np.dot(matriz1, matriz2)\n",
    "np.dot(w,x)"
   ]
  },
  {
   "cell_type": "markdown",
   "id": "e8290fff",
   "metadata": {},
   "source": [
    "**Producto Vectorial:**"
   ]
  },
  {
   "cell_type": "code",
   "execution_count": null,
   "id": "e7e771f7",
   "metadata": {},
   "outputs": [],
   "source": [
    "## Producto Vectorial\n",
    "\n",
    "# i j k\n",
    "# 1 2 3\n",
    "# 2 5 -4\n",
    "\n",
    "# y se opera:\n",
    "# -8i+5K+6j -(-4k-4j+15i) = -23i+10j+1k --> (-23, 10, 1)"
   ]
  },
  {
   "cell_type": "code",
   "execution_count": 85,
   "id": "8d5d7db5",
   "metadata": {},
   "outputs": [
    {
     "data": {
      "text/plain": [
       "array([-23,  10,   1])"
      ]
     },
     "execution_count": 85,
     "metadata": {},
     "output_type": "execute_result"
    }
   ],
   "source": [
    "np.cross(w, x)"
   ]
  },
  {
   "cell_type": "markdown",
   "id": "0dc9441e",
   "metadata": {},
   "source": [
    "## Concatenación de arrays"
   ]
  },
  {
   "cell_type": "markdown",
   "id": "8033500b",
   "metadata": {},
   "source": [
    "**Crear los arrays**"
   ]
  },
  {
   "cell_type": "code",
   "execution_count": 86,
   "id": "ee265d2f",
   "metadata": {},
   "outputs": [
    {
     "data": {
      "text/plain": [
       "array([[1, 2],\n",
       "       [3, 4]])"
      ]
     },
     "execution_count": 86,
     "metadata": {},
     "output_type": "execute_result"
    }
   ],
   "source": [
    "y = np.array([\n",
    "    [1, 2],\n",
    "    [3, 4]\n",
    "])\n",
    "y"
   ]
  },
  {
   "cell_type": "code",
   "execution_count": 87,
   "id": "e4247c60",
   "metadata": {},
   "outputs": [],
   "source": [
    "z = np.array([\n",
    "    [5, 6]\n",
    "])"
   ]
  },
  {
   "cell_type": "markdown",
   "id": "a8ea7a6f",
   "metadata": {},
   "source": [
    "**Concatenación por filas**"
   ]
  },
  {
   "cell_type": "code",
   "execution_count": 88,
   "id": "5ef71590",
   "metadata": {},
   "outputs": [
    {
     "data": {
      "text/plain": [
       "array([[1, 2],\n",
       "       [3, 4],\n",
       "       [5, 6]])"
      ]
     },
     "execution_count": 88,
     "metadata": {},
     "output_type": "execute_result"
    }
   ],
   "source": [
    "np.concatenate((y,z), axis=0)"
   ]
  },
  {
   "cell_type": "markdown",
   "id": "b3559ebb",
   "metadata": {},
   "source": [
    "**Concatenación por colunmas**"
   ]
  },
  {
   "cell_type": "code",
   "execution_count": 89,
   "id": "cddf3a18",
   "metadata": {},
   "outputs": [
    {
     "data": {
      "text/plain": [
       "array([[5],\n",
       "       [6]])"
      ]
     },
     "execution_count": 89,
     "metadata": {},
     "output_type": "execute_result"
    }
   ],
   "source": [
    "z1 = z.transpose()\n",
    "z1"
   ]
  },
  {
   "cell_type": "code",
   "execution_count": 90,
   "id": "5863af18",
   "metadata": {},
   "outputs": [
    {
     "data": {
      "text/plain": [
       "array([[1, 2, 5],\n",
       "       [3, 4, 6]])"
      ]
     },
     "execution_count": 90,
     "metadata": {},
     "output_type": "execute_result"
    }
   ],
   "source": [
    "np.concatenate((y,z1), axis=1)"
   ]
  },
  {
   "cell_type": "markdown",
   "id": "0856d89e",
   "metadata": {},
   "source": [
    "## Matriz con \"matrix\""
   ]
  },
  {
   "cell_type": "code",
   "execution_count": 91,
   "id": "b550bbdf",
   "metadata": {},
   "outputs": [
    {
     "data": {
      "text/plain": [
       "matrix([[ 4, -3, 11,  1],\n",
       "        [ 5,  9,  7,  2],\n",
       "        [ 2,  3,  4,  1],\n",
       "        [ 5,  3, -5, -9]])"
      ]
     },
     "execution_count": 91,
     "metadata": {},
     "output_type": "execute_result"
    }
   ],
   "source": [
    "# 4 filas 4 columnas\n",
    "u = np.matrix([\n",
    "    [4, -3, 11, 1],\n",
    "    [5, 9, 7, 2],\n",
    "    [2, 3, 4, 1],\n",
    "    [5, 3, -5, -9]\n",
    "])\n",
    "u"
   ]
  },
  {
   "cell_type": "code",
   "execution_count": 92,
   "id": "7dc26e6d",
   "metadata": {},
   "outputs": [
    {
     "data": {
      "text/plain": [
       "matrix([[4, 9, 1, 3]])"
      ]
     },
     "execution_count": 92,
     "metadata": {},
     "output_type": "execute_result"
    }
   ],
   "source": [
    "# 1 fila y 4 columnas\n",
    "v = np.matrix([4, 9, 1, 3])\n",
    "v"
   ]
  },
  {
   "cell_type": "markdown",
   "id": "cc0e85de",
   "metadata": {},
   "source": [
    "**Suma**"
   ]
  },
  {
   "cell_type": "code",
   "execution_count": 93,
   "id": "1137e7f1",
   "metadata": {},
   "outputs": [
    {
     "data": {
      "text/plain": [
       "matrix([[ 8,  6, 12,  4],\n",
       "        [ 9, 18,  8,  5],\n",
       "        [ 6, 12,  5,  4],\n",
       "        [ 9, 12, -4, -6]])"
      ]
     },
     "execution_count": 93,
     "metadata": {},
     "output_type": "execute_result"
    }
   ],
   "source": [
    "u + v"
   ]
  },
  {
   "cell_type": "markdown",
   "id": "f10392d4",
   "metadata": {},
   "source": [
    "**Resta**"
   ]
  },
  {
   "cell_type": "code",
   "execution_count": 94,
   "id": "a541124e",
   "metadata": {},
   "outputs": [
    {
     "data": {
      "text/plain": [
       "matrix([[  0, -12,  10,  -2],\n",
       "        [  1,   0,   6,  -1],\n",
       "        [ -2,  -6,   3,  -2],\n",
       "        [  1,  -6,  -6, -12]])"
      ]
     },
     "execution_count": 94,
     "metadata": {},
     "output_type": "execute_result"
    }
   ],
   "source": [
    "u - v"
   ]
  },
  {
   "cell_type": "markdown",
   "id": "274ffa22",
   "metadata": {},
   "source": [
    "**Producto**"
   ]
  },
  {
   "cell_type": "code",
   "execution_count": 95,
   "id": "94ca24c7",
   "metadata": {},
   "outputs": [
    {
     "ename": "ValueError",
     "evalue": "shapes (4,4) and (1,4) not aligned: 4 (dim 1) != 1 (dim 0)",
     "output_type": "error",
     "traceback": [
      "\u001b[0;31m---------------------------------------------------------------------------\u001b[0m",
      "\u001b[0;31mValueError\u001b[0m                                Traceback (most recent call last)",
      "\u001b[0;32m<ipython-input-95-af2d39225de8>\u001b[0m in \u001b[0;36m<module>\u001b[0;34m\u001b[0m\n\u001b[0;32m----> 1\u001b[0;31m \u001b[0mu\u001b[0m \u001b[0;34m*\u001b[0m \u001b[0mv\u001b[0m\u001b[0;34m\u001b[0m\u001b[0;34m\u001b[0m\u001b[0m\n\u001b[0m",
      "\u001b[0;32m~/.local/lib/python3.8/site-packages/numpy/matrixlib/defmatrix.py\u001b[0m in \u001b[0;36m__mul__\u001b[0;34m(self, other)\u001b[0m\n\u001b[1;32m    216\u001b[0m         \u001b[0;32mif\u001b[0m \u001b[0misinstance\u001b[0m\u001b[0;34m(\u001b[0m\u001b[0mother\u001b[0m\u001b[0;34m,\u001b[0m \u001b[0;34m(\u001b[0m\u001b[0mN\u001b[0m\u001b[0;34m.\u001b[0m\u001b[0mndarray\u001b[0m\u001b[0;34m,\u001b[0m \u001b[0mlist\u001b[0m\u001b[0;34m,\u001b[0m \u001b[0mtuple\u001b[0m\u001b[0;34m)\u001b[0m\u001b[0;34m)\u001b[0m \u001b[0;34m:\u001b[0m\u001b[0;34m\u001b[0m\u001b[0;34m\u001b[0m\u001b[0m\n\u001b[1;32m    217\u001b[0m             \u001b[0;31m# This promotes 1-D vectors to row vectors\u001b[0m\u001b[0;34m\u001b[0m\u001b[0;34m\u001b[0m\u001b[0;34m\u001b[0m\u001b[0m\n\u001b[0;32m--> 218\u001b[0;31m             \u001b[0;32mreturn\u001b[0m \u001b[0mN\u001b[0m\u001b[0;34m.\u001b[0m\u001b[0mdot\u001b[0m\u001b[0;34m(\u001b[0m\u001b[0mself\u001b[0m\u001b[0;34m,\u001b[0m \u001b[0masmatrix\u001b[0m\u001b[0;34m(\u001b[0m\u001b[0mother\u001b[0m\u001b[0;34m)\u001b[0m\u001b[0;34m)\u001b[0m\u001b[0;34m\u001b[0m\u001b[0;34m\u001b[0m\u001b[0m\n\u001b[0m\u001b[1;32m    219\u001b[0m         \u001b[0;32mif\u001b[0m \u001b[0misscalar\u001b[0m\u001b[0;34m(\u001b[0m\u001b[0mother\u001b[0m\u001b[0;34m)\u001b[0m \u001b[0;32mor\u001b[0m \u001b[0;32mnot\u001b[0m \u001b[0mhasattr\u001b[0m\u001b[0;34m(\u001b[0m\u001b[0mother\u001b[0m\u001b[0;34m,\u001b[0m \u001b[0;34m'__rmul__'\u001b[0m\u001b[0;34m)\u001b[0m \u001b[0;34m:\u001b[0m\u001b[0;34m\u001b[0m\u001b[0;34m\u001b[0m\u001b[0m\n\u001b[1;32m    220\u001b[0m             \u001b[0;32mreturn\u001b[0m \u001b[0mN\u001b[0m\u001b[0;34m.\u001b[0m\u001b[0mdot\u001b[0m\u001b[0;34m(\u001b[0m\u001b[0mself\u001b[0m\u001b[0;34m,\u001b[0m \u001b[0mother\u001b[0m\u001b[0;34m)\u001b[0m\u001b[0;34m\u001b[0m\u001b[0;34m\u001b[0m\u001b[0m\n",
      "\u001b[0;32m<__array_function__ internals>\u001b[0m in \u001b[0;36mdot\u001b[0;34m(*args, **kwargs)\u001b[0m\n",
      "\u001b[0;31mValueError\u001b[0m: shapes (4,4) and (1,4) not aligned: 4 (dim 1) != 1 (dim 0)"
     ]
    }
   ],
   "source": [
    "u * v"
   ]
  },
  {
   "cell_type": "code",
   "execution_count": null,
   "id": "2cd497a5",
   "metadata": {},
   "outputs": [],
   "source": [
    "# ValueError --> es necesario realizar la transpuesta para este caso, ya que las dimensiones No son las adecuadas"
   ]
  },
  {
   "cell_type": "markdown",
   "id": "17baf78a",
   "metadata": {},
   "source": [
    "**Opción 1:**"
   ]
  },
  {
   "cell_type": "code",
   "execution_count": 96,
   "id": "35d02b30",
   "metadata": {},
   "outputs": [
    {
     "data": {
      "text/plain": [
       "matrix([[  3],\n",
       "        [114],\n",
       "        [ 42],\n",
       "        [ 15]])"
      ]
     },
     "execution_count": 96,
     "metadata": {},
     "output_type": "execute_result"
    }
   ],
   "source": [
    "u*v.transpose()"
   ]
  },
  {
   "cell_type": "markdown",
   "id": "295e221d",
   "metadata": {},
   "source": [
    "**Opción 2:**"
   ]
  },
  {
   "cell_type": "code",
   "execution_count": 97,
   "id": "c611cb93",
   "metadata": {},
   "outputs": [
    {
     "data": {
      "text/plain": [
       "matrix([[  3],\n",
       "        [114],\n",
       "        [ 42],\n",
       "        [ 15]])"
      ]
     },
     "execution_count": 97,
     "metadata": {},
     "output_type": "execute_result"
    }
   ],
   "source": [
    "u*v.T"
   ]
  },
  {
   "cell_type": "markdown",
   "id": "cff2b608",
   "metadata": {},
   "source": [
    "**Opción 3:**"
   ]
  },
  {
   "cell_type": "code",
   "execution_count": 98,
   "id": "3fd14b30",
   "metadata": {},
   "outputs": [
    {
     "data": {
      "text/plain": [
       "matrix([[  3],\n",
       "        [114],\n",
       "        [ 42],\n",
       "        [ 15]])"
      ]
     },
     "execution_count": 98,
     "metadata": {},
     "output_type": "execute_result"
    }
   ],
   "source": [
    "np.dot(u, v.T)"
   ]
  },
  {
   "cell_type": "markdown",
   "id": "41ef3aaf",
   "metadata": {},
   "source": [
    "**Traza de una matriz**"
   ]
  },
  {
   "cell_type": "markdown",
   "id": "d1cc7f95",
   "metadata": {},
   "source": [
    "**(suma de los elementos de la diagonal principal)**"
   ]
  },
  {
   "cell_type": "code",
   "execution_count": 99,
   "id": "e4c2d058",
   "metadata": {},
   "outputs": [
    {
     "data": {
      "text/plain": [
       "matrix([[  0, -12,  10,  -2],\n",
       "        [  1,   0,   6,  -1],\n",
       "        [ -2,  -6,   3,  -2],\n",
       "        [  1,  -6,  -6, -12]])"
      ]
     },
     "execution_count": 99,
     "metadata": {},
     "output_type": "execute_result"
    }
   ],
   "source": [
    "u -v"
   ]
  },
  {
   "cell_type": "code",
   "execution_count": 100,
   "id": "8a3edf0b",
   "metadata": {},
   "outputs": [
    {
     "data": {
      "text/plain": [
       "numpy.matrix"
      ]
     },
     "execution_count": 100,
     "metadata": {},
     "output_type": "execute_result"
    }
   ],
   "source": [
    "type(u-v)"
   ]
  },
  {
   "cell_type": "code",
   "execution_count": 101,
   "id": "a6f70d71",
   "metadata": {},
   "outputs": [
    {
     "data": {
      "text/plain": [
       "-9"
      ]
     },
     "execution_count": 101,
     "metadata": {},
     "output_type": "execute_result"
    }
   ],
   "source": [
    "np.trace(u-v) # 0 + 0 + 3 + (-12) = -9 (suma de los elementos de la diagonal principal)"
   ]
  },
  {
   "cell_type": "markdown",
   "id": "fb9b9c78",
   "metadata": {},
   "source": [
    "*Creado por:*\n",
    "\n",
    "*Isabel Maniega*"
   ]
  }
 ],
 "metadata": {
  "kernelspec": {
   "display_name": "Python 3",
   "language": "python",
   "name": "python3"
  },
  "language_info": {
   "codemirror_mode": {
    "name": "ipython",
    "version": 3
   },
   "file_extension": ".py",
   "mimetype": "text/x-python",
   "name": "python",
   "nbconvert_exporter": "python",
   "pygments_lexer": "ipython3",
   "version": "3.8.10"
  }
 },
 "nbformat": 4,
 "nbformat_minor": 5
}

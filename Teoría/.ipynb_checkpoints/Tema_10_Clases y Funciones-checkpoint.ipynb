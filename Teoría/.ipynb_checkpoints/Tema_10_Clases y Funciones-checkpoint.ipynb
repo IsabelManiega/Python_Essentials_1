{
 "cells": [
  {
   "cell_type": "markdown",
   "id": "dda75e87",
   "metadata": {},
   "source": [
    "*Creado por:*\n",
    "\n",
    "*Isabel Maniega*"
   ]
  },
  {
   "cell_type": "markdown",
   "id": "75cec8f9",
   "metadata": {},
   "source": [
    "# Clases y Funciones"
   ]
  },
  {
   "cell_type": "markdown",
   "id": "2d91075b",
   "metadata": {},
   "source": [
    "Nos permiten ordenar el código, como por ejemplo código repetido, etc"
   ]
  },
  {
   "cell_type": "markdown",
   "id": "15a8d1c3",
   "metadata": {},
   "source": [
    "### Ejemplo 1: 1 Clase - 2 funciones"
   ]
  },
  {
   "cell_type": "code",
   "execution_count": 1,
   "id": "ed87bb9c",
   "metadata": {},
   "outputs": [],
   "source": [
    "class Clase1:\n",
    "    \n",
    "    def funcion1():\n",
    "        print(\"Estamos en: Clase1 - Funcion1\")\n",
    "    \n",
    "    def funcion2():\n",
    "        print(\"Estamos en: Clase1 - Funcion2\")"
   ]
  },
  {
   "cell_type": "code",
   "execution_count": 2,
   "id": "5823f282",
   "metadata": {},
   "outputs": [],
   "source": [
    "# funcion1() --> no funciona, no encuentra la funcion"
   ]
  },
  {
   "cell_type": "code",
   "execution_count": 3,
   "id": "14b2dbf4",
   "metadata": {},
   "outputs": [
    {
     "name": "stdout",
     "output_type": "stream",
     "text": [
      "Estamos en: Clase1 - Funcion1\n"
     ]
    }
   ],
   "source": [
    "# se define primero la clase + función\n",
    "Clase1.funcion1()"
   ]
  },
  {
   "cell_type": "code",
   "execution_count": 4,
   "id": "855990fe",
   "metadata": {},
   "outputs": [
    {
     "name": "stdout",
     "output_type": "stream",
     "text": [
      "Estamos en: Clase1 - Funcion2\n"
     ]
    }
   ],
   "source": [
    "Clase1.funcion2()"
   ]
  },
  {
   "cell_type": "markdown",
   "id": "f0cdd82c",
   "metadata": {},
   "source": [
    "**Ejemplo 1**"
   ]
  },
  {
   "cell_type": "code",
   "execution_count": 7,
   "id": "00246bdc",
   "metadata": {},
   "outputs": [],
   "source": [
    "class Clase1:\n",
    "    \n",
    "    def imprimir(y):\n",
    "        print(\"Estamos en: \")\n",
    "        print(\"Clase Python - funcion imprimir, argumento y: \", y)\n",
    "    \n",
    "    def funcion_suma():\n",
    "        x = 1\n",
    "        z = 3\n",
    "        y = x + z\n",
    "        \n",
    "        print(f\"La suma de {x} más {z} es {y}\")"
   ]
  },
  {
   "cell_type": "code",
   "execution_count": 6,
   "id": "1b54ee96",
   "metadata": {},
   "outputs": [
    {
     "name": "stdout",
     "output_type": "stream",
     "text": [
      "Estamos en: \n",
      "Clase Python - funcion imprimir, argumento y:  6\n"
     ]
    }
   ],
   "source": [
    "# con argumento\n",
    "Clase1.imprimir(6)"
   ]
  },
  {
   "cell_type": "code",
   "execution_count": 8,
   "id": "3a0371b7",
   "metadata": {},
   "outputs": [
    {
     "name": "stdout",
     "output_type": "stream",
     "text": [
      "La suma de 1 más 3 es 4\n"
     ]
    }
   ],
   "source": [
    "# sin argumento\n",
    "Clase1.funcion_suma()"
   ]
  },
  {
   "cell_type": "markdown",
   "id": "70c9d888",
   "metadata": {},
   "source": [
    "**Ejemplo 2**"
   ]
  },
  {
   "cell_type": "code",
   "execution_count": 9,
   "id": "a38dc930",
   "metadata": {},
   "outputs": [],
   "source": [
    "class Clase1:\n",
    "    \n",
    "    def funcion1():\n",
    "        print(\"Estamos en: Clase1 - Funcion1\")\n",
    "    \n",
    "    def funcion2():\n",
    "        print(\"Estamos en: Clase1 - Funcion2\")\n",
    "        print(\"\\n\")\n",
    "        funcion1() # No accede a la función se necesita declarar la clase"
   ]
  },
  {
   "cell_type": "code",
   "execution_count": 10,
   "id": "8b644cdc",
   "metadata": {},
   "outputs": [
    {
     "name": "stdout",
     "output_type": "stream",
     "text": [
      "Estamos en: Clase1 - Funcion1\n"
     ]
    }
   ],
   "source": [
    "Clase1.funcion1()"
   ]
  },
  {
   "cell_type": "code",
   "execution_count": 11,
   "id": "adcf801a",
   "metadata": {},
   "outputs": [
    {
     "name": "stdout",
     "output_type": "stream",
     "text": [
      "Estamos en: Clase1 - Funcion2\n",
      "\n",
      "\n"
     ]
    },
    {
     "ename": "NameError",
     "evalue": "name 'funcion1' is not defined",
     "output_type": "error",
     "traceback": [
      "\u001b[0;31m---------------------------------------------------------------------------\u001b[0m",
      "\u001b[0;31mNameError\u001b[0m                                 Traceback (most recent call last)",
      "\u001b[0;32m<ipython-input-11-5ff1db1a0d8f>\u001b[0m in \u001b[0;36m<module>\u001b[0;34m\u001b[0m\n\u001b[0;32m----> 1\u001b[0;31m \u001b[0mClase1\u001b[0m\u001b[0;34m.\u001b[0m\u001b[0mfuncion2\u001b[0m\u001b[0;34m(\u001b[0m\u001b[0;34m)\u001b[0m\u001b[0;34m\u001b[0m\u001b[0;34m\u001b[0m\u001b[0m\n\u001b[0m",
      "\u001b[0;32m<ipython-input-9-4efb4f4685cc>\u001b[0m in \u001b[0;36mfuncion2\u001b[0;34m()\u001b[0m\n\u001b[1;32m      7\u001b[0m         \u001b[0mprint\u001b[0m\u001b[0;34m(\u001b[0m\u001b[0;34m\"Estamos en: Clase1 - Funcion2\"\u001b[0m\u001b[0;34m)\u001b[0m\u001b[0;34m\u001b[0m\u001b[0;34m\u001b[0m\u001b[0m\n\u001b[1;32m      8\u001b[0m         \u001b[0mprint\u001b[0m\u001b[0;34m(\u001b[0m\u001b[0;34m\"\\n\"\u001b[0m\u001b[0;34m)\u001b[0m\u001b[0;34m\u001b[0m\u001b[0;34m\u001b[0m\u001b[0m\n\u001b[0;32m----> 9\u001b[0;31m         \u001b[0mfuncion1\u001b[0m\u001b[0;34m(\u001b[0m\u001b[0;34m)\u001b[0m \u001b[0;31m# No accede a la función se necesita declarar la clase\u001b[0m\u001b[0;34m\u001b[0m\u001b[0;34m\u001b[0m\u001b[0m\n\u001b[0m",
      "\u001b[0;31mNameError\u001b[0m: name 'funcion1' is not defined"
     ]
    }
   ],
   "source": [
    "Clase1.funcion2()"
   ]
  },
  {
   "cell_type": "code",
   "execution_count": 12,
   "id": "d5083a97",
   "metadata": {},
   "outputs": [],
   "source": [
    "class Clase1:\n",
    "    \n",
    "    def funcion1():\n",
    "        print(\"Estamos en: Clase1 - Funcion1\")\n",
    "    \n",
    "    def funcion2():\n",
    "        print(\"Estamos en: Clase1 - Funcion2\")\n",
    "        print(\"\\n\")\n",
    "        Clase1.funcion1()"
   ]
  },
  {
   "cell_type": "code",
   "execution_count": 13,
   "id": "5bb18417",
   "metadata": {},
   "outputs": [
    {
     "name": "stdout",
     "output_type": "stream",
     "text": [
      "Estamos en: Clase1 - Funcion2\n",
      "\n",
      "\n",
      "Estamos en: Clase1 - Funcion1\n"
     ]
    }
   ],
   "source": [
    "Clase1.funcion2()"
   ]
  },
  {
   "cell_type": "markdown",
   "id": "17aaf7b5",
   "metadata": {},
   "source": [
    "**Ejemplo 3**"
   ]
  },
  {
   "cell_type": "code",
   "execution_count": 14,
   "id": "f4af3046",
   "metadata": {},
   "outputs": [],
   "source": [
    "class Clase1:\n",
    "    \n",
    "    def imprimir(y):\n",
    "        print(\"Estamos en: \")\n",
    "        print(\"Clase Python - funcion imprimir, argumento y: \", y)\n",
    "    \n",
    "    def funcion_suma():\n",
    "        x = 1\n",
    "        z = 3\n",
    "        y = x + z\n",
    "        \n",
    "        Clase1.imprimir(y)"
   ]
  },
  {
   "cell_type": "code",
   "execution_count": 15,
   "id": "95f59d0b",
   "metadata": {},
   "outputs": [
    {
     "name": "stdout",
     "output_type": "stream",
     "text": [
      "Estamos en: \n",
      "Clase Python - funcion imprimir, argumento y:  4\n"
     ]
    }
   ],
   "source": [
    "Clase1.funcion_suma()"
   ]
  },
  {
   "cell_type": "code",
   "execution_count": 16,
   "id": "0dbc74a5",
   "metadata": {},
   "outputs": [
    {
     "name": "stdout",
     "output_type": "stream",
     "text": [
      "Estamos en: \n",
      "Clase Python - funcion imprimir, argumento y:  10\n"
     ]
    }
   ],
   "source": [
    "Clase1.imprimir(10)"
   ]
  },
  {
   "cell_type": "markdown",
   "id": "a6642658",
   "metadata": {},
   "source": [
    "### 2 Clases con la misma función"
   ]
  },
  {
   "cell_type": "markdown",
   "id": "5f7bc8b3",
   "metadata": {},
   "source": [
    "* Una misma función puede estar en varias clases diferentes"
   ]
  },
  {
   "cell_type": "markdown",
   "id": "7e2cb733",
   "metadata": {},
   "source": [
    "Dado que tenemos que llamar previamente a la clase..."
   ]
  },
  {
   "cell_type": "markdown",
   "id": "ec0888b3",
   "metadata": {},
   "source": [
    "entonces:\n",
    "* Sólo se ejecutará la funcion dentro de la clase"
   ]
  },
  {
   "cell_type": "code",
   "execution_count": 18,
   "id": "dc3edf07",
   "metadata": {},
   "outputs": [],
   "source": [
    "class Clase1:\n",
    "    \n",
    "    def funcion1():\n",
    "        print(\"Estamos en: Clase1 - Funcion1\")\n",
    "\n",
    "class Clase2:\n",
    "    \n",
    "    def funcion1():\n",
    "        print(\"Estamos en: Clase2 - Funcion1\")"
   ]
  },
  {
   "cell_type": "code",
   "execution_count": 19,
   "id": "f2ea3e07",
   "metadata": {},
   "outputs": [
    {
     "name": "stdout",
     "output_type": "stream",
     "text": [
      "Estamos en: Clase1 - Funcion1\n"
     ]
    }
   ],
   "source": [
    "Clase1.funcion1()"
   ]
  },
  {
   "cell_type": "code",
   "execution_count": 20,
   "id": "fb5f477f",
   "metadata": {},
   "outputs": [
    {
     "name": "stdout",
     "output_type": "stream",
     "text": [
      "Estamos en: Clase2 - Funcion1\n"
     ]
    }
   ],
   "source": [
    "Clase2.funcion1()"
   ]
  },
  {
   "cell_type": "markdown",
   "id": "f7816ca2",
   "metadata": {},
   "source": [
    "**Ejemplo**"
   ]
  },
  {
   "cell_type": "code",
   "execution_count": 21,
   "id": "f2bbc738",
   "metadata": {},
   "outputs": [],
   "source": [
    "class Frutas:\n",
    "    def suma(x, y):\n",
    "        suma = x + y\n",
    "        print(\"la suma de frutas que tenemos es: \", suma)\n",
    "\n",
    "class Verduras:\n",
    "    def suma(x, y):\n",
    "        suma = x + y\n",
    "        print(\"la suma de verduras que tenemos es: \", suma)"
   ]
  },
  {
   "cell_type": "code",
   "execution_count": 22,
   "id": "657ea833",
   "metadata": {},
   "outputs": [
    {
     "name": "stdout",
     "output_type": "stream",
     "text": [
      "la suma de frutas que tenemos es:  5\n"
     ]
    }
   ],
   "source": [
    "Frutas.suma(3, 2)"
   ]
  },
  {
   "cell_type": "code",
   "execution_count": 23,
   "id": "ba2d98cb",
   "metadata": {},
   "outputs": [
    {
     "name": "stdout",
     "output_type": "stream",
     "text": [
      "la suma de verduras que tenemos es:  8\n"
     ]
    }
   ],
   "source": [
    "Verduras.suma(6, 2)"
   ]
  },
  {
   "cell_type": "markdown",
   "id": "82a2608b",
   "metadata": {},
   "source": [
    "### 1 clase que recibe otra clase"
   ]
  },
  {
   "cell_type": "code",
   "execution_count": 24,
   "id": "7aacabaf",
   "metadata": {},
   "outputs": [],
   "source": [
    "class Clase1:\n",
    "    def funcion1():\n",
    "        print(\"Estamos en: Clase1 - Funcion1\")\n",
    "\n",
    "class Clase2(Clase1):\n",
    "    def funcion2():\n",
    "        print(\"Estamos en: Clase2 - Funcion2\")\n",
    "    \n",
    "    # def funcion1():\n",
    "        # print(\"Estamos en: Clase1 - Funcion1\")"
   ]
  },
  {
   "cell_type": "code",
   "execution_count": 25,
   "id": "dcc2dcb8",
   "metadata": {},
   "outputs": [
    {
     "name": "stdout",
     "output_type": "stream",
     "text": [
      "Estamos en: Clase1 - Funcion1\n"
     ]
    }
   ],
   "source": [
    "Clase1.funcion1()"
   ]
  },
  {
   "cell_type": "code",
   "execution_count": 26,
   "id": "96c2ad71",
   "metadata": {},
   "outputs": [
    {
     "name": "stdout",
     "output_type": "stream",
     "text": [
      "Estamos en: Clase2 - Funcion2\n"
     ]
    }
   ],
   "source": [
    "Clase2.funcion2()"
   ]
  },
  {
   "cell_type": "code",
   "execution_count": 27,
   "id": "c805e08d",
   "metadata": {},
   "outputs": [
    {
     "name": "stdout",
     "output_type": "stream",
     "text": [
      "Estamos en: Clase1 - Funcion1\n"
     ]
    }
   ],
   "source": [
    "# heredado con la clase --> HERENCIA\n",
    "Clase2.funcion1()"
   ]
  },
  {
   "cell_type": "markdown",
   "id": "729b85df",
   "metadata": {},
   "source": [
    "**Ejemplo práctico**"
   ]
  },
  {
   "cell_type": "code",
   "execution_count": 29,
   "id": "60296193",
   "metadata": {},
   "outputs": [],
   "source": [
    "class Frutas:\n",
    "    def manzanas():\n",
    "        suma_manzanas = 6\n",
    "        return suma_manzanas\n",
    "\n",
    "class Alimentos(Frutas):\n",
    "    def peras():\n",
    "        suma_peras = 7\n",
    "        return suma_peras\n",
    "    #def manzanas():\n",
    "    #    suma_manzanas = 6\n",
    "    #    return suma_manzanas"
   ]
  },
  {
   "cell_type": "code",
   "execution_count": 30,
   "id": "d3741364",
   "metadata": {},
   "outputs": [
    {
     "data": {
      "text/plain": [
       "6"
      ]
     },
     "execution_count": 30,
     "metadata": {},
     "output_type": "execute_result"
    }
   ],
   "source": [
    "Frutas.manzanas()"
   ]
  },
  {
   "cell_type": "code",
   "execution_count": 31,
   "id": "cc1781ca",
   "metadata": {},
   "outputs": [
    {
     "data": {
      "text/plain": [
       "7"
      ]
     },
     "execution_count": 31,
     "metadata": {},
     "output_type": "execute_result"
    }
   ],
   "source": [
    "Alimentos.peras()"
   ]
  },
  {
   "cell_type": "code",
   "execution_count": 32,
   "id": "9b6d87d2",
   "metadata": {},
   "outputs": [
    {
     "data": {
      "text/plain": [
       "6"
      ]
     },
     "execution_count": 32,
     "metadata": {},
     "output_type": "execute_result"
    }
   ],
   "source": [
    "Alimentos.manzanas()"
   ]
  },
  {
   "cell_type": "markdown",
   "id": "3f0e8ca5",
   "metadata": {},
   "source": [
    "**También podemos \"llamar\" variables**"
   ]
  },
  {
   "cell_type": "code",
   "execution_count": 33,
   "id": "cd304ce9",
   "metadata": {},
   "outputs": [],
   "source": [
    "class Clase1:\n",
    "    x = 5\n",
    "\n",
    "class Clase2:\n",
    "    def funcion():\n",
    "        print(\"Estamos en la Clase2\")\n",
    "        print(\"\\n\")\n",
    "        print(\"Ahora llamamos a la variable de la Clase1\")\n",
    "        print(\"Valor: \", Clase1.x)\n",
    "        # print(\"Valor: \", x) # Necesario añadir la clase, sino error de variable No definida\n",
    "        "
   ]
  },
  {
   "cell_type": "code",
   "execution_count": 34,
   "id": "8f498203",
   "metadata": {},
   "outputs": [
    {
     "name": "stdout",
     "output_type": "stream",
     "text": [
      "Estamos en la Clase2\n",
      "\n",
      "\n",
      "Ahora llamamos a la variable de la Clase1\n",
      "Valor:  5\n"
     ]
    }
   ],
   "source": [
    "Clase2.funcion()"
   ]
  },
  {
   "cell_type": "code",
   "execution_count": 35,
   "id": "b0c7097e",
   "metadata": {},
   "outputs": [],
   "source": [
    "class Clase1:\n",
    "    x = 5\n",
    "\n",
    "class Clase2:\n",
    "    def funcion():\n",
    "        x = 6\n",
    "        print(\"Estamos en la Clase2\")\n",
    "        print(\"\\n\")\n",
    "        print(\"Ahora llamamos a la variable de la Clase1\")\n",
    "        print(\"Valor: \", Clase1.x)\n",
    "        print(\"Valor: \", x) # Necesario añadir la clase, sino error de variable No definida\n",
    "        "
   ]
  },
  {
   "cell_type": "code",
   "execution_count": 36,
   "id": "7746caee",
   "metadata": {},
   "outputs": [
    {
     "name": "stdout",
     "output_type": "stream",
     "text": [
      "Estamos en la Clase2\n",
      "\n",
      "\n",
      "Ahora llamamos a la variable de la Clase1\n",
      "Valor:  5\n",
      "Valor:  6\n"
     ]
    }
   ],
   "source": [
    "Clase2.funcion()"
   ]
  },
  {
   "cell_type": "code",
   "execution_count": 37,
   "id": "db9c72d6",
   "metadata": {},
   "outputs": [],
   "source": [
    "class Clase1:\n",
    "    x = 6\n",
    "    def funcion1(x):\n",
    "        return x"
   ]
  },
  {
   "cell_type": "code",
   "execution_count": 38,
   "id": "463c6321",
   "metadata": {},
   "outputs": [
    {
     "data": {
      "text/plain": [
       "6"
      ]
     },
     "execution_count": 38,
     "metadata": {},
     "output_type": "execute_result"
    }
   ],
   "source": [
    "Clase1.funcion1(Clase1.x)"
   ]
  },
  {
   "cell_type": "code",
   "execution_count": 39,
   "id": "5154718a",
   "metadata": {},
   "outputs": [],
   "source": [
    "class Clase1:\n",
    "    y = 6\n",
    "    def funcion1(y):\n",
    "        return y"
   ]
  },
  {
   "cell_type": "code",
   "execution_count": 40,
   "id": "04ab43a9",
   "metadata": {},
   "outputs": [
    {
     "ename": "NameError",
     "evalue": "name 'y' is not defined",
     "output_type": "error",
     "traceback": [
      "\u001b[0;31m---------------------------------------------------------------------------\u001b[0m",
      "\u001b[0;31mNameError\u001b[0m                                 Traceback (most recent call last)",
      "\u001b[0;32m<ipython-input-40-452df15fe8ae>\u001b[0m in \u001b[0;36m<module>\u001b[0;34m\u001b[0m\n\u001b[0;32m----> 1\u001b[0;31m \u001b[0mClase1\u001b[0m\u001b[0;34m.\u001b[0m\u001b[0mfuncion1\u001b[0m\u001b[0;34m(\u001b[0m\u001b[0my\u001b[0m\u001b[0;34m)\u001b[0m\u001b[0;34m\u001b[0m\u001b[0;34m\u001b[0m\u001b[0m\n\u001b[0m",
      "\u001b[0;31mNameError\u001b[0m: name 'y' is not defined"
     ]
    }
   ],
   "source": [
    "Clase1.funcion1(y)"
   ]
  },
  {
   "cell_type": "code",
   "execution_count": 41,
   "id": "2ad7702e",
   "metadata": {},
   "outputs": [],
   "source": [
    "x = 6\n",
    "def funcion1(x):\n",
    "    return x"
   ]
  },
  {
   "cell_type": "code",
   "execution_count": 42,
   "id": "15f0c4e6",
   "metadata": {},
   "outputs": [
    {
     "data": {
      "text/plain": [
       "6"
      ]
     },
     "execution_count": 42,
     "metadata": {},
     "output_type": "execute_result"
    }
   ],
   "source": [
    "funcion1(x)"
   ]
  },
  {
   "cell_type": "markdown",
   "id": "76b17572",
   "metadata": {},
   "source": [
    "*Creado por:*\n",
    "\n",
    "*Isabel Maniega*"
   ]
  }
 ],
 "metadata": {
  "kernelspec": {
   "display_name": "Python 3",
   "language": "python",
   "name": "python3"
  },
  "language_info": {
   "codemirror_mode": {
    "name": "ipython",
    "version": 3
   },
   "file_extension": ".py",
   "mimetype": "text/x-python",
   "name": "python",
   "nbconvert_exporter": "python",
   "pygments_lexer": "ipython3",
   "version": "3.8.10"
  }
 },
 "nbformat": 4,
 "nbformat_minor": 5
}

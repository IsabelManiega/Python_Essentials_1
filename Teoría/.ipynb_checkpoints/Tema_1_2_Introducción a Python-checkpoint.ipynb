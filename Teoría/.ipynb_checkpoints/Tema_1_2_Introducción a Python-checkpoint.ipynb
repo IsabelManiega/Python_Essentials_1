{
 "cells": [
  {
   "cell_type": "markdown",
   "id": "acce684f",
   "metadata": {},
   "source": [
    "*Creado por:*\n",
    "\n",
    "*Isabel Maniega*"
   ]
  },
  {
   "cell_type": "markdown",
   "id": "9c95b269",
   "metadata": {},
   "source": [
    "# -1.2- Introducción a Python (Continuación)"
   ]
  },
  {
   "cell_type": "markdown",
   "id": "0d01b243",
   "metadata": {},
   "source": [
    "## -1.2.1- Condiciones Multiples"
   ]
  },
  {
   "cell_type": "markdown",
   "id": "d5228a99",
   "metadata": {},
   "source": [
    "### Operador: |"
   ]
  },
  {
   "cell_type": "markdown",
   "id": "97d91764",
   "metadata": {},
   "source": [
    "**(condición1) ó (condición2)**"
   ]
  },
  {
   "cell_type": "code",
   "execution_count": 1,
   "id": "39e606c3",
   "metadata": {},
   "outputs": [
    {
     "data": {
      "text/plain": [
       "[5, 10, 15, 20, 25]"
      ]
     },
     "execution_count": 1,
     "metadata": {},
     "output_type": "execute_result"
    }
   ],
   "source": [
    "listado = [5, 10, 15, 20, 25]\n",
    "listado"
   ]
  },
  {
   "cell_type": "markdown",
   "id": "52c4fa92",
   "metadata": {},
   "source": [
    "Buscar números que son o bien 5 o bien 25"
   ]
  },
  {
   "cell_type": "code",
   "execution_count": 2,
   "id": "1c04a2e7",
   "metadata": {},
   "outputs": [
    {
     "name": "stdout",
     "output_type": "stream",
     "text": [
      "2\n"
     ]
    }
   ],
   "source": [
    "# Paso a Paso\n",
    "contador = 0 # inicializar el contador con valor 0\n",
    "\n",
    "for numero in listado:\n",
    "    # contador = 0\n",
    "    if (numero == 5) | (numero == 25):\n",
    "        contador = contador + 1\n",
    "        # si el numero es 5 entonces el contador suma 1 --> 0 a 1\n",
    "        # si el numero es 25 entonces el contador suma 1 --> 1 a 2\n",
    "    # recorre la lista y finaliza el bucle\n",
    "\n",
    "print(contador) # Resultado esperado es 2      "
   ]
  },
  {
   "cell_type": "markdown",
   "id": "7fc17949",
   "metadata": {},
   "source": [
    "**Ahora veremos el uso de print**"
   ]
  },
  {
   "cell_type": "code",
   "execution_count": 3,
   "id": "2c893720",
   "metadata": {},
   "outputs": [
    {
     "name": "stdout",
     "output_type": "stream",
     "text": [
      "valor del contador antes if:  0\n",
      "valor del numero:  5\n",
      "### valor del numero en IF:  5\n",
      "*** valor del contador después de IF:  1\n",
      "valor del contador antes if:  1\n",
      "valor del numero:  10\n",
      "valor del contador antes if:  1\n",
      "valor del numero:  15\n",
      "valor del contador antes if:  1\n",
      "valor del numero:  20\n",
      "valor del contador antes if:  1\n",
      "valor del numero:  25\n",
      "### valor del numero en IF:  25\n",
      "*** valor del contador después de IF:  2\n",
      "2\n"
     ]
    }
   ],
   "source": [
    "# Paso a Paso\n",
    "contador = 0 # inicializar el contador con valor 0\n",
    "\n",
    "for numero in listado:\n",
    "    # contador = 0\n",
    "    print('valor del contador antes if: ', contador)\n",
    "    print('valor del numero: ', numero)\n",
    "    if (numero == 5) | (numero == 25):        \n",
    "        print('### valor del numero en IF: ', numero)\n",
    "        contador = contador + 1\n",
    "        print('*** valor del contador después de IF: ', contador)\n",
    "        # si el numero es 5 entonces el contador suma 1 --> 0 a 1\n",
    "        # si el numero es 25 entonces el contador suma 1 --> 1 a 2\n",
    "    # recorre la lista y finaliza el bucle\n",
    "\n",
    "print(contador) # Resultado esperado es 2   "
   ]
  },
  {
   "cell_type": "markdown",
   "id": "aae26885",
   "metadata": {},
   "source": [
    "**2º opción uso de OR**"
   ]
  },
  {
   "cell_type": "code",
   "execution_count": 4,
   "id": "5c931fb7",
   "metadata": {},
   "outputs": [
    {
     "data": {
      "text/plain": [
       "[5, 10, 15, 20, 25]"
      ]
     },
     "execution_count": 4,
     "metadata": {},
     "output_type": "execute_result"
    }
   ],
   "source": [
    "listado = [5, 10, 15, 20, 25]\n",
    "listado"
   ]
  },
  {
   "cell_type": "code",
   "execution_count": 5,
   "id": "06bf4d06",
   "metadata": {},
   "outputs": [
    {
     "name": "stdout",
     "output_type": "stream",
     "text": [
      "2\n"
     ]
    }
   ],
   "source": [
    "# Paso a Paso\n",
    "contador = 0 # inicializar el contador con valor 0\n",
    "\n",
    "for numero in listado:\n",
    "    # contador = 0\n",
    "    if (numero == 5) or (numero == 25):\n",
    "        contador += 1\n",
    "        # si el numero es 5 entonces el contador suma 1 --> 0 a 1\n",
    "        # si el numero es 25 entonces el contador suma 1 --> 1 a 2\n",
    "    # recorre la lista y finaliza el bucle\n",
    "\n",
    "print(contador) # Resultado esperado es 2    "
   ]
  },
  {
   "cell_type": "markdown",
   "id": "9280d68b",
   "metadata": {},
   "source": [
    "### Operador: &"
   ]
  },
  {
   "cell_type": "markdown",
   "id": "cd9a4005",
   "metadata": {},
   "source": [
    "**(condición1) y (condición2)**"
   ]
  },
  {
   "cell_type": "code",
   "execution_count": 6,
   "id": "40e1ee0a",
   "metadata": {},
   "outputs": [
    {
     "data": {
      "text/plain": [
       "[5, 10, 15, 20, 25]"
      ]
     },
     "execution_count": 6,
     "metadata": {},
     "output_type": "execute_result"
    }
   ],
   "source": [
    "listado = [5, 10, 15, 20, 25]\n",
    "listado"
   ]
  },
  {
   "cell_type": "markdown",
   "id": "7c4c4024",
   "metadata": {},
   "source": [
    "Tenemos una variable además de la lista con valor x = 1, entonces queremos buscar la coincidencia que el valor de x=1 y además que el valor de numero sea 15"
   ]
  },
  {
   "cell_type": "code",
   "execution_count": 7,
   "id": "e259bdbe",
   "metadata": {},
   "outputs": [],
   "source": [
    "x = 1"
   ]
  },
  {
   "cell_type": "code",
   "execution_count": 8,
   "id": "68684da8",
   "metadata": {},
   "outputs": [
    {
     "name": "stdout",
     "output_type": "stream",
     "text": [
      "valor del numero:  5\n",
      "valor del numero:  10\n",
      "valor del numero:  15\n",
      "### valor del numero en IF:  15\n",
      "### valor de x en IF:  1\n",
      "Hemos detectado un 15 en la lista y la x vale 1\n",
      "valor del numero:  20\n",
      "valor del numero:  25\n"
     ]
    }
   ],
   "source": [
    "for numero in listado:\n",
    "    print('valor del numero: ', numero)\n",
    "    if (numero == 15) & (x == 1):\n",
    "        print('### valor del numero en IF: ', numero)\n",
    "        print('### valor de x en IF: ', x)\n",
    "        print(\"Hemos detectado un 15 en la lista y la x vale 1\")"
   ]
  },
  {
   "cell_type": "markdown",
   "id": "1dbc212d",
   "metadata": {},
   "source": [
    "**2ª opción: and**"
   ]
  },
  {
   "cell_type": "code",
   "execution_count": 9,
   "id": "0533e098",
   "metadata": {},
   "outputs": [
    {
     "data": {
      "text/plain": [
       "[5, 10, 15, 20, 25]"
      ]
     },
     "execution_count": 9,
     "metadata": {},
     "output_type": "execute_result"
    }
   ],
   "source": [
    "listado = [5, 10, 15, 20, 25]\n",
    "listado"
   ]
  },
  {
   "cell_type": "code",
   "execution_count": 10,
   "id": "39db72cb",
   "metadata": {},
   "outputs": [],
   "source": [
    " x = 1"
   ]
  },
  {
   "cell_type": "code",
   "execution_count": 11,
   "id": "817298fa",
   "metadata": {},
   "outputs": [
    {
     "name": "stdout",
     "output_type": "stream",
     "text": [
      "valor del numero:  5\n",
      "valor del numero:  10\n",
      "valor del numero:  15\n",
      "### valor del numero en IF:  15\n",
      "### valor de x en IF:  1\n",
      "Hemos detectado un 15 en la lista y la x vale 1\n",
      "valor del numero:  20\n",
      "valor del numero:  25\n"
     ]
    }
   ],
   "source": [
    "for numero in listado:\n",
    "    print('valor del numero: ', numero)\n",
    "    if (numero == 15) and (x == 1):\n",
    "        print('### valor del numero en IF: ', numero)\n",
    "        print('### valor de x en IF: ', x)\n",
    "        print(\"Hemos detectado un 15 en la lista y la x vale 1\")"
   ]
  },
  {
   "cell_type": "markdown",
   "id": "73de5a08",
   "metadata": {},
   "source": [
    "### IN/NOT IN "
   ]
  },
  {
   "cell_type": "code",
   "execution_count": 12,
   "id": "2f5494cc",
   "metadata": {},
   "outputs": [
    {
     "data": {
      "text/plain": [
       "[10, 20, 30]"
      ]
     },
     "execution_count": 12,
     "metadata": {},
     "output_type": "execute_result"
    }
   ],
   "source": [
    "listado = [10, 20, 30]\n",
    "listado"
   ]
  },
  {
   "cell_type": "code",
   "execution_count": 13,
   "id": "bdf378a4",
   "metadata": {},
   "outputs": [
    {
     "data": {
      "text/plain": [
       "True"
      ]
     },
     "execution_count": 13,
     "metadata": {},
     "output_type": "execute_result"
    }
   ],
   "source": [
    "# está el valor 10 en la lista?¿ --> Sí == True; No == False\n",
    "10 in listado"
   ]
  },
  {
   "cell_type": "code",
   "execution_count": 14,
   "id": "8138d647",
   "metadata": {},
   "outputs": [
    {
     "data": {
      "text/plain": [
       "False"
      ]
     },
     "execution_count": 14,
     "metadata": {},
     "output_type": "execute_result"
    }
   ],
   "source": [
    "10 not in listado"
   ]
  },
  {
   "cell_type": "code",
   "execution_count": 15,
   "id": "2d5aa89f",
   "metadata": {},
   "outputs": [
    {
     "data": {
      "text/plain": [
       "True"
      ]
     },
     "execution_count": 15,
     "metadata": {},
     "output_type": "execute_result"
    }
   ],
   "source": [
    "20 in listado"
   ]
  },
  {
   "cell_type": "code",
   "execution_count": 16,
   "id": "27479129",
   "metadata": {},
   "outputs": [
    {
     "data": {
      "text/plain": [
       "False"
      ]
     },
     "execution_count": 16,
     "metadata": {},
     "output_type": "execute_result"
    }
   ],
   "source": [
    "20 not in listado"
   ]
  },
  {
   "cell_type": "markdown",
   "id": "81259f39",
   "metadata": {},
   "source": [
    "### Entrada de texto por teclado"
   ]
  },
  {
   "cell_type": "markdown",
   "id": "9fe399c9",
   "metadata": {},
   "source": [
    "**String**"
   ]
  },
  {
   "cell_type": "code",
   "execution_count": 17,
   "id": "c7c85da7",
   "metadata": {},
   "outputs": [
    {
     "name": "stdout",
     "output_type": "stream",
     "text": [
      "hola como estás?? - Digame: ...Quiero Leche\n"
     ]
    },
    {
     "data": {
      "text/plain": [
       "'Quiero Leche'"
      ]
     },
     "execution_count": 17,
     "metadata": {},
     "output_type": "execute_result"
    }
   ],
   "source": [
    "input(\"hola como estás?? - Digame: ...\")"
   ]
  },
  {
   "cell_type": "markdown",
   "id": "dabb54a1",
   "metadata": {},
   "source": [
    "**Asignación de variable...**"
   ]
  },
  {
   "cell_type": "code",
   "execution_count": 18,
   "id": "bf19c5fc",
   "metadata": {},
   "outputs": [
    {
     "name": "stdout",
     "output_type": "stream",
     "text": [
      "hola como estás?? - Digame: ...quiero Lechuga\n"
     ]
    },
    {
     "data": {
      "text/plain": [
       "'quiero Lechuga'"
      ]
     },
     "execution_count": 18,
     "metadata": {},
     "output_type": "execute_result"
    }
   ],
   "source": [
    "texto = input(\"hola como estás?? - Digame: ...\")\n",
    "texto"
   ]
  },
  {
   "cell_type": "markdown",
   "id": "e9ada879",
   "metadata": {},
   "source": [
    "**Ejemplo de entrada de numeros**"
   ]
  },
  {
   "cell_type": "code",
   "execution_count": 19,
   "id": "aa942569",
   "metadata": {},
   "outputs": [
    {
     "name": "stdout",
     "output_type": "stream",
     "text": [
      "dígame su número favorito: <No valen decimales>...4\n"
     ]
    },
    {
     "data": {
      "text/plain": [
       "4"
      ]
     },
     "execution_count": 19,
     "metadata": {},
     "output_type": "execute_result"
    }
   ],
   "source": [
    "numero = int(input(\"dígame su número favorito: <No valen decimales>...\"))\n",
    "numero"
   ]
  },
  {
   "cell_type": "code",
   "execution_count": 20,
   "id": "009b117d",
   "metadata": {},
   "outputs": [
    {
     "name": "stdout",
     "output_type": "stream",
     "text": [
      "Su número favorito es:  4\n"
     ]
    }
   ],
   "source": [
    "print(\"Su número favorito es: \", numero)"
   ]
  },
  {
   "cell_type": "markdown",
   "id": "9c3d5fe2",
   "metadata": {},
   "source": [
    "**Ejemplo de numeros decimales**"
   ]
  },
  {
   "cell_type": "code",
   "execution_count": 21,
   "id": "10c0bcfe",
   "metadata": {},
   "outputs": [
    {
     "name": "stdout",
     "output_type": "stream",
     "text": [
      "dígame su número decimal favorito: <valen decimales>...5.5\n"
     ]
    },
    {
     "data": {
      "text/plain": [
       "5.5"
      ]
     },
     "execution_count": 21,
     "metadata": {},
     "output_type": "execute_result"
    }
   ],
   "source": [
    "numero_decimal = float(input(\"dígame su número decimal favorito: <valen decimales>...\"))\n",
    "numero_decimal"
   ]
  },
  {
   "cell_type": "code",
   "execution_count": 22,
   "id": "8a6f11af",
   "metadata": {},
   "outputs": [
    {
     "name": "stdout",
     "output_type": "stream",
     "text": [
      "Su número decimal favorito es:  5.5\n"
     ]
    }
   ],
   "source": [
    "print(\"Su número decimal favorito es: \", numero_decimal)"
   ]
  },
  {
   "cell_type": "markdown",
   "id": "3beb12c8",
   "metadata": {},
   "source": [
    "*Creado por:*\n",
    "\n",
    "*Isabel Maniega*"
   ]
  }
 ],
 "metadata": {
  "kernelspec": {
   "display_name": "Python 3",
   "language": "python",
   "name": "python3"
  },
  "language_info": {
   "codemirror_mode": {
    "name": "ipython",
    "version": 3
   },
   "file_extension": ".py",
   "mimetype": "text/x-python",
   "name": "python",
   "nbconvert_exporter": "python",
   "pygments_lexer": "ipython3",
   "version": "3.8.10"
  }
 },
 "nbformat": 4,
 "nbformat_minor": 5
}

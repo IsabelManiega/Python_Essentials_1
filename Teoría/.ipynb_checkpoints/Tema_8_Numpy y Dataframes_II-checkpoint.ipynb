{
 "cells": [
  {
   "cell_type": "markdown",
   "id": "4bc948e0",
   "metadata": {},
   "source": [
    "*Creado por:*\n",
    "\n",
    "*Isabel Maniega*"
   ]
  },
  {
   "cell_type": "markdown",
   "id": "536a39cb",
   "metadata": {},
   "source": [
    "## Importar librerías necesarias"
   ]
  },
  {
   "cell_type": "code",
   "execution_count": 1,
   "id": "e5e57920",
   "metadata": {},
   "outputs": [],
   "source": [
    "# Instalación: pip install numpy\n",
    "import numpy as np\n",
    "import pandas as pd"
   ]
  },
  {
   "cell_type": "markdown",
   "id": "ea7912a7",
   "metadata": {},
   "source": [
    "**El presente contenido es muy similar al software de pago MATLAB o incluso OCTAVE**"
   ]
  },
  {
   "cell_type": "markdown",
   "id": "6b639bec",
   "metadata": {},
   "source": [
    "## Array de 5 x 5"
   ]
  },
  {
   "cell_type": "code",
   "execution_count": 2,
   "id": "7f3b2821",
   "metadata": {},
   "outputs": [
    {
     "data": {
      "text/plain": [
       "array([[ 1,  2,  3,  4,  5],\n",
       "       [ 6,  7,  8,  9, 10],\n",
       "       [11, 12, 13, 14, 15],\n",
       "       [16, 17, 18, 19, 20],\n",
       "       [21, 22, 23, 24, 25]])"
      ]
     },
     "execution_count": 2,
     "metadata": {},
     "output_type": "execute_result"
    }
   ],
   "source": [
    "a = np.array([\n",
    "    [1, 2, 3, 4, 5],\n",
    "    [6, 7, 8, 9, 10],\n",
    "    [11, 12, 13, 14, 15],\n",
    "    [16, 17, 18, 19, 20],\n",
    "    [21, 22, 23, 24, 25]\n",
    "])\n",
    "a"
   ]
  },
  {
   "cell_type": "markdown",
   "id": "35934e32",
   "metadata": {},
   "source": [
    "## Imprimir desde la 3ª columna hasta el final"
   ]
  },
  {
   "cell_type": "code",
   "execution_count": 3,
   "id": "43294810",
   "metadata": {},
   "outputs": [
    {
     "data": {
      "text/plain": [
       "array([[ 1,  2,  3,  4,  5],\n",
       "       [ 6,  7,  8,  9, 10],\n",
       "       [11, 12, 13, 14, 15],\n",
       "       [16, 17, 18, 19, 20],\n",
       "       [21, 22, 23, 24, 25]])"
      ]
     },
     "execution_count": 3,
     "metadata": {},
     "output_type": "execute_result"
    }
   ],
   "source": [
    "a # mostrar la información de la matriz"
   ]
  },
  {
   "cell_type": "code",
   "execution_count": 4,
   "id": "5a0cf95f",
   "metadata": {},
   "outputs": [
    {
     "data": {
      "text/plain": [
       "array([[ 1,  2],\n",
       "       [ 6,  7],\n",
       "       [11, 12],\n",
       "       [16, 17],\n",
       "       [21, 22]])"
      ]
     },
     "execution_count": 4,
     "metadata": {},
     "output_type": "execute_result"
    }
   ],
   "source": [
    "# ojo, empezamos contando 0...(0-1-2) hasta la columna 2 (la tercera)\n",
    "# : antes del igual indica todas las filas\n",
    "# todas las filas, las columnas de 0 hasta 2 (2 no incluída)\n",
    "a[:, :2]"
   ]
  },
  {
   "cell_type": "code",
   "execution_count": 5,
   "id": "3beed58b",
   "metadata": {},
   "outputs": [
    {
     "data": {
      "text/plain": [
       "array([[ 1,  2,  3,  4,  5],\n",
       "       [ 6,  7,  8,  9, 10]])"
      ]
     },
     "execution_count": 5,
     "metadata": {},
     "output_type": "execute_result"
    }
   ],
   "source": [
    "# todas las columnas de las 2 primeras filas\n",
    "a[:2]"
   ]
  },
  {
   "cell_type": "code",
   "execution_count": 6,
   "id": "6cbfb20b",
   "metadata": {},
   "outputs": [
    {
     "data": {
      "text/plain": [
       "array([[ 1,  2,  3,  4,  5],\n",
       "       [ 6,  7,  8,  9, 10]])"
      ]
     },
     "execution_count": 6,
     "metadata": {},
     "output_type": "execute_result"
    }
   ],
   "source": [
    "a[:2, :]"
   ]
  },
  {
   "cell_type": "code",
   "execution_count": 7,
   "id": "6f2bd28f",
   "metadata": {},
   "outputs": [
    {
     "data": {
      "text/plain": [
       "array([[ 2],\n",
       "       [ 7],\n",
       "       [12],\n",
       "       [17],\n",
       "       [22]])"
      ]
     },
     "execution_count": 7,
     "metadata": {},
     "output_type": "execute_result"
    }
   ],
   "source": [
    "a[:, 1:2]"
   ]
  },
  {
   "cell_type": "code",
   "execution_count": null,
   "id": "04a95879",
   "metadata": {},
   "outputs": [],
   "source": [
    "# NOTA: esta parte será importante para el tema de visualización de los datos en dataframe,\n",
    "# ver el tema de df.loc o df.iloc"
   ]
  },
  {
   "cell_type": "markdown",
   "id": "4b8f648a",
   "metadata": {},
   "source": [
    "**Type...**"
   ]
  },
  {
   "cell_type": "code",
   "execution_count": 8,
   "id": "24917a1d",
   "metadata": {},
   "outputs": [
    {
     "data": {
      "text/plain": [
       "numpy.ndarray"
      ]
     },
     "execution_count": 8,
     "metadata": {},
     "output_type": "execute_result"
    }
   ],
   "source": [
    "type(a[:,2:])"
   ]
  },
  {
   "cell_type": "markdown",
   "id": "546ccd54",
   "metadata": {},
   "source": [
    "## Imprimo desde la primera columna hasta la 2ª (incluida)"
   ]
  },
  {
   "cell_type": "code",
   "execution_count": 9,
   "id": "2b0030a3",
   "metadata": {},
   "outputs": [
    {
     "data": {
      "text/plain": [
       "array([[ 1,  2,  3,  4,  5],\n",
       "       [ 6,  7,  8,  9, 10],\n",
       "       [11, 12, 13, 14, 15],\n",
       "       [16, 17, 18, 19, 20],\n",
       "       [21, 22, 23, 24, 25]])"
      ]
     },
     "execution_count": 9,
     "metadata": {},
     "output_type": "execute_result"
    }
   ],
   "source": [
    "a"
   ]
  },
  {
   "cell_type": "code",
   "execution_count": 10,
   "id": "381a7086",
   "metadata": {},
   "outputs": [
    {
     "data": {
      "text/plain": [
       "array([[ 1,  2],\n",
       "       [ 6,  7],\n",
       "       [11, 12],\n",
       "       [16, 17],\n",
       "       [21, 22]])"
      ]
     },
     "execution_count": 10,
     "metadata": {},
     "output_type": "execute_result"
    }
   ],
   "source": [
    "# Opción 1\n",
    "\n",
    "a[:, :2]"
   ]
  },
  {
   "cell_type": "code",
   "execution_count": 11,
   "id": "313a469a",
   "metadata": {},
   "outputs": [
    {
     "data": {
      "text/plain": [
       "array([[ 1,  2],\n",
       "       [ 6,  7],\n",
       "       [11, 12],\n",
       "       [16, 17],\n",
       "       [21, 22]])"
      ]
     },
     "execution_count": 11,
     "metadata": {},
     "output_type": "execute_result"
    }
   ],
   "source": [
    "# Opción 2\n",
    "\n",
    "a[:, 0:2]"
   ]
  },
  {
   "cell_type": "markdown",
   "id": "96ec8be5",
   "metadata": {},
   "source": [
    "## Imprimo las pares"
   ]
  },
  {
   "cell_type": "code",
   "execution_count": 12,
   "id": "0bc1654d",
   "metadata": {},
   "outputs": [
    {
     "data": {
      "text/plain": [
       "array([[ 1,  2,  3,  4,  5],\n",
       "       [ 6,  7,  8,  9, 10],\n",
       "       [11, 12, 13, 14, 15],\n",
       "       [16, 17, 18, 19, 20],\n",
       "       [21, 22, 23, 24, 25]])"
      ]
     },
     "execution_count": 12,
     "metadata": {},
     "output_type": "execute_result"
    }
   ],
   "source": [
    "a"
   ]
  },
  {
   "cell_type": "code",
   "execution_count": 13,
   "id": "1281c270",
   "metadata": {},
   "outputs": [],
   "source": [
    "# \":\" antes de la coma equivale a todas las filas\n",
    "# inicio:final:incremento (si añades un segundo \":\" es poner el incremento)\n",
    "# en el final si no ponemos nada es el final"
   ]
  },
  {
   "cell_type": "code",
   "execution_count": 14,
   "id": "e8cc564b",
   "metadata": {},
   "outputs": [
    {
     "data": {
      "text/plain": [
       "array([[ 2,  4],\n",
       "       [ 7,  9],\n",
       "       [12, 14],\n",
       "       [17, 19],\n",
       "       [22, 24]])"
      ]
     },
     "execution_count": 14,
     "metadata": {},
     "output_type": "execute_result"
    }
   ],
   "source": [
    "a[:, 1::2]"
   ]
  },
  {
   "cell_type": "code",
   "execution_count": 15,
   "id": "519c785b",
   "metadata": {},
   "outputs": [
    {
     "data": {
      "text/plain": [
       "array([[ 2,  5],\n",
       "       [ 7, 10],\n",
       "       [12, 15],\n",
       "       [17, 20],\n",
       "       [22, 25]])"
      ]
     },
     "execution_count": 15,
     "metadata": {},
     "output_type": "execute_result"
    }
   ],
   "source": [
    "a[:, 1::3]"
   ]
  },
  {
   "cell_type": "markdown",
   "id": "0d939f3d",
   "metadata": {},
   "source": [
    "## Imprimir las impares"
   ]
  },
  {
   "cell_type": "code",
   "execution_count": 16,
   "id": "27ff10d7",
   "metadata": {},
   "outputs": [
    {
     "data": {
      "text/plain": [
       "array([[ 1,  2,  3,  4,  5],\n",
       "       [ 6,  7,  8,  9, 10],\n",
       "       [11, 12, 13, 14, 15],\n",
       "       [16, 17, 18, 19, 20],\n",
       "       [21, 22, 23, 24, 25]])"
      ]
     },
     "execution_count": 16,
     "metadata": {},
     "output_type": "execute_result"
    }
   ],
   "source": [
    "a"
   ]
  },
  {
   "cell_type": "code",
   "execution_count": 17,
   "id": "623699d4",
   "metadata": {},
   "outputs": [
    {
     "data": {
      "text/plain": [
       "array([[ 1,  3,  5],\n",
       "       [ 6,  8, 10],\n",
       "       [11, 13, 15],\n",
       "       [16, 18, 20],\n",
       "       [21, 23, 25]])"
      ]
     },
     "execution_count": 17,
     "metadata": {},
     "output_type": "execute_result"
    }
   ],
   "source": [
    "a[:, 0::2]"
   ]
  },
  {
   "cell_type": "code",
   "execution_count": 18,
   "id": "0fe2e820",
   "metadata": {},
   "outputs": [
    {
     "data": {
      "text/plain": [
       "array([[ 1],\n",
       "       [ 6],\n",
       "       [11],\n",
       "       [16],\n",
       "       [21]])"
      ]
     },
     "execution_count": 18,
     "metadata": {},
     "output_type": "execute_result"
    }
   ],
   "source": [
    "a[:, 0:2:2]"
   ]
  },
  {
   "cell_type": "code",
   "execution_count": 19,
   "id": "8ad12295",
   "metadata": {},
   "outputs": [
    {
     "data": {
      "text/plain": [
       "array([[ 1,  3],\n",
       "       [ 6,  8],\n",
       "       [11, 13],\n",
       "       [16, 18],\n",
       "       [21, 23]])"
      ]
     },
     "execution_count": 19,
     "metadata": {},
     "output_type": "execute_result"
    }
   ],
   "source": [
    "a[:, 0:3:2]"
   ]
  },
  {
   "cell_type": "markdown",
   "id": "e6de2f1c",
   "metadata": {},
   "source": [
    "# Secuencia de Fibonacci"
   ]
  },
  {
   "cell_type": "markdown",
   "id": "50a738e3",
   "metadata": {},
   "source": [
    "Cada numero es la suma de los 2 anteriores:"
   ]
  },
  {
   "cell_type": "markdown",
   "id": "01a81e56",
   "metadata": {},
   "source": [
    "0-1-1-2-3-5-8-13-21-34..."
   ]
  },
  {
   "cell_type": "markdown",
   "id": "6458bf77",
   "metadata": {},
   "source": [
    "obviamente tomando como referencia 0 y 1"
   ]
  },
  {
   "cell_type": "markdown",
   "id": "bcd34116",
   "metadata": {},
   "source": [
    "0 + 1 es 1"
   ]
  },
  {
   "cell_type": "markdown",
   "id": "65d002c1",
   "metadata": {},
   "source": [
    "1 + 1 es 2"
   ]
  },
  {
   "cell_type": "markdown",
   "id": "d82fcc22",
   "metadata": {},
   "source": [
    "1 + 2 es 3"
   ]
  },
  {
   "cell_type": "markdown",
   "id": "185ca653",
   "metadata": {},
   "source": [
    "así sucesivamente"
   ]
  },
  {
   "cell_type": "markdown",
   "id": "94d4990d",
   "metadata": {},
   "source": [
    "Usos de Fibonacci:\n",
    "* Mercados de valores bursátiles\n",
    "* Y otros muchos usos, se recomienda, buscar mas información."
   ]
  },
  {
   "cell_type": "markdown",
   "id": "84d76990",
   "metadata": {},
   "source": [
    "## Funciones, con \"2 variables de entrada\""
   ]
  },
  {
   "cell_type": "code",
   "execution_count": 20,
   "id": "4c6d01ec",
   "metadata": {},
   "outputs": [],
   "source": [
    "def funcion_suma(x, y):\n",
    "    z = x + y\n",
    "    return z"
   ]
  },
  {
   "cell_type": "code",
   "execution_count": 21,
   "id": "8cb8ec4e",
   "metadata": {},
   "outputs": [],
   "source": [
    "# es similar a realizarlo:\n",
    "def funcion_suma_2(x, y):\n",
    "    return x + y"
   ]
  },
  {
   "cell_type": "code",
   "execution_count": 22,
   "id": "33e537a3",
   "metadata": {},
   "outputs": [
    {
     "data": {
      "text/plain": [
       "9"
      ]
     },
     "execution_count": 22,
     "metadata": {},
     "output_type": "execute_result"
    }
   ],
   "source": [
    "funcion_suma(5, 4)"
   ]
  },
  {
   "cell_type": "code",
   "execution_count": 23,
   "id": "9bac5884",
   "metadata": {},
   "outputs": [
    {
     "data": {
      "text/plain": [
       "9"
      ]
     },
     "execution_count": 23,
     "metadata": {},
     "output_type": "execute_result"
    }
   ],
   "source": [
    "funcion_suma_2(5, 4)"
   ]
  },
  {
   "cell_type": "code",
   "execution_count": 24,
   "id": "3744f37d",
   "metadata": {},
   "outputs": [],
   "source": [
    "def funcion_multiple(x, y):\n",
    "    s = x + y\n",
    "    m = x * y\n",
    "    return s, m"
   ]
  },
  {
   "cell_type": "code",
   "execution_count": 25,
   "id": "2b793c27",
   "metadata": {},
   "outputs": [
    {
     "name": "stdout",
     "output_type": "stream",
     "text": [
      "Valor de s: 9  y valor de m:  20\n"
     ]
    }
   ],
   "source": [
    "s, m = funcion_multiple(5, 4)\n",
    "print('Valor de s:', s, ' y valor de m: ', m)"
   ]
  },
  {
   "cell_type": "markdown",
   "id": "801fd0bf",
   "metadata": {},
   "source": [
    "## Función Lambda (repaso)"
   ]
  },
  {
   "cell_type": "code",
   "execution_count": 26,
   "id": "2b2406bb",
   "metadata": {},
   "outputs": [
    {
     "data": {
      "text/plain": [
       "25"
      ]
     },
     "execution_count": 26,
     "metadata": {},
     "output_type": "execute_result"
    }
   ],
   "source": [
    "def funcion_suma_1(x):\n",
    "    return x +10\n",
    "\n",
    "# Llamada de la función\n",
    "funcion_suma_1(15)"
   ]
  },
  {
   "cell_type": "code",
   "execution_count": 27,
   "id": "d0be7d28",
   "metadata": {},
   "outputs": [
    {
     "data": {
      "text/plain": [
       "15"
      ]
     },
     "execution_count": 27,
     "metadata": {},
     "output_type": "execute_result"
    }
   ],
   "source": [
    "# con lambda:\n",
    "(lambda x: x+10)(5)\n",
    "#       5: 5+10\n",
    "# --> retorno 15"
   ]
  },
  {
   "cell_type": "code",
   "execution_count": 28,
   "id": "433862d5",
   "metadata": {},
   "outputs": [
    {
     "data": {
      "text/plain": [
       "9"
      ]
     },
     "execution_count": 28,
     "metadata": {},
     "output_type": "execute_result"
    }
   ],
   "source": [
    "# lambda con dos variables\n",
    "(lambda x, y: x + y)(5, 4)"
   ]
  },
  {
   "cell_type": "code",
   "execution_count": 29,
   "id": "fcfac7ac",
   "metadata": {},
   "outputs": [
    {
     "data": {
      "text/plain": [
       "10"
      ]
     },
     "execution_count": 29,
     "metadata": {},
     "output_type": "execute_result"
    }
   ],
   "source": [
    "# lambda con 3 variables\n",
    "(lambda x, y, z: x + y + z)(5, 4, 1)"
   ]
  },
  {
   "cell_type": "markdown",
   "id": "6b28fd27",
   "metadata": {},
   "source": [
    "## DATAFRAMES -Gestión-"
   ]
  },
  {
   "cell_type": "markdown",
   "id": "71c91424",
   "metadata": {},
   "source": [
    "**Crear un dataframe**"
   ]
  },
  {
   "cell_type": "code",
   "execution_count": 30,
   "id": "11df4768",
   "metadata": {},
   "outputs": [
    {
     "data": {
      "text/html": [
       "<div>\n",
       "<style scoped>\n",
       "    .dataframe tbody tr th:only-of-type {\n",
       "        vertical-align: middle;\n",
       "    }\n",
       "\n",
       "    .dataframe tbody tr th {\n",
       "        vertical-align: top;\n",
       "    }\n",
       "\n",
       "    .dataframe thead th {\n",
       "        text-align: right;\n",
       "    }\n",
       "</style>\n",
       "<table border=\"1\" class=\"dataframe\">\n",
       "  <thead>\n",
       "    <tr style=\"text-align: right;\">\n",
       "      <th></th>\n",
       "      <th>x</th>\n",
       "      <th>y</th>\n",
       "    </tr>\n",
       "  </thead>\n",
       "  <tbody>\n",
       "    <tr>\n",
       "      <th>0</th>\n",
       "      <td>10</td>\n",
       "      <td>1</td>\n",
       "    </tr>\n",
       "    <tr>\n",
       "      <th>1</th>\n",
       "      <td>20</td>\n",
       "      <td>1</td>\n",
       "    </tr>\n",
       "    <tr>\n",
       "      <th>2</th>\n",
       "      <td>30</td>\n",
       "      <td>0</td>\n",
       "    </tr>\n",
       "    <tr>\n",
       "      <th>3</th>\n",
       "      <td>40</td>\n",
       "      <td>1</td>\n",
       "    </tr>\n",
       "    <tr>\n",
       "      <th>4</th>\n",
       "      <td>50</td>\n",
       "      <td>0</td>\n",
       "    </tr>\n",
       "  </tbody>\n",
       "</table>\n",
       "</div>"
      ],
      "text/plain": [
       "    x  y\n",
       "0  10  1\n",
       "1  20  1\n",
       "2  30  0\n",
       "3  40  1\n",
       "4  50  0"
      ]
     },
     "execution_count": 30,
     "metadata": {},
     "output_type": "execute_result"
    }
   ],
   "source": [
    "df = pd.DataFrame({\"x\": [10, 20, 30, 40, 50], \"y\": [1, 1, 0, 1, 0]})\n",
    "df"
   ]
  },
  {
   "cell_type": "code",
   "execution_count": 31,
   "id": "eb4e0041",
   "metadata": {},
   "outputs": [
    {
     "data": {
      "text/html": [
       "<div>\n",
       "<style scoped>\n",
       "    .dataframe tbody tr th:only-of-type {\n",
       "        vertical-align: middle;\n",
       "    }\n",
       "\n",
       "    .dataframe tbody tr th {\n",
       "        vertical-align: top;\n",
       "    }\n",
       "\n",
       "    .dataframe thead th {\n",
       "        text-align: right;\n",
       "    }\n",
       "</style>\n",
       "<table border=\"1\" class=\"dataframe\">\n",
       "  <thead>\n",
       "    <tr style=\"text-align: right;\">\n",
       "      <th></th>\n",
       "      <th>x</th>\n",
       "      <th>y</th>\n",
       "    </tr>\n",
       "  </thead>\n",
       "  <tbody>\n",
       "    <tr>\n",
       "      <th>0</th>\n",
       "      <td>10</td>\n",
       "      <td>1</td>\n",
       "    </tr>\n",
       "    <tr>\n",
       "      <th>1</th>\n",
       "      <td>20</td>\n",
       "      <td>1</td>\n",
       "    </tr>\n",
       "    <tr>\n",
       "      <th>3</th>\n",
       "      <td>40</td>\n",
       "      <td>1</td>\n",
       "    </tr>\n",
       "  </tbody>\n",
       "</table>\n",
       "</div>"
      ],
      "text/plain": [
       "    x  y\n",
       "0  10  1\n",
       "1  20  1\n",
       "3  40  1"
      ]
     },
     "execution_count": 31,
     "metadata": {},
     "output_type": "execute_result"
    }
   ],
   "source": [
    "# Creamos un df a partir del df inicial\n",
    "# seleccionamos los valores de la columnma y que tengan el valor de 1\n",
    "# y asignamos un nuevo dataframe de nombre df_uno\n",
    "df_uno = df[df[\"y\"] == 1]\n",
    "df_uno"
   ]
  },
  {
   "cell_type": "code",
   "execution_count": 32,
   "id": "0eb0e062",
   "metadata": {},
   "outputs": [
    {
     "data": {
      "text/html": [
       "<div>\n",
       "<style scoped>\n",
       "    .dataframe tbody tr th:only-of-type {\n",
       "        vertical-align: middle;\n",
       "    }\n",
       "\n",
       "    .dataframe tbody tr th {\n",
       "        vertical-align: top;\n",
       "    }\n",
       "\n",
       "    .dataframe thead th {\n",
       "        text-align: right;\n",
       "    }\n",
       "</style>\n",
       "<table border=\"1\" class=\"dataframe\">\n",
       "  <thead>\n",
       "    <tr style=\"text-align: right;\">\n",
       "      <th></th>\n",
       "      <th>x</th>\n",
       "      <th>y</th>\n",
       "    </tr>\n",
       "  </thead>\n",
       "  <tbody>\n",
       "    <tr>\n",
       "      <th>0</th>\n",
       "      <td>10</td>\n",
       "      <td>1</td>\n",
       "    </tr>\n",
       "    <tr>\n",
       "      <th>1</th>\n",
       "      <td>20</td>\n",
       "      <td>1</td>\n",
       "    </tr>\n",
       "    <tr>\n",
       "      <th>3</th>\n",
       "      <td>40</td>\n",
       "      <td>1</td>\n",
       "    </tr>\n",
       "  </tbody>\n",
       "</table>\n",
       "</div>"
      ],
      "text/plain": [
       "    x  y\n",
       "0  10  1\n",
       "1  20  1\n",
       "3  40  1"
      ]
     },
     "execution_count": 32,
     "metadata": {},
     "output_type": "execute_result"
    }
   ],
   "source": [
    "# otra opción:\n",
    "\n",
    "df_uno_1 = df[df.y == 1]\n",
    "df_uno_1"
   ]
  },
  {
   "cell_type": "code",
   "execution_count": 33,
   "id": "cb7526ef",
   "metadata": {},
   "outputs": [
    {
     "data": {
      "text/html": [
       "<div>\n",
       "<style scoped>\n",
       "    .dataframe tbody tr th:only-of-type {\n",
       "        vertical-align: middle;\n",
       "    }\n",
       "\n",
       "    .dataframe tbody tr th {\n",
       "        vertical-align: top;\n",
       "    }\n",
       "\n",
       "    .dataframe thead th {\n",
       "        text-align: right;\n",
       "    }\n",
       "</style>\n",
       "<table border=\"1\" class=\"dataframe\">\n",
       "  <thead>\n",
       "    <tr style=\"text-align: right;\">\n",
       "      <th></th>\n",
       "      <th>x</th>\n",
       "      <th>y</th>\n",
       "    </tr>\n",
       "  </thead>\n",
       "  <tbody>\n",
       "    <tr>\n",
       "      <th>2</th>\n",
       "      <td>30</td>\n",
       "      <td>0</td>\n",
       "    </tr>\n",
       "    <tr>\n",
       "      <th>4</th>\n",
       "      <td>50</td>\n",
       "      <td>0</td>\n",
       "    </tr>\n",
       "  </tbody>\n",
       "</table>\n",
       "</div>"
      ],
      "text/plain": [
       "    x  y\n",
       "2  30  0\n",
       "4  50  0"
      ]
     },
     "execution_count": 33,
     "metadata": {},
     "output_type": "execute_result"
    }
   ],
   "source": [
    "df_cero = df[df['y'] == 0]\n",
    "df_cero"
   ]
  },
  {
   "cell_type": "code",
   "execution_count": 34,
   "id": "2dfcf1ab",
   "metadata": {},
   "outputs": [
    {
     "data": {
      "text/plain": [
       "x    50\n",
       "y     1\n",
       "dtype: int64"
      ]
     },
     "execution_count": 34,
     "metadata": {},
     "output_type": "execute_result"
    }
   ],
   "source": [
    "maximo = df.max()\n",
    "maximo"
   ]
  },
  {
   "cell_type": "code",
   "execution_count": 35,
   "id": "59515295",
   "metadata": {},
   "outputs": [
    {
     "data": {
      "text/plain": [
       "x    10\n",
       "y     0\n",
       "dtype: int64"
      ]
     },
     "execution_count": 35,
     "metadata": {},
     "output_type": "execute_result"
    }
   ],
   "source": [
    "minimo = df.min()\n",
    "minimo"
   ]
  },
  {
   "cell_type": "code",
   "execution_count": 36,
   "id": "2998e461",
   "metadata": {},
   "outputs": [
    {
     "data": {
      "text/html": [
       "<div>\n",
       "<style scoped>\n",
       "    .dataframe tbody tr th:only-of-type {\n",
       "        vertical-align: middle;\n",
       "    }\n",
       "\n",
       "    .dataframe tbody tr th {\n",
       "        vertical-align: top;\n",
       "    }\n",
       "\n",
       "    .dataframe thead th {\n",
       "        text-align: right;\n",
       "    }\n",
       "</style>\n",
       "<table border=\"1\" class=\"dataframe\">\n",
       "  <thead>\n",
       "    <tr style=\"text-align: right;\">\n",
       "      <th></th>\n",
       "      <th>x</th>\n",
       "      <th>y</th>\n",
       "    </tr>\n",
       "  </thead>\n",
       "  <tbody>\n",
       "    <tr>\n",
       "      <th>1</th>\n",
       "      <td>20</td>\n",
       "      <td>1</td>\n",
       "    </tr>\n",
       "    <tr>\n",
       "      <th>2</th>\n",
       "      <td>30</td>\n",
       "      <td>0</td>\n",
       "    </tr>\n",
       "    <tr>\n",
       "      <th>3</th>\n",
       "      <td>40</td>\n",
       "      <td>1</td>\n",
       "    </tr>\n",
       "  </tbody>\n",
       "</table>\n",
       "</div>"
      ],
      "text/plain": [
       "    x  y\n",
       "1  20  1\n",
       "2  30  0\n",
       "3  40  1"
      ]
     },
     "execution_count": 36,
     "metadata": {},
     "output_type": "execute_result"
    }
   ],
   "source": [
    "# Uno y otro\n",
    "df_comparación = df[(df['x'] < 50) & (df[\"x\"] > 10)]\n",
    "df_comparación"
   ]
  },
  {
   "cell_type": "code",
   "execution_count": 37,
   "id": "e4729067",
   "metadata": {},
   "outputs": [
    {
     "data": {
      "text/html": [
       "<div>\n",
       "<style scoped>\n",
       "    .dataframe tbody tr th:only-of-type {\n",
       "        vertical-align: middle;\n",
       "    }\n",
       "\n",
       "    .dataframe tbody tr th {\n",
       "        vertical-align: top;\n",
       "    }\n",
       "\n",
       "    .dataframe thead th {\n",
       "        text-align: right;\n",
       "    }\n",
       "</style>\n",
       "<table border=\"1\" class=\"dataframe\">\n",
       "  <thead>\n",
       "    <tr style=\"text-align: right;\">\n",
       "      <th></th>\n",
       "      <th>x</th>\n",
       "      <th>y</th>\n",
       "    </tr>\n",
       "  </thead>\n",
       "  <tbody>\n",
       "    <tr>\n",
       "      <th>2</th>\n",
       "      <td>30</td>\n",
       "      <td>0</td>\n",
       "    </tr>\n",
       "    <tr>\n",
       "      <th>3</th>\n",
       "      <td>40</td>\n",
       "      <td>1</td>\n",
       "    </tr>\n",
       "    <tr>\n",
       "      <th>4</th>\n",
       "      <td>50</td>\n",
       "      <td>0</td>\n",
       "    </tr>\n",
       "  </tbody>\n",
       "</table>\n",
       "</div>"
      ],
      "text/plain": [
       "    x  y\n",
       "2  30  0\n",
       "3  40  1\n",
       "4  50  0"
      ]
     },
     "execution_count": 37,
     "metadata": {},
     "output_type": "execute_result"
    }
   ],
   "source": [
    "# Uno u otro\n",
    "df_comparación = df[(df['x'] > 40) | (df[\"x\"] > 20)]\n",
    "df_comparación"
   ]
  },
  {
   "cell_type": "markdown",
   "id": "33fb1703",
   "metadata": {},
   "source": [
    "*Creado por:*\n",
    "\n",
    "*Isabel Maniega*"
   ]
  }
 ],
 "metadata": {
  "kernelspec": {
   "display_name": "Python 3",
   "language": "python",
   "name": "python3"
  },
  "language_info": {
   "codemirror_mode": {
    "name": "ipython",
    "version": 3
   },
   "file_extension": ".py",
   "mimetype": "text/x-python",
   "name": "python",
   "nbconvert_exporter": "python",
   "pygments_lexer": "ipython3",
   "version": "3.8.10"
  }
 },
 "nbformat": 4,
 "nbformat_minor": 5
}

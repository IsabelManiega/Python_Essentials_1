{
 "cells": [
  {
   "cell_type": "markdown",
   "id": "2824c452",
   "metadata": {},
   "source": [
    "*Creado por:*\n",
    "    \n",
    "*Isabel Maniega*"
   ]
  },
  {
   "cell_type": "markdown",
   "id": "ba082723",
   "metadata": {},
   "source": [
    "# -1.1- Introducción a Python (Continuación)"
   ]
  },
  {
   "cell_type": "markdown",
   "id": "27679309",
   "metadata": {},
   "source": [
    "## -1.1.0- Diccionarios"
   ]
  },
  {
   "cell_type": "code",
   "execution_count": null,
   "id": "c9b6eb78",
   "metadata": {},
   "outputs": [],
   "source": [
    "# clave-valor\n",
    "# \"key\": value\n",
    "# {\"key\": value}\n",
    "# {\"key1\": \"value1\", \"key2\": \"value2\",.....}"
   ]
  },
  {
   "cell_type": "code",
   "execution_count": 1,
   "id": "a69bcbcb",
   "metadata": {},
   "outputs": [
    {
     "data": {
      "text/plain": [
       "{'A': 10, 'B': -2, 'C': 35}"
      ]
     },
     "execution_count": 1,
     "metadata": {},
     "output_type": "execute_result"
    }
   ],
   "source": [
    "diccionario = {\"A\": 10, \"B\": -2, \"C\": 35}\n",
    "diccionario"
   ]
  },
  {
   "cell_type": "code",
   "execution_count": 2,
   "id": "ccf71370",
   "metadata": {},
   "outputs": [
    {
     "data": {
      "text/plain": [
       "10"
      ]
     },
     "execution_count": 2,
     "metadata": {},
     "output_type": "execute_result"
    }
   ],
   "source": [
    "diccionario[\"A\"] # 10"
   ]
  },
  {
   "cell_type": "code",
   "execution_count": 3,
   "id": "6104d588",
   "metadata": {},
   "outputs": [
    {
     "data": {
      "text/plain": [
       "35"
      ]
     },
     "execution_count": 3,
     "metadata": {},
     "output_type": "execute_result"
    }
   ],
   "source": [
    "diccionario[\"C\"] # 35"
   ]
  },
  {
   "cell_type": "code",
   "execution_count": 4,
   "id": "4ee0d5bb",
   "metadata": {},
   "outputs": [
    {
     "data": {
      "text/plain": [
       "-2"
      ]
     },
     "execution_count": 4,
     "metadata": {},
     "output_type": "execute_result"
    }
   ],
   "source": [
    "diccionario[\"B\"] # -2"
   ]
  },
  {
   "cell_type": "code",
   "execution_count": 5,
   "id": "34853469",
   "metadata": {},
   "outputs": [
    {
     "data": {
      "text/plain": [
       "3"
      ]
     },
     "execution_count": 5,
     "metadata": {},
     "output_type": "execute_result"
    }
   ],
   "source": [
    "len(diccionario)"
   ]
  },
  {
   "cell_type": "code",
   "execution_count": 6,
   "id": "cd326df5",
   "metadata": {},
   "outputs": [
    {
     "data": {
      "text/plain": [
       "{'clave1': 1, 'clave2': 2, 'clave3': 3}"
      ]
     },
     "execution_count": 6,
     "metadata": {},
     "output_type": "execute_result"
    }
   ],
   "source": [
    "diccionario = {\"clave1\": 1, \"clave2\": 2, \"clave3\": 3}\n",
    "diccionario"
   ]
  },
  {
   "cell_type": "code",
   "execution_count": 7,
   "id": "88fb3534",
   "metadata": {},
   "outputs": [
    {
     "data": {
      "text/plain": [
       "dict_keys(['clave1', 'clave2', 'clave3'])"
      ]
     },
     "execution_count": 7,
     "metadata": {},
     "output_type": "execute_result"
    }
   ],
   "source": [
    "# Mostrar valores de claves\n",
    "diccionario.keys()"
   ]
  },
  {
   "cell_type": "code",
   "execution_count": 8,
   "id": "a6cb7695",
   "metadata": {},
   "outputs": [
    {
     "data": {
      "text/plain": [
       "dict_keys"
      ]
     },
     "execution_count": 8,
     "metadata": {},
     "output_type": "execute_result"
    }
   ],
   "source": [
    "type(diccionario.keys())"
   ]
  },
  {
   "cell_type": "code",
   "execution_count": 9,
   "id": "5a99f0b0",
   "metadata": {},
   "outputs": [
    {
     "data": {
      "text/plain": [
       "dict_values([1, 2, 3])"
      ]
     },
     "execution_count": 9,
     "metadata": {},
     "output_type": "execute_result"
    }
   ],
   "source": [
    "# Mostrar valores de los valores\n",
    "diccionario.values()"
   ]
  },
  {
   "cell_type": "code",
   "execution_count": 10,
   "id": "2f366775",
   "metadata": {},
   "outputs": [
    {
     "data": {
      "text/plain": [
       "dict_items([('clave1', 1), ('clave2', 2), ('clave3', 3)])"
      ]
     },
     "execution_count": 10,
     "metadata": {},
     "output_type": "execute_result"
    }
   ],
   "source": [
    "# Mostrar información del diccionario\n",
    "# Usada en Bucles\n",
    "diccionario.items()"
   ]
  },
  {
   "cell_type": "code",
   "execution_count": 11,
   "id": "95e51cc2",
   "metadata": {},
   "outputs": [
    {
     "data": {
      "text/plain": [
       "{'clave1': 5, 'clave2': 2, 'clave3': 3}"
      ]
     },
     "execution_count": 11,
     "metadata": {},
     "output_type": "execute_result"
    }
   ],
   "source": [
    "# Modificación de un valor\n",
    "diccionario[\"clave1\"] = 5\n",
    "diccionario"
   ]
  },
  {
   "cell_type": "code",
   "execution_count": 12,
   "id": "cfc28e8b",
   "metadata": {},
   "outputs": [
    {
     "data": {
      "text/plain": [
       "{'clave1': 5, 'clave2': 2}"
      ]
     },
     "execution_count": 12,
     "metadata": {},
     "output_type": "execute_result"
    }
   ],
   "source": [
    "# Eliminacion de un campo del diccionario\n",
    "del diccionario[\"clave3\"]\n",
    "diccionario"
   ]
  },
  {
   "cell_type": "code",
   "execution_count": 13,
   "id": "b90e5b2c",
   "metadata": {},
   "outputs": [
    {
     "data": {
      "text/plain": [
       "2"
      ]
     },
     "execution_count": 13,
     "metadata": {},
     "output_type": "execute_result"
    }
   ],
   "source": [
    "len(diccionario)"
   ]
  },
  {
   "cell_type": "markdown",
   "id": "9c152ea5",
   "metadata": {},
   "source": [
    "## Usos de tuplas/listas y diccionarios en Dataframe"
   ]
  },
  {
   "cell_type": "code",
   "execution_count": 14,
   "id": "3b5a2e43",
   "metadata": {},
   "outputs": [],
   "source": [
    "import pandas as pd"
   ]
  },
  {
   "cell_type": "code",
   "execution_count": 15,
   "id": "98e76d26",
   "metadata": {},
   "outputs": [
    {
     "data": {
      "text/plain": [
       "['Andres', 'Marcos', 'Eva', 'María']"
      ]
     },
     "execution_count": 15,
     "metadata": {},
     "output_type": "execute_result"
    }
   ],
   "source": [
    "# Usamos comillas dobles para los nombres de los estudiantes (E)\n",
    "E = [\"Andres\", \"Marcos\", \"Eva\", \"María\"]\n",
    "E"
   ]
  },
  {
   "cell_type": "code",
   "execution_count": 16,
   "id": "1905fff1",
   "metadata": {},
   "outputs": [
    {
     "data": {
      "text/plain": [
       "[9, 7, 8, 6]"
      ]
     },
     "execution_count": 16,
     "metadata": {},
     "output_type": "execute_result"
    }
   ],
   "source": [
    "# Notas de los exámenes (N), de 0 a 10, siendo 10 la nota más alta\n",
    "N = [9, 7, 8, 6]\n",
    "N"
   ]
  },
  {
   "cell_type": "code",
   "execution_count": 17,
   "id": "0d6b4b82",
   "metadata": {},
   "outputs": [
    {
     "data": {
      "text/plain": [
       "[('Andres', 9), ('Marcos', 7), ('Eva', 8), ('María', 6)]"
      ]
     },
     "execution_count": 17,
     "metadata": {},
     "output_type": "execute_result"
    }
   ],
   "source": [
    "data = list(zip(E, N))\n",
    "data"
   ]
  },
  {
   "cell_type": "code",
   "execution_count": 18,
   "id": "2994135d",
   "metadata": {},
   "outputs": [
    {
     "data": {
      "text/html": [
       "<div>\n",
       "<style scoped>\n",
       "    .dataframe tbody tr th:only-of-type {\n",
       "        vertical-align: middle;\n",
       "    }\n",
       "\n",
       "    .dataframe tbody tr th {\n",
       "        vertical-align: top;\n",
       "    }\n",
       "\n",
       "    .dataframe thead th {\n",
       "        text-align: right;\n",
       "    }\n",
       "</style>\n",
       "<table border=\"1\" class=\"dataframe\">\n",
       "  <thead>\n",
       "    <tr style=\"text-align: right;\">\n",
       "      <th></th>\n",
       "      <th>Estudiantes</th>\n",
       "      <th>Notas</th>\n",
       "    </tr>\n",
       "  </thead>\n",
       "  <tbody>\n",
       "    <tr>\n",
       "      <th>0</th>\n",
       "      <td>Andres</td>\n",
       "      <td>9</td>\n",
       "    </tr>\n",
       "    <tr>\n",
       "      <th>1</th>\n",
       "      <td>Marcos</td>\n",
       "      <td>7</td>\n",
       "    </tr>\n",
       "    <tr>\n",
       "      <th>2</th>\n",
       "      <td>Eva</td>\n",
       "      <td>8</td>\n",
       "    </tr>\n",
       "    <tr>\n",
       "      <th>3</th>\n",
       "      <td>María</td>\n",
       "      <td>6</td>\n",
       "    </tr>\n",
       "  </tbody>\n",
       "</table>\n",
       "</div>"
      ],
      "text/plain": [
       "  Estudiantes  Notas\n",
       "0      Andres      9\n",
       "1      Marcos      7\n",
       "2         Eva      8\n",
       "3       María      6"
      ]
     },
     "execution_count": 18,
     "metadata": {},
     "output_type": "execute_result"
    }
   ],
   "source": [
    "df = pd.DataFrame(data, columns=[\"Estudiantes\", \"Notas\"])\n",
    "df"
   ]
  },
  {
   "cell_type": "code",
   "execution_count": 19,
   "id": "284299f1",
   "metadata": {},
   "outputs": [
    {
     "data": {
      "text/html": [
       "<div>\n",
       "<style scoped>\n",
       "    .dataframe tbody tr th:only-of-type {\n",
       "        vertical-align: middle;\n",
       "    }\n",
       "\n",
       "    .dataframe tbody tr th {\n",
       "        vertical-align: top;\n",
       "    }\n",
       "\n",
       "    .dataframe thead th {\n",
       "        text-align: right;\n",
       "    }\n",
       "</style>\n",
       "<table border=\"1\" class=\"dataframe\">\n",
       "  <thead>\n",
       "    <tr style=\"text-align: right;\">\n",
       "      <th></th>\n",
       "      <th>Estudiantes</th>\n",
       "      <th>Notas</th>\n",
       "    </tr>\n",
       "  </thead>\n",
       "  <tbody>\n",
       "    <tr>\n",
       "      <th>0</th>\n",
       "      <td>Andres</td>\n",
       "      <td>9</td>\n",
       "    </tr>\n",
       "    <tr>\n",
       "      <th>1</th>\n",
       "      <td>Marcos</td>\n",
       "      <td>7</td>\n",
       "    </tr>\n",
       "    <tr>\n",
       "      <th>2</th>\n",
       "      <td>Eva</td>\n",
       "      <td>8</td>\n",
       "    </tr>\n",
       "    <tr>\n",
       "      <th>3</th>\n",
       "      <td>María</td>\n",
       "      <td>6</td>\n",
       "    </tr>\n",
       "  </tbody>\n",
       "</table>\n",
       "</div>"
      ],
      "text/plain": [
       "  Estudiantes  Notas\n",
       "0      Andres      9\n",
       "1      Marcos      7\n",
       "2         Eva      8\n",
       "3       María      6"
      ]
     },
     "execution_count": 19,
     "metadata": {},
     "output_type": "execute_result"
    }
   ],
   "source": [
    "diccionario = {\"Estudiantes\": E, \"Notas\": N}\n",
    "df2 = pd.DataFrame(diccionario)\n",
    "df2"
   ]
  },
  {
   "cell_type": "code",
   "execution_count": 20,
   "id": "8e8b5be0",
   "metadata": {},
   "outputs": [
    {
     "data": {
      "text/plain": [
       "{'Estudiantes': ['Andres', 'Marcos', 'Eva', 'María'], 'Notas': [9, 7, 8, 6]}"
      ]
     },
     "execution_count": 20,
     "metadata": {},
     "output_type": "execute_result"
    }
   ],
   "source": [
    "curso = dict(Estudiantes=E, Notas=N)\n",
    "curso"
   ]
  },
  {
   "cell_type": "markdown",
   "id": "b9081255",
   "metadata": {},
   "source": [
    "## -1.1.1- Strings"
   ]
  },
  {
   "cell_type": "code",
   "execution_count": 21,
   "id": "5493a1ea",
   "metadata": {},
   "outputs": [
    {
     "data": {
      "text/plain": [
       "'Hola, ¿Como estás?'"
      ]
     },
     "execution_count": 21,
     "metadata": {},
     "output_type": "execute_result"
    }
   ],
   "source": [
    "s1 = \"Hola, ¿Como estás?\"\n",
    "s1"
   ]
  },
  {
   "cell_type": "code",
   "execution_count": 22,
   "id": "3f37b2c1",
   "metadata": {},
   "outputs": [
    {
     "data": {
      "text/plain": [
       "('?', '?')"
      ]
     },
     "execution_count": 22,
     "metadata": {},
     "output_type": "execute_result"
    }
   ],
   "source": [
    "s1[-1], s1[17]"
   ]
  },
  {
   "cell_type": "code",
   "execution_count": 23,
   "id": "de65893b",
   "metadata": {},
   "outputs": [
    {
     "data": {
      "text/plain": [
       "18"
      ]
     },
     "execution_count": 23,
     "metadata": {},
     "output_type": "execute_result"
    }
   ],
   "source": [
    "len(s1)"
   ]
  },
  {
   "cell_type": "code",
   "execution_count": 24,
   "id": "09776bec",
   "metadata": {},
   "outputs": [
    {
     "data": {
      "text/plain": [
       "('H', 'o', 'l', 'a', ',', ' ', '¿', 'C', 'o', 'm')"
      ]
     },
     "execution_count": 24,
     "metadata": {},
     "output_type": "execute_result"
    }
   ],
   "source": [
    "s1[0], s1[1], s1[2], s1[3], s1[4], s1[5], s1[6], s1[7], s1[8], s1[9]"
   ]
  },
  {
   "cell_type": "code",
   "execution_count": 25,
   "id": "c749cfe5",
   "metadata": {},
   "outputs": [
    {
     "data": {
      "text/plain": [
       "'H'"
      ]
     },
     "execution_count": 25,
     "metadata": {},
     "output_type": "execute_result"
    }
   ],
   "source": [
    "s1[0]"
   ]
  },
  {
   "cell_type": "code",
   "execution_count": 26,
   "id": "0a41f4cd",
   "metadata": {},
   "outputs": [
    {
     "data": {
      "text/plain": [
       "False"
      ]
     },
     "execution_count": 26,
     "metadata": {},
     "output_type": "execute_result"
    }
   ],
   "source": [
    "# Ejemplo de lista para buscar palabras que empiezen por \"J\": [\"Maria\", \"Juan\", \"Elisa\"]\n",
    "# startswith = False, True (Boleano)\n",
    "s1.startswith(\"J\")"
   ]
  },
  {
   "cell_type": "code",
   "execution_count": 27,
   "id": "5f991a46",
   "metadata": {},
   "outputs": [
    {
     "data": {
      "text/plain": [
       "True"
      ]
     },
     "execution_count": 27,
     "metadata": {},
     "output_type": "execute_result"
    }
   ],
   "source": [
    "s1.startswith(\"H\")"
   ]
  },
  {
   "cell_type": "code",
   "execution_count": 28,
   "id": "345f3db5",
   "metadata": {},
   "outputs": [
    {
     "data": {
      "text/plain": [
       "False"
      ]
     },
     "execution_count": 28,
     "metadata": {},
     "output_type": "execute_result"
    }
   ],
   "source": [
    "# Ejemplo de lista para buscar palabras que acaben por \"J\": [\"Maria\", \"Juan\", \"Elisa\"]\n",
    "# endswith = False, True (Boleano)\n",
    "s1.endswith(\"J\")"
   ]
  },
  {
   "cell_type": "code",
   "execution_count": 29,
   "id": "31911278",
   "metadata": {},
   "outputs": [
    {
     "data": {
      "text/plain": [
       "True"
      ]
     },
     "execution_count": 29,
     "metadata": {},
     "output_type": "execute_result"
    }
   ],
   "source": [
    "s1.endswith(\"?\")"
   ]
  },
  {
   "cell_type": "markdown",
   "id": "5672de7b",
   "metadata": {},
   "source": [
    "## -1.1.2- Listas con falta de valores (missing values)"
   ]
  },
  {
   "cell_type": "code",
   "execution_count": 30,
   "id": "77975530",
   "metadata": {},
   "outputs": [
    {
     "data": {
      "text/plain": [
       "[10, -20, None, 80, -5, None, 20]"
      ]
     },
     "execution_count": 30,
     "metadata": {},
     "output_type": "execute_result"
    }
   ],
   "source": [
    "L = [10, -20, None, 80, -5, None, 20]\n",
    "L"
   ]
  },
  {
   "cell_type": "code",
   "execution_count": 31,
   "id": "79a2560f",
   "metadata": {},
   "outputs": [
    {
     "data": {
      "text/plain": [
       "[10, -20, -1, 80, -5, None, 20]"
      ]
     },
     "execution_count": 31,
     "metadata": {},
     "output_type": "execute_result"
    }
   ],
   "source": [
    "L[2] = -1\n",
    "L"
   ]
  },
  {
   "cell_type": "code",
   "execution_count": 32,
   "id": "34282861",
   "metadata": {},
   "outputs": [
    {
     "data": {
      "text/plain": [
       "[10, -20, -1, 80, -5, -1, 20]"
      ]
     },
     "execution_count": 32,
     "metadata": {},
     "output_type": "execute_result"
    }
   ],
   "source": [
    "L[-2] = -1\n",
    "L"
   ]
  },
  {
   "cell_type": "code",
   "execution_count": 33,
   "id": "0f66d42a",
   "metadata": {},
   "outputs": [
    {
     "name": "stdout",
     "output_type": "stream",
     "text": [
      "10\n",
      "-20\n",
      "-1\n",
      "80\n",
      "-5\n",
      "-1\n",
      "20\n"
     ]
    }
   ],
   "source": [
    "# Bucles \"for\" muestre en lista\n",
    "for i in L:\n",
    "    print(i)"
   ]
  },
  {
   "cell_type": "code",
   "execution_count": 34,
   "id": "865e8ca7",
   "metadata": {},
   "outputs": [
    {
     "data": {
      "text/plain": [
       "[10, -20, None, 80, -5, None, 20]"
      ]
     },
     "execution_count": 34,
     "metadata": {},
     "output_type": "execute_result"
    }
   ],
   "source": [
    "L = [10, -20, None, 80, -5, None, 20]\n",
    "L"
   ]
  },
  {
   "cell_type": "code",
   "execution_count": 35,
   "id": "7154a119",
   "metadata": {},
   "outputs": [
    {
     "name": "stdout",
     "output_type": "stream",
     "text": [
      "0\n",
      "1\n",
      "2\n",
      "3\n",
      "4\n",
      "5\n",
      "6\n"
     ]
    }
   ],
   "source": [
    "# range: limita los valores a mostrar.\n",
    "# range decir empieza en posición 0 y acaba en posición 7\n",
    "for i in range(0, len(L)):\n",
    "    print(i)"
   ]
  },
  {
   "cell_type": "code",
   "execution_count": null,
   "id": "49d56772",
   "metadata": {},
   "outputs": [],
   "source": [
    "# condiciones: si esto es igual a x entonces....\n",
    "# if i == None:\n",
    "# sino haz esto otro = else:"
   ]
  },
  {
   "cell_type": "code",
   "execution_count": 36,
   "id": "95d98d3e",
   "metadata": {},
   "outputs": [
    {
     "name": "stdout",
     "output_type": "stream",
     "text": [
      "False\n",
      "False\n",
      "True\n",
      "False\n",
      "False\n",
      "True\n",
      "False\n"
     ]
    }
   ],
   "source": [
    "for i in range(0, len(L)):\n",
    "    if L[i] == None:\n",
    "        print(True)\n",
    "    else:\n",
    "        print(False)"
   ]
  },
  {
   "cell_type": "code",
   "execution_count": 37,
   "id": "d7fcca27",
   "metadata": {},
   "outputs": [
    {
     "data": {
      "text/plain": [
       "[10, -20, -1, 80, -5, -1, 20]"
      ]
     },
     "execution_count": 37,
     "metadata": {},
     "output_type": "execute_result"
    }
   ],
   "source": [
    "for i in range(0, len(L)):\n",
    "    if L[i] == None:\n",
    "        L[i] = -1\n",
    "L"
   ]
  },
  {
   "cell_type": "markdown",
   "id": "8f7aaefb",
   "metadata": {},
   "source": [
    "### Faltan valores en un Dataframe"
   ]
  },
  {
   "cell_type": "code",
   "execution_count": 38,
   "id": "bba8ef15",
   "metadata": {},
   "outputs": [
    {
     "data": {
      "text/plain": [
       "[10, -20, None, 80, -5, None, 20]"
      ]
     },
     "execution_count": 38,
     "metadata": {},
     "output_type": "execute_result"
    }
   ],
   "source": [
    "L = [10, -20, None, 80, -5, None, 20]\n",
    "L"
   ]
  },
  {
   "cell_type": "code",
   "execution_count": 39,
   "id": "d1110b90",
   "metadata": {},
   "outputs": [
    {
     "data": {
      "text/html": [
       "<div>\n",
       "<style scoped>\n",
       "    .dataframe tbody tr th:only-of-type {\n",
       "        vertical-align: middle;\n",
       "    }\n",
       "\n",
       "    .dataframe tbody tr th {\n",
       "        vertical-align: top;\n",
       "    }\n",
       "\n",
       "    .dataframe thead th {\n",
       "        text-align: right;\n",
       "    }\n",
       "</style>\n",
       "<table border=\"1\" class=\"dataframe\">\n",
       "  <thead>\n",
       "    <tr style=\"text-align: right;\">\n",
       "      <th></th>\n",
       "      <th>Temperatura</th>\n",
       "    </tr>\n",
       "  </thead>\n",
       "  <tbody>\n",
       "    <tr>\n",
       "      <th>0</th>\n",
       "      <td>10.0</td>\n",
       "    </tr>\n",
       "    <tr>\n",
       "      <th>1</th>\n",
       "      <td>-20.0</td>\n",
       "    </tr>\n",
       "    <tr>\n",
       "      <th>2</th>\n",
       "      <td>NaN</td>\n",
       "    </tr>\n",
       "    <tr>\n",
       "      <th>3</th>\n",
       "      <td>80.0</td>\n",
       "    </tr>\n",
       "    <tr>\n",
       "      <th>4</th>\n",
       "      <td>-5.0</td>\n",
       "    </tr>\n",
       "    <tr>\n",
       "      <th>5</th>\n",
       "      <td>NaN</td>\n",
       "    </tr>\n",
       "    <tr>\n",
       "      <th>6</th>\n",
       "      <td>20.0</td>\n",
       "    </tr>\n",
       "  </tbody>\n",
       "</table>\n",
       "</div>"
      ],
      "text/plain": [
       "   Temperatura\n",
       "0         10.0\n",
       "1        -20.0\n",
       "2          NaN\n",
       "3         80.0\n",
       "4         -5.0\n",
       "5          NaN\n",
       "6         20.0"
      ]
     },
     "execution_count": 39,
     "metadata": {},
     "output_type": "execute_result"
    }
   ],
   "source": [
    "import pandas as pd\n",
    "df = pd.DataFrame(L, columns=[\"Temperatura\"])\n",
    "df"
   ]
  },
  {
   "cell_type": "code",
   "execution_count": 40,
   "id": "307cdee2",
   "metadata": {},
   "outputs": [
    {
     "data": {
      "text/html": [
       "<div>\n",
       "<style scoped>\n",
       "    .dataframe tbody tr th:only-of-type {\n",
       "        vertical-align: middle;\n",
       "    }\n",
       "\n",
       "    .dataframe tbody tr th {\n",
       "        vertical-align: top;\n",
       "    }\n",
       "\n",
       "    .dataframe thead th {\n",
       "        text-align: right;\n",
       "    }\n",
       "</style>\n",
       "<table border=\"1\" class=\"dataframe\">\n",
       "  <thead>\n",
       "    <tr style=\"text-align: right;\">\n",
       "      <th></th>\n",
       "      <th>Temperatura</th>\n",
       "    </tr>\n",
       "  </thead>\n",
       "  <tbody>\n",
       "    <tr>\n",
       "      <th>0</th>\n",
       "      <td>False</td>\n",
       "    </tr>\n",
       "    <tr>\n",
       "      <th>1</th>\n",
       "      <td>False</td>\n",
       "    </tr>\n",
       "    <tr>\n",
       "      <th>2</th>\n",
       "      <td>True</td>\n",
       "    </tr>\n",
       "    <tr>\n",
       "      <th>3</th>\n",
       "      <td>False</td>\n",
       "    </tr>\n",
       "    <tr>\n",
       "      <th>4</th>\n",
       "      <td>False</td>\n",
       "    </tr>\n",
       "    <tr>\n",
       "      <th>5</th>\n",
       "      <td>True</td>\n",
       "    </tr>\n",
       "    <tr>\n",
       "      <th>6</th>\n",
       "      <td>False</td>\n",
       "    </tr>\n",
       "  </tbody>\n",
       "</table>\n",
       "</div>"
      ],
      "text/plain": [
       "   Temperatura\n",
       "0        False\n",
       "1        False\n",
       "2         True\n",
       "3        False\n",
       "4        False\n",
       "5         True\n",
       "6        False"
      ]
     },
     "execution_count": 40,
     "metadata": {},
     "output_type": "execute_result"
    }
   ],
   "source": [
    "df.isnull()"
   ]
  },
  {
   "cell_type": "code",
   "execution_count": 41,
   "id": "1c1b71e2",
   "metadata": {},
   "outputs": [
    {
     "data": {
      "text/plain": [
       "Temperatura    2\n",
       "dtype: int64"
      ]
     },
     "execution_count": 41,
     "metadata": {},
     "output_type": "execute_result"
    }
   ],
   "source": [
    "df.isnull().sum()"
   ]
  },
  {
   "cell_type": "code",
   "execution_count": 42,
   "id": "9b027fca",
   "metadata": {},
   "outputs": [
    {
     "data": {
      "text/html": [
       "<div>\n",
       "<style scoped>\n",
       "    .dataframe tbody tr th:only-of-type {\n",
       "        vertical-align: middle;\n",
       "    }\n",
       "\n",
       "    .dataframe tbody tr th {\n",
       "        vertical-align: top;\n",
       "    }\n",
       "\n",
       "    .dataframe thead th {\n",
       "        text-align: right;\n",
       "    }\n",
       "</style>\n",
       "<table border=\"1\" class=\"dataframe\">\n",
       "  <thead>\n",
       "    <tr style=\"text-align: right;\">\n",
       "      <th></th>\n",
       "      <th>Temperatura</th>\n",
       "    </tr>\n",
       "  </thead>\n",
       "  <tbody>\n",
       "    <tr>\n",
       "      <th>count</th>\n",
       "      <td>5.000000</td>\n",
       "    </tr>\n",
       "    <tr>\n",
       "      <th>mean</th>\n",
       "      <td>17.000000</td>\n",
       "    </tr>\n",
       "    <tr>\n",
       "      <th>std</th>\n",
       "      <td>38.340579</td>\n",
       "    </tr>\n",
       "    <tr>\n",
       "      <th>min</th>\n",
       "      <td>-20.000000</td>\n",
       "    </tr>\n",
       "    <tr>\n",
       "      <th>25%</th>\n",
       "      <td>-5.000000</td>\n",
       "    </tr>\n",
       "    <tr>\n",
       "      <th>50%</th>\n",
       "      <td>10.000000</td>\n",
       "    </tr>\n",
       "    <tr>\n",
       "      <th>75%</th>\n",
       "      <td>20.000000</td>\n",
       "    </tr>\n",
       "    <tr>\n",
       "      <th>max</th>\n",
       "      <td>80.000000</td>\n",
       "    </tr>\n",
       "  </tbody>\n",
       "</table>\n",
       "</div>"
      ],
      "text/plain": [
       "       Temperatura\n",
       "count     5.000000\n",
       "mean     17.000000\n",
       "std      38.340579\n",
       "min     -20.000000\n",
       "25%      -5.000000\n",
       "50%      10.000000\n",
       "75%      20.000000\n",
       "max      80.000000"
      ]
     },
     "execution_count": 42,
     "metadata": {},
     "output_type": "execute_result"
    }
   ],
   "source": [
    "df.describe()"
   ]
  },
  {
   "cell_type": "code",
   "execution_count": 43,
   "id": "e710edc5",
   "metadata": {},
   "outputs": [
    {
     "data": {
      "text/html": [
       "<div>\n",
       "<style scoped>\n",
       "    .dataframe tbody tr th:only-of-type {\n",
       "        vertical-align: middle;\n",
       "    }\n",
       "\n",
       "    .dataframe tbody tr th {\n",
       "        vertical-align: top;\n",
       "    }\n",
       "\n",
       "    .dataframe thead th {\n",
       "        text-align: right;\n",
       "    }\n",
       "</style>\n",
       "<table border=\"1\" class=\"dataframe\">\n",
       "  <thead>\n",
       "    <tr style=\"text-align: right;\">\n",
       "      <th></th>\n",
       "      <th>Temperatura</th>\n",
       "    </tr>\n",
       "  </thead>\n",
       "  <tbody>\n",
       "    <tr>\n",
       "      <th>0</th>\n",
       "      <td>10.0</td>\n",
       "    </tr>\n",
       "    <tr>\n",
       "      <th>1</th>\n",
       "      <td>-20.0</td>\n",
       "    </tr>\n",
       "    <tr>\n",
       "      <th>2</th>\n",
       "      <td>NaN</td>\n",
       "    </tr>\n",
       "    <tr>\n",
       "      <th>3</th>\n",
       "      <td>80.0</td>\n",
       "    </tr>\n",
       "    <tr>\n",
       "      <th>4</th>\n",
       "      <td>-5.0</td>\n",
       "    </tr>\n",
       "    <tr>\n",
       "      <th>5</th>\n",
       "      <td>NaN</td>\n",
       "    </tr>\n",
       "    <tr>\n",
       "      <th>6</th>\n",
       "      <td>20.0</td>\n",
       "    </tr>\n",
       "  </tbody>\n",
       "</table>\n",
       "</div>"
      ],
      "text/plain": [
       "   Temperatura\n",
       "0         10.0\n",
       "1        -20.0\n",
       "2          NaN\n",
       "3         80.0\n",
       "4         -5.0\n",
       "5          NaN\n",
       "6         20.0"
      ]
     },
     "execution_count": 43,
     "metadata": {},
     "output_type": "execute_result"
    }
   ],
   "source": [
    "df"
   ]
  },
  {
   "cell_type": "code",
   "execution_count": 44,
   "id": "146fbe5c",
   "metadata": {},
   "outputs": [
    {
     "data": {
      "text/html": [
       "<div>\n",
       "<style scoped>\n",
       "    .dataframe tbody tr th:only-of-type {\n",
       "        vertical-align: middle;\n",
       "    }\n",
       "\n",
       "    .dataframe tbody tr th {\n",
       "        vertical-align: top;\n",
       "    }\n",
       "\n",
       "    .dataframe thead th {\n",
       "        text-align: right;\n",
       "    }\n",
       "</style>\n",
       "<table border=\"1\" class=\"dataframe\">\n",
       "  <thead>\n",
       "    <tr style=\"text-align: right;\">\n",
       "      <th></th>\n",
       "      <th>Temperatura</th>\n",
       "    </tr>\n",
       "  </thead>\n",
       "  <tbody>\n",
       "    <tr>\n",
       "      <th>0</th>\n",
       "      <td>10.0</td>\n",
       "    </tr>\n",
       "    <tr>\n",
       "      <th>1</th>\n",
       "      <td>-20.0</td>\n",
       "    </tr>\n",
       "    <tr>\n",
       "      <th>2</th>\n",
       "      <td>17.0</td>\n",
       "    </tr>\n",
       "    <tr>\n",
       "      <th>3</th>\n",
       "      <td>80.0</td>\n",
       "    </tr>\n",
       "    <tr>\n",
       "      <th>4</th>\n",
       "      <td>-5.0</td>\n",
       "    </tr>\n",
       "    <tr>\n",
       "      <th>5</th>\n",
       "      <td>17.0</td>\n",
       "    </tr>\n",
       "    <tr>\n",
       "      <th>6</th>\n",
       "      <td>20.0</td>\n",
       "    </tr>\n",
       "  </tbody>\n",
       "</table>\n",
       "</div>"
      ],
      "text/plain": [
       "   Temperatura\n",
       "0         10.0\n",
       "1        -20.0\n",
       "2         17.0\n",
       "3         80.0\n",
       "4         -5.0\n",
       "5         17.0\n",
       "6         20.0"
      ]
     },
     "execution_count": 44,
     "metadata": {},
     "output_type": "execute_result"
    }
   ],
   "source": [
    "df.Temperatura = df.Temperatura.fillna(df.Temperatura.mean())\n",
    "df"
   ]
  },
  {
   "cell_type": "code",
   "execution_count": 45,
   "id": "896905f1",
   "metadata": {},
   "outputs": [
    {
     "data": {
      "text/html": [
       "<div>\n",
       "<style scoped>\n",
       "    .dataframe tbody tr th:only-of-type {\n",
       "        vertical-align: middle;\n",
       "    }\n",
       "\n",
       "    .dataframe tbody tr th {\n",
       "        vertical-align: top;\n",
       "    }\n",
       "\n",
       "    .dataframe thead th {\n",
       "        text-align: right;\n",
       "    }\n",
       "</style>\n",
       "<table border=\"1\" class=\"dataframe\">\n",
       "  <thead>\n",
       "    <tr style=\"text-align: right;\">\n",
       "      <th></th>\n",
       "      <th>Temperatura</th>\n",
       "      <th>Humedad</th>\n",
       "    </tr>\n",
       "  </thead>\n",
       "  <tbody>\n",
       "    <tr>\n",
       "      <th>0</th>\n",
       "      <td>10.0</td>\n",
       "      <td>10</td>\n",
       "    </tr>\n",
       "    <tr>\n",
       "      <th>1</th>\n",
       "      <td>-20.0</td>\n",
       "      <td>20</td>\n",
       "    </tr>\n",
       "    <tr>\n",
       "      <th>2</th>\n",
       "      <td>17.0</td>\n",
       "      <td>30</td>\n",
       "    </tr>\n",
       "    <tr>\n",
       "      <th>3</th>\n",
       "      <td>80.0</td>\n",
       "      <td>40</td>\n",
       "    </tr>\n",
       "    <tr>\n",
       "      <th>4</th>\n",
       "      <td>-5.0</td>\n",
       "      <td>50</td>\n",
       "    </tr>\n",
       "    <tr>\n",
       "      <th>5</th>\n",
       "      <td>17.0</td>\n",
       "      <td>60</td>\n",
       "    </tr>\n",
       "    <tr>\n",
       "      <th>6</th>\n",
       "      <td>20.0</td>\n",
       "      <td>70</td>\n",
       "    </tr>\n",
       "  </tbody>\n",
       "</table>\n",
       "</div>"
      ],
      "text/plain": [
       "   Temperatura  Humedad\n",
       "0         10.0       10\n",
       "1        -20.0       20\n",
       "2         17.0       30\n",
       "3         80.0       40\n",
       "4         -5.0       50\n",
       "5         17.0       60\n",
       "6         20.0       70"
      ]
     },
     "execution_count": 45,
     "metadata": {},
     "output_type": "execute_result"
    }
   ],
   "source": [
    "df['Humedad'] = [10, 20, 30, 40, 50, 60, 70]\n",
    "df"
   ]
  },
  {
   "cell_type": "code",
   "execution_count": 46,
   "id": "865b588c",
   "metadata": {},
   "outputs": [
    {
     "data": {
      "text/html": [
       "<div>\n",
       "<style scoped>\n",
       "    .dataframe tbody tr th:only-of-type {\n",
       "        vertical-align: middle;\n",
       "    }\n",
       "\n",
       "    .dataframe tbody tr th {\n",
       "        vertical-align: top;\n",
       "    }\n",
       "\n",
       "    .dataframe thead th {\n",
       "        text-align: right;\n",
       "    }\n",
       "</style>\n",
       "<table border=\"1\" class=\"dataframe\">\n",
       "  <thead>\n",
       "    <tr style=\"text-align: right;\">\n",
       "      <th></th>\n",
       "      <th>Temperatura</th>\n",
       "    </tr>\n",
       "  </thead>\n",
       "  <tbody>\n",
       "    <tr>\n",
       "      <th>0</th>\n",
       "      <td>10.0</td>\n",
       "    </tr>\n",
       "    <tr>\n",
       "      <th>1</th>\n",
       "      <td>-20.0</td>\n",
       "    </tr>\n",
       "    <tr>\n",
       "      <th>2</th>\n",
       "      <td>17.0</td>\n",
       "    </tr>\n",
       "    <tr>\n",
       "      <th>3</th>\n",
       "      <td>80.0</td>\n",
       "    </tr>\n",
       "    <tr>\n",
       "      <th>4</th>\n",
       "      <td>-5.0</td>\n",
       "    </tr>\n",
       "    <tr>\n",
       "      <th>5</th>\n",
       "      <td>17.0</td>\n",
       "    </tr>\n",
       "    <tr>\n",
       "      <th>6</th>\n",
       "      <td>20.0</td>\n",
       "    </tr>\n",
       "  </tbody>\n",
       "</table>\n",
       "</div>"
      ],
      "text/plain": [
       "   Temperatura\n",
       "0         10.0\n",
       "1        -20.0\n",
       "2         17.0\n",
       "3         80.0\n",
       "4         -5.0\n",
       "5         17.0\n",
       "6         20.0"
      ]
     },
     "execution_count": 46,
     "metadata": {},
     "output_type": "execute_result"
    }
   ],
   "source": [
    "df = df.drop([\"Humedad\"], axis=1)\n",
    "df"
   ]
  },
  {
   "cell_type": "markdown",
   "id": "8ba798aa",
   "metadata": {},
   "source": [
    "### Range de números"
   ]
  },
  {
   "cell_type": "code",
   "execution_count": 47,
   "id": "902aa67e",
   "metadata": {},
   "outputs": [
    {
     "data": {
      "text/plain": [
       "range(1, 10)"
      ]
     },
     "execution_count": 47,
     "metadata": {},
     "output_type": "execute_result"
    }
   ],
   "source": [
    "# range(inicio, fin+1, salto)\n",
    "# rango = range(1, 10) --> defecto el salto 1\n",
    "rango = range(1, 10, 1)\n",
    "rango"
   ]
  },
  {
   "cell_type": "code",
   "execution_count": 48,
   "id": "9fe987cd",
   "metadata": {},
   "outputs": [
    {
     "name": "stdout",
     "output_type": "stream",
     "text": [
      "1\n",
      "2\n",
      "3\n",
      "4\n",
      "5\n",
      "6\n",
      "7\n",
      "8\n",
      "9\n"
     ]
    }
   ],
   "source": [
    "# imprimimos los valores del rango\n",
    "for numero in rango:\n",
    "    print(numero)"
   ]
  },
  {
   "cell_type": "code",
   "execution_count": 50,
   "id": "5fb91133",
   "metadata": {},
   "outputs": [
    {
     "name": "stdout",
     "output_type": "stream",
     "text": [
      "Añadiendo valores:  [1]\n",
      "Añadiendo valores:  [1, 2]\n",
      "Añadiendo valores:  [1, 2, 3]\n",
      "Añadiendo valores:  [1, 2, 3, 4]\n",
      "Añadiendo valores:  [1, 2, 3, 4, 5]\n",
      "Añadiendo valores:  [1, 2, 3, 4, 5, 6]\n",
      "Añadiendo valores:  [1, 2, 3, 4, 5, 6, 7]\n",
      "Añadiendo valores:  [1, 2, 3, 4, 5, 6, 7, 8]\n",
      "Añadiendo valores:  [1, 2, 3, 4, 5, 6, 7, 8, 9]\n",
      "Listado final:  [1, 2, 3, 4, 5, 6, 7, 8, 9]\n"
     ]
    }
   ],
   "source": [
    "# les almacenamos e imprimos\n",
    "listado_rango = []\n",
    "for numero in rango:\n",
    "    listado_rango.append(numero)\n",
    "    # print(\"Añadiendo valores: \", listado_rango)\n",
    "print(\"Listado final: \", listado_rango)"
   ]
  },
  {
   "cell_type": "markdown",
   "id": "681f987f",
   "metadata": {},
   "source": [
    "**np.arange: otra forma posible**"
   ]
  },
  {
   "cell_type": "code",
   "execution_count": 52,
   "id": "b1a28eb2",
   "metadata": {},
   "outputs": [],
   "source": [
    "import numpy as np"
   ]
  },
  {
   "cell_type": "code",
   "execution_count": 53,
   "id": "c7eb468b",
   "metadata": {},
   "outputs": [
    {
     "data": {
      "text/plain": [
       "array([1, 2, 3, 4, 5, 6, 7, 8, 9])"
      ]
     },
     "execution_count": 53,
     "metadata": {},
     "output_type": "execute_result"
    }
   ],
   "source": [
    "# range(inicio, fin+1, salto)\n",
    "# rango = range(1, 10, 1)\n",
    "rango_np = np.arange(1, 10, 1)\n",
    "rango_np"
   ]
  },
  {
   "cell_type": "code",
   "execution_count": 54,
   "id": "2ed0df52",
   "metadata": {},
   "outputs": [
    {
     "data": {
      "text/plain": [
       "[1, 2, 3, 4, 5, 6, 7, 8, 9]"
      ]
     },
     "execution_count": 54,
     "metadata": {},
     "output_type": "execute_result"
    }
   ],
   "source": [
    "# Convertir de array a lista\n",
    "rango_lista = rango_np.tolist()\n",
    "rango_lista"
   ]
  },
  {
   "cell_type": "code",
   "execution_count": 55,
   "id": "30863b17",
   "metadata": {},
   "outputs": [
    {
     "data": {
      "text/plain": [
       "[3, 6, 9, 12, 15, 18, 21, 24, 27, 30, 33, 36]"
      ]
     },
     "execution_count": 55,
     "metadata": {},
     "output_type": "execute_result"
    }
   ],
   "source": [
    "# Aplicar saltos\n",
    "# range(inicio, fin+1, salto)\n",
    "num = np.arange(3, 37, 3).tolist()\n",
    "num"
   ]
  },
  {
   "cell_type": "code",
   "execution_count": 56,
   "id": "36312195",
   "metadata": {},
   "outputs": [
    {
     "data": {
      "text/plain": [
       "array([1, 2, 3, 4, 5, 6, 7, 8, 9])"
      ]
     },
     "execution_count": 56,
     "metadata": {},
     "output_type": "execute_result"
    }
   ],
   "source": [
    "# Cuando es de 1 en 1. No es necesario añadirlo:\n",
    "# rango = range(1, 10, 1)\n",
    "rango_np = np.arange(1, 10)\n",
    "rango_np"
   ]
  },
  {
   "cell_type": "code",
   "execution_count": 57,
   "id": "08fc455a",
   "metadata": {},
   "outputs": [
    {
     "data": {
      "text/plain": [
       "array([0, 1, 2, 3, 4, 5, 6, 7, 8, 9])"
      ]
     },
     "execution_count": 57,
     "metadata": {},
     "output_type": "execute_result"
    }
   ],
   "source": [
    "# si nosotros queremos que empiece 0, no es necesario indicarlo:\n",
    "rango_np2 = np.arange(10)\n",
    "rango_np2"
   ]
  },
  {
   "cell_type": "code",
   "execution_count": 58,
   "id": "9c4ec043",
   "metadata": {},
   "outputs": [
    {
     "data": {
      "text/plain": [
       "array([0, 1, 2, 3, 4, 5, 6, 7, 8, 9])"
      ]
     },
     "execution_count": 58,
     "metadata": {},
     "output_type": "execute_result"
    }
   ],
   "source": [
    "# equivale a:\n",
    "# si nosotros queremos que empiece 0, no es necesario indicarlo:\n",
    "rango_np2 = np.arange(0, 10)\n",
    "rango_np2"
   ]
  },
  {
   "cell_type": "markdown",
   "id": "b67a459b",
   "metadata": {},
   "source": [
    "## -1.2- Funciones, Clases y Objetos"
   ]
  },
  {
   "cell_type": "markdown",
   "id": "93762594",
   "metadata": {},
   "source": [
    "### Concepto de función general:"
   ]
  },
  {
   "cell_type": "code",
   "execution_count": null,
   "id": "129e90dd",
   "metadata": {},
   "outputs": [],
   "source": [
    "# Funciones se definen:\n",
    "# def nombre de la funcion():"
   ]
  },
  {
   "cell_type": "code",
   "execution_count": 59,
   "id": "808fc51a",
   "metadata": {},
   "outputs": [],
   "source": [
    "# 1º definir función:\n",
    "def funcion_suma(x):\n",
    "    y = x + 20\n",
    "    return y"
   ]
  },
  {
   "cell_type": "code",
   "execution_count": 60,
   "id": "efd6d91c",
   "metadata": {},
   "outputs": [
    {
     "data": {
      "text/plain": [
       "25"
      ]
     },
     "execution_count": 60,
     "metadata": {},
     "output_type": "execute_result"
    }
   ],
   "source": [
    "funcion_suma(5)"
   ]
  },
  {
   "cell_type": "code",
   "execution_count": 61,
   "id": "f69c050c",
   "metadata": {},
   "outputs": [
    {
     "data": {
      "text/plain": [
       "30"
      ]
     },
     "execution_count": 61,
     "metadata": {},
     "output_type": "execute_result"
    }
   ],
   "source": [
    "funcion_suma(10)"
   ]
  },
  {
   "cell_type": "markdown",
   "id": "45bd03a9",
   "metadata": {},
   "source": [
    "### Función lambda"
   ]
  },
  {
   "cell_type": "code",
   "execution_count": 62,
   "id": "5402ace1",
   "metadata": {},
   "outputs": [
    {
     "data": {
      "text/plain": [
       "25"
      ]
     },
     "execution_count": 62,
     "metadata": {},
     "output_type": "execute_result"
    }
   ],
   "source": [
    "# con funciones:\n",
    "def funcion_suma_1(x):\n",
    "    return x +20\n",
    "funcion_suma_1(5)"
   ]
  },
  {
   "cell_type": "code",
   "execution_count": 63,
   "id": "b55f7250",
   "metadata": {},
   "outputs": [
    {
     "data": {
      "text/plain": [
       "30"
      ]
     },
     "execution_count": 63,
     "metadata": {},
     "output_type": "execute_result"
    }
   ],
   "source": [
    "funcion_suma_1(10)"
   ]
  },
  {
   "cell_type": "code",
   "execution_count": 64,
   "id": "abe7c2db",
   "metadata": {},
   "outputs": [
    {
     "data": {
      "text/plain": [
       "25"
      ]
     },
     "execution_count": 64,
     "metadata": {},
     "output_type": "execute_result"
    }
   ],
   "source": [
    "# con lambda:\n",
    "(lambda x: x + 20)(5)"
   ]
  },
  {
   "cell_type": "code",
   "execution_count": 65,
   "id": "d859b825",
   "metadata": {},
   "outputs": [
    {
     "data": {
      "text/plain": [
       "30"
      ]
     },
     "execution_count": 65,
     "metadata": {},
     "output_type": "execute_result"
    }
   ],
   "source": [
    "# con lambda:\n",
    "(lambda x: x + 20)(10)"
   ]
  },
  {
   "cell_type": "markdown",
   "id": "9b316dba",
   "metadata": {},
   "source": [
    "### Break (continue, pass, NO EXPLICADOS de momento)"
   ]
  },
  {
   "cell_type": "code",
   "execution_count": 66,
   "id": "e7f524ab",
   "metadata": {},
   "outputs": [
    {
     "data": {
      "text/plain": [
       "[2, 5, 7, 9, 12, 25, -6]"
      ]
     },
     "execution_count": 66,
     "metadata": {},
     "output_type": "execute_result"
    }
   ],
   "source": [
    "L = [2, 5, 7, 9, 12, 25, -6]\n",
    "L"
   ]
  },
  {
   "cell_type": "code",
   "execution_count": 67,
   "id": "5e322b0e",
   "metadata": {},
   "outputs": [
    {
     "name": "stdout",
     "output_type": "stream",
     "text": [
      "2\n",
      "5\n",
      "7\n",
      "\n",
      "\n",
      "hemos llegado al valor 9, y salió del bucle FOR\n"
     ]
    }
   ],
   "source": [
    "for numero in L:\n",
    "    if numero == 9:\n",
    "        print(\"\\n\")\n",
    "        break # Rompa el bucles: pare el bucle for\n",
    "    else:\n",
    "        print(numero)\n",
    "print(\"hemos llegado al valor 9, y salió del bucle FOR\")\n",
    "# 2, 5, 7 Les imprime\n",
    "# 9 Salta (NO IMPRIME), \\n permite dejar la linea en blanco\n",
    "# 12, 25, -6 NO se IMPRIMEN"
   ]
  },
  {
   "cell_type": "markdown",
   "id": "3b452db8",
   "metadata": {},
   "source": [
    "### Clases"
   ]
  },
  {
   "cell_type": "code",
   "execution_count": 68,
   "id": "346a9c5a",
   "metadata": {},
   "outputs": [],
   "source": [
    "# definir una clase pone class + nombre de la clase:\n",
    "class Python:\n",
    "    def funcion_imprimir(y):\n",
    "        print(\"estamos aquí en la función imprimir: \", y)\n",
    "    \n",
    "    def funcion_suma():\n",
    "        x = 2\n",
    "        z = 4\n",
    "        y = x + z\n",
    "        print(\"Estamos en la función suma y la suma de y es %s\" %(y))\n",
    "        "
   ]
  },
  {
   "cell_type": "code",
   "execution_count": 69,
   "id": "3b072f81",
   "metadata": {},
   "outputs": [
    {
     "name": "stdout",
     "output_type": "stream",
     "text": [
      "estamos aquí en la función imprimir:  8\n"
     ]
    }
   ],
   "source": [
    "Python.funcion_imprimir(8)"
   ]
  },
  {
   "cell_type": "code",
   "execution_count": 70,
   "id": "041c817f",
   "metadata": {},
   "outputs": [
    {
     "name": "stdout",
     "output_type": "stream",
     "text": [
      "Estamos en la función suma y la suma de y es 6\n"
     ]
    }
   ],
   "source": [
    "Python.funcion_suma()"
   ]
  },
  {
   "cell_type": "markdown",
   "id": "474491c2",
   "metadata": {},
   "source": [
    "## Programación Orientada a Objetos (POO)"
   ]
  },
  {
   "cell_type": "code",
   "execution_count": 71,
   "id": "78b62f5a",
   "metadata": {},
   "outputs": [],
   "source": [
    "class Empleado:\n",
    "    # funciones se les llama MÉTODOS.\n",
    "    # variables se les llama ATRIBUTOS\n",
    "    # Init se pone con (__) dos barras bajas:\n",
    "    def __init__(self, Id, Name, Age, Role):\n",
    "        self.Id = Id\n",
    "        self.Name = Name\n",
    "        self.Age = Age\n",
    "        self.Role = Role\n",
    "# Instancio\n",
    "# genero tantos clientes/empleados como quiera de esta forma\n",
    "# empleado1 es el objeto1\n",
    "empleado1 = Empleado(1, \"Ana\", 30, \"Ingeniera\")\n",
    "empleado2 = Empleado(2, \"Pedro\", 26, \"Arquitecto\")\n",
    "empleado3 = Empleado(3, \"Maria\", 54, \"Abogado\")"
   ]
  },
  {
   "cell_type": "code",
   "execution_count": 72,
   "id": "ff136b26",
   "metadata": {},
   "outputs": [
    {
     "data": {
      "text/plain": [
       "30"
      ]
     },
     "execution_count": 72,
     "metadata": {},
     "output_type": "execute_result"
    }
   ],
   "source": [
    "empleado1.Age"
   ]
  },
  {
   "cell_type": "code",
   "execution_count": 73,
   "id": "ba624d54",
   "metadata": {},
   "outputs": [
    {
     "data": {
      "text/plain": [
       "'Abogado'"
      ]
     },
     "execution_count": 73,
     "metadata": {},
     "output_type": "execute_result"
    }
   ],
   "source": [
    "empleado3.Role"
   ]
  },
  {
   "cell_type": "markdown",
   "id": "19df4b9c",
   "metadata": {},
   "source": [
    "### Try - Except"
   ]
  },
  {
   "cell_type": "code",
   "execution_count": 74,
   "id": "eba9a37d",
   "metadata": {},
   "outputs": [
    {
     "data": {
      "text/plain": [
       "[1, 2, 3, 4]"
      ]
     },
     "execution_count": 74,
     "metadata": {},
     "output_type": "execute_result"
    }
   ],
   "source": [
    "x = [1, 2, 3, 4]\n",
    "x"
   ]
  },
  {
   "cell_type": "code",
   "execution_count": 75,
   "id": "ea566fa0",
   "metadata": {},
   "outputs": [
    {
     "name": "stdout",
     "output_type": "stream",
     "text": [
      "w no esta definida, no podemos imprimirla\n"
     ]
    }
   ],
   "source": [
    "try:\n",
    "    print(w)\n",
    "except:\n",
    "    print(\"w no esta definida, no podemos imprimirla\")    "
   ]
  },
  {
   "cell_type": "code",
   "execution_count": 76,
   "id": "d25c4533",
   "metadata": {},
   "outputs": [
    {
     "name": "stdout",
     "output_type": "stream",
     "text": [
      "[1, 2, 3, 4]\n"
     ]
    }
   ],
   "source": [
    "try:\n",
    "    print(x)\n",
    "except:\n",
    "    print(\"w no esta definida, no podemos imprimirla\")   "
   ]
  },
  {
   "cell_type": "code",
   "execution_count": 77,
   "id": "91e742a6",
   "metadata": {},
   "outputs": [
    {
     "name": "stdout",
     "output_type": "stream",
     "text": [
      "### Error: name 'w' is not defined\n"
     ]
    }
   ],
   "source": [
    "try:\n",
    "    print(w)\n",
    "except Exception as e:\n",
    "    print(\"### Error: %s\" %str(e))    "
   ]
  },
  {
   "cell_type": "markdown",
   "id": "31a7c31b",
   "metadata": {},
   "source": [
    "*Contenido creado por:*\n",
    "\n",
    "*Isabel Maniega*"
   ]
  }
 ],
 "metadata": {
  "kernelspec": {
   "display_name": "Python 3",
   "language": "python",
   "name": "python3"
  },
  "language_info": {
   "codemirror_mode": {
    "name": "ipython",
    "version": 3
   },
   "file_extension": ".py",
   "mimetype": "text/x-python",
   "name": "python",
   "nbconvert_exporter": "python",
   "pygments_lexer": "ipython3",
   "version": "3.8.10"
  }
 },
 "nbformat": 4,
 "nbformat_minor": 5
}

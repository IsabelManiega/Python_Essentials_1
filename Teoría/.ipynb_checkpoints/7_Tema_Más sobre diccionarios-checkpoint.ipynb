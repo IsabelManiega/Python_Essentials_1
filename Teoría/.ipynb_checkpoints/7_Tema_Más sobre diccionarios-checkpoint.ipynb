{
 "cells": [
  {
   "cell_type": "markdown",
   "id": "13150eb1",
   "metadata": {},
   "source": [
    "*Creado por:*\n",
    "    \n",
    "*Isabel Maniega*"
   ]
  },
  {
   "cell_type": "markdown",
   "id": "afd02500",
   "metadata": {},
   "source": [
    "# -5- Diccionarios"
   ]
  },
  {
   "cell_type": "markdown",
   "id": "ec7bdd2f",
   "metadata": {},
   "source": [
    "Los diccionarios se usan en:\n",
    "* Machine learning\n",
    "* Base de datos: NoSQL como es MongoDB\n",
    "* en JSON, etc"
   ]
  },
  {
   "cell_type": "markdown",
   "id": "1b000534",
   "metadata": {},
   "source": [
    "## Parte 1"
   ]
  },
  {
   "cell_type": "code",
   "execution_count": null,
   "id": "288582c8",
   "metadata": {},
   "outputs": [],
   "source": [
    "# clave-valor\n",
    "# \"key\": \"value\"\n",
    "# { \"key\": \"value\"}\n",
    "# { \"key\": \"value\", \"key2\": \"value2\", \"key3\": \"value3\", ...}"
   ]
  },
  {
   "cell_type": "code",
   "execution_count": 1,
   "id": "80d9dcc6",
   "metadata": {},
   "outputs": [
    {
     "data": {
      "text/plain": [
       "{'A': 10, 'B': 2, 'C': 35}"
      ]
     },
     "execution_count": 1,
     "metadata": {},
     "output_type": "execute_result"
    }
   ],
   "source": [
    "diccionario = {\"A\": 10, \"B\": 2, \"C\": 35}\n",
    "diccionario"
   ]
  },
  {
   "cell_type": "code",
   "execution_count": 2,
   "id": "13460ffa",
   "metadata": {},
   "outputs": [
    {
     "data": {
      "text/plain": [
       "10"
      ]
     },
     "execution_count": 2,
     "metadata": {},
     "output_type": "execute_result"
    }
   ],
   "source": [
    "diccionario[\"A\"]"
   ]
  },
  {
   "cell_type": "code",
   "execution_count": 3,
   "id": "fbcb7bd4",
   "metadata": {},
   "outputs": [
    {
     "data": {
      "text/plain": [
       "2"
      ]
     },
     "execution_count": 3,
     "metadata": {},
     "output_type": "execute_result"
    }
   ],
   "source": [
    "diccionario[\"B\"]"
   ]
  },
  {
   "cell_type": "code",
   "execution_count": 4,
   "id": "e2dd40b5",
   "metadata": {},
   "outputs": [
    {
     "data": {
      "text/plain": [
       "35"
      ]
     },
     "execution_count": 4,
     "metadata": {},
     "output_type": "execute_result"
    }
   ],
   "source": [
    "diccionario[\"C\"]"
   ]
  },
  {
   "cell_type": "code",
   "execution_count": 5,
   "id": "ac5eaa50",
   "metadata": {},
   "outputs": [
    {
     "data": {
      "text/plain": [
       "3"
      ]
     },
     "execution_count": 5,
     "metadata": {},
     "output_type": "execute_result"
    }
   ],
   "source": [
    "len(diccionario)"
   ]
  },
  {
   "cell_type": "markdown",
   "id": "7bf5fd53",
   "metadata": {},
   "source": [
    "## Parte 2"
   ]
  },
  {
   "cell_type": "code",
   "execution_count": 6,
   "id": "32e535f4",
   "metadata": {},
   "outputs": [
    {
     "data": {
      "text/plain": [
       "{'clave1': 1, 'clave2': 2, 'clave3': 3}"
      ]
     },
     "execution_count": 6,
     "metadata": {},
     "output_type": "execute_result"
    }
   ],
   "source": [
    "diccionario1 = {\"clave1\": 1, \"clave2\": 2, \"clave3\": 3}\n",
    "diccionario1"
   ]
  },
  {
   "cell_type": "code",
   "execution_count": 7,
   "id": "ef7c8547",
   "metadata": {},
   "outputs": [
    {
     "data": {
      "text/plain": [
       "dict_keys(['clave1', 'clave2', 'clave3'])"
      ]
     },
     "execution_count": 7,
     "metadata": {},
     "output_type": "execute_result"
    }
   ],
   "source": [
    "diccionario1.keys()"
   ]
  },
  {
   "cell_type": "code",
   "execution_count": 8,
   "id": "8ee12240",
   "metadata": {},
   "outputs": [
    {
     "data": {
      "text/plain": [
       "dict_values([1, 2, 3])"
      ]
     },
     "execution_count": 8,
     "metadata": {},
     "output_type": "execute_result"
    }
   ],
   "source": [
    "diccionario1.values()"
   ]
  },
  {
   "cell_type": "code",
   "execution_count": 9,
   "id": "fe8d7de7",
   "metadata": {},
   "outputs": [
    {
     "data": {
      "text/plain": [
       "dict_values"
      ]
     },
     "execution_count": 9,
     "metadata": {},
     "output_type": "execute_result"
    }
   ],
   "source": [
    "type(diccionario1.values())"
   ]
  },
  {
   "cell_type": "code",
   "execution_count": 10,
   "id": "bfde4148",
   "metadata": {},
   "outputs": [
    {
     "name": "stdout",
     "output_type": "stream",
     "text": [
      "clave1\n",
      "clave2\n",
      "clave3\n"
     ]
    }
   ],
   "source": [
    "# Obtener los valores de Keys/claves\n",
    "for key in diccionario1.keys():\n",
    "    print(key)"
   ]
  },
  {
   "cell_type": "code",
   "execution_count": 11,
   "id": "21d43162",
   "metadata": {},
   "outputs": [
    {
     "data": {
      "text/plain": [
       "['clave1', 'clave2', 'clave3']"
      ]
     },
     "execution_count": 11,
     "metadata": {},
     "output_type": "execute_result"
    }
   ],
   "source": [
    "# Obtener los valores de Keys/claves en forma de listado\n",
    "listado_keys = [key for key in diccionario1.keys()]\n",
    "listado_keys"
   ]
  },
  {
   "cell_type": "code",
   "execution_count": 12,
   "id": "7c775fd7",
   "metadata": {},
   "outputs": [
    {
     "name": "stdout",
     "output_type": "stream",
     "text": [
      "1\n",
      "2\n",
      "3\n"
     ]
    }
   ],
   "source": [
    "# Obtener los valores de values/valores\n",
    "for value in diccionario1.values():\n",
    "    print(value)"
   ]
  },
  {
   "cell_type": "code",
   "execution_count": 13,
   "id": "54ce0ac3",
   "metadata": {},
   "outputs": [
    {
     "data": {
      "text/plain": [
       "[1, 2, 3]"
      ]
     },
     "execution_count": 13,
     "metadata": {},
     "output_type": "execute_result"
    }
   ],
   "source": [
    "# Obtener listado\n",
    "listado_values = [value for value in diccionario1.values()]\n",
    "listado_values"
   ]
  },
  {
   "cell_type": "code",
   "execution_count": 14,
   "id": "358dc83e",
   "metadata": {},
   "outputs": [
    {
     "data": {
      "text/plain": [
       "dict_items([('clave1', 1), ('clave2', 2), ('clave3', 3)])"
      ]
     },
     "execution_count": 14,
     "metadata": {},
     "output_type": "execute_result"
    }
   ],
   "source": [
    "diccionario1.items()"
   ]
  },
  {
   "cell_type": "code",
   "execution_count": 15,
   "id": "797d3e1d",
   "metadata": {},
   "outputs": [
    {
     "name": "stdout",
     "output_type": "stream",
     "text": [
      "clave:  clave1\n",
      "valor:  1\n",
      "clave:  clave2\n",
      "valor:  2\n",
      "clave:  clave3\n",
      "valor:  3\n"
     ]
    }
   ],
   "source": [
    "# obtención de clave/valor mediante for:\n",
    "for key, value in diccionario1.items():\n",
    "    print(\"clave: \", key)\n",
    "    print(\"valor: \", value)"
   ]
  },
  {
   "cell_type": "code",
   "execution_count": 16,
   "id": "40796f58",
   "metadata": {},
   "outputs": [
    {
     "data": {
      "text/plain": [
       "1"
      ]
     },
     "execution_count": 16,
     "metadata": {},
     "output_type": "execute_result"
    }
   ],
   "source": [
    "diccionario1[\"clave1\"]"
   ]
  },
  {
   "cell_type": "code",
   "execution_count": 17,
   "id": "b286dd12",
   "metadata": {},
   "outputs": [
    {
     "data": {
      "text/plain": [
       "{'clave1': 5, 'clave2': 2, 'clave3': 3}"
      ]
     },
     "execution_count": 17,
     "metadata": {},
     "output_type": "execute_result"
    }
   ],
   "source": [
    "# Modificación de valores en el diccionario\n",
    "diccionario1[\"clave1\"] = 5\n",
    "diccionario1"
   ]
  },
  {
   "cell_type": "code",
   "execution_count": 18,
   "id": "8fe4988c",
   "metadata": {},
   "outputs": [
    {
     "data": {
      "text/plain": [
       "3"
      ]
     },
     "execution_count": 18,
     "metadata": {},
     "output_type": "execute_result"
    }
   ],
   "source": [
    "len(diccionario1)"
   ]
  },
  {
   "cell_type": "code",
   "execution_count": 19,
   "id": "5054cc4b",
   "metadata": {},
   "outputs": [
    {
     "data": {
      "text/plain": [
       "{'clave1': 5, 'clave2': 2}"
      ]
     },
     "execution_count": 19,
     "metadata": {},
     "output_type": "execute_result"
    }
   ],
   "source": [
    "# Eliminar un campo del diccionario\n",
    "del diccionario1[\"clave3\"]\n",
    "diccionario1"
   ]
  },
  {
   "cell_type": "code",
   "execution_count": 20,
   "id": "ee92405e",
   "metadata": {},
   "outputs": [
    {
     "data": {
      "text/plain": [
       "2"
      ]
     },
     "execution_count": 20,
     "metadata": {},
     "output_type": "execute_result"
    }
   ],
   "source": [
    "len(diccionario1)"
   ]
  },
  {
   "cell_type": "code",
   "execution_count": 21,
   "id": "d9330108",
   "metadata": {},
   "outputs": [
    {
     "data": {
      "text/plain": [
       "{'clave1': 5}"
      ]
     },
     "execution_count": 21,
     "metadata": {},
     "output_type": "execute_result"
    }
   ],
   "source": [
    "# otra forma de eliminar...\n",
    "diccionario1.pop(\"clave2\")\n",
    "diccionario1"
   ]
  },
  {
   "cell_type": "code",
   "execution_count": 22,
   "id": "24a45715",
   "metadata": {},
   "outputs": [
    {
     "data": {
      "text/plain": [
       "1"
      ]
     },
     "execution_count": 22,
     "metadata": {},
     "output_type": "execute_result"
    }
   ],
   "source": [
    "len(diccionario1)"
   ]
  },
  {
   "cell_type": "code",
   "execution_count": 23,
   "id": "4e915a94",
   "metadata": {},
   "outputs": [],
   "source": [
    "# Borrar todos los elementos del diccionario .clear()\n",
    "diccionario1.clear()"
   ]
  },
  {
   "cell_type": "code",
   "execution_count": 24,
   "id": "bf86fe55",
   "metadata": {},
   "outputs": [
    {
     "data": {
      "text/plain": [
       "{}"
      ]
     },
     "execution_count": 24,
     "metadata": {},
     "output_type": "execute_result"
    }
   ],
   "source": [
    "diccionario1"
   ]
  },
  {
   "cell_type": "code",
   "execution_count": 25,
   "id": "d85010a2",
   "metadata": {},
   "outputs": [
    {
     "data": {
      "text/plain": [
       "0"
      ]
     },
     "execution_count": 25,
     "metadata": {},
     "output_type": "execute_result"
    }
   ],
   "source": [
    "len(diccionario1)"
   ]
  },
  {
   "cell_type": "markdown",
   "id": "37e7e129",
   "metadata": {},
   "source": [
    "## Parte 3"
   ]
  },
  {
   "cell_type": "code",
   "execution_count": 26,
   "id": "41b89af5",
   "metadata": {},
   "outputs": [
    {
     "data": {
      "text/plain": [
       "{'clave1': 10, 'clave2': 20, 'clave3': 30}"
      ]
     },
     "execution_count": 26,
     "metadata": {},
     "output_type": "execute_result"
    }
   ],
   "source": [
    "dic = {\"clave1\": 10, \"clave2\": 20, \"clave3\": 30}\n",
    "dic"
   ]
  },
  {
   "cell_type": "code",
   "execution_count": 28,
   "id": "08d21127",
   "metadata": {},
   "outputs": [],
   "source": [
    "from collections import Counter"
   ]
  },
  {
   "cell_type": "code",
   "execution_count": 29,
   "id": "29635fca",
   "metadata": {},
   "outputs": [
    {
     "data": {
      "text/plain": [
       "Counter({'clave1': 10, 'clave2': 20, 'clave3': 30})"
      ]
     },
     "execution_count": 29,
     "metadata": {},
     "output_type": "execute_result"
    }
   ],
   "source": [
    "Counter(dic)"
   ]
  },
  {
   "cell_type": "code",
   "execution_count": 30,
   "id": "58287329",
   "metadata": {},
   "outputs": [
    {
     "data": {
      "text/plain": [
       "[('clave3', 30), ('clave2', 20), ('clave1', 10)]"
      ]
     },
     "execution_count": 30,
     "metadata": {},
     "output_type": "execute_result"
    }
   ],
   "source": [
    "Counter(dic).most_common()"
   ]
  },
  {
   "cell_type": "code",
   "execution_count": 31,
   "id": "c2a28cb6",
   "metadata": {},
   "outputs": [
    {
     "data": {
      "text/plain": [
       "('clave3', 30)"
      ]
     },
     "execution_count": 31,
     "metadata": {},
     "output_type": "execute_result"
    }
   ],
   "source": [
    "Counter(dic).most_common()[0]"
   ]
  },
  {
   "cell_type": "code",
   "execution_count": 32,
   "id": "38927ccb",
   "metadata": {},
   "outputs": [
    {
     "data": {
      "text/plain": [
       "('clave2', 20)"
      ]
     },
     "execution_count": 32,
     "metadata": {},
     "output_type": "execute_result"
    }
   ],
   "source": [
    "Counter(dic).most_common()[1]"
   ]
  },
  {
   "cell_type": "code",
   "execution_count": 33,
   "id": "d631a2af",
   "metadata": {},
   "outputs": [
    {
     "data": {
      "text/plain": [
       "('clave1', 10)"
      ]
     },
     "execution_count": 33,
     "metadata": {},
     "output_type": "execute_result"
    }
   ],
   "source": [
    "Counter(dic).most_common()[2]"
   ]
  },
  {
   "cell_type": "code",
   "execution_count": 34,
   "id": "e676c150",
   "metadata": {},
   "outputs": [
    {
     "data": {
      "text/plain": [
       "('clave1', 10)"
      ]
     },
     "execution_count": 34,
     "metadata": {},
     "output_type": "execute_result"
    }
   ],
   "source": [
    "Counter(dic).most_common()[-1]"
   ]
  },
  {
   "cell_type": "code",
   "execution_count": 35,
   "id": "7c694011",
   "metadata": {},
   "outputs": [
    {
     "data": {
      "text/plain": [
       "('clave2', 20)"
      ]
     },
     "execution_count": 35,
     "metadata": {},
     "output_type": "execute_result"
    }
   ],
   "source": [
    "Counter(dic).most_common()[-2]"
   ]
  },
  {
   "cell_type": "code",
   "execution_count": 36,
   "id": "500fbf02",
   "metadata": {},
   "outputs": [
    {
     "data": {
      "text/plain": [
       "('clave3', 30)"
      ]
     },
     "execution_count": 36,
     "metadata": {},
     "output_type": "execute_result"
    }
   ],
   "source": [
    "Counter(dic).most_common()[-3]"
   ]
  },
  {
   "cell_type": "code",
   "execution_count": 37,
   "id": "19aab9b7",
   "metadata": {},
   "outputs": [
    {
     "data": {
      "text/plain": [
       "[('clave3', 30), ('clave2', 20)]"
      ]
     },
     "execution_count": 37,
     "metadata": {},
     "output_type": "execute_result"
    }
   ],
   "source": [
    "# Si queremos seleccionar unos elementos del dicionario,\n",
    "# en este caso los primeros valores\n",
    "Counter(dic).most_common()[:2]"
   ]
  },
  {
   "cell_type": "code",
   "execution_count": 38,
   "id": "ae3e5aa3",
   "metadata": {},
   "outputs": [
    {
     "data": {
      "text/plain": [
       "[('clave2', 20), ('clave1', 10)]"
      ]
     },
     "execution_count": 38,
     "metadata": {},
     "output_type": "execute_result"
    }
   ],
   "source": [
    "Counter(dic).most_common()[1:]"
   ]
  },
  {
   "cell_type": "markdown",
   "id": "f0524e98",
   "metadata": {},
   "source": [
    "## Parte 4"
   ]
  },
  {
   "cell_type": "code",
   "execution_count": 39,
   "id": "0c2bb05f",
   "metadata": {},
   "outputs": [
    {
     "data": {
      "text/plain": [
       "{'clave1': 10, 'clave2': 20, 'clave3': 30}"
      ]
     },
     "execution_count": 39,
     "metadata": {},
     "output_type": "execute_result"
    }
   ],
   "source": [
    "diccionario2 = {\"clave1\": 10, \"clave2\": 20, \"clave3\": 30}\n",
    "diccionario2"
   ]
  },
  {
   "cell_type": "code",
   "execution_count": 40,
   "id": "20ad161e",
   "metadata": {},
   "outputs": [
    {
     "data": {
      "text/plain": [
       "dict_keys(['clave1', 'clave2', 'clave3'])"
      ]
     },
     "execution_count": 40,
     "metadata": {},
     "output_type": "execute_result"
    }
   ],
   "source": [
    "diccionario2.keys()"
   ]
  },
  {
   "cell_type": "code",
   "execution_count": 41,
   "id": "2d33881b",
   "metadata": {},
   "outputs": [
    {
     "data": {
      "text/plain": [
       "['clave1', 'clave2', 'clave3']"
      ]
     },
     "execution_count": 41,
     "metadata": {},
     "output_type": "execute_result"
    }
   ],
   "source": [
    "listado_keys = []\n",
    "for key in diccionario2.keys():\n",
    "    listado_keys.append(key)\n",
    "listado_keys"
   ]
  },
  {
   "cell_type": "code",
   "execution_count": 42,
   "id": "d08dc8d8",
   "metadata": {},
   "outputs": [
    {
     "data": {
      "text/plain": [
       "[10, 20, 30]"
      ]
     },
     "execution_count": 42,
     "metadata": {},
     "output_type": "execute_result"
    }
   ],
   "source": [
    "listado_values = []\n",
    "for value in diccionario2.values():\n",
    "    listado_values.append(value)\n",
    "listado_values"
   ]
  },
  {
   "cell_type": "code",
   "execution_count": 43,
   "id": "66b8b46b",
   "metadata": {},
   "outputs": [],
   "source": [
    "# pip install pandas\n",
    "import pandas as pd"
   ]
  },
  {
   "cell_type": "code",
   "execution_count": 44,
   "id": "791ca30b",
   "metadata": {},
   "outputs": [
    {
     "data": {
      "text/html": [
       "<div>\n",
       "<style scoped>\n",
       "    .dataframe tbody tr th:only-of-type {\n",
       "        vertical-align: middle;\n",
       "    }\n",
       "\n",
       "    .dataframe tbody tr th {\n",
       "        vertical-align: top;\n",
       "    }\n",
       "\n",
       "    .dataframe thead th {\n",
       "        text-align: right;\n",
       "    }\n",
       "</style>\n",
       "<table border=\"1\" class=\"dataframe\">\n",
       "  <thead>\n",
       "    <tr style=\"text-align: right;\">\n",
       "      <th></th>\n",
       "      <th>claves</th>\n",
       "    </tr>\n",
       "  </thead>\n",
       "  <tbody>\n",
       "    <tr>\n",
       "      <th>0</th>\n",
       "      <td>clave1</td>\n",
       "    </tr>\n",
       "    <tr>\n",
       "      <th>1</th>\n",
       "      <td>clave2</td>\n",
       "    </tr>\n",
       "    <tr>\n",
       "      <th>2</th>\n",
       "      <td>clave3</td>\n",
       "    </tr>\n",
       "  </tbody>\n",
       "</table>\n",
       "</div>"
      ],
      "text/plain": [
       "   claves\n",
       "0  clave1\n",
       "1  clave2\n",
       "2  clave3"
      ]
     },
     "execution_count": 44,
     "metadata": {},
     "output_type": "execute_result"
    }
   ],
   "source": [
    "df_diccionario = pd.DataFrame(listado_keys, columns=[\"claves\"])\n",
    "df_diccionario"
   ]
  },
  {
   "cell_type": "code",
   "execution_count": 45,
   "id": "8f8b83a3",
   "metadata": {},
   "outputs": [
    {
     "data": {
      "text/html": [
       "<div>\n",
       "<style scoped>\n",
       "    .dataframe tbody tr th:only-of-type {\n",
       "        vertical-align: middle;\n",
       "    }\n",
       "\n",
       "    .dataframe tbody tr th {\n",
       "        vertical-align: top;\n",
       "    }\n",
       "\n",
       "    .dataframe thead th {\n",
       "        text-align: right;\n",
       "    }\n",
       "</style>\n",
       "<table border=\"1\" class=\"dataframe\">\n",
       "  <thead>\n",
       "    <tr style=\"text-align: right;\">\n",
       "      <th></th>\n",
       "      <th>claves</th>\n",
       "      <th>Valores</th>\n",
       "    </tr>\n",
       "  </thead>\n",
       "  <tbody>\n",
       "    <tr>\n",
       "      <th>0</th>\n",
       "      <td>clave1</td>\n",
       "      <td>10</td>\n",
       "    </tr>\n",
       "    <tr>\n",
       "      <th>1</th>\n",
       "      <td>clave2</td>\n",
       "      <td>20</td>\n",
       "    </tr>\n",
       "    <tr>\n",
       "      <th>2</th>\n",
       "      <td>clave3</td>\n",
       "      <td>30</td>\n",
       "    </tr>\n",
       "  </tbody>\n",
       "</table>\n",
       "</div>"
      ],
      "text/plain": [
       "   claves  Valores\n",
       "0  clave1       10\n",
       "1  clave2       20\n",
       "2  clave3       30"
      ]
     },
     "execution_count": 45,
     "metadata": {},
     "output_type": "execute_result"
    }
   ],
   "source": [
    "df_diccionario[\"Valores\"] = listado_values\n",
    "df_diccionario"
   ]
  },
  {
   "cell_type": "markdown",
   "id": "1398a716",
   "metadata": {},
   "source": [
    "## Parte 5"
   ]
  },
  {
   "cell_type": "code",
   "execution_count": 46,
   "id": "d2b297a3",
   "metadata": {},
   "outputs": [
    {
     "data": {
      "text/html": [
       "<div>\n",
       "<style scoped>\n",
       "    .dataframe tbody tr th:only-of-type {\n",
       "        vertical-align: middle;\n",
       "    }\n",
       "\n",
       "    .dataframe tbody tr th {\n",
       "        vertical-align: top;\n",
       "    }\n",
       "\n",
       "    .dataframe thead th {\n",
       "        text-align: right;\n",
       "    }\n",
       "</style>\n",
       "<table border=\"1\" class=\"dataframe\">\n",
       "  <thead>\n",
       "    <tr style=\"text-align: right;\">\n",
       "      <th></th>\n",
       "      <th>claves</th>\n",
       "      <th>Valores</th>\n",
       "    </tr>\n",
       "  </thead>\n",
       "  <tbody>\n",
       "    <tr>\n",
       "      <th>0</th>\n",
       "      <td>clave1</td>\n",
       "      <td>10</td>\n",
       "    </tr>\n",
       "    <tr>\n",
       "      <th>1</th>\n",
       "      <td>clave2</td>\n",
       "      <td>20</td>\n",
       "    </tr>\n",
       "    <tr>\n",
       "      <th>2</th>\n",
       "      <td>clave3</td>\n",
       "      <td>30</td>\n",
       "    </tr>\n",
       "  </tbody>\n",
       "</table>\n",
       "</div>"
      ],
      "text/plain": [
       "   claves  Valores\n",
       "0  clave1       10\n",
       "1  clave2       20\n",
       "2  clave3       30"
      ]
     },
     "execution_count": 46,
     "metadata": {},
     "output_type": "execute_result"
    }
   ],
   "source": [
    "# Como ordenar un dataframe\n",
    "df_diccionario.sort_values(by='Valores')\n",
    "# ascendente"
   ]
  },
  {
   "cell_type": "code",
   "execution_count": 47,
   "id": "10365d2c",
   "metadata": {},
   "outputs": [
    {
     "data": {
      "text/html": [
       "<div>\n",
       "<style scoped>\n",
       "    .dataframe tbody tr th:only-of-type {\n",
       "        vertical-align: middle;\n",
       "    }\n",
       "\n",
       "    .dataframe tbody tr th {\n",
       "        vertical-align: top;\n",
       "    }\n",
       "\n",
       "    .dataframe thead th {\n",
       "        text-align: right;\n",
       "    }\n",
       "</style>\n",
       "<table border=\"1\" class=\"dataframe\">\n",
       "  <thead>\n",
       "    <tr style=\"text-align: right;\">\n",
       "      <th></th>\n",
       "      <th>claves</th>\n",
       "      <th>Valores</th>\n",
       "    </tr>\n",
       "  </thead>\n",
       "  <tbody>\n",
       "    <tr>\n",
       "      <th>0</th>\n",
       "      <td>clave1</td>\n",
       "      <td>10</td>\n",
       "    </tr>\n",
       "    <tr>\n",
       "      <th>1</th>\n",
       "      <td>clave2</td>\n",
       "      <td>20</td>\n",
       "    </tr>\n",
       "    <tr>\n",
       "      <th>2</th>\n",
       "      <td>clave3</td>\n",
       "      <td>30</td>\n",
       "    </tr>\n",
       "  </tbody>\n",
       "</table>\n",
       "</div>"
      ],
      "text/plain": [
       "   claves  Valores\n",
       "0  clave1       10\n",
       "1  clave2       20\n",
       "2  clave3       30"
      ]
     },
     "execution_count": 47,
     "metadata": {},
     "output_type": "execute_result"
    }
   ],
   "source": [
    "# si no se especifica ascending (caso anterior) por defecto ascending = True\n",
    "df_diccionario.sort_values(by='Valores', ascending=True)"
   ]
  },
  {
   "cell_type": "code",
   "execution_count": 48,
   "id": "2dcf3f5c",
   "metadata": {},
   "outputs": [
    {
     "data": {
      "text/html": [
       "<div>\n",
       "<style scoped>\n",
       "    .dataframe tbody tr th:only-of-type {\n",
       "        vertical-align: middle;\n",
       "    }\n",
       "\n",
       "    .dataframe tbody tr th {\n",
       "        vertical-align: top;\n",
       "    }\n",
       "\n",
       "    .dataframe thead th {\n",
       "        text-align: right;\n",
       "    }\n",
       "</style>\n",
       "<table border=\"1\" class=\"dataframe\">\n",
       "  <thead>\n",
       "    <tr style=\"text-align: right;\">\n",
       "      <th></th>\n",
       "      <th>claves</th>\n",
       "      <th>Valores</th>\n",
       "    </tr>\n",
       "  </thead>\n",
       "  <tbody>\n",
       "    <tr>\n",
       "      <th>2</th>\n",
       "      <td>clave3</td>\n",
       "      <td>30</td>\n",
       "    </tr>\n",
       "    <tr>\n",
       "      <th>1</th>\n",
       "      <td>clave2</td>\n",
       "      <td>20</td>\n",
       "    </tr>\n",
       "    <tr>\n",
       "      <th>0</th>\n",
       "      <td>clave1</td>\n",
       "      <td>10</td>\n",
       "    </tr>\n",
       "  </tbody>\n",
       "</table>\n",
       "</div>"
      ],
      "text/plain": [
       "   claves  Valores\n",
       "2  clave3       30\n",
       "1  clave2       20\n",
       "0  clave1       10"
      ]
     },
     "execution_count": 48,
     "metadata": {},
     "output_type": "execute_result"
    }
   ],
   "source": [
    "df_diccionario.sort_values(by='Valores', ascending=False)\n",
    "# descendente"
   ]
  },
  {
   "cell_type": "markdown",
   "id": "8d5cb0b2",
   "metadata": {},
   "source": [
    "## -5.1- Strings"
   ]
  },
  {
   "cell_type": "markdown",
   "id": "74f5ab16",
   "metadata": {},
   "source": [
    "### Importancia de los strings en AI"
   ]
  },
  {
   "cell_type": "markdown",
   "id": "88b614d8",
   "metadata": {},
   "source": [
    "**Strings como introducción al Procesamiento de Lenguaje Natural (NLP- Natural Language Processing)**"
   ]
  },
  {
   "cell_type": "markdown",
   "id": "e888bdab",
   "metadata": {},
   "source": [
    "**Proyectos típicos de Inteligencia Artificial con NLP:**\n",
    "* Chatbots,\n",
    "* analítica de textos,\n",
    "* análisis de sentimientos en redes sociales,\n",
    "* Etc."
   ]
  },
  {
   "cell_type": "markdown",
   "id": "723e5a99",
   "metadata": {},
   "source": [
    "## Index en los Strings"
   ]
  },
  {
   "cell_type": "code",
   "execution_count": 50,
   "id": "13a9844a",
   "metadata": {},
   "outputs": [
    {
     "data": {
      "text/plain": [
       "'Hi, How are you?'"
      ]
     },
     "execution_count": 50,
     "metadata": {},
     "output_type": "execute_result"
    }
   ],
   "source": [
    "s1 = \"Hi, How are you?\"\n",
    "s1"
   ]
  },
  {
   "cell_type": "code",
   "execution_count": 51,
   "id": "54f4e819",
   "metadata": {},
   "outputs": [
    {
     "data": {
      "text/plain": [
       "'H'"
      ]
     },
     "execution_count": 51,
     "metadata": {},
     "output_type": "execute_result"
    }
   ],
   "source": [
    "s1[0]"
   ]
  },
  {
   "cell_type": "code",
   "execution_count": 52,
   "id": "e841db2b",
   "metadata": {},
   "outputs": [
    {
     "data": {
      "text/plain": [
       "('H', 'i', ',')"
      ]
     },
     "execution_count": 52,
     "metadata": {},
     "output_type": "execute_result"
    }
   ],
   "source": [
    "s1[0], s1[1], s1[2]"
   ]
  },
  {
   "cell_type": "code",
   "execution_count": 53,
   "id": "8db35707",
   "metadata": {},
   "outputs": [
    {
     "data": {
      "text/plain": [
       "'?'"
      ]
     },
     "execution_count": 53,
     "metadata": {},
     "output_type": "execute_result"
    }
   ],
   "source": [
    "s1[-1]"
   ]
  },
  {
   "cell_type": "markdown",
   "id": "888eb3d7",
   "metadata": {},
   "source": [
    "**Longitud**"
   ]
  },
  {
   "cell_type": "code",
   "execution_count": 54,
   "id": "83c6d408",
   "metadata": {},
   "outputs": [
    {
     "data": {
      "text/plain": [
       "16"
      ]
     },
     "execution_count": 54,
     "metadata": {},
     "output_type": "execute_result"
    }
   ],
   "source": [
    "len(s1)"
   ]
  },
  {
   "cell_type": "code",
   "execution_count": 55,
   "id": "45748871",
   "metadata": {},
   "outputs": [
    {
     "name": "stdout",
     "output_type": "stream",
     "text": [
      "H\n",
      "i\n",
      ",\n",
      " \n",
      "H\n",
      "o\n",
      "w\n",
      " \n",
      "a\n",
      "r\n",
      "e\n",
      " \n",
      "y\n",
      "o\n",
      "u\n",
      "?\n"
     ]
    }
   ],
   "source": [
    "for letra in s1:\n",
    "    print(letra)"
   ]
  },
  {
   "cell_type": "markdown",
   "id": "bc1d382a",
   "metadata": {},
   "source": [
    "## most_common()"
   ]
  },
  {
   "cell_type": "code",
   "execution_count": 56,
   "id": "799da71d",
   "metadata": {},
   "outputs": [
    {
     "data": {
      "text/plain": [
       "'Hi, How are you?'"
      ]
     },
     "execution_count": 56,
     "metadata": {},
     "output_type": "execute_result"
    }
   ],
   "source": [
    "s1 = \"Hi, How are you?\"\n",
    "s1"
   ]
  },
  {
   "cell_type": "code",
   "execution_count": 57,
   "id": "18cc3eb8",
   "metadata": {},
   "outputs": [],
   "source": [
    "from collections import Counter"
   ]
  },
  {
   "cell_type": "code",
   "execution_count": 58,
   "id": "b0d974c8",
   "metadata": {},
   "outputs": [
    {
     "data": {
      "text/plain": [
       "[(' ', 3),\n",
       " ('H', 2),\n",
       " ('o', 2),\n",
       " ('i', 1),\n",
       " (',', 1),\n",
       " ('w', 1),\n",
       " ('a', 1),\n",
       " ('r', 1),\n",
       " ('e', 1),\n",
       " ('y', 1),\n",
       " ('u', 1),\n",
       " ('?', 1)]"
      ]
     },
     "execution_count": 58,
     "metadata": {},
     "output_type": "execute_result"
    }
   ],
   "source": [
    "# Número de veces que esta en el strings\n",
    "Counter(s1).most_common()"
   ]
  },
  {
   "cell_type": "markdown",
   "id": "d3a607a8",
   "metadata": {},
   "source": [
    "## count"
   ]
  },
  {
   "cell_type": "code",
   "execution_count": 59,
   "id": "ddbc8728",
   "metadata": {},
   "outputs": [
    {
     "data": {
      "text/plain": [
       "'Hi, How are you?'"
      ]
     },
     "execution_count": 59,
     "metadata": {},
     "output_type": "execute_result"
    }
   ],
   "source": [
    "# Frecuencia aparece la palabra\n",
    "s1 = \"Hi, How are you?\"\n",
    "s1"
   ]
  },
  {
   "cell_type": "code",
   "execution_count": 60,
   "id": "5e519026",
   "metadata": {},
   "outputs": [
    {
     "data": {
      "text/plain": [
       "1"
      ]
     },
     "execution_count": 60,
     "metadata": {},
     "output_type": "execute_result"
    }
   ],
   "source": [
    "s1.count(\"Hi\")"
   ]
  },
  {
   "cell_type": "code",
   "execution_count": 61,
   "id": "0a29ff28",
   "metadata": {},
   "outputs": [
    {
     "data": {
      "text/plain": [
       "1"
      ]
     },
     "execution_count": 61,
     "metadata": {},
     "output_type": "execute_result"
    }
   ],
   "source": [
    "s1.count(\"How\")"
   ]
  },
  {
   "cell_type": "code",
   "execution_count": 62,
   "id": "188727d4",
   "metadata": {},
   "outputs": [
    {
     "data": {
      "text/plain": [
       "0"
      ]
     },
     "execution_count": 62,
     "metadata": {},
     "output_type": "execute_result"
    }
   ],
   "source": [
    "# debe ser exacta para que la busque, si está en H pues debe buscarse así\n",
    "s1.count(\"hi\")"
   ]
  },
  {
   "cell_type": "markdown",
   "id": "f7aaab31",
   "metadata": {},
   "source": [
    "## upper / lower"
   ]
  },
  {
   "cell_type": "code",
   "execution_count": 63,
   "id": "74ed9d49",
   "metadata": {},
   "outputs": [
    {
     "data": {
      "text/plain": [
       "'Hi, How are you?'"
      ]
     },
     "execution_count": 63,
     "metadata": {},
     "output_type": "execute_result"
    }
   ],
   "source": [
    "s1 = \"Hi, How are you?\"\n",
    "s1"
   ]
  },
  {
   "cell_type": "code",
   "execution_count": 64,
   "id": "f4116439",
   "metadata": {},
   "outputs": [
    {
     "data": {
      "text/plain": [
       "'HI, HOW ARE YOU?'"
      ]
     },
     "execution_count": 64,
     "metadata": {},
     "output_type": "execute_result"
    }
   ],
   "source": [
    "mayusculas = s1.upper()\n",
    "mayusculas"
   ]
  },
  {
   "cell_type": "code",
   "execution_count": 65,
   "id": "13f4707b",
   "metadata": {},
   "outputs": [
    {
     "data": {
      "text/plain": [
       "'hi, how are you?'"
      ]
     },
     "execution_count": 65,
     "metadata": {},
     "output_type": "execute_result"
    }
   ],
   "source": [
    "minuscula = s1.lower()\n",
    "minuscula"
   ]
  },
  {
   "cell_type": "markdown",
   "id": "ac9b9a07",
   "metadata": {},
   "source": [
    "## find"
   ]
  },
  {
   "cell_type": "code",
   "execution_count": 66,
   "id": "ec887390",
   "metadata": {},
   "outputs": [
    {
     "data": {
      "text/plain": [
       "'Hi, How are you?'"
      ]
     },
     "execution_count": 66,
     "metadata": {},
     "output_type": "execute_result"
    }
   ],
   "source": [
    "s1 = \"Hi, How are you?\"\n",
    "s1"
   ]
  },
  {
   "cell_type": "code",
   "execution_count": 67,
   "id": "699edb79",
   "metadata": {},
   "outputs": [
    {
     "data": {
      "text/plain": [
       "16"
      ]
     },
     "execution_count": 67,
     "metadata": {},
     "output_type": "execute_result"
    }
   ],
   "source": [
    "len(s1)"
   ]
  },
  {
   "cell_type": "code",
   "execution_count": 68,
   "id": "6043e776",
   "metadata": {},
   "outputs": [
    {
     "data": {
      "text/plain": [
       "('o', 'o')"
      ]
     },
     "execution_count": 68,
     "metadata": {},
     "output_type": "execute_result"
    }
   ],
   "source": [
    "# Buscar la letra \"o\"\n",
    "s1[5], s1[13]"
   ]
  },
  {
   "cell_type": "code",
   "execution_count": 69,
   "id": "8fae4746",
   "metadata": {},
   "outputs": [
    {
     "data": {
      "text/plain": [
       "5"
      ]
     },
     "execution_count": 69,
     "metadata": {},
     "output_type": "execute_result"
    }
   ],
   "source": [
    "# busqueda de la posición\n",
    "s1_find = s1.find(\"o\")\n",
    "s1_find"
   ]
  },
  {
   "cell_type": "code",
   "execution_count": 70,
   "id": "35dacd39",
   "metadata": {},
   "outputs": [
    {
     "data": {
      "text/plain": [
       "15"
      ]
     },
     "execution_count": 70,
     "metadata": {},
     "output_type": "execute_result"
    }
   ],
   "source": [
    "# busqueda de la posición\n",
    "s1_interrogación = s1.find(\"?\")\n",
    "s1_interrogación"
   ]
  },
  {
   "cell_type": "code",
   "execution_count": 71,
   "id": "36c213d3",
   "metadata": {},
   "outputs": [
    {
     "data": {
      "text/plain": [
       "'?'"
      ]
     },
     "execution_count": 71,
     "metadata": {},
     "output_type": "execute_result"
    }
   ],
   "source": [
    "s1[-1]"
   ]
  },
  {
   "cell_type": "code",
   "execution_count": 72,
   "id": "770eb097",
   "metadata": {},
   "outputs": [
    {
     "data": {
      "text/plain": [
       "-1"
      ]
     },
     "execution_count": 72,
     "metadata": {},
     "output_type": "execute_result"
    }
   ],
   "source": [
    "# si no encuentra la letra, en ese caso pone -1\n",
    "s1_notfound = s1.find(\"p\")\n",
    "s1_notfound"
   ]
  },
  {
   "cell_type": "code",
   "execution_count": 73,
   "id": "7b92c382",
   "metadata": {},
   "outputs": [
    {
     "data": {
      "text/plain": [
       "'Hi, how are you?'"
      ]
     },
     "execution_count": 73,
     "metadata": {},
     "output_type": "execute_result"
    }
   ],
   "source": [
    "# Diferencia entre mayúsculas y minúsculas\n",
    "s1 = \"Hi, how are you?\"\n",
    "s1"
   ]
  },
  {
   "cell_type": "code",
   "execution_count": 74,
   "id": "72ce0a37",
   "metadata": {},
   "outputs": [
    {
     "data": {
      "text/plain": [
       "0"
      ]
     },
     "execution_count": 74,
     "metadata": {},
     "output_type": "execute_result"
    }
   ],
   "source": [
    "s1_H = s1.find(\"H\")\n",
    "s1_H"
   ]
  },
  {
   "cell_type": "code",
   "execution_count": 75,
   "id": "64cd6f97",
   "metadata": {},
   "outputs": [
    {
     "data": {
      "text/plain": [
       "4"
      ]
     },
     "execution_count": 75,
     "metadata": {},
     "output_type": "execute_result"
    }
   ],
   "source": [
    "s1_h = s1.find(\"h\")\n",
    "s1_h"
   ]
  },
  {
   "cell_type": "markdown",
   "id": "943c8360",
   "metadata": {},
   "source": [
    "## startswith, endswith"
   ]
  },
  {
   "cell_type": "code",
   "execution_count": 76,
   "id": "2a198eba",
   "metadata": {},
   "outputs": [
    {
     "data": {
      "text/plain": [
       "'Hi, how are you?'"
      ]
     },
     "execution_count": 76,
     "metadata": {},
     "output_type": "execute_result"
    }
   ],
   "source": [
    "s1 = \"Hi, how are you?\"\n",
    "s1"
   ]
  },
  {
   "cell_type": "code",
   "execution_count": 77,
   "id": "b2c8b0b4",
   "metadata": {},
   "outputs": [
    {
     "data": {
      "text/plain": [
       "False"
      ]
     },
     "execution_count": 77,
     "metadata": {},
     "output_type": "execute_result"
    }
   ],
   "source": [
    "s1_startswith = s1.startswith(\"hi\")\n",
    "s1_startswith"
   ]
  },
  {
   "cell_type": "code",
   "execution_count": 78,
   "id": "e7f708ea",
   "metadata": {},
   "outputs": [
    {
     "data": {
      "text/plain": [
       "True"
      ]
     },
     "execution_count": 78,
     "metadata": {},
     "output_type": "execute_result"
    }
   ],
   "source": [
    "s1_startswith = s1.startswith(\"Hi\")\n",
    "s1_startswith"
   ]
  },
  {
   "cell_type": "code",
   "execution_count": 79,
   "id": "ec2f1c02",
   "metadata": {},
   "outputs": [
    {
     "data": {
      "text/plain": [
       "False"
      ]
     },
     "execution_count": 79,
     "metadata": {},
     "output_type": "execute_result"
    }
   ],
   "source": [
    "s1_endswith = s1.endswith(\"you\")\n",
    "s1_endswith"
   ]
  },
  {
   "cell_type": "code",
   "execution_count": 80,
   "id": "850fb1a7",
   "metadata": {},
   "outputs": [
    {
     "data": {
      "text/plain": [
       "True"
      ]
     },
     "execution_count": 80,
     "metadata": {},
     "output_type": "execute_result"
    }
   ],
   "source": [
    "s1_endswith = s1.endswith(\"you?\")\n",
    "s1_endswith"
   ]
  },
  {
   "cell_type": "markdown",
   "id": "e8dd7097",
   "metadata": {},
   "source": [
    "## Split"
   ]
  },
  {
   "cell_type": "code",
   "execution_count": null,
   "id": "52d5098b",
   "metadata": {},
   "outputs": [],
   "source": [
    "# hacemos el split de un string (division en substrings)\n",
    "# creando una lista de elementos que componen el string\n",
    "s1 = \"Hi, how are you?\"\n",
    "s1"
   ]
  },
  {
   "cell_type": "code",
   "execution_count": 81,
   "id": "1602e2f1",
   "metadata": {},
   "outputs": [
    {
     "data": {
      "text/plain": [
       "['Hi,', 'how', 'are', 'you?']"
      ]
     },
     "execution_count": 81,
     "metadata": {},
     "output_type": "execute_result"
    }
   ],
   "source": [
    "s1_split = s1.split()\n",
    "s1_split"
   ]
  },
  {
   "cell_type": "code",
   "execution_count": null,
   "id": "8d0eecdd",
   "metadata": {},
   "outputs": [],
   "source": [
    "s1 = \"Hi, how are you?\"\n",
    "s1"
   ]
  },
  {
   "cell_type": "code",
   "execution_count": 82,
   "id": "f3650ac6",
   "metadata": {},
   "outputs": [
    {
     "data": {
      "text/plain": [
       "['Hi', ' how are you?']"
      ]
     },
     "execution_count": 82,
     "metadata": {},
     "output_type": "execute_result"
    }
   ],
   "source": [
    "s1_split = s1.split(\",\")\n",
    "s1_split"
   ]
  },
  {
   "cell_type": "code",
   "execution_count": 83,
   "id": "d9e24e2c",
   "metadata": {},
   "outputs": [
    {
     "data": {
      "text/plain": [
       "'Hi , how are you?'"
      ]
     },
     "execution_count": 83,
     "metadata": {},
     "output_type": "execute_result"
    }
   ],
   "source": [
    "s2 = \"Hi , how are you?\"\n",
    "s2"
   ]
  },
  {
   "cell_type": "code",
   "execution_count": 84,
   "id": "01971a97",
   "metadata": {},
   "outputs": [
    {
     "data": {
      "text/plain": [
       "['Hi', ',', 'how', 'are', 'you?']"
      ]
     },
     "execution_count": 84,
     "metadata": {},
     "output_type": "execute_result"
    }
   ],
   "source": [
    "s2_split = s2.split()\n",
    "s2_split"
   ]
  },
  {
   "cell_type": "markdown",
   "id": "9d13d568",
   "metadata": {},
   "source": [
    "## Replace"
   ]
  },
  {
   "cell_type": "code",
   "execution_count": 85,
   "id": "2b99584b",
   "metadata": {},
   "outputs": [
    {
     "data": {
      "text/plain": [
       "'Hi, How are you?'"
      ]
     },
     "execution_count": 85,
     "metadata": {},
     "output_type": "execute_result"
    }
   ],
   "source": [
    "# reemplazar algo\n",
    "s1 = \"Hi, How are you?\"\n",
    "s1"
   ]
  },
  {
   "cell_type": "code",
   "execution_count": 86,
   "id": "c375addd",
   "metadata": {},
   "outputs": [
    {
     "data": {
      "text/plain": [
       "'hi, how are you?'"
      ]
     },
     "execution_count": 86,
     "metadata": {},
     "output_type": "execute_result"
    }
   ],
   "source": [
    "# sustituir la \"H\" por \"h\"\n",
    "# el primer valor es el valor a sustituir\n",
    "# el segundo valor el valor que quiero poner\n",
    "s1.replace(\"H\", \"h\")"
   ]
  },
  {
   "cell_type": "markdown",
   "id": "d5f3f586",
   "metadata": {},
   "source": [
    "## Join"
   ]
  },
  {
   "cell_type": "code",
   "execution_count": 87,
   "id": "be159ef1",
   "metadata": {},
   "outputs": [],
   "source": [
    "# une todos los elementos del string por un simbolo específico\n",
    "# \"-\" en este caso"
   ]
  },
  {
   "cell_type": "code",
   "execution_count": 88,
   "id": "c5761d17",
   "metadata": {},
   "outputs": [
    {
     "data": {
      "text/plain": [
       "'Hi, How are you?'"
      ]
     },
     "execution_count": 88,
     "metadata": {},
     "output_type": "execute_result"
    }
   ],
   "source": [
    "s1 = \"Hi, How are you?\"\n",
    "s1"
   ]
  },
  {
   "cell_type": "code",
   "execution_count": 89,
   "id": "c4dbe339",
   "metadata": {},
   "outputs": [
    {
     "data": {
      "text/plain": [
       "'H-i-,- -H-o-w- -a-r-e- -y-o-u-?'"
      ]
     },
     "execution_count": 89,
     "metadata": {},
     "output_type": "execute_result"
    }
   ],
   "source": [
    "s1_join = \"-\".join(s1)\n",
    "s1_join"
   ]
  },
  {
   "cell_type": "code",
   "execution_count": 90,
   "id": "23836d5e",
   "metadata": {},
   "outputs": [
    {
     "data": {
      "text/plain": [
       "'H+i+,+ +H+o+w+ +a+r+e+ +y+o+u+?'"
      ]
     },
     "execution_count": 90,
     "metadata": {},
     "output_type": "execute_result"
    }
   ],
   "source": [
    "s1_join = \"+\".join(s1)\n",
    "s1_join"
   ]
  },
  {
   "cell_type": "markdown",
   "id": "1c3d22f8",
   "metadata": {},
   "source": [
    "## Sleep y time"
   ]
  },
  {
   "cell_type": "code",
   "execution_count": 91,
   "id": "ece9a8ed",
   "metadata": {},
   "outputs": [],
   "source": [
    "from time import sleep"
   ]
  },
  {
   "cell_type": "code",
   "execution_count": 92,
   "id": "d00f4b72",
   "metadata": {},
   "outputs": [
    {
     "name": "stdout",
     "output_type": "stream",
     "text": [
      "Hola\n",
      "Mundo\n",
      "CPU times: user 3.81 ms, sys: 0 ns, total: 3.81 ms\n",
      "Wall time: 2.01 s\n"
     ]
    }
   ],
   "source": [
    "%%time\n",
    "print(\"Hola\")\n",
    "sleep(2)\n",
    "print(\"Mundo\")"
   ]
  },
  {
   "cell_type": "code",
   "execution_count": 93,
   "id": "05d3e14f",
   "metadata": {},
   "outputs": [
    {
     "name": "stdout",
     "output_type": "stream",
     "text": [
      "Hola\n",
      "Mundo\n",
      "CPU times: user 339 µs, sys: 4.09 ms, total: 4.43 ms\n",
      "Wall time: 10 s\n"
     ]
    }
   ],
   "source": [
    "%%time\n",
    "print(\"Hola\")\n",
    "sleep(10)\n",
    "print(\"Mundo\")"
   ]
  },
  {
   "cell_type": "code",
   "execution_count": 94,
   "id": "0a1be823",
   "metadata": {},
   "outputs": [],
   "source": [
    "import time"
   ]
  },
  {
   "cell_type": "code",
   "execution_count": 95,
   "id": "6f74575c",
   "metadata": {},
   "outputs": [
    {
     "name": "stdout",
     "output_type": "stream",
     "text": [
      "Hola\n",
      "Mundo\n",
      "CPU times: user 4.5 ms, sys: 115 µs, total: 4.62 ms\n",
      "Wall time: 2.01 s\n"
     ]
    }
   ],
   "source": [
    "%%time\n",
    "print(\"Hola\")\n",
    "time.sleep(2)\n",
    "print(\"Mundo\")"
   ]
  },
  {
   "cell_type": "code",
   "execution_count": 96,
   "id": "e3d4355d",
   "metadata": {},
   "outputs": [],
   "source": [
    "# Ejemplo 1"
   ]
  },
  {
   "cell_type": "code",
   "execution_count": 97,
   "id": "30ebd66b",
   "metadata": {},
   "outputs": [
    {
     "name": "stdout",
     "output_type": "stream",
     "text": [
      "2\n",
      "CPU times: user 1.65 ms, sys: 0 ns, total: 1.65 ms\n",
      "Wall time: 1.65 ms\n"
     ]
    },
    {
     "data": {
      "text/plain": [
       "-0.001560211181640625"
      ]
     },
     "execution_count": 97,
     "metadata": {},
     "output_type": "execute_result"
    }
   ],
   "source": [
    "%%time\n",
    "x = 2\n",
    "a = time.time()\n",
    "print(x)\n",
    "b = time.time()\n",
    "\n",
    "tiempo = a -b\n",
    "tiempo"
   ]
  },
  {
   "cell_type": "code",
   "execution_count": 98,
   "id": "414c264b",
   "metadata": {},
   "outputs": [
    {
     "name": "stdout",
     "output_type": "stream",
     "text": [
      "Hello\n",
      "World\n",
      "CPU times: user 4.64 ms, sys: 0 ns, total: 4.64 ms\n",
      "Wall time: 5 s\n"
     ]
    },
    {
     "data": {
      "text/plain": [
       "-5.004114151000977"
      ]
     },
     "execution_count": 98,
     "metadata": {},
     "output_type": "execute_result"
    }
   ],
   "source": [
    "%%time\n",
    "print(\"Hello\")\n",
    "a = time.time()\n",
    "time.sleep(5)\n",
    "b = time.time()\n",
    "print(\"World\")\n",
    "\n",
    "tiempo = a -b\n",
    "tiempo"
   ]
  },
  {
   "cell_type": "code",
   "execution_count": null,
   "id": "b958162d",
   "metadata": {},
   "outputs": [],
   "source": [
    "# Ejemplo 2"
   ]
  },
  {
   "cell_type": "code",
   "execution_count": 99,
   "id": "0dab8a8a",
   "metadata": {},
   "outputs": [
    {
     "name": "stdout",
     "output_type": "stream",
     "text": [
      "tiempo de ejecución: t_final - t.inicial =  0.27478694915771484\n",
      "CPU times: user 204 ms, sys: 9.97 ms, total: 214 ms\n",
      "Wall time: 275 ms\n"
     ]
    }
   ],
   "source": [
    "%%time\n",
    "\n",
    "import time\n",
    "\n",
    "tiempo_inicial = time.time()\n",
    "\n",
    "contador = 0\n",
    "\n",
    "for numero in range(1000000):\n",
    "    contador += 1\n",
    "\n",
    "tiempo_final = time.time()\n",
    "\n",
    "tiempo_ejecucion = tiempo_final - tiempo_inicial\n",
    "print(\"tiempo de ejecución: t_final - t.inicial = \", tiempo_ejecucion)"
   ]
  },
  {
   "cell_type": "markdown",
   "id": "8b67077f",
   "metadata": {},
   "source": [
    "## Operaciones Elementales y algunas cosas más"
   ]
  },
  {
   "cell_type": "code",
   "execution_count": 100,
   "id": "0c5ced30",
   "metadata": {},
   "outputs": [
    {
     "data": {
      "text/plain": [
       "True"
      ]
     },
     "execution_count": 100,
     "metadata": {},
     "output_type": "execute_result"
    }
   ],
   "source": [
    "5<7"
   ]
  },
  {
   "cell_type": "code",
   "execution_count": 101,
   "id": "8530287e",
   "metadata": {},
   "outputs": [
    {
     "data": {
      "text/plain": [
       "(True, False, True, True, True, False)"
      ]
     },
     "execution_count": 101,
     "metadata": {},
     "output_type": "execute_result"
    }
   ],
   "source": [
    "5<7, 5<5, 5<=5, 7>5, 7>=5, 5>5"
   ]
  },
  {
   "cell_type": "code",
   "execution_count": 102,
   "id": "77abe82c",
   "metadata": {},
   "outputs": [
    {
     "data": {
      "text/plain": [
       "(True, False, True, False)"
      ]
     },
     "execution_count": 102,
     "metadata": {},
     "output_type": "execute_result"
    }
   ],
   "source": [
    "# Ojo con estos, porque van en condicionales if para testear\n",
    "6!=5, 6!=6, 5==5, 5==6"
   ]
  },
  {
   "cell_type": "code",
   "execution_count": 103,
   "id": "ae66272b",
   "metadata": {},
   "outputs": [
    {
     "data": {
      "text/plain": [
       "3.0"
      ]
     },
     "execution_count": 103,
     "metadata": {},
     "output_type": "execute_result"
    }
   ],
   "source": [
    "# division:\n",
    "12/4"
   ]
  },
  {
   "cell_type": "code",
   "execution_count": 104,
   "id": "fe02939b",
   "metadata": {},
   "outputs": [
    {
     "data": {
      "text/plain": [
       "2"
      ]
     },
     "execution_count": 104,
     "metadata": {},
     "output_type": "execute_result"
    }
   ],
   "source": [
    "# cociente:\n",
    "11//4"
   ]
  },
  {
   "cell_type": "code",
   "execution_count": 105,
   "id": "62fe9785",
   "metadata": {},
   "outputs": [
    {
     "data": {
      "text/plain": [
       "3"
      ]
     },
     "execution_count": 105,
     "metadata": {},
     "output_type": "execute_result"
    }
   ],
   "source": [
    "# resto:\n",
    "11 % 4"
   ]
  },
  {
   "cell_type": "code",
   "execution_count": 106,
   "id": "5789fc86",
   "metadata": {},
   "outputs": [
    {
     "name": "stdout",
     "output_type": "stream",
     "text": [
      "División exacta:  3.0 cociente: 2 resto 3\n"
     ]
    }
   ],
   "source": [
    "print('División exacta: ', 12/4, \"cociente:\", 11//4, \"resto\", 11%4)"
   ]
  },
  {
   "cell_type": "code",
   "execution_count": 107,
   "id": "1b2b78fc",
   "metadata": {},
   "outputs": [
    {
     "data": {
      "text/plain": [
       "8"
      ]
     },
     "execution_count": 107,
     "metadata": {},
     "output_type": "execute_result"
    }
   ],
   "source": [
    "# Multiplicacion\n",
    "2 * 4"
   ]
  },
  {
   "cell_type": "code",
   "execution_count": 108,
   "id": "7ae70677",
   "metadata": {},
   "outputs": [
    {
     "data": {
      "text/plain": [
       "16"
      ]
     },
     "execution_count": 108,
     "metadata": {},
     "output_type": "execute_result"
    }
   ],
   "source": [
    "# Elevado:\n",
    "2**4"
   ]
  },
  {
   "cell_type": "markdown",
   "id": "057ae2af",
   "metadata": {},
   "source": [
    "*Creado por:*\n",
    "    \n",
    "*Isabel Maniega*"
   ]
  }
 ],
 "metadata": {
  "kernelspec": {
   "display_name": "Python 3",
   "language": "python",
   "name": "python3"
  },
  "language_info": {
   "codemirror_mode": {
    "name": "ipython",
    "version": 3
   },
   "file_extension": ".py",
   "mimetype": "text/x-python",
   "name": "python",
   "nbconvert_exporter": "python",
   "pygments_lexer": "ipython3",
   "version": "3.8.10"
  }
 },
 "nbformat": 4,
 "nbformat_minor": 5
}

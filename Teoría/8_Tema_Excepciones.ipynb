{
 "cells": [
  {
   "cell_type": "markdown",
   "metadata": {},
   "source": [
    "*Contenido creado por: Isabel Maniega*\n"
   ]
  },
  {
   "cell_type": "markdown",
   "metadata": {},
   "source": [
    "****"
   ]
  },
  {
   "cell_type": "markdown",
   "metadata": {},
   "source": [
    "# -1- Excepciones: en la web de Python"
   ]
  },
  {
   "cell_type": "code",
   "execution_count": null,
   "metadata": {},
   "outputs": [],
   "source": [
    "# https://docs.python.org/3/library/exceptions.html"
   ]
  },
  {
   "cell_type": "markdown",
   "metadata": {},
   "source": [
    "****"
   ]
  },
  {
   "cell_type": "markdown",
   "metadata": {},
   "source": [
    "# -2- Ejemplo básico try-except"
   ]
  },
  {
   "cell_type": "code",
   "execution_count": null,
   "metadata": {},
   "outputs": [],
   "source": [
    "# Imagina que tenemos 2 variables"
   ]
  },
  {
   "cell_type": "code",
   "execution_count": null,
   "metadata": {},
   "outputs": [],
   "source": [
    "x = 5\n",
    "# 'y' no la tenemos definida"
   ]
  },
  {
   "cell_type": "code",
   "execution_count": null,
   "metadata": {},
   "outputs": [],
   "source": [
    "print(x)"
   ]
  },
  {
   "cell_type": "code",
   "execution_count": null,
   "metadata": {},
   "outputs": [],
   "source": [
    "# print(y)\n",
    "# NameError: name 'y' is not defined\n",
    "# OBVIAMENTE DA ERROR, AL NO TENERLA DEFINIDA"
   ]
  },
  {
   "cell_type": "code",
   "execution_count": null,
   "metadata": {},
   "outputs": [],
   "source": [
    "try:\n",
    "    print(x)\n",
    "except:\n",
    "    print(\"No tenemos definida la variable:\")"
   ]
  },
  {
   "cell_type": "code",
   "execution_count": null,
   "metadata": {},
   "outputs": [],
   "source": [
    "try:\n",
    "    print(y)\n",
    "except:\n",
    "    print(\"No tenemos definida la variable:\")"
   ]
  },
  {
   "cell_type": "code",
   "execution_count": null,
   "metadata": {},
   "outputs": [],
   "source": [
    "# De esta forma podemos conseguir que un código funcione saltando un error.\n",
    "\n",
    "# Pero OJO! en donde colocamos este Try-Except. Porque si es algo crítico estamos creando un problema.\n",
    "\n",
    "# Solo sirve cuando es algo que necesitamos saltar, \n",
    "\n",
    "# (para que el código ejecute en un momento que sabemos que algo no va)"
   ]
  },
  {
   "cell_type": "markdown",
   "metadata": {},
   "source": [
    "****"
   ]
  },
  {
   "cell_type": "markdown",
   "metadata": {},
   "source": [
    "# -3- Forma básica de crear una excepción"
   ]
  },
  {
   "cell_type": "markdown",
   "metadata": {},
   "source": [
    "## -3.1- En la División por cero"
   ]
  },
  {
   "cell_type": "code",
   "execution_count": null,
   "metadata": {},
   "outputs": [],
   "source": [
    "a = 5\n",
    "b = 0\n",
    "# a/b\n",
    "# Si descomentamos \"a/b\" nos sale:\n",
    "# ZeroDivisionError: division by zero\n",
    "\n",
    "# No es posible dividir un número por cero. (Daria infinito)"
   ]
  },
  {
   "cell_type": "markdown",
   "metadata": {},
   "source": [
    "**Podemos hacer lo siguiente, sin excepciones**"
   ]
  },
  {
   "cell_type": "code",
   "execution_count": null,
   "metadata": {},
   "outputs": [],
   "source": [
    "def funcion_dividir_1(a, b):\n",
    "    if b != 0:\n",
    "        print(a / b)\n",
    "    else:    # b = 0  -> no puede dividir\n",
    "        print(\"el denominador es 0, no podemos dividir\")"
   ]
  },
  {
   "cell_type": "code",
   "execution_count": null,
   "metadata": {},
   "outputs": [],
   "source": [
    "funcion_dividir_1(2,3)"
   ]
  },
  {
   "cell_type": "code",
   "execution_count": null,
   "metadata": {},
   "outputs": [],
   "source": [
    "funcion_dividir_1(2,0)"
   ]
  },
  {
   "cell_type": "markdown",
   "metadata": {},
   "source": [
    "**el mismo ejercicio cambiando el operador**"
   ]
  },
  {
   "cell_type": "code",
   "execution_count": null,
   "metadata": {},
   "outputs": [],
   "source": [
    "def funcion_dividir_1(a, b):\n",
    "    if b == 0:\n",
    "        print(\"el denominador es 0, no podemos dividir\")\n",
    "    else:      # b es distinto de 0\n",
    "        print(a/b)"
   ]
  },
  {
   "cell_type": "code",
   "execution_count": null,
   "metadata": {},
   "outputs": [],
   "source": [
    "funcion_dividir_1(2,3)"
   ]
  },
  {
   "cell_type": "code",
   "execution_count": null,
   "metadata": {},
   "outputs": [],
   "source": [
    "funcion_dividir_1(2,0)"
   ]
  },
  {
   "cell_type": "markdown",
   "metadata": {},
   "source": [
    "****"
   ]
  },
  {
   "cell_type": "markdown",
   "metadata": {},
   "source": [
    "# -4- Uso de raise"
   ]
  },
  {
   "cell_type": "code",
   "execution_count": null,
   "metadata": {},
   "outputs": [],
   "source": [
    "# Podemos lanzar excepciones, no lo usaremos"
   ]
  },
  {
   "cell_type": "markdown",
   "metadata": {},
   "source": [
    "****"
   ]
  },
  {
   "cell_type": "markdown",
   "metadata": {},
   "source": [
    "# -5- Try-Except-Else"
   ]
  },
  {
   "cell_type": "code",
   "execution_count": null,
   "metadata": {},
   "outputs": [],
   "source": [
    "# me creo una función para comprobar más casos.\n",
    "\n",
    "def funcion_division(a,b):\n",
    "    try:\n",
    "        division = a / b\n",
    "        print('estamos en try y hemos calculado a/b')\n",
    "    except ZeroDivisionError:\n",
    "        print(\"Un número dividido por 0 sale infinito\")\n",
    "        print(\"No pongas un 0 en el deniminador!\")\n",
    "    else:\n",
    "        print('estamos en el else')\n",
    "        print('valor de la división:', division)   "
   ]
  },
  {
   "cell_type": "code",
   "execution_count": null,
   "metadata": {},
   "outputs": [],
   "source": [
    "funcion_division(1,0)"
   ]
  },
  {
   "cell_type": "code",
   "execution_count": null,
   "metadata": {},
   "outputs": [],
   "source": [
    "funcion_division(1,2)"
   ]
  },
  {
   "cell_type": "markdown",
   "metadata": {},
   "source": [
    "****"
   ]
  },
  {
   "cell_type": "markdown",
   "metadata": {},
   "source": [
    "# -6- try-except-else con archivos"
   ]
  },
  {
   "cell_type": "markdown",
   "metadata": {},
   "source": [
    "**Un archivo que no existe**\n",
    "\n",
    "(o no se encuentra en ese lugar)"
   ]
  },
  {
   "cell_type": "code",
   "execution_count": null,
   "metadata": {},
   "outputs": [],
   "source": [
    "try:\n",
    "    f = open('archivo_excepciones.txt')  # El fichero no existe\n",
    "except FileNotFoundError:\n",
    "    print('¡El fichero no existe!')\n",
    "else:\n",
    "    print(f.read())"
   ]
  },
  {
   "cell_type": "code",
   "execution_count": null,
   "metadata": {},
   "outputs": [],
   "source": [
    "# lo cerramos, si esta abierto\n",
    "# f.close()"
   ]
  },
  {
   "cell_type": "markdown",
   "metadata": {},
   "source": [
    "**Un archivo que SI existe**\n",
    "\n",
    "(y lo encuentra en esa ubicación)"
   ]
  },
  {
   "cell_type": "code",
   "execution_count": null,
   "metadata": {},
   "outputs": [],
   "source": [
    "try:\n",
    "    f = open('archivo_excepciones_2.txt')  # El fichero si existe\n",
    "except FileNotFoundError:\n",
    "    print('¡El fichero no existe!')\n",
    "else:\n",
    "    print(f.read())\n",
    "    f.close()     "
   ]
  },
  {
   "cell_type": "markdown",
   "metadata": {},
   "source": [
    "****"
   ]
  },
  {
   "cell_type": "markdown",
   "metadata": {},
   "source": [
    "# -7- Errores cuando sumamos strings en vez de números"
   ]
  },
  {
   "cell_type": "code",
   "execution_count": null,
   "metadata": {},
   "outputs": [],
   "source": [
    "# print(2 + \"2\")\n",
    "# TypeError: unsupported operand type(s) for +: 'int' and 'str'\n",
    "\n",
    "# al hacer esa operación nos devuelve un error"
   ]
  },
  {
   "cell_type": "code",
   "execution_count": null,
   "metadata": {},
   "outputs": [],
   "source": [
    "3"
   ]
  },
  {
   "cell_type": "code",
   "execution_count": null,
   "metadata": {},
   "outputs": [],
   "source": [
    "type(3)"
   ]
  },
  {
   "cell_type": "code",
   "execution_count": null,
   "metadata": {},
   "outputs": [],
   "source": [
    "str(3)"
   ]
  },
  {
   "cell_type": "code",
   "execution_count": null,
   "metadata": {},
   "outputs": [],
   "source": [
    "'3'"
   ]
  },
  {
   "cell_type": "code",
   "execution_count": null,
   "metadata": {},
   "outputs": [],
   "source": [
    "type('3')"
   ]
  },
  {
   "cell_type": "code",
   "execution_count": null,
   "metadata": {},
   "outputs": [],
   "source": [
    "def funcion_formatos_diferentes(a,b):\n",
    "    try:\n",
    "        suma = a + b\n",
    "        print(suma)\n",
    "    except TypeError:\n",
    "        print(\"revisa el formato de los números, porque no es correcto\")"
   ]
  },
  {
   "cell_type": "code",
   "execution_count": null,
   "metadata": {},
   "outputs": [],
   "source": [
    "funcion_formatos_diferentes(2,\"3\")"
   ]
  },
  {
   "cell_type": "code",
   "execution_count": null,
   "metadata": {},
   "outputs": [],
   "source": [
    "funcion_formatos_diferentes(2,3)"
   ]
  },
  {
   "cell_type": "markdown",
   "metadata": {},
   "source": [
    "****"
   ]
  },
  {
   "cell_type": "markdown",
   "metadata": {},
   "source": [
    "# -8- except Exception"
   ]
  },
  {
   "cell_type": "raw",
   "metadata": {},
   "source": [
    "Otra forma si no sabes que excepción puede saltar, \n",
    "\n",
    "puedes usar la clase genérica Exception. \n",
    "\n",
    "Sirve para cualquier tipo de excepción. \n",
    "\n",
    "De hecho todas las excepciones heredan de Exception"
   ]
  },
  {
   "cell_type": "markdown",
   "metadata": {},
   "source": [
    "**except Exception: Ejemplo 1**"
   ]
  },
  {
   "cell_type": "code",
   "execution_count": null,
   "metadata": {},
   "outputs": [],
   "source": [
    "def funcion_suma_2(a,b):\n",
    "    try:\n",
    "        suma = a + b\n",
    "        print(\"la suma es: \", suma)\n",
    "    except Exception:\n",
    "        print(\"Ha habido una excepción\")"
   ]
  },
  {
   "cell_type": "code",
   "execution_count": null,
   "metadata": {},
   "outputs": [],
   "source": [
    "funcion_suma_2(2,0)"
   ]
  },
  {
   "cell_type": "code",
   "execution_count": null,
   "metadata": {},
   "outputs": [],
   "source": [
    "funcion_suma_2(2,\"2\")"
   ]
  },
  {
   "cell_type": "markdown",
   "metadata": {},
   "source": [
    "**except Exception: Ejemplo 2**"
   ]
  },
  {
   "cell_type": "code",
   "execution_count": null,
   "metadata": {},
   "outputs": [],
   "source": [
    "def funcion_division_3(a,b):\n",
    "    try:\n",
    "        division = a / b\n",
    "        print(\"la division es: \", division)\n",
    "    except Exception:\n",
    "        print(\"Ha habido una excepción\")"
   ]
  },
  {
   "cell_type": "code",
   "execution_count": null,
   "metadata": {},
   "outputs": [],
   "source": [
    "funcion_division_3(1,3)"
   ]
  },
  {
   "cell_type": "code",
   "execution_count": null,
   "metadata": {},
   "outputs": [],
   "source": [
    "funcion_division_3(2,0)"
   ]
  },
  {
   "cell_type": "code",
   "execution_count": null,
   "metadata": {},
   "outputs": [],
   "source": [
    "funcion_division_3(2,\"2\")"
   ]
  },
  {
   "cell_type": "markdown",
   "metadata": {},
   "source": [
    "****"
   ]
  },
  {
   "cell_type": "markdown",
   "metadata": {},
   "source": [
    "# -9- except Exception as e (una de las mejores opciones)"
   ]
  },
  {
   "cell_type": "code",
   "execution_count": null,
   "metadata": {},
   "outputs": [],
   "source": [
    "def funcion_division_4(a,b):\n",
    "    try:\n",
    "        division = a / b\n",
    "        print(\"la division es: \", division)\n",
    "    except Exception as e:\n",
    "        print(\"Ha habido una excepción\")\n",
    "        print(\"tipo del error: \", type(e))\n",
    "        print('str(e):', str(e))"
   ]
  },
  {
   "cell_type": "code",
   "execution_count": null,
   "metadata": {},
   "outputs": [],
   "source": [
    "funcion_division_4(1,3)"
   ]
  },
  {
   "cell_type": "code",
   "execution_count": null,
   "metadata": {},
   "outputs": [],
   "source": [
    "funcion_division_4(2,0)"
   ]
  },
  {
   "cell_type": "code",
   "execution_count": null,
   "metadata": {},
   "outputs": [],
   "source": [
    "funcion_division_4(2,\"2\")"
   ]
  },
  {
   "cell_type": "markdown",
   "metadata": {},
   "source": [
    "****"
   ]
  },
  {
   "cell_type": "markdown",
   "metadata": {},
   "source": [
    "# -10- except Exception as e (otra posibilidad: try-except-else)"
   ]
  },
  {
   "cell_type": "code",
   "execution_count": null,
   "metadata": {},
   "outputs": [],
   "source": [
    "def funcion_division_5(a,b):\n",
    "    try:\n",
    "        division = a / b\n",
    "        print(\"la division es: \", division)\n",
    "    except Exception as e:\n",
    "        print(\"Ha habido una excepción\")\n",
    "        print(\"tipo del error: \", type(e))\n",
    "    else:\n",
    "        print(\"estamos en else, no hubo excepciones\")"
   ]
  },
  {
   "cell_type": "code",
   "execution_count": null,
   "metadata": {},
   "outputs": [],
   "source": [
    "funcion_division_5(1,3)"
   ]
  },
  {
   "cell_type": "code",
   "execution_count": null,
   "metadata": {},
   "outputs": [],
   "source": [
    "funcion_division_5(2,0)"
   ]
  },
  {
   "cell_type": "code",
   "execution_count": null,
   "metadata": {},
   "outputs": [],
   "source": [
    "funcion_division_5(2,\"2\")"
   ]
  },
  {
   "cell_type": "markdown",
   "metadata": {},
   "source": [
    "****"
   ]
  },
  {
   "cell_type": "markdown",
   "metadata": {},
   "source": [
    "# -11- except Exception as e (otra posibilidad: try-except-finally)"
   ]
  },
  {
   "cell_type": "markdown",
   "metadata": {},
   "source": [
    "Este bloque se suele usar si queremos ejecutar algún tipo de acción de limpieza. \n",
    "\n",
    "Si por ejemplo estamos escribiendo datos en un fichero pero ocurre una excepción, \n",
    "\n",
    "tal vez queramos borrar el contenido que hemos escrito con anterioridad, \n",
    "\n",
    "para no dejar datos inconsistenes en el fichero."
   ]
  },
  {
   "cell_type": "code",
   "execution_count": null,
   "metadata": {},
   "outputs": [],
   "source": [
    "def funcion_division_6(a,b):\n",
    "    try:\n",
    "        division = a / b\n",
    "        print(\"la division es: \", division)\n",
    "        print(\"\\n\")\n",
    "    except Exception as e:\n",
    "        print(\"Ha habido una excepción\")\n",
    "        print(\"tipo del error: \", type(e))\n",
    "        print(\"\\n\")\n",
    "    finally:\n",
    "        print(\"estamos en finally\")\n",
    "        print(\"esto se ejecuta SIEMPRE haya o no excepciones\")"
   ]
  },
  {
   "cell_type": "code",
   "execution_count": null,
   "metadata": {},
   "outputs": [],
   "source": [
    "funcion_division_6(1,3)"
   ]
  },
  {
   "cell_type": "code",
   "execution_count": null,
   "metadata": {},
   "outputs": [],
   "source": [
    "funcion_division_6(2,0)"
   ]
  },
  {
   "cell_type": "code",
   "execution_count": null,
   "metadata": {},
   "outputs": [],
   "source": [
    "funcion_division_6(2,\"2\")"
   ]
  },
  {
   "cell_type": "markdown",
   "metadata": {},
   "source": [
    "****"
   ]
  },
  {
   "cell_type": "markdown",
   "metadata": {},
   "source": [
    "# -12- Ejemplo de excepciones con archivos"
   ]
  },
  {
   "cell_type": "code",
   "execution_count": null,
   "metadata": {},
   "outputs": [],
   "source": [
    "def funcion_lectura(archivo):\n",
    "    try:\n",
    "        with open(archivo) as file:\n",
    "            lectura_archivo = file.read()\n",
    "            print(lectura_archivo)\n",
    "    except Exception as e:\n",
    "        print(\"no se pudo abrir\")\n",
    "        print(\"Tipo de error:\", type(e))\n",
    "        print(str(e))"
   ]
  },
  {
   "cell_type": "code",
   "execution_count": null,
   "metadata": {},
   "outputs": [],
   "source": [
    "funcion_lectura('archivo_excepciones_1.txt')  # no lo encuentra"
   ]
  },
  {
   "cell_type": "code",
   "execution_count": null,
   "metadata": {},
   "outputs": [],
   "source": [
    "funcion_lectura('archivo_excepciones_2.txt') # si lo encuentra \n",
    "\n",
    "# (si lo coloco yo previamente este archivo)\n",
    "# SE ENCUENTRA EN LA MISMA RUTA"
   ]
  },
  {
   "cell_type": "markdown",
   "metadata": {},
   "source": [
    "****"
   ]
  },
  {
   "cell_type": "markdown",
   "metadata": {},
   "source": [
    "# Más sobre Excepciones..."
   ]
  },
  {
   "cell_type": "markdown",
   "metadata": {},
   "source": [
    "Ordenadas las excepciones por orden de preferencia:"
   ]
  },
  {
   "cell_type": "markdown",
   "metadata": {},
   "source": [
    "```\n",
    "BaseException\n",
    "├── BaseExceptionGroup\n",
    "├── GeneratorExit\n",
    "├── KeyboardInterrupt\n",
    "├── SystemExit\n",
    "└── Exception\n",
    "  ├── ArithmeticError\n",
    "  │    ├── FloatingPointError\n",
    "  │    ├── OverflowError\n",
    "  │    └── ZeroDivisionError\n",
    "  ├── AssertionError\n",
    "  ├── AttributeError\n",
    "  ├── BufferError\n",
    "  ├── EOFError\n",
    "  ├── ExceptionGroup [BaseExceptionGroup]\n",
    "  ├── ImportError\n",
    "  │    └── ModuleNotFoundError\n",
    "  ├── LookupError\n",
    "  │    ├── IndexError\n",
    "  │    └── KeyError\n",
    "  ├── MemoryError\n",
    "  ├── NameError\n",
    "  │    └── UnboundLocalError\n",
    "  ├── OSError\n",
    "  │    ├── BlockingIOError\n",
    "  │    ├── ChildProcessError\n",
    "  │    ├── ConnectionError\n",
    "  │    │    ├── BrokenPipeError\n",
    "  │    │    ├── ConnectionAbortedError\n",
    "  │    │    ├── ConnectionRefusedError\n",
    "  │    │    └── ConnectionResetError\n",
    "  │    ├── FileExistsError\n",
    "  │    ├── FileNotFoundError\n",
    "  │    ├── InterruptedError\n",
    "  │    ├── IsADirectoryError\n",
    "  │    ├── NotADirectoryError\n",
    "  │    ├── PermissionError\n",
    "  │    ├── ProcessLookupError\n",
    "  │    └── TimeoutError\n",
    "  ├── ReferenceError\n",
    "  ├── RuntimeError\n",
    "  │    ├── NotImplementedError\n",
    "  │    └── RecursionError\n",
    "  ├── StopAsyncIteration\n",
    "  ├── StopIteration\n",
    "  ├── SyntaxError\n",
    "  │    └── IndentationError\n",
    "  │         └── TabError\n",
    "  ├── SystemError\n",
    "  ├── TypeError\n",
    "  ├── ValueError\n",
    "  │    └── UnicodeError\n",
    "  │         ├── UnicodeDecodeError\n",
    "  │         ├── UnicodeEncodeError\n",
    "  │         └── UnicodeTranslateError\n",
    "  └── Warning\n",
    "       ├── BytesWarning\n",
    "       ├── DeprecationWarning\n",
    "       ├── EncodingWarning\n",
    "       ├── FutureWarning\n",
    "       ├── ImportWarning\n",
    "       ├── PendingDeprecationWarning\n",
    "       ├── ResourceWarning\n",
    "       ├── RuntimeWarning\n",
    "       ├── SyntaxWarning\n",
    "       ├── UnicodeWarning\n",
    "       └── UserWarning\n",
    "```"
   ]
  },
  {
   "cell_type": "markdown",
   "metadata": {},
   "source": [
    "## Tipos de excepciones más relevantes"
   ]
  },
  {
   "cell_type": "markdown",
   "metadata": {},
   "source": [
    "Para capturar cualquier excepción podemos usar Exception o BaseException:"
   ]
  },
  {
   "cell_type": "code",
   "execution_count": null,
   "metadata": {},
   "outputs": [],
   "source": [
    "try:\n",
    "    30* (2/0)\n",
    "except BaseException as e:\n",
    "    print('Error %s' % str(e))"
   ]
  },
  {
   "cell_type": "code",
   "execution_count": null,
   "metadata": {},
   "outputs": [],
   "source": [
    "try:\n",
    "    30* (2/0)\n",
    "except Exception as e:\n",
    "    print('Error %s' % str(e))"
   ]
  },
  {
   "cell_type": "markdown",
   "metadata": {},
   "source": [
    "### ArithmeticError"
   ]
  },
  {
   "cell_type": "markdown",
   "metadata": {},
   "source": [
    "* Division entre 0: **ZeroDivisionError**"
   ]
  },
  {
   "cell_type": "code",
   "execution_count": null,
   "metadata": {},
   "outputs": [],
   "source": [
    "30 * (2/0)"
   ]
  },
  {
   "cell_type": "code",
   "execution_count": null,
   "metadata": {},
   "outputs": [],
   "source": [
    "try:\n",
    "    30* (2/0)\n",
    "except ZeroDivisionError as e:\n",
    "    print('Error %s' % str(e))"
   ]
  },
  {
   "cell_type": "markdown",
   "metadata": {},
   "source": [
    "### AttributeError"
   ]
  },
  {
   "cell_type": "markdown",
   "metadata": {},
   "source": [
    "* Error en el uso: **AttributeError**"
   ]
  },
  {
   "cell_type": "code",
   "execution_count": null,
   "metadata": {},
   "outputs": [],
   "source": [
    "num = 10\n",
    "num.append(6)\n",
    "print(num)"
   ]
  },
  {
   "cell_type": "code",
   "execution_count": null,
   "metadata": {},
   "outputs": [],
   "source": [
    "try:\n",
    "    num= 10\n",
    "    num.append(6)\n",
    "    print(num)\n",
    "except AttributeError as e:\n",
    "    print('Error %s' % str(e))"
   ]
  },
  {
   "cell_type": "markdown",
   "metadata": {},
   "source": [
    "### ImportError"
   ]
  },
  {
   "cell_type": "markdown",
   "metadata": {},
   "source": [
    "* Error al importar un módulo: **ImportError**"
   ]
  },
  {
   "cell_type": "code",
   "execution_count": null,
   "metadata": {},
   "outputs": [],
   "source": [
    "from pandas import hola"
   ]
  },
  {
   "cell_type": "code",
   "execution_count": null,
   "metadata": {},
   "outputs": [],
   "source": [
    "try:\n",
    "    from pandas import hola\n",
    "except ImportError as e:\n",
    "    print('Error %s' % str(e))"
   ]
  },
  {
   "cell_type": "markdown",
   "metadata": {},
   "source": [
    "Error en importar un modulo será: **ModuleNotFoundError**"
   ]
  },
  {
   "cell_type": "code",
   "execution_count": null,
   "metadata": {},
   "outputs": [],
   "source": [
    "try:\n",
    "    import hola\n",
    "except ModuleNotFoundError as e:\n",
    "    print('Error %s' % str(e))"
   ]
  },
  {
   "cell_type": "markdown",
   "metadata": {},
   "source": [
    "### LookupError"
   ]
  },
  {
   "cell_type": "markdown",
   "metadata": {},
   "source": [
    "* Error de índice: **IndexError**"
   ]
  },
  {
   "cell_type": "code",
   "execution_count": null,
   "metadata": {},
   "outputs": [],
   "source": [
    "L = [10, 50, 60]\n",
    "L[3]"
   ]
  },
  {
   "cell_type": "code",
   "execution_count": null,
   "metadata": {},
   "outputs": [],
   "source": [
    "try:\n",
    "    L = [10, 50, 60]\n",
    "    L[3]\n",
    "except IndexError as e:\n",
    "    print('Error %s' % str(e))"
   ]
  },
  {
   "cell_type": "markdown",
   "metadata": {},
   "source": [
    "Si en vez de poner un número entero ponemos un string el error sería de tipo:"
   ]
  },
  {
   "cell_type": "code",
   "execution_count": null,
   "metadata": {},
   "outputs": [],
   "source": [
    "try:\n",
    "    L = [10, 50, 60]\n",
    "    L['3']\n",
    "except IndexError as e:\n",
    "    print('Error Index %s' % str(e))\n",
    "except TypeError as e:\n",
    "    print('Error TypeError %s' % str(e))"
   ]
  },
  {
   "cell_type": "markdown",
   "metadata": {},
   "source": [
    "* Error de clave en un diccionario: **KeyError**"
   ]
  },
  {
   "cell_type": "code",
   "execution_count": null,
   "metadata": {},
   "outputs": [],
   "source": [
    "ages = {'Juan': 25, 'Luis':36, 'Pedro':41}\n",
    "ages['Maria']"
   ]
  },
  {
   "cell_type": "code",
   "execution_count": null,
   "metadata": {},
   "outputs": [],
   "source": [
    "try:\n",
    "    ages = {'Juan': 25, 'Luis':36, 'Pedro':41}\n",
    "    ages['Maria']\n",
    "except KeyError as e:\n",
    "    print('Error %s' % str(e))"
   ]
  },
  {
   "cell_type": "markdown",
   "metadata": {},
   "source": [
    "### NameError"
   ]
  },
  {
   "cell_type": "markdown",
   "metadata": {},
   "source": [
    "* Nombre no definido: **NameError**"
   ]
  },
  {
   "cell_type": "code",
   "execution_count": null,
   "metadata": {},
   "outputs": [],
   "source": [
    "4 + w*3"
   ]
  },
  {
   "cell_type": "code",
   "execution_count": null,
   "metadata": {},
   "outputs": [],
   "source": [
    "try:\n",
    "    4 + w*3\n",
    "except NameError as e:\n",
    "    print('Error %s' % str(e))"
   ]
  },
  {
   "cell_type": "markdown",
   "metadata": {},
   "source": [
    "### OSError"
   ]
  },
  {
   "cell_type": "markdown",
   "metadata": {},
   "source": [
    "* Archivo no encontrado: **FileNotFoundError**"
   ]
  },
  {
   "cell_type": "code",
   "execution_count": null,
   "metadata": {},
   "outputs": [],
   "source": [
    "try:\n",
    "    file = open('data.csv')\n",
    "except FileNotFoundError as e:\n",
    "    print('Error %s' % str(e))"
   ]
  },
  {
   "cell_type": "markdown",
   "metadata": {},
   "source": [
    "* Archivo no encontrado: **IsADirectoryError**"
   ]
  },
  {
   "cell_type": "code",
   "execution_count": null,
   "metadata": {},
   "outputs": [],
   "source": [
    "try:\n",
    "    # crear una carpeta vacia llamada \"solucion\" al lado del archivo Excepciones.ipynb\n",
    "    file = open('./solucion')\n",
    "except IsADirectoryError as e:\n",
    "    print('Error %s' % str(e))"
   ]
  },
  {
   "cell_type": "markdown",
   "metadata": {},
   "source": [
    "### SyntaxError"
   ]
  },
  {
   "cell_type": "markdown",
   "metadata": {},
   "source": [
    "* Error en la identación o sintaxis: **SyntaxError**"
   ]
  },
  {
   "cell_type": "markdown",
   "metadata": {},
   "source": [
    "**IndentationError**"
   ]
  },
  {
   "cell_type": "code",
   "execution_count": null,
   "metadata": {},
   "outputs": [],
   "source": [
    "name = 'Pepe'\n",
    "\n",
    "if name == 'Pepe':\n",
    "print('El nombre es Pepe')"
   ]
  },
  {
   "cell_type": "code",
   "execution_count": null,
   "metadata": {},
   "outputs": [],
   "source": [
    "name = 'Pepe'\n",
    "\n",
    "try:\n",
    "    if name == 'Pepe':\n",
    "    print('El nombre es Pepe')\n",
    "except IndentationError as e:\n",
    "    print('Error %s' % str(e))"
   ]
  },
  {
   "cell_type": "markdown",
   "metadata": {},
   "source": [
    "Este no se puede capturar, solo si se realiza con dos scripts y se importa uno en otro, podremos realizar la excepción"
   ]
  },
  {
   "cell_type": "code",
   "execution_count": null,
   "metadata": {},
   "outputs": [],
   "source": [
    "# test1.py\n",
    "try:\n",
    "    import test2\n",
    "except IndentationError as ex:\n",
    "    print(ex)\n",
    "\n",
    "# test2.py\n",
    "def f():\n",
    "    pass\n",
    "        pass # error"
   ]
  },
  {
   "cell_type": "markdown",
   "metadata": {},
   "source": [
    "**SyntaxError**"
   ]
  },
  {
   "cell_type": "markdown",
   "metadata": {},
   "source": [
    "Por ejemplo si definimos mal un string, lista, etc se nos olvida el cierre"
   ]
  },
  {
   "cell_type": "code",
   "execution_count": null,
   "metadata": {},
   "outputs": [],
   "source": [
    "name = 'Pepe"
   ]
  },
  {
   "cell_type": "code",
   "execution_count": null,
   "metadata": {},
   "outputs": [],
   "source": [
    "try:\n",
    "    name = 'Pepe\n",
    "except SyntaxError as e:\n",
    "    print('Error %s' str(e))"
   ]
  },
  {
   "cell_type": "markdown",
   "metadata": {},
   "source": [
    "Pasa lo mismo que con la identación, no se puede capturar."
   ]
  },
  {
   "cell_type": "markdown",
   "metadata": {},
   "source": [
    "### TypeError"
   ]
  },
  {
   "cell_type": "markdown",
   "metadata": {},
   "source": [
    "* Error de tipo de variable: **TypeError**"
   ]
  },
  {
   "cell_type": "code",
   "execution_count": null,
   "metadata": {},
   "outputs": [],
   "source": [
    "'4' + 2"
   ]
  },
  {
   "cell_type": "code",
   "execution_count": null,
   "metadata": {},
   "outputs": [],
   "source": [
    "try:\n",
    "    '4' + 2\n",
    "except TypeError as e:\n",
    "    print('Error %s' % str(e))"
   ]
  },
  {
   "cell_type": "markdown",
   "metadata": {},
   "source": [
    "### ValueError"
   ]
  },
  {
   "cell_type": "markdown",
   "metadata": {},
   "source": [
    "* Error al recibir un error de tipo o de valor inapropiado: **ValueError**"
   ]
  },
  {
   "cell_type": "code",
   "execution_count": null,
   "metadata": {},
   "outputs": [],
   "source": [
    "import math\n",
    "\n",
    "x = -3\n",
    "\n",
    "print(f'Square Root of {x} is {math.sqrt(x)}')"
   ]
  },
  {
   "cell_type": "code",
   "execution_count": null,
   "metadata": {},
   "outputs": [],
   "source": [
    "x = -3\n",
    "\n",
    "try:\n",
    "    print(f'Square Root of {x} is {math.sqrt(x)}')\n",
    "except ValueError as ve:\n",
    "    print(f'You entered {x}, which is not a positive number.')\n",
    "    print('Error %s' % str(ve))"
   ]
  },
  {
   "cell_type": "markdown",
   "metadata": {},
   "source": [
    "### Múltiples excepciones"
   ]
  },
  {
   "cell_type": "markdown",
   "metadata": {},
   "source": [
    "En el caso de declarar multiples excepciones se tomarán por orden de preferencia según la primera tabla al ser detectados, para declararlos se pone except y entre paréntesis las excepciones:"
   ]
  },
  {
   "cell_type": "code",
   "execution_count": null,
   "metadata": {},
   "outputs": [],
   "source": [
    "try:\n",
    "    # Error al pulsar enter sin insertar dato o insertar un texto, error de TypeError\n",
    "    value = int(input('Inserte un número: '))\n",
    "    result = 25/value\n",
    "    \n",
    "    print(f'El resultado es: {result}')\n",
    "    print(f'Square Root of {x} is {math.sqrt(int(value))}')\n",
    "    \n",
    "    L = [10, 5, 6]\n",
    "    print(f'El valor en la lista es: {L[value]}')\n",
    "except (IndexError, TypeError, ValueError) as e:\n",
    "    print('Error %s' % str(e))"
   ]
  },
  {
   "cell_type": "code",
   "execution_count": null,
   "metadata": {},
   "outputs": [],
   "source": [
    "try:\n",
    "    # Error al poner un número. el index es un string\n",
    "    value = int(input('Inserte un número: '))\n",
    "    result = 25/value\n",
    "    \n",
    "    print(f'El resultado es: {result}')\n",
    "    print(f'Square Root of {x} is {math.sqrt(int(value))}')\n",
    "    \n",
    "    L = [10, 5, 6]\n",
    "    print(f'El valor en la lista es: {L[value]}')\n",
    "except (IndexError, TypeError, ValueError) as e:\n",
    "    print('Error %s' % str(e))"
   ]
  },
  {
   "cell_type": "code",
   "execution_count": null,
   "metadata": {},
   "outputs": [],
   "source": [
    "try:\n",
    "    # Error al poner un número negativo\n",
    "    value = int(input('Inserte un número: '))\n",
    "    result = 25/value\n",
    "    \n",
    "    print(f'El resultado es: {result}')\n",
    "    print(f'Square Root of {x} is {math.sqrt(int(value))}')\n",
    "    \n",
    "    L = [10, 5, 6]\n",
    "    print(f'El valor en la lista es: {L[value]}')\n",
    "except (IndexError, TypeError, ValueError) as e:\n",
    "    print('Error %s' % str(e))"
   ]
  },
  {
   "cell_type": "markdown",
   "metadata": {},
   "source": [
    "### Raise"
   ]
  },
  {
   "cell_type": "markdown",
   "metadata": {},
   "source": [
    "También se puede usar raise directamente con las excepciones:"
   ]
  },
  {
   "cell_type": "code",
   "execution_count": null,
   "metadata": {},
   "outputs": [],
   "source": [
    "\n",
    "# Error al poner un número un número negativo\n",
    "value = input('Inserte un número: ')\n",
    "\n",
    "if not type(value) is int:\n",
    "    raise TypeError('Error en el index')"
   ]
  },
  {
   "cell_type": "markdown",
   "metadata": {},
   "source": [
    "****"
   ]
  },
  {
   "cell_type": "markdown",
   "metadata": {},
   "source": [
    "# -14- EJERCICIOS"
   ]
  },
  {
   "cell_type": "markdown",
   "metadata": {},
   "source": [
    "**Ejemplo con try except** \n",
    "\n",
    "(el primero es el de examen)"
   ]
  },
  {
   "cell_type": "code",
   "execution_count": null,
   "metadata": {},
   "outputs": [],
   "source": [
    "\"\"\"\n",
    "try:\n",
    "    print(5/0)\n",
    "    break\n",
    "except:\n",
    "    print(\"Sorry, something went wrong...\")\n",
    "except (ValueError, ZeroDivisionError):\n",
    "    print(\"Too bad...\")\n",
    "\"\"\"\n",
    "    \n",
    "# SyntaxError: 'break' outside loop"
   ]
  },
  {
   "cell_type": "code",
   "execution_count": null,
   "metadata": {},
   "outputs": [],
   "source": [
    "# ejemplo 2 de este tipo (este si funciona)\n",
    "\n",
    "# se ha intentado que ejecute la parte de ZeroDivisionError"
   ]
  },
  {
   "cell_type": "code",
   "execution_count": null,
   "metadata": {},
   "outputs": [],
   "source": [
    "try:\n",
    "    print(5/0)\n",
    "except (ValueError, ZeroDivisionError):\n",
    "    print(\"Too bad...\")\n",
    "except:\n",
    "    print(\"Sorry, something went wrong...\")"
   ]
  },
  {
   "cell_type": "code",
   "execution_count": null,
   "metadata": {},
   "outputs": [],
   "source": [
    "try:\n",
    "    print(5/0)\n",
    "except (ValueError):\n",
    "    print(\"Too bad...\")\n",
    "except:\n",
    "    print(\"Sorry, something went wrong...\")"
   ]
  },
  {
   "cell_type": "code",
   "execution_count": null,
   "metadata": {},
   "outputs": [],
   "source": [
    "try:\n",
    "    print(5/0)\n",
    "except ValueError:\n",
    "    print(\"Too bad...\")\n",
    "except:\n",
    "    print(\"Sorry, something went wrong...\")"
   ]
  },
  {
   "cell_type": "markdown",
   "metadata": {},
   "source": [
    "**UNA POSIBILIDAD**"
   ]
  },
  {
   "cell_type": "code",
   "execution_count": null,
   "metadata": {},
   "outputs": [],
   "source": [
    "try:\n",
    "    print(5/0)\n",
    "except Exception as e:\n",
    "    print(type(e))\n",
    "    print(str(e))"
   ]
  },
  {
   "cell_type": "code",
   "execution_count": null,
   "metadata": {},
   "outputs": [],
   "source": [
    "try:\n",
    "    print(5/0)\n",
    "except:\n",
    "    print(\"Sorry, something went wrong...\")\n",
    "except (ValueError, ZeroDivisionError):\n",
    "    print(\"Too bad...\")"
   ]
  },
  {
   "cell_type": "markdown",
   "metadata": {},
   "source": [
    "****"
   ]
  },
  {
   "cell_type": "markdown",
   "metadata": {},
   "source": [
    "*Gracias por la atención*\n",
    "\n",
    "*Isabel Maniega*"
   ]
  }
 ],
 "metadata": {
  "kernelspec": {
   "display_name": "Python 3 (ipykernel)",
   "language": "python",
   "name": "python3"
  },
  "language_info": {
   "codemirror_mode": {
    "name": "ipython",
    "version": 3
   },
   "file_extension": ".py",
   "mimetype": "text/x-python",
   "name": "python",
   "nbconvert_exporter": "python",
   "pygments_lexer": "ipython3",
   "version": "3.10.12"
  }
 },
 "nbformat": 4,
 "nbformat_minor": 4
}

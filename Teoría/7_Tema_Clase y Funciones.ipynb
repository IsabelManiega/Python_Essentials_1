{
 "cells": [
  {
   "cell_type": "markdown",
   "id": "eb217ff9",
   "metadata": {},
   "source": [
    "*Creado por:*\n",
    "\n",
    "*Isabel Maniega*"
   ]
  },
  {
   "cell_type": "markdown",
   "id": "5cb68d8d",
   "metadata": {},
   "source": [
    "# Funciones"
   ]
  },
  {
   "cell_type": "markdown",
   "id": "12841aca",
   "metadata": {},
   "source": [
    "### Motivos de uso:"
   ]
  },
  {
   "cell_type": "markdown",
   "id": "7f9bacb6",
   "metadata": {},
   "source": [
    "* Algo que no podemos repetir (mucha repetición)\n",
    "* Requerimos automatizar para no repetir el código muchas veces"
   ]
  },
  {
   "cell_type": "code",
   "execution_count": null,
   "id": "7065dfcd",
   "metadata": {},
   "outputs": [],
   "source": [
    "x = 1\n",
    "y = x + 3\n",
    "y"
   ]
  },
  {
   "cell_type": "code",
   "execution_count": null,
   "id": "d5545fc9",
   "metadata": {},
   "outputs": [],
   "source": [
    "x = 2\n",
    "y = x + 3\n",
    "y"
   ]
  },
  {
   "cell_type": "code",
   "execution_count": null,
   "id": "7166e59e",
   "metadata": {},
   "outputs": [],
   "source": [
    "x = 3\n",
    "y = x + 3\n",
    "y"
   ]
  },
  {
   "cell_type": "markdown",
   "id": "bb3ff8d5",
   "metadata": {},
   "source": [
    "**Código repetido...**"
   ]
  },
  {
   "cell_type": "markdown",
   "id": "6abe67d9",
   "metadata": {},
   "source": [
    "**declaramos una función:**"
   ]
  },
  {
   "cell_type": "code",
   "execution_count": null,
   "id": "f2b705ee",
   "metadata": {},
   "outputs": [],
   "source": [
    "def suma(x):\n",
    "    # print(x  + 3)\n",
    "    return x + 3\n",
    "\n",
    "resultado = suma(1)\n",
    "resultado"
   ]
  },
  {
   "cell_type": "code",
   "execution_count": null,
   "id": "f191031b",
   "metadata": {},
   "outputs": [],
   "source": [
    "resultado = suma(2)\n",
    "resultado"
   ]
  },
  {
   "cell_type": "code",
   "execution_count": null,
   "id": "383211a9",
   "metadata": {},
   "outputs": [],
   "source": [
    "resultado = suma(3)\n",
    "resultado"
   ]
  },
  {
   "cell_type": "markdown",
   "id": "c0ea633b",
   "metadata": {},
   "source": [
    "**Realizamos un bucle for para automatizarlo**"
   ]
  },
  {
   "cell_type": "code",
   "execution_count": null,
   "id": "42efbac6",
   "metadata": {},
   "outputs": [],
   "source": [
    "for x in range(1, 6):\n",
    "    print(\"valor de x:\", x)\n",
    "    print(suma(x))"
   ]
  },
  {
   "cell_type": "markdown",
   "id": "aa26fa07",
   "metadata": {},
   "source": [
    "## Función: lambda"
   ]
  },
  {
   "cell_type": "code",
   "execution_count": null,
   "id": "9bf5fb78",
   "metadata": {},
   "outputs": [],
   "source": [
    "def funcion(x):\n",
    "    return x + 1\n",
    "    "
   ]
  },
  {
   "cell_type": "code",
   "execution_count": null,
   "id": "5cd69c7b",
   "metadata": {},
   "outputs": [],
   "source": [
    "funcion(1)"
   ]
  },
  {
   "cell_type": "code",
   "execution_count": null,
   "id": "4137ee67",
   "metadata": {},
   "outputs": [],
   "source": [
    "(lambda x: x + 1)(3)"
   ]
  },
  {
   "cell_type": "code",
   "execution_count": null,
   "id": "d7d4b95d",
   "metadata": {},
   "outputs": [],
   "source": [
    "f = lambda x: x + 1\n",
    "f(3)"
   ]
  },
  {
   "cell_type": "markdown",
   "id": "ccc0695d",
   "metadata": {},
   "source": [
    "## Función: Creación y llamada"
   ]
  },
  {
   "cell_type": "code",
   "execution_count": null,
   "id": "0a693889",
   "metadata": {},
   "outputs": [],
   "source": [
    "def funcion():\n",
    "    print(\"Hola mundo\")"
   ]
  },
  {
   "cell_type": "code",
   "execution_count": null,
   "id": "bd1bc672",
   "metadata": {},
   "outputs": [],
   "source": [
    "funcion()"
   ]
  },
  {
   "cell_type": "code",
   "execution_count": null,
   "id": "08bbec3a",
   "metadata": {},
   "outputs": [],
   "source": [
    "def funcion():\n",
    "    return \"Hola Mundo\""
   ]
  },
  {
   "cell_type": "code",
   "execution_count": null,
   "id": "2bba4458",
   "metadata": {},
   "outputs": [],
   "source": [
    "funcion()"
   ]
  },
  {
   "cell_type": "markdown",
   "id": "5d6c8582",
   "metadata": {},
   "source": [
    "## Función que recibe 2 variables y retorne 2 variables"
   ]
  },
  {
   "cell_type": "code",
   "execution_count": null,
   "id": "1e577ff7",
   "metadata": {},
   "outputs": [],
   "source": [
    "def variasOpciones(x, y):\n",
    "    suma = x + y\n",
    "    producto = x * y \n",
    "    return suma, producto"
   ]
  },
  {
   "cell_type": "code",
   "execution_count": null,
   "id": "ec4f955f",
   "metadata": {},
   "outputs": [],
   "source": [
    "variasOpciones(3, 2)"
   ]
  },
  {
   "cell_type": "code",
   "execution_count": null,
   "id": "cc205294",
   "metadata": {},
   "outputs": [],
   "source": [
    "SUMA, PRODUCTO = variasOpciones(3, 2)\n",
    "SUMA"
   ]
  },
  {
   "cell_type": "code",
   "execution_count": null,
   "id": "8803b41b",
   "metadata": {},
   "outputs": [],
   "source": [
    "PRODUCTO"
   ]
  },
  {
   "cell_type": "code",
   "execution_count": null,
   "id": "e0ef2040",
   "metadata": {},
   "outputs": [],
   "source": [
    "SUMA, PRODUCTO"
   ]
  },
  {
   "cell_type": "code",
   "execution_count": null,
   "id": "3d601ab5",
   "metadata": {},
   "outputs": [],
   "source": [
    "# OJO con el orden que retornamos las variables\n",
    "# return suma, producto\n",
    "# al mostrar la variable deben seguir el mismo orden suma, producto = variasOpciones(x, y)"
   ]
  },
  {
   "cell_type": "code",
   "execution_count": null,
   "id": "9824cd58",
   "metadata": {},
   "outputs": [],
   "source": [
    "def variasOpciones(x, y):\n",
    "    suma = x + y\n",
    "    producto = x * y \n",
    "    return producto, suma"
   ]
  },
  {
   "cell_type": "code",
   "execution_count": null,
   "id": "fd045f19",
   "metadata": {},
   "outputs": [],
   "source": [
    "SUMA, PRODUCTO = variasOpciones(3, 2)\n",
    "SUMA, PRODUCTO"
   ]
  },
  {
   "cell_type": "markdown",
   "id": "8f9d0662",
   "metadata": {},
   "source": [
    "**Error al mostrar la información!!!**"
   ]
  },
  {
   "cell_type": "markdown",
   "id": "b87de5d8-2783-4c1a-8414-b8231db02676",
   "metadata": {},
   "source": [
    "## Funciones Recursivas"
   ]
  },
  {
   "cell_type": "markdown",
   "id": "ef19a990-0ad9-4251-8db9-79e7350c2710",
   "metadata": {},
   "source": [
    "Es una técnica donde una función se invoca a sí misma.\n",
    "\n",
    "La serie fibonnacci es un claro ejemplo de recursividad:\n",
    "\n",
    "Fib i = Fib i-1  + Fib i-2\n",
    "\n",
    "El número i se refiere al número de i -1, y asi sucesivamente hasta llegar a los primeros dos.\n",
    "\n",
    "Se puede crear una funcion Fib() para usar la recursividad:\n"
   ]
  },
  {
   "cell_type": "code",
   "execution_count": null,
   "id": "28af4d3b-d309-4ddf-b79d-2ef3cd237293",
   "metadata": {},
   "outputs": [],
   "source": [
    "def fib(n):\n",
    "    if n < 1:\n",
    "        return None\n",
    "    if n < 3:\n",
    "        return 1\n",
    "    return fib(n-1) + fib (n-2)"
   ]
  },
  {
   "cell_type": "markdown",
   "id": "f95fdcd9-e85f-47f4-a81c-f5c0da803aec",
   "metadata": {},
   "source": [
    "**Este programa necesita de una condición que detenga el bucle infinito, esto ocasiona un consumo alto en memoria y por lo tanto pueden ser en ocasiones ineficientes.**"
   ]
  },
  {
   "cell_type": "markdown",
   "id": "cb3eea5b",
   "metadata": {},
   "source": [
    "### Variables Locales y Globales"
   ]
  },
  {
   "cell_type": "code",
   "execution_count": null,
   "id": "71dbd2fc",
   "metadata": {},
   "outputs": [],
   "source": [
    "# Podemos cambiar el valor de una variable"
   ]
  },
  {
   "cell_type": "code",
   "execution_count": null,
   "id": "5f0b920a",
   "metadata": {},
   "outputs": [],
   "source": [
    "x = 6\n",
    "print(x)"
   ]
  },
  {
   "cell_type": "code",
   "execution_count": null,
   "id": "1d7dfa37",
   "metadata": {},
   "outputs": [],
   "source": [
    "# volvemos a definir el valor de x, el valor de x pasa a valer 5\n",
    "x = 5\n",
    "print(x)"
   ]
  },
  {
   "cell_type": "code",
   "execution_count": null,
   "id": "59b0c460",
   "metadata": {},
   "outputs": [],
   "source": [
    "def funcion_cambiar_x():\n",
    "    x = 6\n",
    "    #print(x)\n",
    "    return x"
   ]
  },
  {
   "cell_type": "code",
   "execution_count": null,
   "id": "086f2889",
   "metadata": {},
   "outputs": [],
   "source": [
    "funcion_cambiar_x()"
   ]
  },
  {
   "cell_type": "code",
   "execution_count": null,
   "id": "09c798a3-1986-47a9-a5b4-0030fdee0b98",
   "metadata": {},
   "outputs": [],
   "source": [
    "print(x)"
   ]
  },
  {
   "cell_type": "code",
   "execution_count": null,
   "id": "7747c96d-deab-4849-bbf8-662aef06ceab",
   "metadata": {},
   "outputs": [],
   "source": [
    "y = 6\n",
    "print(y)\n",
    "y = 5\n",
    "print(y)\n",
    "\n",
    "def cambiar_y():\n",
    "    y = 3\n",
    "    return y\n",
    "\n",
    "print(cambiar_y())\n",
    "\n",
    "print(y)"
   ]
  },
  {
   "cell_type": "code",
   "execution_count": null,
   "id": "088db053",
   "metadata": {},
   "outputs": [],
   "source": [
    "def funcion_cambiar_x():\n",
    "    global x\n",
    "    x = 6\n",
    "    # print(x)\n",
    "    return x"
   ]
  },
  {
   "cell_type": "code",
   "execution_count": null,
   "id": "478cb72e",
   "metadata": {},
   "outputs": [],
   "source": [
    "funcion_cambiar_x()"
   ]
  },
  {
   "cell_type": "code",
   "execution_count": null,
   "id": "a82184d7",
   "metadata": {
    "scrolled": true
   },
   "outputs": [],
   "source": [
    "print(x)"
   ]
  },
  {
   "cell_type": "code",
   "execution_count": null,
   "id": "01fb79e4-a7f9-47cf-bf0f-8f360ff6102d",
   "metadata": {},
   "outputs": [],
   "source": [
    "y = 6\n",
    "print(y)\n",
    "y = 5\n",
    "print(y)\n",
    "\n",
    "def cambiar_y():\n",
    "    global y\n",
    "    y = 3\n",
    "    return y\n",
    "\n",
    "print(cambiar_y())\n",
    "\n",
    "print(y)"
   ]
  },
  {
   "cell_type": "markdown",
   "id": "082b34d3",
   "metadata": {},
   "source": [
    "## Break, continue, pass - For -"
   ]
  },
  {
   "cell_type": "markdown",
   "id": "a507d5c3",
   "metadata": {},
   "source": [
    "* **BREAK**"
   ]
  },
  {
   "cell_type": "code",
   "execution_count": null,
   "id": "0ada2463",
   "metadata": {},
   "outputs": [],
   "source": [
    "L = [5, 10, 15, 20, 25, 30, 35]\n",
    "L"
   ]
  },
  {
   "cell_type": "code",
   "execution_count": null,
   "id": "da1c46d8",
   "metadata": {},
   "outputs": [],
   "source": [
    "for numero in L:\n",
    "    if numero == 20:\n",
    "        print(\"\\n\")\n",
    "        break\n",
    "    else:\n",
    "        print(numero) # mostrar: 5, 10, 15\n",
    "print(\"hemos llegado al 20, y salida del bucle FOR\")"
   ]
  },
  {
   "cell_type": "markdown",
   "id": "8b8a39fe",
   "metadata": {},
   "source": [
    "* **CONTINUE**"
   ]
  },
  {
   "cell_type": "code",
   "execution_count": null,
   "id": "d89239bc",
   "metadata": {},
   "outputs": [],
   "source": [
    "L = [5, 10, 15, 20, 25, 30, 35]\n",
    "L\n",
    "for numero in L:\n",
    "    if numero == 20:\n",
    "        print(\"hemos llegado al valor 20, y CONTINUO (SIN IMPRIMIRLE)\")\n",
    "        continue\n",
    "    else:\n",
    "        print(numero) # mostrar: 5, 10, 15, 25, 30, 35"
   ]
  },
  {
   "cell_type": "markdown",
   "id": "e4551f46",
   "metadata": {},
   "source": [
    "* **PASS**"
   ]
  },
  {
   "cell_type": "code",
   "execution_count": null,
   "id": "f1b3d7f7",
   "metadata": {},
   "outputs": [],
   "source": [
    "def funcion():\n",
    "    # TODO: funcion de suma de variables\n",
    "    pass\n",
    "    # pendiente de describir la actividad de la función\n",
    "funcion()"
   ]
  },
  {
   "cell_type": "code",
   "execution_count": null,
   "id": "165d374b",
   "metadata": {},
   "outputs": [],
   "source": [
    "L = [5, 10, 15, 20, 25, 30, 35]\n",
    "L\n",
    "for numero in L:\n",
    "    if numero == 20:\n",
    "        print(\"hemos llegado al valor 20, y CONTINUO (SIN IMPRIMIRLE)\")\n",
    "        pass\n",
    "    else:\n",
    "        print(numero) # mostrar: 5, 10, 15, 25, 30, 35"
   ]
  },
  {
   "cell_type": "markdown",
   "id": "a4b4d3ea",
   "metadata": {},
   "source": [
    "## Menús"
   ]
  },
  {
   "cell_type": "code",
   "execution_count": null,
   "id": "40700552-e5a2-44ee-8bb0-35f6d3c93695",
   "metadata": {},
   "outputs": [],
   "source": [
    "L = []\n",
    "\n",
    "def insertar(elemento):\n",
    "    L.append(elemento)\n",
    "    \n",
    "def eliminar():\n",
    "    L.remove(L[-1])\n",
    "\n",
    "def consultar():\n",
    "    print(\"\\n\")\n",
    "    print(\"Los numeros que tiene en este momento son: \")\n",
    "    print(L)\n",
    "    print(\"\\n\")\n",
    "\n",
    "    \n",
    "while True:\n",
    "    print(\"\\n\")\n",
    "    print(\"**************** MENU *******************\")\n",
    "    print(\"*****************************************\")\n",
    "    print(\"*****  1. Insertar (nuevo elemento) *****\")\n",
    "    print(\"*****  2. Eliminar (último elemento) ****\")\n",
    "    print(\"*****  3. Consultar (toda la lista)  ****\")\n",
    "    print(\"*****  99. Salir (del menú)        ******\")\n",
    "    print(\"*****************************************\")\n",
    "    \n",
    "    print(\"\\n\")\n",
    "    \n",
    "    opcion = int(input(\"Inserte su opción: \"))\n",
    "    \n",
    "    if opcion == 1:\n",
    "        # recoger el valor a insertar con elemento\n",
    "        elemento = input(\"Inserte el nuevo número: \")\n",
    "        # ir a la funcion insertar\n",
    "        insertar(elemento)\n",
    "    elif opcion == 2:\n",
    "        if len(L) != 0:\n",
    "            # ir a la funcion eliminar\n",
    "            eliminar()\n",
    "        else:\n",
    "            print(\"\\n\")\n",
    "            print(\"no tiene elementos para eliminar\")\n",
    "            print(\"\\n\")\n",
    "    elif opcion == 3:\n",
    "        # ir a la funcion consultar\n",
    "        consultar()\n",
    "    elif opcion == 99:\n",
    "        break\n",
    "    else:\n",
    "        print(\"por favor, escriba una opción correcta. \")\n",
    "        print(\"\\n\")\n",
    "    "
   ]
  },
  {
   "cell_type": "markdown",
   "id": "e0f3f78c",
   "metadata": {},
   "source": [
    "## Main en python"
   ]
  },
  {
   "cell_type": "code",
   "execution_count": null,
   "id": "a0c86b02",
   "metadata": {},
   "outputs": [],
   "source": [
    "# sirve para simular el int main() de otros lenguajes de programación\n",
    "# un ejemplo de Main en otros lenguajes como C, sería el siguiente:"
   ]
  },
  {
   "cell_type": "code",
   "execution_count": null,
   "id": "2b6d9a5d",
   "metadata": {},
   "outputs": [],
   "source": [
    "from IPython.display import Image\n",
    "Image(\"ejemploMainC.png\")"
   ]
  },
  {
   "cell_type": "markdown",
   "id": "ecb325d2",
   "metadata": {},
   "source": [
    "### Ejemplo 1"
   ]
  },
  {
   "cell_type": "code",
   "execution_count": null,
   "id": "e72b5101",
   "metadata": {},
   "outputs": [],
   "source": [
    "def main():\n",
    "    print(\"Estamos en la funcion main()\")\n",
    "\n",
    "if __name__ == \"__main__\":\n",
    "    main()"
   ]
  },
  {
   "cell_type": "markdown",
   "id": "c2a395b0",
   "metadata": {},
   "source": [
    "### Ejemplo 2"
   ]
  },
  {
   "cell_type": "code",
   "execution_count": null,
   "id": "db0bf3c0",
   "metadata": {},
   "outputs": [],
   "source": [
    "def cuadrado(x):\n",
    "    return x * x\n",
    "\n",
    "def main():\n",
    "    print(\"Estamos en la funcion main()\")\n",
    "\n",
    "def funcion():\n",
    "    print(\"test\")\n",
    "    \n",
    "if __name__ == \"__main__\":\n",
    "    print(cuadrado(8))\n",
    "    main()"
   ]
  },
  {
   "cell_type": "markdown",
   "id": "06559c5f",
   "metadata": {},
   "source": [
    "## Try - Except"
   ]
  },
  {
   "cell_type": "code",
   "execution_count": null,
   "id": "40bcd70d",
   "metadata": {},
   "outputs": [],
   "source": [
    "# Ejecutamos todo el código de una sola pasada\n",
    "# para ver como funciona el except\n",
    "\n",
    "# Sirve para testear errores en el código\n",
    "\n",
    "# de tal manera que no para todo el programa al detectar un error"
   ]
  },
  {
   "cell_type": "code",
   "execution_count": null,
   "id": "8517ef59",
   "metadata": {},
   "outputs": [],
   "source": [
    "# Asumimos que teniamos:\n",
    "# una variable \"x\" que apareció anteriormente\n",
    "# una variable \"w\" que no apareció previamente (NO DECLARADA)"
   ]
  },
  {
   "cell_type": "code",
   "execution_count": null,
   "id": "05b1ce84",
   "metadata": {},
   "outputs": [],
   "source": [
    "x = [10, 20, 30, 40]\n",
    "x"
   ]
  },
  {
   "cell_type": "code",
   "execution_count": null,
   "id": "1f787c3c",
   "metadata": {},
   "outputs": [],
   "source": [
    "try:\n",
    "    print(s)\n",
    "except Exception as e:\n",
    "    print(\"Error: %s\" % str(e))\n",
    "    print(type(e))"
   ]
  },
  {
   "cell_type": "code",
   "execution_count": null,
   "id": "1e49edf4",
   "metadata": {},
   "outputs": [],
   "source": [
    "# Excepciones según error\n",
    "try:\n",
    "    print(s)\n",
    "except NameError:\n",
    "    print(\"error en el nombre no definido\")\n",
    "except Exception as e:\n",
    "    print(\"Error: %s\" % str(e))\n",
    "    print(type(e))"
   ]
  },
  {
   "cell_type": "code",
   "execution_count": null,
   "id": "c9515dde",
   "metadata": {},
   "outputs": [],
   "source": [
    "w = 25"
   ]
  },
  {
   "cell_type": "code",
   "execution_count": null,
   "id": "d5bb5ec5",
   "metadata": {},
   "outputs": [],
   "source": [
    "try:\n",
    "    print(w)\n",
    "except Exception as e:\n",
    "    print(\"Error: %s\" % str(e))"
   ]
  },
  {
   "cell_type": "code",
   "execution_count": null,
   "id": "6b182760",
   "metadata": {},
   "outputs": [],
   "source": [
    "try:\n",
    "    print(x)\n",
    "except Exception as e:\n",
    "    print(\"Error: %s\" % str(e))"
   ]
  },
  {
   "cell_type": "markdown",
   "id": "b1a1fded",
   "metadata": {},
   "source": [
    "*Creado por:*\n",
    "\n",
    "*Isabel Maniega*"
   ]
  }
 ],
 "metadata": {
  "kernelspec": {
   "display_name": "Python 3 (ipykernel)",
   "language": "python",
   "name": "python3"
  },
  "language_info": {
   "codemirror_mode": {
    "name": "ipython",
    "version": 3
   },
   "file_extension": ".py",
   "mimetype": "text/x-python",
   "name": "python",
   "nbconvert_exporter": "python",
   "pygments_lexer": "ipython3",
   "version": "3.10.12"
  }
 },
 "nbformat": 4,
 "nbformat_minor": 5
}

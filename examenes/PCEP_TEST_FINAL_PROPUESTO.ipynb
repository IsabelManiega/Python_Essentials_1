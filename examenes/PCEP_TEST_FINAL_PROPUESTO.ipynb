{
 "cells": [
  {
   "cell_type": "markdown",
   "id": "d7b99b14",
   "metadata": {},
   "source": [
    "*Contenido creado por: Isabel Maniega*"
   ]
  },
  {
   "cell_type": "markdown",
   "id": "94e778aa",
   "metadata": {},
   "source": [
    "****"
   ]
  },
  {
   "cell_type": "markdown",
   "id": "281b5c00",
   "metadata": {},
   "source": [
    "# Question 1  (Control Flow)"
   ]
  },
  {
   "cell_type": "markdown",
   "id": "91e7a625-3443-4408-9962-3962b84cf272",
   "metadata": {},
   "source": [
    "Consider the following code.\n",
    "```\n",
    "for i in range(5, 0, ???):\n",
    "    print(i, i, i, i, i)\n",
    "```\n",
    "What would you insert instead of ??? so that \n",
    "the program prints the following pattern to the monitor?\n",
    "```\n",
    "1. 5 5 5 5 5\n",
    "2. 4 4 4 4 4\n",
    "3. 3 3 3 3 3\n",
    "4. 2 2 2 2 2\n",
    "5. 1 1 1 1 1\n",
    "```\n",
    "A. ```1```\n",
    "\n",
    "B. ```0```\n",
    "\n",
    "C. ```None```\n",
    "\n",
    "D. ```-1```"
   ]
  },
  {
   "cell_type": "markdown",
   "id": "be1c5377",
   "metadata": {},
   "source": [
    "# Solution 1"
   ]
  },
  {
   "cell_type": "code",
   "execution_count": null,
   "id": "aa0b0f66",
   "metadata": {},
   "outputs": [],
   "source": [
    "# Solución"
   ]
  },
  {
   "cell_type": "markdown",
   "id": "c15896cb",
   "metadata": {},
   "source": [
    "****"
   ]
  },
  {
   "cell_type": "markdown",
   "id": "38d12fe5",
   "metadata": {},
   "source": [
    "# Question 2  (Basics)"
   ]
  },
  {
   "cell_type": "markdown",
   "id": "0bcceba9-f89e-43a8-9fda-5012cfe780b5",
   "metadata": {},
   "source": [
    "A value returned by the ```input()``` function is:\n",
    "\n",
    "A. an integer\n",
    "\n",
    "B. a float\n",
    "\n",
    "C. a string"
   ]
  },
  {
   "cell_type": "markdown",
   "id": "08c16214",
   "metadata": {},
   "source": [
    "# Solution 2"
   ]
  },
  {
   "cell_type": "code",
   "execution_count": null,
   "id": "ee7dfd4e",
   "metadata": {},
   "outputs": [],
   "source": [
    "# Solución"
   ]
  },
  {
   "cell_type": "markdown",
   "id": "f787d5f6",
   "metadata": {},
   "source": [
    "****"
   ]
  },
  {
   "cell_type": "markdown",
   "id": "44dbfac5",
   "metadata": {},
   "source": [
    "# Question 3  (Control Flow)"
   ]
  },
  {
   "cell_type": "markdown",
   "id": "0bf002eb-b55e-40c6-91b1-5026d8019f93",
   "metadata": {},
   "source": [
    "What is the expected output of the following code?\n",
    "\n",
    "```\n",
    "x = (1, 4, 7, 9, 10, 11)\n",
    "y = {2: 'A', 4: 'B', 6: 'C', 8: 'D', 10: 'E', 12: 'F'}\n",
    "res = 1\n",
    " \n",
    "for z in x:\n",
    "    if z in y:\n",
    "        continue\n",
    "    else:\n",
    "        res += z\n",
    " \n",
    "print(res)\n",
    "```\n",
    "\n",
    "\n",
    "A. ```30```\n",
    "\n",
    "B. ```31```\n",
    "\n",
    "C. ```29```\n",
    "\n",
    "D. ```28```"
   ]
  },
  {
   "cell_type": "markdown",
   "id": "d57819b5",
   "metadata": {},
   "source": [
    "# Solution 3"
   ]
  },
  {
   "cell_type": "code",
   "execution_count": null,
   "id": "d4ca9825",
   "metadata": {},
   "outputs": [],
   "source": [
    "# Solución"
   ]
  },
  {
   "cell_type": "markdown",
   "id": "eb7caaad",
   "metadata": {},
   "source": [
    "****"
   ]
  },
  {
   "cell_type": "markdown",
   "id": "11a6e2e3",
   "metadata": {},
   "source": [
    "# Question 4  (Data Aggregates)"
   ]
  },
  {
   "cell_type": "markdown",
   "id": "3def61d9-9a44-4ae0-a6b6-7ba82bc570d0",
   "metadata": {},
   "source": [
    "Which of the following sentences are true about the code?\n",
    "```\n",
    "nums = [1, 2, 3]\n",
    "vals = nums\n",
    "```\n",
    "(Select two answers)\n",
    "\n",
    "\n",
    "A. vals is longer than nums\n",
    "\n",
    "B. nums and vals are different lists\n",
    "\n",
    "C. nums has the same length than vals\n",
    "\n",
    "D. nums and vals are different names of the same list"
   ]
  },
  {
   "cell_type": "markdown",
   "id": "45200cbc",
   "metadata": {},
   "source": [
    "# Solution 4"
   ]
  },
  {
   "cell_type": "code",
   "execution_count": null,
   "id": "c2d2aba0",
   "metadata": {},
   "outputs": [],
   "source": [
    "# Solución"
   ]
  },
  {
   "cell_type": "markdown",
   "id": "07b52808",
   "metadata": {},
   "source": [
    "****"
   ]
  },
  {
   "cell_type": "markdown",
   "id": "1f0766b8",
   "metadata": {},
   "source": [
    "# Question 5  (Data Aggregates)"
   ]
  },
  {
   "cell_type": "markdown",
   "id": "9b35d204-1acf-4a4e-9340-78622141aa3e",
   "metadata": {},
   "source": [
    "What is the expected output of the following code?\n",
    "```\n",
    "data = ['Peter', 'Paul', 'Mary']\n",
    "print(data[int(-1 / 2)])\n",
    "```\n",
    "\n",
    "A. ```Paul```\n",
    "\n",
    "B. ```Mary```\n",
    "\n",
    "C. The code is erroneous\n",
    "\n",
    "D. None of the above\n",
    "\n",
    "E. ```Peter```"
   ]
  },
  {
   "cell_type": "markdown",
   "id": "eb41cf74",
   "metadata": {},
   "source": [
    "# Solution 5"
   ]
  },
  {
   "cell_type": "code",
   "execution_count": null,
   "id": "dca44309",
   "metadata": {},
   "outputs": [],
   "source": [
    "# Solución"
   ]
  },
  {
   "cell_type": "markdown",
   "id": "4cdfbff3",
   "metadata": {},
   "source": [
    "****"
   ]
  },
  {
   "cell_type": "markdown",
   "id": "43b694cc",
   "metadata": {},
   "source": [
    "# Question 6  (Functions)"
   ]
  },
  {
   "cell_type": "markdown",
   "id": "71ced04e-c04e-4911-8dc8-64a8c058dd57",
   "metadata": {},
   "source": [
    "What is the expected output of the following code?\n",
    "```\n",
    "def func(x, y, z):\n",
    "    return x + 4 * y + 5 * z\n",
    " \n",
    "print(func(1, z=2, y=3))\n",
    "```\n",
    "\n",
    "A. ```24```\n",
    "\n",
    "B. The code is erroneous\n",
    "\n",
    "C. ```23```\n",
    "\n",
    "D. ```80```"
   ]
  },
  {
   "cell_type": "markdown",
   "id": "8355eac1",
   "metadata": {},
   "source": [
    "# Solution 6"
   ]
  },
  {
   "cell_type": "code",
   "execution_count": null,
   "id": "3d4dec02",
   "metadata": {},
   "outputs": [],
   "source": [
    "# Solución"
   ]
  },
  {
   "cell_type": "markdown",
   "id": "26cc92ac",
   "metadata": {},
   "source": [
    "****"
   ]
  },
  {
   "cell_type": "markdown",
   "id": "9e7600d1",
   "metadata": {},
   "source": [
    "# Question 7  (Operators)"
   ]
  },
  {
   "cell_type": "markdown",
   "id": "abedff9d-c8ef-4da6-9860-81a752612fad",
   "metadata": {},
   "source": [
    "What is the expected output of the following code?\n",
    "```\n",
    "res = str(bool(1) + float(12) / float(2))\n",
    "print(res)\n",
    "```\n",
    "A. ```6```\n",
    "\n",
    "B. ```7```\n",
    "\n",
    "C. The code is erroneous\n",
    "\n",
    "D. ```7.0```\n",
    "\n",
    "E. ```6.0```"
   ]
  },
  {
   "cell_type": "markdown",
   "id": "d15cd913",
   "metadata": {},
   "source": [
    "# Solution 7"
   ]
  },
  {
   "cell_type": "code",
   "execution_count": null,
   "id": "0a68edd7",
   "metadata": {},
   "outputs": [],
   "source": [
    "# Solución"
   ]
  },
  {
   "cell_type": "markdown",
   "id": "5528df70",
   "metadata": {},
   "source": [
    "****"
   ]
  },
  {
   "cell_type": "markdown",
   "id": "df94cb68",
   "metadata": {},
   "source": [
    "# Question 8  (Data Types)"
   ]
  },
  {
   "cell_type": "markdown",
   "id": "9d6e0dd2-95ed-493e-bd7e-44a8dba4d32c",
   "metadata": {},
   "source": [
    "The ABC company is building a basketball court\n",
    "for its employees to improve company morale.\n",
    "\n",
    "You are creating a Python program that employees\n",
    "can use to keep track of their average score.\n",
    "\n",
    "The program must allow users to enter their name and current scores.\n",
    "\n",
    "The program will output the user name and the user's average score.\n",
    "The output must meet the following requirements:\n",
    "\n",
    "The user name must be left-aligned\n",
    "\n",
    "If the user name has fewer than 20 characters,\n",
    "additional space must be added to the right\n",
    "\n",
    "The average score must have three places to the left of the decimal point\n",
    "and one place to the right of the decimal (xxx.x)\n",
    "\n",
    "What would you insert instead of ??? and ???\n",
    "\n",
    "```\n",
    "name = input('What is your name?')\n",
    "sum = 0\n",
    "score = 0\n",
    "count = 0\n",
    "while score != -1:\n",
    "    score = int(input('Enter your scores: (-1 to end)'))\n",
    "    if score == -1:\n",
    "        break\n",
    "    sum += score\n",
    "    count += 1\n",
    "average = sum / count\n",
    "print('???, your average score is: ???' % (name, average))\n",
    "```\n",
    "A.\n",
    "```\n",
    "%-20s\n",
    "%1.4f\n",
    "```\n",
    "B.\n",
    "```    \n",
    "-20d\n",
    "4.1f\n",
    "```\n",
    "C.\n",
    "```    \n",
    "-20i\n",
    "4.1\n",
    "```\n",
    "D.\n",
    "```    \n",
    "-20s\n",
    "4.1f\n",
    "```\n",
    "E.\n",
    "```    \n",
    "-20f\n",
    "%1.4s\n",
    "```\n",
    "F.\n",
    "```    \n",
    "-20f\n",
    "%4,1s\n",
    "```"
   ]
  },
  {
   "cell_type": "markdown",
   "id": "652b6c03",
   "metadata": {},
   "source": [
    "# Solution 8"
   ]
  },
  {
   "cell_type": "code",
   "execution_count": null,
   "id": "365684a0",
   "metadata": {},
   "outputs": [],
   "source": [
    "# Solución"
   ]
  },
  {
   "cell_type": "markdown",
   "id": "98a25de0",
   "metadata": {},
   "source": [
    "****"
   ]
  },
  {
   "cell_type": "markdown",
   "id": "3c606e4f",
   "metadata": {},
   "source": [
    "# Question 9   (Control Flow)"
   ]
  },
  {
   "cell_type": "markdown",
   "id": "909151fd-c0b4-42e0-9ca2-ed8f933db7bc",
   "metadata": {},
   "source": [
    "What is the expected output of the following snippet?\n",
    "```\n",
    "s = 'python'\n",
    "for i in range(len(s)):\n",
    "    i = s[i].upper()\n",
    "print(s, end='')\n",
    "```\n",
    "\n",
    "A. ```P y t h o n```\n",
    "\n",
    "B. ```P Y T H O N```\n",
    "\n",
    "C.```python```\n",
    "\n",
    "D. The code is erroneous\n",
    "\n",
    "E. ```PYTHON```\n",
    "\n",
    "F. ```Python```"
   ]
  },
  {
   "cell_type": "markdown",
   "id": "cbe3738f",
   "metadata": {},
   "source": [
    "# Solution 9"
   ]
  },
  {
   "cell_type": "code",
   "execution_count": null,
   "id": "766f84f1",
   "metadata": {},
   "outputs": [],
   "source": [
    "# Solución"
   ]
  },
  {
   "cell_type": "markdown",
   "id": "77465fd5",
   "metadata": {},
   "source": [
    "****"
   ]
  },
  {
   "cell_type": "markdown",
   "id": "3f896908",
   "metadata": {},
   "source": [
    "# Question 10  (Basics) "
   ]
  },
  {
   "cell_type": "markdown",
   "id": "8543d609-9260-4f3d-aba2-495972c47957",
   "metadata": {},
   "source": [
    "You execute the following command in the terminal.\n",
    "```\n",
    "python index.py Hello\n",
    "```\n",
    "You want the command to print out ```Hello```\n",
    "\n",
    "What has to be inside of index.py?\n",
    "\n",
    "A. \n",
    "``` \n",
    "from sys import args\n",
    "print(args[0])\n",
    "```\n",
    "B.\n",
    "``` \n",
    "from sys import argv\n",
    "print(argv[0])\n",
    "```\n",
    "C. \n",
    "```\n",
    "from sys import args\n",
    "print(args[1])\n",
    "```\n",
    "D.\n",
    "``` \n",
    "from sys import argv\n",
    "print(argv[1])\n",
    "```"
   ]
  },
  {
   "cell_type": "markdown",
   "id": "232c1936",
   "metadata": {},
   "source": [
    "# Solution 10"
   ]
  },
  {
   "cell_type": "code",
   "execution_count": null,
   "id": "3a7d4013",
   "metadata": {},
   "outputs": [],
   "source": [
    "# Solución"
   ]
  },
  {
   "cell_type": "markdown",
   "id": "247c1047",
   "metadata": {},
   "source": [
    "****"
   ]
  },
  {
   "cell_type": "markdown",
   "id": "a0821b1d",
   "metadata": {},
   "source": [
    "# Question 11  (Data Aggregates)  "
   ]
  },
  {
   "cell_type": "markdown",
   "id": "b5707efa-5a56-4fef-93de-220bdb779399",
   "metadata": {},
   "source": [
    "Which function does in-place reversal of objects in a list?\n",
    "\n",
    "A. ```list.reverse()```\n",
    "\n",
    "B. ```list.sort([func])```\n",
    "\n",
    "C. ```list.remove(obj)```\n",
    "\n",
    "D. ```list.pop(obj=list[-1])```"
   ]
  },
  {
   "cell_type": "markdown",
   "id": "d7b9edb4",
   "metadata": {},
   "source": [
    "# Solution 11"
   ]
  },
  {
   "cell_type": "code",
   "execution_count": null,
   "id": "cabd1792",
   "metadata": {},
   "outputs": [],
   "source": [
    "# Solución"
   ]
  },
  {
   "cell_type": "markdown",
   "id": "d5e9f622",
   "metadata": {},
   "source": [
    "****"
   ]
  },
  {
   "cell_type": "markdown",
   "id": "81431c41",
   "metadata": {},
   "source": [
    "# Question 12  (Operators)"
   ]
  },
  {
   "cell_type": "markdown",
   "id": "f0159406-3573-48b3-a9d9-0aac472c942e",
   "metadata": {},
   "source": [
    "Which expression evaluates to ```7```?\n",
    "\n",
    "A. ```9 % 3 + 7```\n",
    "\n",
    "B. ```9 - 3 * 7```\n",
    "\n",
    "C. ```9 / 3 * 7```\n",
    "\n",
    "D. ```9 // 3 - 7```"
   ]
  },
  {
   "cell_type": "markdown",
   "id": "d6fc851e",
   "metadata": {},
   "source": [
    "# Solution 12"
   ]
  },
  {
   "cell_type": "code",
   "execution_count": null,
   "id": "98bc7f93",
   "metadata": {},
   "outputs": [],
   "source": [
    "# Solución"
   ]
  },
  {
   "cell_type": "markdown",
   "id": "765bca13",
   "metadata": {},
   "source": [
    "****"
   ]
  },
  {
   "cell_type": "markdown",
   "id": "5d06fd5f",
   "metadata": {},
   "source": [
    "# Question 13  (Functions)"
   ]
  },
  {
   "cell_type": "markdown",
   "id": "dc2fb279-2c98-420c-a476-b7e67a324651",
   "metadata": {},
   "source": [
    "What is the expected output of the following code?\n",
    "\n",
    "```\n",
    "def fun(n):\n",
    "    x = []\n",
    "    for i in range(n):\n",
    "        x.append(i)\n",
    "    return x\n",
    " \n",
    "print(fun(4))\n",
    "```\n",
    "A.\n",
    "``` \n",
    "0\n",
    "1\n",
    "2\n",
    "3\n",
    "```\n",
    "B. ```[4, 4, 4, 4]```\n",
    "\n",
    "C. The program will cause an error\n",
    "\n",
    "D. ```[0, 1, 2, 3]```"
   ]
  },
  {
   "cell_type": "markdown",
   "id": "a585a4f7",
   "metadata": {},
   "source": [
    "# Solution 13"
   ]
  },
  {
   "cell_type": "code",
   "execution_count": null,
   "id": "860f3b90",
   "metadata": {},
   "outputs": [],
   "source": [
    "# Solución"
   ]
  },
  {
   "cell_type": "markdown",
   "id": "93d63b59",
   "metadata": {},
   "source": [
    "****"
   ]
  },
  {
   "cell_type": "markdown",
   "id": "d498db53",
   "metadata": {},
   "source": [
    "# Question 14  (Data Types)"
   ]
  },
  {
   "cell_type": "markdown",
   "id": "ab66bee0-9faa-49ef-a9f9-cdf033e48612",
   "metadata": {},
   "source": [
    "What is the expected output of the following code \n",
    "if the user enters ```4``` and ```7```?\n",
    "```\n",
    "x = input()\n",
    "y = int(input())\n",
    "print(x * y)\n",
    "```\n",
    "\n",
    "A. ```7777```\n",
    "\n",
    "B. ```47```\n",
    "\n",
    "C. ```4444444```    # 4 (7 veces)\n",
    "\n",
    "D. ```28```"
   ]
  },
  {
   "cell_type": "markdown",
   "id": "f3d4041e",
   "metadata": {},
   "source": [
    "# Solution 14"
   ]
  },
  {
   "cell_type": "code",
   "execution_count": null,
   "id": "aa4ed5e8",
   "metadata": {},
   "outputs": [],
   "source": [
    "# Solución"
   ]
  },
  {
   "cell_type": "markdown",
   "id": "835f97e7",
   "metadata": {},
   "source": [
    "****"
   ]
  },
  {
   "cell_type": "markdown",
   "id": "78fbdd42",
   "metadata": {},
   "source": [
    "# Question 15   (Data Aggregates)"
   ]
  },
  {
   "cell_type": "markdown",
   "id": "c9cad166-0313-4dcb-9172-b580314b5f08",
   "metadata": {},
   "source": [
    "The second assignment:\n",
    "\n",
    "```\n",
    "vals = [0, 1, 2]\n",
    "vals[0], vals[1] = vals[1], vals[2]\n",
    "```\n",
    "\n",
    "A. doesn't change the list's length\n",
    "\n",
    "B. shortens the list\n",
    "\n",
    "C. extends the list"
   ]
  },
  {
   "cell_type": "markdown",
   "id": "d5c13634",
   "metadata": {},
   "source": [
    "# Solution 15"
   ]
  },
  {
   "cell_type": "code",
   "execution_count": null,
   "id": "e4adc258",
   "metadata": {},
   "outputs": [],
   "source": [
    "# Solución"
   ]
  },
  {
   "cell_type": "markdown",
   "id": "ea130605",
   "metadata": {},
   "source": [
    "****"
   ]
  },
  {
   "cell_type": "markdown",
   "id": "eabe69e0",
   "metadata": {},
   "source": [
    "# Question 16  (Basics)"
   ]
  },
  {
   "cell_type": "markdown",
   "id": "c6aca6a0-6aee-4936-9dfa-78a08b4414cc",
   "metadata": {},
   "source": [
    "What is the expected behavior of the following program?\n",
    "\n",
    "```\n",
    "prin(\"Goodbye!\")\n",
    "```\n",
    "A. The program will generate an error message on the screen\n",
    "\n",
    "B. The program will output ```(\"Goodbye!\")```\n",
    "\n",
    "C. The program will output ```Goodbye!```\n",
    "\n",
    "D. The program will output ```\"Goodbye!\"```"
   ]
  },
  {
   "cell_type": "markdown",
   "id": "ed73ab3d",
   "metadata": {},
   "source": [
    "# Solution 16"
   ]
  },
  {
   "cell_type": "code",
   "execution_count": null,
   "id": "59a5dc44",
   "metadata": {},
   "outputs": [],
   "source": [
    "# Solución"
   ]
  },
  {
   "cell_type": "markdown",
   "id": "df1832a6",
   "metadata": {},
   "source": [
    "****"
   ]
  },
  {
   "cell_type": "markdown",
   "id": "e16354ab",
   "metadata": {},
   "source": [
    "# Question 17   (Control Flow) "
   ]
  },
  {
   "cell_type": "markdown",
   "id": "7813d881-e161-4e37-9637-b33ecdfd6c84",
   "metadata": {},
   "source": [
    "Consider the following code.\n",
    "```\n",
    "x = 42\n",
    "y = 7\n",
    "data = \"I'm gonna make him an offer he can't refuse.\"\n",
    "```\n",
    "\n",
    "Which of the following expressions will evaluate to ```19```?\n",
    "\n",
    "A. ```7 if len(data) > 19 else 6```\n",
    "\n",
    "B. ```data.rfind('an') if data else None```\n",
    "\n",
    "C. ```19 if None else x / y```\n",
    "\n",
    "D. ```data.find('an') if data else None```"
   ]
  },
  {
   "cell_type": "markdown",
   "id": "58b8ab3f",
   "metadata": {},
   "source": [
    "# Solution 17"
   ]
  },
  {
   "cell_type": "code",
   "execution_count": null,
   "id": "963c3e1d",
   "metadata": {},
   "outputs": [],
   "source": [
    "# Solución"
   ]
  },
  {
   "cell_type": "markdown",
   "id": "40d4ffc3",
   "metadata": {},
   "source": [
    "****"
   ]
  },
  {
   "cell_type": "markdown",
   "id": "c8261723",
   "metadata": {},
   "source": [
    "# Question 18  (Functions)"
   ]
  },
  {
   "cell_type": "markdown",
   "id": "9ca5e1d6-993e-4eb1-ba95-02452b0e002e",
   "metadata": {},
   "source": [
    "What is the expected output of the following code?\n",
    "\n",
    "```\n",
    "def func(x):\n",
    "    if x == 0:\n",
    "        return 0\n",
    "    return x + func(x - 1)\n",
    " \n",
    "print(func(3))\n",
    "```\n",
    "\n",
    "A. ```3```\n",
    "\n",
    "B. The code is erroneous\n",
    "\n",
    "C. ```6```\n",
    "\n",
    "D. ```1```"
   ]
  },
  {
   "cell_type": "markdown",
   "id": "0f852573",
   "metadata": {},
   "source": [
    "# Solution 18"
   ]
  },
  {
   "cell_type": "code",
   "execution_count": null,
   "id": "70e94375",
   "metadata": {},
   "outputs": [],
   "source": [
    "# Solución"
   ]
  },
  {
   "cell_type": "markdown",
   "id": "9b4edf51",
   "metadata": {},
   "source": [
    "****"
   ]
  },
  {
   "cell_type": "markdown",
   "id": "110816c7",
   "metadata": {},
   "source": [
    "# Question 19   (Control Flow) "
   ]
  },
  {
   "cell_type": "markdown",
   "id": "1915d96b-9971-4d3b-b34c-0c89fd3c3085",
   "metadata": {},
   "source": [
    "You work for a company that distributes media for all ages.\n",
    "\n",
    "You are writing a function that assigns a rating based on a user's age.\n",
    "The function must meet the following requirements:\n",
    "\n",
    "- Anyone 18 years old or older receives a rating of A\n",
    "- Anyone 13 or older, but younger than 18 receives a rating of T\n",
    "- Anyone 12 years old or younger receives a rating of C\n",
    "\n",
    "If the age is unknown, the rating is set to C\n",
    "```\n",
    "def get_rating(age):\n",
    "    rating = ''\n",
    "    if             # Line-3\n",
    "    elif           # Line-4\n",
    "    elif           # Line-5\n",
    "    else           # Line-6\n",
    "    return rating\n",
    "```\n",
    "Which of the following should you insert on Line-3 to Line-6?\n",
    "\n",
    "A.\n",
    "``` \n",
    "age < 13: rating = 'C':     # Line-3\n",
    "age == None: rating = 'C'   # Line-4\n",
    "age < 18: rating = 'T'      # Line-5\n",
    " : rating = 'A'             # Line-6\n",
    "```\n",
    "B. \n",
    "```\n",
    "age < 18: rating = 'T':     # Line-3\n",
    "age < 13: rating = 'C'      # Line-4\n",
    "age == None: rating = 'C'   # Line-5\n",
    " : rating = 'A'             # Line-6\n",
    "```\n",
    "C. \n",
    "```\n",
    ": rating = 'A':             # Line-3\n",
    "age < 18: rating = 'T'      # Line-4\n",
    "age < 13: rating = 'C'      # Line-5\n",
    "age == None: rating = 'C'   # Line-6\n",
    "```\n",
    "\n",
    "D.\n",
    "```\n",
    "age == None: rating = 'C':  # Line-3\n",
    "age < 18: rating = 'T'      # Line-4\n",
    "age < 13: rating = 'C'      # Line-5\n",
    " : rating = 'A'             # Line-6\n",
    "```    \n",
    "    \n",
    "E.\n",
    "```\n",
    "age == None: rating = 'C':  # Line-3\n",
    "age < 13: rating = 'C'      # Line-4\n",
    "age < 18: rating = 'T'      # Line-5\n",
    " : rating = 'A'             # Line-6\n",
    "```    \n",
    "    \n",
    "F.\n",
    "```\n",
    " : rating = 'A'             # Line-3\n",
    "age < 13: rating = 'C'      # Line-4\n",
    "age < 18: rating = 'T'      # Line-5\n",
    "age == None: rating = 'C'   # Line-6\n",
    "```"
   ]
  },
  {
   "cell_type": "markdown",
   "id": "66791312",
   "metadata": {},
   "source": [
    "# Solution 19"
   ]
  },
  {
   "cell_type": "code",
   "execution_count": null,
   "id": "b169c6e9",
   "metadata": {},
   "outputs": [],
   "source": [
    "# Solución"
   ]
  },
  {
   "cell_type": "markdown",
   "id": "fa565dd8",
   "metadata": {},
   "source": [
    "****"
   ]
  },
  {
   "cell_type": "markdown",
   "id": "916b44a4",
   "metadata": {},
   "source": [
    "# Question 20  (Functions)"
   ]
  },
  {
   "cell_type": "markdown",
   "id": "e669928b-d14a-42d9-ae2a-446c42732b15",
   "metadata": {},
   "source": [
    "Consider the following code.\n",
    "\n",
    "```\n",
    "def function(x=0):\n",
    "    return x\n",
    "```\n",
    "\n",
    "With sentence describes the function the best?\n",
    "\n",
    "\n",
    "A function defined like ```function()``` ...\n",
    "\n",
    "A. may be called with any number of arguments (including zero)\n",
    "\n",
    "B. must be called without arguments\n",
    "\n",
    "C. may be called without any argument, or just with one\n",
    "\n",
    "D. must be called with exactly one argument"
   ]
  },
  {
   "cell_type": "markdown",
   "id": "cbd37e8c",
   "metadata": {},
   "source": [
    "# Solution 20"
   ]
  },
  {
   "cell_type": "code",
   "execution_count": null,
   "id": "b2ab0095",
   "metadata": {},
   "outputs": [],
   "source": [
    "# Solución"
   ]
  },
  {
   "cell_type": "markdown",
   "id": "93d2eb6f",
   "metadata": {},
   "source": [
    "****"
   ]
  },
  {
   "cell_type": "markdown",
   "id": "adbedc11",
   "metadata": {},
   "source": [
    "# Question 21  (Basics) "
   ]
  },
  {
   "cell_type": "markdown",
   "id": "350ee955-647c-420e-9147-f764b72eb149",
   "metadata": {},
   "source": [
    "Insert the correct piece of code\n",
    "so that the program produces the expected output.\n",
    "\n",
    "Expected output:\n",
    "```    \n",
    "Andy\n",
    "Brown\n",
    "```\n",
    "\n",
    "Code:\n",
    "```    \n",
    "insert code here\n",
    "```\n",
    "A. ```print(\"Andy Brown\", sep=\" \")```\n",
    "    \n",
    "B. ```print(\"Andy\\nBrown\")```\n",
    "    \n",
    "C. ```print(\"Andy Brown\", end=\" \")```\n",
    "    \n",
    "D. ```print(Andy\\nBrown)```"
   ]
  },
  {
   "cell_type": "markdown",
   "id": "a52798c7",
   "metadata": {},
   "source": [
    "# Solution 21 "
   ]
  },
  {
   "cell_type": "code",
   "execution_count": null,
   "id": "e26e3c04",
   "metadata": {},
   "outputs": [],
   "source": [
    "# Solución"
   ]
  },
  {
   "cell_type": "markdown",
   "id": "24d58aa6",
   "metadata": {},
   "source": [
    "****"
   ]
  },
  {
   "cell_type": "markdown",
   "id": "24dea987",
   "metadata": {},
   "source": [
    "# Question 22    (Basics)"
   ]
  },
  {
   "cell_type": "markdown",
   "id": "cc139d09-4cb4-4f7f-8fbe-a3f0b0424372",
   "metadata": {},
   "source": [
    "The ```\\n``` digraph forces the ```print()``` function to:\n",
    "\n",
    "A. break the output line\n",
    "\n",
    "B. output exactly two characters: ```\\``` and ```n```\n",
    "\n",
    "C. duplicate the character next to the digraph\n",
    "\n",
    "D. stop its execution"
   ]
  },
  {
   "cell_type": "markdown",
   "id": "e7b5c284",
   "metadata": {},
   "source": [
    "# Solution 22"
   ]
  },
  {
   "cell_type": "code",
   "execution_count": null,
   "id": "e160b76e",
   "metadata": {},
   "outputs": [],
   "source": [
    "# Solución"
   ]
  },
  {
   "cell_type": "markdown",
   "id": "e5cea33b",
   "metadata": {},
   "source": [
    "****"
   ]
  },
  {
   "cell_type": "markdown",
   "id": "822187c3",
   "metadata": {},
   "source": [
    "# Question 23    (Basics)"
   ]
  },
  {
   "cell_type": "markdown",
   "id": "3c0827a8-1e7f-44eb-be05-43820235b592",
   "metadata": {},
   "source": [
    "The compiled Python bytecode is stored in files \n",
    "having names ending with:\n",
    "\n",
    "A. pyc\n",
    "\n",
    "B. py\n",
    "\n",
    "C. pyb\n",
    "\n",
    "D. pc"
   ]
  },
  {
   "cell_type": "markdown",
   "id": "ccb25e6d",
   "metadata": {},
   "source": [
    "# Solution 23"
   ]
  },
  {
   "cell_type": "code",
   "execution_count": null,
   "id": "bf3957e8",
   "metadata": {},
   "outputs": [],
   "source": [
    "# Solución"
   ]
  },
  {
   "cell_type": "markdown",
   "id": "8efb033d",
   "metadata": {},
   "source": [
    "****"
   ]
  },
  {
   "cell_type": "markdown",
   "id": "3e9e3c38",
   "metadata": {},
   "source": [
    "# Question 24    (Operators)"
   ]
  },
  {
   "cell_type": "markdown",
   "id": "46926688-e0c2-4a0a-b141-3ae460423009",
   "metadata": {},
   "source": [
    "What is the expected output of the following code?\n",
    "\n",
    "```\n",
    "print('Mike' > 'Mikey')\n",
    "```\n",
    "A. ```False```\n",
    "\n",
    "B. ```0```\n",
    "\n",
    "C. ```True```\n",
    "\n",
    "D. ```1```"
   ]
  },
  {
   "cell_type": "markdown",
   "id": "bf5df307",
   "metadata": {},
   "source": [
    "# Solution 24"
   ]
  },
  {
   "cell_type": "code",
   "execution_count": null,
   "id": "ac104f0b",
   "metadata": {},
   "outputs": [],
   "source": [
    "# Solución"
   ]
  },
  {
   "cell_type": "markdown",
   "id": "08decad0",
   "metadata": {},
   "source": [
    "****"
   ]
  },
  {
   "cell_type": "markdown",
   "id": "33c08eb7",
   "metadata": {},
   "source": [
    "# Question 25  (Control Flow)  "
   ]
  },
  {
   "cell_type": "markdown",
   "id": "3b08052d-e59f-409e-bd03-9b2651af6b0e",
   "metadata": {},
   "source": [
    "You are designing a decision structure\n",
    "to convert a student's numeric grade to a letter grade.\n",
    "The program must assign a letter grade as specified as followed:\n",
    "\n",
    "\n",
    "```\n",
    "1: 90 through 100 -> A\n",
    "2: 80 through  89 -> B\n",
    "3: 70 through  79 -> C\n",
    "4: 65 through  69 -> D\n",
    "5:  0 through  64 -> F\n",
    "```\n",
    "\n",
    "- For example, if the user enters a 90\n",
    "the output should be Your letter grade is A\n",
    "- Likewise, if a user enters an 89\n",
    "the output should be Your letter grade is B\n",
    "\n",
    "\n",
    "```\n",
    "# Letter Grade Converter\n",
    "grade = int(input('Enter a numeric grade:'))\n",
    "# Line-3\n",
    "    letter_grade = 'A'\n",
    "# Line-5\n",
    "    letter_grade = 'B'\n",
    "# Line-7\n",
    "    letter_grade = 'C'\n",
    "# Line-9\n",
    "    letter_grade = 'D'\n",
    "else:\n",
    "    letter_grade = 'F'\n",
    "print('Your letter grade is:', letter_grade)\n",
    "```\n",
    "\n",
    "Which of the following should you insert on\n",
    "\n",
    "Line-3, Line-5, Line-7 and Line-9?\n",
    "\n",
    "A.\n",
    "```\n",
    "if grade <= 90:    # Line-3\n",
    "elif grade <= 80:  # Line-5\n",
    "elif grade <= 70:  # Line-7 \n",
    "elif grade <= 65:  # Line-9 \n",
    "```\n",
    "B.\n",
    "```\n",
    "if grade >= 90:    # Line-3\n",
    "elif grade >= 80:  # Line-5\n",
    "elif grade >= 70:  # Line-7 \n",
    "elif grade >= 65:  # Line-9 \n",
    "```\n",
    "C. \n",
    "```\n",
    "if grade < 90:     # Line-3\n",
    "elif grade < 80:   # Line-5\n",
    "elif grade < 70:   # Line-7 \n",
    "elif grade < 65:   # Line-9 \n",
    "```\n",
    "D.\n",
    "```\n",
    "if grade > 90:     # Line-3\n",
    "elif grade > 80:   # Line-5\n",
    "elif grade > 70:   # Line-7 \n",
    "elif grade > 65:   # Line-9 \n",
    "```"
   ]
  },
  {
   "cell_type": "markdown",
   "id": "48f0c038",
   "metadata": {},
   "source": [
    "# Solution 25"
   ]
  },
  {
   "cell_type": "code",
   "execution_count": null,
   "id": "70792feb",
   "metadata": {},
   "outputs": [],
   "source": [
    "# Solución"
   ]
  },
  {
   "cell_type": "markdown",
   "id": "9499536d",
   "metadata": {},
   "source": [
    "****"
   ]
  },
  {
   "cell_type": "markdown",
   "id": "9012902e",
   "metadata": {},
   "source": [
    "# Question 26   (Operators) "
   ]
  },
  {
   "cell_type": "markdown",
   "id": "7771ef02-9f2e-4482-8dc1-41e61f4e2b4f",
   "metadata": {},
   "source": [
    "Which of the following is the correct order of operator precedence?\n",
    "\n",
    "A.\n",
    "```\n",
    "Exponents\n",
    "Unary positive, negative, not Parentheses\n",
    "Multiplication and Division\n",
    "Addition and Subtraction\n",
    "And\n",
    "```\n",
    "B.\n",
    "```\n",
    "Exponents\n",
    "Unary positive, negative, not \n",
    "Multiplication and Division\n",
    "Addition and Subtraction\n",
    "And\n",
    "Parentheses\n",
    "```\n",
    "C.\n",
    "```\n",
    "Parentheses\n",
    "Exponents\n",
    "Unary positive, negative, not \n",
    "Addition and Subtraction\n",
    "Multiplication and Division\n",
    "And\n",
    "```\n",
    "D.\n",
    "```\n",
    "Parentheses\n",
    "Exponents\n",
    "Unary positive, negative, not \n",
    "Multiplication and Division\n",
    "Addition and Subtraction\n",
    "And\n",
    "```"
   ]
  },
  {
   "cell_type": "markdown",
   "id": "33090470",
   "metadata": {},
   "source": [
    "# Solution 26"
   ]
  },
  {
   "cell_type": "code",
   "execution_count": null,
   "id": "1a9b36e6",
   "metadata": {},
   "outputs": [],
   "source": [
    "# Solución"
   ]
  },
  {
   "cell_type": "markdown",
   "id": "74bff6ba",
   "metadata": {},
   "source": [
    "****"
   ]
  },
  {
   "cell_type": "markdown",
   "id": "6bebbbb8",
   "metadata": {},
   "source": [
    "# Question 27    (Error Handling)"
   ]
  },
  {
   "cell_type": "markdown",
   "id": "1d4d18a7-b3fe-4af2-91a4-fd1fd2a9b7de",
   "metadata": {},
   "source": [
    "What is the expected output of the following code?\n",
    "```\n",
    "num = '7' * '7'\n",
    "print(num)\n",
    "```\n",
    "A. ```49```\n",
    "\n",
    "B. The code is erroneous\n",
    "\n",
    "C. ```77```\n",
    "\n",
    "D. ```7777777``` (el numero 7 - 7 veces)"
   ]
  },
  {
   "cell_type": "markdown",
   "id": "fad8536a",
   "metadata": {},
   "source": [
    "# Solution 27"
   ]
  },
  {
   "cell_type": "code",
   "execution_count": null,
   "id": "ba06fa30",
   "metadata": {},
   "outputs": [],
   "source": [
    "# Solución"
   ]
  },
  {
   "cell_type": "markdown",
   "id": "2a66728a",
   "metadata": {},
   "source": [
    "****"
   ]
  },
  {
   "cell_type": "markdown",
   "id": "40f24429",
   "metadata": {},
   "source": [
    "# Question 28    (Functions)"
   ]
  },
  {
   "cell_type": "markdown",
   "id": "53368ca6-f647-4766-8624-7679100bf6d7",
   "metadata": {},
   "source": [
    "What is the output of the following snippet?\n",
    "\n",
    "```\n",
    "def fun(inp=2, out=3):\n",
    "    return inp * out\n",
    " \n",
    "print(fun(out=2))\n",
    "```\n",
    "A. the snippet is erroneous\n",
    "\n",
    "B. ```2```\n",
    "\n",
    "C. ```4```\n",
    "\n",
    "D. ```6```"
   ]
  },
  {
   "cell_type": "markdown",
   "id": "fdea8d57",
   "metadata": {},
   "source": [
    "# Solution 28"
   ]
  },
  {
   "cell_type": "code",
   "execution_count": null,
   "id": "74f58b8b",
   "metadata": {},
   "outputs": [],
   "source": [
    "# Solución"
   ]
  },
  {
   "cell_type": "markdown",
   "id": "4fee1fca",
   "metadata": {},
   "source": [
    "****"
   ]
  },
  {
   "cell_type": "markdown",
   "id": "707edf97",
   "metadata": {},
   "source": [
    "# Question 29   (Data Aggregates)"
   ]
  },
  {
   "cell_type": "markdown",
   "id": "81084172-279e-4fcf-966d-ccd2cf139973",
   "metadata": {},
   "source": [
    "What is the output of the following snippet?\n",
    "```\n",
    "data = ['abc', 'def', 'abcde', 'efg']\n",
    "print(max(data))\n",
    "```\n",
    "\n",
    "A. None of the above\n",
    "\n",
    "B. ```efg```\n",
    "\n",
    "C. The code is erroneous\n",
    "\n",
    "D. ```def```"
   ]
  },
  {
   "cell_type": "markdown",
   "id": "2d184945",
   "metadata": {},
   "source": [
    "# Solution 29"
   ]
  },
  {
   "cell_type": "code",
   "execution_count": null,
   "id": "779d48f2",
   "metadata": {},
   "outputs": [],
   "source": [
    "# Solución"
   ]
  },
  {
   "cell_type": "markdown",
   "id": "9f3aa8ed",
   "metadata": {},
   "source": [
    "****"
   ]
  },
  {
   "cell_type": "markdown",
   "id": "30e443de",
   "metadata": {},
   "source": [
    "# Question 30  (Data Types)   "
   ]
  },
  {
   "cell_type": "markdown",
   "id": "1acdb9c7-5e53-4c3b-9855-2ec23693f356",
   "metadata": {},
   "source": [
    "Consider the following code.\n",
    "\n",
    "```\n",
    "data = eval(input('Input: '))\n",
    "print('Output:', data)\n",
    "```\n",
    "\n",
    "Which of the inputs below would produce the specified output?\n",
    "\n",
    "A. \n",
    "```\n",
    "Input = [x**2 for x in range(1,4)]\n",
    "Output = [1, 4, 9]\n",
    "```\n",
    "B. \n",
    "```\n",
    "Input: Hello Python\n",
    "Output: Hello Python\n",
    "```\n",
    "C. \n",
    "None of the above\n",
    "\n",
    "D. \n",
    "Both are correct"
   ]
  },
  {
   "cell_type": "markdown",
   "id": "d5faea99",
   "metadata": {},
   "source": [
    "# Solution 30"
   ]
  },
  {
   "cell_type": "code",
   "execution_count": null,
   "id": "306e7ba4",
   "metadata": {},
   "outputs": [],
   "source": [
    "# Solución"
   ]
  },
  {
   "cell_type": "markdown",
   "id": "0b1bda60",
   "metadata": {},
   "source": [
    "****"
   ]
  },
  {
   "cell_type": "markdown",
   "id": "74474b4d",
   "metadata": {},
   "source": [
    "*Gracias por la atención*\n",
    "\n",
    "*Isabel Maniega*"
   ]
  }
 ],
 "metadata": {
  "kernelspec": {
   "display_name": "Python 3 (ipykernel)",
   "language": "python",
   "name": "python3"
  },
  "language_info": {
   "codemirror_mode": {
    "name": "ipython",
    "version": 3
   },
   "file_extension": ".py",
   "mimetype": "text/x-python",
   "name": "python",
   "nbconvert_exporter": "python",
   "pygments_lexer": "ipython3",
   "version": "3.8.19"
  }
 },
 "nbformat": 4,
 "nbformat_minor": 5
}

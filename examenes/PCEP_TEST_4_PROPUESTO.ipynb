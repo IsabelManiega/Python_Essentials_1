{
 "cells": [
  {
   "cell_type": "markdown",
   "id": "149fcbdc",
   "metadata": {},
   "source": [
    "*Contenido creado por: Isabel Maniega*"
   ]
  },
  {
   "cell_type": "markdown",
   "id": "07b52808",
   "metadata": {},
   "source": [
    "****"
   ]
  },
  {
   "cell_type": "markdown",
   "id": "120ec911",
   "metadata": {},
   "source": [
    "# Question 1  (Operators)"
   ]
  },
  {
   "cell_type": "markdown",
   "id": "6b26a7e9-8418-4395-ba4d-da7d364d1bcb",
   "metadata": {},
   "source": [
    "What is the expected output of the following code?\n",
    "\n",
    "```\n",
    "x = True\n",
    "y = False\n",
    "x = x or y\n",
    "y = x and y\n",
    "x = x or y\n",
    "print(x, y)\n",
    "```\n",
    "\n",
    "A. ```True False```\n",
    "\n",
    "B. ```False False```\n",
    "\n",
    "C. ```True True```\n",
    "\n",
    "D. ```False True```"
   ]
  },
  {
   "cell_type": "markdown",
   "id": "c9e1bd70",
   "metadata": {},
   "source": [
    "# Solution 1"
   ]
  },
  {
   "cell_type": "code",
   "execution_count": null,
   "id": "c09e66f9",
   "metadata": {},
   "outputs": [],
   "source": [
    "# Solución"
   ]
  },
  {
   "cell_type": "markdown",
   "id": "72e327fb",
   "metadata": {},
   "source": [
    "****"
   ]
  },
  {
   "cell_type": "markdown",
   "id": "aae9b855",
   "metadata": {},
   "source": [
    "# Question 2 (Data Aggregates)"
   ]
  },
  {
   "cell_type": "markdown",
   "id": "8387dafe-5676-427f-9c8d-044a35307e00",
   "metadata": {},
   "source": [
    "What is the expected output of the following code?\n",
    "```\n",
    "numbers = [1, 2, 3, 4, 5]\n",
    "nums = numbers[2: ]\n",
    "print(nums)\n",
    "```\n",
    "\n",
    "A. The program will cause an error\n",
    "\n",
    "B. ```[2,3,4,5]```\n",
    "\n",
    "C. ```[3,4,5]```\n",
    "\n",
    "D. ```[2]```"
   ]
  },
  {
   "cell_type": "markdown",
   "id": "9b1dd0ef",
   "metadata": {},
   "source": [
    "# Solution 2"
   ]
  },
  {
   "cell_type": "code",
   "execution_count": null,
   "id": "dcbfe8e7",
   "metadata": {},
   "outputs": [],
   "source": [
    "# Solución"
   ]
  },
  {
   "cell_type": "markdown",
   "id": "a6222727",
   "metadata": {},
   "source": [
    "****"
   ]
  },
  {
   "cell_type": "markdown",
   "id": "cd7b55f3",
   "metadata": {},
   "source": [
    "# Question 3  (Operators)"
   ]
  },
  {
   "cell_type": "markdown",
   "id": "05b4c7fc-30ce-4320-8566-10ae4a2205f0",
   "metadata": {},
   "source": [
    "The ```**``` operator:\n",
    "\n",
    "A. performs floating-point multiplication\n",
    "\n",
    "B. does not exist\n",
    "\n",
    "C. performs duplicated multiplication\n",
    "\n",
    "D. performs exponentiation"
   ]
  },
  {
   "cell_type": "markdown",
   "id": "dc168970",
   "metadata": {},
   "source": [
    "# Solution 3"
   ]
  },
  {
   "cell_type": "code",
   "execution_count": null,
   "id": "c404a32a",
   "metadata": {},
   "outputs": [],
   "source": [
    "# Solución"
   ]
  },
  {
   "cell_type": "markdown",
   "id": "f3130e4d",
   "metadata": {},
   "source": [
    "****"
   ]
  },
  {
   "cell_type": "markdown",
   "id": "bc816cb9",
   "metadata": {},
   "source": [
    "# Question 4 "
   ]
  },
  {
   "cell_type": "markdown",
   "id": "a5751468-aab6-4a09-baf2-d5ea4eff9bf1",
   "metadata": {},
   "source": [
    "What is the expected output of the following code?\n",
    "```\n",
    "def fun(n):\n",
    "    n **= n\n",
    "    return n\n",
    "print(fun(3))\n",
    "```\n",
    "A. ```27```\n",
    "\n",
    "B. ```9```\n",
    "\n",
    "C. The program will cause an error\n",
    "\n",
    "D. ```3```\n",
    "\n",
    "E. ```True```"
   ]
  },
  {
   "cell_type": "markdown",
   "id": "53b502ec",
   "metadata": {},
   "source": [
    "# Solution 4"
   ]
  },
  {
   "cell_type": "code",
   "execution_count": null,
   "id": "ce8d523c",
   "metadata": {},
   "outputs": [],
   "source": [
    "# Solución"
   ]
  },
  {
   "cell_type": "markdown",
   "id": "461296db",
   "metadata": {},
   "source": [
    "****"
   ]
  },
  {
   "cell_type": "markdown",
   "id": "a8fc6b90",
   "metadata": {},
   "source": [
    "# Question 5  (Data Aggregates)"
   ]
  },
  {
   "cell_type": "markdown",
   "id": "7543d7df-e4e9-4952-97f4-0a88977626da",
   "metadata": {},
   "source": [
    "What is the expected output of the following code?\n",
    "\n",
    "```\n",
    "data = [1, 2, 3, 4, 5, 6]\n",
    " \n",
    "for i in range(1, 6):\n",
    "    data[i - 1] = data[i]\n",
    "\n",
    "for i in range(0, 6):\n",
    "    print(data[i], end=' ')\n",
    "```   \n",
    "    \n",
    "A. ```1 2 3 4 5 6```\n",
    "\n",
    "B. ```2 3 4 5 6 1```\n",
    "\n",
    "C. ```2 3 4 5 6 6```\n",
    "\n",
    "D. ```1 1 2 3 4 5```"
   ]
  },
  {
   "cell_type": "markdown",
   "id": "e5f4c35d",
   "metadata": {},
   "source": [
    "# Solution 5"
   ]
  },
  {
   "cell_type": "code",
   "execution_count": null,
   "id": "6e47a986",
   "metadata": {},
   "outputs": [],
   "source": [
    "# Solución"
   ]
  },
  {
   "cell_type": "markdown",
   "id": "9ba63cfe",
   "metadata": {},
   "source": [
    "****"
   ]
  },
  {
   "cell_type": "markdown",
   "id": "29472d8a",
   "metadata": {},
   "source": [
    "# Question 6  (Operators)"
   ]
  },
  {
   "cell_type": "markdown",
   "id": "12febff3-5207-42eb-912c-2fcf9c59eb71",
   "metadata": {},
   "source": [
    "What is the expected output of the following code?\n",
    "\n",
    "```\n",
    "print(1 // 2 * 3)\n",
    "```\n",
    "A. ```0```\n",
    "\n",
    "B. ```0.0```\n",
    "\n",
    "C. ```0.1666666666666```\n",
    "\n",
    "D. ```4.5```"
   ]
  },
  {
   "cell_type": "markdown",
   "id": "6e4d0644",
   "metadata": {},
   "source": [
    "# Solution 6"
   ]
  },
  {
   "cell_type": "code",
   "execution_count": null,
   "id": "16e7a479",
   "metadata": {},
   "outputs": [],
   "source": [
    "# Solución"
   ]
  },
  {
   "cell_type": "markdown",
   "id": "e50654f2",
   "metadata": {},
   "source": [
    "****"
   ]
  },
  {
   "cell_type": "markdown",
   "id": "590416b2",
   "metadata": {},
   "source": [
    "# Question 7"
   ]
  },
  {
   "cell_type": "markdown",
   "id": "77d5b481-1393-4dea-8b77-1868765af68c",
   "metadata": {},
   "source": [
    "What is the output of the following snippet?\n",
    "\n",
    "```\n",
    "my_list = [x * x for x in range(5)]\n",
    " \n",
    "def fun(lst):\n",
    "    del lst[lst[2]]\n",
    "    return lst\n",
    " \n",
    "print(fun(my_list))\n",
    "\n",
    "```\n",
    "A. ```[1, 4, 9, 16]```\n",
    "\n",
    "B. ```[0, 1, 4, 9]```\n",
    "\n",
    "C. ```[0, 1, 9, 16]```\n",
    "\n",
    "D. ```[0, 1, 4, 16]```"
   ]
  },
  {
   "cell_type": "markdown",
   "id": "d87a4fe5",
   "metadata": {},
   "source": [
    "# Solution 7"
   ]
  },
  {
   "cell_type": "code",
   "execution_count": null,
   "id": "8e8c48a1",
   "metadata": {},
   "outputs": [],
   "source": [
    "# Solución"
   ]
  },
  {
   "cell_type": "markdown",
   "id": "f4c2a0e1",
   "metadata": {},
   "source": [
    "****"
   ]
  },
  {
   "cell_type": "markdown",
   "id": "e1d32f10",
   "metadata": {},
   "source": [
    "# Question 8  (Data Aggregates)"
   ]
  },
  {
   "cell_type": "markdown",
   "id": "d6dd7265-5177-40a9-8dba-3d227437caf8",
   "metadata": {},
   "source": [
    "What is the expected output of the following code?\n",
    "\n",
    "```\n",
    "data = set([1, 2, 2, 3, 3, 3, 4, 4, 4, 4])\n",
    "print(len(data))\n",
    "```\n",
    "A. ```0```\n",
    "\n",
    "B. ```2```\n",
    "\n",
    "C. ```1```\n",
    "\n",
    "D. ```3```\n",
    "\n",
    "E. ```4```\n",
    "\n",
    "F. ```10```"
   ]
  },
  {
   "cell_type": "markdown",
   "id": "bc5edaa4",
   "metadata": {},
   "source": [
    "# Solution 8"
   ]
  },
  {
   "cell_type": "code",
   "execution_count": null,
   "id": "1a7fd017",
   "metadata": {},
   "outputs": [],
   "source": [
    "# Solución"
   ]
  },
  {
   "cell_type": "markdown",
   "id": "a57369db",
   "metadata": {},
   "source": [
    "****"
   ]
  },
  {
   "cell_type": "markdown",
   "id": "93b444e3",
   "metadata": {},
   "source": [
    "# Question 9  (Data Aggregates)"
   ]
  },
  {
   "cell_type": "markdown",
   "id": "2197a345-2907-4363-88e6-2b71ba8f03c3",
   "metadata": {},
   "source": [
    "After execution of the following snippet,\n",
    "\n",
    "the sum of all vals elements will be equal to:\n",
    "\n",
    "```\n",
    "vals = [0, 1, 2]\n",
    "vals.insert(0, 1)\n",
    "del vals[1]\n",
    "```\n",
    "A. ```2```\n",
    "\n",
    "B. ```5```\n",
    "\n",
    "C. ```4```\n",
    "\n",
    "D. ```3```"
   ]
  },
  {
   "cell_type": "markdown",
   "id": "56111184",
   "metadata": {},
   "source": [
    "# Solution 9"
   ]
  },
  {
   "cell_type": "code",
   "execution_count": null,
   "id": "e388819d",
   "metadata": {},
   "outputs": [],
   "source": [
    "# Solución"
   ]
  },
  {
   "cell_type": "markdown",
   "id": "9bbe08ac",
   "metadata": {},
   "source": [
    "****"
   ]
  },
  {
   "cell_type": "markdown",
   "id": "e14340fd",
   "metadata": {},
   "source": [
    "# Question 10  (Functions)"
   ]
  },
  {
   "cell_type": "markdown",
   "id": "57484557-877b-4cea-bd74-d5b9012f9015",
   "metadata": {},
   "source": [
    "What is the expected output of the following code?\n",
    "\n",
    "```\n",
    "data = 'abcdefg'\n",
    " \n",
    "def func(text):\n",
    "    del text[2]\n",
    "    return text\n",
    " \n",
    "print(func(data))\n",
    "```\n",
    "\n",
    "A. The code is erroneous\n",
    "\n",
    "B. ```abdef```\n",
    "\n",
    "C. ```abcef```\n",
    "\n",
    "D. ```acdef```"
   ]
  },
  {
   "cell_type": "markdown",
   "id": "4a3733a6",
   "metadata": {},
   "source": [
    "# Solution 10"
   ]
  },
  {
   "cell_type": "code",
   "execution_count": null,
   "id": "fa9be457",
   "metadata": {},
   "outputs": [],
   "source": [
    "# Solución"
   ]
  },
  {
   "cell_type": "markdown",
   "id": "c4fccba8",
   "metadata": {},
   "source": [
    "****"
   ]
  },
  {
   "cell_type": "markdown",
   "id": "e5a5f48c",
   "metadata": {},
   "source": [
    "# Question 11 (Control Flow) "
   ]
  },
  {
   "cell_type": "markdown",
   "id": "59e20edf-a2ea-44d3-b878-64af4d409041",
   "metadata": {},
   "source": [
    "Which of the following sentences correctly describes\n",
    "\n",
    "the output of the below Python code?\n",
    "\n",
    "\n",
    "```\n",
    "data = [4, 2, 3, 2, 1]\n",
    "res = data[0]\n",
    " \n",
    "for d in data:\n",
    "    if d < res:\n",
    "        res = d\n",
    "        \n",
    "print(res)\n",
    "```\n",
    "A. res is the sum of all the number in the list\n",
    "\n",
    "B. None of the above\n",
    "\n",
    "C. res is the smallest number in the list\n",
    "\n",
    "D. res is the average of all the number in the list\n",
    "\n",
    "E. res is the largest number in the list"
   ]
  },
  {
   "cell_type": "markdown",
   "id": "de2a3d15",
   "metadata": {},
   "source": [
    "# Solution 11"
   ]
  },
  {
   "cell_type": "code",
   "execution_count": null,
   "id": "05712020",
   "metadata": {},
   "outputs": [],
   "source": [
    "# Solución"
   ]
  },
  {
   "cell_type": "markdown",
   "id": "812f27bd",
   "metadata": {},
   "source": [
    "****"
   ]
  },
  {
   "cell_type": "markdown",
   "id": "57aa57cd",
   "metadata": {},
   "source": [
    "# Question 12 (Functions)  "
   ]
  },
  {
   "cell_type": "markdown",
   "id": "557d1502-5f1a-470a-8800-e829b662d563",
   "metadata": {},
   "source": [
    "The following snippet:\n",
    "\n",
    "```\n",
    "def function_1(a):\n",
    "    return None\n",
    " \n",
    "def function_2(a):\n",
    "    return function_1(a) * function_1(a)\n",
    " \n",
    "print(function_2(2))\n",
    "```\n",
    "\n",
    "A. will output ```4```\n",
    "\n",
    "B. will cause a runtime error\n",
    "\n",
    "C. will output ```2```\n",
    "\n",
    "D. will output ```16```"
   ]
  },
  {
   "cell_type": "markdown",
   "id": "de2bb1f5",
   "metadata": {},
   "source": [
    "# Solution 12"
   ]
  },
  {
   "cell_type": "code",
   "execution_count": null,
   "id": "1245f3c4",
   "metadata": {},
   "outputs": [],
   "source": [
    "# Solución"
   ]
  },
  {
   "cell_type": "markdown",
   "id": "bb5d65bd",
   "metadata": {},
   "source": [
    "****"
   ]
  },
  {
   "cell_type": "markdown",
   "id": "57d18d84",
   "metadata": {},
   "source": [
    "# Question 13 (Data Types)"
   ]
  },
  {
   "cell_type": "markdown",
   "id": "4543868e-164a-4fd0-aaa7-a8cb5f34fb8a",
   "metadata": {},
   "source": [
    "What is the expected output of the following code?\n",
    "```\n",
    "print(ord('c') - ord('a'))\n",
    "```\n",
    "A. ```3```\n",
    "\n",
    "B. ```1```\n",
    "\n",
    "C. ```0```\n",
    "\n",
    "D. ```2```"
   ]
  },
  {
   "cell_type": "markdown",
   "id": "08d053eb",
   "metadata": {},
   "source": [
    "# Solution 13"
   ]
  },
  {
   "cell_type": "code",
   "execution_count": null,
   "id": "66d9222d",
   "metadata": {},
   "outputs": [],
   "source": [
    "# Solución"
   ]
  },
  {
   "cell_type": "markdown",
   "id": "38aab540",
   "metadata": {},
   "source": [
    "****"
   ]
  },
  {
   "cell_type": "markdown",
   "id": "38d12fe5",
   "metadata": {},
   "source": [
    "# Question 14 (Operators)"
   ]
  },
  {
   "cell_type": "markdown",
   "id": "e19bd2c0-c1c6-467f-83ae-2aacd9e7d736",
   "metadata": {},
   "source": [
    "Which of the following code snippets \n",
    "will print True to the monitor?\n",
    "\n",
    "Dos repuestas correctas\n",
    "\n",
    "A. ```print('is' in 'This IS Python code.')```\n",
    "\n",
    "B.\n",
    "```\n",
    "x = ['Peter', 'Paul', 'Mary']\n",
    "y = ['Peter', 'Paul', 'Mary']\n",
    "print(x is y)\n",
    "```\n",
    "C.\n",
    "```\n",
    "x = 'Peter Wellert'\n",
    "y = 'Peter Wellert'.lower()\n",
    "print(x is y)\n",
    "```\n",
    "D. \n",
    "```\n",
    "x = 42\n",
    "y = 42\n",
    "print(x is not y)\n",
    "```\n",
    "E. ```print('t' in 'Peter')```"
   ]
  },
  {
   "cell_type": "markdown",
   "id": "08c16214",
   "metadata": {},
   "source": [
    "# Solution 14"
   ]
  },
  {
   "cell_type": "code",
   "execution_count": null,
   "id": "9c50fc28",
   "metadata": {},
   "outputs": [],
   "source": [
    "# Solución"
   ]
  },
  {
   "cell_type": "markdown",
   "id": "271a9bde",
   "metadata": {},
   "source": [
    "****"
   ]
  },
  {
   "cell_type": "markdown",
   "id": "44dbfac5",
   "metadata": {},
   "source": [
    "# Question 15  (Data Aggregates) "
   ]
  },
  {
   "cell_type": "markdown",
   "id": "66fbbceb-d1f4-4337-a526-a443fef1fdea",
   "metadata": {},
   "source": [
    "What is the expected output of the following code?\n",
    "\n",
    "```\n",
    "w = [7, 3, 23, 42]\n",
    "x = w[1:]\n",
    "y = w[1:]\n",
    "z = w\n",
    "y[0] = 10\n",
    "z[1] = 20\n",
    "print(w)\n",
    "```\n",
    "A. ```[10, 20, 42]```\n",
    "\n",
    "B. ```[10, 20, 23, 42]```\n",
    "\n",
    "C. ```[7, 20, 23, 42]```\n",
    "\n",
    "D. ```[7, 3, 23, 42]```"
   ]
  },
  {
   "cell_type": "markdown",
   "id": "d57819b5",
   "metadata": {},
   "source": [
    "# Solution 15"
   ]
  },
  {
   "cell_type": "code",
   "execution_count": null,
   "id": "41e2e259",
   "metadata": {},
   "outputs": [],
   "source": [
    "# Solución"
   ]
  },
  {
   "cell_type": "markdown",
   "id": "0f534e80",
   "metadata": {},
   "source": [
    "****"
   ]
  },
  {
   "cell_type": "markdown",
   "id": "11a6e2e3",
   "metadata": {},
   "source": [
    "# Question 16 (Operators) "
   ]
  },
  {
   "cell_type": "markdown",
   "id": "147cbf58-c949-4f9b-89ec-9788d1cb8fac",
   "metadata": {},
   "source": [
    "What value will be assigned to the x variable?\n",
    "\n",
    "```\n",
    "z = 2\n",
    "y = 1\n",
    "x = y < z or z > y and y > z or z < y\n",
    "```\n",
    "A. ```False```\n",
    "\n",
    "B. ```0```\n",
    "\n",
    "C. ```1```\n",
    "\n",
    "D. ```True```"
   ]
  },
  {
   "cell_type": "markdown",
   "id": "45200cbc",
   "metadata": {},
   "source": [
    "# Solution 16"
   ]
  },
  {
   "cell_type": "code",
   "execution_count": null,
   "id": "c2b9c279",
   "metadata": {},
   "outputs": [],
   "source": [
    "# Solución"
   ]
  },
  {
   "cell_type": "markdown",
   "id": "94adc6a8",
   "metadata": {},
   "source": [
    "****"
   ]
  },
  {
   "cell_type": "markdown",
   "id": "1f0766b8",
   "metadata": {},
   "source": [
    "# Question 17  (Functions) "
   ]
  },
  {
   "cell_type": "markdown",
   "id": "7837dba2-9357-4e74-a5cc-b6a7593b4245",
   "metadata": {},
   "source": [
    "What is the output of the following snippet?\n",
    "\n",
    "\n",
    "```\n",
    "def func(x, y):\n",
    "    if x == y:\n",
    "        return x\n",
    "    else:\n",
    "        return func(x, y-1)\n",
    "\n",
    "print(func(0, 3))\n",
    "```\n",
    "\n",
    "\n",
    "A. ```1```\n",
    "\n",
    "B. ```0```\n",
    "\n",
    "C. The snippet will cause a runtime error\n",
    "\n",
    "D. ```2```"
   ]
  },
  {
   "cell_type": "markdown",
   "id": "eb41cf74",
   "metadata": {},
   "source": [
    "# Solution 17"
   ]
  },
  {
   "cell_type": "code",
   "execution_count": null,
   "id": "3053d2d7",
   "metadata": {},
   "outputs": [],
   "source": [
    "# Solución "
   ]
  },
  {
   "cell_type": "markdown",
   "id": "4cdfbff3",
   "metadata": {},
   "source": [
    "****"
   ]
  },
  {
   "cell_type": "markdown",
   "id": "43b694cc",
   "metadata": {},
   "source": [
    "# Question 18  (Functions)"
   ]
  },
  {
   "cell_type": "markdown",
   "id": "a91cec89-8faa-46bf-843c-469196e5b765",
   "metadata": {},
   "source": [
    "What is the output of the following snippet?\n",
    "\n",
    "```\n",
    "def any():\n",
    "    print(var + 1, end='')\n",
    " \n",
    "var = 1\n",
    "any()\n",
    "print(var)\n",
    "```\n",
    "\n",
    "\n",
    "\n",
    "A. ```12```\n",
    "\n",
    "\n",
    "B. ```21```\n",
    "\n",
    "\n",
    "C. ```22```\n",
    "\n",
    "\n",
    "D. ```11```\n"
   ]
  },
  {
   "cell_type": "markdown",
   "id": "8355eac1",
   "metadata": {},
   "source": [
    "# Solution 18"
   ]
  },
  {
   "cell_type": "code",
   "execution_count": null,
   "id": "308aa502",
   "metadata": {},
   "outputs": [],
   "source": [
    "# Solución"
   ]
  },
  {
   "cell_type": "markdown",
   "id": "26cc92ac",
   "metadata": {},
   "source": [
    "****"
   ]
  },
  {
   "cell_type": "markdown",
   "id": "9e7600d1",
   "metadata": {},
   "source": [
    "# Question 19 (Data Aggregates)"
   ]
  },
  {
   "cell_type": "markdown",
   "id": "8eccd819-84fd-4c4c-a0f6-b31fdeca0eb4",
   "metadata": {},
   "source": [
    "What is the output of the following snippet?\n",
    "\n",
    "```\n",
    "my_list = [0, 1, 2, 3]\n",
    "x = 1\n",
    "for elem in my_list:\n",
    "    x *= elem\n",
    "print(x)\n",
    "```\n",
    "\n",
    "A. ```0```\n",
    "\n",
    "B. ```6```\n",
    "\n",
    "C. ```1```\n"
   ]
  },
  {
   "cell_type": "markdown",
   "id": "d15cd913",
   "metadata": {},
   "source": [
    "# Solution 19"
   ]
  },
  {
   "cell_type": "code",
   "execution_count": null,
   "id": "e956b223",
   "metadata": {},
   "outputs": [],
   "source": [
    "# Solución"
   ]
  },
  {
   "cell_type": "markdown",
   "id": "c1e32652",
   "metadata": {},
   "source": [
    "****"
   ]
  },
  {
   "cell_type": "markdown",
   "id": "df94cb68",
   "metadata": {},
   "source": [
    "# Question 20 (Control Flow)"
   ]
  },
  {
   "cell_type": "markdown",
   "id": "82d76611-c8aa-440e-9cba-55f57ddad5ce",
   "metadata": {},
   "source": [
    "Consider the following programm to calculate a discount percentage:\n",
    "```\n",
    "day = input('Enter the day of the week:')\n",
    "discount = 3\n",
    " \n",
    "if day == 'Wednesday':\n",
    "    discount += 5\n",
    "elif day == 'Thursday':\n",
    "    discount += 7\n",
    "elif day == 'Saturday':\n",
    "    discount += 10\n",
    "elif day == 'Sunday':\n",
    "    discount += 20\n",
    "else:\n",
    "    discount += 2\n",
    "```\n",
    "Which of the following inputs will get the user a discount of 5 %?\n",
    "\n",
    "\n",
    "A. ```Thursday```\n",
    "    \n",
    "B. ```Saturday```\n",
    "    \n",
    "C. ```Sunday```\n",
    "    \n",
    "D. ```Friday```\n",
    "    \n",
    "E. ```Wednesday```\n",
    "    "
   ]
  },
  {
   "cell_type": "markdown",
   "id": "652b6c03",
   "metadata": {},
   "source": [
    "# Solution 20"
   ]
  },
  {
   "cell_type": "code",
   "execution_count": null,
   "id": "90d99ead",
   "metadata": {},
   "outputs": [],
   "source": [
    "# Solución"
   ]
  },
  {
   "cell_type": "markdown",
   "id": "fbdeaa19",
   "metadata": {},
   "source": [
    "****"
   ]
  },
  {
   "cell_type": "markdown",
   "id": "3c606e4f",
   "metadata": {},
   "source": [
    "# Question 21 (Data Types) "
   ]
  },
  {
   "cell_type": "markdown",
   "id": "3c0779d0-4cc9-411c-adc3-0d0385731960",
   "metadata": {},
   "source": [
    "You are an intern for ABC electric cars company.\n",
    "\n",
    "You must create a function that calculates the average velocity\n",
    "of their vehicles on a 1320 foot (1/4 mile) track.\n",
    "\n",
    "Consider the following code.\n",
    "\n",
    "```\n",
    "distance = ???(input('Enter the distance travelled in feet'))\n",
    "distance_miles = distance/5280  # convert to miles\n",
    " \n",
    "time = ???(input('Enter the time elapsed in seconds'))\n",
    "time_hours = time/3600  # convert to hours\n",
    " \n",
    "velocity = distance_miles/time_hours\n",
    "print('The average Velocity : ', velocity, 'miles/hour')\n",
    "\n",
    "\n",
    "The output must be as precise as possible.\n",
    "What would you insert instead of ??? and ???\n",
    "```\n",
    "\n",
    "A.\n",
    "```    \n",
    "float\n",
    "int\n",
    "```\n",
    "B.\n",
    "```        \n",
    "float\n",
    "float\n",
    "```\n",
    "C.\n",
    "```        \n",
    "int\n",
    "```\n",
    "D. \n",
    "```       \n",
    "int\n",
    "int\n",
    "```"
   ]
  },
  {
   "cell_type": "markdown",
   "id": "cbe3738f",
   "metadata": {},
   "source": [
    "# Solution 21"
   ]
  },
  {
   "cell_type": "code",
   "execution_count": null,
   "id": "67fec384",
   "metadata": {},
   "outputs": [],
   "source": [
    "# Solución\n",
    "# "
   ]
  },
  {
   "cell_type": "markdown",
   "id": "202b2051",
   "metadata": {},
   "source": [
    "****"
   ]
  },
  {
   "cell_type": "markdown",
   "id": "3f896908",
   "metadata": {},
   "source": [
    "# Question 22  (Control Flow)"
   ]
  },
  {
   "cell_type": "markdown",
   "id": "f26575b2-1594-4a01-a1f3-bd9aada8f972",
   "metadata": {},
   "source": [
    "What is the expected output of the following code?\n",
    "```\n",
    "my_list = [[3-i for i in range(3)] for j in range(3)]\n",
    "result = 0\n",
    " \n",
    "for i in range(3):\n",
    "    result += my_list[i][i]\n",
    "    \n",
    "print(result)\n",
    "```\n",
    "A. ```7```\n",
    "\n",
    "B. ```2```\n",
    "\n",
    "C. ```4```\n",
    "\n",
    "D. ```6```\n"
   ]
  },
  {
   "cell_type": "markdown",
   "id": "232c1936",
   "metadata": {},
   "source": [
    "# Solution 22"
   ]
  },
  {
   "cell_type": "code",
   "execution_count": null,
   "id": "5fa26065",
   "metadata": {},
   "outputs": [],
   "source": [
    "# Solución"
   ]
  },
  {
   "cell_type": "markdown",
   "id": "3633ea84",
   "metadata": {},
   "source": [
    "****"
   ]
  },
  {
   "cell_type": "markdown",
   "id": "a0821b1d",
   "metadata": {},
   "source": [
    "# Question 23  (Operators)"
   ]
  },
  {
   "cell_type": "markdown",
   "id": "2a84b0f6-7aa6-4de4-b448-b567bd307457",
   "metadata": {},
   "source": [
    "What is the output of the following code?\n",
    "\n",
    "```\n",
    "x = \"2\"\n",
    "y = 2 * x\n",
    "print(y)\n",
    "```\n",
    "A. ```4```\n",
    "\n",
    "B. The program will cause an error\n",
    "\n",
    "C. ```22```\n",
    "\n",
    "D. ```2x```\n"
   ]
  },
  {
   "cell_type": "markdown",
   "id": "d7b9edb4",
   "metadata": {},
   "source": [
    "# Solution 23"
   ]
  },
  {
   "cell_type": "code",
   "execution_count": null,
   "id": "32dada3b",
   "metadata": {},
   "outputs": [],
   "source": [
    "# Solución"
   ]
  },
  {
   "cell_type": "markdown",
   "id": "750b13dd",
   "metadata": {},
   "source": [
    "****"
   ]
  },
  {
   "cell_type": "markdown",
   "id": "81431c41",
   "metadata": {},
   "source": [
    "# Question 24  (Data Aggregates) "
   ]
  },
  {
   "cell_type": "markdown",
   "id": "c26345a2-9466-4c43-a1ae-14636839ca8c",
   "metadata": {},
   "source": [
    "What is the expected output of the following code?\n",
    "\n",
    "```\n",
    "data = ()\n",
    "print(data.__len__())\n",
    "```\n",
    "\n",
    "A. ```0```\n",
    "\n",
    "B. ```None```\n",
    "\n",
    "C. The code is erroneous\n",
    "\n",
    "D. ```1```\n"
   ]
  },
  {
   "cell_type": "markdown",
   "id": "d6fc851e",
   "metadata": {},
   "source": [
    "# Solution 24"
   ]
  },
  {
   "cell_type": "code",
   "execution_count": null,
   "id": "5a25f72a",
   "metadata": {},
   "outputs": [],
   "source": [
    "# Solución"
   ]
  },
  {
   "cell_type": "markdown",
   "id": "0cefc486",
   "metadata": {},
   "source": [
    "****"
   ]
  },
  {
   "cell_type": "markdown",
   "id": "5d06fd5f",
   "metadata": {},
   "source": [
    "# Question 25 (Control Flow) "
   ]
  },
  {
   "cell_type": "markdown",
   "id": "91eee3df-e832-40cc-8cbe-443813c7747f",
   "metadata": {},
   "source": [
    "What is the expected output of the following code?\n",
    "\n",
    "```\n",
    "data = [1, {}, (2,), (), {3}, [4, 5]]\n",
    "points = 0\n",
    " \n",
    "for i in range(len(data)):\n",
    "    if type(data[i]) == list:\n",
    "        points += 1\n",
    "    elif type(data[i]) == tuple:\n",
    "        points += 10\n",
    "    elif type(data[i]) == set:\n",
    "        points += 100\n",
    "    elif type(data[i]) == dict:\n",
    "        points += 1000\n",
    "    else:\n",
    "        points += 10000\n",
    "        \n",
    "print(points)\n",
    "```\n",
    "\n",
    "A. ```10221```\n",
    "\n",
    "B. ```21102```\n",
    "\n",
    "C. ```11121```\n",
    "\n",
    "D. ```10212```\n",
    "\n",
    "E. ```11112```\n"
   ]
  },
  {
   "cell_type": "markdown",
   "id": "a585a4f7",
   "metadata": {},
   "source": [
    "# Solution 25"
   ]
  },
  {
   "cell_type": "code",
   "execution_count": null,
   "id": "e98612e1",
   "metadata": {},
   "outputs": [],
   "source": [
    "# Solución"
   ]
  },
  {
   "cell_type": "markdown",
   "id": "7bbda0fb",
   "metadata": {},
   "source": [
    "****"
   ]
  },
  {
   "cell_type": "markdown",
   "id": "d498db53",
   "metadata": {},
   "source": [
    "# Question 26 (Operators)"
   ]
  },
  {
   "cell_type": "markdown",
   "id": "751b10bb-c128-49f1-9602-9341055ec959",
   "metadata": {},
   "source": [
    "What is the expected output of the following code?\n",
    "\n",
    "```\n",
    "x = 4.5\n",
    "y = 2\n",
    "\n",
    "print(x // y)\n",
    "```\n",
    "\n",
    "A. ```2.5```\n",
    "\n",
    "B. ```2.0```\n",
    "\n",
    "C. ```2```\n",
    "\n",
    "D. ```2.25```\n"
   ]
  },
  {
   "cell_type": "markdown",
   "id": "f3d4041e",
   "metadata": {},
   "source": [
    "# Solution 26"
   ]
  },
  {
   "cell_type": "code",
   "execution_count": null,
   "id": "2516a181",
   "metadata": {},
   "outputs": [],
   "source": [
    "# Solución"
   ]
  },
  {
   "cell_type": "markdown",
   "id": "131f179c",
   "metadata": {},
   "source": [
    "****"
   ]
  },
  {
   "cell_type": "markdown",
   "id": "2cd1af3e",
   "metadata": {},
   "source": [
    "# Question 27"
   ]
  },
  {
   "cell_type": "markdown",
   "id": "d88e1c2f-6e66-4b6a-8c5b-d2d9fe245e75",
   "metadata": {},
   "source": [
    "What is the expected output of the following code?\n",
    "\n",
    "```\n",
    "num = 2 + 3 * 5\n",
    "print(Num)\n",
    "```\n",
    "\n",
    "A. ```17```\n",
    "\n",
    "B. ```17.0```\n",
    "\n",
    "C. ```25```\n",
    "\n",
    "D. The code is erroneous"
   ]
  },
  {
   "cell_type": "markdown",
   "id": "d5c13634",
   "metadata": {},
   "source": [
    "# Solution 27"
   ]
  },
  {
   "cell_type": "code",
   "execution_count": null,
   "id": "644efd70",
   "metadata": {},
   "outputs": [],
   "source": [
    "# Solución"
   ]
  },
  {
   "cell_type": "markdown",
   "id": "cf28a728",
   "metadata": {},
   "source": [
    "****"
   ]
  },
  {
   "cell_type": "markdown",
   "id": "eabe69e0",
   "metadata": {},
   "source": [
    "# Question 28  (Operators)"
   ]
  },
  {
   "cell_type": "markdown",
   "id": "e7263daa-9fc5-48be-bb74-dd8142465348",
   "metadata": {},
   "source": [
    "What is the output of the following snippet \n",
    "if the user enters two lines \n",
    "containing 3 and 6 respectively?\n",
    "\n",
    "\n",
    "```\n",
    "x = input()\n",
    "y = int(input())\n",
    " \n",
    "print(x * y)\n",
    "```\n",
    "\n",
    "A. ```36```\n",
    "\n",
    "B. ```18```\n",
    "\n",
    "C. ```333333```\n",
    "\n",
    "D. ```666```"
   ]
  },
  {
   "cell_type": "markdown",
   "id": "ed73ab3d",
   "metadata": {},
   "source": [
    "# Solution 28"
   ]
  },
  {
   "cell_type": "code",
   "execution_count": null,
   "id": "08cccf6c",
   "metadata": {},
   "outputs": [],
   "source": [
    "# Solución"
   ]
  },
  {
   "cell_type": "markdown",
   "id": "eac0c5c9",
   "metadata": {},
   "source": [
    "****"
   ]
  },
  {
   "cell_type": "markdown",
   "id": "e16354ab",
   "metadata": {},
   "source": [
    "# Question 29  (Basics)"
   ]
  },
  {
   "cell_type": "markdown",
   "id": "26d9f71d-0929-4d3b-99f1-7846bc87654d",
   "metadata": {},
   "source": [
    "You develop a Python application for your company.\n",
    "\n",
    "You want to add notes to your code so other team members will understand it.\n",
    "\n",
    "\n",
    "What should you do?\n",
    "\n",
    "A. Place the notes inside of parentheses on any line\n",
    "\n",
    "B. Place the notes after the last line of code separated by a blank line\n",
    "\n",
    "C. Place the notes before the first line of code separated by a blank line\n",
    "\n",
    "D. Place the notes after the ```#``` sign on any line"
   ]
  },
  {
   "cell_type": "markdown",
   "id": "58b8ab3f",
   "metadata": {},
   "source": [
    "# Solution 29"
   ]
  },
  {
   "cell_type": "code",
   "execution_count": null,
   "id": "aa8bbbc1",
   "metadata": {},
   "outputs": [],
   "source": [
    "# Solución"
   ]
  },
  {
   "cell_type": "markdown",
   "id": "9a6e2332",
   "metadata": {},
   "source": [
    "****"
   ]
  },
  {
   "cell_type": "markdown",
   "id": "f660d48c",
   "metadata": {},
   "source": [
    "# Question 30"
   ]
  },
  {
   "cell_type": "markdown",
   "id": "3f5c08a4-da96-4ff5-85fe-4a9a2e2cd90d",
   "metadata": {},
   "source": [
    "What is the expected output of the following code?\n",
    "```\n",
    "print(2 ** 3 ** 2 ** 1)\n",
    "```\n",
    "\n",
    "A. ```16```\n",
    "\n",
    "B. ```512```\n",
    "\n",
    "C. ```128.0```\n",
    "\n",
    "D. ```64```\n",
    "\n",
    "E. ```16.0```\n",
    "\n",
    "F. The code is erroneous"
   ]
  },
  {
   "cell_type": "markdown",
   "id": "66791312",
   "metadata": {},
   "source": [
    "# Solution 30"
   ]
  },
  {
   "cell_type": "code",
   "execution_count": null,
   "id": "fa9440df",
   "metadata": {},
   "outputs": [],
   "source": [
    "# Solución"
   ]
  },
  {
   "cell_type": "markdown",
   "id": "886fba73",
   "metadata": {},
   "source": [
    "****"
   ]
  },
  {
   "cell_type": "markdown",
   "id": "983143b9",
   "metadata": {},
   "source": [
    "*Gracias por la atención*\n",
    "\n",
    "*Isabel Maniega*"
   ]
  }
 ],
 "metadata": {
  "kernelspec": {
   "display_name": "Python 3 (ipykernel)",
   "language": "python",
   "name": "python3"
  },
  "language_info": {
   "codemirror_mode": {
    "name": "ipython",
    "version": 3
   },
   "file_extension": ".py",
   "mimetype": "text/x-python",
   "name": "python",
   "nbconvert_exporter": "python",
   "pygments_lexer": "ipython3",
   "version": "3.8.19"
  }
 },
 "nbformat": 4,
 "nbformat_minor": 5
}

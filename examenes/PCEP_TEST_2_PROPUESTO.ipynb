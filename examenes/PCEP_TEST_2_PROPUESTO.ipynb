{
 "cells": [
  {
   "cell_type": "markdown",
   "id": "ccba3563-8aea-471a-88a8-1270da5efa89",
   "metadata": {},
   "source": [
    "# Realizar el examen de 16 al 30: 20 minutos\n",
    "\n",
    "# Volvemos a las 17:45"
   ]
  },
  {
   "cell_type": "markdown",
   "id": "6564e974",
   "metadata": {},
   "source": [
    "*Contenido creado por: Isabel Maniega*"
   ]
  },
  {
   "cell_type": "markdown",
   "id": "dcf1cabd",
   "metadata": {},
   "source": [
    "****"
   ]
  },
  {
   "cell_type": "code",
   "execution_count": null,
   "id": "1085ebd9",
   "metadata": {},
   "outputs": [],
   "source": [
    "# PREVIO AL EJERCICIO 1"
   ]
  },
  {
   "cell_type": "code",
   "execution_count": 1,
   "id": "e15f059f",
   "metadata": {},
   "outputs": [
    {
     "name": "stdout",
     "output_type": "stream",
     "text": [
      "1 2\n",
      "1 2\n",
      "\n",
      "\n",
      "12\n",
      "1       2\n",
      "1*2\n",
      "1***2\n",
      "12x2\n"
     ]
    }
   ],
   "source": [
    "# CONCLUSIONES\n",
    "# -1- \n",
    "# LAS 2 PRIMERAS INSTRUCCIONES CON PRINT SON EQUIVALENTES\n",
    "# Y TIENEN UN ESPACIO INCORPORADO\n",
    "\n",
    "x = 1\n",
    "y = 2\n",
    "print(x, y)\n",
    "print(x, y, sep=' ')\n",
    "print('\\n')\n",
    "print(x, y, sep='')\n",
    "print(x, y, sep='       ')\n",
    "print(x, y, sep='*')\n",
    "print(x, y, sep='***')\n",
    "print(x, y, sep='2x')"
   ]
  },
  {
   "cell_type": "code",
   "execution_count": null,
   "id": "8acd2617",
   "metadata": {},
   "outputs": [],
   "source": [
    "# print?"
   ]
  },
  {
   "cell_type": "code",
   "execution_count": 2,
   "id": "0ae0935d",
   "metadata": {},
   "outputs": [
    {
     "name": "stdout",
     "output_type": "stream",
     "text": [
      "ejemplos de end\n",
      "1 2\n",
      "1 21 2*1 2***\n",
      "\n",
      "ejemplos con sep\n",
      "1 1 1\n",
      "1 1 1\n",
      "111\n",
      "1*1*1\n",
      "\n",
      "\n",
      "saltó de línea\n"
     ]
    }
   ],
   "source": [
    "print('ejemplos de end')\n",
    "print(x,y)\n",
    "print(x,y,end='')\n",
    "print(x,y,end='*')\n",
    "print(x,y,end='***')\n",
    "print('\\n')\n",
    "print('ejemplos con sep')\n",
    "print(x,x,x)\n",
    "print(x,x,x, sep=' ')\n",
    "print(x,x,x, sep='')\n",
    "print(x,x,x, sep='*')\n",
    "print('\\n')\n",
    "print('saltó de línea')"
   ]
  },
  {
   "cell_type": "markdown",
   "id": "f8720650",
   "metadata": {},
   "source": [
    "# Question 1  (Data Types)"
   ]
  },
  {
   "cell_type": "markdown",
   "id": "ccce80ee-9523-4700-84be-c7f428231fc9",
   "metadata": {},
   "source": [
    "What is the expected output of the following code?\n",
    "\n",
    "```\n",
    "z = y = x = 1\n",
    "print(x, y, z, sep='*')\n",
    "```\n",
    "\n",
    "A. ```1*1*1```\n",
    "\n",
    "B. ```1 1 1```\n",
    "\n",
    "C. ```x*y*z```\n",
    "\n",
    "D. ```x y z```\n",
    "\n",
    "E. ```111*```\n",
    "\n",
    "F. The code is erroneous"
   ]
  },
  {
   "cell_type": "markdown",
   "id": "db5f7d67",
   "metadata": {},
   "source": [
    "# Solution 1"
   ]
  },
  {
   "cell_type": "code",
   "execution_count": null,
   "id": "1d97c724",
   "metadata": {},
   "outputs": [],
   "source": [
    "# Solución"
   ]
  },
  {
   "cell_type": "markdown",
   "id": "d26505df",
   "metadata": {},
   "source": [
    "****"
   ]
  },
  {
   "cell_type": "markdown",
   "id": "16eae477",
   "metadata": {},
   "source": [
    "# Question 2 (Data Aggregates)"
   ]
  },
  {
   "cell_type": "markdown",
   "id": "f852f8c2-695c-4c00-8fcb-c8290adbf72e",
   "metadata": {},
   "source": [
    "What is the expected output of the following code?\n",
    "```\n",
    "nums = [3, 4, 5, 20, 5, 25, 1, 3]\n",
    "nums.pop(1)\n",
    "print(nums)\n",
    "```\n",
    "A. ```[3, 4, 5, 20, 5, 25, 1, 3]```\n",
    "\n",
    "B. ```[1, 3, 3, 4, 5, 5, 20, 25]```\n",
    "\n",
    "C. ```[3, 1, 25, 5, 20, 5, 4]```\n",
    "\n",
    "D. ```[3, 5, 20, 5, 25, 1, 3]```\n",
    "\n",
    "E. ```[1, 3, 4, 5, 20, 5, 25]```"
   ]
  },
  {
   "cell_type": "markdown",
   "id": "fc56cc23",
   "metadata": {},
   "source": [
    "# Solution 2"
   ]
  },
  {
   "cell_type": "code",
   "execution_count": null,
   "id": "1d570797",
   "metadata": {},
   "outputs": [],
   "source": [
    "# Solución"
   ]
  },
  {
   "cell_type": "markdown",
   "id": "ab6a60dd",
   "metadata": {},
   "source": [
    "****"
   ]
  },
  {
   "cell_type": "markdown",
   "id": "e907b0a5",
   "metadata": {},
   "source": [
    "# Question 3  (Operators)"
   ]
  },
  {
   "cell_type": "markdown",
   "id": "c1c380b8-4267-4d27-9500-57177c4b9896",
   "metadata": {},
   "source": [
    "What is the expected output of the following code?\n",
    "```\n",
    "x = 28\n",
    "y = 8\n",
    "\n",
    "print(x / y)   \n",
    "print(x // y)  \n",
    "print(x % y)   \n",
    "```\n",
    "A. \n",
    "```\n",
    "3.5\n",
    "3\n",
    "4\n",
    "```\n",
    "B.\n",
    "```\n",
    "3.5\n",
    "3.5\n",
    "2\n",
    "```\n",
    "C.\n",
    "```\n",
    "3\n",
    "3.5\n",
    "4\n",
    "```\n",
    "D.\n",
    "```\n",
    "3.0\n",
    "3\n",
    "2\n",
    "```"
   ]
  },
  {
   "cell_type": "markdown",
   "id": "cfbff1e4",
   "metadata": {},
   "source": [
    "# Solution 3"
   ]
  },
  {
   "cell_type": "code",
   "execution_count": null,
   "id": "aea28d7d",
   "metadata": {},
   "outputs": [],
   "source": [
    "# Solución"
   ]
  },
  {
   "cell_type": "markdown",
   "id": "1355b498",
   "metadata": {},
   "source": [
    "****"
   ]
  },
  {
   "cell_type": "markdown",
   "id": "8565acdf",
   "metadata": {},
   "source": [
    "# Question 4 (Control Flow)"
   ]
  },
  {
   "cell_type": "markdown",
   "id": "beb59805-d74b-4c13-aa0e-7c02024f8b39",
   "metadata": {},
   "source": [
    "What is the expected output of the following code?\n",
    "\n",
    "```\n",
    "x = 1\n",
    " \n",
    "if x > 0 or x < 1:\n",
    "    print(\"1\")\n",
    "    \n",
    "if x > 1:\n",
    "    print(\"2\")\n",
    "elif x >= 1:\n",
    "    print(\"3\")\n",
    "else:\n",
    "    print(\"4\")\n",
    "```  \n",
    "    \n",
    "A. ```1```\n",
    "\n",
    "B. \n",
    "```\n",
    "1\n",
    "3\n",
    "4\n",
    "```\n",
    "C.\n",
    "```\n",
    "1\n",
    "4\n",
    "```\n",
    "D.\n",
    "```\n",
    "1\n",
    "3\n",
    "```"
   ]
  },
  {
   "cell_type": "markdown",
   "id": "10b5154f",
   "metadata": {},
   "source": [
    "# Solution 4 (Data Aggregates)"
   ]
  },
  {
   "cell_type": "code",
   "execution_count": null,
   "id": "5b6b4f33",
   "metadata": {},
   "outputs": [],
   "source": [
    "# Solución"
   ]
  },
  {
   "cell_type": "markdown",
   "id": "708a99fb",
   "metadata": {},
   "source": [
    "****"
   ]
  },
  {
   "cell_type": "markdown",
   "id": "af36b456",
   "metadata": {},
   "source": [
    "# Question 5 (Data Aggregates) "
   ]
  },
  {
   "cell_type": "markdown",
   "id": "ee34974e-1946-4efd-9468-033aed87414d",
   "metadata": {},
   "source": [
    "What is the output of the following snippet?\n",
    "```\n",
    "dct = {}\n",
    "dct['1'] = (1, 2)\n",
    "dct['2'] = (2, 1)\n",
    " \n",
    "for x in dct.keys():\n",
    "    print(dct[x][1], end='')\n",
    "```\n",
    "A. ```12```\n",
    "\n",
    "B. ```(1,2)```\n",
    "\n",
    "C. ```(2,1)```\n",
    "\n",
    "D. ```21```"
   ]
  },
  {
   "cell_type": "markdown",
   "id": "2f993178",
   "metadata": {},
   "source": [
    "# Solution 5"
   ]
  },
  {
   "cell_type": "code",
   "execution_count": null,
   "id": "869d8d09",
   "metadata": {},
   "outputs": [],
   "source": [
    "# Solución"
   ]
  },
  {
   "cell_type": "markdown",
   "id": "7831755b",
   "metadata": {},
   "source": [
    "****"
   ]
  },
  {
   "cell_type": "markdown",
   "id": "c8b7640b",
   "metadata": {},
   "source": [
    "# Question 6 (Data Types)"
   ]
  },
  {
   "cell_type": "markdown",
   "id": "4126a28e-4a35-4e7b-9843-18d4f3189717",
   "metadata": {},
   "source": [
    "Strings in Python are delimited with:\n",
    "\n",
    "A. backslashes (i.e., \\)\n",
    "\n",
    "B. dollar symbol (i.e., $)\n",
    "\n",
    "C. double quotes (i.e. \"), or single quotes(')\n",
    "                                            \n",
    "D. asterisks (i.e., *)"
   ]
  },
  {
   "cell_type": "markdown",
   "id": "2f2c7044",
   "metadata": {},
   "source": [
    "# Solution 6"
   ]
  },
  {
   "cell_type": "code",
   "execution_count": null,
   "id": "91467a00",
   "metadata": {},
   "outputs": [],
   "source": [
    "# Solución"
   ]
  },
  {
   "cell_type": "markdown",
   "id": "72ba1c97",
   "metadata": {},
   "source": [
    "****"
   ]
  },
  {
   "cell_type": "markdown",
   "id": "de284f6a",
   "metadata": {},
   "source": [
    "# Question 7 (Operators)"
   ]
  },
  {
   "cell_type": "markdown",
   "id": "b56245d5-3b80-44bb-ae93-4dbe0da02e88",
   "metadata": {},
   "source": [
    "What is the output of the following code?\n",
    "```\n",
    "a = 1\n",
    "b = 0\n",
    "x = a or b\n",
    "y = not(a and b)\n",
    "print(x + y)\n",
    "```\n",
    "A. ```2```\n",
    "\n",
    "B. The program will cause an error\n",
    "\n",
    "C. ```1```\n",
    "\n",
    "D. The output cannot be predicted"
   ]
  },
  {
   "cell_type": "markdown",
   "id": "f3a62b4b",
   "metadata": {},
   "source": [
    "# Solution 7"
   ]
  },
  {
   "cell_type": "code",
   "execution_count": null,
   "id": "8d99978d",
   "metadata": {},
   "outputs": [],
   "source": [
    "# Solución"
   ]
  },
  {
   "cell_type": "markdown",
   "id": "4abe5085",
   "metadata": {},
   "source": [
    "****"
   ]
  },
  {
   "cell_type": "markdown",
   "id": "c3eac110",
   "metadata": {},
   "source": [
    "# Question 8 (Functions)"
   ]
  },
  {
   "cell_type": "markdown",
   "id": "f139a11b-fae1-4f27-a470-4bcee9cb2fb4",
   "metadata": {},
   "source": [
    "The function body is missing.\n",
    "\n",
    "What snippet would you insert in the line indicated below:\n",
    "```\n",
    "def func(number):\n",
    "    # insert your code here\n",
    " \n",
    "print(func(7))\n",
    "```\n",
    "A. ```return number```\n",
    "\n",
    "B. ```return 'number'```\n",
    "\n",
    "C. ```print('number')```\n",
    "\n",
    "D. ```print(number)```"
   ]
  },
  {
   "cell_type": "markdown",
   "id": "1e056e93",
   "metadata": {},
   "source": [
    "# Solution 8"
   ]
  },
  {
   "cell_type": "code",
   "execution_count": null,
   "id": "6cc15488",
   "metadata": {},
   "outputs": [],
   "source": [
    "# Solución"
   ]
  },
  {
   "cell_type": "markdown",
   "id": "6459b805",
   "metadata": {},
   "source": [
    "****"
   ]
  },
  {
   "cell_type": "markdown",
   "id": "a4003213",
   "metadata": {},
   "source": [
    "# Question 9  (Functions)"
   ]
  },
  {
   "cell_type": "markdown",
   "id": "b77e1bf5-17e3-4494-99ed-377a69497e46",
   "metadata": {},
   "source": [
    "If a list passed into a function as an argument,\n",
    "\n",
    "deleting any of its elements inside the function \n",
    "using the del instruction:\n",
    "\n",
    "A. will affect the argument\n",
    "\n",
    "B. will cause a runtime error\n",
    "\n",
    "C. will not affect the argument"
   ]
  },
  {
   "cell_type": "markdown",
   "id": "9b4dc0b9",
   "metadata": {},
   "source": [
    "# Solution 9"
   ]
  },
  {
   "cell_type": "code",
   "execution_count": null,
   "id": "502a257a",
   "metadata": {},
   "outputs": [],
   "source": [
    "# Solución"
   ]
  },
  {
   "cell_type": "markdown",
   "id": "fa4a47ae",
   "metadata": {},
   "source": [
    "****"
   ]
  },
  {
   "cell_type": "markdown",
   "id": "f0429081",
   "metadata": {},
   "source": [
    "# Question 10 (Control Flow)"
   ]
  },
  {
   "cell_type": "markdown",
   "id": "79479ad4-10fa-4f42-86b9-5b4e82db93ed",
   "metadata": {},
   "source": [
    "The ABC organics company needs a simple program\n",
    "\n",
    "that their call center will use to enter survey data \n",
    "\n",
    "for a new coffee variety.\n",
    "    \n",
    "The program must accept input\n",
    "\n",
    "and return the average rating based on a five-star scale.\n",
    "    \n",
    "The output must be rounded to two decimal places.\n",
    "    \n",
    "You need to complete the code to meet the requirements.\n",
    "\n",
    "```\n",
    "sum = count = done = 0\n",
    "average = 0.0\n",
    " \n",
    "while done != -1:\n",
    "    rating = XXX\n",
    "    if rating == -1:\n",
    "        break\n",
    "    sum += rating\n",
    "    count += 1\n",
    " \n",
    "average = float(sum / count)\n",
    " \n",
    "YYY + ZZZ\n",
    "```\n",
    "What should you insert instead of XXX, YYY and ZZZ?\n",
    "\n",
    "\n",
    "A.\n",
    "```\n",
    "XXX -> float(input('Enter next rating (1-5), -1 for done'))\n",
    "YYY -> print('The average star rating for the new coffe is '\n",
    "ZZZ -> format(average, '.2d'))\n",
    "```\n",
    "B.\n",
    "```\n",
    "XXX -> float(input('Enter next rating (1-5), -1 for done'))\n",
    "YYY -> print('The average star rating for the new coffee is'\n",
    "ZZZ -> format(average, '.2f'))\n",
    "```\n",
    "C.\n",
    "```\n",
    "XXX -> input('Enter next rating (1-5), -1 for done') \n",
    "YYY -> print('The average star rating for the new coffee is: '\n",
    "ZZZ -> format(average, '.2d'))\n",
    "```\n",
    "D. \n",
    "```\n",
    "XXX -> print(input('Enter new rating (1-5), -1 for done')\n",
    "YYY -> print('The average star rating for the new coffee is: '\n",
    "ZZZ -> format(average, '.2f'))\n",
    "```"
   ]
  },
  {
   "cell_type": "markdown",
   "id": "be0a09e1",
   "metadata": {},
   "source": [
    "# Solution 10"
   ]
  },
  {
   "cell_type": "code",
   "execution_count": null,
   "id": "992c9fcc",
   "metadata": {},
   "outputs": [],
   "source": [
    "# Solución"
   ]
  },
  {
   "cell_type": "markdown",
   "id": "ca6b161e",
   "metadata": {},
   "source": [
    "****"
   ]
  },
  {
   "cell_type": "markdown",
   "id": "197f0659",
   "metadata": {},
   "source": [
    "# Question 11 (Data Types) "
   ]
  },
  {
   "cell_type": "markdown",
   "id": "d4453167-c589-4a74-b910-2b32d71791a9",
   "metadata": {},
   "source": [
    "Consider the following code snippet:\n",
    "```\n",
    "w = bool(23)\n",
    "x = bool('')\n",
    "y = bool(' ')\n",
    "z = bool([False])\n",
    "```\n",
    "Which of the variables will contain False?\n",
    "\n",
    "A.``` w```\n",
    "\n",
    "B. ```z```\n",
    "\n",
    "C. ```y```\n",
    "\n",
    "D. ```x```"
   ]
  },
  {
   "cell_type": "markdown",
   "id": "52315fc8",
   "metadata": {},
   "source": [
    "# Solution 11"
   ]
  },
  {
   "cell_type": "code",
   "execution_count": null,
   "id": "6a90ea12",
   "metadata": {},
   "outputs": [],
   "source": [
    "# Solución"
   ]
  },
  {
   "cell_type": "markdown",
   "id": "f5e1ebf3",
   "metadata": {},
   "source": [
    "****"
   ]
  },
  {
   "cell_type": "markdown",
   "id": "d3fcd13f",
   "metadata": {},
   "source": [
    "# Question 12 (Operators)"
   ]
  },
  {
   "cell_type": "markdown",
   "id": "84576f1c-2306-4f9f-9c6a-118b4586c012",
   "metadata": {},
   "source": [
    "What will be the output of the following code snippet?\n",
    "```\n",
    "print(3 / 5)\n",
    "```\n",
    "A. ```0.6```\n",
    "\n",
    "B. ```0```\n",
    "\n",
    "C. ```6/10```\n",
    "\n",
    "D. None of the above"
   ]
  },
  {
   "cell_type": "markdown",
   "id": "e9c6792c",
   "metadata": {},
   "source": [
    "# Solution 12"
   ]
  },
  {
   "cell_type": "code",
   "execution_count": null,
   "id": "9c308b2d",
   "metadata": {},
   "outputs": [],
   "source": [
    "# Solución"
   ]
  },
  {
   "cell_type": "markdown",
   "id": "a86d211f",
   "metadata": {},
   "source": [
    "****"
   ]
  },
  {
   "cell_type": "markdown",
   "id": "2b2c281f",
   "metadata": {},
   "source": [
    "# Question 13 (Data Aggregates)"
   ]
  },
  {
   "cell_type": "markdown",
   "id": "cbe7f799-f3f0-472f-a563-0bfe34ad837a",
   "metadata": {},
   "source": [
    "What is the expected output of the following code?\n",
    "```\n",
    "print(list('hello'))\n",
    "```\n",
    "A. ```[h, e, l, l, o]```\n",
    "\n",
    "B. ```hello```\n",
    "\n",
    "C. ```['h' 'e' 'l' 'l' 'o']```\n",
    "\n",
    "D. None of the above\n",
    "\n",
    "E. ```['h', 'e', 'l', 'l', 'o']```"
   ]
  },
  {
   "cell_type": "markdown",
   "id": "8bd29638",
   "metadata": {},
   "source": [
    "# Solution 13"
   ]
  },
  {
   "cell_type": "code",
   "execution_count": null,
   "id": "a7cc2bc6-bd40-403d-8fc9-c41af69dec39",
   "metadata": {},
   "outputs": [],
   "source": [
    "# Solución"
   ]
  },
  {
   "cell_type": "markdown",
   "id": "ca0be5c8",
   "metadata": {},
   "source": [
    "****"
   ]
  },
  {
   "cell_type": "markdown",
   "id": "dc773ee7",
   "metadata": {},
   "source": [
    "# Question 14 (Basics)"
   ]
  },
  {
   "cell_type": "markdown",
   "id": "1f8dc3a4-93d5-4026-b383-dc7e79c17bcc",
   "metadata": {},
   "source": [
    "Which of the following variable names is illegal?\n",
    "\n",
    "A. In\n",
    "\n",
    "B. in\n",
    "\n",
    "C. IN\n",
    "\n",
    "D. in_"
   ]
  },
  {
   "cell_type": "markdown",
   "id": "23007b9a",
   "metadata": {},
   "source": [
    "# Solution 14"
   ]
  },
  {
   "cell_type": "code",
   "execution_count": null,
   "id": "6d3be34c",
   "metadata": {},
   "outputs": [],
   "source": [
    "# Solución"
   ]
  },
  {
   "cell_type": "markdown",
   "id": "1d3b93ef",
   "metadata": {},
   "source": [
    "****"
   ]
  },
  {
   "cell_type": "markdown",
   "id": "1e9bc75b",
   "metadata": {},
   "source": [
    "# Question 15  (Basics)"
   ]
  },
  {
   "cell_type": "markdown",
   "id": "f35f583e-4e86-42e2-af45-63537dc0d990",
   "metadata": {},
   "source": [
    "What will be the output of the following code snippet?\n",
    "```\n",
    "x = 1\n",
    "y = 2\n",
    "z = x\n",
    "x = y\n",
    "y = z\n",
    "print(x, y)\n",
    "```\n",
    "A. ```1 1```\n",
    "\n",
    "B. ```1 2```\n",
    "\n",
    "C. ```2 2```\n",
    "\n",
    "D. ```2 1```"
   ]
  },
  {
   "cell_type": "markdown",
   "id": "2f270594",
   "metadata": {},
   "source": [
    "# Solution 15"
   ]
  },
  {
   "cell_type": "code",
   "execution_count": null,
   "id": "58e61ded",
   "metadata": {},
   "outputs": [],
   "source": [
    "# Solución"
   ]
  },
  {
   "cell_type": "markdown",
   "id": "94df8865",
   "metadata": {},
   "source": [
    "****"
   ]
  },
  {
   "cell_type": "markdown",
   "id": "5a8bed13",
   "metadata": {},
   "source": [
    "# Question 16 (Control Flow)"
   ]
  },
  {
   "cell_type": "markdown",
   "id": "fd6642de-80d9-45c1-8f30-bbb0b5705e0a",
   "metadata": {},
   "source": [
    "Which of the following for loops would output \n",
    "the below number pattern?\n",
    "```\n",
    "11111\n",
    "22222\n",
    "33333\n",
    "44444\n",
    "55555\n",
    "```\n",
    "A. \n",
    "```\n",
    "for i in range(1, 5):\n",
    "    print(str(i) * 5)\n",
    "```\n",
    "B. \n",
    "```\n",
    "for i in range(1, 6):\n",
    "    print(str(i) * 5)\n",
    "```\n",
    "C.\n",
    "```\n",
    "for i in range(1, 6):\n",
    "    print(i, i, i, i, i)\n",
    "```\n",
    "D.\n",
    "```\n",
    "for i in range(0, 5):\n",
    "    print(str(i) * 5)\n",
    "```"
   ]
  },
  {
   "cell_type": "markdown",
   "id": "8abdf736",
   "metadata": {},
   "source": [
    "# Solution 16"
   ]
  },
  {
   "cell_type": "code",
   "execution_count": null,
   "id": "9b7c38f2",
   "metadata": {},
   "outputs": [],
   "source": [
    "# Solución"
   ]
  },
  {
   "cell_type": "markdown",
   "id": "bd922f22",
   "metadata": {},
   "source": [
    "****"
   ]
  },
  {
   "cell_type": "markdown",
   "id": "b9a414f1",
   "metadata": {},
   "source": [
    "# Question 17 (Functions) "
   ]
  },
  {
   "cell_type": "markdown",
   "id": "a4544ef3-319e-4198-85de-40b69d8a73a8",
   "metadata": {},
   "source": [
    "What is the expected output of the following code?\n",
    "\n",
    "```\n",
    "def func(p1, p2):\n",
    "    p1 = 1\n",
    "    p2[0] = 42\n",
    " \n",
    "x = 3\n",
    "y = [1, 2, 3]\n",
    " \n",
    "func(x, y)\n",
    " \n",
    "print(x, y[0])\n",
    "```\n",
    "A. ```3 42```\n",
    "\n",
    "B. The code is erroneous\n",
    "\n",
    "C. ```1 42```\n",
    "\n",
    "D. ```1 1```\n",
    "\n",
    "E. ```3 1```"
   ]
  },
  {
   "cell_type": "markdown",
   "id": "2e16c95f",
   "metadata": {},
   "source": [
    "# Solution 17"
   ]
  },
  {
   "cell_type": "code",
   "execution_count": null,
   "id": "5f305370",
   "metadata": {},
   "outputs": [],
   "source": [
    "# Solución"
   ]
  },
  {
   "cell_type": "markdown",
   "id": "f531c7f3",
   "metadata": {},
   "source": [
    "****"
   ]
  },
  {
   "cell_type": "markdown",
   "id": "8981e910",
   "metadata": {},
   "source": [
    "# Question 18 (Basics)"
   ]
  },
  {
   "cell_type": "markdown",
   "id": "097cf7de-9516-44a6-aa64-ed8ff8a7a2a1",
   "metadata": {},
   "source": [
    "What is the expected output of the following code?\n",
    "```\n",
    "x = '\\''\n",
    "print(len(x))\n",
    "```\n",
    "A. ```1```\n",
    "\n",
    "B. ```0```\n",
    "\n",
    "C. The code is erroneous\n",
    "\n",
    "D. ```2```"
   ]
  },
  {
   "cell_type": "markdown",
   "id": "ab6d6615",
   "metadata": {},
   "source": [
    "# Solution 18"
   ]
  },
  {
   "cell_type": "code",
   "execution_count": null,
   "id": "4e6bfeba",
   "metadata": {},
   "outputs": [],
   "source": [
    "# Solución"
   ]
  },
  {
   "cell_type": "markdown",
   "id": "c3dc75d9",
   "metadata": {},
   "source": [
    "****"
   ]
  },
  {
   "cell_type": "markdown",
   "id": "49959452",
   "metadata": {},
   "source": [
    "# Question 19 (Functions)"
   ]
  },
  {
   "cell_type": "markdown",
   "id": "f9c410b5-f5c9-4be1-9351-d30e24aaf718",
   "metadata": {},
   "source": [
    "Which of the following lines correctly invoke the function defined below:\n",
    "```\n",
    "def fun(a, b, c=0):\n",
    "    Body of the function.\n",
    "```\n",
    "(Select two answers)\n",
    "\n",
    "\n",
    "\n",
    "A. ```fun(b=0, a=0)```\n",
    "\n",
    "B. ```fun()```\n",
    "\n",
    "C. ```fun(0, 1, 2)```\n",
    "\n",
    "D. ```fun(b=1)```"
   ]
  },
  {
   "cell_type": "markdown",
   "id": "9d470fa8",
   "metadata": {},
   "source": [
    "# Solution 19"
   ]
  },
  {
   "cell_type": "code",
   "execution_count": null,
   "id": "3b1a9bb3",
   "metadata": {},
   "outputs": [],
   "source": [
    "# Solución"
   ]
  },
  {
   "cell_type": "markdown",
   "id": "708cb079",
   "metadata": {},
   "source": [
    "****"
   ]
  },
  {
   "cell_type": "markdown",
   "id": "94ca9936",
   "metadata": {},
   "source": [
    "# Question 20 (Operators)"
   ]
  },
  {
   "cell_type": "markdown",
   "id": "df6c09f9-22a9-4fc4-81f9-bf4a2bdee786",
   "metadata": {},
   "source": [
    "What is the expected output of the following code?\n",
    "```\n",
    "x = 1 // 5 + 1 / 5\n",
    "\n",
    "print(x)\n",
    "```\n",
    "A. ```0.4```\n",
    "\n",
    "B. ```0.0```\n",
    "\n",
    "C. ```0```\n",
    "\n",
    "D. ```0.2```"
   ]
  },
  {
   "cell_type": "markdown",
   "id": "94ddddd0",
   "metadata": {},
   "source": [
    "# Solution 20"
   ]
  },
  {
   "cell_type": "code",
   "execution_count": null,
   "id": "68b9f70a",
   "metadata": {},
   "outputs": [],
   "source": [
    "# Solución"
   ]
  },
  {
   "cell_type": "markdown",
   "id": "31223373",
   "metadata": {},
   "source": [
    "****"
   ]
  },
  {
   "cell_type": "markdown",
   "id": "fbb38d6e",
   "metadata": {},
   "source": [
    "# Question 21  (Operators)"
   ]
  },
  {
   "cell_type": "markdown",
   "id": "64afb622-0e34-40b7-a139-f9401c60cf0f",
   "metadata": {},
   "source": [
    "The result of the following addition:\n",
    "```\n",
    "123 + 0.0\n",
    "```\n",
    "A. is equal to ```123.0```\n",
    "\n",
    "B. is equal to ```123```\n",
    "\n",
    "C. cannot be evaluated"
   ]
  },
  {
   "cell_type": "markdown",
   "id": "4b0bf578",
   "metadata": {},
   "source": [
    "# Solution 21"
   ]
  },
  {
   "cell_type": "code",
   "execution_count": null,
   "id": "43f4489f",
   "metadata": {},
   "outputs": [],
   "source": [
    "# Solución"
   ]
  },
  {
   "cell_type": "markdown",
   "id": "7b9f2fcd",
   "metadata": {},
   "source": [
    "****"
   ]
  },
  {
   "cell_type": "markdown",
   "id": "4ee69cef",
   "metadata": {},
   "source": [
    "# Question 22 (Data Types)"
   ]
  },
  {
   "cell_type": "markdown",
   "id": "f9a27887-6eea-485b-8d81-4cb66b4e59b6",
   "metadata": {},
   "source": [
    "What is the expected output of the following code \n",
    "if the user enters 2 and 4?\n",
    "```\n",
    "x = input()\n",
    "y = input()\n",
    "print(x + y)\n",
    "```\n",
    "\n",
    "A. ```6```\n",
    "\n",
    "B. ```24```\n",
    "\n",
    "C. ```4```\n",
    "\n",
    "D. ```2```"
   ]
  },
  {
   "cell_type": "markdown",
   "id": "0f0875c6",
   "metadata": {},
   "source": [
    "# Solution 22"
   ]
  },
  {
   "cell_type": "code",
   "execution_count": null,
   "id": "3c33a071",
   "metadata": {},
   "outputs": [],
   "source": [
    "# Solución"
   ]
  },
  {
   "cell_type": "markdown",
   "id": "2ac00e0a",
   "metadata": {},
   "source": [
    "****"
   ]
  },
  {
   "cell_type": "markdown",
   "id": "3dd40be4",
   "metadata": {},
   "source": [
    "# Question 23 (Control Flow)"
   ]
  },
  {
   "cell_type": "markdown",
   "id": "409ae644-b8c8-4af7-b66f-530f26640465",
   "metadata": {},
   "source": [
    "How many stars will the following snippet print to the monitor?\n",
    "```\n",
    "i = 4\n",
    "while i > 0:\n",
    "    i -= 2\n",
    "    print('*')\n",
    "    if i == 2:\n",
    "        break\n",
    "else:\n",
    " \n",
    "    print('*')\n",
    "```  \n",
    "A. ```1```\n",
    "\n",
    "B. ```2```\n",
    "\n",
    "C. ```0```\n",
    "\n",
    "D. The snippet will enter an infinite loop"
   ]
  },
  {
   "cell_type": "markdown",
   "id": "19c85aef",
   "metadata": {},
   "source": [
    "# Solution 23"
   ]
  },
  {
   "cell_type": "code",
   "execution_count": null,
   "id": "b726f69c",
   "metadata": {},
   "outputs": [],
   "source": [
    "# Solución"
   ]
  },
  {
   "cell_type": "markdown",
   "id": "d2fb3ded",
   "metadata": {},
   "source": [
    "****"
   ]
  },
  {
   "cell_type": "markdown",
   "id": "721a28e8",
   "metadata": {},
   "source": [
    "# Question 24 (Data Types)"
   ]
  },
  {
   "cell_type": "markdown",
   "id": "0e3cb913-e0e9-44d7-98fd-30038944e308",
   "metadata": {},
   "source": [
    "What is the expected output of the following code?\n",
    "```\n",
    "print(float('1.3'))\n",
    "```\n",
    "\n",
    "A. ```1,3```\n",
    "\n",
    "B. ```1.3```\n",
    "\n",
    "C. ```13```\n",
    "\n",
    "D. The code is erroneous"
   ]
  },
  {
   "cell_type": "markdown",
   "id": "be1c5377",
   "metadata": {},
   "source": [
    "# Solution 24"
   ]
  },
  {
   "cell_type": "code",
   "execution_count": null,
   "id": "00aa8cd4",
   "metadata": {},
   "outputs": [],
   "source": [
    "# Solución"
   ]
  },
  {
   "cell_type": "markdown",
   "id": "c15896cb",
   "metadata": {},
   "source": [
    "****"
   ]
  },
  {
   "cell_type": "markdown",
   "id": "38d12fe5",
   "metadata": {},
   "source": [
    "# Question 25 (Error Handling)"
   ]
  },
  {
   "cell_type": "markdown",
   "id": "a100a6f5-4fbd-4e97-95a0-c81b3cbffd55",
   "metadata": {},
   "source": [
    "What is the output of the following program\n",
    "if the user enters kangaroo at the first prompt\n",
    "and 0 at the second prompt?\n",
    "\n",
    "\n",
    "```\n",
    "try:\n",
    "    first_prompt = input(\"Enter the first value: \")\n",
    "    a = len(first_prompt)   \n",
    "    second_prompt = input(\"Enter the second value: \")\n",
    "    b = len(second_prompt) * 2\n",
    "    print(a/b)\n",
    "except ZeroDivisionError:\n",
    "    print(\"Do not divide by zero!\")\n",
    "except ValueError:\n",
    "    print(\"Wrong value.\")\n",
    "except:\n",
    "    print(\"Error.Error.Error.\")\n",
    "```   \n",
    "    \n",
    "A. ```Error. Error. Error```\n",
    "\n",
    "B. ```Do not divide by zero!```\n",
    "\n",
    "C. ```Wrong value```\n",
    "\n",
    "D. ```4.0```"
   ]
  },
  {
   "cell_type": "markdown",
   "id": "08c16214",
   "metadata": {},
   "source": [
    "# Solution 25"
   ]
  },
  {
   "cell_type": "code",
   "execution_count": null,
   "id": "95effb45",
   "metadata": {},
   "outputs": [],
   "source": [
    "# Solución"
   ]
  },
  {
   "cell_type": "markdown",
   "id": "f787d5f6",
   "metadata": {},
   "source": [
    "****"
   ]
  },
  {
   "cell_type": "markdown",
   "id": "8e993311",
   "metadata": {},
   "source": [
    "# Question 26  (Data Aggregates)"
   ]
  },
  {
   "cell_type": "markdown",
   "id": "594dc10d-d9c2-4ff7-9eaf-0653f4944ce7",
   "metadata": {},
   "source": [
    "What is the expected output of the following code?\n",
    "\n",
    "```\n",
    "data = [[0, 1, 2, 3] for i in range(2)]\n",
    "print(data[2][0])\n",
    "```\n",
    "A. ```2```\n",
    "\n",
    "B. ```1```\n",
    "\n",
    "C. ```0```\n",
    "\n",
    "D. The code is erroneous"
   ]
  },
  {
   "cell_type": "markdown",
   "id": "8bea7497",
   "metadata": {},
   "source": [
    "# Solution 26"
   ]
  },
  {
   "cell_type": "code",
   "execution_count": null,
   "id": "5ee2cd78",
   "metadata": {},
   "outputs": [],
   "source": [
    "# Solución"
   ]
  },
  {
   "cell_type": "markdown",
   "id": "0964bf99",
   "metadata": {},
   "source": [
    "****"
   ]
  },
  {
   "cell_type": "markdown",
   "id": "ce86a42e",
   "metadata": {},
   "source": [
    "# Question 27  (Operators)"
   ]
  },
  {
   "cell_type": "markdown",
   "id": "c9528807-73c4-444a-8a89-ea6c69fc85bd",
   "metadata": {},
   "source": [
    "What is the expected output of the following code?\n",
    "\n",
    "```\n",
    "x = 9\n",
    "y = 12\n",
    "result = x // 2 * 2 / 2 + y % 2 ** 3\n",
    "print(result)\n",
    "```\n",
    "\n",
    "A. ```8```\n",
    "\n",
    "B. ```7.0```\n",
    "\n",
    "C. ```8.0```\n",
    "\n",
    "D. ```9.0```"
   ]
  },
  {
   "cell_type": "markdown",
   "id": "3ce294c5",
   "metadata": {},
   "source": [
    "# Solution 27"
   ]
  },
  {
   "cell_type": "code",
   "execution_count": null,
   "id": "afbe3caf",
   "metadata": {},
   "outputs": [],
   "source": [
    "# Solución"
   ]
  },
  {
   "cell_type": "markdown",
   "id": "7c38cd18",
   "metadata": {},
   "source": [
    "****"
   ]
  },
  {
   "cell_type": "markdown",
   "id": "1c30a86e",
   "metadata": {},
   "source": [
    "# Question 28  (Functions)"
   ]
  },
  {
   "cell_type": "markdown",
   "id": "13e4519a-e787-467e-8f63-bc4769e11d06",
   "metadata": {},
   "source": [
    "What is the expected output of the following code?\n",
    "\n",
    "```\n",
    "def func(message, num=1):\n",
    "    print(message * num)\n",
    " \n",
    "func('Hello')\n",
    "func('Welcome', 3)\n",
    "```\n",
    "\n",
    "A.\n",
    "```\n",
    "Hello \n",
    "Viewers\n",
    "```\n",
    "B.\n",
    "```\n",
    "Hello\n",
    "Welcome Welcome Welcome\n",
    "```\n",
    "C.\n",
    "```\n",
    "Hello\n",
    "```\n",
    "D.\n",
    "```\n",
    "Hello\n",
    "Welcome, Welcome, Welcome\n",
    "```\n",
    "E.\n",
    "```\n",
    "Hello\n",
    "WelcomeWelcomeWelcome\n",
    "```"
   ]
  },
  {
   "cell_type": "markdown",
   "id": "52d20b17",
   "metadata": {},
   "source": [
    "# Solution 28"
   ]
  },
  {
   "cell_type": "code",
   "execution_count": null,
   "id": "f06169fa",
   "metadata": {},
   "outputs": [],
   "source": [
    "# Solución"
   ]
  },
  {
   "cell_type": "markdown",
   "id": "ab58950f",
   "metadata": {},
   "source": [
    "****"
   ]
  },
  {
   "cell_type": "markdown",
   "id": "4e940c05",
   "metadata": {},
   "source": [
    "# Question 29  (Operators)"
   ]
  },
  {
   "cell_type": "markdown",
   "id": "9e24a75c-ef66-49b5-a711-cdd91841a22d",
   "metadata": {},
   "source": [
    "What value will be assigned to the x variable?\n",
    "```\n",
    "z = 3\n",
    "y = 7\n",
    "x = y == z and y > z or z > y and z != y\n",
    "```\n",
    "A. ```0```\n",
    "\n",
    "B. ```1```\n",
    "\n",
    "C. ```False```\n",
    "\n",
    "D. ```True```"
   ]
  },
  {
   "cell_type": "markdown",
   "id": "730918f9",
   "metadata": {},
   "source": [
    "# Solution 29"
   ]
  },
  {
   "cell_type": "code",
   "execution_count": null,
   "id": "3541dffb",
   "metadata": {},
   "outputs": [],
   "source": [
    "# Solución"
   ]
  },
  {
   "cell_type": "markdown",
   "id": "4ceb6cf8",
   "metadata": {},
   "source": [
    "****"
   ]
  },
  {
   "cell_type": "markdown",
   "id": "dc7d6919",
   "metadata": {},
   "source": [
    "# Question 30  (Data Types)"
   ]
  },
  {
   "cell_type": "markdown",
   "id": "36621b0a-c2d2-4054-ad0f-3b2ba84ef20d",
   "metadata": {},
   "source": [
    "What is the expected output of the following code \n",
    "if the user enters 11 and 4 ?\n",
    "\n",
    "```\n",
    "x = int(input())\n",
    "y = int(input())\n",
    "x = x % y\n",
    "x = x % y\n",
    "y = y % x\n",
    "print(y)\n",
    "```\n",
    "\n",
    "A. ```1```\n",
    "\n",
    "B. ```2```\n",
    "\n",
    "C. ```3```\n",
    "\n",
    "D. ```4```"
   ]
  },
  {
   "cell_type": "markdown",
   "id": "4cf29a0c",
   "metadata": {},
   "source": [
    "# Solution 30"
   ]
  },
  {
   "cell_type": "code",
   "execution_count": null,
   "id": "978c621f",
   "metadata": {},
   "outputs": [],
   "source": [
    "# Solución"
   ]
  },
  {
   "cell_type": "markdown",
   "id": "fc8e0c01",
   "metadata": {},
   "source": [
    "****"
   ]
  },
  {
   "cell_type": "markdown",
   "id": "b6682ac8",
   "metadata": {},
   "source": [
    "*Gracias por la atención*\n",
    "\n",
    "*Isabel Maniega*"
   ]
  }
 ],
 "metadata": {
  "kernelspec": {
   "display_name": "Python 3 (ipykernel)",
   "language": "python",
   "name": "python3"
  },
  "language_info": {
   "codemirror_mode": {
    "name": "ipython",
    "version": 3
   },
   "file_extension": ".py",
   "mimetype": "text/x-python",
   "name": "python",
   "nbconvert_exporter": "python",
   "pygments_lexer": "ipython3",
   "version": "3.8.19"
  }
 },
 "nbformat": 4,
 "nbformat_minor": 5
}

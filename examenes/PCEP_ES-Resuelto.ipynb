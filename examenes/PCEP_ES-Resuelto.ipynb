{
 "cells": [
  {
   "cell_type": "markdown",
   "id": "9b022c3c-631a-4060-a858-8547c2499624",
   "metadata": {},
   "source": [
    "*Creado por:*\n",
    "\n",
    "*Isabel Maniega*"
   ]
  },
  {
   "cell_type": "markdown",
   "id": "c3913b07-1b47-46e6-9a5e-9d9c29ef4e1b",
   "metadata": {},
   "source": [
    "****"
   ]
  },
  {
   "cell_type": "markdown",
   "id": "aab1a1df-4226-481f-ae99-ad99db05ad24",
   "metadata": {},
   "source": [
    "# Question 1"
   ]
  },
  {
   "cell_type": "markdown",
   "id": "c03fc663-2c46-4ee2-aa6b-e4d05b2eddd5",
   "metadata": {},
   "source": [
    "¿ Cuántos (#) enviará el siguiente fragmento a la consola?\n",
    "```\n",
    "var = 1\n",
    "\n",
    "while var <10:\n",
    "   print('#')\n",
    "   var = var << 1\n",
    "```\n",
    "A. ```uno```\n",
    "\n",
    "B. ```ocho```\n",
    "\n",
    "C. ```dos```\n",
    "\n",
    "D. ```cuatro```"
   ]
  },
  {
   "cell_type": "markdown",
   "id": "ecbfc5f4-592d-47f3-9602-4a077da4b976",
   "metadata": {},
   "source": [
    "# Solución 1"
   ]
  },
  {
   "cell_type": "code",
   "execution_count": 1,
   "id": "44c323fb-d818-436b-b698-134af07919c9",
   "metadata": {},
   "outputs": [
    {
     "name": "stdout",
     "output_type": "stream",
     "text": [
      "#\n",
      "#\n",
      "#\n",
      "#\n"
     ]
    }
   ],
   "source": [
    "var = 1\n",
    "while var < 10:\n",
    "    print('#')\n",
    "    var = var << 1 \n",
    "    # var = 1 --> var * 2 **1 --> 1 * 2 ** 1 --> 2 --> #\n",
    "    # var = 2 --> var * 2 **1 --> 2 * 2 ** 1 --> 4 --> #\n",
    "    # var = 4 --> var * 2 **1 --> 4 * 2 ** 1 --> 8 --> #\n",
    "    # var = 8 --> var * 2 **1 --> 8 * 2 ** 1 --> 16 --> # --> No sigue el bucle!!\n"
   ]
  },
  {
   "cell_type": "code",
   "execution_count": 2,
   "id": "7e20107d-89f2-4a9b-8503-829a9acfd83c",
   "metadata": {},
   "outputs": [],
   "source": [
    "# Solución\n",
    "# D"
   ]
  },
  {
   "cell_type": "markdown",
   "id": "f730e764-4600-4fe5-9d93-984db9dc0d4a",
   "metadata": {},
   "source": [
    "****"
   ]
  },
  {
   "cell_type": "markdown",
   "id": "131d7dfb-c8ff-43d2-90df-8de5c5a0f955",
   "metadata": {},
   "source": [
    "# Question 2"
   ]
  },
  {
   "cell_type": "markdown",
   "id": "f00a6e42-911c-4e18-ba46-ee045a72068b",
   "metadata": {},
   "source": [
    "¿Cuál es la salida del siguiente fragmento de código?\n",
    "```\n",
    "t = [[3-i for i in range(3)] for j in range(3)]\n",
    "s = 0\n",
    "for i in range(3):\n",
    "  s += t[i][i]\n",
    "print(s)\n",
    "```\n",
    "A. ```02```\n",
    "\n",
    "B. ```7```\n",
    "\n",
    "C. ```4```\n",
    "\n",
    "D. ```6```"
   ]
  },
  {
   "cell_type": "markdown",
   "id": "f447c234-32e5-4af5-b50e-d24b6b97388d",
   "metadata": {},
   "source": [
    "# Solución 2"
   ]
  },
  {
   "cell_type": "code",
   "execution_count": 3,
   "id": "a596c060-c011-4a2c-8177-5b0acadc415c",
   "metadata": {},
   "outputs": [
    {
     "name": "stdout",
     "output_type": "stream",
     "text": [
      "6\n"
     ]
    }
   ],
   "source": [
    "t = [[3-i for i in range(3)] for i in range(3)] # [[3,2,1], [3,2,1], [3,2,1]]\n",
    "s = 0\n",
    "for i in range(3):\n",
    "    s += t[i][i]\n",
    "    # 0 --> t[0][0] = 3\n",
    "    # 1 --> t[1][1] = 2\n",
    "    # 2 --> t[2][2] = 1\n",
    "    # 3 + 2 + 1 = 6\n",
    "print(s)"
   ]
  },
  {
   "cell_type": "code",
   "execution_count": 4,
   "id": "cbb64fa9-1c2f-404b-9f44-b196eeba1ce2",
   "metadata": {},
   "outputs": [],
   "source": [
    "# Solución\n",
    "# D"
   ]
  },
  {
   "cell_type": "markdown",
   "id": "cdc4bb24-166a-4e04-b67b-54ae3c20bfc2",
   "metadata": {},
   "source": [
    "****"
   ]
  },
  {
   "cell_type": "markdown",
   "id": "f5306952-d29d-40c0-b12e-1a37fe82d199",
   "metadata": {},
   "source": [
    "# Question 3"
   ]
  },
  {
   "cell_type": "markdown",
   "id": "37d26923-48e0-4f52-8738-b77ac5bc63c5",
   "metadata": {},
   "source": [
    "¿Cuál es la salida del siguiente fragmento de código?\n",
    "```\n",
    "a = 1\n",
    "b = 0\n",
    "c = a & b\n",
    "d = a | b\n",
    "e = a ^ b\n",
    "print(c + d + e)\n",
    "```\n",
    "A. ```1```\n",
    "\n",
    "B. ```3```\n",
    "\n",
    "C. ```2```\n",
    "\n",
    "D. ```0```"
   ]
  },
  {
   "cell_type": "markdown",
   "id": "49df2bc9-9eb1-4b9a-bd58-7d4791c3d706",
   "metadata": {},
   "source": [
    "# Solución 3"
   ]
  },
  {
   "cell_type": "code",
   "execution_count": 5,
   "id": "dc54ce24-1a85-4762-906b-78ec1a08062c",
   "metadata": {},
   "outputs": [
    {
     "name": "stdout",
     "output_type": "stream",
     "text": [
      "2\n"
     ]
    }
   ],
   "source": [
    "a = 1\n",
    "b = 0\n",
    "c = a & b # 1 & 0 = 0\n",
    "d = a | b # 1 | 0 = 1\n",
    "e = a ^ b # 1 ^ 0 = 1\n",
    "\n",
    "# Resultado : 0 + 1 + 1 = 2\n",
    "print(c + d + e)"
   ]
  },
  {
   "cell_type": "code",
   "execution_count": 6,
   "id": "f6a9b071-234c-4c33-a24a-55030cabef11",
   "metadata": {},
   "outputs": [],
   "source": [
    "# Solución\n",
    "# C"
   ]
  },
  {
   "cell_type": "markdown",
   "id": "2bbb3e5c-3c9a-4c78-a323-1a7e31228a26",
   "metadata": {},
   "source": [
    "****"
   ]
  },
  {
   "cell_type": "markdown",
   "id": "4fe3e2b5-e258-4ecd-9972-53dc40219393",
   "metadata": {},
   "source": [
    "# Question 4"
   ]
  },
  {
   "cell_type": "markdown",
   "id": "1862259d-5e30-4529-99de-08e0b93e0e10",
   "metadata": {},
   "source": [
    "¿Cuál es la salida del siguiente fragmento de código?\n",
    "```\n",
    "my_list = [1, 2, 3, 4]\n",
    "print(my_list[-3:-2])\n",
    "```\n",
    "A. ```[2, 3]```\n",
    "\n",
    "B. ```[2, 3, 4]```\n",
    "\n",
    "C. ```[2]```\n",
    "\n",
    "D. ```[]```"
   ]
  },
  {
   "cell_type": "markdown",
   "id": "79d8afb3-ae09-4011-822c-606a6a58a500",
   "metadata": {},
   "source": [
    "# Solución 4"
   ]
  },
  {
   "cell_type": "code",
   "execution_count": 7,
   "id": "ea021302-7daf-4f92-88fa-df21885b1a05",
   "metadata": {},
   "outputs": [
    {
     "name": "stdout",
     "output_type": "stream",
     "text": [
      "[2]\n"
     ]
    }
   ],
   "source": [
    "my_list = [1, 2, 3, 4]\n",
    "print(my_list[-3:-2])"
   ]
  },
  {
   "cell_type": "code",
   "execution_count": 8,
   "id": "3aef09bc-6e89-4df8-bb83-f41b8ad7e803",
   "metadata": {},
   "outputs": [],
   "source": [
    "# Solución\n",
    "# C"
   ]
  },
  {
   "cell_type": "markdown",
   "id": "827408b1-6214-4242-b514-2c3fc2cdf79b",
   "metadata": {},
   "source": [
    "****"
   ]
  },
  {
   "cell_type": "markdown",
   "id": "4c40f3d9-86b6-473f-a575-5b6a18574d54",
   "metadata": {},
   "source": [
    "# Question 5"
   ]
  },
  {
   "cell_type": "markdown",
   "id": "7e809d2b-ce52-4df3-b20b-6aac4894b9f5",
   "metadata": {},
   "source": [
    "¿Cuáles de los siguientes enunciados son verdaderos? \n",
    "\n",
    "Selecciona DOS respuestas\n",
    "```\n",
    "nums = [1, 2, 3, 4]\n",
    "vals = nums[-1:-2]\n",
    "```\n",
    "A. vals es más larga que nums\n",
    "\n",
    "B. nums es más larga que vals\n",
    "\n",
    "C. nums y vals son de la misma longitud\n",
    "\n",
    "D. nums y vals son dos listas diferentes"
   ]
  },
  {
   "cell_type": "markdown",
   "id": "3e7e3e9e-efe8-430e-a927-f377f7b2faf1",
   "metadata": {},
   "source": [
    "# Solución 5"
   ]
  },
  {
   "cell_type": "code",
   "execution_count": 9,
   "id": "2e443af1-0ba3-4503-a716-28ea6c315f20",
   "metadata": {},
   "outputs": [
    {
     "name": "stdout",
     "output_type": "stream",
     "text": [
      "nums:  [1, 2, 3, 4]\n",
      "vals:  []\n"
     ]
    }
   ],
   "source": [
    "nums = [1, 2, 3, 4]\n",
    "vals = nums[-1:-2]\n",
    "print('nums: ', nums)\n",
    "print('vals: ', vals)"
   ]
  },
  {
   "cell_type": "code",
   "execution_count": 10,
   "id": "b464a4ef-196c-427b-8dbe-e9aa2acea90f",
   "metadata": {},
   "outputs": [],
   "source": [
    "# Solución\n",
    "# B, D"
   ]
  },
  {
   "cell_type": "markdown",
   "id": "2ec59a3e-5978-4a85-831e-cb46e912ee5b",
   "metadata": {},
   "source": [
    "****"
   ]
  },
  {
   "cell_type": "markdown",
   "id": "0f24bda6-4c00-4c75-9c23-66271a7baadc",
   "metadata": {},
   "source": [
    "# Question 6"
   ]
  },
  {
   "cell_type": "markdown",
   "id": "e7b9cc9a-025b-4fff-9d0f-e5699af8f6da",
   "metadata": {},
   "source": [
    "¿ Cuántos (#) enviará el siguiente fragmento a la consola?\n",
    "```\n",
    "var = 0\n",
    "while var < 6:\n",
    "    var += 1\n",
    "    if var % 2 == 0:\n",
    "      continue\n",
    "    print('#')\n",
    "```\n",
    "A. ```tres```\n",
    "\n",
    "B. ```dos```\n",
    "\n",
    "C. ```uno```\n",
    "\n",
    "D. ```cero```"
   ]
  },
  {
   "cell_type": "markdown",
   "id": "b3fc9d69-97f5-4222-9d97-f4f070749254",
   "metadata": {},
   "source": [
    "# Solución 6"
   ]
  },
  {
   "cell_type": "code",
   "execution_count": 11,
   "id": "d7a2bdbd-6b2b-408d-9edb-1251a75e2790",
   "metadata": {},
   "outputs": [
    {
     "name": "stdout",
     "output_type": "stream",
     "text": [
      "Variable:  1\n",
      "imprimo # con variable:  1\n",
      "#\n",
      "Variable:  2\n",
      "Resto 0:  2 continua\n",
      "Variable:  3\n",
      "imprimo # con variable:  3\n",
      "#\n",
      "Variable:  4\n",
      "Resto 0:  4 continua\n",
      "Variable:  5\n",
      "imprimo # con variable:  5\n",
      "#\n",
      "Variable:  6\n",
      "Resto 0:  6 continua\n"
     ]
    }
   ],
   "source": [
    "var = 0\n",
    "while var < 6:\n",
    "    var += 1\n",
    "    print(\"Variable: \", var)\n",
    "    if var % 2 == 0:\n",
    "        print(\"Resto 0: \", var, \"continua\")\n",
    "        continue\n",
    "    print('imprimo # con variable: ', var)\n",
    "    print('#')"
   ]
  },
  {
   "cell_type": "code",
   "execution_count": 12,
   "id": "4bc5ad33-3275-4e34-8d0d-6329bfc2dba4",
   "metadata": {},
   "outputs": [],
   "source": [
    "# Solución\n",
    "# A"
   ]
  },
  {
   "cell_type": "markdown",
   "id": "440a614b-cecd-4cc7-bc0b-a4bf810aaf03",
   "metadata": {},
   "source": [
    "****"
   ]
  },
  {
   "cell_type": "markdown",
   "id": "4c71f33b-caf9-49b5-b606-2e3715d0e4f4",
   "metadata": {},
   "source": [
    "# Question 7"
   ]
  },
  {
   "cell_type": "markdown",
   "id": "e4e15a85-2a36-4b2e-ae70-fa3607625ca9",
   "metadata": {},
   "source": [
    "Observa el código, y selecciona las sentencias verdaderas:\n",
    "\n",
    "Selecciona DOS respuestas\n",
    "```\n",
    "nums = [1, 2, 3]\n",
    "vals = nums\n",
    "del vals[1:2]\n",
    "```\n",
    "A. nums es más larga que vals\n",
    "\n",
    "B. nums y vals se refieren a la misma lista\n",
    "\n",
    "C. nums y vals son de la misma longitud\n",
    "\n",
    "D. nums es replicada y asignada a vals"
   ]
  },
  {
   "cell_type": "markdown",
   "id": "c573f887-1d42-4cd2-887c-69e44b6b8817",
   "metadata": {},
   "source": [
    "# Solución 7"
   ]
  },
  {
   "cell_type": "code",
   "execution_count": 13,
   "id": "536b6eef-51d1-49c0-8d77-4ae3f37acb15",
   "metadata": {},
   "outputs": [
    {
     "name": "stdout",
     "output_type": "stream",
     "text": [
      "nums:  [1, 3]\n",
      "vals:  [1, 3]\n"
     ]
    }
   ],
   "source": [
    "nums = [1, 2, 3]\n",
    "vals = nums\n",
    "del vals[1:2]\n",
    "\n",
    "print('nums: ', nums)\n",
    "print('vals: ', vals)"
   ]
  },
  {
   "cell_type": "code",
   "execution_count": 14,
   "id": "f916f233-5b9d-442b-9eec-ec584d947e23",
   "metadata": {},
   "outputs": [],
   "source": [
    "# Solución\n",
    "# B, C"
   ]
  },
  {
   "cell_type": "markdown",
   "id": "c82defe8-d107-4476-b859-dbd2cf54f604",
   "metadata": {},
   "source": [
    "****"
   ]
  },
  {
   "cell_type": "markdown",
   "id": "7104d570-c403-4f30-92bb-524569946d66",
   "metadata": {},
   "source": [
    "# Question 8"
   ]
  },
  {
   "cell_type": "markdown",
   "id": "e0da56e9-074b-401a-a650-3249ac743ad4",
   "metadata": {},
   "source": [
    "¿Qué es IDLE?\n",
    "\n",
    "A. Es una versión de Python\n",
    "\n",
    "B. Es un acrónimo que significa \"Desarrollo Integrado y Entorno de Apendizaje\" para Python\n",
    "\n",
    "C. Es un acrónimo que significa \"Desarrollo Interactivo y Extensión de Aprendizaje\""
   ]
  },
  {
   "cell_type": "markdown",
   "id": "162a8f19-10dd-4595-8e71-cdd4234850d4",
   "metadata": {},
   "source": [
    "# Solución 8"
   ]
  },
  {
   "cell_type": "markdown",
   "id": "bccb9987-e93d-482d-8fd6-d4ff124ab24d",
   "metadata": {},
   "source": [
    "https://es.wikipedia.org/wiki/IDLE\n",
    "\n",
    "**IDLE** (abreviatura de Integrated Development and Learning Environment, en español: «Entorno de desarrollo y aprendizaje integrado») es un entorno de desarrollo integrado para Python"
   ]
  },
  {
   "cell_type": "code",
   "execution_count": 15,
   "id": "a922bca8-7cb6-46df-8c85-e2e7034c4a98",
   "metadata": {},
   "outputs": [],
   "source": [
    "# Solución\n",
    "# B"
   ]
  },
  {
   "cell_type": "markdown",
   "id": "c1c78867-b0e6-473c-975c-457ae739e4bb",
   "metadata": {},
   "source": [
    "****"
   ]
  },
  {
   "cell_type": "markdown",
   "id": "d1a6446d-0424-4446-b300-0d7f910019c4",
   "metadata": {},
   "source": [
    "# Question 9"
   ]
  },
  {
   "cell_type": "markdown",
   "id": "88ad961c-7d4b-40ff-81cd-221be0969ecd",
   "metadata": {},
   "source": [
    "¿Qué es CPython?\n",
    "\n",
    "A. Un lenguaje compilado utilizado para realizar funciones de programación de alto nivel\n",
    "\n",
    "B. Es otro nombre para Cython, un superconjunto del lenguaje de programación Python\n",
    "\n",
    "C. La implementación por defecto del lenguaje de programación Python"
   ]
  },
  {
   "cell_type": "markdown",
   "id": "8a30ca39-1317-43fa-9027-1855f0eee6de",
   "metadata": {},
   "source": [
    "# Solución 9"
   ]
  },
  {
   "cell_type": "markdown",
   "id": "203e38df-c761-4065-9834-bfaa21da72ab",
   "metadata": {},
   "source": [
    "https://es.wikipedia.org/wiki/CPython\n",
    "\n",
    "**CPython** es la implementación oficial y más ampliamente utilizada del lenguaje de programación Python. Está escrita en C."
   ]
  },
  {
   "cell_type": "code",
   "execution_count": 16,
   "id": "1819bd14-0065-489e-b639-c06dc144bfac",
   "metadata": {},
   "outputs": [],
   "source": [
    "# Solución\n",
    "# C"
   ]
  },
  {
   "cell_type": "markdown",
   "id": "99fa89b2-0591-4098-bc26-25d6ebace3b9",
   "metadata": {},
   "source": [
    "****"
   ]
  },
  {
   "cell_type": "markdown",
   "id": "ee6d1d93-ef19-464a-9e14-9ebb3a3e2eef",
   "metadata": {},
   "source": [
    "# Question 10"
   ]
  },
  {
   "cell_type": "markdown",
   "id": "4fdfff6c-1522-4de6-b5d5-4f6e332e1858",
   "metadata": {},
   "source": [
    "¿Cómo llamas a una herramienta que te permite correr tu código paso a paso e inspeccionarlo en cada momento de la ejecución?\n",
    "\n",
    "A. Un depurador\n",
    "\n",
    "B. Un editor\n",
    "\n",
    "C. Una consola"
   ]
  },
  {
   "cell_type": "markdown",
   "id": "83cb5919-b7ff-4e45-a4ce-36c485841e2e",
   "metadata": {},
   "source": [
    "# Solución 10"
   ]
  },
  {
   "cell_type": "code",
   "execution_count": null,
   "id": "1ba4f290-235e-4e97-9be1-d08f9bc9cf43",
   "metadata": {},
   "outputs": [],
   "source": [
    "# Solución\n",
    "# A"
   ]
  },
  {
   "cell_type": "markdown",
   "id": "384496c5-c8f7-4d9a-b159-125f069ffe65",
   "metadata": {},
   "source": [
    "****"
   ]
  },
  {
   "cell_type": "markdown",
   "id": "46d2a16b-f2eb-4dd5-9de3-d10ed200a824",
   "metadata": {},
   "source": [
    "# Question 11"
   ]
  },
  {
   "cell_type": "markdown",
   "id": "7ede2301-5136-4267-bc08-6786483dda1c",
   "metadata": {},
   "source": [
    "¿Cuáles son los cuatro elementos fundamentales que componen un lenguaje?\n",
    "\n",
    "A. Un alfabeto, un léxico, fonética y semántica\n",
    "\n",
    "B. Un alfabeto, fonética, fonología y semántica\n",
    "\n",
    "C. Un alfabeto, un léxico, una sintaxis y una semántica\n",
    "\n",
    "D. Un alfabeto, morfología, fonética y semántica"
   ]
  },
  {
   "cell_type": "markdown",
   "id": "b7d6b02d-b10e-42a8-be16-998233ff68b3",
   "metadata": {},
   "source": [
    "# Solución 11"
   ]
  },
  {
   "cell_type": "code",
   "execution_count": null,
   "id": "353b0cb7-79df-48ee-a7f5-cd479f52277b",
   "metadata": {},
   "outputs": [],
   "source": [
    "# Solución\n",
    "# C"
   ]
  },
  {
   "cell_type": "markdown",
   "id": "12416ece-01fe-4233-bf6e-fdf3a49c67bb",
   "metadata": {},
   "source": [
    "****"
   ]
  },
  {
   "cell_type": "markdown",
   "id": "8a30e686-1ff3-4183-a25a-446d5528daef",
   "metadata": {},
   "source": [
    "# Question 12"
   ]
  },
  {
   "cell_type": "markdown",
   "id": "6dd5dd48-470c-424d-bc9c-e25a46fc3282",
   "metadata": {},
   "source": [
    "¿Cómo se llama a un archivo que contiene un programa escrito en un lenguaje de programación de alto nivel?\n",
    "\n",
    "A. Un archivo de código\n",
    "\n",
    "B. Un archivo de destino\n",
    "\n",
    "C. Un archivo fuente\n",
    "\n",
    "D. Un archivo de máquina"
   ]
  },
  {
   "cell_type": "markdown",
   "id": "bec6b2c5-5456-4e0b-8e76-3639d8d4d8db",
   "metadata": {},
   "source": [
    "# Solución 12"
   ]
  },
  {
   "cell_type": "code",
   "execution_count": null,
   "id": "e6be4760-21db-43cf-a832-1c4e698f7091",
   "metadata": {},
   "outputs": [],
   "source": [
    "# Solución\n",
    "# C"
   ]
  },
  {
   "cell_type": "markdown",
   "id": "291981ec-1c0f-4e0c-9eea-b4567a5128b2",
   "metadata": {},
   "source": [
    "****"
   ]
  },
  {
   "cell_type": "markdown",
   "id": "fc872c86-b072-4437-88e9-badf81f9f4cf",
   "metadata": {},
   "source": [
    "# Question 13"
   ]
  },
  {
   "cell_type": "markdown",
   "id": "0b286d0c-98d5-48f5-ad9a-f298ebfd443c",
   "metadata": {},
   "source": [
    "¿Cómo se llama un intérprete de línea de comandos que te permite interactuar con tu sistema operativo \n",
    "y ejecutar comandos y scrips de Python?\n",
    "\n",
    "A. Un editor\n",
    "\n",
    "B. Una consola\n",
    "\n",
    "C. Un compilador\n",
    "\n",
    "D. Jython"
   ]
  },
  {
   "cell_type": "markdown",
   "id": "0afea885-b630-4870-8f22-688b03f9dc0b",
   "metadata": {},
   "source": [
    "# Solución 13"
   ]
  },
  {
   "cell_type": "code",
   "execution_count": null,
   "id": "3ed4d86f-09ca-4fac-9f81-230606b08491",
   "metadata": {},
   "outputs": [],
   "source": [
    "# Solución\n",
    "# B"
   ]
  },
  {
   "cell_type": "markdown",
   "id": "3b35679b-993e-4fed-8bbf-f21679af3674",
   "metadata": {},
   "source": [
    "****"
   ]
  },
  {
   "cell_type": "markdown",
   "id": "37d40138-9a9f-4e2e-8224-8cab60c52ca2",
   "metadata": {},
   "source": [
    "# Question 14"
   ]
  },
  {
   "cell_type": "markdown",
   "id": "8a8a2d32-de59-41e4-98c9-8c68c9e9271a",
   "metadata": {},
   "source": [
    "El carácter de escape le debe su nombre al hecho de que:\n",
    "\n",
    "A. no puede ser atrapado debido a su alta velocidad\n",
    "\n",
    "B. cambia el significado del carácter después de él\n",
    "\n",
    "C. escapa del archivo fuente hacia la memoria de la computadora"
   ]
  },
  {
   "cell_type": "markdown",
   "id": "232c853d-1b8a-4de3-882c-dfe1a5bbf650",
   "metadata": {},
   "source": [
    "# Solución 14"
   ]
  },
  {
   "cell_type": "code",
   "execution_count": null,
   "id": "7d254d18-251a-45f4-b547-1fc5ff5e4ff5",
   "metadata": {},
   "outputs": [],
   "source": [
    "# Solución\n",
    "# B"
   ]
  },
  {
   "cell_type": "markdown",
   "id": "08eda62c-1fce-4c32-aa0a-3df1180b8248",
   "metadata": {},
   "source": [
    "****"
   ]
  },
  {
   "cell_type": "markdown",
   "id": "cc0fa9f6-7761-4242-89e6-d1373425bac5",
   "metadata": {},
   "source": [
    "# Question 15"
   ]
  },
  {
   "cell_type": "markdown",
   "id": "9628d7c8-4111-4aa7-abcb-453d8ab9cb1d",
   "metadata": {},
   "source": [
    "La diferencia más importante entre números enteros y números flotantes es que:\n",
    "\n",
    "A. los enteros no pueden ser literales mientras que los flotantes si\n",
    "\n",
    "B. se almacenan de manera diferente en la memoria de la computadora\n",
    "\n",
    "C. no pueden ser utilizados simultáneamente"
   ]
  },
  {
   "cell_type": "markdown",
   "id": "c100ace2-a61c-420b-b08a-92b4ec64af73",
   "metadata": {},
   "source": [
    "# Solución 15"
   ]
  },
  {
   "cell_type": "code",
   "execution_count": null,
   "id": "e1c58cd2-a85f-420f-9a8d-515e7da95c7c",
   "metadata": {},
   "outputs": [],
   "source": [
    "# Solución\n",
    "# B"
   ]
  },
  {
   "cell_type": "markdown",
   "id": "50f04126-5b42-461b-bbb0-f4dcbbaa36b9",
   "metadata": {},
   "source": [
    "****"
   ]
  },
  {
   "cell_type": "markdown",
   "id": "e0ef85d4-e271-4871-bf42-0b2db74578cc",
   "metadata": {},
   "source": [
    "# Question 16"
   ]
  },
  {
   "cell_type": "markdown",
   "id": "e624bcdb-9f6f-4520-a5ae-32d3d334e6bc",
   "metadata": {},
   "source": [
    "Solo una de las siguientes declaraciones es verdadera. ¿Cuál es?\n",
    "\n",
    "A. La multiplicación precede la suma\n",
    "\n",
    "B. Ninguna de las anteriores\n",
    "\n",
    "C. La suma precede la multiplicación"
   ]
  },
  {
   "cell_type": "markdown",
   "id": "468a5110-1b23-46f1-b688-c051bcf810de",
   "metadata": {},
   "source": [
    "# Solución 16"
   ]
  },
  {
   "cell_type": "code",
   "execution_count": null,
   "id": "d2de536a-bdf0-4f48-9a6f-641097a8ddf8",
   "metadata": {},
   "outputs": [],
   "source": [
    "# Solución\n",
    "# A"
   ]
  },
  {
   "cell_type": "markdown",
   "id": "835b9680-9efd-4be3-9588-41429a3c013a",
   "metadata": {},
   "source": [
    "****"
   ]
  },
  {
   "cell_type": "markdown",
   "id": "39745a0c-dd7e-4874-9f4d-b278b666fa26",
   "metadata": {},
   "source": [
    "# Question 17"
   ]
  },
  {
   "cell_type": "markdown",
   "id": "3e4664af-d191-403c-be19-1b8351a9d2d9",
   "metadata": {},
   "source": [
    "¿Cuál es el resultado del siguiente código?\n",
    "```\n",
    "x = 1 / 2 + 3 // 3 + 4 ** 2\n",
    "print(x)\n",
    "```\n",
    "A. ```8.5```\n",
    "\n",
    "B. ```8```\n",
    "\n",
    "C. ```17.5```\n",
    "\n",
    "D. ```17```"
   ]
  },
  {
   "cell_type": "markdown",
   "id": "fd8eb9dc-b40b-4bbd-8f00-fcd18a4730f2",
   "metadata": {},
   "source": [
    "# Solución 17"
   ]
  },
  {
   "cell_type": "code",
   "execution_count": 8,
   "id": "422ecfe6-f0b2-41f7-9b28-66f9123855e3",
   "metadata": {},
   "outputs": [
    {
     "name": "stdout",
     "output_type": "stream",
     "text": [
      "17.5\n"
     ]
    }
   ],
   "source": [
    "x = 1 / 2 + 3 // 3 + 4 ** 2\n",
    "print(x)"
   ]
  },
  {
   "cell_type": "code",
   "execution_count": null,
   "id": "1c658ca8-42e7-4bf2-afcb-43eadb62cc85",
   "metadata": {},
   "outputs": [],
   "source": [
    "# Solución\n",
    "# C"
   ]
  },
  {
   "cell_type": "markdown",
   "id": "5a4b9117-89cb-46a1-ba74-c54911b3ab04",
   "metadata": {},
   "source": [
    "****"
   ]
  },
  {
   "cell_type": "markdown",
   "id": "5e4c2143-6493-4e13-93c1-7b52ea464e99",
   "metadata": {},
   "source": [
    "# Question 18"
   ]
  },
  {
   "cell_type": "markdown",
   "id": "5395012f-5761-464f-9c82-92681d4bbe24",
   "metadata": {},
   "source": [
    "El enlazado del lado izquierdo determina que el resultado de la siguiente expresión:\n",
    "```\n",
    "1 // 2 * 3\n",
    "```\n",
    "es igual a:\n",
    "\n",
    "A. ```0.0```\n",
    "\n",
    "B. ```4.5```\n",
    "\n",
    "C. ```0```\n",
    "\n",
    "D. ```0.16666666666666```"
   ]
  },
  {
   "cell_type": "markdown",
   "id": "143d0e87-57ba-4d00-82ce-71c6742976cf",
   "metadata": {},
   "source": [
    "# Solución 18"
   ]
  },
  {
   "cell_type": "code",
   "execution_count": 9,
   "id": "714424d8-74a3-4a76-ab84-707889f27919",
   "metadata": {},
   "outputs": [
    {
     "data": {
      "text/plain": [
       "0"
      ]
     },
     "execution_count": 9,
     "metadata": {},
     "output_type": "execute_result"
    }
   ],
   "source": [
    "1 // 2 * 3"
   ]
  },
  {
   "cell_type": "code",
   "execution_count": null,
   "id": "5030aadb-ca95-43b4-8eef-6f663c9edfb5",
   "metadata": {},
   "outputs": [],
   "source": [
    "# Solución\n",
    "# C"
   ]
  },
  {
   "cell_type": "markdown",
   "id": "484b019e-c98b-4cac-a53b-d3534d84a315",
   "metadata": {},
   "source": [
    "****"
   ]
  },
  {
   "cell_type": "markdown",
   "id": "16e83b75-a079-4bd5-8bcd-4a572e9a7e22",
   "metadata": {},
   "source": [
    "# Question 19"
   ]
  },
  {
   "cell_type": "markdown",
   "id": "1340de8c-cdf3-4771-813f-1555fa1e8c9c",
   "metadata": {},
   "source": [
    "El significado del parámetro de palabra clave es determinado por:\n",
    "\n",
    "A. su valor\n",
    "\n",
    "B. su conexión con variables existentes\n",
    "\n",
    "C. su posición dentro de la lista de argumentos\n",
    "\n",
    "D. el nombre especificado del argumento junto con su valor"
   ]
  },
  {
   "cell_type": "markdown",
   "id": "d032ca2d-ec72-498b-ad55-3ffd38acc5e8",
   "metadata": {},
   "source": [
    "# Solución 19"
   ]
  },
  {
   "cell_type": "code",
   "execution_count": 1,
   "id": "14e86cec-f6cf-4b1e-a805-28ac32e28dae",
   "metadata": {},
   "outputs": [],
   "source": [
    "# Solución\n",
    "# B\n",
    "\n",
    "# https://www.codificandobits.com/curso/python-nivel-basico/20-argumentos-posicionales-palabra-clave-y-defecto/\n",
    "# https://aulasoftwarelibre.github.io/taller-de-python/Python_Avanzado/Argumentos/"
   ]
  },
  {
   "cell_type": "markdown",
   "id": "bd231053-8ae3-4936-89fd-dc1a75e78efc",
   "metadata": {},
   "source": [
    "****"
   ]
  },
  {
   "cell_type": "markdown",
   "id": "26c8bed6-e0a2-414c-b5b6-3dd137994a7f",
   "metadata": {},
   "source": [
    "# Question 20"
   ]
  },
  {
   "cell_type": "markdown",
   "id": "09f9bd99-a8f3-456c-b1c8-ef850b18ce72",
   "metadata": {},
   "source": [
    "¿Cuál es el resultado del siguiente fragmento de código si se introduce un 11 y un 4 respectivamente?\n",
    "```\n",
    "x = int(input())\n",
    "y = int(input())\n",
    "\n",
    "x = x % y\n",
    "x = x % y\n",
    "y = y % x\n",
    "\n",
    "print(y)\n",
    "```\n",
    "A. ```3```\n",
    "\n",
    "B. ```1```\n",
    "\n",
    "C. ```2```\n",
    "\n",
    "D. ```4```"
   ]
  },
  {
   "cell_type": "markdown",
   "id": "935933ed-1661-4054-bf14-2d126bb5561a",
   "metadata": {},
   "source": [
    "# Solución 20"
   ]
  },
  {
   "cell_type": "code",
   "execution_count": 11,
   "id": "193af4dc-e143-4578-ba8f-f5754379d45d",
   "metadata": {},
   "outputs": [
    {
     "name": "stdout",
     "output_type": "stream",
     "text": [
      " 11\n",
      " 4\n"
     ]
    },
    {
     "name": "stdout",
     "output_type": "stream",
     "text": [
      "Resultado de y:  1\n"
     ]
    }
   ],
   "source": [
    "x = int(input())\n",
    "y = int(input())\n",
    "\n",
    "x = x % y # 11 % 4 = 3\n",
    "x = x % y # 3 % 4 = 3\n",
    "y = y % x # 4 % 3 = 1\n",
    "\n",
    "print(\"Resultado de y: \", y)"
   ]
  },
  {
   "cell_type": "code",
   "execution_count": null,
   "id": "211dbdf5-48f3-44a5-9f8f-f029ace51610",
   "metadata": {},
   "outputs": [],
   "source": [
    "# Solución\n",
    "# B"
   ]
  },
  {
   "cell_type": "markdown",
   "id": "cfbb009a-9ee3-406f-a558-4274c30334c8",
   "metadata": {},
   "source": [
    "****"
   ]
  },
  {
   "cell_type": "markdown",
   "id": "32eaee5b-d631-4a6c-bd68-668de5be5a02",
   "metadata": {},
   "source": [
    "# Question 21"
   ]
  },
  {
   "cell_type": "markdown",
   "id": "f6f72b52-edb7-424c-b5b7-9e1416c34fac",
   "metadata": {},
   "source": [
    "¿Cuál es la salida del siguiente fragmento de código?\n",
    "```\n",
    "def f(x):\n",
    "    if x == 0:\n",
    "        return 0\n",
    "    return x + f(x - 1)\n",
    "\n",
    "print(f(3))\n",
    "```\n",
    "\n",
    "A. ```1```\n",
    "\n",
    "B. el código es erróneo\n",
    "\n",
    "C. ```3```\n",
    "\n",
    "D. ```6```"
   ]
  },
  {
   "cell_type": "markdown",
   "id": "7f0f6606-9296-4bea-abb4-4d573efde3cb",
   "metadata": {},
   "source": [
    "# Solución 21"
   ]
  },
  {
   "cell_type": "code",
   "execution_count": 15,
   "id": "4444f233-dfe6-439d-9109-a180dd98518b",
   "metadata": {},
   "outputs": [
    {
     "name": "stdout",
     "output_type": "stream",
     "text": [
      "6\n"
     ]
    }
   ],
   "source": [
    "def f(x):\n",
    "    if x == 0:\n",
    "        return 0\n",
    "    return x + f(x - 1)\n",
    "    \n",
    "    # 3 --> 3 != 0 --> retorna 3 + f(2)\n",
    "    # 2 --> 2 != 0 --> retorna 3 + 2 + f(1)\n",
    "    # 1 --> 1 != 0 --> retorna 3 + 2 + 1 + f(0)\n",
    "    # 0 --> 0 == 0 --> retorna 3 + 2 + 1 + 0\n",
    "    # retorna 6\n",
    "\n",
    "print(f(3))"
   ]
  },
  {
   "cell_type": "code",
   "execution_count": null,
   "id": "76dc9010-7e89-44d9-98cc-4890c0159786",
   "metadata": {},
   "outputs": [],
   "source": [
    "# Solución\n",
    "# D"
   ]
  },
  {
   "cell_type": "markdown",
   "id": "5a79d9d1-a84e-4ff7-ab72-476b48b88a12",
   "metadata": {},
   "source": [
    "****"
   ]
  },
  {
   "cell_type": "markdown",
   "id": "ace9dc1f-d182-4772-bebc-fe7c8577d87e",
   "metadata": {},
   "source": [
    "# Question 22"
   ]
  },
  {
   "cell_type": "markdown",
   "id": "17795605-3e89-4d3c-a18c-d909ce1fea28",
   "metadata": {},
   "source": [
    "Una función integrada es una función la cual:\n",
    "\n",
    "A. ha sido colocada dentro del código por otro programador\n",
    "\n",
    "B. tiene que ser importada antes de ser utilizada\n",
    "\n",
    "C. esta oculta a los programadores\n",
    "\n",
    "D. viene con Python, y es una parte integral de Python"
   ]
  },
  {
   "cell_type": "markdown",
   "id": "46a7e9a0-65da-49bd-9585-5a7ec396c6ec",
   "metadata": {},
   "source": [
    "# Solución 22"
   ]
  },
  {
   "cell_type": "markdown",
   "id": "48e2127c-cded-4bb7-b3f5-97b30d5173e1",
   "metadata": {},
   "source": [
    "https://www.programaenpython.com/miscelanea/funciones-integradas/\n",
    "\n",
    "Python tiene funciones integradas que podemos utilizar sin necesidad de importar ningún módulo."
   ]
  },
  {
   "cell_type": "code",
   "execution_count": null,
   "id": "b55164a6-0468-4c38-9cb0-e49ce116ab93",
   "metadata": {},
   "outputs": [],
   "source": [
    "# Solución\n",
    "# D"
   ]
  },
  {
   "cell_type": "markdown",
   "id": "8e4461ce-ae17-4e6a-b3ef-33a12307f718",
   "metadata": {},
   "source": [
    "****"
   ]
  },
  {
   "cell_type": "markdown",
   "id": "71c0f5b1-b786-436e-9b56-a7b504c76c46",
   "metadata": {},
   "source": [
    "# Question 23"
   ]
  },
  {
   "cell_type": "markdown",
   "id": "5e1ae8cf-4347-47f3-b242-a2b95e64d312",
   "metadata": {},
   "source": [
    "¿Cuáles de las siguientes afirmaciones son verdaderas?\n",
    "\n",
    "Selecciona DOS respuestas\n",
    "\n",
    "A. El valor None no puede ser empleado fuera de las funciones\n",
    "\n",
    "B. El valor None puede ser comparado con otras variables\n",
    "\n",
    "C. El valor None puede ser empleado como argumento de operaciones aritméticas\n",
    "\n",
    "D. El valor None puede ser asignado a variables"
   ]
  },
  {
   "cell_type": "markdown",
   "id": "79d55109-60f5-46dc-97ea-043543b23a24",
   "metadata": {},
   "source": [
    "# Solución 23"
   ]
  },
  {
   "cell_type": "code",
   "execution_count": null,
   "id": "347da39c-735f-4750-8fd8-0b42fe543289",
   "metadata": {},
   "outputs": [],
   "source": [
    "# Solución\n",
    "# B, D"
   ]
  },
  {
   "cell_type": "markdown",
   "id": "c66ae62e-d2a7-45ec-8883-56979dff1281",
   "metadata": {},
   "source": [
    "****"
   ]
  },
  {
   "cell_type": "markdown",
   "id": "169fdc69-478b-4f58-bc4e-4e3906a78934",
   "metadata": {},
   "source": [
    "# Question 24"
   ]
  },
  {
   "cell_type": "markdown",
   "id": "dfc78118-da46-4e6a-866d-ee48fcaeef93",
   "metadata": {},
   "source": [
    "¿Cuál es la salida del siguiente código?\n",
    "```\n",
    "try:\n",
    "    value = input(\"Ingresa un valor: \")\n",
    "    print(value/value)\n",
    "except ValueError:\n",
    "    print(\"Entrada incorrecta...\")\n",
    "except ZeroDivisionError:\n",
    "    print(\"Entrada errónea...\")\n",
    "except TypeError:\n",
    "    print(\"Entrada muy errónea...\")\n",
    "except:\n",
    "    print(\"¡Buuu!\")\n",
    "```\n",
    "\n",
    "A. ```Entrada muy errónea...```\n",
    "\n",
    "B. ```Entrada errónea...```\n",
    "\n",
    "C. ```Entrada incorrecta...```\n",
    "\n",
    "D. ```¡Buuu!```"
   ]
  },
  {
   "cell_type": "markdown",
   "id": "b45b6b39-76e2-4ff9-a530-37b1b53a6c3f",
   "metadata": {},
   "source": [
    "# Solución 24"
   ]
  },
  {
   "cell_type": "code",
   "execution_count": 16,
   "id": "3aedda37-1f53-434d-b080-0011ce9338b3",
   "metadata": {},
   "outputs": [
    {
     "name": "stdout",
     "output_type": "stream",
     "text": [
      "Ingresa un valor:  2\n"
     ]
    },
    {
     "name": "stdout",
     "output_type": "stream",
     "text": [
      "Entrada muy errónea...\n"
     ]
    }
   ],
   "source": [
    "try:\n",
    "    value = input(\"Ingresa un valor: \")\n",
    "    print(value/value)\n",
    "except ValueError:\n",
    "    print(\"Entrada incorrecta...\")\n",
    "except ZeroDivisionError:\n",
    "    print(\"Entrada errónea...\")\n",
    "except TypeError:\n",
    "    print(\"Entrada muy errónea...\")\n",
    "except:\n",
    "    print(\"¡Buuu!\")"
   ]
  },
  {
   "cell_type": "code",
   "execution_count": 5,
   "id": "11ad50e9",
   "metadata": {},
   "outputs": [
    {
     "ename": "TypeError",
     "evalue": "unsupported operand type(s) for /: 'str' and 'str'",
     "output_type": "error",
     "traceback": [
      "\u001b[0;31m---------------------------------------------------------------------------\u001b[0m",
      "\u001b[0;31mTypeError\u001b[0m                                 Traceback (most recent call last)",
      "\u001b[1;32m/home/isabelmaniega/Documentos/PCEP/PCEP/PCEP_ES-Resuelto.ipynb Cell 136\u001b[0m line \u001b[0;36m2\n\u001b[1;32m      <a href='vscode-notebook-cell:/home/isabelmaniega/Documentos/PCEP/PCEP/PCEP_ES-Resuelto.ipynb#Y334sZmlsZQ%3D%3D?line=0'>1</a>\u001b[0m value \u001b[39m=\u001b[39m \u001b[39minput\u001b[39m(\u001b[39m\"\u001b[39m\u001b[39mIngresa un valor: \u001b[39m\u001b[39m\"\u001b[39m)\n\u001b[0;32m----> <a href='vscode-notebook-cell:/home/isabelmaniega/Documentos/PCEP/PCEP/PCEP_ES-Resuelto.ipynb#Y334sZmlsZQ%3D%3D?line=1'>2</a>\u001b[0m \u001b[39mprint\u001b[39m(value\u001b[39m/\u001b[39;49mvalue)\n",
      "\u001b[0;31mTypeError\u001b[0m: unsupported operand type(s) for /: 'str' and 'str'"
     ]
    }
   ],
   "source": [
    "value = input(\"Ingresa un valor: \")\n",
    "print(value/value)"
   ]
  },
  {
   "cell_type": "code",
   "execution_count": null,
   "id": "c5e33d00-3d24-44c7-b693-b06a038148de",
   "metadata": {},
   "outputs": [],
   "source": [
    "# Solución\n",
    "# A"
   ]
  },
  {
   "cell_type": "markdown",
   "id": "0ddf3165-3856-42be-838b-15d1351ae163",
   "metadata": {},
   "source": [
    "****"
   ]
  },
  {
   "cell_type": "markdown",
   "id": "f0886d35-86a4-4a8f-a62b-f75e4b883a68",
   "metadata": {},
   "source": [
    "# Question 25"
   ]
  },
  {
   "cell_type": "markdown",
   "id": "a6f1e0a6-1184-4d44-9de3-21e8fd0e02d4",
   "metadata": {},
   "source": [
    "¿Cuál es la salida del siguiente fragmento de código?\n",
    "```\n",
    "def any():\n",
    "    print(var + 1, end=' ')\n",
    "var = 1\n",
    "any()\n",
    "print(var)\n",
    "```\n",
    "A. ```21```\n",
    "\n",
    "B. ```11```\n",
    "\n",
    "C. ```12```\n",
    "\n",
    "D. ```22```"
   ]
  },
  {
   "cell_type": "markdown",
   "id": "df668e4d-d3df-42e7-af8a-c6bca4a67c0e",
   "metadata": {},
   "source": [
    "# Solución 25"
   ]
  },
  {
   "cell_type": "code",
   "execution_count": 17,
   "id": "3ebe306f-5925-4a1f-adb0-74f8c48ec392",
   "metadata": {},
   "outputs": [
    {
     "name": "stdout",
     "output_type": "stream",
     "text": [
      "2 1\n"
     ]
    }
   ],
   "source": [
    "def any():\n",
    "    print(var + 1, end=' ')\n",
    "var = 1\n",
    "any()\n",
    "print(var)"
   ]
  },
  {
   "cell_type": "code",
   "execution_count": null,
   "id": "9d99d497-8734-4405-a6a1-795e069d4cf5",
   "metadata": {},
   "outputs": [],
   "source": [
    "# Solución\n",
    "# A"
   ]
  },
  {
   "cell_type": "markdown",
   "id": "ff7d2529-6c01-4980-975a-3e0d169742c3",
   "metadata": {},
   "source": [
    "****"
   ]
  },
  {
   "cell_type": "markdown",
   "id": "eaf4ba01-6638-4f79-b270-8fa3e2db5e25",
   "metadata": {},
   "source": [
    "# Question 26"
   ]
  },
  {
   "cell_type": "markdown",
   "id": "5e92e4c0-60c3-4e88-91e9-ba0da34625b1",
   "metadata": {},
   "source": [
    "¿Cuál es la salida del siguiente fragmento de código?\n",
    "```\n",
    "dictionary = {'one': 'two', 'three': 'one', 'two': 'three'}\n",
    "v = dictionary['one']\n",
    "for k in range(len(dictionary)):\n",
    "    v = dictionary[v]\n",
    "print(v)\n",
    "```\n",
    "A. ```two```\n",
    "\n",
    "B. ```('one', 'two', 'three')```\n",
    "\n",
    "C. ```one```\n",
    "\n",
    "D. ```three```"
   ]
  },
  {
   "cell_type": "markdown",
   "id": "c1a6d86a-8089-48e5-8831-78c44c8c5f7f",
   "metadata": {},
   "source": [
    "# Solución 26"
   ]
  },
  {
   "cell_type": "code",
   "execution_count": 18,
   "id": "7aa935cb-4515-4a20-8480-1a79f926c9b5",
   "metadata": {},
   "outputs": [
    {
     "name": "stdout",
     "output_type": "stream",
     "text": [
      "two\n"
     ]
    }
   ],
   "source": [
    "dictionary = {'one': 'two', 'three': 'one', 'two': 'three'}\n",
    "v = dictionary['one']\n",
    "for k in range(len(dictionary)):    \n",
    "    v = dictionary[v]\n",
    "    # Resultado:\n",
    "\n",
    "    # range(0, 3) --> 0, 1, 2\n",
    "    # 0 --> dictionary['two'] --> 'three'\n",
    "    # 1 --> dictionary['three'] --> 'one'\n",
    "    # 2 --> dictionary['one'] --> 'two'\n",
    "\n",
    "print(v)"
   ]
  },
  {
   "cell_type": "code",
   "execution_count": null,
   "id": "c104bcbd-2797-46d9-8fe2-99e8b0e3f801",
   "metadata": {},
   "outputs": [],
   "source": [
    "# Solución\n",
    "# A"
   ]
  },
  {
   "cell_type": "markdown",
   "id": "e5f6cbba-0184-4ce1-b2ed-c59f7e1213b0",
   "metadata": {},
   "source": [
    "****"
   ]
  },
  {
   "cell_type": "markdown",
   "id": "fc762961-53eb-4103-a0d1-1d5ccb82a306",
   "metadata": {},
   "source": [
    "# Question 27"
   ]
  },
  {
   "cell_type": "markdown",
   "id": "14a6063b-57e9-46dd-a753-c051e03e1852",
   "metadata": {},
   "source": [
    "Una función definida de la siguiente manera:\n",
    "\n",
    "Selecciona DOS respuestas\n",
    "```\n",
    "def function(x=0):\n",
    "    return x\n",
    "```\n",
    "A. debe ser invocada sin argumentos\n",
    "\n",
    "B. puede ser invocada exactamente con un argumento\n",
    "\n",
    "C. puede ser invocada sin ningún argumento\n",
    "\n",
    "D. debe ser invocada exactamente con un argumento"
   ]
  },
  {
   "cell_type": "markdown",
   "id": "049e82b4-e1d8-4ed3-827e-3cbde0fd71de",
   "metadata": {},
   "source": [
    "# Solución 27"
   ]
  },
  {
   "cell_type": "code",
   "execution_count": null,
   "id": "3f154b55-88e2-4409-bd0a-83b892c7a638",
   "metadata": {},
   "outputs": [],
   "source": [
    "# Solución\n",
    "# B, C"
   ]
  },
  {
   "cell_type": "markdown",
   "id": "27b274d7-1f25-438d-bc22-35b2e27342c0",
   "metadata": {},
   "source": [
    "****"
   ]
  },
  {
   "cell_type": "markdown",
   "id": "875295e5-53c2-49f7-9e79-9008bb62004f",
   "metadata": {},
   "source": [
    "# Question 28"
   ]
  },
  {
   "cell_type": "markdown",
   "id": "42c4ef70-b90e-4685-a8f3-0f13aad65e8c",
   "metadata": {},
   "source": [
    "¿Cuál es el comportamiento esperado del siguiente programa?\n",
    "```\n",
    "try:\n",
    "    print(5/0)\n",
    "    break\n",
    "except:\n",
    "    print(\"Lo siento, algo salió mal...\")\n",
    "except (ValueError, ZeroDivisionError):\n",
    "    print(\"Mala suerte...\")\n",
    "```\n",
    "A. El programa provocará una excepción ZeroDivisión y dará como salida un mensaje de error predeterminado.\n",
    "\n",
    "B. El programa provocará una excepción ValueError y dará como salidoa un mensaje de error predeterminado.\n",
    "    \n",
    "C. El programa provocará una excepción ValueError y dará como salida el siguiente mensaje: ```Mala suerte...```\n",
    "\n",
    "D. El programa provocará una excepción de ```SyntaxError```."
   ]
  },
  {
   "cell_type": "markdown",
   "id": "69f83113-a98e-4cfd-a678-e378a0ea06fc",
   "metadata": {},
   "source": [
    "# Solución 28"
   ]
  },
  {
   "cell_type": "code",
   "execution_count": 19,
   "id": "4594f72f-f951-4dec-bf32-fab60e2d64b8",
   "metadata": {},
   "outputs": [
    {
     "ename": "SyntaxError",
     "evalue": "'break' outside loop (4257532828.py, line 3)",
     "output_type": "error",
     "traceback": [
      "\u001b[0;36m  Cell \u001b[0;32mIn[19], line 3\u001b[0;36m\u001b[0m\n\u001b[0;31m    break\u001b[0m\n\u001b[0m    ^\u001b[0m\n\u001b[0;31mSyntaxError\u001b[0m\u001b[0;31m:\u001b[0m 'break' outside loop\n"
     ]
    }
   ],
   "source": [
    "try:\n",
    "    print(5/0)\n",
    "    break\n",
    "except:\n",
    "    print(\"Lo siento, algo salió mal...\")\n",
    "except (ValueError, ZeroDivisionError):\n",
    "    print(\"Mala suerte...\")"
   ]
  },
  {
   "cell_type": "code",
   "execution_count": null,
   "id": "93ec6cac-9cdb-4dec-86f5-71f66c8ee44c",
   "metadata": {},
   "outputs": [],
   "source": [
    "# Solución\n",
    "# D"
   ]
  },
  {
   "cell_type": "markdown",
   "id": "79770687-d4d0-46f7-9ee7-cae3ee0d669c",
   "metadata": {},
   "source": [
    "****"
   ]
  },
  {
   "cell_type": "markdown",
   "id": "ec84de3a-aae6-4b97-9303-67dc7bdce20d",
   "metadata": {},
   "source": [
    "# Question 29"
   ]
  },
  {
   "cell_type": "markdown",
   "id": "a6a14ff7-b2c5-4db6-91d8-fedefef4b4b3",
   "metadata": {},
   "source": [
    "El resultado de la siguiente división:\n",
    "```\n",
    "1 // 2\n",
    "```\n",
    "A. es igual a ```0```\n",
    "\n",
    "B. es igual a ```0.0```\n",
    "\n",
    "C. no se puede predecir\n",
    "\n",
    "D. es igual a ```0.5```"
   ]
  },
  {
   "cell_type": "markdown",
   "id": "c982fed5-caa9-49d3-8477-759eff7ae502",
   "metadata": {},
   "source": [
    "# Solución 29"
   ]
  },
  {
   "cell_type": "code",
   "execution_count": 20,
   "id": "cefed7b9-32d9-4de4-abf0-4fdff6792101",
   "metadata": {},
   "outputs": [
    {
     "data": {
      "text/plain": [
       "0"
      ]
     },
     "execution_count": 20,
     "metadata": {},
     "output_type": "execute_result"
    }
   ],
   "source": [
    "1 // 2"
   ]
  },
  {
   "cell_type": "code",
   "execution_count": null,
   "id": "93d330de-c34d-45e6-b2a2-dab1fb22bf80",
   "metadata": {},
   "outputs": [],
   "source": [
    "# Solución\n",
    "# A"
   ]
  },
  {
   "cell_type": "markdown",
   "id": "0f7b16cf-9ae5-47e7-a449-385e4c7e5b8c",
   "metadata": {},
   "source": [
    "****"
   ]
  },
  {
   "cell_type": "markdown",
   "id": "ad00ed2f-66e4-4324-a1d4-cdd58cb1a56b",
   "metadata": {},
   "source": [
    "# Question 30"
   ]
  },
  {
   "cell_type": "markdown",
   "id": "4d844967-aad5-40c0-8258-8ff1ef229011",
   "metadata": {},
   "source": [
    "¿Cuáles de los siguientes nombres de variables son ilegales y provocarán una excepción de SyntaxError?\n",
    "\n",
    "Selecciona DOS respuestas\n",
    "\n",
    "A. In\n",
    "\n",
    "B. in\n",
    "\n",
    "C. print\n",
    "\n",
    "D. for"
   ]
  },
  {
   "cell_type": "markdown",
   "id": "4bb942a5-4694-4a2b-9339-fcb801de4b5f",
   "metadata": {},
   "source": [
    "# Solución 30"
   ]
  },
  {
   "cell_type": "code",
   "execution_count": null,
   "id": "9a0b2c72-fde8-4f54-9b15-daaa434768ff",
   "metadata": {},
   "outputs": [],
   "source": [
    "# Solución\n",
    "# B, D"
   ]
  },
  {
   "cell_type": "markdown",
   "id": "6abf2dfd-8826-4651-b7f1-8c727589776a",
   "metadata": {},
   "source": [
    "****"
   ]
  },
  {
   "cell_type": "markdown",
   "id": "4bf0e9a0-2b65-41b8-b07b-732a63d2d557",
   "metadata": {},
   "source": [
    "*Creado por:*\n",
    "\n",
    "*Isabel Maniega*"
   ]
  }
 ],
 "metadata": {
  "kernelspec": {
   "display_name": "Python 3 (ipykernel)",
   "language": "python",
   "name": "python3"
  },
  "language_info": {
   "codemirror_mode": {
    "name": "ipython",
    "version": 3
   },
   "file_extension": ".py",
   "mimetype": "text/x-python",
   "name": "python",
   "nbconvert_exporter": "python",
   "pygments_lexer": "ipython3",
   "version": "3.8.19"
  }
 },
 "nbformat": 4,
 "nbformat_minor": 5
}

{
 "cells": [
  {
   "cell_type": "markdown",
   "id": "ae9b6aa7",
   "metadata": {},
   "source": [
    "*Contenido creado por: Isabel Maniega*"
   ]
  },
  {
   "cell_type": "markdown",
   "id": "09fff84b",
   "metadata": {},
   "source": [
    "****"
   ]
  },
  {
   "cell_type": "markdown",
   "id": "281b5c00",
   "metadata": {},
   "source": [
    "# Question 1  (Data Aggregates)"
   ]
  },
  {
   "cell_type": "markdown",
   "id": "fedd20b7-5eaf-4360-8c02-4379756c9366",
   "metadata": {},
   "source": [
    "What is the expected output of the following code?\n",
    "\n",
    "```\n",
    "data = ((1, 2),) * 7\n",
    "print(len(data[3:8]))\n",
    "```\n",
    "A. ```6```\n",
    "\n",
    "B. The code is erroneous\n",
    "\n",
    "C. ```5```\n",
    "\n",
    "D. ```4```"
   ]
  },
  {
   "cell_type": "markdown",
   "id": "be1c5377",
   "metadata": {},
   "source": [
    "# Solution 1"
   ]
  },
  {
   "cell_type": "code",
   "execution_count": null,
   "id": "aa0b0f66",
   "metadata": {},
   "outputs": [],
   "source": [
    "# Solución"
   ]
  },
  {
   "cell_type": "markdown",
   "id": "c15896cb",
   "metadata": {},
   "source": [
    "****"
   ]
  },
  {
   "cell_type": "markdown",
   "id": "38d12fe5",
   "metadata": {},
   "source": [
    "# Question 2  (Control Flow)"
   ]
  },
  {
   "cell_type": "markdown",
   "id": "1b196212-1bb4-4a11-8d30-1b4cedc0e3ab",
   "metadata": {},
   "source": [
    "Which one of the lines should you put in the snippet below\n",
    "to match the expected output?\n",
    "\n",
    "\n",
    "Expected output:\n",
    "adam_smit\n",
    "\n",
    "Code:\n",
    "```\n",
    "for ch in \"adam_smit@openedg.org\":\n",
    " \n",
    "    if ch == \"@\":\n",
    "        # insert code here\n",
    " \n",
    "   print(ch, end=\"\")\n",
    "``` \n",
    "\n",
    "A. ```break```\n",
    "\n",
    "B. ```continue```\n",
    "\n",
    "C. ```exit```\n",
    "\n",
    "D. ```print()```"
   ]
  },
  {
   "cell_type": "markdown",
   "id": "08c16214",
   "metadata": {},
   "source": [
    "# Solution 2"
   ]
  },
  {
   "cell_type": "code",
   "execution_count": null,
   "id": "ee7dfd4e",
   "metadata": {},
   "outputs": [],
   "source": [
    "# Solución"
   ]
  },
  {
   "cell_type": "markdown",
   "id": "f787d5f6",
   "metadata": {},
   "source": [
    "****"
   ]
  },
  {
   "cell_type": "markdown",
   "id": "44dbfac5",
   "metadata": {},
   "source": [
    "# Question 3  (Data Aggregates)"
   ]
  },
  {
   "cell_type": "markdown",
   "id": "cb1ca5b4-4a7a-493d-8972-2d26bc677c75",
   "metadata": {},
   "source": [
    "How would you remove all the items from the d dictionary?\n",
    "\n",
    "Expected output:\n",
    "```\n",
    "{}\n",
    "```\n",
    "\n",
    "Code:\n",
    "```\n",
    "d = {'A' : 1, 'B' : 2, 'C' : 3}\n",
    "```\n",
    "\n",
    "\n",
    "A. ```d.remove()```\n",
    "\n",
    "B. ```d.clear()```\n",
    "\n",
    "C. ```d.del()```\n",
    "\n",
    "D. ```del d```"
   ]
  },
  {
   "cell_type": "markdown",
   "id": "d57819b5",
   "metadata": {},
   "source": [
    "# Solution 3"
   ]
  },
  {
   "cell_type": "code",
   "execution_count": null,
   "id": "d4ca9825",
   "metadata": {},
   "outputs": [],
   "source": [
    "# Solución"
   ]
  },
  {
   "cell_type": "markdown",
   "id": "eb7caaad",
   "metadata": {},
   "source": [
    "****"
   ]
  },
  {
   "cell_type": "markdown",
   "id": "11a6e2e3",
   "metadata": {},
   "source": [
    "# Question 4  (Data Aggregates)"
   ]
  },
  {
   "cell_type": "markdown",
   "id": "9b01ea2e-f6fd-4d1f-b0be-f0c095ad975b",
   "metadata": {},
   "source": [
    "What is the expected output of the following code?\n",
    "```\n",
    "data = [1, 2, 3, None, (), [], ]\n",
    "print(len(data))\n",
    "```\n",
    "A. ```6```\n",
    "\n",
    "B. ```3```\n",
    "\n",
    "C. ```4```\n",
    "\n",
    "D. ```5```"
   ]
  },
  {
   "cell_type": "markdown",
   "id": "45200cbc",
   "metadata": {},
   "source": [
    "# Solution 4"
   ]
  },
  {
   "cell_type": "code",
   "execution_count": null,
   "id": "c2d2aba0",
   "metadata": {},
   "outputs": [],
   "source": [
    "# Solución"
   ]
  },
  {
   "cell_type": "markdown",
   "id": "07b52808",
   "metadata": {},
   "source": [
    "****"
   ]
  },
  {
   "cell_type": "markdown",
   "id": "1f0766b8",
   "metadata": {},
   "source": [
    "# Question 5  (Data Types)"
   ]
  },
  {
   "cell_type": "markdown",
   "id": "eb759ce5-3534-4b69-a47d-887392ea4c34",
   "metadata": {},
   "source": [
    "You want to print the sum of two number.\n",
    "\n",
    "What snippet would you insert in the line indicated below:\n",
    "\n",
    "```\n",
    "x = input('Enter the first number: ')\n",
    "y = input('Enter the second number: ')\n",
    "\n",
    "# insert your code here\n",
    "```\n",
    "A. ```print('The Result is ' + (int(x + y)))```\n",
    "\n",
    "B. ```print('The Result is ' + (int(x) + int(y)))```\n",
    "\n",
    "C. ```print('The Result is ' + str(int(x + y)))```\n",
    "\n",
    "D. ```print('The Result is ' + str(int(x) + int(y)))```"
   ]
  },
  {
   "cell_type": "markdown",
   "id": "eb41cf74",
   "metadata": {},
   "source": [
    "# Solution 5"
   ]
  },
  {
   "cell_type": "code",
   "execution_count": null,
   "id": "dca44309",
   "metadata": {},
   "outputs": [],
   "source": [
    "# Solución"
   ]
  },
  {
   "cell_type": "markdown",
   "id": "4cdfbff3",
   "metadata": {},
   "source": [
    "****"
   ]
  },
  {
   "cell_type": "markdown",
   "id": "43b694cc",
   "metadata": {},
   "source": [
    "# Question 6  (Functions)"
   ]
  },
  {
   "cell_type": "markdown",
   "id": "fba3ea7b-d34a-4b74-9eaa-c91faf26ed78",
   "metadata": {},
   "source": [
    "What is the expected output of the following code?\n",
    "\n",
    "```\n",
    "def func(x):\n",
    "    if x % 2 == 0:\n",
    "        return 1\n",
    "    else:\n",
    "        return\n",
    " \n",
    "print(func(func(2)) + 1)\n",
    "```\n",
    "\n",
    "A. ```None```\n",
    "\n",
    "B. The code is erroneous\n",
    "\n",
    "C. ```2```\n",
    "\n",
    "D. ```1```"
   ]
  },
  {
   "cell_type": "markdown",
   "id": "8355eac1",
   "metadata": {},
   "source": [
    "# Solution 6"
   ]
  },
  {
   "cell_type": "code",
   "execution_count": null,
   "id": "3d4dec02",
   "metadata": {},
   "outputs": [],
   "source": [
    "# Solución"
   ]
  },
  {
   "cell_type": "markdown",
   "id": "26cc92ac",
   "metadata": {},
   "source": [
    "****"
   ]
  },
  {
   "cell_type": "markdown",
   "id": "9e7600d1",
   "metadata": {},
   "source": [
    "# Question 7  (Basics)"
   ]
  },
  {
   "cell_type": "markdown",
   "id": "57bfe047-5365-46d1-b8b2-76d8db524bda",
   "metadata": {},
   "source": [
    "You have the following file.\n",
    "\n",
    "index.py:\n",
    "```\n",
    "from sys import argv\n",
    "print(argv[1] + argv[2])\n",
    "```\n",
    "You run the file \n",
    "by executing the following command in the terminal.\n",
    "\n",
    "```\n",
    "python index.py 42 3\n",
    "```\n",
    "\n",
    "What is the expected oputput?\n",
    "\n",
    "A. ```45```\n",
    "\n",
    "B. ```424242``` \n",
    "\n",
    "C. ```126```\n",
    "\n",
    "D. ```423```\n",
    "\n",
    "E. The code is erroneous"
   ]
  },
  {
   "cell_type": "markdown",
   "id": "d15cd913",
   "metadata": {},
   "source": [
    "# Solution 7"
   ]
  },
  {
   "cell_type": "code",
   "execution_count": null,
   "id": "0a68edd7",
   "metadata": {},
   "outputs": [],
   "source": [
    "# Solución"
   ]
  },
  {
   "cell_type": "markdown",
   "id": "5528df70",
   "metadata": {},
   "source": [
    "****"
   ]
  },
  {
   "cell_type": "markdown",
   "id": "df94cb68",
   "metadata": {},
   "source": [
    "# Question 8  (Control Flow)"
   ]
  },
  {
   "cell_type": "markdown",
   "id": "be7d77ee-f704-4c34-97fe-0ac9fb602ca7",
   "metadata": {},
   "source": [
    "What is the expected output of the following code?\n",
    "\n",
    "```\n",
    "data = [1, 2, [3, 4], [5, 6], 7, [8, 9]]\n",
    "count = 0\n",
    " \n",
    "for i in range(len(data)):\n",
    "    if type(data[i]) == list:\n",
    "        count += 1\n",
    " \n",
    "print(count)\n",
    "```\n",
    "A. The code is erroneous\n",
    "\n",
    "B. ```9```\n",
    "\n",
    "C. ```3```\n",
    "\n",
    "D. ```6```"
   ]
  },
  {
   "cell_type": "markdown",
   "id": "652b6c03",
   "metadata": {},
   "source": [
    "# Solution 8"
   ]
  },
  {
   "cell_type": "code",
   "execution_count": null,
   "id": "365684a0",
   "metadata": {},
   "outputs": [],
   "source": [
    "# Solución"
   ]
  },
  {
   "cell_type": "markdown",
   "id": "98a25de0",
   "metadata": {},
   "source": [
    "****"
   ]
  },
  {
   "cell_type": "markdown",
   "id": "3c606e4f",
   "metadata": {},
   "source": [
    "# Question 9  (Basics)"
   ]
  },
  {
   "cell_type": "markdown",
   "id": "08331279-e592-499e-ab35-7cb16dfe8612",
   "metadata": {},
   "source": [
    "ASCII is:\n",
    "\n",
    "A. a standard Python module name\n",
    "\n",
    "B. short for American Standard Code for Information Interchange\n",
    "\n",
    "C. a character name\n",
    "\n",
    "D. a predefined Python variable name"
   ]
  },
  {
   "cell_type": "markdown",
   "id": "cbe3738f",
   "metadata": {},
   "source": [
    "# Solution 9"
   ]
  },
  {
   "cell_type": "code",
   "execution_count": null,
   "id": "766f84f1",
   "metadata": {},
   "outputs": [],
   "source": [
    "# Solución"
   ]
  },
  {
   "cell_type": "markdown",
   "id": "77465fd5",
   "metadata": {},
   "source": [
    "****"
   ]
  },
  {
   "cell_type": "markdown",
   "id": "3f896908",
   "metadata": {},
   "source": [
    "# Question 10  (Data Aggregates)"
   ]
  },
  {
   "cell_type": "markdown",
   "id": "202d355c-5fe3-4aa5-befc-dbbc61a23b6b",
   "metadata": {},
   "source": [
    "A data structure described as LIFO is actually a:\n",
    "\n",
    "A. list\n",
    "\n",
    "B. heap\n",
    "\n",
    "C. stack\n",
    "\n",
    "D. tree"
   ]
  },
  {
   "cell_type": "markdown",
   "id": "232c1936",
   "metadata": {},
   "source": [
    "# Solution 10"
   ]
  },
  {
   "cell_type": "code",
   "execution_count": null,
   "id": "3a7d4013",
   "metadata": {},
   "outputs": [],
   "source": [
    "# Solución"
   ]
  },
  {
   "cell_type": "markdown",
   "id": "247c1047",
   "metadata": {},
   "source": [
    "****"
   ]
  },
  {
   "cell_type": "markdown",
   "id": "a0821b1d",
   "metadata": {},
   "source": [
    "# Question 11  (Data Aggregates) "
   ]
  },
  {
   "cell_type": "markdown",
   "id": "cc65c0a0-ce8d-4f71-858b-ab94860bba37",
   "metadata": {},
   "source": [
    "What is the expected output of the following code?\n",
    "```\n",
    "data = (1, 2, 4, 8)\n",
    "data = data[-2:-1]\n",
    "data = data[-1]\n",
    "print(data)\n",
    "```\n",
    "\n",
    "A. ```(4)```\n",
    "\n",
    "B. ```44```\n",
    "\n",
    "C. ```(4,)```\n",
    "\n",
    "D. ```4```"
   ]
  },
  {
   "cell_type": "markdown",
   "id": "d7b9edb4",
   "metadata": {},
   "source": [
    "# Solution 11"
   ]
  },
  {
   "cell_type": "code",
   "execution_count": null,
   "id": "cabd1792",
   "metadata": {},
   "outputs": [],
   "source": [
    "# Solución"
   ]
  },
  {
   "cell_type": "markdown",
   "id": "d5e9f622",
   "metadata": {},
   "source": [
    "****"
   ]
  },
  {
   "cell_type": "markdown",
   "id": "81431c41",
   "metadata": {},
   "source": [
    "# Question 12  (Data Aggregates)"
   ]
  },
  {
   "cell_type": "markdown",
   "id": "deafa214-f8d3-4436-8989-94dcf1d52b38",
   "metadata": {},
   "source": [
    "The fact that tuples belong to sequence types means:\n",
    "\n",
    "A. they can be modified using the del instruction\n",
    "\n",
    "B. they can be indexed and sliced like lists\n",
    "\n",
    "C. they can be extended using the ```.append()``` method\n",
    "\n",
    "D. they are actually lists"
   ]
  },
  {
   "cell_type": "markdown",
   "id": "d6fc851e",
   "metadata": {},
   "source": [
    "# Solution 12"
   ]
  },
  {
   "cell_type": "code",
   "execution_count": null,
   "id": "98bc7f93",
   "metadata": {},
   "outputs": [],
   "source": [
    "# Solución"
   ]
  },
  {
   "cell_type": "markdown",
   "id": "765bca13",
   "metadata": {},
   "source": [
    "****"
   ]
  },
  {
   "cell_type": "markdown",
   "id": "5d06fd5f",
   "metadata": {},
   "source": [
    "# Question 13  (Operators)"
   ]
  },
  {
   "cell_type": "markdown",
   "id": "d5ebe84e-8cc5-445e-8f7e-fbb5fb85519e",
   "metadata": {},
   "source": [
    "What is the expected output of the following code?\n",
    "```\n",
    "x = 1\n",
    "print(++++x)\n",
    "```\n",
    "A. ```3```\n",
    "\n",
    "B. ```4```\n",
    "\n",
    "C. ```1```\n",
    "\n",
    "D. ```2```"
   ]
  },
  {
   "cell_type": "markdown",
   "id": "a585a4f7",
   "metadata": {},
   "source": [
    "# Solution 13"
   ]
  },
  {
   "cell_type": "code",
   "execution_count": null,
   "id": "860f3b90",
   "metadata": {},
   "outputs": [],
   "source": [
    "# Solución"
   ]
  },
  {
   "cell_type": "markdown",
   "id": "93d63b59",
   "metadata": {},
   "source": [
    "****"
   ]
  },
  {
   "cell_type": "markdown",
   "id": "d498db53",
   "metadata": {},
   "source": [
    "# Question 14  (Error Handling)"
   ]
  },
  {
   "cell_type": "markdown",
   "id": "f82f77cf-f752-49e3-aab7-21cacbb21434",
   "metadata": {},
   "source": [
    "An assertion can be used to:\n",
    "\n",
    "A. Stop the program when some data have improper values\n",
    "\n",
    "B. Make the Programmer more assertive\n",
    "\n",
    "C. Import a module"
   ]
  },
  {
   "cell_type": "markdown",
   "id": "f3d4041e",
   "metadata": {},
   "source": [
    "# Solution 14"
   ]
  },
  {
   "cell_type": "code",
   "execution_count": null,
   "id": "aa4ed5e8",
   "metadata": {},
   "outputs": [],
   "source": [
    "# Solución"
   ]
  },
  {
   "cell_type": "markdown",
   "id": "835f97e7",
   "metadata": {},
   "source": [
    "****"
   ]
  },
  {
   "cell_type": "markdown",
   "id": "78fbdd42",
   "metadata": {},
   "source": [
    "# Question 15  (Data Aggregates)"
   ]
  },
  {
   "cell_type": "markdown",
   "id": "61afd467-6b71-4a8d-9fc8-de5bd37a15a5",
   "metadata": {},
   "source": [
    "What is the output of the following snippet?\n",
    "\n",
    "```\n",
    "my_list = [1, 2]\n",
    " \n",
    "for v in range(2):\n",
    "    my_list.insert(-1, my_list[v])\n",
    " \n",
    "print(my_list)\n",
    "```\n",
    "\n",
    "A. ```[1, 1, 2, 2]```\n",
    "\n",
    "B. ```[1, 1, 1, 2]```\n",
    "\n",
    "C. ```[1, 2, 1, 2]```\n",
    "\n",
    "D. ```[1, 2, 2, 2]```"
   ]
  },
  {
   "cell_type": "markdown",
   "id": "d5c13634",
   "metadata": {},
   "source": [
    "# Solution 15"
   ]
  },
  {
   "cell_type": "code",
   "execution_count": null,
   "id": "e4adc258",
   "metadata": {},
   "outputs": [],
   "source": [
    "# Solución"
   ]
  },
  {
   "cell_type": "markdown",
   "id": "ea130605",
   "metadata": {},
   "source": [
    "****"
   ]
  },
  {
   "cell_type": "markdown",
   "id": "eabe69e0",
   "metadata": {},
   "source": [
    "# Question 16  (Control Flow)"
   ]
  },
  {
   "cell_type": "markdown",
   "id": "060b1bbf-fc16-411b-82c5-440768528eb8",
   "metadata": {},
   "source": [
    "What is the expected output of the following code?\n",
    "```\n",
    "marks = [80, 70, 90, 90, 80, 100]\n",
    "\n",
    "average = sum(marks) // len(marks)\n",
    "\n",
    "grade = ''\n",
    "\n",
    "if 90 <= average <= 100:\n",
    "    grade = 'A'\n",
    "elif 80 <= average < 90:\n",
    "    grade = 'B'\n",
    "elif 70 <= average < 80:\n",
    "    grade = 'C'\n",
    "elif 65 <= average < 70:\n",
    "    grade = 'D'\n",
    "else:\n",
    "    grade = 'F'\n",
    " \n",
    "print(grade)\n",
    "```\n",
    "A. ```D```\n",
    "\n",
    "B. The code is erroneous\n",
    "\n",
    "C. ```B```\n",
    "\n",
    "D. ```F```\n",
    "\n",
    "E. ```A```\n",
    "\n",
    "F. ```C```"
   ]
  },
  {
   "cell_type": "markdown",
   "id": "ed73ab3d",
   "metadata": {},
   "source": [
    "# Solution 16"
   ]
  },
  {
   "cell_type": "code",
   "execution_count": null,
   "id": "59a5dc44",
   "metadata": {},
   "outputs": [],
   "source": [
    "# Solución"
   ]
  },
  {
   "cell_type": "markdown",
   "id": "df1832a6",
   "metadata": {},
   "source": [
    "****"
   ]
  },
  {
   "cell_type": "markdown",
   "id": "e16354ab",
   "metadata": {},
   "source": [
    "# Question 17  (Basics)"
   ]
  },
  {
   "cell_type": "markdown",
   "id": "302c8568-9e0d-4309-aa79-afb2f9b71d26",
   "metadata": {},
   "source": [
    "What is IDLE?\n",
    "\n",
    "A. An acronym that stands for Interactive Development and Learning extension\n",
    "    \n",
    "B. A version of Python\n",
    "    \n",
    "C. An acronym that stands for Integrated Development and Learning Environment for Python"
   ]
  },
  {
   "cell_type": "markdown",
   "id": "58b8ab3f",
   "metadata": {},
   "source": [
    "# Solution 17"
   ]
  },
  {
   "cell_type": "code",
   "execution_count": null,
   "id": "963c3e1d",
   "metadata": {},
   "outputs": [],
   "source": [
    "# Solución"
   ]
  },
  {
   "cell_type": "markdown",
   "id": "40d4ffc3",
   "metadata": {},
   "source": [
    "****"
   ]
  },
  {
   "cell_type": "markdown",
   "id": "c8261723",
   "metadata": {},
   "source": [
    "# Question 18  (Functions)"
   ]
  },
  {
   "cell_type": "markdown",
   "id": "d1f2b369-90ea-4e08-9a68-3244727e6ef1",
   "metadata": {},
   "source": [
    "A built‑in function is a function which ...\n",
    "\n",
    "A. is hidden from programmers\n",
    "\n",
    "B. has been placed within your code by another programmer\n",
    "\n",
    "C. comes with Python and is an integral part of Python\n",
    "\n",
    "D. has to be imported before use"
   ]
  },
  {
   "cell_type": "markdown",
   "id": "0f852573",
   "metadata": {},
   "source": [
    "# Solution 18"
   ]
  },
  {
   "cell_type": "code",
   "execution_count": null,
   "id": "5402ebd8",
   "metadata": {},
   "outputs": [],
   "source": [
    "# Solución"
   ]
  },
  {
   "cell_type": "markdown",
   "id": "9b4edf51",
   "metadata": {},
   "source": [
    "****"
   ]
  },
  {
   "cell_type": "markdown",
   "id": "110816c7",
   "metadata": {},
   "source": [
    "# Question 19  (Basics)  "
   ]
  },
  {
   "cell_type": "markdown",
   "id": "14da4ffa-66e1-46ba-8e86-406f5135a6ef",
   "metadata": {},
   "source": [
    "What is CPython?\n",
    "\n",
    "\n",
    "A. Another name for CPython, a superset of the Python programming language\n",
    "\n",
    "B. A compiled language used to perform high-level programming functions\n",
    "\n",
    "C. The default implementation of the Python programming language"
   ]
  },
  {
   "cell_type": "markdown",
   "id": "66791312",
   "metadata": {},
   "source": [
    "# Solution 19"
   ]
  },
  {
   "cell_type": "code",
   "execution_count": null,
   "id": "b169c6e9",
   "metadata": {},
   "outputs": [],
   "source": [
    "# Solución"
   ]
  },
  {
   "cell_type": "markdown",
   "id": "fa565dd8",
   "metadata": {},
   "source": [
    "****"
   ]
  },
  {
   "cell_type": "markdown",
   "id": "916b44a4",
   "metadata": {},
   "source": [
    "# Question 20  (Data Aggregates)"
   ]
  },
  {
   "cell_type": "markdown",
   "id": "e693068f-73c7-4449-992b-3cb2a8b8efac",
   "metadata": {},
   "source": [
    "What is the expected output of the following code?\n",
    "\n",
    "```\n",
    "data = {'one': 'two', 'two': 'three', 'three': 'one'}\n",
    "res = data['three']\n",
    " \n",
    "for _ in range(len(data)):\n",
    "    res = data[res]\n",
    " \n",
    "print(res)\n",
    "```\n",
    "\n",
    "\n",
    "A. ```two```\n",
    "\n",
    "B. ```three```\n",
    "\n",
    "C. ```one```\n",
    "\n",
    "D. ```('one', 'two', 'three')```"
   ]
  },
  {
   "cell_type": "markdown",
   "id": "cbd37e8c",
   "metadata": {},
   "source": [
    "# Solution 20"
   ]
  },
  {
   "cell_type": "code",
   "execution_count": null,
   "id": "b2ab0095",
   "metadata": {},
   "outputs": [],
   "source": [
    "# Solución"
   ]
  },
  {
   "cell_type": "markdown",
   "id": "93d2eb6f",
   "metadata": {},
   "source": [
    "****"
   ]
  },
  {
   "cell_type": "markdown",
   "id": "adbedc11",
   "metadata": {},
   "source": [
    "# Question 21  (Operators)"
   ]
  },
  {
   "cell_type": "markdown",
   "id": "c2ea5e9d-9bd1-4180-96c9-c2c3a25ff227",
   "metadata": {},
   "source": [
    "What is the expected output of the following code?\n",
    "\n",
    "```\n",
    "list1 = [3, 7, 23, 42]\n",
    "list2 = [3, 7, 23, 42]\n",
    "print(list1 is list2)\n",
    "print(list1 == list2)\n",
    "```\n",
    "A.\n",
    "```\n",
    "True\n",
    "True\n",
    "```\n",
    "\n",
    "B. \n",
    "```\n",
    "False\n",
    "True\n",
    "```\n",
    "C. \n",
    "```\n",
    "False\n",
    "False\n",
    "```\n",
    "D. \n",
    "```\n",
    "True\n",
    "False\n",
    "```"
   ]
  },
  {
   "cell_type": "markdown",
   "id": "a52798c7",
   "metadata": {},
   "source": [
    "# Solution 21 "
   ]
  },
  {
   "cell_type": "code",
   "execution_count": null,
   "id": "e26e3c04",
   "metadata": {},
   "outputs": [],
   "source": [
    "# Solución"
   ]
  },
  {
   "cell_type": "markdown",
   "id": "24d58aa6",
   "metadata": {},
   "source": [
    "****"
   ]
  },
  {
   "cell_type": "markdown",
   "id": "24dea987",
   "metadata": {},
   "source": [
    "# Question 22    (Control Flow)  "
   ]
  },
  {
   "cell_type": "markdown",
   "id": "aa15e0e4-906b-43d3-a0fb-461d9726cd7b",
   "metadata": {},
   "source": [
    "Consider the following code.\n",
    "\n",
    "```\n",
    "nums = [1, 2, 3, 4, 5, 6, 7, 8, 9, 10]\n",
    "x = 0\n",
    "while x < 10:        # Line 3\n",
    "    print(nums(x))   # Line 4\n",
    "    if nums[x] = 7:  # Line 5\n",
    "        break        # Line 6\n",
    "    else:            # Line 7\n",
    "        x += 1       # Line 8\n",
    "```\n",
    "\n",
    "You want to print the numbers 1 to 7 to the monitor.\n",
    "\n",
    "But the code does not work.\n",
    "\n",
    "What do you have to change?\n",
    "\n",
    "Choose two.\n",
    "\n",
    "A. ```print(nums[x])```    # Line 4\n",
    "    \n",
    "B. ```while(x<10):```      # Line 3\n",
    "\n",
    "C. ```if nums[x]==7:```    # Line 5 \n",
    "\n",
    "D. ```x = x + 1```         # Line 8"
   ]
  },
  {
   "cell_type": "markdown",
   "id": "e7b5c284",
   "metadata": {},
   "source": [
    "# Solution 22"
   ]
  },
  {
   "cell_type": "code",
   "execution_count": null,
   "id": "e160b76e",
   "metadata": {},
   "outputs": [],
   "source": [
    "# Solución"
   ]
  },
  {
   "cell_type": "markdown",
   "id": "e5cea33b",
   "metadata": {},
   "source": [
    "****"
   ]
  },
  {
   "cell_type": "markdown",
   "id": "822187c3",
   "metadata": {},
   "source": [
    "# Question 23   (Operators)"
   ]
  },
  {
   "cell_type": "markdown",
   "id": "07378e4e-98a8-490a-99e1-8f088a062369",
   "metadata": {},
   "source": [
    "What is the expected output of the following code?\n",
    "\n",
    "```\n",
    "x = 2\n",
    "\n",
    "y = 6\n",
    "\n",
    "x += 2 ** 3\n",
    "\n",
    "x //= y // 2 // 3\n",
    "\n",
    "print(x)\n",
    "```\n",
    "\n",
    "\n",
    "A. ```10```\n",
    "\n",
    "B. ```0```\n",
    "\n",
    "C. ```11```\n",
    "\n",
    "D. ```9```"
   ]
  },
  {
   "cell_type": "markdown",
   "id": "ccb25e6d",
   "metadata": {},
   "source": [
    "# Solution 23"
   ]
  },
  {
   "cell_type": "code",
   "execution_count": null,
   "id": "bf3957e8",
   "metadata": {},
   "outputs": [],
   "source": [
    "# Solución"
   ]
  },
  {
   "cell_type": "markdown",
   "id": "8efb033d",
   "metadata": {},
   "source": [
    "****"
   ]
  },
  {
   "cell_type": "markdown",
   "id": "3e9e3c38",
   "metadata": {},
   "source": [
    "# Question 24    (Functions)"
   ]
  },
  {
   "cell_type": "markdown",
   "id": "25cc63ee-3126-4bc0-ba18-b2fdf34643ad",
   "metadata": {},
   "source": [
    "Which of the following lines properly \n",
    "starts a parameterless function definition?\n",
    "\n",
    "A. ```def fun():```\n",
    "\n",
    "B. ```fun function():```\n",
    "\n",
    "C.```def fun:```\n",
    "\n",
    "D. ```function fun():```"
   ]
  },
  {
   "cell_type": "markdown",
   "id": "bf5df307",
   "metadata": {},
   "source": [
    "# Solution 24"
   ]
  },
  {
   "cell_type": "code",
   "execution_count": null,
   "id": "ac104f0b",
   "metadata": {},
   "outputs": [],
   "source": [
    "# Solución"
   ]
  },
  {
   "cell_type": "markdown",
   "id": "08decad0",
   "metadata": {},
   "source": [
    "****"
   ]
  },
  {
   "cell_type": "markdown",
   "id": "33c08eb7",
   "metadata": {},
   "source": [
    "# Question 25  (Data Aggregates)"
   ]
  },
  {
   "cell_type": "markdown",
   "id": "bafe3c08-0624-4836-afde-e54fdc955c42",
   "metadata": {},
   "source": [
    "What is the expected output of the following code?\n",
    "```\n",
    "data = {'name': 'Peter', 'age': 30}\n",
    "person = data.copy()\n",
    "print(id(data) == id(person))\n",
    "```\n",
    "A. ```False```\n",
    "\n",
    "B. ```True```\n",
    "\n",
    "C. ```1```\n",
    "\n",
    "D. ```0```"
   ]
  },
  {
   "cell_type": "markdown",
   "id": "48f0c038",
   "metadata": {},
   "source": [
    "# Solution 25"
   ]
  },
  {
   "cell_type": "code",
   "execution_count": null,
   "id": "70792feb",
   "metadata": {},
   "outputs": [],
   "source": [
    "# Solución"
   ]
  },
  {
   "cell_type": "markdown",
   "id": "9499536d",
   "metadata": {},
   "source": [
    "****"
   ]
  },
  {
   "cell_type": "markdown",
   "id": "9012902e",
   "metadata": {},
   "source": [
    "# Question 26     (Functions)"
   ]
  },
  {
   "cell_type": "markdown",
   "id": "cbcbf7fe-ba2a-4019-a281-60a54d2565ee",
   "metadata": {},
   "source": [
    "What is the expected output of the following code?\n",
    "\n",
    "```\n",
    "x = 42\n",
    " \n",
    "def func():\n",
    "    global x\n",
    "    print('1. x:', x)\n",
    "    x = 23\n",
    "    print('2. x:', x)\n",
    " \n",
    "func()\n",
    "print('3. x:', x)\n",
    "```\n",
    "A.\n",
    "```\n",
    "1. x: 42\n",
    "2. x: 23\n",
    "3. x: 23\n",
    "```\n",
    "B. \n",
    "```\n",
    "None of the above\n",
    "```\n",
    "C. \n",
    "```\n",
    "1. x: 42\n",
    "2. x: 23\n",
    "3. x: 42\n",
    "```\n",
    "D. \n",
    "```\n",
    "1. x: 42\n",
    "2. x: 42\n",
    "3. x: 42\n",
    "```"
   ]
  },
  {
   "cell_type": "markdown",
   "id": "33090470",
   "metadata": {},
   "source": [
    "# Solution 26"
   ]
  },
  {
   "cell_type": "code",
   "execution_count": null,
   "id": "1a9b36e6",
   "metadata": {},
   "outputs": [],
   "source": [
    "# Solución"
   ]
  },
  {
   "cell_type": "markdown",
   "id": "74bff6ba",
   "metadata": {},
   "source": [
    "****"
   ]
  },
  {
   "cell_type": "markdown",
   "id": "6bebbbb8",
   "metadata": {},
   "source": [
    "# Question 27    (Basics)"
   ]
  },
  {
   "cell_type": "markdown",
   "id": "132ac90b-0847-48f3-8f87-0ac4f7e5231d",
   "metadata": {},
   "source": [
    "A keyword is a word:\n",
    "\n",
    "\n",
    "(Select two answers)\n",
    "\n",
    "A. that cannot be used as a function name\n",
    "\n",
    "B. that cannot be used as a variable name\n",
    "\n",
    "C. is the most important word in the whole program"
   ]
  },
  {
   "cell_type": "markdown",
   "id": "fad8536a",
   "metadata": {},
   "source": [
    "# Solution 27"
   ]
  },
  {
   "cell_type": "code",
   "execution_count": null,
   "id": "ba06fa30",
   "metadata": {},
   "outputs": [],
   "source": [
    "# Solución"
   ]
  },
  {
   "cell_type": "markdown",
   "id": "2a66728a",
   "metadata": {},
   "source": [
    "****"
   ]
  },
  {
   "cell_type": "markdown",
   "id": "40f24429",
   "metadata": {},
   "source": [
    "# Question 28    (Operators)"
   ]
  },
  {
   "cell_type": "markdown",
   "id": "e7927f3a-a869-43f9-9de0-dc657abbf9a3",
   "metadata": {},
   "source": [
    "The result of the following division:\n",
    "\n",
    "```\n",
    "1 / 1\n",
    "```\n",
    "A. cannot be predicted\n",
    "\n",
    "B. cannot be evaluated\n",
    "\n",
    "C. is equal to ```1.0```\n",
    "\n",
    "D. is equal to ```1```"
   ]
  },
  {
   "cell_type": "markdown",
   "id": "fdea8d57",
   "metadata": {},
   "source": [
    "# Solution 28"
   ]
  },
  {
   "cell_type": "code",
   "execution_count": null,
   "id": "74f58b8b",
   "metadata": {},
   "outputs": [],
   "source": [
    "# Solución"
   ]
  },
  {
   "cell_type": "markdown",
   "id": "4fee1fca",
   "metadata": {},
   "source": [
    "****"
   ]
  },
  {
   "cell_type": "markdown",
   "id": "02b11c22",
   "metadata": {},
   "source": [
    "# Question 29  (Data Aggregates)    "
   ]
  },
  {
   "cell_type": "markdown",
   "id": "23b4d3aa-93af-4fb5-bf5e-da0c0427e936",
   "metadata": {},
   "source": [
    "What is the output of the following code?\n",
    "\n",
    "```\n",
    "my_list = [3, 1, -1]\n",
    "my_list[-1] = my_list[-2]\n",
    "print(my_list)\n",
    "```\n",
    "\n",
    "A. ```[3, -1, 1]```\n",
    "\n",
    "B. ```[3, 1, 1]```\n",
    "\n",
    "C. ```[1, 1, -1]```"
   ]
  },
  {
   "cell_type": "markdown",
   "id": "6a19ceaa",
   "metadata": {},
   "source": [
    "# Solution 29"
   ]
  },
  {
   "cell_type": "code",
   "execution_count": null,
   "id": "082c97d3",
   "metadata": {},
   "outputs": [],
   "source": [
    "# Solución"
   ]
  },
  {
   "cell_type": "markdown",
   "id": "5539648a",
   "metadata": {},
   "source": [
    "****"
   ]
  },
  {
   "cell_type": "markdown",
   "id": "707edf97",
   "metadata": {},
   "source": [
    "# Question 30  (Data Aggregates)"
   ]
  },
  {
   "cell_type": "markdown",
   "id": "988a7806-da04-4f0c-a3fd-3d915d3e3da1",
   "metadata": {},
   "source": [
    "What is the output of the following snippet?\n",
    "```\n",
    "tup = (1, ) + (1, )\n",
    "tup = tup + tup\n",
    "print(len(tup))\n",
    "```\n",
    "\n",
    "A. the snippet is erroneous (invalid syntax)\n",
    "\n",
    "B. ```4```\n",
    "\n",
    "C. ```2```"
   ]
  },
  {
   "cell_type": "markdown",
   "id": "2d184945",
   "metadata": {},
   "source": [
    "# Solution 30"
   ]
  },
  {
   "cell_type": "code",
   "execution_count": null,
   "id": "779d48f2",
   "metadata": {},
   "outputs": [],
   "source": [
    "# Solución"
   ]
  },
  {
   "cell_type": "markdown",
   "id": "9f3aa8ed",
   "metadata": {},
   "source": [
    "****"
   ]
  },
  {
   "cell_type": "markdown",
   "id": "09d195df",
   "metadata": {},
   "source": [
    "*Gracias por la atención*\n",
    "\n",
    "*Isabel Maniega*"
   ]
  }
 ],
 "metadata": {
  "kernelspec": {
   "display_name": "Python 3 (ipykernel)",
   "language": "python",
   "name": "python3"
  },
  "language_info": {
   "codemirror_mode": {
    "name": "ipython",
    "version": 3
   },
   "file_extension": ".py",
   "mimetype": "text/x-python",
   "name": "python",
   "nbconvert_exporter": "python",
   "pygments_lexer": "ipython3",
   "version": "3.8.19"
  }
 },
 "nbformat": 4,
 "nbformat_minor": 5
}

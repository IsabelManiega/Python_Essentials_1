{
 "cells": [
  {
   "cell_type": "markdown",
   "id": "ec3eb97d",
   "metadata": {},
   "source": [
    "*Contenido creado por: Isabel Maniega*"
   ]
  },
  {
   "cell_type": "markdown",
   "id": "07cad330",
   "metadata": {},
   "source": [
    "****"
   ]
  },
  {
   "cell_type": "markdown",
   "id": "83f1ab10",
   "metadata": {},
   "source": [
    "# Question 1    (Data Aggregates)"
   ]
  },
  {
   "cell_type": "markdown",
   "id": "9e97a755-5ca4-411b-bb62-c1105264ca2a",
   "metadata": {},
   "source": [
    "What is the expected output of the following code?\n",
    "```\n",
    "data = (1, 2, 3, 4)\n",
    "data = data[-2:-1]\n",
    "data = data[-1]\n",
    "print(data)\n",
    "```\n",
    "A. ```1```\n",
    "\n",
    "B. ```3```\n",
    "\n",
    "C. ```4```\n",
    "\n",
    "D. ```2```"
   ]
  },
  {
   "cell_type": "markdown",
   "id": "7cfac698",
   "metadata": {},
   "source": [
    "# Solution 1"
   ]
  },
  {
   "cell_type": "code",
   "execution_count": null,
   "id": "f440d25d",
   "metadata": {},
   "outputs": [],
   "source": [
    "# Solución"
   ]
  },
  {
   "cell_type": "markdown",
   "id": "e3d8ca95",
   "metadata": {},
   "source": [
    "****"
   ]
  },
  {
   "cell_type": "markdown",
   "id": "68ca6364",
   "metadata": {},
   "source": [
    "# Question 2   (Functions)    "
   ]
  },
  {
   "cell_type": "markdown",
   "id": "924c658b-d2ee-4074-9af6-0da16f8ce8d2",
   "metadata": {},
   "source": [
    "What is the expected output of the following code?\n",
    "```\n",
    "def func(n):\n",
    "    s = '*'\n",
    "    for i in range(n):\n",
    "        s += s\n",
    "    yield s\n",
    " \n",
    "for x in func(2):\n",
    "    print(x, end='')\n",
    "```\n",
    "\n",
    "A. ```***```\n",
    "    \n",
    "B. ```*```\n",
    "    \n",
    "C. ```****```\n",
    "    \n",
    "D. ```**```"
   ]
  },
  {
   "cell_type": "markdown",
   "id": "f6de23c2",
   "metadata": {},
   "source": [
    "# Solution 2"
   ]
  },
  {
   "cell_type": "code",
   "execution_count": null,
   "id": "3f0beb8a",
   "metadata": {},
   "outputs": [],
   "source": [
    "# Solución"
   ]
  },
  {
   "cell_type": "markdown",
   "id": "a59fd575",
   "metadata": {},
   "source": [
    "****"
   ]
  },
  {
   "cell_type": "markdown",
   "id": "7900e7db",
   "metadata": {},
   "source": [
    "# Question 3    (Data Aggregates)"
   ]
  },
  {
   "cell_type": "markdown",
   "id": "14011571-1033-409a-bbe9-fdc557d924ec",
   "metadata": {},
   "source": [
    "What is the expected output of the following code?\n",
    "\n",
    "```\n",
    "data = {}\n",
    "data['2'] = [1, 2]\n",
    "data['1'] = [3, 4]\n",
    " \n",
    "for i in data.keys():\n",
    "    print(data[i][1], end=' ')\n",
    "```\n",
    "\n",
    "A. ```4 2```\n",
    "\n",
    "B. ```1 3```\n",
    "\n",
    "C. ```3 1```\n",
    "\n",
    "D. ```2 4```"
   ]
  },
  {
   "cell_type": "markdown",
   "id": "2ea540ea",
   "metadata": {},
   "source": [
    "# Solution 3"
   ]
  },
  {
   "cell_type": "code",
   "execution_count": null,
   "id": "8a04e483",
   "metadata": {},
   "outputs": [],
   "source": [
    "# Solución"
   ]
  },
  {
   "cell_type": "markdown",
   "id": "f64c12d2",
   "metadata": {},
   "source": [
    "****"
   ]
  },
  {
   "cell_type": "markdown",
   "id": "423d9c69",
   "metadata": {},
   "source": [
    "# Question 4  (Control Flow) "
   ]
  },
  {
   "cell_type": "markdown",
   "id": "63384427-2bbf-4735-ba87-528a543eac0f",
   "metadata": {},
   "source": [
    "How many stars will the following code print to the monitor?\n",
    "\n",
    "```\n",
    "data = [[x for x in range(3)] for y in range(3)]\n",
    "for i in range(3):\n",
    "    for j in range(3):\n",
    "        if data[i][j] % 2 != 0:\n",
    "            print('*')\n",
    "```\n",
    "            \n",
    "A. six\n",
    "\n",
    "B. three\n",
    "\n",
    "C. zero\n",
    "\n",
    "D. nine"
   ]
  },
  {
   "cell_type": "markdown",
   "id": "05d8aa34",
   "metadata": {},
   "source": [
    "# Solution 4"
   ]
  },
  {
   "cell_type": "code",
   "execution_count": null,
   "id": "3ead24c4",
   "metadata": {},
   "outputs": [],
   "source": [
    "# Solución"
   ]
  },
  {
   "cell_type": "markdown",
   "id": "94724fac",
   "metadata": {},
   "source": [
    "****"
   ]
  },
  {
   "cell_type": "markdown",
   "id": "acf12e8c",
   "metadata": {},
   "source": [
    "# Question 5   (Data Types)"
   ]
  },
  {
   "cell_type": "markdown",
   "id": "fbb26793-679c-4f24-8859-2279423755b4",
   "metadata": {},
   "source": [
    "Consider the following code.\n",
    "\n",
    "```\n",
    "start = input('How old were you at the time of joining?')\n",
    "now = input('How old are you today?')\n",
    "```\n",
    "\n",
    "Which of the following codes will print the right output?\n",
    "\n",
    "\n",
    "A.\n",
    "```\n",
    "print(\n",
    "     'Congrats on '\n",
    "     + int(now - start)\n",
    "     + ' years of service!'\n",
    ")\n",
    "```\n",
    "B.\n",
    "```\n",
    "print(\n",
    "     'Congrats on '\n",
    "     + str(now - start)\n",
    "     + ' years of service!'\n",
    ")\n",
    "```\n",
    "C.\n",
    "```\n",
    "print(\n",
    "     'Congrats on '\n",
    "     + (int(now) - int(start))\n",
    "     + ' years of service!'\n",
    ")\n",
    "```\n",
    "D.\n",
    "```\n",
    "print(\n",
    "     'Congrats on '\n",
    "     + str(int(now) - int(start))\n",
    "     + ' years of service!'\n",
    ")\n",
    "```"
   ]
  },
  {
   "cell_type": "markdown",
   "id": "d2979c06",
   "metadata": {},
   "source": [
    "# Solution 5"
   ]
  },
  {
   "cell_type": "code",
   "execution_count": null,
   "id": "7f118e62",
   "metadata": {},
   "outputs": [],
   "source": [
    "# Solución"
   ]
  },
  {
   "cell_type": "markdown",
   "id": "c4b8d574",
   "metadata": {},
   "source": [
    "****"
   ]
  },
  {
   "cell_type": "markdown",
   "id": "4375e759",
   "metadata": {},
   "source": [
    "# Question 6    (Control Flow)"
   ]
  },
  {
   "cell_type": "markdown",
   "id": "26fd955f-2dcc-4bc8-aab4-28772f0e37cf",
   "metadata": {},
   "source": [
    "Which one of the lines should you put in the snippet below to match the expected output?\n",
    "\n",
    "\n",
    "Expected output:\n",
    "```\n",
    "1245\n",
    "```\n",
    "\n",
    "Code:\n",
    "```\n",
    "c = 0\n",
    "while c < 5:\n",
    "    c = c + 1\n",
    "    if c == 3:\n",
    "        # enter code here\n",
    "    print(c, end=\"\")\n",
    "```\n",
    "A. ```exit```\n",
    "\n",
    "B. ```continue```\n",
    "\n",
    "C. ```print()```\n",
    "\n",
    "D. ```break```"
   ]
  },
  {
   "cell_type": "markdown",
   "id": "ff249567",
   "metadata": {},
   "source": [
    "# Solution 6"
   ]
  },
  {
   "cell_type": "code",
   "execution_count": null,
   "id": "2a0315d9",
   "metadata": {},
   "outputs": [],
   "source": [
    "# Solución"
   ]
  },
  {
   "cell_type": "markdown",
   "id": "e994dbfd",
   "metadata": {},
   "source": [
    "****"
   ]
  },
  {
   "cell_type": "markdown",
   "id": "798b3726",
   "metadata": {},
   "source": [
    "# Question 7   (Functions)"
   ]
  },
  {
   "cell_type": "markdown",
   "id": "0c549acd-de15-4061-ab84-9e9a5a266edf",
   "metadata": {},
   "source": [
    "What is the expected output of the following code?\n",
    "\n",
    "```\n",
    "def func(x=2, y=3):\n",
    "    return x * y\n",
    " \n",
    "print(func(y=2, 3))\n",
    "```\n",
    "\n",
    "A. The code is erroneous\n",
    "\n",
    "B. ```4```\n",
    "\n",
    "C. ```6```\n",
    "\n",
    "D. ```2```"
   ]
  },
  {
   "cell_type": "markdown",
   "id": "6ad5d7a2",
   "metadata": {},
   "source": [
    "# Solution 7"
   ]
  },
  {
   "cell_type": "code",
   "execution_count": null,
   "id": "38eaf6e0",
   "metadata": {},
   "outputs": [],
   "source": [
    "# Solución"
   ]
  },
  {
   "cell_type": "markdown",
   "id": "78010548",
   "metadata": {},
   "source": [
    "****"
   ]
  },
  {
   "cell_type": "markdown",
   "id": "eb31e191",
   "metadata": {},
   "source": [
    "# Question 8  (Data Aggregates)    "
   ]
  },
  {
   "cell_type": "markdown",
   "id": "850a6f8a-5100-4f55-a233-8119f7728ac6",
   "metadata": {},
   "source": [
    "What is the expected output of the following code?\n",
    "\n",
    "```\n",
    "data = {1: 0, 2: 1, 3: 2, 0: 1}\n",
    "x = 0\n",
    " \n",
    "for _ in range(len(data)):\n",
    "    x = data[x]\n",
    " \n",
    "print(x)\n",
    "```\n",
    "\n",
    "A. ```0```\n",
    "\n",
    "B. ```1```\n",
    "\n",
    "C. The code is erroneous\n",
    "\n",
    "D. ```2```"
   ]
  },
  {
   "cell_type": "markdown",
   "id": "87bafe8c",
   "metadata": {},
   "source": [
    "# Solution 8"
   ]
  },
  {
   "cell_type": "code",
   "execution_count": null,
   "id": "d33dc4a2",
   "metadata": {},
   "outputs": [],
   "source": [
    "# Solución"
   ]
  },
  {
   "cell_type": "markdown",
   "id": "c53078e3",
   "metadata": {},
   "source": [
    "****"
   ]
  },
  {
   "cell_type": "markdown",
   "id": "f8720650",
   "metadata": {},
   "source": [
    "# Question 9  (Operators)"
   ]
  },
  {
   "cell_type": "markdown",
   "id": "46c47111-dc04-42e9-b44c-08d135952eec",
   "metadata": {},
   "source": [
    "Which of the following statements are correct?\n",
    "\n",
    "Choose two.\n",
    "\n",
    "A. ```True and False``` evaluates to ```true```\n",
    "\n",
    "B. ```7 + False``` evaluates to ```False```\n",
    "\n",
    "C. ```type('')``` returns ```<class 'bool'>```\n",
    "\n",
    "D. ```True + 1``` evaluates to ```2```\n",
    "\n",
    "E. ```True or False``` evaluates to ```True```"
   ]
  },
  {
   "cell_type": "markdown",
   "id": "db5f7d67",
   "metadata": {},
   "source": [
    "# Solution 9"
   ]
  },
  {
   "cell_type": "code",
   "execution_count": null,
   "id": "65ecfa8a",
   "metadata": {},
   "outputs": [],
   "source": [
    "# Solución"
   ]
  },
  {
   "cell_type": "markdown",
   "id": "d26505df",
   "metadata": {},
   "source": [
    "****"
   ]
  },
  {
   "cell_type": "markdown",
   "id": "0bd5d134",
   "metadata": {},
   "source": [
    "# Question 10  (Error Handling)"
   ]
  },
  {
   "cell_type": "markdown",
   "id": "d2877b07-3e3e-4d71-b2e5-9a7780b27b69",
   "metadata": {},
   "source": [
    "What is the output of the following code if the user enters a 0?\n",
    "\n",
    "```\n",
    "try:\n",
    "    value = input(\"Enter a value: \")\n",
    "    print(int(value)/int(value))\n",
    "except ValueError:\n",
    "    print(\"Bad input...\")\n",
    "except ZeroDivisionError:\n",
    "    print(\"Very bad input...\")\n",
    "except TypeError:\n",
    "    print(\"Very very bad input...\")\n",
    "except:\n",
    "    print(\"Booo!\")\n",
    "```\n",
    "    \n",
    "A. ```1.0``` \n",
    "\n",
    "B. ```Bad input...```\n",
    "\n",
    "C. ```Booo!```\n",
    "\n",
    "D. ```Very bad input...```\n",
    "\n",
    "E. ```Very very bad input...```\n",
    "\n",
    "F. ```0.0```"
   ]
  },
  {
   "cell_type": "markdown",
   "id": "0cf6c901",
   "metadata": {},
   "source": [
    "# Solution 10"
   ]
  },
  {
   "cell_type": "code",
   "execution_count": null,
   "id": "bca11fd0",
   "metadata": {},
   "outputs": [],
   "source": [
    "# Solución"
   ]
  },
  {
   "cell_type": "markdown",
   "id": "47bd6d7c",
   "metadata": {},
   "source": [
    "****"
   ]
  },
  {
   "cell_type": "markdown",
   "id": "72b3f0f9",
   "metadata": {},
   "source": [
    "# Question 11  (Operators)"
   ]
  },
  {
   "cell_type": "markdown",
   "id": "9ab348ab-6f41-4afe-8f4e-87a6bff086e7",
   "metadata": {},
   "source": [
    "What is the output of the following snippet?\n",
    "\n",
    "```\n",
    "y = 2 + 3 * 5.\n",
    "print(y)\n",
    "```\n",
    "A. ```17.0```\n",
    "\n",
    "B. ```25.0```\n",
    "\n",
    "C. the snippet will cause an execution error\n",
    "\n",
    "D. ```17```"
   ]
  },
  {
   "cell_type": "markdown",
   "id": "984fccd3",
   "metadata": {},
   "source": [
    "# Solution 11"
   ]
  },
  {
   "cell_type": "code",
   "execution_count": null,
   "id": "3616fe55",
   "metadata": {},
   "outputs": [],
   "source": [
    "# Solución"
   ]
  },
  {
   "cell_type": "markdown",
   "id": "84f09098",
   "metadata": {},
   "source": [
    "****"
   ]
  },
  {
   "cell_type": "markdown",
   "id": "a8141556",
   "metadata": {},
   "source": [
    "# Question 12   (Functions)"
   ]
  },
  {
   "cell_type": "markdown",
   "id": "bab16006-c3bf-4f60-98e8-9518fdcc1b73",
   "metadata": {},
   "source": [
    "What is the expected output of the following code?\n",
    "\n",
    "```\n",
    "def func(x):\n",
    "    if x % 2 == 0:\n",
    "        return 1\n",
    "    else:\n",
    "        return 2\n",
    " \n",
    "print(func(func(2)))\n",
    "```\n",
    "A. ```0```\n",
    "\n",
    "B. ```1```\n",
    "\n",
    "C. ```2```\n",
    "\n",
    "D. The code is erroneous"
   ]
  },
  {
   "cell_type": "markdown",
   "id": "b9614646",
   "metadata": {},
   "source": [
    "# Solution 12"
   ]
  },
  {
   "cell_type": "code",
   "execution_count": null,
   "id": "fbaa1267",
   "metadata": {},
   "outputs": [],
   "source": [
    "# Solución"
   ]
  },
  {
   "cell_type": "markdown",
   "id": "bb19d437",
   "metadata": {},
   "source": [
    "****"
   ]
  },
  {
   "cell_type": "markdown",
   "id": "8d972d0a",
   "metadata": {},
   "source": [
    "# Question 13  (Operators)"
   ]
  },
  {
   "cell_type": "markdown",
   "id": "1f63cad3-339b-42d3-b007-bbc5f4d03692",
   "metadata": {},
   "source": [
    "Consider the following code.\n",
    "\n",
    "```\n",
    "languages = ['English', 'Spanish', 'German']\n",
    "more_languages = ['English', 'Spanish', 'German']\n",
    "extra_languages = more_languages\n",
    "```\n",
    "Which statement will print True to the monitor?\n",
    "\n",
    "Choose two.\n",
    "\n",
    "\n",
    "A. ```print(more_languages is extra_languages)```\n",
    "    \n",
    "B. ```print(languages == more_languages)```\n",
    "    \n",
    "C. ```print(languages is extra_languages)```\n",
    "    \n",
    "D. ```print(languages is more_languages)```"
   ]
  },
  {
   "cell_type": "markdown",
   "id": "46ee0b1f",
   "metadata": {},
   "source": [
    "# Solution 13"
   ]
  },
  {
   "cell_type": "code",
   "execution_count": null,
   "id": "91257200",
   "metadata": {},
   "outputs": [],
   "source": [
    "# Solución"
   ]
  },
  {
   "cell_type": "markdown",
   "id": "34ce9ce2",
   "metadata": {},
   "source": [
    "****"
   ]
  },
  {
   "cell_type": "markdown",
   "id": "1b83f968",
   "metadata": {},
   "source": [
    "# Question 14   (Data Aggregates) "
   ]
  },
  {
   "cell_type": "markdown",
   "id": "4734dbac-db54-40ef-a15b-3f3a4a999454",
   "metadata": {},
   "source": [
    "What is the output of the following snippet?\n",
    "\n",
    "```\n",
    "my_list = ['Mary', 'had', 'a', 'little', 'lamb']\n",
    " \n",
    "def my_list(my_list):\n",
    "    del my_list[3]\n",
    "    my_list[3] = 'ram'\n",
    " \n",
    "print(my_list(my_list))\n",
    "```\n",
    "A. ```['Mary', 'had', 'a', 'lamb']```\n",
    "\n",
    "B. ```['Mary', 'had', 'a', 'ramb']```\n",
    "\n",
    "C. no output, the snippet is erroneous\n",
    "\n",
    "D. ```['Mary', 'had', 'a', 'little', 'lamb']```"
   ]
  },
  {
   "cell_type": "markdown",
   "id": "885a7252",
   "metadata": {},
   "source": [
    "# Solution 14"
   ]
  },
  {
   "cell_type": "code",
   "execution_count": null,
   "id": "cceafdbf",
   "metadata": {},
   "outputs": [],
   "source": [
    "# Solución"
   ]
  },
  {
   "cell_type": "markdown",
   "id": "5666bcd6",
   "metadata": {},
   "source": [
    "****"
   ]
  },
  {
   "cell_type": "markdown",
   "id": "7af25e14",
   "metadata": {},
   "source": [
    "# Question 15  (Control Flow) "
   ]
  },
  {
   "cell_type": "markdown",
   "id": "49bb0e92-d7ca-469d-82dd-bef6d7353c42",
   "metadata": {},
   "source": [
    "The ABC company needs a way to find the count of particular letters\n",
    "in their publications to ensure that there is a good balance.\n",
    "It seems that there have been complaints about overuse of the letter e\n",
    "You need to create a function to meet the requirements.\n",
    "\n",
    "Function accepts a list of words from a file,\n",
    "and a letter to search for.\n",
    "Returns count of the words containing that letter.\n",
    "``` \n",
    "def count_letter(letter, word_list):\n",
    "    count = 0\n",
    "    for ???:\n",
    "        if ???:\n",
    "            count += 1\n",
    "return count\n",
    " \n",
    "word_list = []\n",
    "# word_list is populated from a file. Code not shown.\n",
    " \n",
    "letter = input('Which letter would you like to count?')\n",
    "letter_count = count_letter(letter, word_list)\n",
    "print('There are', letter_count, 'words with the letter', letter)\n",
    "```\n",
    "\n",
    "What would you insert instead of ??? and ???\n",
    "\n",
    "A.\n",
    "```\n",
    "word is word_list\n",
    "letter in word\n",
    "```\n",
    "B. \n",
    "```\n",
    "word in word_list\n",
    "letter is word\n",
    "```\n",
    "C. \n",
    "```\n",
    "word_list in word\n",
    "word in letter\n",
    "```\n",
    "D.\n",
    "```\n",
    "word_list in word\n",
    "word in letter\n",
    "```\n",
    "E.\n",
    "```\n",
    "words in word_list\n",
    "letter in word\n",
    "```\n",
    "F.\n",
    "```\n",
    "word in word_list\n",
    " letter in word\n",
    "```"
   ]
  },
  {
   "cell_type": "markdown",
   "id": "d9044afb",
   "metadata": {},
   "source": [
    "# Solution 15"
   ]
  },
  {
   "cell_type": "code",
   "execution_count": null,
   "id": "0e26ed21",
   "metadata": {},
   "outputs": [],
   "source": [
    "# Solución"
   ]
  },
  {
   "cell_type": "markdown",
   "id": "eb12c5ed",
   "metadata": {},
   "source": [
    "****"
   ]
  },
  {
   "cell_type": "markdown",
   "id": "b24e9681",
   "metadata": {},
   "source": [
    "# Question 16  (Data Types)"
   ]
  },
  {
   "cell_type": "markdown",
   "id": "b86f5304-7431-44d9-ac1c-19e01cd3c2ef",
   "metadata": {},
   "source": [
    "The following code:\n",
    "```\n",
    "print(float(\"1, 3\"))\n",
    "```\n",
    "\n",
    "A. ```prints 1.3```\n",
    "\n",
    "B. ```prints 1,3```\n",
    "\n",
    "C. raises a ValueError exception\n",
    "\n",
    "D. ```prints 13```"
   ]
  },
  {
   "cell_type": "markdown",
   "id": "d889ff36",
   "metadata": {},
   "source": [
    "# Solution 16"
   ]
  },
  {
   "cell_type": "code",
   "execution_count": null,
   "id": "a4082188",
   "metadata": {},
   "outputs": [],
   "source": [
    "# Solución"
   ]
  },
  {
   "cell_type": "markdown",
   "id": "b92c75e6",
   "metadata": {},
   "source": [
    "****"
   ]
  },
  {
   "cell_type": "markdown",
   "id": "9d643951",
   "metadata": {},
   "source": [
    "# Question 17  (Data Types)"
   ]
  },
  {
   "cell_type": "markdown",
   "id": "0a0c5add-55fb-4e89-90c3-e520af458a96",
   "metadata": {},
   "source": [
    "Consider the following Python code:\n",
    "```\n",
    "distance = 1876.23\n",
    "amount = +42E7\n",
    "country = 'Italy'\n",
    "```\n",
    "\n",
    "What are the types of the variables distance, amount and country?\n",
    "\n",
    "A. ```float, str, str```\n",
    "\n",
    "B. ```float, float, str```\n",
    "\n",
    "C. ```double, str, float```\n",
    "\n",
    "D. ```float, int, str```"
   ]
  },
  {
   "cell_type": "markdown",
   "id": "2be9bfb2",
   "metadata": {},
   "source": [
    "# Solution 17"
   ]
  },
  {
   "cell_type": "code",
   "execution_count": null,
   "id": "340f8a92",
   "metadata": {},
   "outputs": [],
   "source": [
    "# Solución"
   ]
  },
  {
   "cell_type": "markdown",
   "id": "a3fc7d26",
   "metadata": {},
   "source": [
    "****"
   ]
  },
  {
   "cell_type": "markdown",
   "id": "dfbc9a98",
   "metadata": {},
   "source": [
    "# Question 18  (Operators)"
   ]
  },
  {
   "cell_type": "markdown",
   "id": "58236d60-8aed-4919-bfc9-4d9c6030ec92",
   "metadata": {},
   "source": [
    "What is the result of the following operation?\n",
    "```\n",
    "1 + 1.0\n",
    "```\n",
    "\n",
    "A. ```2```\n",
    "\n",
    "B. the operation is illegal in Python\n",
    "\n",
    "C. ```11.0```\n",
    "\n",
    "D. ```2.0```"
   ]
  },
  {
   "cell_type": "markdown",
   "id": "20db0835",
   "metadata": {},
   "source": [
    "# Solution 18"
   ]
  },
  {
   "cell_type": "code",
   "execution_count": null,
   "id": "92f9befd",
   "metadata": {},
   "outputs": [],
   "source": [
    "# Solución"
   ]
  },
  {
   "cell_type": "markdown",
   "id": "80f6a783",
   "metadata": {},
   "source": [
    "****"
   ]
  },
  {
   "cell_type": "markdown",
   "id": "a0d91ba8-3bc5-4380-9785-42a7ba253408",
   "metadata": {},
   "source": [
    "**EVAL**"
   ]
  },
  {
   "cell_type": "markdown",
   "id": "f2a3b448-3381-4e2d-b87a-76efbaa51179",
   "metadata": {},
   "source": [
    "eval is una built-in- function de python, \n",
    "\n",
    "evalúa el string como una expresión de Python y retorna un entero"
   ]
  },
  {
   "cell_type": "code",
   "execution_count": null,
   "id": "a162e296-b0d6-4167-a5ff-c39b22e21edf",
   "metadata": {},
   "outputs": [],
   "source": [
    "# eval: ejemplo 1 (sin eval)"
   ]
  },
  {
   "cell_type": "code",
   "execution_count": null,
   "id": "970736e6-01bf-4e6d-9f7d-7fdba468c372",
   "metadata": {},
   "outputs": [],
   "source": [
    "x1 = input(\"Introduce un número\")       # 10\n",
    "print(x1)\n",
    "print(type(x1))"
   ]
  },
  {
   "cell_type": "code",
   "execution_count": null,
   "id": "fd62bce6-7677-46e1-be28-dacc5173d8e3",
   "metadata": {},
   "outputs": [],
   "source": [
    "# ejemplo 1 (con eval)"
   ]
  },
  {
   "cell_type": "code",
   "execution_count": null,
   "id": "ca2618b4-2cef-4699-8a12-f7e7734711b9",
   "metadata": {},
   "outputs": [],
   "source": [
    "x2 = eval(input(\"Introduce un número\"))    # 10\n",
    "print(x2)\n",
    "print(type(x2))"
   ]
  },
  {
   "cell_type": "code",
   "execution_count": null,
   "id": "abc6e7c7-ee1e-40dc-adb3-ea1bc8ad9d1a",
   "metadata": {},
   "outputs": [],
   "source": [
    "# eval: ejemplo 2"
   ]
  },
  {
   "cell_type": "code",
   "execution_count": null,
   "id": "a358a90d-02c7-4b90-b120-6219aea02674",
   "metadata": {},
   "outputs": [],
   "source": [
    "x = 10\n",
    "x3 = eval('15 + x')\n",
    "print(x3)"
   ]
  },
  {
   "cell_type": "code",
   "execution_count": null,
   "id": "07999588-7659-449f-89e2-0debea6ae395",
   "metadata": {},
   "outputs": [],
   "source": [
    "# eval: ejemplo 3"
   ]
  },
  {
   "cell_type": "code",
   "execution_count": null,
   "id": "58d05fcd-fa89-4179-8551-a44a0acf92d9",
   "metadata": {},
   "outputs": [],
   "source": [
    "# HAY QUE AÑADIR LOS NUMEROS CON UNA COMA\n",
    "# 10,30\n",
    "# PARA QUE SEPA QUE ES X3 UNO DE ELLOS, Y3 EL OTRO\n",
    "\n",
    "x3, y3 = eval(input('Introduce 2 números: '))    # 10, 20    (de una sola vez, con la coma)\n",
    "print('x3:', x3, ', y3:', y3)"
   ]
  },
  {
   "cell_type": "code",
   "execution_count": null,
   "id": "95ae59cd-85ee-4dc4-811c-ff22bbb65b35",
   "metadata": {},
   "outputs": [],
   "source": [
    "# eval: ejemplo 4"
   ]
  },
  {
   "cell_type": "code",
   "execution_count": null,
   "id": "4f36a475-a159-4173-8bbf-61704cf6579a",
   "metadata": {},
   "outputs": [],
   "source": [
    "x4, y4 = eval('3, 4') \n",
    "print('x4:', x4, ', y4:', y4)"
   ]
  },
  {
   "cell_type": "code",
   "execution_count": null,
   "id": "0e385941-bf32-4379-8422-f873226d0303",
   "metadata": {},
   "outputs": [],
   "source": [
    "# eval: ejemplo 5"
   ]
  },
  {
   "cell_type": "code",
   "execution_count": null,
   "id": "78bfbbe9-1869-4651-85a9-f86c1319ead0",
   "metadata": {},
   "outputs": [],
   "source": [
    "\"\"\"\n",
    "x5, y5 = eval('3 4') \n",
    "print('x5:', x5, ', y5:', y5)\n",
    "\"\"\"\n",
    "\n",
    "# SyntaxError: unexpected EOF while parsing"
   ]
  },
  {
   "cell_type": "markdown",
   "id": "3b9e7bdb-3367-4da4-90cf-3f4690e7740b",
   "metadata": {},
   "source": [
    "****"
   ]
  },
  {
   "cell_type": "markdown",
   "id": "389dadab",
   "metadata": {},
   "source": [
    "# Question 19  (Data Types)"
   ]
  },
  {
   "cell_type": "markdown",
   "id": "c3d651c1-efd7-4575-a8aa-78a3a9a72062",
   "metadata": {},
   "source": [
    "The following code reads two numbers.\n",
    "\n",
    "Which of the following is the correct input for the code?\n",
    "\n",
    "```\n",
    "x, y = eval(input('Enter two numbers: '))\n",
    "print(x)\n",
    "print(y)\n",
    "```\n",
    "A. ```3, 4```\n",
    "\n",
    "B. ```3 4```\n",
    "\n",
    "C. None of the above\n",
    "\n",
    "D. ```<pre>3 4</pre>```"
   ]
  },
  {
   "cell_type": "markdown",
   "id": "a0d2edba",
   "metadata": {},
   "source": [
    "# Solution 19"
   ]
  },
  {
   "cell_type": "code",
   "execution_count": null,
   "id": "e2e186af",
   "metadata": {},
   "outputs": [],
   "source": [
    "# Solución"
   ]
  },
  {
   "cell_type": "markdown",
   "id": "31ac7c94",
   "metadata": {},
   "source": [
    "****"
   ]
  },
  {
   "cell_type": "markdown",
   "id": "714d27a5",
   "metadata": {},
   "source": [
    "# Question 20  (Data Aggregates)"
   ]
  },
  {
   "cell_type": "markdown",
   "id": "11024b95-c8df-4cd7-990c-e483ba127538",
   "metadata": {},
   "source": [
    "What is the output of the following snippet?\n",
    "\n",
    "```\n",
    "my_list_1 = [1, 2, 3]\n",
    "my_list_2 = []\n",
    "for v in my_list_1:\n",
    "    my_list_2.insert(0, v)\n",
    "print(my_list_2)\n",
    "```\n",
    "A. ```[1, 1, 1]```\n",
    "\n",
    "B. ```[3, 2, 1]```\n",
    "\n",
    "C. ```[1, 2, 3]```\n",
    "\n",
    "D. ```[3, 3, 3]```"
   ]
  },
  {
   "cell_type": "markdown",
   "id": "0b6bd346",
   "metadata": {},
   "source": [
    "# Solution 20"
   ]
  },
  {
   "cell_type": "code",
   "execution_count": null,
   "id": "d5adbe79",
   "metadata": {},
   "outputs": [],
   "source": [
    "# Solución"
   ]
  },
  {
   "cell_type": "markdown",
   "id": "55de30e1",
   "metadata": {},
   "source": [
    "****"
   ]
  },
  {
   "cell_type": "markdown",
   "id": "090b502d",
   "metadata": {},
   "source": [
    "# Question 21  (Operators)"
   ]
  },
  {
   "cell_type": "markdown",
   "id": "0bbd73ce-67a4-496a-9bbf-87944537f222",
   "metadata": {},
   "source": [
    "The ```//``` operator:\n",
    "\n",
    "\n",
    "A. does not exist\n",
    "\n",
    "B. performs integer division\n",
    "\n",
    "C. performs regular division"
   ]
  },
  {
   "cell_type": "markdown",
   "id": "b67cdf58",
   "metadata": {},
   "source": [
    "# Solution 21"
   ]
  },
  {
   "cell_type": "code",
   "execution_count": null,
   "id": "bb214803",
   "metadata": {},
   "outputs": [],
   "source": [
    "# Solución"
   ]
  },
  {
   "cell_type": "markdown",
   "id": "613fcc28",
   "metadata": {},
   "source": [
    "****"
   ]
  },
  {
   "cell_type": "markdown",
   "id": "7ff79a5d",
   "metadata": {},
   "source": [
    "# Question 22  (Operators) "
   ]
  },
  {
   "cell_type": "markdown",
   "id": "90efddf5-d3a8-413d-a664-e4b5cb643bca",
   "metadata": {},
   "source": [
    "What is the expected output of the following code?\n",
    "\n",
    "```\n",
    "list1 = ['Peter', 'Paul', 'Mary', 'Jane']\n",
    "list2 = ['Peter', 'Paul', 'Mary', 'Jane']\n",
    " \n",
    "print(list1 is list2)\n",
    "print(list1 == list2)\n",
    " \n",
    "list1 = list2\n",
    " \n",
    "print(list1 is list2)\n",
    "print(list1 == list2)\n",
    "```\n",
    "\n",
    "A.\n",
    "```\n",
    "False\n",
    "True\n",
    "False\n",
    "True\n",
    "```\n",
    "B.\n",
    "```\n",
    "False\n",
    "True\n",
    "True\n",
    "True\n",
    "```\n",
    "C.\n",
    "```\n",
    "False\n",
    "True\n",
    "True\n",
    "False\n",
    "```\n",
    "D.\n",
    "```\n",
    "False\n",
    "False\n",
    "True\n",
    "True\n",
    "```"
   ]
  },
  {
   "cell_type": "markdown",
   "id": "456270bf",
   "metadata": {},
   "source": [
    "# Solution 22"
   ]
  },
  {
   "cell_type": "code",
   "execution_count": null,
   "id": "72d0aa3f",
   "metadata": {},
   "outputs": [],
   "source": [
    "# Solución"
   ]
  },
  {
   "cell_type": "markdown",
   "id": "5bbf4a14",
   "metadata": {},
   "source": [
    "****"
   ]
  },
  {
   "cell_type": "markdown",
   "id": "61071738",
   "metadata": {},
   "source": [
    "# Question 23  (Data Aggregates)"
   ]
  },
  {
   "cell_type": "markdown",
   "id": "ca2a8d2a-1885-4950-93fd-6db0a09cce93",
   "metadata": {},
   "source": [
    "Which one of the lines should you put in the snippet below\n",
    "to match the expected output?\n",
    "\n",
    "\n",
    "Expected output:\n",
    "```\n",
    "[1, 2, 4, 7]\n",
    "```\n",
    "\n",
    "Code:\n",
    "```\n",
    "list = [2, 7, 1, 4] \n",
    "# enter code here\n",
    "print(list)\n",
    "```\n",
    "A. ```sort(list)```\n",
    "\n",
    "B. ```sorted(list)```\n",
    "\n",
    "C. ```list.sort()```\n",
    "\n",
    "D. ```list.sorted()```"
   ]
  },
  {
   "cell_type": "markdown",
   "id": "6df2bae3",
   "metadata": {},
   "source": [
    "# Solution 23"
   ]
  },
  {
   "cell_type": "code",
   "execution_count": null,
   "id": "ebcaf050",
   "metadata": {},
   "outputs": [],
   "source": [
    "# Solución"
   ]
  },
  {
   "cell_type": "markdown",
   "id": "f7dd0f21",
   "metadata": {},
   "source": [
    "****"
   ]
  },
  {
   "cell_type": "markdown",
   "id": "38b1d35a",
   "metadata": {},
   "source": [
    "# Question 24  (Control Flow) "
   ]
  },
  {
   "cell_type": "markdown",
   "id": "9cae946a-923d-45dc-b573-164d64f3c6b2",
   "metadata": {},
   "source": [
    "Which of the following code snippets will print all prime numbers\n",
    "between ```2``` and ```100``` to the monitor?\n",
    "\n",
    "A. \n",
    "```\n",
    "num = 2\n",
    "is_prime = True\n",
    "while num <= 100:\n",
    "    for i in range(2, num):\n",
    "        if num%i == 0:\n",
    "            is_prime = False\n",
    "            break\n",
    "    if is_prime == True:\n",
    "        print(num)\n",
    "    num += 1\n",
    "```\n",
    "\n",
    "B.\n",
    "```\n",
    "num = 2\n",
    "is_prime = True\n",
    "while num <= 100:\n",
    "    for i in range(2, num):\n",
    "        if num%i == 0:\n",
    "            is_prime = False\n",
    "            break\n",
    "    if is_prime == False:\n",
    "        print(num)\n",
    "    num += 1\n",
    "```\n",
    "C.\n",
    "```\n",
    "num = 2\n",
    "while num <= 100:\n",
    "    is_prime = True\n",
    "    for i in range(2, num):\n",
    "        if num%i == 0:\n",
    "            is_prime = False\n",
    "            break\n",
    "    if is_prime == True:\n",
    "        print(num)\n",
    "```\n",
    "D. \n",
    "```\n",
    "num = 2\n",
    "while num <= 100:\n",
    "    is_prime = True\n",
    "    for i in range(2, num):\n",
    "        if num%i == 0:\n",
    "            is_prime = False\n",
    "            break\n",
    "    if is_prime == True:\n",
    "        print(num)\n",
    "    num += 1\n",
    "```"
   ]
  },
  {
   "cell_type": "markdown",
   "id": "6ef0bdef",
   "metadata": {},
   "source": [
    "# Solution 24"
   ]
  },
  {
   "cell_type": "code",
   "execution_count": null,
   "id": "fb03ca89",
   "metadata": {},
   "outputs": [],
   "source": [
    "# Solución"
   ]
  },
  {
   "cell_type": "markdown",
   "id": "08335cfd",
   "metadata": {},
   "source": [
    "****"
   ]
  },
  {
   "cell_type": "markdown",
   "id": "8b458202",
   "metadata": {},
   "source": [
    "# Question 25  (Data Types)"
   ]
  },
  {
   "cell_type": "markdown",
   "id": "00e7b7c0-3b87-42a0-9fd1-7ad10d69e32a",
   "metadata": {},
   "source": [
    "What is the expected output of the following code?\n",
    "```\n",
    "print('x', 'y', 'z', sep='sep')\n",
    "```\n",
    "\n",
    "A. ```x y z```\n",
    "\n",
    "B. ```xsepysepzsep```\n",
    "\n",
    "C. ```xsepysepz```\n",
    "\n",
    "D. ```xyz```"
   ]
  },
  {
   "cell_type": "markdown",
   "id": "6a9721bd",
   "metadata": {},
   "source": [
    "# Solution 25"
   ]
  },
  {
   "cell_type": "code",
   "execution_count": null,
   "id": "36361d65",
   "metadata": {},
   "outputs": [],
   "source": [
    "# Solución"
   ]
  },
  {
   "cell_type": "markdown",
   "id": "9db8c254",
   "metadata": {},
   "source": [
    "****"
   ]
  },
  {
   "cell_type": "markdown",
   "id": "fd673e99",
   "metadata": {},
   "source": [
    "# Question 26 (Functions)"
   ]
  },
  {
   "cell_type": "markdown",
   "id": "951dd579-146b-47bf-9539-69289ea4b396",
   "metadata": {},
   "source": [
    "What is the expected output of the following code?\n",
    "```\n",
    "def func():\n",
    "    print(x + 1, end=' ')\n",
    " \n",
    "x = 1\n",
    "func()\n",
    "print(x)\n",
    "```\n",
    "A. ```2 1```\n",
    "\n",
    "B. ```1 1```\n",
    "\n",
    "C. ```1 2```\n",
    "\n",
    "D. ```2 2```"
   ]
  },
  {
   "cell_type": "markdown",
   "id": "2d0e1c55",
   "metadata": {},
   "source": [
    "# Solution 26"
   ]
  },
  {
   "cell_type": "code",
   "execution_count": null,
   "id": "8d0efd71",
   "metadata": {},
   "outputs": [],
   "source": [
    "# Solución"
   ]
  },
  {
   "cell_type": "markdown",
   "id": "6ace650b",
   "metadata": {},
   "source": [
    "****"
   ]
  },
  {
   "cell_type": "markdown",
   "id": "d5822cbe",
   "metadata": {},
   "source": [
    "# Question 27  (Data Aggregates) "
   ]
  },
  {
   "cell_type": "markdown",
   "id": "73b65089-c60d-4444-a6ae-4cfb2f2a5bfe",
   "metadata": {},
   "source": [
    "What is the expected output of the following code?\n",
    "\n",
    "```\n",
    "list = ['Peter', 'Paul', 'Mary']\n",
    " \n",
    "def list(data):\n",
    "    del data[1]\n",
    "    data[1] = 'Jane'\n",
    "    return data\n",
    "  \n",
    "print(list(list))\n",
    "```\n",
    "A. The code is erroneous\n",
    "\n",
    "B. ```['Peter', 'Jane']```\n",
    "\n",
    "C. ```['Peter', 'Jane', 'Mary']```\n",
    "\n",
    "D. ```['Paul', 'Mary', 'Jane']```"
   ]
  },
  {
   "cell_type": "markdown",
   "id": "1eb0530f",
   "metadata": {},
   "source": [
    "# Solution 27"
   ]
  },
  {
   "cell_type": "code",
   "execution_count": null,
   "id": "6023752a",
   "metadata": {},
   "outputs": [],
   "source": [
    "# Solución"
   ]
  },
  {
   "cell_type": "markdown",
   "id": "bf12b6cf",
   "metadata": {},
   "source": [
    "****"
   ]
  },
  {
   "cell_type": "markdown",
   "id": "ada0a953",
   "metadata": {},
   "source": [
    "# Question 28  (Data Aggregates) "
   ]
  },
  {
   "cell_type": "markdown",
   "id": "09ec44b2-c5c4-45cc-9134-4fcd1e9a0796",
   "metadata": {},
   "source": [
    "What snippet would you insert in the line indicated below to print\n",
    "\n",
    "The highest number is ```10``` and the lowest number is ```1.``` to the monitor?\n",
    "\n",
    "\n",
    "```\n",
    "data = [10, 2, 1, 7, 5, 6, 4, 3, 9, 8]\n",
    "# insert your code here\n",
    "print(\n",
    "    ('The highest number is {} ' +\n",
    "     'and the lowest number is {}.').format(high, low)000\n",
    ")\n",
    "```\n",
    "\n",
    "\n",
    "A.\n",
    "```\n",
    "def find_high_low(nums):\n",
    "    nums.sort()\n",
    "    return nums[-1], nums[0]\n",
    "                \n",
    "high, low = find_high_low(data)\n",
    "```\n",
    "\n",
    "B.\n",
    "```\n",
    "def find_high_low(nums):\n",
    "    nums.sort()\n",
    "    return nums[len(nums)], nums[0]\n",
    "                \n",
    "high, low = find_high_low(data)\n",
    "```  \n",
    "    \n",
    "C.\n",
    "```\n",
    "None of the above\n",
    "```                \n",
    "D.\n",
    "```\n",
    "def find_high_low(nums):\n",
    "    nums.sort()\n",
    "    return nums[0], nums[-1]\n",
    "                \n",
    "high, low = find_high_low(data)\n",
    "```                \n"
   ]
  },
  {
   "cell_type": "markdown",
   "id": "77776116",
   "metadata": {},
   "source": [
    "# Solution 28  (Basics)"
   ]
  },
  {
   "cell_type": "code",
   "execution_count": null,
   "id": "8b055d60",
   "metadata": {},
   "outputs": [],
   "source": [
    "# Solución"
   ]
  },
  {
   "cell_type": "markdown",
   "id": "2065b257",
   "metadata": {},
   "source": [
    "****"
   ]
  },
  {
   "cell_type": "markdown",
   "id": "3e7706c0",
   "metadata": {},
   "source": [
    "# Question 29   (Basics)"
   ]
  },
  {
   "cell_type": "markdown",
   "id": "d6f2dc3a-c255-4c5d-a62b-416e03f961ae",
   "metadata": {},
   "source": [
    "What is true about compilation?\n",
    "\n",
    "(Select two answers)\n",
    "\n",
    "A. The code is converted directly into machine code executable by the processor\n",
    "\n",
    "B. Both you and the end user must have the compiler to run your code\n",
    "\n",
    "C. It tends to be slower than interpretation\n",
    "\n",
    "D. It tends to be faster than interpretation"
   ]
  },
  {
   "cell_type": "markdown",
   "id": "4967a372",
   "metadata": {},
   "source": [
    "# Solution 29"
   ]
  },
  {
   "cell_type": "code",
   "execution_count": null,
   "id": "8ebdeca4",
   "metadata": {},
   "outputs": [],
   "source": [
    "# Solución"
   ]
  },
  {
   "cell_type": "markdown",
   "id": "cab32d65",
   "metadata": {},
   "source": [
    "****"
   ]
  },
  {
   "cell_type": "markdown",
   "id": "17da28c4",
   "metadata": {},
   "source": [
    "# Question 30  (Functions)"
   ]
  },
  {
   "cell_type": "markdown",
   "id": "d207ef00-022d-4703-aa15-fccf1da264e2",
   "metadata": {},
   "source": [
    "What is the expected output of the following code?\n",
    "\n",
    "```\n",
    "def func(a, b):\n",
    "    return a ** a\n",
    " \n",
    "print(func(2))\n",
    "```\n",
    "A. ```2```\n",
    "\n",
    "B. ```None```\n",
    "\n",
    "C. The code is erroneous\n",
    "\n",
    "D. ```4```"
   ]
  },
  {
   "cell_type": "markdown",
   "id": "80ff857f",
   "metadata": {},
   "source": [
    "# Solution 30"
   ]
  },
  {
   "cell_type": "code",
   "execution_count": null,
   "id": "c231b840",
   "metadata": {},
   "outputs": [],
   "source": [
    "# Solución"
   ]
  },
  {
   "cell_type": "markdown",
   "id": "95706d09",
   "metadata": {},
   "source": [
    "****"
   ]
  },
  {
   "cell_type": "markdown",
   "id": "c4a66361",
   "metadata": {},
   "source": [
    "*Gracias por la atención*\n",
    "\n",
    "*Isabel Maniega*"
   ]
  }
 ],
 "metadata": {
  "kernelspec": {
   "display_name": "Python 3 (ipykernel)",
   "language": "python",
   "name": "python3"
  },
  "language_info": {
   "codemirror_mode": {
    "name": "ipython",
    "version": 3
   },
   "file_extension": ".py",
   "mimetype": "text/x-python",
   "name": "python",
   "nbconvert_exporter": "python",
   "pygments_lexer": "ipython3",
   "version": "3.8.19"
  }
 },
 "nbformat": 4,
 "nbformat_minor": 5
}

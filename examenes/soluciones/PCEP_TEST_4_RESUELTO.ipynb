{
 "cells": [
  {
   "cell_type": "markdown",
   "id": "149fcbdc",
   "metadata": {},
   "source": [
    "*Contenido creado por: Isabel Maniega*"
   ]
  },
  {
   "cell_type": "markdown",
   "id": "07b52808",
   "metadata": {},
   "source": [
    "****"
   ]
  },
  {
   "cell_type": "markdown",
   "id": "120ec911",
   "metadata": {},
   "source": [
    "# Question 1  (Operators)"
   ]
  },
  {
   "cell_type": "markdown",
   "id": "6b26a7e9-8418-4395-ba4d-da7d364d1bcb",
   "metadata": {},
   "source": [
    "What is the expected output of the following code?\n",
    "\n",
    "```\n",
    "x = True\n",
    "y = False\n",
    "x = x or y\n",
    "y = x and y\n",
    "x = x or y\n",
    "print(x, y)\n",
    "```\n",
    "\n",
    "A. ```True False```\n",
    "\n",
    "B. ```False False```\n",
    "\n",
    "C. ```True True```\n",
    "\n",
    "D. ```False True```"
   ]
  },
  {
   "cell_type": "markdown",
   "id": "c9e1bd70",
   "metadata": {},
   "source": [
    "# Solution 1"
   ]
  },
  {
   "cell_type": "code",
   "execution_count": 2,
   "id": "3ddc0116",
   "metadata": {},
   "outputs": [
    {
     "name": "stdout",
     "output_type": "stream",
     "text": [
      "True False\n"
     ]
    }
   ],
   "source": [
    "x = True\n",
    "y = False\n",
    "x = x or y    # x = True or False => x = True\n",
    "y = x and y   # y = True and False => y = False\n",
    "x = x or y    # x = True or False => x = True\n",
    "print(x, y)   # True, False"
   ]
  },
  {
   "cell_type": "code",
   "execution_count": 3,
   "id": "c09e66f9",
   "metadata": {},
   "outputs": [],
   "source": [
    "# Solución\n",
    "# A"
   ]
  },
  {
   "cell_type": "markdown",
   "id": "72e327fb",
   "metadata": {},
   "source": [
    "****"
   ]
  },
  {
   "cell_type": "markdown",
   "id": "aae9b855",
   "metadata": {},
   "source": [
    "# Question 2 (Data Aggregates)"
   ]
  },
  {
   "cell_type": "markdown",
   "id": "8387dafe-5676-427f-9c8d-044a35307e00",
   "metadata": {},
   "source": [
    "What is the expected output of the following code?\n",
    "```\n",
    "numbers = [1, 2, 3, 4, 5]\n",
    "nums = numbers[2: ]\n",
    "print(nums)\n",
    "```\n",
    "\n",
    "A. The program will cause an error\n",
    "\n",
    "B. ```[2,3,4,5]```\n",
    "\n",
    "C. ```[3,4,5]```\n",
    "\n",
    "D. ```[2]```"
   ]
  },
  {
   "cell_type": "markdown",
   "id": "9b1dd0ef",
   "metadata": {},
   "source": [
    "# Solution 2"
   ]
  },
  {
   "cell_type": "code",
   "execution_count": 5,
   "id": "51c222b7",
   "metadata": {},
   "outputs": [
    {
     "name": "stdout",
     "output_type": "stream",
     "text": [
      "[3, 4, 5]\n"
     ]
    }
   ],
   "source": [
    "numbers = [1, 2, 3, 4, 5]\n",
    "nums = numbers[2: ]       # [3,4,5]   (desde index 2, incluído hasta el final, a la derecha)\n",
    "print(nums)"
   ]
  },
  {
   "cell_type": "code",
   "execution_count": 6,
   "id": "dcbfe8e7",
   "metadata": {},
   "outputs": [],
   "source": [
    "# Solución\n",
    "# C"
   ]
  },
  {
   "cell_type": "markdown",
   "id": "a6222727",
   "metadata": {},
   "source": [
    "****"
   ]
  },
  {
   "cell_type": "markdown",
   "id": "cd7b55f3",
   "metadata": {},
   "source": [
    "# Question 3  (Operators)"
   ]
  },
  {
   "cell_type": "markdown",
   "id": "05b4c7fc-30ce-4320-8566-10ae4a2205f0",
   "metadata": {},
   "source": [
    "The ```**``` operator:\n",
    "\n",
    "A. performs floating-point multiplication\n",
    "\n",
    "B. does not exist\n",
    "\n",
    "C. performs duplicated multiplication\n",
    "\n",
    "D. performs exponentiation"
   ]
  },
  {
   "cell_type": "markdown",
   "id": "dc168970",
   "metadata": {},
   "source": [
    "# Solution 3"
   ]
  },
  {
   "cell_type": "code",
   "execution_count": 8,
   "id": "9de44a77",
   "metadata": {},
   "outputs": [
    {
     "data": {
      "text/plain": [
       "(6, 8)"
      ]
     },
     "execution_count": 8,
     "metadata": {},
     "output_type": "execute_result"
    }
   ],
   "source": [
    "2*3, 2**3"
   ]
  },
  {
   "cell_type": "code",
   "execution_count": 9,
   "id": "c404a32a",
   "metadata": {},
   "outputs": [],
   "source": [
    "# Solución\n",
    "# D"
   ]
  },
  {
   "cell_type": "markdown",
   "id": "f3130e4d",
   "metadata": {},
   "source": [
    "****"
   ]
  },
  {
   "cell_type": "markdown",
   "id": "bc816cb9",
   "metadata": {},
   "source": [
    "# Question 4 "
   ]
  },
  {
   "cell_type": "markdown",
   "id": "a5751468-aab6-4a09-baf2-d5ea4eff9bf1",
   "metadata": {},
   "source": [
    "What is the expected output of the following code?\n",
    "```\n",
    "def fun(n):\n",
    "    n **= n\n",
    "    return n\n",
    "print(fun(3))\n",
    "```\n",
    "A. ```27```\n",
    "\n",
    "B. ```9```\n",
    "\n",
    "C. The program will cause an error\n",
    "\n",
    "D. ```3```\n",
    "\n",
    "E. ```True```"
   ]
  },
  {
   "cell_type": "markdown",
   "id": "53b502ec",
   "metadata": {},
   "source": [
    "# Solution 4"
   ]
  },
  {
   "cell_type": "code",
   "execution_count": 11,
   "id": "a3804a30",
   "metadata": {},
   "outputs": [
    {
     "name": "stdout",
     "output_type": "stream",
     "text": [
      "27\n"
     ]
    }
   ],
   "source": [
    "def fun(n):\n",
    "    n **= n    # n = n ** n\n",
    "    return n\n",
    "\n",
    "print(fun(3))  # 3**3 = 27"
   ]
  },
  {
   "cell_type": "code",
   "execution_count": 12,
   "id": "ce8d523c",
   "metadata": {},
   "outputs": [],
   "source": [
    "# Solución\n",
    "# A"
   ]
  },
  {
   "cell_type": "markdown",
   "id": "461296db",
   "metadata": {},
   "source": [
    "****"
   ]
  },
  {
   "cell_type": "markdown",
   "id": "a8fc6b90",
   "metadata": {},
   "source": [
    "# Question 5  (Data Aggregates)"
   ]
  },
  {
   "cell_type": "markdown",
   "id": "7543d7df-e4e9-4952-97f4-0a88977626da",
   "metadata": {},
   "source": [
    "What is the expected output of the following code?\n",
    "\n",
    "```\n",
    "data = [1, 2, 3, 4, 5, 6]\n",
    " \n",
    "for i in range(1, 6):\n",
    "    data[i - 1] = data[i]\n",
    "\n",
    "for i in range(0, 6):\n",
    "    print(data[i], end=' ')\n",
    "```   \n",
    "    \n",
    "A. ```1 2 3 4 5 6```\n",
    "\n",
    "B. ```2 3 4 5 6 1```\n",
    "\n",
    "C. ```2 3 4 5 6 6```\n",
    "\n",
    "D. ```1 1 2 3 4 5```"
   ]
  },
  {
   "cell_type": "markdown",
   "id": "e5f4c35d",
   "metadata": {},
   "source": [
    "# Solution 5"
   ]
  },
  {
   "cell_type": "code",
   "execution_count": 14,
   "id": "f4bcd416",
   "metadata": {},
   "outputs": [
    {
     "name": "stdout",
     "output_type": "stream",
     "text": [
      "2 3 4 5 6 6 "
     ]
    }
   ],
   "source": [
    "data = [1, 2, 3, 4, 5, 6]\n",
    " \n",
    "for i in range(1, 6):        # 1,2,3,4,5\n",
    "    data[i - 1] = data[i]    \n",
    "    # data[0] = data[1] => 2\n",
    "    # data[1] = data[2] => 3\n",
    "    # data[2] = data[3] => 4\n",
    "    # data[3] = data[4] => 5\n",
    "    # data[4] = data[5] => 6\n",
    "    # ---------------------6\n",
    "\n",
    "for i in range(0, 6):\n",
    "    print(data[i], end=' ') # 2 3 4 5 6 6"
   ]
  },
  {
   "cell_type": "code",
   "execution_count": 15,
   "id": "6e47a986",
   "metadata": {},
   "outputs": [],
   "source": [
    "# Solución\n",
    "# C"
   ]
  },
  {
   "cell_type": "markdown",
   "id": "9ba63cfe",
   "metadata": {},
   "source": [
    "****"
   ]
  },
  {
   "cell_type": "markdown",
   "id": "29472d8a",
   "metadata": {},
   "source": [
    "# Question 6  (Operators)"
   ]
  },
  {
   "cell_type": "markdown",
   "id": "12febff3-5207-42eb-912c-2fcf9c59eb71",
   "metadata": {},
   "source": [
    "What is the expected output of the following code?\n",
    "\n",
    "```\n",
    "print(1 // 2 * 3)\n",
    "```\n",
    "A. ```0```\n",
    "\n",
    "B. ```0.0```\n",
    "\n",
    "C. ```0.1666666666666```\n",
    "\n",
    "D. ```4.5```"
   ]
  },
  {
   "cell_type": "markdown",
   "id": "6e4d0644",
   "metadata": {},
   "source": [
    "# Solution 6"
   ]
  },
  {
   "cell_type": "code",
   "execution_count": 2,
   "id": "62364b18",
   "metadata": {},
   "outputs": [
    {
     "name": "stdout",
     "output_type": "stream",
     "text": [
      "0\n"
     ]
    }
   ],
   "source": [
    "print(1 // 2 * 3)\n",
    "#     1 //   6\n",
    "# 0                     \n",
    "\n",
    "# 0 entero por ser cociente entero, y son 2 números enteros (1 y 6)"
   ]
  },
  {
   "cell_type": "code",
   "execution_count": 18,
   "id": "16e7a479",
   "metadata": {},
   "outputs": [],
   "source": [
    "# Solución\n",
    "# A"
   ]
  },
  {
   "cell_type": "markdown",
   "id": "e50654f2",
   "metadata": {},
   "source": [
    "****"
   ]
  },
  {
   "cell_type": "markdown",
   "id": "590416b2",
   "metadata": {},
   "source": [
    "# Question 7"
   ]
  },
  {
   "cell_type": "markdown",
   "id": "77d5b481-1393-4dea-8b77-1868765af68c",
   "metadata": {},
   "source": [
    "What is the output of the following snippet?\n",
    "\n",
    "```\n",
    "my_list = [x * x for x in range(5)]\n",
    " \n",
    "def fun(lst):\n",
    "    del lst[lst[2]]\n",
    "    return lst\n",
    " \n",
    "print(fun(my_list))\n",
    "\n",
    "```\n",
    "A. ```[1, 4, 9, 16]```\n",
    "\n",
    "B. ```[0, 1, 4, 9]```\n",
    "\n",
    "C. ```[0, 1, 9, 16]```\n",
    "\n",
    "D. ```[0, 1, 4, 16]```"
   ]
  },
  {
   "cell_type": "markdown",
   "id": "d87a4fe5",
   "metadata": {},
   "source": [
    "# Solution 7"
   ]
  },
  {
   "cell_type": "code",
   "execution_count": 20,
   "id": "a2993d5f",
   "metadata": {},
   "outputs": [
    {
     "name": "stdout",
     "output_type": "stream",
     "text": [
      "[0, 1, 4, 9]\n"
     ]
    }
   ],
   "source": [
    "my_list = [x * x for x in range(5)]\n",
    "# [0*0, 1*1, 2*2, 3*3, 4*4]\n",
    "# [0,    1,   4,   9,  16]\n",
    " \n",
    "def fun(lst):\n",
    "    del lst[lst[2]]    # BORRAS 16  (del lst[4]) (siendo lst[2]=>4)\n",
    "    return lst\n",
    " \n",
    "\n",
    "print(fun(my_list))"
   ]
  },
  {
   "cell_type": "code",
   "execution_count": 21,
   "id": "8e8c48a1",
   "metadata": {},
   "outputs": [],
   "source": [
    "# Solución\n",
    "# B"
   ]
  },
  {
   "cell_type": "markdown",
   "id": "f4c2a0e1",
   "metadata": {},
   "source": [
    "****"
   ]
  },
  {
   "cell_type": "markdown",
   "id": "e1d32f10",
   "metadata": {},
   "source": [
    "# Question 8  (Data Aggregates)"
   ]
  },
  {
   "cell_type": "markdown",
   "id": "d6dd7265-5177-40a9-8dba-3d227437caf8",
   "metadata": {},
   "source": [
    "What is the expected output of the following code?\n",
    "\n",
    "```\n",
    "data = set([1, 2, 2, 3, 3, 3, 4, 4, 4, 4])\n",
    "print(len(data))\n",
    "```\n",
    "A. ```0```\n",
    "\n",
    "B. ```2```\n",
    "\n",
    "C. ```1```\n",
    "\n",
    "D. ```3```\n",
    "\n",
    "E. ```4```\n",
    "\n",
    "F. ```10```"
   ]
  },
  {
   "cell_type": "markdown",
   "id": "bc5edaa4",
   "metadata": {},
   "source": [
    "# Solution 8"
   ]
  },
  {
   "cell_type": "code",
   "execution_count": 23,
   "id": "e7dd0e6d",
   "metadata": {},
   "outputs": [
    {
     "name": "stdout",
     "output_type": "stream",
     "text": [
      "{1, 2, 3, 4}\n"
     ]
    }
   ],
   "source": [
    "data = set([1, 2, 2, 3, 3, 3, 4, 4, 4, 4]) \n",
    "# 1,2,3,4\n",
    "print(data)                      "
   ]
  },
  {
   "cell_type": "code",
   "execution_count": 24,
   "id": "b52587c3",
   "metadata": {},
   "outputs": [
    {
     "name": "stdout",
     "output_type": "stream",
     "text": [
      "4\n"
     ]
    }
   ],
   "source": [
    "print(len(data))  # 4   "
   ]
  },
  {
   "cell_type": "code",
   "execution_count": 25,
   "id": "1a7fd017",
   "metadata": {},
   "outputs": [],
   "source": [
    "# Solución\n",
    "# E"
   ]
  },
  {
   "cell_type": "markdown",
   "id": "a57369db",
   "metadata": {},
   "source": [
    "****"
   ]
  },
  {
   "cell_type": "markdown",
   "id": "93b444e3",
   "metadata": {},
   "source": [
    "# Question 9  (Data Aggregates)"
   ]
  },
  {
   "cell_type": "markdown",
   "id": "2197a345-2907-4363-88e6-2b71ba8f03c3",
   "metadata": {},
   "source": [
    "After execution of the following snippet,\n",
    "\n",
    "the sum of all vals elements will be equal to:\n",
    "\n",
    "```\n",
    "vals = [0, 1, 2]\n",
    "vals.insert(0, 1)\n",
    "del vals[1]\n",
    "```\n",
    "A. ```2```\n",
    "\n",
    "B. ```5```\n",
    "\n",
    "C. ```4```\n",
    "\n",
    "D. ```3```"
   ]
  },
  {
   "cell_type": "markdown",
   "id": "56111184",
   "metadata": {},
   "source": [
    "# Solution 9"
   ]
  },
  {
   "cell_type": "code",
   "execution_count": 27,
   "id": "55482285",
   "metadata": {},
   "outputs": [
    {
     "data": {
      "text/plain": [
       "[1, 1, 2]"
      ]
     },
     "execution_count": 27,
     "metadata": {},
     "output_type": "execute_result"
    }
   ],
   "source": [
    "vals = [0, 1, 2]\n",
    "vals.insert(0, 1)  # [1,0,1,2]\n",
    "del vals[1]        # [1, 1, 2]\n",
    "\n",
    "vals\n",
    "# SUMA: 4"
   ]
  },
  {
   "cell_type": "code",
   "execution_count": 28,
   "id": "5164ed60",
   "metadata": {},
   "outputs": [
    {
     "data": {
      "text/plain": [
       "4"
      ]
     },
     "execution_count": 28,
     "metadata": {},
     "output_type": "execute_result"
    }
   ],
   "source": [
    "# si tuviéramos muchos números..\n",
    "suma=0\n",
    "for numero in vals:\n",
    "    suma=suma+numero\n",
    "    \n",
    "suma"
   ]
  },
  {
   "cell_type": "code",
   "execution_count": 29,
   "id": "b1ed441f",
   "metadata": {},
   "outputs": [
    {
     "data": {
      "text/plain": [
       "4"
      ]
     },
     "execution_count": 29,
     "metadata": {},
     "output_type": "execute_result"
    }
   ],
   "source": [
    "# o con la propia palabra reservada\n",
    "sum(vals)"
   ]
  },
  {
   "cell_type": "code",
   "execution_count": 30,
   "id": "e388819d",
   "metadata": {},
   "outputs": [],
   "source": [
    "# Solución\n",
    "# C"
   ]
  },
  {
   "cell_type": "markdown",
   "id": "9bbe08ac",
   "metadata": {},
   "source": [
    "****"
   ]
  },
  {
   "cell_type": "markdown",
   "id": "e14340fd",
   "metadata": {},
   "source": [
    "# Question 10  (Functions)"
   ]
  },
  {
   "cell_type": "markdown",
   "id": "57484557-877b-4cea-bd74-d5b9012f9015",
   "metadata": {},
   "source": [
    "What is the expected output of the following code?\n",
    "\n",
    "```\n",
    "data = 'abcdefg'\n",
    " \n",
    "def func(text):\n",
    "    del text[2]\n",
    "    return text\n",
    " \n",
    "print(func(data))\n",
    "```\n",
    "\n",
    "A. The code is erroneous\n",
    "\n",
    "B. ```abdef```\n",
    "\n",
    "C. ```abcef```\n",
    "\n",
    "D. ```acdef```"
   ]
  },
  {
   "cell_type": "markdown",
   "id": "4a3733a6",
   "metadata": {},
   "source": [
    "# Solution 10"
   ]
  },
  {
   "cell_type": "code",
   "execution_count": 5,
   "id": "f48c1cd4",
   "metadata": {},
   "outputs": [
    {
     "data": {
      "text/plain": [
       "\"string = 'casa'\\ndel string[0]\\nstring\""
      ]
     },
     "execution_count": 5,
     "metadata": {},
     "output_type": "execute_result"
    }
   ],
   "source": [
    "\"\"\"string = 'casa'\n",
    "del string[0]\n",
    "string\"\"\"\n",
    "\n",
    "# TypeError: \n",
    "# 'str' object doesn't support item deletion"
   ]
  },
  {
   "cell_type": "code",
   "execution_count": 33,
   "id": "95c0ae28",
   "metadata": {},
   "outputs": [
    {
     "data": {
      "text/plain": [
       "\"data = 'abcdefg'\\n \\ndef func(text):\\n    del text[2]\\n    return text\\n \\nprint(func(data))\""
      ]
     },
     "execution_count": 33,
     "metadata": {},
     "output_type": "execute_result"
    }
   ],
   "source": [
    "\"\"\"data = 'abcdefg'\n",
    " \n",
    "def func(text):\n",
    "    del text[2]\n",
    "    return text\n",
    " \n",
    "print(func(data))\"\"\"\n",
    "\n",
    "# func('abcdefg')\n",
    "# --> \n",
    "# TypeError: \n",
    "# 'str' object doesn't support item deletion"
   ]
  },
  {
   "cell_type": "code",
   "execution_count": 34,
   "id": "fa9be457",
   "metadata": {},
   "outputs": [],
   "source": [
    "# Solución\n",
    "# A"
   ]
  },
  {
   "cell_type": "markdown",
   "id": "c4fccba8",
   "metadata": {},
   "source": [
    "****"
   ]
  },
  {
   "cell_type": "markdown",
   "id": "e5a5f48c",
   "metadata": {},
   "source": [
    "# Question 11 (Control Flow) "
   ]
  },
  {
   "cell_type": "markdown",
   "id": "59e20edf-a2ea-44d3-b878-64af4d409041",
   "metadata": {},
   "source": [
    "Which of the following sentences correctly describes\n",
    "\n",
    "the output of the below Python code?\n",
    "\n",
    "\n",
    "```\n",
    "data = [4, 2, 3, 2, 1]\n",
    "res = data[0]\n",
    " \n",
    "for d in data:\n",
    "    if d < res:\n",
    "        res = d\n",
    "        \n",
    "print(res)\n",
    "```\n",
    "A. res is the sum of all the number in the list\n",
    "\n",
    "B. None of the above\n",
    "\n",
    "C. res is the smallest number in the list\n",
    "\n",
    "D. res is the average of all the number in the list\n",
    "\n",
    "E. res is the largest number in the list"
   ]
  },
  {
   "cell_type": "markdown",
   "id": "de2a3d15",
   "metadata": {},
   "source": [
    "# Solution 11"
   ]
  },
  {
   "cell_type": "code",
   "execution_count": 36,
   "id": "5c27967b",
   "metadata": {},
   "outputs": [
    {
     "name": "stdout",
     "output_type": "stream",
     "text": [
      "1\n"
     ]
    }
   ],
   "source": [
    "data = [4, 2, 3, 2, 1]\n",
    "res = data[0]             # res = 4\n",
    " \n",
    "for d in data:            # [4, 2, 3, 2, 1]\n",
    "    if d < res:           \n",
    "        res = d    \n",
    "        # 4 => res = 4 \n",
    "        # 2 => res = 2\n",
    "        # 3 => res = 3\n",
    "        # 2 => res = 2\n",
    "        # 1 => res = 1\n",
    "        \n",
    "print(res)  # res = 1\n",
    "\n",
    "\n",
    "# res is the smallest number in the list"
   ]
  },
  {
   "cell_type": "code",
   "execution_count": 37,
   "id": "05712020",
   "metadata": {},
   "outputs": [],
   "source": [
    "# Solución\n",
    "# C"
   ]
  },
  {
   "cell_type": "markdown",
   "id": "812f27bd",
   "metadata": {},
   "source": [
    "****"
   ]
  },
  {
   "cell_type": "markdown",
   "id": "57aa57cd",
   "metadata": {},
   "source": [
    "# Question 12 (Functions)  "
   ]
  },
  {
   "cell_type": "markdown",
   "id": "557d1502-5f1a-470a-8800-e829b662d563",
   "metadata": {},
   "source": [
    "The following snippet:\n",
    "\n",
    "```\n",
    "def function_1(a):\n",
    "    return None\n",
    " \n",
    "def function_2(a):\n",
    "    return function_1(a) * function_1(a)\n",
    " \n",
    "print(function_2(2))\n",
    "```\n",
    "\n",
    "A. will output ```4```\n",
    "\n",
    "B. will cause a runtime error\n",
    "\n",
    "C. will output ```2```\n",
    "\n",
    "D. will output ```16```"
   ]
  },
  {
   "cell_type": "markdown",
   "id": "de2bb1f5",
   "metadata": {},
   "source": [
    "# Solution 12"
   ]
  },
  {
   "cell_type": "code",
   "execution_count": 39,
   "id": "f4106236",
   "metadata": {},
   "outputs": [
    {
     "data": {
      "text/plain": [
       "'def function_1(a):\\n    return None\\n \\ndef function_2(a):\\n    return function_1(a) * function_1(a)\\n \\nprint(function_2(2))'"
      ]
     },
     "execution_count": 39,
     "metadata": {},
     "output_type": "execute_result"
    }
   ],
   "source": [
    "\"\"\"def function_1(a):\n",
    "    return None\n",
    " \n",
    "def function_2(a):\n",
    "    return function_1(a) * function_1(a)\n",
    " \n",
    "print(function_2(2))\"\"\"\n",
    "\n",
    "# TypeError: \n",
    "# unsupported operand type(s) for *: 'NoneType' and 'NoneType'"
   ]
  },
  {
   "cell_type": "code",
   "execution_count": 40,
   "id": "1245f3c4",
   "metadata": {},
   "outputs": [],
   "source": [
    "# Solución\n",
    "# B"
   ]
  },
  {
   "cell_type": "markdown",
   "id": "bb5d65bd",
   "metadata": {},
   "source": [
    "****"
   ]
  },
  {
   "cell_type": "markdown",
   "id": "57d18d84",
   "metadata": {},
   "source": [
    "# Question 13 (Data Types)"
   ]
  },
  {
   "cell_type": "markdown",
   "id": "4543868e-164a-4fd0-aaa7-a8cb5f34fb8a",
   "metadata": {},
   "source": [
    "What is the expected output of the following code?\n",
    "```\n",
    "print(ord('c') - ord('a'))\n",
    "```\n",
    "A. ```3```\n",
    "\n",
    "B. ```1```\n",
    "\n",
    "C. ```0```\n",
    "\n",
    "D. ```2```"
   ]
  },
  {
   "cell_type": "markdown",
   "id": "08d053eb",
   "metadata": {},
   "source": [
    "# Solution 13"
   ]
  },
  {
   "cell_type": "code",
   "execution_count": 42,
   "id": "95f7a3d6",
   "metadata": {},
   "outputs": [
    {
     "data": {
      "text/plain": [
       "(99, 97)"
      ]
     },
     "execution_count": 42,
     "metadata": {},
     "output_type": "execute_result"
    }
   ],
   "source": [
    "ord('c'), ord('a')"
   ]
  },
  {
   "cell_type": "code",
   "execution_count": 43,
   "id": "98fa532c",
   "metadata": {},
   "outputs": [
    {
     "data": {
      "text/plain": [
       "2"
      ]
     },
     "execution_count": 43,
     "metadata": {},
     "output_type": "execute_result"
    }
   ],
   "source": [
    "ord('c')-ord('a')"
   ]
  },
  {
   "cell_type": "code",
   "execution_count": 44,
   "id": "66d9222d",
   "metadata": {},
   "outputs": [],
   "source": [
    "# Solución\n",
    "# D"
   ]
  },
  {
   "cell_type": "markdown",
   "id": "38aab540",
   "metadata": {},
   "source": [
    "****"
   ]
  },
  {
   "cell_type": "markdown",
   "id": "38d12fe5",
   "metadata": {},
   "source": [
    "# Question 14 (Operators)"
   ]
  },
  {
   "cell_type": "markdown",
   "id": "e19bd2c0-c1c6-467f-83ae-2aacd9e7d736",
   "metadata": {},
   "source": [
    "Which of the following code snippets \n",
    "will print True to the monitor?\n",
    "\n",
    "Dos repuestas correctas\n",
    "\n",
    "A. ```print('is' in 'This IS Python code.')```\n",
    "\n",
    "B.\n",
    "```\n",
    "x = ['Peter', 'Paul', 'Mary']\n",
    "y = ['Peter', 'Paul', 'Mary']\n",
    "print(x is y)\n",
    "```\n",
    "C.\n",
    "```\n",
    "x = 'Peter Wellert'\n",
    "y = 'Peter Wellert'.lower()\n",
    "print(x is y)\n",
    "```\n",
    "D. \n",
    "```\n",
    "x = 42\n",
    "y = 42\n",
    "print(x is not y)\n",
    "```\n",
    "E. ```print('t' in 'Peter')```"
   ]
  },
  {
   "cell_type": "markdown",
   "id": "08c16214",
   "metadata": {},
   "source": [
    "# Solution 14"
   ]
  },
  {
   "cell_type": "code",
   "execution_count": 46,
   "id": "4b486d21",
   "metadata": {},
   "outputs": [
    {
     "name": "stdout",
     "output_type": "stream",
     "text": [
      "True\n"
     ]
    }
   ],
   "source": [
    "# A. \n",
    "print('is' in 'This IS Python code.')"
   ]
  },
  {
   "cell_type": "code",
   "execution_count": 47,
   "id": "5931492d",
   "metadata": {},
   "outputs": [
    {
     "name": "stdout",
     "output_type": "stream",
     "text": [
      "False\n"
     ]
    }
   ],
   "source": [
    "# A. CAMBIADA\n",
    "print('is' in 'Ths IS Python code.')"
   ]
  },
  {
   "cell_type": "code",
   "execution_count": 48,
   "id": "4f468c9a",
   "metadata": {},
   "outputs": [
    {
     "name": "stdout",
     "output_type": "stream",
     "text": [
      "False\n"
     ]
    }
   ],
   "source": [
    "# B\n",
    "x = ['Peter', 'Paul', 'Mary']\n",
    "y = ['Peter', 'Paul', 'Mary']\n",
    "print(x is y)"
   ]
  },
  {
   "cell_type": "code",
   "execution_count": 49,
   "id": "717bdbda",
   "metadata": {},
   "outputs": [
    {
     "name": "stdout",
     "output_type": "stream",
     "text": [
      "True\n"
     ]
    }
   ],
   "source": [
    "# B. CAMBIADA\n",
    "x = ['Peter', 'Paul', 'Mary']\n",
    "y = ['Peter', 'Paul', 'Mary']\n",
    "print(x is not y)"
   ]
  },
  {
   "cell_type": "code",
   "execution_count": 7,
   "id": "23326201",
   "metadata": {},
   "outputs": [
    {
     "name": "stdout",
     "output_type": "stream",
     "text": [
      "False\n"
     ]
    }
   ],
   "source": [
    "# D\n",
    "x = 42\n",
    "y = 42\n",
    "print(x is not y)"
   ]
  },
  {
   "cell_type": "code",
   "execution_count": 51,
   "id": "7e6eeb01",
   "metadata": {},
   "outputs": [
    {
     "name": "stdout",
     "output_type": "stream",
     "text": [
      "True\n"
     ]
    }
   ],
   "source": [
    "# D. CAMBIADA\n",
    "x = 42\n",
    "y = 42\n",
    "print(x is y)"
   ]
  },
  {
   "cell_type": "code",
   "execution_count": 52,
   "id": "4ff0407c",
   "metadata": {},
   "outputs": [
    {
     "name": "stdout",
     "output_type": "stream",
     "text": [
      "True\n"
     ]
    }
   ],
   "source": [
    "# E\n",
    "print('t' in 'Peter')"
   ]
  },
  {
   "cell_type": "code",
   "execution_count": 53,
   "id": "9c50fc28",
   "metadata": {},
   "outputs": [],
   "source": [
    "# Solución\n",
    "# A y E"
   ]
  },
  {
   "cell_type": "markdown",
   "id": "271a9bde",
   "metadata": {},
   "source": [
    "****"
   ]
  },
  {
   "cell_type": "markdown",
   "id": "44dbfac5",
   "metadata": {},
   "source": [
    "# Question 15  (Data Aggregates) "
   ]
  },
  {
   "cell_type": "markdown",
   "id": "66fbbceb-d1f4-4337-a526-a443fef1fdea",
   "metadata": {},
   "source": [
    "What is the expected output of the following code?\n",
    "\n",
    "```\n",
    "w = [7, 3, 23, 42]\n",
    "x = w[1:]\n",
    "y = w[1:]\n",
    "z = w\n",
    "y[0] = 10\n",
    "z[1] = 20\n",
    "print(w)\n",
    "```\n",
    "A. ```[10, 20, 42]```\n",
    "\n",
    "B. ```[10, 20, 23, 42]```\n",
    "\n",
    "C. ```[7, 20, 23, 42]```\n",
    "\n",
    "D. ```[7, 3, 23, 42]```"
   ]
  },
  {
   "cell_type": "markdown",
   "id": "d57819b5",
   "metadata": {},
   "source": [
    "# Solution 15"
   ]
  },
  {
   "cell_type": "code",
   "execution_count": 55,
   "id": "9b802a90",
   "metadata": {},
   "outputs": [
    {
     "name": "stdout",
     "output_type": "stream",
     "text": [
      "w inicialmente es:  [7, 3, 23, 42]\n",
      "x es:  [3, 23, 42]\n",
      "y es :  [3, 23, 42]\n",
      "w aqui es:  [7, 3, 23, 42]\n",
      "z es:  [7, 3, 23, 42]\n",
      "w es:  [7, 3, 23, 42]\n",
      "y vale: [10, 23, 42]\n",
      "z vale: [7, 20, 23, 42]\n",
      "w FINAL vale: [7, 20, 23, 42]\n"
     ]
    }
   ],
   "source": [
    "w = [7, 3, 23, 42]\n",
    "print('w inicialmente es: ', w)      # w = [7, 3, 23, 42]\n",
    "\n",
    "x = w[1:]            \n",
    "print('x es: ', x)                   # x = [   3, 23, 42]    desde index 1 hasta el final\n",
    "\n",
    "y = w[1:]                            \n",
    "print('y es : ',y)                   # y = [   3, 23, 42]    desde index 1 hasta el final\n",
    "print('w aqui es: ', w)              # w = [7, 3, 23, 42]\n",
    "\n",
    "z = w                \n",
    "print('z es: ', z)                   # z = [7, 3, 23, 42]\n",
    "print('w es: ', w)                   # w = [7, 3, 23, 42]\n",
    "\n",
    "\n",
    "y[0] = 10            \n",
    "print('y vale:', y)                  # y = [   10, 23, 42]   cambio un 3 por un 10, longitud de y: 3   \n",
    "\n",
    "# Nota:   !!!!!!\n",
    "# PERO Y NO DICE EN NINGUN CASO: Y = W, POR LO QUE NO AFECTA A W\n",
    "# en cambio, arriba dice Y = W\n",
    "\n",
    "z[1] = 20             \n",
    "print('z vale:', z)                  # z = [7, 20, 23, 42]\n",
    "\n",
    "# ----y si altero z estoy alterando w también -----\n",
    "\n",
    "print('w FINAL vale:', w)            # w = [7, 20, 23, 42]"
   ]
  },
  {
   "cell_type": "code",
   "execution_count": 56,
   "id": "41e2e259",
   "metadata": {},
   "outputs": [],
   "source": [
    "# Solución\n",
    "# C"
   ]
  },
  {
   "cell_type": "markdown",
   "id": "0f534e80",
   "metadata": {},
   "source": [
    "****"
   ]
  },
  {
   "cell_type": "markdown",
   "id": "11a6e2e3",
   "metadata": {},
   "source": [
    "# Question 16 (Operators) "
   ]
  },
  {
   "cell_type": "markdown",
   "id": "147cbf58-c949-4f9b-89ec-9788d1cb8fac",
   "metadata": {},
   "source": [
    "What value will be assigned to the x variable?\n",
    "\n",
    "```\n",
    "z = 2\n",
    "y = 1\n",
    "x = y < z or z > y and y > z or z < y\n",
    "```\n",
    "A. ```False```\n",
    "\n",
    "B. ```0```\n",
    "\n",
    "C. ```1```\n",
    "\n",
    "D. ```True```"
   ]
  },
  {
   "cell_type": "markdown",
   "id": "45200cbc",
   "metadata": {},
   "source": [
    "# Solution 16"
   ]
  },
  {
   "cell_type": "code",
   "execution_count": 58,
   "id": "98d8e3be",
   "metadata": {},
   "outputs": [
    {
     "name": "stdout",
     "output_type": "stream",
     "text": [
      "True\n"
     ]
    }
   ],
   "source": [
    "z = 2\n",
    "y = 1\n",
    "x = y < z or z > y and y > z or z < y\n",
    "\n",
    "# x = True or [True and False] or False\n",
    "# x =  T   or       F          or  F\n",
    "# x =  T\n",
    "\n",
    "print(x) # True"
   ]
  },
  {
   "cell_type": "code",
   "execution_count": 59,
   "id": "c2b9c279",
   "metadata": {},
   "outputs": [],
   "source": [
    "# Solución\n",
    "# D"
   ]
  },
  {
   "cell_type": "markdown",
   "id": "94adc6a8",
   "metadata": {},
   "source": [
    "****"
   ]
  },
  {
   "cell_type": "markdown",
   "id": "1f0766b8",
   "metadata": {},
   "source": [
    "# Question 17  (Functions) "
   ]
  },
  {
   "cell_type": "markdown",
   "id": "7837dba2-9357-4e74-a5cc-b6a7593b4245",
   "metadata": {},
   "source": [
    "What is the output of the following snippet?\n",
    "\n",
    "\n",
    "```\n",
    "def func(x, y):\n",
    "    if x == y:\n",
    "        return x\n",
    "    else:\n",
    "        return func(x, y-1)\n",
    "\n",
    "print(func(0, 3))\n",
    "```\n",
    "\n",
    "\n",
    "A. ```1```\n",
    "\n",
    "B. ```0```\n",
    "\n",
    "C. The snippet will cause a runtime error\n",
    "\n",
    "D. ```2```"
   ]
  },
  {
   "cell_type": "markdown",
   "id": "eb41cf74",
   "metadata": {},
   "source": [
    "# Solution 17"
   ]
  },
  {
   "cell_type": "code",
   "execution_count": 61,
   "id": "fe2b95ec",
   "metadata": {},
   "outputs": [
    {
     "name": "stdout",
     "output_type": "stream",
     "text": [
      "0\n"
     ]
    }
   ],
   "source": [
    "def func(x, y):\n",
    "    if x == y:\n",
    "        return x\n",
    "    else:\n",
    "        return func(x, y-1)\n",
    " \n",
    " \n",
    "print(func(0, 3))  \n",
    "\n",
    "# func(0, 3)  => return func(x, y-1)  => return func(0, 2)\n",
    "# func(0, 2)  => return func(0, 1)\n",
    "# func(0, 1)  => return func(0, 0)\n",
    "# func(0, 0)  => return x => 0\n",
    "\n",
    "# --EXPLICACIÓN TEÓRICA--\n",
    "# va restando 1 en la y \n",
    "# hasta que se encuentra con x=0, y=0\n",
    "# y en ese momento x==y devuelve True\n",
    "# y retorna x, que es 0"
   ]
  },
  {
   "cell_type": "code",
   "execution_count": 62,
   "id": "3053d2d7",
   "metadata": {},
   "outputs": [],
   "source": [
    "# Solución \n",
    "# B"
   ]
  },
  {
   "cell_type": "markdown",
   "id": "4cdfbff3",
   "metadata": {},
   "source": [
    "****"
   ]
  },
  {
   "cell_type": "markdown",
   "id": "43b694cc",
   "metadata": {},
   "source": [
    "# Question 18  (Functions)"
   ]
  },
  {
   "cell_type": "markdown",
   "id": "a91cec89-8faa-46bf-843c-469196e5b765",
   "metadata": {},
   "source": [
    "What is the output of the following snippet?\n",
    "\n",
    "```\n",
    "def any():\n",
    "    print(var + 1, end='')\n",
    " \n",
    "var = 1\n",
    "any()\n",
    "print(var)\n",
    "```\n",
    "\n",
    "\n",
    "\n",
    "A. ```12```\n",
    "\n",
    "\n",
    "B. ```21```\n",
    "\n",
    "\n",
    "C. ```22```\n",
    "\n",
    "\n",
    "D. ```11```\n"
   ]
  },
  {
   "cell_type": "markdown",
   "id": "8355eac1",
   "metadata": {},
   "source": [
    "# Solution 18"
   ]
  },
  {
   "cell_type": "code",
   "execution_count": 64,
   "id": "a2a78ac4",
   "metadata": {},
   "outputs": [
    {
     "name": "stdout",
     "output_type": "stream",
     "text": [
      "21\n"
     ]
    }
   ],
   "source": [
    "# any no debería ser nombre de una función\n",
    "\n",
    "def any():\n",
    "    print(var + 1, end='')\n",
    "\n",
    "var = 1\n",
    "\n",
    "any()       # llamada a la función => 1+1=2  \n",
    "print(var)  # var sigue siendo 1\n",
    "\n",
    "# => 21 (sin espacios por el \"end\")"
   ]
  },
  {
   "cell_type": "code",
   "execution_count": 65,
   "id": "dad45dbe",
   "metadata": {},
   "outputs": [],
   "source": [
    "# Solución\n",
    "# B"
   ]
  },
  {
   "cell_type": "markdown",
   "id": "2b2446fb",
   "metadata": {},
   "source": [
    "**unos ejemplos similares, con y sin variable GLOBAL, etc..**"
   ]
  },
  {
   "cell_type": "code",
   "execution_count": 66,
   "id": "d80e318a",
   "metadata": {},
   "outputs": [],
   "source": [
    "# any no debería ser nombre de una función, siendo palabra reservada\n",
    "# pero, en todo caso.."
   ]
  },
  {
   "cell_type": "code",
   "execution_count": 67,
   "id": "9e690bdd",
   "metadata": {},
   "outputs": [],
   "source": [
    "# ejemplo 1: cambiando nomnbre de función por funcion_any"
   ]
  },
  {
   "cell_type": "code",
   "execution_count": 68,
   "id": "eb9997ea",
   "metadata": {},
   "outputs": [
    {
     "name": "stdout",
     "output_type": "stream",
     "text": [
      "61\n"
     ]
    }
   ],
   "source": [
    "x = 1\n",
    "def funcion_any():\n",
    "    print(x + 5, end='')\n",
    "    \n",
    "funcion_any()\n",
    "print(x)"
   ]
  },
  {
   "cell_type": "code",
   "execution_count": 69,
   "id": "651d1f53",
   "metadata": {},
   "outputs": [],
   "source": [
    "# ejemplo 2: variable local x"
   ]
  },
  {
   "cell_type": "code",
   "execution_count": 70,
   "id": "d3cc890e",
   "metadata": {},
   "outputs": [
    {
     "data": {
      "text/plain": [
       "\"\\nx = 1\\n\\ndef funcion_any():\\n    x = x + 5\\n    print(x, end='')\\n\\nfuncion_any()\\nprint(x)\\n\""
      ]
     },
     "execution_count": 70,
     "metadata": {},
     "output_type": "execute_result"
    }
   ],
   "source": [
    "\"\"\"\n",
    "x = 1\n",
    "\n",
    "def funcion_any():\n",
    "    x = x + 5\n",
    "    print(x, end='')\n",
    "\n",
    "funcion_any()\n",
    "print(x)\n",
    "\"\"\"\n",
    "# UnboundLocalError: local variable 'x' referenced before assignment\n",
    "\n",
    "# AL SER LOCAL, la puede ejecutar, pero NO OPERAR."
   ]
  },
  {
   "cell_type": "code",
   "execution_count": 71,
   "id": "47543406",
   "metadata": {},
   "outputs": [],
   "source": [
    "# ejemplo 3: operarla si que lo hace"
   ]
  },
  {
   "cell_type": "code",
   "execution_count": 72,
   "id": "36e72dab",
   "metadata": {},
   "outputs": [
    {
     "name": "stdout",
     "output_type": "stream",
     "text": [
      "11\n"
     ]
    }
   ],
   "source": [
    "x = 1\n",
    "\n",
    "def funcion_any():\n",
    "    print(x, end='')\n",
    "\n",
    "funcion_any()\n",
    "print(x)"
   ]
  },
  {
   "cell_type": "code",
   "execution_count": 73,
   "id": "d4877f08",
   "metadata": {},
   "outputs": [],
   "source": [
    "# ejemplo 4: variable global x"
   ]
  },
  {
   "cell_type": "code",
   "execution_count": 74,
   "id": "308aa502",
   "metadata": {},
   "outputs": [
    {
     "name": "stdout",
     "output_type": "stream",
     "text": [
      "66\n"
     ]
    }
   ],
   "source": [
    "x = 1\n",
    "def funcion_any():\n",
    "    global x\n",
    "    x = x + 5\n",
    "    print(x, end='')\n",
    "    \n",
    "funcion_any()\n",
    "print(x)"
   ]
  },
  {
   "cell_type": "markdown",
   "id": "26cc92ac",
   "metadata": {},
   "source": [
    "****"
   ]
  },
  {
   "cell_type": "markdown",
   "id": "9e7600d1",
   "metadata": {},
   "source": [
    "# Question 19 (Data Aggregates)"
   ]
  },
  {
   "cell_type": "markdown",
   "id": "8eccd819-84fd-4c4c-a0f6-b31fdeca0eb4",
   "metadata": {},
   "source": [
    "What is the output of the following snippet?\n",
    "\n",
    "```\n",
    "my_list = [0, 1, 2, 3]\n",
    "x = 1\n",
    "for elem in my_list:\n",
    "    x *= elem\n",
    "print(x)\n",
    "```\n",
    "\n",
    "A. ```0```\n",
    "\n",
    "B. ```6```\n",
    "\n",
    "C. ```1```\n"
   ]
  },
  {
   "cell_type": "markdown",
   "id": "d15cd913",
   "metadata": {},
   "source": [
    "# Solution 19"
   ]
  },
  {
   "cell_type": "code",
   "execution_count": 76,
   "id": "4a26f582",
   "metadata": {},
   "outputs": [
    {
     "name": "stdout",
     "output_type": "stream",
     "text": [
      "0\n"
     ]
    }
   ],
   "source": [
    "my_list = [0, 1, 2, 3]\n",
    "x = 1\n",
    "for elem in my_list:\n",
    "    x *= elem           \n",
    "    # x = x * elem\n",
    "    # x = 1 * 0     => x = 0\n",
    "    # x = 0 * 1     => x = 0\n",
    "    # y asi hasta el final\n",
    "\n",
    "print(x)  # 0"
   ]
  },
  {
   "cell_type": "code",
   "execution_count": 77,
   "id": "e956b223",
   "metadata": {},
   "outputs": [],
   "source": [
    "# Solución\n",
    "# A"
   ]
  },
  {
   "cell_type": "markdown",
   "id": "c1e32652",
   "metadata": {},
   "source": [
    "****"
   ]
  },
  {
   "cell_type": "markdown",
   "id": "df94cb68",
   "metadata": {},
   "source": [
    "# Question 20 (Control Flow)"
   ]
  },
  {
   "cell_type": "markdown",
   "id": "82d76611-c8aa-440e-9cba-55f57ddad5ce",
   "metadata": {},
   "source": [
    "Consider the following programm to calculate a discount percentage:\n",
    "```\n",
    "day = input('Enter the day of the week:')\n",
    "discount = 3\n",
    " \n",
    "if day == 'Wednesday':\n",
    "    discount += 5\n",
    "elif day == 'Thursday':\n",
    "    discount += 7\n",
    "elif day == 'Saturday':\n",
    "    discount += 10\n",
    "elif day == 'Sunday':\n",
    "    discount += 20\n",
    "else:\n",
    "    discount += 2\n",
    "```\n",
    "Which of the following inputs will get the user a discount of 5 %?\n",
    "\n",
    "\n",
    "A. ```Thursday```\n",
    "    \n",
    "B. ```Saturday```\n",
    "    \n",
    "C. ```Sunday```\n",
    "    \n",
    "D. ```Friday```\n",
    "    \n",
    "E. ```Wednesday```\n",
    "    "
   ]
  },
  {
   "cell_type": "markdown",
   "id": "652b6c03",
   "metadata": {},
   "source": [
    "# Solution 20"
   ]
  },
  {
   "cell_type": "code",
   "execution_count": 79,
   "id": "ee17eb3c",
   "metadata": {},
   "outputs": [
    {
     "name": "stdout",
     "output_type": "stream",
     "text": [
      "Enter the day of the week: Friday\n",
      "5  %\n"
     ]
    }
   ],
   "source": [
    "day = input('Enter the day of the week: ')\n",
    "discount = 3\n",
    " \n",
    "if day == 'Wednesday':\n",
    "    discount += 5\n",
    "elif day == 'Thursday':\n",
    "    discount += 7\n",
    "elif day == 'Saturday':\n",
    "    discount += 10\n",
    "elif day == 'Sunday':\n",
    "    discount += 20\n",
    "else:                 # Monday, Tuesday, Friday\n",
    "    discount += 2      \n",
    "    \n",
    "# de las soluciones el único posible es Friday\n",
    "\n",
    "# imprimimos el descuento\n",
    "print(discount, \" %\")"
   ]
  },
  {
   "cell_type": "code",
   "execution_count": 80,
   "id": "90d99ead",
   "metadata": {},
   "outputs": [],
   "source": [
    "# Solución\n",
    "# D"
   ]
  },
  {
   "cell_type": "markdown",
   "id": "fbdeaa19",
   "metadata": {},
   "source": [
    "****"
   ]
  },
  {
   "cell_type": "markdown",
   "id": "3c606e4f",
   "metadata": {},
   "source": [
    "# Question 21 (Data Types) "
   ]
  },
  {
   "cell_type": "markdown",
   "id": "3c0779d0-4cc9-411c-adc3-0d0385731960",
   "metadata": {},
   "source": [
    "You are an intern for ABC electric cars company.\n",
    "\n",
    "You must create a function that calculates the average velocity\n",
    "of their vehicles on a 1320 foot (1/4 mile) track.\n",
    "\n",
    "Consider the following code.\n",
    "\n",
    "```\n",
    "distance = ???(input('Enter the distance travelled in feet'))\n",
    "distance_miles = distance/5280  # convert to miles\n",
    " \n",
    "time = ???(input('Enter the time elapsed in seconds'))\n",
    "time_hours = time/3600  # convert to hours\n",
    " \n",
    "velocity = distance_miles/time_hours\n",
    "print('The average Velocity : ', velocity, 'miles/hour')\n",
    "\n",
    "\n",
    "The output must be as precise as possible.\n",
    "What would you insert instead of ??? and ???\n",
    "```\n",
    "\n",
    "A.\n",
    "```    \n",
    "float\n",
    "int\n",
    "```\n",
    "B.\n",
    "```        \n",
    "float\n",
    "float\n",
    "```\n",
    "C.\n",
    "```\n",
    "int\n",
    "float\n",
    "```\n",
    "D. \n",
    "```       \n",
    "int\n",
    "int\n",
    "```"
   ]
  },
  {
   "cell_type": "markdown",
   "id": "cbe3738f",
   "metadata": {},
   "source": [
    "# Solution 21"
   ]
  },
  {
   "cell_type": "code",
   "execution_count": 82,
   "id": "8b0725d1",
   "metadata": {},
   "outputs": [
    {
     "name": "stdout",
     "output_type": "stream",
     "text": [
      "Enter the distance travelled in feet: 30000\n",
      "Enter the time elapsed in seconds: 120\n",
      "The average Velocity :  170.45454545454544 miles/hour\n"
     ]
    }
   ],
   "source": [
    "distance = float(input('Enter the distance travelled in feet: '))   # 30.000 por ejemplo\n",
    "distance_miles = distance/5280  # convert to miles\n",
    " \n",
    "time = float(input('Enter the time elapsed in seconds: '))          # 120 por ejemplo\n",
    "time_hours = time/3600  # convert to hours\n",
    " \n",
    "velocity = distance_miles/time_hours\n",
    "print('The average Velocity : ', velocity, 'miles/hour')"
   ]
  },
  {
   "cell_type": "code",
   "execution_count": 83,
   "id": "67fec384",
   "metadata": {},
   "outputs": [],
   "source": [
    "# Solución\n",
    "# B\n",
    "\n",
    "# YO PUSE FEET COMO INT, REVISARLO!!!"
   ]
  },
  {
   "cell_type": "markdown",
   "id": "202b2051",
   "metadata": {},
   "source": [
    "****"
   ]
  },
  {
   "cell_type": "markdown",
   "id": "3f896908",
   "metadata": {},
   "source": [
    "# Question 22  (Control Flow)"
   ]
  },
  {
   "cell_type": "markdown",
   "id": "f26575b2-1594-4a01-a1f3-bd9aada8f972",
   "metadata": {},
   "source": [
    "What is the expected output of the following code?\n",
    "```\n",
    "my_list = [[3-i for i in range(3)] for j in range(3)]\n",
    "result = 0\n",
    " \n",
    "for i in range(3):\n",
    "    result += my_list[i][i]\n",
    "    \n",
    "print(result)\n",
    "```\n",
    "A. ```7```\n",
    "\n",
    "B. ```2```\n",
    "\n",
    "C. ```4```\n",
    "\n",
    "D. ```6```\n"
   ]
  },
  {
   "cell_type": "markdown",
   "id": "232c1936",
   "metadata": {},
   "source": [
    "# Solution 22"
   ]
  },
  {
   "cell_type": "code",
   "execution_count": 85,
   "id": "b9ca5dda",
   "metadata": {},
   "outputs": [
    {
     "name": "stdout",
     "output_type": "stream",
     "text": [
      "[[3, 2, 1], [3, 2, 1], [3, 2, 1]]\n"
     ]
    },
    {
     "data": {
      "text/plain": [
       "'\\n[\\n[3,2,1],\\n[3,2,1],\\n[3,2,1]\\n]\\n'"
      ]
     },
     "execution_count": 85,
     "metadata": {},
     "output_type": "execute_result"
    }
   ],
   "source": [
    "my_list = [[3-i for i in range(3)] for j in range(3)]\n",
    "\n",
    "# range(3) => 0, 1, 2\n",
    "# 3-i => 3, 2, 1\n",
    "# [[3,2,1] for j in range(3)]\n",
    "# [[3,2,1] for 0, for 1, y for 2]\n",
    "\n",
    "print(my_list)\n",
    "\n",
    "'''\n",
    "[\n",
    "[3,2,1],\n",
    "[3,2,1],\n",
    "[3,2,1]\n",
    "]\n",
    "'''"
   ]
  },
  {
   "cell_type": "code",
   "execution_count": 86,
   "id": "95f208ba",
   "metadata": {},
   "outputs": [
    {
     "name": "stdout",
     "output_type": "stream",
     "text": [
      "6\n"
     ]
    }
   ],
   "source": [
    "my_list = [[3-i for i in range(3)] for j in range(3)]\n",
    "\n",
    "# range(3) => 0, 1, 2\n",
    "# 3-i => 3, 2, 1\n",
    "# [[3,2,1] for j in range(3)]\n",
    "# [[3,2,1] for 0, for 1, y for 2]\n",
    "\n",
    "result = 0\n",
    " \n",
    "for i in range(3):\n",
    "    result += my_list[i][i]  \n",
    "    # result = result + my_list[i][i]\n",
    "    # my_list[0][0] = 3\n",
    "    # result =    0     +     3           => result = 3\n",
    "    #          INICIAL   LISTA EN[0][0]\n",
    "    \n",
    "    # my_list[1][1] = 2\n",
    "    # result =    3     +     2           => result = 5\n",
    "    \n",
    "    # my_list[2][2] = 1\n",
    "    # result =    5     +     1           => result = 6\n",
    "\n",
    "print(result)    # 6"
   ]
  },
  {
   "cell_type": "code",
   "execution_count": 87,
   "id": "5fa26065",
   "metadata": {},
   "outputs": [],
   "source": [
    "# Solución\n",
    "# D"
   ]
  },
  {
   "cell_type": "markdown",
   "id": "3633ea84",
   "metadata": {},
   "source": [
    "****"
   ]
  },
  {
   "cell_type": "markdown",
   "id": "a0821b1d",
   "metadata": {},
   "source": [
    "# Question 23  (Operators)"
   ]
  },
  {
   "cell_type": "markdown",
   "id": "2a84b0f6-7aa6-4de4-b448-b567bd307457",
   "metadata": {},
   "source": [
    "What is the output of the following code?\n",
    "\n",
    "```\n",
    "x = \"2\"\n",
    "y = 2 * x\n",
    "print(y)\n",
    "```\n",
    "A. ```4```\n",
    "\n",
    "B. The program will cause an error\n",
    "\n",
    "C. ```22```\n",
    "\n",
    "D. ```2x```\n"
   ]
  },
  {
   "cell_type": "markdown",
   "id": "d7b9edb4",
   "metadata": {},
   "source": [
    "# Solution 23"
   ]
  },
  {
   "cell_type": "code",
   "execution_count": 89,
   "id": "20a1993c",
   "metadata": {},
   "outputs": [
    {
     "name": "stdout",
     "output_type": "stream",
     "text": [
      "22\n"
     ]
    }
   ],
   "source": [
    "x = \"2\"\n",
    "y = 2 * x     # string * un número\n",
    "\n",
    "\n",
    "print(y)    # 22   [22 string]"
   ]
  },
  {
   "cell_type": "code",
   "execution_count": 90,
   "id": "4b85ec2b",
   "metadata": {},
   "outputs": [
    {
     "data": {
      "text/plain": [
       "str"
      ]
     },
     "execution_count": 90,
     "metadata": {},
     "output_type": "execute_result"
    }
   ],
   "source": [
    "# comprobamos que es un string\n",
    "type(y)    "
   ]
  },
  {
   "cell_type": "code",
   "execution_count": 91,
   "id": "c47523c4",
   "metadata": {},
   "outputs": [],
   "source": [
    "# Solución\n",
    "# C"
   ]
  },
  {
   "cell_type": "markdown",
   "id": "8432d9b5",
   "metadata": {},
   "source": [
    "**recordatorio**"
   ]
  },
  {
   "cell_type": "code",
   "execution_count": 92,
   "id": "d8a46e99",
   "metadata": {},
   "outputs": [
    {
     "data": {
      "text/plain": [
       "'2x'"
      ]
     },
     "execution_count": 92,
     "metadata": {},
     "output_type": "execute_result"
    }
   ],
   "source": [
    "string = '2x'\n",
    "string"
   ]
  },
  {
   "cell_type": "code",
   "execution_count": 93,
   "id": "9950033c",
   "metadata": {},
   "outputs": [
    {
     "data": {
      "text/plain": [
       "'2x2x2x'"
      ]
     },
     "execution_count": 93,
     "metadata": {},
     "output_type": "execute_result"
    }
   ],
   "source": [
    "3*string"
   ]
  },
  {
   "cell_type": "code",
   "execution_count": 94,
   "id": "32dada3b",
   "metadata": {},
   "outputs": [
    {
     "data": {
      "text/plain": [
       "'2x2x2x'"
      ]
     },
     "execution_count": 94,
     "metadata": {},
     "output_type": "execute_result"
    }
   ],
   "source": [
    "string*3"
   ]
  },
  {
   "cell_type": "markdown",
   "id": "750b13dd",
   "metadata": {},
   "source": [
    "****"
   ]
  },
  {
   "cell_type": "markdown",
   "id": "81431c41",
   "metadata": {},
   "source": [
    "# Question 24  (Data Aggregates) "
   ]
  },
  {
   "cell_type": "markdown",
   "id": "c26345a2-9466-4c43-a1ae-14636839ca8c",
   "metadata": {},
   "source": [
    "What is the expected output of the following code?\n",
    "\n",
    "```\n",
    "data = ()\n",
    "print(data.__len__())\n",
    "```\n",
    "\n",
    "A. ```0```\n",
    "\n",
    "B. ```None```\n",
    "\n",
    "C. The code is erroneous\n",
    "\n",
    "D. ```1```\n"
   ]
  },
  {
   "cell_type": "markdown",
   "id": "d6fc851e",
   "metadata": {},
   "source": [
    "# Solution 24"
   ]
  },
  {
   "cell_type": "code",
   "execution_count": 8,
   "id": "349d1e74",
   "metadata": {},
   "outputs": [
    {
     "name": "stdout",
     "output_type": "stream",
     "text": [
      "0\n"
     ]
    }
   ],
   "source": [
    "data = ()\n",
    "print(data.__len__())"
   ]
  },
  {
   "cell_type": "code",
   "execution_count": 97,
   "id": "54c485b4",
   "metadata": {},
   "outputs": [],
   "source": [
    "# es equivalente a len(data) !!!"
   ]
  },
  {
   "cell_type": "code",
   "execution_count": 98,
   "id": "456033e1",
   "metadata": {},
   "outputs": [
    {
     "name": "stdout",
     "output_type": "stream",
     "text": [
      "0\n"
     ]
    }
   ],
   "source": [
    "data = ()\n",
    "print(len(data))"
   ]
  },
  {
   "cell_type": "code",
   "execution_count": 99,
   "id": "5a25f72a",
   "metadata": {},
   "outputs": [],
   "source": [
    "# Solución\n",
    "# A"
   ]
  },
  {
   "cell_type": "markdown",
   "id": "0cefc486",
   "metadata": {},
   "source": [
    "****"
   ]
  },
  {
   "cell_type": "markdown",
   "id": "5d06fd5f",
   "metadata": {},
   "source": [
    "# Question 25 (Control Flow) "
   ]
  },
  {
   "cell_type": "markdown",
   "id": "91eee3df-e832-40cc-8cbe-443813c7747f",
   "metadata": {},
   "source": [
    "What is the expected output of the following code?\n",
    "\n",
    "```\n",
    "data = [1, {}, (2,), (), {3}, [4, 5]]\n",
    "points = 0\n",
    " \n",
    "for i in range(len(data)):\n",
    "    if type(data[i]) == list:\n",
    "        points += 1\n",
    "    elif type(data[i]) == tuple:\n",
    "        points += 10\n",
    "    elif type(data[i]) == set:\n",
    "        points += 100\n",
    "    elif type(data[i]) == dict:\n",
    "        points += 1000\n",
    "    else:\n",
    "        points += 10000\n",
    "        \n",
    "print(points)\n",
    "```\n",
    "\n",
    "A. ```10221```\n",
    "\n",
    "B. ```21102```\n",
    "\n",
    "C. ```11121```\n",
    "\n",
    "D. ```10212```\n",
    "\n",
    "E. ```11112```\n"
   ]
  },
  {
   "cell_type": "markdown",
   "id": "a585a4f7",
   "metadata": {},
   "source": [
    "# Solution 25"
   ]
  },
  {
   "cell_type": "code",
   "execution_count": 101,
   "id": "050dd61f",
   "metadata": {},
   "outputs": [
    {
     "data": {
      "text/plain": [
       "[1, {}, (2,), (), {3}, [4, 5]]"
      ]
     },
     "execution_count": 101,
     "metadata": {},
     "output_type": "execute_result"
    }
   ],
   "source": [
    "data = [1, {}, (2,), (), {3}, [4, 5]]\n",
    "data"
   ]
  },
  {
   "cell_type": "code",
   "execution_count": 102,
   "id": "3c16f71f",
   "metadata": {},
   "outputs": [
    {
     "data": {
      "text/plain": [
       "6"
      ]
     },
     "execution_count": 102,
     "metadata": {},
     "output_type": "execute_result"
    }
   ],
   "source": [
    "data = [1, {}, (2,), (), {3}, [4, 5]]\n",
    "len(data)"
   ]
  },
  {
   "cell_type": "code",
   "execution_count": 103,
   "id": "d451dece",
   "metadata": {},
   "outputs": [],
   "source": [
    "# el propio ejercicio"
   ]
  },
  {
   "cell_type": "code",
   "execution_count": 104,
   "id": "01e03084",
   "metadata": {},
   "outputs": [
    {
     "name": "stdout",
     "output_type": "stream",
     "text": [
      "11121\n"
     ]
    }
   ],
   "source": [
    "data = [1, {}, (2,), (), {3}, [4, 5]]\n",
    "points = 0\n",
    " \n",
    "for i in range(len(data)):                 # range(6) => 0-1-2-3-4-5\n",
    "    if type(data[i]) == list:              \n",
    "        points += 1\n",
    "    elif type(data[i]) == tuple:\n",
    "        points += 10\n",
    "    elif type(data[i]) == set:\n",
    "        points += 100\n",
    "    elif type(data[i]) == dict:\n",
    "        points += 1000\n",
    "    else:\n",
    "        points += 10000\n",
    "        \n",
    "print(points)"
   ]
  },
  {
   "cell_type": "code",
   "execution_count": 105,
   "id": "e98612e1",
   "metadata": {},
   "outputs": [],
   "source": [
    "# Solución\n",
    "# C"
   ]
  },
  {
   "cell_type": "markdown",
   "id": "a2cf4490",
   "metadata": {},
   "source": [
    "**resolución paso a paso printeando**"
   ]
  },
  {
   "cell_type": "code",
   "execution_count": 106,
   "id": "ffb372f7",
   "metadata": {},
   "outputs": [
    {
     "name": "stdout",
     "output_type": "stream",
     "text": [
      "NI LISTA, TUPLA, SET O DICIONARIO:  1\n",
      "1\n",
      "\n",
      "\n",
      "Es un diccionario:  {}\n",
      "\n",
      "\n",
      "Es una tupla:  (2,)\n",
      "\n",
      "\n",
      "Es una tupla:  ()\n",
      "\n",
      "\n",
      "Es un set:  {3}\n",
      "\n",
      "\n",
      "Es una lista: [4, 5]\n",
      "\n",
      "\n",
      "11121\n"
     ]
    },
    {
     "data": {
      "text/plain": [
       "\"\\n[1,       {},    (2,),     (),     {3},      [4, 5]]\\n10000 +  1000 +   10  +    10   +  100  +      1\\n                                   SET\\n\\n{3} NO ES DICCIONARIO! ES SET, NO TIENE {'CLAVE', VALOR}\\n\""
      ]
     },
     "execution_count": 106,
     "metadata": {},
     "output_type": "execute_result"
    }
   ],
   "source": [
    "data = [1, {}, (2,), (), {3}, [4, 5]]\n",
    "points = 0\n",
    " \n",
    "for i in range(len(data)):                 # range(6) => 0-1-2-3-4-5\n",
    "    if type(data[i]) == list:    \n",
    "        print('Es una lista:', data[i])\n",
    "        print('\\n')\n",
    "        points += 1                        \n",
    "    elif type(data[i]) == tuple:\n",
    "        print('Es una tupla: ', data[i])\n",
    "        print('\\n')\n",
    "        points += 10\n",
    "    elif type(data[i]) == set:\n",
    "        print('Es un set: ', data[i])\n",
    "        print('\\n')\n",
    "        points += 100\n",
    "    elif type(data[i]) == dict:\n",
    "        print('Es un diccionario: ', data[i])\n",
    "        print('\\n')\n",
    "        points += 1000\n",
    "    else:\n",
    "        print('NI LISTA, TUPLA, SET O DICIONARIO: ', data[i])\n",
    "        print(data[i])\n",
    "        print('\\n')\n",
    "        points += 10000\n",
    "        \n",
    "print(points)\n",
    "\n",
    "\n",
    "\"\"\"\n",
    "[1,       {},    (2,),     (),     {3},      [4, 5]]\n",
    "10000 +  1000 +   10  +    10   +  100  +      1\n",
    "                                   SET\n",
    "\n",
    "{3} NO ES DICCIONARIO! ES SET, NO TIENE {'CLAVE', VALOR}\n",
    "\"\"\""
   ]
  },
  {
   "cell_type": "code",
   "execution_count": 107,
   "id": "0738a6af",
   "metadata": {},
   "outputs": [
    {
     "data": {
      "text/plain": [
       "11121"
      ]
     },
     "execution_count": 107,
     "metadata": {},
     "output_type": "execute_result"
    }
   ],
   "source": [
    "10000 +  1000 +   10  +    10   +  100  +      1"
   ]
  },
  {
   "cell_type": "markdown",
   "id": "7bbda0fb",
   "metadata": {},
   "source": [
    "****"
   ]
  },
  {
   "cell_type": "markdown",
   "id": "d498db53",
   "metadata": {},
   "source": [
    "# Question 26 (Operators)"
   ]
  },
  {
   "cell_type": "markdown",
   "id": "751b10bb-c128-49f1-9602-9341055ec959",
   "metadata": {},
   "source": [
    "What is the expected output of the following code?\n",
    "\n",
    "```\n",
    "x = 4.5\n",
    "y = 2\n",
    "\n",
    "print(x // y)\n",
    "```\n",
    "\n",
    "A. ```2.5```\n",
    "\n",
    "B. ```2.0```\n",
    "\n",
    "C. ```2```\n",
    "\n",
    "D. ```2.25```\n"
   ]
  },
  {
   "cell_type": "markdown",
   "id": "f3d4041e",
   "metadata": {},
   "source": [
    "# Solution 26"
   ]
  },
  {
   "cell_type": "code",
   "execution_count": 109,
   "id": "77352bc5",
   "metadata": {},
   "outputs": [
    {
     "name": "stdout",
     "output_type": "stream",
     "text": [
      "2.0\n"
     ]
    }
   ],
   "source": [
    "x = 4.5\n",
    "\n",
    "y = 2\n",
    "\n",
    "print(x // y)  # COCIENTE-> 2.0\n",
    "\n",
    "# ES COCIENTE ENTERO, PERO UNO DE LOS NÚMEROS ES DECIMAL EN LA DIVISIÓN\n",
    "# POR ESO NO ES 2, SINO, 2.0"
   ]
  },
  {
   "cell_type": "code",
   "execution_count": 110,
   "id": "2516a181",
   "metadata": {},
   "outputs": [],
   "source": [
    "# Solución\n",
    "# B"
   ]
  },
  {
   "cell_type": "markdown",
   "id": "131f179c",
   "metadata": {},
   "source": [
    "****"
   ]
  },
  {
   "cell_type": "markdown",
   "id": "2cd1af3e",
   "metadata": {},
   "source": [
    "# Question 27"
   ]
  },
  {
   "cell_type": "markdown",
   "id": "d88e1c2f-6e66-4b6a-8c5b-d2d9fe245e75",
   "metadata": {},
   "source": [
    "What is the expected output of the following code?\n",
    "\n",
    "```\n",
    "num = 2 + 3 * 5\n",
    "print(Num)\n",
    "```\n",
    "\n",
    "A. ```17```\n",
    "\n",
    "B. ```17.0```\n",
    "\n",
    "C. ```25```\n",
    "\n",
    "D. The code is erroneous"
   ]
  },
  {
   "cell_type": "markdown",
   "id": "d5c13634",
   "metadata": {},
   "source": [
    "# Solution 27"
   ]
  },
  {
   "cell_type": "code",
   "execution_count": 112,
   "id": "5cc7ef59",
   "metadata": {},
   "outputs": [
    {
     "data": {
      "text/plain": [
       "'\\nnum = 2 + 3 * 5    # 17\\nprint(Num)         # NO EJECUTA\\n'"
      ]
     },
     "execution_count": 112,
     "metadata": {},
     "output_type": "execute_result"
    }
   ],
   "source": [
    "\"\"\"\n",
    "num = 2 + 3 * 5    # 17\n",
    "print(Num)         # NO EJECUTA\n",
    "\"\"\"\n",
    "\n",
    "# NameError: name 'Num' is not defined\n",
    "\n",
    "\n",
    "\n",
    "# OJO con la N mayúscula!\n",
    "# no son la misma variable: \"num\" y \"Num\""
   ]
  },
  {
   "cell_type": "code",
   "execution_count": 113,
   "id": "644efd70",
   "metadata": {},
   "outputs": [],
   "source": [
    "# Solución\n",
    "# D"
   ]
  },
  {
   "cell_type": "markdown",
   "id": "cf28a728",
   "metadata": {},
   "source": [
    "****"
   ]
  },
  {
   "cell_type": "markdown",
   "id": "eabe69e0",
   "metadata": {},
   "source": [
    "# Question 28  (Operators)"
   ]
  },
  {
   "cell_type": "markdown",
   "id": "e7263daa-9fc5-48be-bb74-dd8142465348",
   "metadata": {},
   "source": [
    "What is the output of the following snippet \n",
    "if the user enters two lines \n",
    "containing 3 and 6 respectively?\n",
    "\n",
    "\n",
    "```\n",
    "x = input()\n",
    "y = int(input())\n",
    " \n",
    "print(x * y)\n",
    "```\n",
    "\n",
    "A. ```36```\n",
    "\n",
    "B. ```18```\n",
    "\n",
    "C. ```333333```\n",
    "\n",
    "D. ```666```"
   ]
  },
  {
   "cell_type": "markdown",
   "id": "ed73ab3d",
   "metadata": {},
   "source": [
    "# Solution 28"
   ]
  },
  {
   "cell_type": "code",
   "execution_count": 115,
   "id": "36615df1",
   "metadata": {},
   "outputs": [
    {
     "name": "stdout",
     "output_type": "stream",
     "text": [
      "3\n",
      "6\n",
      "333333\n"
     ]
    }
   ],
   "source": [
    "# x = 3 \n",
    "# y = 6\n",
    "x = input()        # 3 string\n",
    "y = int(input())   # 6 entero\n",
    " \n",
    "print(x * y)       # 3 (6 veces)     '3' 6 veces ==> 333333  (string)"
   ]
  },
  {
   "cell_type": "code",
   "execution_count": 116,
   "id": "07423023",
   "metadata": {},
   "outputs": [
    {
     "data": {
      "text/plain": [
       "str"
      ]
     },
     "execution_count": 116,
     "metadata": {},
     "output_type": "execute_result"
    }
   ],
   "source": [
    "type(x*y)"
   ]
  },
  {
   "cell_type": "code",
   "execution_count": 117,
   "id": "08cccf6c",
   "metadata": {},
   "outputs": [],
   "source": [
    "# Solución\n",
    "# C"
   ]
  },
  {
   "cell_type": "markdown",
   "id": "eac0c5c9",
   "metadata": {},
   "source": [
    "****"
   ]
  },
  {
   "cell_type": "markdown",
   "id": "e16354ab",
   "metadata": {},
   "source": [
    "# Question 29  (Basics)"
   ]
  },
  {
   "cell_type": "markdown",
   "id": "26d9f71d-0929-4d3b-99f1-7846bc87654d",
   "metadata": {},
   "source": [
    "You develop a Python application for your company.\n",
    "\n",
    "You want to add notes to your code so other team members will understand it.\n",
    "\n",
    "\n",
    "What should you do?\n",
    "\n",
    "A. Place the notes inside of parentheses on any line\n",
    "\n",
    "B. Place the notes after the last line of code separated by a blank line\n",
    "\n",
    "C. Place the notes before the first line of code separated by a blank line\n",
    "\n",
    "D. Place the notes after the ```#``` sign on any line"
   ]
  },
  {
   "cell_type": "markdown",
   "id": "58b8ab3f",
   "metadata": {},
   "source": [
    "# Solution 29"
   ]
  },
  {
   "cell_type": "code",
   "execution_count": 119,
   "id": "aa8bbbc1",
   "metadata": {},
   "outputs": [],
   "source": [
    "# Solución\n",
    "# D"
   ]
  },
  {
   "cell_type": "markdown",
   "id": "9a6e2332",
   "metadata": {},
   "source": [
    "****"
   ]
  },
  {
   "cell_type": "markdown",
   "id": "f660d48c",
   "metadata": {},
   "source": [
    "# Question 30"
   ]
  },
  {
   "cell_type": "markdown",
   "id": "3f5c08a4-da96-4ff5-85fe-4a9a2e2cd90d",
   "metadata": {},
   "source": [
    "What is the expected output of the following code?\n",
    "```\n",
    "print(2 ** 3 ** 2 ** 1)\n",
    "```\n",
    "\n",
    "A. ```16```\n",
    "\n",
    "B. ```512```\n",
    "\n",
    "C. ```128.0```\n",
    "\n",
    "D. ```64```\n",
    "\n",
    "E. ```16.0```\n",
    "\n",
    "F. The code is erroneous"
   ]
  },
  {
   "cell_type": "markdown",
   "id": "66791312",
   "metadata": {},
   "source": [
    "# Solution 30"
   ]
  },
  {
   "cell_type": "code",
   "execution_count": 121,
   "id": "b169c6e9",
   "metadata": {},
   "outputs": [
    {
     "name": "stdout",
     "output_type": "stream",
     "text": [
      "512\n"
     ]
    }
   ],
   "source": [
    "print(2 ** 3 ** 2 ** 1)\n",
    "#               2 ** 1 => 2\n",
    "#          3 **   2    => 9\n",
    "#     2 **    9        => 512\n",
    "\n",
    "\n",
    "# recordar que se toman de derecha a izquierda\n",
    "# ojo, con paréntesis, multiplicaciones y divisiones, y las sumas y restas\n",
    "\n",
    "# pero en este caso, es un único operador. se operan de DERECHA A IZQUIERDA"
   ]
  },
  {
   "cell_type": "code",
   "execution_count": 122,
   "id": "fa9440df",
   "metadata": {},
   "outputs": [],
   "source": [
    "# Solución\n",
    "# B"
   ]
  },
  {
   "cell_type": "markdown",
   "id": "886fba73",
   "metadata": {},
   "source": [
    "****"
   ]
  },
  {
   "cell_type": "markdown",
   "id": "983143b9",
   "metadata": {},
   "source": [
    "*Gracias por la atención*\n",
    "\n",
    "*Isabel Maniega*"
   ]
  }
 ],
 "metadata": {
  "kernelspec": {
   "display_name": "Python 3 (ipykernel)",
   "language": "python",
   "name": "python3"
  },
  "language_info": {
   "codemirror_mode": {
    "name": "ipython",
    "version": 3
   },
   "file_extension": ".py",
   "mimetype": "text/x-python",
   "name": "python",
   "nbconvert_exporter": "python",
   "pygments_lexer": "ipython3",
   "version": "3.8.19"
  }
 },
 "nbformat": 4,
 "nbformat_minor": 5
}

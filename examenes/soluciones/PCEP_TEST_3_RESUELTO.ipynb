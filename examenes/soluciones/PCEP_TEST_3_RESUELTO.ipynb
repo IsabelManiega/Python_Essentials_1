{
 "cells": [
  {
   "cell_type": "markdown",
   "id": "9c133de8",
   "metadata": {},
   "source": [
    "*Contenido creado por: Isabel Maniega*"
   ]
  },
  {
   "cell_type": "markdown",
   "id": "07b52808",
   "metadata": {},
   "source": [
    "****"
   ]
  },
  {
   "cell_type": "markdown",
   "id": "a0821b1d",
   "metadata": {},
   "source": [
    "# Question 1 (Data Types)"
   ]
  },
  {
   "cell_type": "markdown",
   "id": "939e43fa-4ca3-4898-8ff1-841d40870d4e",
   "metadata": {},
   "source": [
    "What is the expected output of the following code \n",
    "if the user enters 11 and 4 ?\n",
    "\n",
    "```\n",
    "x = int(input())\n",
    "y = int(input())\n",
    "x = x % y\n",
    "x = x % y\n",
    "y = y % x\n",
    "print(y)\n",
    "```\n",
    "\n",
    "A. ```1```\n",
    "\n",
    "B. ```2```\n",
    "\n",
    "C. ```3```\n",
    "\n",
    "D. ```4```"
   ]
  },
  {
   "cell_type": "markdown",
   "id": "d7b9edb4",
   "metadata": {},
   "source": [
    "# Solution 1"
   ]
  },
  {
   "cell_type": "code",
   "execution_count": 2,
   "id": "20a1993c",
   "metadata": {},
   "outputs": [
    {
     "name": "stdout",
     "output_type": "stream",
     "text": [
      "11\n",
      "4\n",
      "1\n"
     ]
    }
   ],
   "source": [
    "# 11 and 4\n",
    "x = int(input())  # x = 11\n",
    "y = int(input())  # y = 4\n",
    "x = x % y         # x = 11 % 4 => x = 3\n",
    "x = x % y         # x =  3 % 4 => x = 3\n",
    "y = y % x         # y =  4 % 3 => y = 1\n",
    "print(y)          # 1"
   ]
  },
  {
   "cell_type": "code",
   "execution_count": 3,
   "id": "05000d65",
   "metadata": {},
   "outputs": [],
   "source": [
    "# Solución\n",
    "# A"
   ]
  },
  {
   "cell_type": "markdown",
   "id": "d5e9f622",
   "metadata": {},
   "source": [
    "****"
   ]
  },
  {
   "cell_type": "markdown",
   "id": "d498db53",
   "metadata": {},
   "source": [
    "# Question 2 (Control Flow) "
   ]
  },
  {
   "cell_type": "markdown",
   "id": "b762e684-a91b-4962-a401-e65c3960cf6a",
   "metadata": {},
   "source": [
    "How many stars will the following code print to the monitor?\n",
    "```\n",
    "x = 1\n",
    "while x < 10:\n",
    "    print('*')\n",
    "    x = x << 1 # a * 2^n\n",
    "```\n",
    "    \n",
    "A. four\n",
    "\n",
    "B. two\n",
    "\n",
    "C. eight\n",
    "\n",
    "D. one"
   ]
  },
  {
   "cell_type": "markdown",
   "id": "f3d4041e",
   "metadata": {},
   "source": [
    "# Solution 2"
   ]
  },
  {
   "cell_type": "code",
   "execution_count": 5,
   "id": "77352bc5",
   "metadata": {},
   "outputs": [
    {
     "name": "stdout",
     "output_type": "stream",
     "text": [
      "*\n",
      "*\n",
      "*\n",
      "*\n"
     ]
    }
   ],
   "source": [
    "x = 1\n",
    "while x < 10:\n",
    "    print('*')\n",
    "    x = x << 1 # a * 2^n \n",
    "    # x = 1 * 2¹ = 2 --> *\n",
    "    # x = 2 * 2¹ = 4 --> *\n",
    "    # x = 4 * 2¹ = 8 --> *\n",
    "    # x = 8 * 2¹ = 16 --> *\n",
    "    \n",
    "# 0000 0001    (1 decimal)\n",
    "# 0000 0010    (2 decimal)\n",
    "# 0000 0100    (4 decimal)\n",
    "# 0000 1000    (8 decimal)\n",
    "\n",
    "# 0001 0000    (16 decimal) fuera de rango"
   ]
  },
  {
   "cell_type": "code",
   "execution_count": 6,
   "id": "c292b31b",
   "metadata": {},
   "outputs": [],
   "source": [
    "# Solución\n",
    "# A"
   ]
  },
  {
   "cell_type": "markdown",
   "id": "835f97e7",
   "metadata": {},
   "source": [
    "****"
   ]
  },
  {
   "cell_type": "markdown",
   "id": "78fbdd42",
   "metadata": {},
   "source": [
    "# Question 3 (Operators)"
   ]
  },
  {
   "cell_type": "markdown",
   "id": "03eff592-6939-466f-9c89-9b9c5786a2cb",
   "metadata": {},
   "source": [
    "Consider the following code.\n",
    "```\n",
    "x = 1\n",
    "x = x == x\n",
    "```\n",
    "The value eventually assigned to x is equal to:\n",
    "\n",
    "A. ```1```\n",
    "\n",
    "B. ```False```\n",
    "\n",
    "C. ```True```\n",
    "\n",
    "D. ```0```"
   ]
  },
  {
   "cell_type": "markdown",
   "id": "d5c13634",
   "metadata": {},
   "source": [
    "# Solution 3"
   ]
  },
  {
   "cell_type": "code",
   "execution_count": 8,
   "id": "5cc7ef59",
   "metadata": {},
   "outputs": [
    {
     "name": "stdout",
     "output_type": "stream",
     "text": [
      "True\n"
     ]
    }
   ],
   "source": [
    "x = 1\n",
    "x = x == x\n",
    "# x = 1==1\n",
    "# x = True\n",
    "print(x)"
   ]
  },
  {
   "cell_type": "code",
   "execution_count": 9,
   "id": "afd50074",
   "metadata": {},
   "outputs": [],
   "source": [
    "# Solución\n",
    "# C"
   ]
  },
  {
   "cell_type": "markdown",
   "id": "ea130605",
   "metadata": {},
   "source": [
    "****"
   ]
  },
  {
   "cell_type": "markdown",
   "id": "eabe69e0",
   "metadata": {},
   "source": [
    "# Question 4 (Data Aggregates)"
   ]
  },
  {
   "cell_type": "markdown",
   "id": "441a0ef0-fbfe-4cff-9011-8dcdcb136dc1",
   "metadata": {},
   "source": [
    "What is the expected output of the following code?\n",
    "\n",
    "```\n",
    "data = {'1': '0', '0': '1'}\n",
    " \n",
    "for d in data.vals():\n",
    "    print(d, end=' ')\n",
    "```  \n",
    "    \n",
    "A. ```0 0```\n",
    "\n",
    "B. ```1 0```\n",
    "\n",
    "C. ```0 1```\n",
    "\n",
    "D. The code is erroneous"
   ]
  },
  {
   "cell_type": "markdown",
   "id": "ed73ab3d",
   "metadata": {},
   "source": [
    "# Solution 4"
   ]
  },
  {
   "cell_type": "code",
   "execution_count": 1,
   "id": "36615df1",
   "metadata": {},
   "outputs": [
    {
     "ename": "AttributeError",
     "evalue": "'dict' object has no attribute 'vals'",
     "output_type": "error",
     "traceback": [
      "\u001b[0;31m---------------------------------------------------------------------------\u001b[0m",
      "\u001b[0;31mAttributeError\u001b[0m                            Traceback (most recent call last)",
      "\u001b[1;32m/home/isabelmaniega/Documentos/PCEP/PCEP/soluciones/PCEP_TEST_3_RESUELTO.ipynb Cell 24\u001b[0m line \u001b[0;36m3\n\u001b[1;32m      <a href='vscode-notebook-cell:/home/isabelmaniega/Documentos/PCEP/PCEP/soluciones/PCEP_TEST_3_RESUELTO.ipynb#X32sZmlsZQ%3D%3D?line=0'>1</a>\u001b[0m data \u001b[39m=\u001b[39m {\u001b[39m'\u001b[39m\u001b[39m1\u001b[39m\u001b[39m'\u001b[39m: \u001b[39m'\u001b[39m\u001b[39m0\u001b[39m\u001b[39m'\u001b[39m, \u001b[39m'\u001b[39m\u001b[39m0\u001b[39m\u001b[39m'\u001b[39m: \u001b[39m'\u001b[39m\u001b[39m1\u001b[39m\u001b[39m'\u001b[39m}\n\u001b[0;32m----> <a href='vscode-notebook-cell:/home/isabelmaniega/Documentos/PCEP/PCEP/soluciones/PCEP_TEST_3_RESUELTO.ipynb#X32sZmlsZQ%3D%3D?line=2'>3</a>\u001b[0m \u001b[39mfor\u001b[39;00m d \u001b[39min\u001b[39;00m data\u001b[39m.\u001b[39;49mvals():\n\u001b[1;32m      <a href='vscode-notebook-cell:/home/isabelmaniega/Documentos/PCEP/PCEP/soluciones/PCEP_TEST_3_RESUELTO.ipynb#X32sZmlsZQ%3D%3D?line=3'>4</a>\u001b[0m     \u001b[39mprint\u001b[39m(d, end\u001b[39m=\u001b[39m\u001b[39m'\u001b[39m\u001b[39m \u001b[39m\u001b[39m'\u001b[39m) \n",
      "\u001b[0;31mAttributeError\u001b[0m: 'dict' object has no attribute 'vals'"
     ]
    }
   ],
   "source": [
    "\n",
    "data = {'1': '0', '0': '1'}\n",
    " \n",
    "for d in data.vals():\n",
    "    print(d, end=' ') "
   ]
  },
  {
   "cell_type": "code",
   "execution_count": 12,
   "id": "46a4ba17",
   "metadata": {},
   "outputs": [],
   "source": [
    "# Solución\n",
    "# D"
   ]
  },
  {
   "cell_type": "markdown",
   "id": "116efb9c",
   "metadata": {},
   "source": [
    "**la solución que sería correcta**"
   ]
  },
  {
   "cell_type": "code",
   "execution_count": 13,
   "id": "f9b4c268",
   "metadata": {},
   "outputs": [
    {
     "name": "stdout",
     "output_type": "stream",
     "text": [
      "0 1 "
     ]
    }
   ],
   "source": [
    "# esto sería correcto\n",
    "\n",
    "data = {'1': '0', \n",
    "        '0': '1'}\n",
    " \n",
    "for d in data.values():\n",
    "    print(d, end=' ')   # 0 1"
   ]
  },
  {
   "cell_type": "markdown",
   "id": "df1832a6",
   "metadata": {},
   "source": [
    "****"
   ]
  },
  {
   "cell_type": "markdown",
   "id": "c8261723",
   "metadata": {},
   "source": [
    "# Question 5 (Functions)"
   ]
  },
  {
   "cell_type": "markdown",
   "id": "087a723a-f11a-466a-b32c-40349e2b4763",
   "metadata": {},
   "source": [
    "What is the output of the following snippet?\n",
    "\n",
    "```\n",
    "def fun(in=2, out=3):\n",
    "    return in * out\n",
    " \n",
    "print(fun(3))\n",
    "```\n",
    "A. The snippet is erroneous (invalid syntax)\n",
    "\n",
    "B. ```6```\n",
    "\n",
    "C. ```9```"
   ]
  },
  {
   "cell_type": "markdown",
   "id": "0f852573",
   "metadata": {},
   "source": [
    "# Solution 5"
   ]
  },
  {
   "cell_type": "code",
   "execution_count": 4,
   "id": "70e94375",
   "metadata": {},
   "outputs": [
    {
     "ename": "SyntaxError",
     "evalue": "invalid syntax (2539153043.py, line 1)",
     "output_type": "error",
     "traceback": [
      "\u001b[0;36m  Cell \u001b[0;32mIn[4], line 1\u001b[0;36m\u001b[0m\n\u001b[0;31m    def fun(in=2, out=3):\u001b[0m\n\u001b[0m            ^\u001b[0m\n\u001b[0;31mSyntaxError\u001b[0m\u001b[0;31m:\u001b[0m invalid syntax\n"
     ]
    }
   ],
   "source": [
    "\"\"\"def fun(in=2, out=3):\n",
    "    return in * out\n",
    " \n",
    "print(fun(3))\"\"\"\n",
    "\n",
    "# SyntaxError: invalid syntax"
   ]
  },
  {
   "cell_type": "code",
   "execution_count": 16,
   "id": "2f581864",
   "metadata": {},
   "outputs": [],
   "source": [
    "# Solución\n",
    "# A"
   ]
  },
  {
   "cell_type": "markdown",
   "id": "9b4edf51",
   "metadata": {},
   "source": [
    "****"
   ]
  },
  {
   "cell_type": "markdown",
   "id": "110816c7",
   "metadata": {},
   "source": [
    "# Question 6 (Data types)"
   ]
  },
  {
   "cell_type": "markdown",
   "id": "8940f7b1-2337-4ba7-b6bb-f152b2ea067c",
   "metadata": {},
   "source": [
    "What is the decimal value of the following binary number?\n",
    "```\n",
    "1010\n",
    "```\n",
    "\n",
    "A. ```12```\n",
    "\n",
    "B. ```8```\n",
    "\n",
    "C. ```4```\n",
    "\n",
    "D. ```10```"
   ]
  },
  {
   "cell_type": "markdown",
   "id": "66791312",
   "metadata": {},
   "source": [
    "# Solution 6"
   ]
  },
  {
   "cell_type": "code",
   "execution_count": 18,
   "id": "b169c6e9",
   "metadata": {},
   "outputs": [],
   "source": [
    "# 1010 --> 10 EN DECIMAL"
   ]
  },
  {
   "cell_type": "code",
   "execution_count": 19,
   "id": "e5ab7b89",
   "metadata": {},
   "outputs": [],
   "source": [
    "# Solución\n",
    "# D"
   ]
  },
  {
   "cell_type": "markdown",
   "id": "fa565dd8",
   "metadata": {},
   "source": [
    "****"
   ]
  },
  {
   "cell_type": "markdown",
   "id": "916b44a4",
   "metadata": {},
   "source": [
    "# Question 7 (Data types) "
   ]
  },
  {
   "cell_type": "markdown",
   "id": "438c6d86-3e2d-4d9a-825c-d8a65c5f8902",
   "metadata": {},
   "source": [
    "What is the expected output of the following code?\n",
    "```\n",
    "data = 'abbabadaadbbaccabc'\n",
    "print(data.count('ab', 1))\n",
    "```\n",
    "A. ```3```\n",
    "\n",
    "B. ```5```\n",
    "\n",
    "C. ```4```\n",
    "\n",
    "D. ```2```"
   ]
  },
  {
   "cell_type": "markdown",
   "id": "cbd37e8c",
   "metadata": {},
   "source": [
    "# Solution 7"
   ]
  },
  {
   "cell_type": "code",
   "execution_count": 21,
   "id": "b2ab0095",
   "metadata": {},
   "outputs": [
    {
     "name": "stdout",
     "output_type": "stream",
     "text": [
      "2\n"
     ]
    }
   ],
   "source": [
    "data = 'abbabadaadbbaccabc'\n",
    "print(data.count('ab', 1))      \n",
    "\n",
    "# 1 es start, con lo cual, no entra la primera 'a'"
   ]
  },
  {
   "cell_type": "code",
   "execution_count": 22,
   "id": "1e5a3191",
   "metadata": {},
   "outputs": [],
   "source": [
    "# Solución\n",
    "# D"
   ]
  },
  {
   "cell_type": "markdown",
   "id": "a5aebcfc",
   "metadata": {},
   "source": [
    "**motivo del resultado**"
   ]
  },
  {
   "cell_type": "code",
   "execution_count": 23,
   "id": "5f6b7277",
   "metadata": {},
   "outputs": [],
   "source": [
    "# data.count?"
   ]
  },
  {
   "cell_type": "code",
   "execution_count": 24,
   "id": "cd600db8",
   "metadata": {},
   "outputs": [
    {
     "name": "stdout",
     "output_type": "stream",
     "text": [
      "3\n"
     ]
    }
   ],
   "source": [
    "data = 'abbabadaadbbaccabc'\n",
    "print(data.count('ab'))"
   ]
  },
  {
   "cell_type": "code",
   "execution_count": 25,
   "id": "8102a5ea",
   "metadata": {},
   "outputs": [
    {
     "name": "stdout",
     "output_type": "stream",
     "text": [
      "0\n"
     ]
    }
   ],
   "source": [
    "data = 'abbabadaadbbaccabc'\n",
    "print(data.count('ab', 1, 2))    # string, start, end"
   ]
  },
  {
   "cell_type": "code",
   "execution_count": 26,
   "id": "673652a9",
   "metadata": {},
   "outputs": [
    {
     "name": "stdout",
     "output_type": "stream",
     "text": [
      "0\n"
     ]
    }
   ],
   "source": [
    "data = 'abbabadaadbbaccabc'\n",
    "print(data.count('ab', 1, 4))"
   ]
  },
  {
   "cell_type": "code",
   "execution_count": 27,
   "id": "89f546b7",
   "metadata": {},
   "outputs": [
    {
     "name": "stdout",
     "output_type": "stream",
     "text": [
      "1\n"
     ]
    }
   ],
   "source": [
    "data = 'abbabadaadbbaccabc'\n",
    "print(data.count('ab', 1, 5))"
   ]
  },
  {
   "cell_type": "markdown",
   "id": "93d2eb6f",
   "metadata": {},
   "source": [
    "****"
   ]
  },
  {
   "cell_type": "markdown",
   "id": "adbedc11",
   "metadata": {},
   "source": [
    "# Question 8  (Basics)"
   ]
  },
  {
   "cell_type": "markdown",
   "id": "ce306bca-385d-4c84-acc3-f537dfa0cce1",
   "metadata": {},
   "source": [
    "Which of the following variable names is illegal?\n",
    "\n",
    "A. TRUE\n",
    "\n",
    "B. tRUE\n",
    "\n",
    "C. true\n",
    "\n",
    "D. True"
   ]
  },
  {
   "cell_type": "markdown",
   "id": "a52798c7",
   "metadata": {},
   "source": [
    "# Solution 8 "
   ]
  },
  {
   "cell_type": "code",
   "execution_count": 29,
   "id": "90d2c3ff",
   "metadata": {},
   "outputs": [],
   "source": [
    "# True es palabra reservada"
   ]
  },
  {
   "cell_type": "code",
   "execution_count": 30,
   "id": "4166695d",
   "metadata": {},
   "outputs": [
    {
     "data": {
      "text/plain": [
       "True"
      ]
     },
     "execution_count": 30,
     "metadata": {},
     "output_type": "execute_result"
    }
   ],
   "source": [
    "a = True\n",
    "a"
   ]
  },
  {
   "cell_type": "code",
   "execution_count": 31,
   "id": "e26e3c04",
   "metadata": {},
   "outputs": [],
   "source": [
    "# Solución\n",
    "# D"
   ]
  },
  {
   "cell_type": "markdown",
   "id": "24d58aa6",
   "metadata": {},
   "source": [
    "****"
   ]
  },
  {
   "cell_type": "markdown",
   "id": "24dea987",
   "metadata": {},
   "source": [
    "# Question 9   (Error Handling)"
   ]
  },
  {
   "cell_type": "markdown",
   "id": "8fb7859c-f839-43c1-aae8-831dcd81c23d",
   "metadata": {},
   "source": [
    "What is the output of the following code?\n",
    "\n",
    "```\n",
    "try:\n",
    "    value = input(\"Enter a value: \")\n",
    "    print(value/value)\n",
    "except ValueError:\n",
    "    print(\"Bad input...\")\n",
    "except ZeroDivisionError:\n",
    "    print(\"Very bad input...\")\n",
    "except TypeError:\n",
    "    print(\"Very very bad input...\")\n",
    "except:\n",
    "    print(\"Booo!\")\n",
    "```\n",
    "\n",
    "A. ```Very bad input...```\n",
    "\n",
    "B. ```Booo!```\n",
    "\n",
    "C. ```Very very bad input...```\n",
    "\n",
    "D. ```Bad input...```"
   ]
  },
  {
   "cell_type": "markdown",
   "id": "e7b5c284",
   "metadata": {},
   "source": [
    "# Solution 9"
   ]
  },
  {
   "cell_type": "code",
   "execution_count": 33,
   "id": "f8ae4d03",
   "metadata": {},
   "outputs": [],
   "source": [
    "s1 = 'casa'\n",
    "s2 = 'casa'\n",
    "# s1/s2\n",
    "# TypeError: \n",
    "# unsupported operand type(s) for /: 'str' and 'str'"
   ]
  },
  {
   "cell_type": "code",
   "execution_count": 34,
   "id": "e160b76e",
   "metadata": {},
   "outputs": [
    {
     "name": "stdout",
     "output_type": "stream",
     "text": [
      "Enter a value: casa\n",
      "Very very bad input...\n"
     ]
    }
   ],
   "source": [
    "try:\n",
    "    value = input(\"Enter a value: \")\n",
    "    print(value/value)\n",
    "except ValueError:\n",
    "    print(\"Bad input...\")\n",
    "except ZeroDivisionError:\n",
    "    print(\"Very bad input...\")\n",
    "except TypeError:\n",
    "    print(\"Very very bad input...\")\n",
    "except:\n",
    "    print(\"Booo!\")\n",
    "    \n",
    "# TypeError.."
   ]
  },
  {
   "cell_type": "code",
   "execution_count": 35,
   "id": "04a47b50",
   "metadata": {},
   "outputs": [],
   "source": [
    "# Solución\n",
    "# C"
   ]
  },
  {
   "cell_type": "markdown",
   "id": "e5cea33b",
   "metadata": {},
   "source": [
    "****"
   ]
  },
  {
   "cell_type": "markdown",
   "id": "822187c3",
   "metadata": {},
   "source": [
    "# Question 10    (Control flow)"
   ]
  },
  {
   "cell_type": "markdown",
   "id": "2a3afb7b-4429-4cbb-bcb5-2c49f8376da7",
   "metadata": {},
   "source": [
    "How many stars will the following code print to the monitor?\n",
    "```\n",
    "i = 0\n",
    "while i < i + 2:\n",
    "    i += 1\n",
    "    print('*')\n",
    "else:\n",
    "    print('*')\n",
    "```\n",
    "A. two\n",
    "\n",
    "B. The snippet will enter an infinite loop\n",
    "\n",
    "C. zero\n",
    "\n",
    "D. one"
   ]
  },
  {
   "cell_type": "markdown",
   "id": "ccb25e6d",
   "metadata": {},
   "source": [
    "# Solution 10"
   ]
  },
  {
   "cell_type": "code",
   "execution_count": 37,
   "id": "bf3957e8",
   "metadata": {},
   "outputs": [
    {
     "data": {
      "text/plain": [
       "\"i = 0\\nwhile i < i + 2:\\n    i += 1\\n    print('*')\\nelse:\\n    print('*')\""
      ]
     },
     "execution_count": 37,
     "metadata": {},
     "output_type": "execute_result"
    }
   ],
   "source": [
    "\"\"\"i = 0\n",
    "while i < i + 2:\n",
    "    i += 1\n",
    "    print('*')\n",
    "else:\n",
    "    print('*')\"\"\""
   ]
  },
  {
   "cell_type": "code",
   "execution_count": 38,
   "id": "56b0cb76",
   "metadata": {},
   "outputs": [],
   "source": [
    "# Solución\n",
    "# B"
   ]
  },
  {
   "cell_type": "markdown",
   "id": "8efb033d",
   "metadata": {},
   "source": [
    "****"
   ]
  },
  {
   "cell_type": "markdown",
   "id": "3e9e3c38",
   "metadata": {},
   "source": [
    "# Question 11  (Functions)  "
   ]
  },
  {
   "cell_type": "markdown",
   "id": "a64322e4-eb85-4c0a-9956-b39e1a8d78e3",
   "metadata": {},
   "source": [
    "What is the expected output of the following code?\n",
    "```\n",
    "data = {}\n",
    " \n",
    "def func(d, key, value):\n",
    "    d[key] = value\n",
    " \n",
    "print(func(data, '1', 'Peter'))\n",
    "```\n",
    "\n",
    "A. ```Peter```\n",
    "\n",
    "B. ```1```\n",
    "\n",
    "C. The code is erroneous\n",
    "\n",
    "D. ```None```\n",
    "\n",
    "E. ```value```"
   ]
  },
  {
   "cell_type": "markdown",
   "id": "bf5df307",
   "metadata": {},
   "source": [
    "# Solution 11"
   ]
  },
  {
   "cell_type": "code",
   "execution_count": 40,
   "id": "ac104f0b",
   "metadata": {},
   "outputs": [
    {
     "name": "stdout",
     "output_type": "stream",
     "text": [
      "None\n"
     ]
    }
   ],
   "source": [
    "data = {}\n",
    " \n",
    "def func(d, key, value):\n",
    "    d[key] = value\n",
    "\n",
    "print(func(data, '1', 'Peter'))"
   ]
  },
  {
   "cell_type": "code",
   "execution_count": 41,
   "id": "e21f071f",
   "metadata": {},
   "outputs": [],
   "source": [
    "# Solución\n",
    "# D"
   ]
  },
  {
   "cell_type": "markdown",
   "id": "2be3e3e9",
   "metadata": {},
   "source": [
    "**solución al problema: retorno el diccionario**"
   ]
  },
  {
   "cell_type": "code",
   "execution_count": 42,
   "id": "c6f65db6",
   "metadata": {},
   "outputs": [
    {
     "name": "stdout",
     "output_type": "stream",
     "text": [
      "{'1': 'Peter'}\n"
     ]
    }
   ],
   "source": [
    "data = {}\n",
    " \n",
    "def func(d, key, value):\n",
    "    d[key] = value\n",
    "    return d\n",
    "    # retorno el diccionario, d\n",
    "    # que contiene:  \n",
    "    # {'1': 'Peter'}\n",
    "\n",
    "print(func(data, '1', 'Peter'))"
   ]
  },
  {
   "cell_type": "markdown",
   "id": "08decad0",
   "metadata": {},
   "source": [
    "****"
   ]
  },
  {
   "cell_type": "markdown",
   "id": "33c08eb7",
   "metadata": {},
   "source": [
    "# Question 12  (Functions)"
   ]
  },
  {
   "cell_type": "markdown",
   "id": "18dd8992-030b-4a69-a9a8-79d12ac9057f",
   "metadata": {},
   "source": [
    "What is the expected output of the following code?\n",
    "\n",
    "```\n",
    "num = 1\n",
    "  \n",
    "def func():\n",
    "    num = 3\n",
    "    print(num, end=' ')\n",
    " \n",
    "func()\n",
    " \n",
    "print(num)\n",
    "```\n",
    "\n",
    "A. ```1 1```\n",
    "\n",
    "B. The code is erroneous\n",
    "\n",
    "C. ```1 3```\n",
    "\n",
    "D. ```3 3```\n",
    "\n",
    "E. ```3 1```"
   ]
  },
  {
   "cell_type": "markdown",
   "id": "48f0c038",
   "metadata": {},
   "source": [
    "# Solution 12"
   ]
  },
  {
   "cell_type": "code",
   "execution_count": 44,
   "id": "70792feb",
   "metadata": {},
   "outputs": [
    {
     "name": "stdout",
     "output_type": "stream",
     "text": [
      "3 1\n"
     ]
    }
   ],
   "source": [
    "num = 1\n",
    " \n",
    "def func():\n",
    "    num = 3\n",
    "    print(num, end=' ') # 3\n",
    "    \n",
    "func()\n",
    " \n",
    "print(num) # 1 \n",
    "\n",
    "# porque num en la función no es global\n",
    "\n",
    "# 3 1"
   ]
  },
  {
   "cell_type": "code",
   "execution_count": 45,
   "id": "038ed126",
   "metadata": {},
   "outputs": [],
   "source": [
    "# Solución\n",
    "# E"
   ]
  },
  {
   "cell_type": "markdown",
   "id": "9499536d",
   "metadata": {},
   "source": [
    "****"
   ]
  },
  {
   "cell_type": "markdown",
   "id": "9012902e",
   "metadata": {},
   "source": [
    "# Question 13     "
   ]
  },
  {
   "cell_type": "markdown",
   "id": "35ec214b-086c-4a6c-8d26-8a69e6759caa",
   "metadata": {},
   "source": [
    "The ```+=``` operator, when applied to strings, performs:\n",
    "\n",
    "A. Subtraction\n",
    "\n",
    "B. Concatenation\n",
    "\n",
    "C. Multiplication"
   ]
  },
  {
   "cell_type": "markdown",
   "id": "33090470",
   "metadata": {},
   "source": [
    "# Solution 13"
   ]
  },
  {
   "cell_type": "code",
   "execution_count": 47,
   "id": "1a9b36e6",
   "metadata": {},
   "outputs": [
    {
     "name": "stdout",
     "output_type": "stream",
     "text": [
      "JoseManuel\n"
     ]
    }
   ],
   "source": [
    "s1 = 'Jose'\n",
    "s2 = 'Manuel'\n",
    "\n",
    "s1 += s2\n",
    "print(s1)"
   ]
  },
  {
   "cell_type": "code",
   "execution_count": 48,
   "id": "aab23c0f",
   "metadata": {},
   "outputs": [],
   "source": [
    "# Solución\n",
    "# B"
   ]
  },
  {
   "cell_type": "markdown",
   "id": "74bff6ba",
   "metadata": {},
   "source": [
    "****"
   ]
  },
  {
   "cell_type": "markdown",
   "id": "6bebbbb8",
   "metadata": {},
   "source": [
    "# Question 14   (Control Flow)  "
   ]
  },
  {
   "cell_type": "markdown",
   "id": "88b228ef-f48f-463b-b154-46af0c1ef0ee",
   "metadata": {},
   "source": [
    "How many stars (```*```) \n",
    "will the following code output to the screen?\n",
    "```\n",
    "n = 1\n",
    "if n == 1:\n",
    "    print(\"*\")\n",
    "if n == True:\n",
    "    print(\"**\")\n",
    "if n == False:\n",
    "    print(\"***\")\n",
    "```\n",
    "A. three\n",
    "\n",
    "B. six\n",
    "\n",
    "C. one\n",
    "\n",
    "D. two"
   ]
  },
  {
   "cell_type": "markdown",
   "id": "fad8536a",
   "metadata": {},
   "source": [
    "# Solution 14"
   ]
  },
  {
   "cell_type": "code",
   "execution_count": 50,
   "id": "07e04387",
   "metadata": {},
   "outputs": [
    {
     "name": "stdout",
     "output_type": "stream",
     "text": [
      "true\n"
     ]
    }
   ],
   "source": [
    "n=1\n",
    "if n==True:\n",
    "    print('true')"
   ]
  },
  {
   "cell_type": "code",
   "execution_count": 51,
   "id": "81329fc8",
   "metadata": {},
   "outputs": [
    {
     "name": "stdout",
     "output_type": "stream",
     "text": [
      "false\n"
     ]
    }
   ],
   "source": [
    "n=0\n",
    "if n==False:\n",
    "    print('false')"
   ]
  },
  {
   "cell_type": "code",
   "execution_count": 52,
   "id": "05bed89d",
   "metadata": {},
   "outputs": [
    {
     "name": "stdout",
     "output_type": "stream",
     "text": [
      "no ejecuta nada\n"
     ]
    }
   ],
   "source": [
    "n=2\n",
    "if n==True:\n",
    "    print('n es 2')\n",
    "else:\n",
    "    print('no ejecuta nada')"
   ]
  },
  {
   "cell_type": "code",
   "execution_count": 53,
   "id": "77f846b8",
   "metadata": {},
   "outputs": [],
   "source": [
    "# el propio ejercicio"
   ]
  },
  {
   "cell_type": "code",
   "execution_count": 54,
   "id": "ba06fa30",
   "metadata": {},
   "outputs": [
    {
     "name": "stdout",
     "output_type": "stream",
     "text": [
      "*\n",
      "**\n"
     ]
    }
   ],
   "source": [
    "n = 1\n",
    "if n == 1:\n",
    "    print(\"*\")\n",
    "if n == True:\n",
    "    print(\"**\")\n",
    "if n == False:\n",
    "    print(\"***\")"
   ]
  },
  {
   "cell_type": "code",
   "execution_count": 55,
   "id": "0cc791b5",
   "metadata": {},
   "outputs": [],
   "source": [
    "# Solución\n",
    "# A"
   ]
  },
  {
   "cell_type": "markdown",
   "id": "2a66728a",
   "metadata": {},
   "source": [
    "****"
   ]
  },
  {
   "cell_type": "markdown",
   "id": "40f24429",
   "metadata": {},
   "source": [
    "# Question 15    (Data Aggregates)   "
   ]
  },
  {
   "cell_type": "markdown",
   "id": "3b1918dd-d24b-4681-bd50-009ad6b03fa0",
   "metadata": {},
   "source": [
    "Take a look at the snippet\n",
    "and choose one of the following statements which is true:\n",
    "\n",
    "```\n",
    "nums = []\n",
    "vals = nums[:]\n",
    "vals.append(1)\n",
    "```\n",
    "A. nums is longer than vals\n",
    "\n",
    "B. vals is longer than nums\n",
    "\n",
    "C. nums and vals are of the same length"
   ]
  },
  {
   "cell_type": "markdown",
   "id": "fdea8d57",
   "metadata": {},
   "source": [
    "# Solution 15"
   ]
  },
  {
   "cell_type": "code",
   "execution_count": 3,
   "id": "74f58b8b",
   "metadata": {},
   "outputs": [
    {
     "name": "stdout",
     "output_type": "stream",
     "text": [
      "nums:  [] vals:  [1]\n"
     ]
    }
   ],
   "source": [
    "nums = []\n",
    "vals = nums[:]\n",
    "vals.append(1)\n",
    "\n",
    "print('nums: ', nums, 'vals: ', vals)"
   ]
  },
  {
   "cell_type": "code",
   "execution_count": 58,
   "id": "d48655d9",
   "metadata": {},
   "outputs": [],
   "source": [
    "# Solución\n",
    "# B"
   ]
  },
  {
   "cell_type": "markdown",
   "id": "41537e29",
   "metadata": {},
   "source": [
    "**ejemplos similares**"
   ]
  },
  {
   "cell_type": "code",
   "execution_count": 59,
   "id": "32fafc1a",
   "metadata": {},
   "outputs": [],
   "source": [
    "# ejemplo 1: quitamos los \":\""
   ]
  },
  {
   "cell_type": "code",
   "execution_count": 60,
   "id": "1a98e490",
   "metadata": {},
   "outputs": [
    {
     "name": "stdout",
     "output_type": "stream",
     "text": [
      "nums:  [1] vals:  [1]\n"
     ]
    }
   ],
   "source": [
    "nums = []\n",
    "vals = nums\n",
    "vals.append(1)\n",
    "\n",
    "print('nums: ', nums, 'vals: ', vals)"
   ]
  },
  {
   "cell_type": "code",
   "execution_count": 61,
   "id": "3048a070",
   "metadata": {},
   "outputs": [],
   "source": [
    "# ejemplo 2: algo similar con mas elementos"
   ]
  },
  {
   "cell_type": "code",
   "execution_count": 62,
   "id": "1cdc7d3f",
   "metadata": {},
   "outputs": [
    {
     "name": "stdout",
     "output_type": "stream",
     "text": [
      "numeros inicial:  [10, 20, 30]\n",
      "valores inicial:  [10, 20, 30]\n",
      "\n",
      "\n",
      "numeros final:  [10, 20, 30]\n",
      "valores final:  [10, 20, 30, 40]\n"
     ]
    }
   ],
   "source": [
    "numeros = [10,20,30]\n",
    "valores = numeros[:]\n",
    "print('numeros inicial: ', numeros)\n",
    "print('valores inicial: ', valores)\n",
    "print(\"\\n\")\n",
    "valores.append(40)\n",
    "print('numeros final: ', numeros)\n",
    "print('valores final: ', valores)"
   ]
  },
  {
   "cell_type": "markdown",
   "id": "4fee1fca",
   "metadata": {},
   "source": [
    "****"
   ]
  },
  {
   "cell_type": "markdown",
   "id": "707edf97",
   "metadata": {},
   "source": [
    "# Question 16 (Functions)"
   ]
  },
  {
   "cell_type": "markdown",
   "id": "7f941381-104b-4a08-9df4-8ee2a39e239c",
   "metadata": {},
   "source": [
    "Which of the following function headers is correct?\n",
    "\n",
    "A. ```def func(a=1, b):```\n",
    "\n",
    "B. ```def func(a=1, b, c=2):```\n",
    "\n",
    "C. ```def func(a=1, b=1, c=2):```\n",
    "\n",
    "D. ```def func(a=1, b=1, c=2, d):```"
   ]
  },
  {
   "cell_type": "markdown",
   "id": "2d184945",
   "metadata": {},
   "source": [
    "# Solution 16"
   ]
  },
  {
   "cell_type": "code",
   "execution_count": 4,
   "id": "385700bd-3efa-433a-8e40-151761880f49",
   "metadata": {},
   "outputs": [
    {
     "ename": "SyntaxError",
     "evalue": "non-default argument follows default argument (1530458022.py, line 1)",
     "output_type": "error",
     "traceback": [
      "\u001b[0;36m  Cell \u001b[0;32mIn[4], line 1\u001b[0;36m\u001b[0m\n\u001b[0;31m    def func(a=1, b):\u001b[0m\n\u001b[0m             ^\u001b[0m\n\u001b[0;31mSyntaxError\u001b[0m\u001b[0;31m:\u001b[0m non-default argument follows default argument\n"
     ]
    }
   ],
   "source": [
    "def func(a=1, b):\n",
    "    return a + b\n",
    "func(2, 6)\n"
   ]
  },
  {
   "cell_type": "code",
   "execution_count": 6,
   "id": "6cc4e362-7fbc-4077-af19-5d239e21d85c",
   "metadata": {},
   "outputs": [
    {
     "data": {
      "text/plain": [
       "7"
      ]
     },
     "execution_count": 6,
     "metadata": {},
     "output_type": "execute_result"
    }
   ],
   "source": [
    "def func(a, b=1):\n",
    "    return a + b\n",
    "func(2, 5)\n"
   ]
  },
  {
   "cell_type": "code",
   "execution_count": 7,
   "id": "29ea75a0-7cfd-4e37-95a5-9bb51c165c8d",
   "metadata": {},
   "outputs": [
    {
     "data": {
      "text/plain": [
       "11"
      ]
     },
     "execution_count": 7,
     "metadata": {},
     "output_type": "execute_result"
    }
   ],
   "source": [
    "def func(a, b, c, d=1):\n",
    "    return a + b+ c+d\n",
    "func(2, 5, 3)\n"
   ]
  },
  {
   "cell_type": "code",
   "execution_count": 64,
   "id": "779d48f2",
   "metadata": {},
   "outputs": [
    {
     "data": {
      "text/plain": [
       "4"
      ]
     },
     "execution_count": 64,
     "metadata": {},
     "output_type": "execute_result"
    }
   ],
   "source": [
    "def func(a=1, b=1, c=2):\n",
    "    return a+b+c\n",
    "func()\n",
    "\n",
    "\n",
    "# se ha hecho el ejemplo"
   ]
  },
  {
   "cell_type": "code",
   "execution_count": 65,
   "id": "b2e82e77",
   "metadata": {},
   "outputs": [],
   "source": [
    "# Solución\n",
    "# C"
   ]
  },
  {
   "cell_type": "markdown",
   "id": "9f3aa8ed",
   "metadata": {},
   "source": [
    "****"
   ]
  },
  {
   "cell_type": "markdown",
   "id": "83f1ab10",
   "metadata": {},
   "source": [
    "# Question 17  (Basics)   "
   ]
  },
  {
   "cell_type": "markdown",
   "id": "99718878-a5c6-4729-b658-4e4519d46456",
   "metadata": {},
   "source": [
    "Which of the following variable names \n",
    "are illegal and will cause the SyntaxError exception?\n",
    "\n",
    "(Select two answers)\n",
    "\n",
    "A. in\n",
    "\n",
    "B. print\n",
    "\n",
    "C. In\n",
    "\n",
    "D. for"
   ]
  },
  {
   "cell_type": "markdown",
   "id": "7cfac698",
   "metadata": {},
   "source": [
    "# Solution 17"
   ]
  },
  {
   "cell_type": "code",
   "execution_count": 67,
   "id": "f440d25d",
   "metadata": {},
   "outputs": [],
   "source": [
    "# v1 = in\n",
    "# v1\n",
    "\n",
    "# SyntaxError: invalid syntax"
   ]
  },
  {
   "cell_type": "code",
   "execution_count": 68,
   "id": "ae8ae2e6",
   "metadata": {},
   "outputs": [
    {
     "data": {
      "text/plain": [
       "<function print>"
      ]
     },
     "execution_count": 68,
     "metadata": {},
     "output_type": "execute_result"
    }
   ],
   "source": [
    "v2 = print\n",
    "v2"
   ]
  },
  {
   "cell_type": "code",
   "execution_count": 69,
   "id": "8857c607",
   "metadata": {},
   "outputs": [],
   "source": [
    "# v3 = for\n",
    "# v3\n",
    "\n",
    "# SyntaxError: invalid syntax"
   ]
  },
  {
   "cell_type": "code",
   "execution_count": 70,
   "id": "ad1e0d62",
   "metadata": {},
   "outputs": [],
   "source": [
    "# Solución\n",
    "# A y D"
   ]
  },
  {
   "cell_type": "markdown",
   "id": "3e61b95c",
   "metadata": {},
   "source": [
    "**nota**"
   ]
  },
  {
   "cell_type": "markdown",
   "id": "6a41dc63",
   "metadata": {},
   "source": [
    "la opción b debería ser también no posible.\n",
    "\n",
    "pero reconoce que print es, en su uso, print()\n",
    "\n",
    "con los paréntesis incluído."
   ]
  },
  {
   "cell_type": "markdown",
   "id": "e3d8ca95",
   "metadata": {},
   "source": [
    "****"
   ]
  },
  {
   "cell_type": "markdown",
   "id": "68ca6364",
   "metadata": {},
   "source": [
    "# Question 18   (Control Flow)   "
   ]
  },
  {
   "cell_type": "markdown",
   "id": "cdab496c-a0d3-4a86-b2d2-56a674052c3a",
   "metadata": {},
   "source": [
    "Consider the following code.\n",
    "```\n",
    "for n in range(1, 6, 1):\n",
    "    print(??? * 5)\n",
    "```\n",
    "What would you insert instead of ???\n",
    "so that the program prints the following pattern to the monitor?\n",
    "```\n",
    "11111\n",
    "22222\n",
    "33333\n",
    "44444\n",
    "55555\n",
    "```\n",
    "\n",
    "A. ```str(n)```\n",
    "\n",
    "B. ```-1```\n",
    "\n",
    "C. ```1```\n",
    "\n",
    "D. ```-2```\n",
    "\n",
    "E. ```n```"
   ]
  },
  {
   "cell_type": "markdown",
   "id": "f6de23c2",
   "metadata": {},
   "source": [
    "# Solution 18"
   ]
  },
  {
   "cell_type": "code",
   "execution_count": 72,
   "id": "7c4b92d0",
   "metadata": {},
   "outputs": [
    {
     "name": "stdout",
     "output_type": "stream",
     "text": [
      "11111\n",
      "22222\n",
      "33333\n",
      "44444\n",
      "55555\n"
     ]
    }
   ],
   "source": [
    "for n in range(1, 6, 1):\n",
    "    print(str(n) * 5)"
   ]
  },
  {
   "cell_type": "code",
   "execution_count": 73,
   "id": "3f0beb8a",
   "metadata": {},
   "outputs": [],
   "source": [
    "# Solución\n",
    "# A"
   ]
  },
  {
   "cell_type": "markdown",
   "id": "04d17431",
   "metadata": {},
   "source": [
    "**NOTA: EJEMPLO SIMILAR, PERO NO EL MISMO**"
   ]
  },
  {
   "cell_type": "code",
   "execution_count": 74,
   "id": "73cfa2c2",
   "metadata": {},
   "outputs": [
    {
     "name": "stdout",
     "output_type": "stream",
     "text": [
      "5\n",
      "10\n",
      "15\n",
      "20\n",
      "25\n"
     ]
    }
   ],
   "source": [
    "for n in range(1, 6, 1):\n",
    "    print(n * 5)"
   ]
  },
  {
   "cell_type": "markdown",
   "id": "a59fd575",
   "metadata": {},
   "source": [
    "****"
   ]
  },
  {
   "cell_type": "markdown",
   "id": "7900e7db",
   "metadata": {},
   "source": [
    "# Question 19    (Basics)"
   ]
  },
  {
   "cell_type": "markdown",
   "id": "1f114b90-dfed-4aad-a1f6-a2289802f43a",
   "metadata": {},
   "source": [
    "What is the expected output of the following code?\n",
    "```\n",
    "x = '\\\\\\\\'\n",
    "print(len(x))\n",
    "```\n",
    "A. ```2```\n",
    "\n",
    "B. ```1```\n",
    "\n",
    "C. ```4```\n",
    "\n",
    "D. The code is erroneous"
   ]
  },
  {
   "cell_type": "markdown",
   "id": "2ea540ea",
   "metadata": {},
   "source": [
    "# Solution 19"
   ]
  },
  {
   "cell_type": "code",
   "execution_count": 76,
   "id": "d8a5f57f",
   "metadata": {},
   "outputs": [
    {
     "name": "stdout",
     "output_type": "stream",
     "text": [
      "2\n"
     ]
    }
   ],
   "source": [
    "x = '\\\\\\\\'\n",
    "print(len(x))"
   ]
  },
  {
   "cell_type": "code",
   "execution_count": 77,
   "id": "8a04e483",
   "metadata": {},
   "outputs": [],
   "source": [
    "# Solución\n",
    "# A"
   ]
  },
  {
   "cell_type": "markdown",
   "id": "f64c12d2",
   "metadata": {},
   "source": [
    "****"
   ]
  },
  {
   "cell_type": "markdown",
   "id": "423d9c69",
   "metadata": {},
   "source": [
    "# Question 20  (Basics)"
   ]
  },
  {
   "cell_type": "markdown",
   "id": "437176cb-4a8b-41be-8400-a96342cc1b13",
   "metadata": {},
   "source": [
    "UTF-8 is...\n",
    "\n",
    "A. an encoding form of the Unicode Standard\n",
    "\n",
    "B. a Python version name\n",
    "\n",
    "C. the 9th version of the UTF-Standard\n",
    "\n",
    "D. a synonym for \"byte\""
   ]
  },
  {
   "cell_type": "markdown",
   "id": "05d8aa34",
   "metadata": {},
   "source": [
    "# Solution 20"
   ]
  },
  {
   "cell_type": "code",
   "execution_count": 79,
   "id": "1395291d",
   "metadata": {},
   "outputs": [],
   "source": [
    "# Solución\n",
    "# A"
   ]
  },
  {
   "cell_type": "markdown",
   "id": "94724fac",
   "metadata": {},
   "source": [
    "****"
   ]
  },
  {
   "cell_type": "markdown",
   "id": "acf12e8c",
   "metadata": {},
   "source": [
    "# Question 21  (Data Types) "
   ]
  },
  {
   "cell_type": "markdown",
   "id": "482197d4-9029-47b6-98c4-72857d0d4bd4",
   "metadata": {},
   "source": [
    "What is the expected output of the following code?\n",
    "```\n",
    "print('Peter' 'Wellert')\n",
    "```\n",
    "\n",
    "A. ```Wellert```\n",
    "\n",
    "B. The code is erroneous\n",
    "\n",
    "C. ```Peter```\n",
    "\n",
    "D. ```PeterWellert```"
   ]
  },
  {
   "cell_type": "markdown",
   "id": "d2979c06",
   "metadata": {},
   "source": [
    "# Solution 21"
   ]
  },
  {
   "cell_type": "code",
   "execution_count": 81,
   "id": "8940526f",
   "metadata": {},
   "outputs": [
    {
     "name": "stdout",
     "output_type": "stream",
     "text": [
      "PeterWellert\n"
     ]
    }
   ],
   "source": [
    "print('Peter' 'Wellert')"
   ]
  },
  {
   "cell_type": "code",
   "execution_count": 82,
   "id": "c69a268c",
   "metadata": {},
   "outputs": [],
   "source": [
    "# Solución\n",
    "# D"
   ]
  },
  {
   "cell_type": "markdown",
   "id": "d703bb1c",
   "metadata": {},
   "source": [
    "**ejercicios parecidos**"
   ]
  },
  {
   "cell_type": "code",
   "execution_count": 83,
   "id": "da234622",
   "metadata": {},
   "outputs": [
    {
     "name": "stdout",
     "output_type": "stream",
     "text": [
      "Peter Wellert\n"
     ]
    }
   ],
   "source": [
    "print('Peter','Wellert')"
   ]
  },
  {
   "cell_type": "code",
   "execution_count": 84,
   "id": "dfb2b8e6",
   "metadata": {},
   "outputs": [
    {
     "name": "stdout",
     "output_type": "stream",
     "text": [
      "Peter Wellert\n"
     ]
    }
   ],
   "source": [
    "print('Peter', 'Wellert')"
   ]
  },
  {
   "cell_type": "markdown",
   "id": "c4b8d574",
   "metadata": {},
   "source": [
    "****"
   ]
  },
  {
   "cell_type": "markdown",
   "id": "4375e759",
   "metadata": {},
   "source": [
    "# Question 22    (Operators)"
   ]
  },
  {
   "cell_type": "markdown",
   "id": "9dbbd472-9156-409f-9471-94c466fb5942",
   "metadata": {},
   "source": [
    "Which of the following statements is false?\n",
    "\n",
    "A. Multiplication precedes addition\n",
    "\n",
    "B. The ** operator has right-to-left associativity\n",
    "\n",
    "C. The right argument of the % operator can not be zero\n",
    "\n",
    "D. The result of the / operator is always an integer value"
   ]
  },
  {
   "cell_type": "markdown",
   "id": "ff249567",
   "metadata": {},
   "source": [
    "# Solution 22"
   ]
  },
  {
   "cell_type": "code",
   "execution_count": 86,
   "id": "6f0caf42",
   "metadata": {},
   "outputs": [
    {
     "data": {
      "text/plain": [
       "2.5"
      ]
     },
     "execution_count": 86,
     "metadata": {},
     "output_type": "execute_result"
    }
   ],
   "source": [
    "5/2"
   ]
  },
  {
   "cell_type": "code",
   "execution_count": 87,
   "id": "2ac496ad",
   "metadata": {},
   "outputs": [],
   "source": [
    "# Solución\n",
    "# D"
   ]
  },
  {
   "cell_type": "markdown",
   "id": "e994dbfd",
   "metadata": {},
   "source": [
    "****"
   ]
  },
  {
   "cell_type": "markdown",
   "id": "798b3726",
   "metadata": {},
   "source": [
    "# Question 23  (Data Types)   "
   ]
  },
  {
   "cell_type": "markdown",
   "id": "56c29691-0a1e-4a02-a1e5-93fc21899ed6",
   "metadata": {},
   "source": [
    "What is the expected output of the following code?\n",
    "```\n",
    "print(chr(ord('z') - 2))\n",
    "```\n",
    "\n",
    "A. ```z```\n",
    "\n",
    "B. ```x```\n",
    "\n",
    "C. ```y```\n",
    "\n",
    "D. ```a```"
   ]
  },
  {
   "cell_type": "markdown",
   "id": "6ad5d7a2",
   "metadata": {},
   "source": [
    "# Solution 23"
   ]
  },
  {
   "cell_type": "code",
   "execution_count": 89,
   "id": "7476a918",
   "metadata": {},
   "outputs": [
    {
     "name": "stdout",
     "output_type": "stream",
     "text": [
      "x\n"
     ]
    }
   ],
   "source": [
    "print(chr(ord('z') - 2))  # x <== y <== z"
   ]
  },
  {
   "cell_type": "code",
   "execution_count": 2,
   "id": "05a30796-88c5-4104-bf7b-199265cac3a8",
   "metadata": {},
   "outputs": [
    {
     "data": {
      "text/plain": [
       "122"
      ]
     },
     "execution_count": 2,
     "metadata": {},
     "output_type": "execute_result"
    }
   ],
   "source": [
    "ord('z')"
   ]
  },
  {
   "cell_type": "code",
   "execution_count": 3,
   "id": "642b7985-9756-4ed9-9584-ca094bf165c5",
   "metadata": {},
   "outputs": [
    {
     "data": {
      "text/plain": [
       "'x'"
      ]
     },
     "execution_count": 3,
     "metadata": {},
     "output_type": "execute_result"
    }
   ],
   "source": [
    "chr(120)"
   ]
  },
  {
   "cell_type": "code",
   "execution_count": 90,
   "id": "3320ad76",
   "metadata": {},
   "outputs": [],
   "source": [
    "# Solución\n",
    "# B"
   ]
  },
  {
   "cell_type": "markdown",
   "id": "78010548",
   "metadata": {},
   "source": [
    "****"
   ]
  },
  {
   "cell_type": "markdown",
   "id": "4fc15578",
   "metadata": {},
   "source": [
    "# Question 24  (Basics)"
   ]
  },
  {
   "cell_type": "markdown",
   "id": "e35a4b2e-4841-4a38-9a3c-6918a1373c77",
   "metadata": {},
   "source": [
    "What is the expected output of the following code?\n",
    "\n",
    "```\n",
    "x = \"\"\"\n",
    "\"\"\"\n",
    "print(len(x))\n",
    "```\n",
    "A. ```0```\n",
    "\n",
    "B. ```1```\n",
    "\n",
    "C. ```2```\n",
    "\n",
    "D. The code is erroneous"
   ]
  },
  {
   "cell_type": "markdown",
   "id": "bdcc68d7",
   "metadata": {},
   "source": [
    "# Solution 24"
   ]
  },
  {
   "cell_type": "code",
   "execution_count": 92,
   "id": "cf3f4800",
   "metadata": {},
   "outputs": [
    {
     "name": "stdout",
     "output_type": "stream",
     "text": [
      "1\n"
     ]
    }
   ],
   "source": [
    "x = \"\"\"\n",
    "\"\"\"\n",
    "print(len(x))   # 1 (salto de línea)"
   ]
  },
  {
   "cell_type": "code",
   "execution_count": 93,
   "id": "35c0170d",
   "metadata": {},
   "outputs": [],
   "source": [
    "# Solución\n",
    "# B"
   ]
  },
  {
   "cell_type": "markdown",
   "id": "5a0e9ddc",
   "metadata": {},
   "source": [
    "****"
   ]
  },
  {
   "cell_type": "markdown",
   "id": "674e8efb",
   "metadata": {},
   "source": [
    "# Question 25  (Operators)"
   ]
  },
  {
   "cell_type": "markdown",
   "id": "a43b8ec6-8258-4f73-abcb-14a69d62be28",
   "metadata": {},
   "source": [
    "What is the output of the following code?\n",
    "```\n",
    "a = 10\n",
    "b = 20\n",
    "c = a > b\n",
    "print(not(c))\n",
    "```\n",
    "\n",
    "A. The program will cause an error\n",
    "\n",
    "B. ```True```\n",
    "\n",
    "C. ```False```\n",
    "\n",
    "D. ```None```"
   ]
  },
  {
   "cell_type": "markdown",
   "id": "c59a368b",
   "metadata": {},
   "source": [
    "# Solution 25"
   ]
  },
  {
   "cell_type": "code",
   "execution_count": 95,
   "id": "4b8f20bb",
   "metadata": {},
   "outputs": [
    {
     "name": "stdout",
     "output_type": "stream",
     "text": [
      "True\n"
     ]
    }
   ],
   "source": [
    "a = 10\n",
    "b = 20\n",
    "c = a > b       # c = 10 > 20 => c = False\n",
    "print(not(c))   # not(False) => True"
   ]
  },
  {
   "cell_type": "code",
   "execution_count": 96,
   "id": "de36c152",
   "metadata": {},
   "outputs": [],
   "source": [
    "# Solución\n",
    "# B"
   ]
  },
  {
   "cell_type": "markdown",
   "id": "7c046608",
   "metadata": {},
   "source": [
    "****"
   ]
  },
  {
   "cell_type": "markdown",
   "id": "3993ab84",
   "metadata": {},
   "source": [
    "# Question 26 (Operators)"
   ]
  },
  {
   "cell_type": "markdown",
   "id": "cac42322-9f51-4bcb-a21d-869179a0b98e",
   "metadata": {},
   "source": [
    "What is the expected output of the following code?\n",
    "\n",
    "```\n",
    "x = 1 + 1 // 2 + 1 / 2 + 2\n",
    "print(x)\n",
    "```\n",
    "\n",
    "A. ```4```\n",
    "\n",
    "B. ```3.5```\n",
    "\n",
    "C. ```3```\n",
    "\n",
    "D. ```4.0```"
   ]
  },
  {
   "cell_type": "markdown",
   "id": "5389760c",
   "metadata": {},
   "source": [
    "# Solution 26"
   ]
  },
  {
   "cell_type": "code",
   "execution_count": 98,
   "id": "1a253809",
   "metadata": {},
   "outputs": [
    {
     "name": "stdout",
     "output_type": "stream",
     "text": [
      "3.5\n"
     ]
    }
   ],
   "source": [
    "x = 1 + 1 // 2 + 1 / 2 + 2\n",
    "\n",
    "# x = 1 + (1 // 2) + (1 / 2) + 2\n",
    "# x = 1 +    0     +   0.5   + 2\n",
    "# x = \n",
    "print(x)   # 3.5"
   ]
  },
  {
   "cell_type": "code",
   "execution_count": 99,
   "id": "64ce2e26",
   "metadata": {},
   "outputs": [],
   "source": [
    "# Solución\n",
    "# B"
   ]
  },
  {
   "cell_type": "markdown",
   "id": "d2d00f37",
   "metadata": {},
   "source": [
    "****"
   ]
  },
  {
   "cell_type": "markdown",
   "id": "16dcbca4",
   "metadata": {},
   "source": [
    "# Question 27  (Control Flow)"
   ]
  },
  {
   "cell_type": "markdown",
   "id": "3c1aad68-3ad9-4e59-922a-7b0cb3fa9cb9",
   "metadata": {},
   "source": [
    "How many stars will the following code send to the monitor?\n",
    "\n",
    "```\n",
    "x = 0\n",
    "while x < 6:\n",
    "    x += 1\n",
    "    if x % 2 == 0:\n",
    "        continue\n",
    "    print('*')\n",
    "```  \n",
    "    \n",
    "A. three\n",
    "\n",
    "B. two\n",
    "\n",
    "C. zero\n",
    "\n",
    "D. one"
   ]
  },
  {
   "cell_type": "markdown",
   "id": "1a3795b0",
   "metadata": {},
   "source": [
    "# Solution 27"
   ]
  },
  {
   "cell_type": "code",
   "execution_count": 101,
   "id": "860ec689",
   "metadata": {},
   "outputs": [
    {
     "name": "stdout",
     "output_type": "stream",
     "text": [
      "*\n",
      "*\n",
      "*\n"
     ]
    }
   ],
   "source": [
    "x = 0\n",
    "while x < 6:        # 0, 1, 2, 3, 4, 5\n",
    "    x += 1          # x = x + 1\n",
    "    if x % 2 == 0:  # 0, 2, 4\n",
    "        continue    # no hace nada\n",
    "    print('*')      # 1,3,5  --> 3 *"
   ]
  },
  {
   "cell_type": "code",
   "execution_count": 102,
   "id": "d3edaa4c",
   "metadata": {},
   "outputs": [],
   "source": [
    "# Solución\n",
    "# A"
   ]
  },
  {
   "cell_type": "markdown",
   "id": "4f9e7fc7",
   "metadata": {},
   "source": [
    "****"
   ]
  },
  {
   "cell_type": "markdown",
   "id": "6f8a5fcc",
   "metadata": {},
   "source": [
    "# Question 28  (Operators)"
   ]
  },
  {
   "cell_type": "markdown",
   "id": "1631c6b4-8156-4330-beb3-394d96266cf1",
   "metadata": {},
   "source": [
    "What is the expected output of the following code?\n",
    "```\n",
    "print(1 / 1)\n",
    "```\n",
    "A. ```1.0```\n",
    "\n",
    "B. ```1```\n",
    "\n",
    "C. This can not be predicted\n",
    "\n",
    "D. This can not be evaluated"
   ]
  },
  {
   "cell_type": "markdown",
   "id": "4fb39bbd",
   "metadata": {},
   "source": [
    "# Solution 28"
   ]
  },
  {
   "cell_type": "code",
   "execution_count": 104,
   "id": "ebbbdbe4",
   "metadata": {},
   "outputs": [
    {
     "name": "stdout",
     "output_type": "stream",
     "text": [
      "1.0\n"
     ]
    }
   ],
   "source": [
    "print(1 / 1)"
   ]
  },
  {
   "cell_type": "code",
   "execution_count": 105,
   "id": "f7e00cf6",
   "metadata": {},
   "outputs": [],
   "source": [
    "# Solución\n",
    "# A"
   ]
  },
  {
   "cell_type": "markdown",
   "id": "3d1efecb",
   "metadata": {},
   "source": [
    "****"
   ]
  },
  {
   "cell_type": "markdown",
   "id": "da7951e5",
   "metadata": {},
   "source": [
    "# Question 29 (Functions)"
   ]
  },
  {
   "cell_type": "markdown",
   "id": "e3df72fe-23f7-4bde-9b3d-fb8576f63d9a",
   "metadata": {},
   "source": [
    "Which of the following function calls can be used to invoke\n",
    "\n",
    "the below function definition?\n",
    "choose three\n",
    "```\n",
    "def test(a, b, c, d):\n",
    "```\n",
    "A. ```test(a=1, 2, c=3, 4)```\n",
    "\n",
    "B. ```test(1,2,3,4)```\n",
    "\n",
    "C. ```test(a=1, 2,3,4)```\n",
    "\n",
    "D. ```test(a=1, b=2, c=3, 4)```\n",
    "\n",
    "E. ```test(a=1, b=2, c=3, d=4)```\n",
    "\n",
    "F. ```test(1, 2, 3, d=4)```"
   ]
  },
  {
   "cell_type": "markdown",
   "id": "f52e3ac6",
   "metadata": {},
   "source": [
    "# Solution 29"
   ]
  },
  {
   "cell_type": "code",
   "execution_count": 107,
   "id": "75ecd185",
   "metadata": {},
   "outputs": [],
   "source": [
    "def test(a, b, c, d):\n",
    "    return a+b+c+d"
   ]
  },
  {
   "cell_type": "code",
   "execution_count": 108,
   "id": "3ffad836",
   "metadata": {},
   "outputs": [],
   "source": [
    "# A\n",
    "# test(a=1, 2, c=3, 4)\n",
    "\n",
    "# SyntaxError: positional argument follows keyword argument"
   ]
  },
  {
   "cell_type": "code",
   "execution_count": 109,
   "id": "893d3423",
   "metadata": {},
   "outputs": [
    {
     "data": {
      "text/plain": [
       "10"
      ]
     },
     "execution_count": 109,
     "metadata": {},
     "output_type": "execute_result"
    }
   ],
   "source": [
    "# B\n",
    "test(1,2,3,4)"
   ]
  },
  {
   "cell_type": "code",
   "execution_count": 8,
   "id": "49af21bb",
   "metadata": {},
   "outputs": [],
   "source": [
    "# C\n",
    "# test(a=1,2,3,4)\n",
    "\n",
    "# SyntaxError: positional argument follows keyword argument"
   ]
  },
  {
   "cell_type": "code",
   "execution_count": 111,
   "id": "e9e3f093",
   "metadata": {},
   "outputs": [],
   "source": [
    "# D\n",
    "# test(a=1, b=2, c=3, 4)\n",
    "\n",
    "# SyntaxError: positional argument follows keyword argument"
   ]
  },
  {
   "cell_type": "code",
   "execution_count": 112,
   "id": "99fbcf42",
   "metadata": {},
   "outputs": [
    {
     "data": {
      "text/plain": [
       "10"
      ]
     },
     "execution_count": 112,
     "metadata": {},
     "output_type": "execute_result"
    }
   ],
   "source": [
    "# E\n",
    "test(a=1, b=2, c=3, d=4)"
   ]
  },
  {
   "cell_type": "code",
   "execution_count": 113,
   "id": "d8f4ef1f",
   "metadata": {},
   "outputs": [
    {
     "data": {
      "text/plain": [
       "10"
      ]
     },
     "execution_count": 113,
     "metadata": {},
     "output_type": "execute_result"
    }
   ],
   "source": [
    "# F\n",
    "test(1, 2, 3, d=4)"
   ]
  },
  {
   "cell_type": "code",
   "execution_count": 114,
   "id": "3cbb9e51",
   "metadata": {},
   "outputs": [],
   "source": [
    "# Solución\n",
    "# B, E y F"
   ]
  },
  {
   "cell_type": "markdown",
   "id": "4fc42c2d",
   "metadata": {},
   "source": [
    "**otros ejemplos más**\n",
    "\n",
    "vemos que cuando uno indica la variable, de ahi a la derecha, no reconoce si no lo indicas"
   ]
  },
  {
   "cell_type": "code",
   "execution_count": 115,
   "id": "cc9b3967",
   "metadata": {},
   "outputs": [],
   "source": [
    "# SyntaxError: positional argument follows keyword argument\n",
    "\n",
    "# test(1, 2, c=3, d)"
   ]
  },
  {
   "cell_type": "code",
   "execution_count": 116,
   "id": "81fa2821",
   "metadata": {},
   "outputs": [
    {
     "data": {
      "text/plain": [
       "10"
      ]
     },
     "execution_count": 116,
     "metadata": {},
     "output_type": "execute_result"
    }
   ],
   "source": [
    "# este si que funciona\n",
    "\n",
    "test(1, 2, c=3, d=4)"
   ]
  },
  {
   "cell_type": "markdown",
   "id": "b829787b",
   "metadata": {},
   "source": [
    "****"
   ]
  },
  {
   "cell_type": "markdown",
   "id": "556e29c4",
   "metadata": {},
   "source": [
    "# Question 30 (Control Flow)"
   ]
  },
  {
   "cell_type": "markdown",
   "id": "e5196853-d0e7-4f7d-9fd5-79c4de721b32",
   "metadata": {},
   "source": [
    "How many stars will the following snippet print to the monitor?\n",
    "\n",
    "```\n",
    "i = 0\n",
    "while i <= 5:\n",
    "    i += 1\n",
    "    if i % 2 == 0:\n",
    "        break\n",
    "    print('*')\n",
    "```   \n",
    "A. three\n",
    "\n",
    "B. two\n",
    "\n",
    "C. one\n",
    "\n",
    "D. zero"
   ]
  },
  {
   "cell_type": "markdown",
   "id": "ccaf5fb4",
   "metadata": {},
   "source": [
    "# Solution 30"
   ]
  },
  {
   "cell_type": "code",
   "execution_count": 118,
   "id": "f245a653",
   "metadata": {},
   "outputs": [
    {
     "name": "stdout",
     "output_type": "stream",
     "text": [
      "*\n"
     ]
    }
   ],
   "source": [
    "i = 0\n",
    "while i <= 5:          # 0, 1, 2, 3, 4, 5\n",
    "    i += 1             # i = i + 1 => empieza con 1\n",
    "    if i % 2 == 0:     # en el 2 ya salta\n",
    "        break\n",
    "    print('*')         # imprime 1 *"
   ]
  },
  {
   "cell_type": "code",
   "execution_count": 119,
   "id": "ac58fbdd",
   "metadata": {},
   "outputs": [],
   "source": [
    "# Solución\n",
    "# C"
   ]
  },
  {
   "cell_type": "markdown",
   "id": "c69b676b",
   "metadata": {},
   "source": [
    "****"
   ]
  },
  {
   "cell_type": "markdown",
   "id": "5217a2dd",
   "metadata": {},
   "source": [
    "*Gracias por la atención*\n",
    "\n",
    "*Isabel Maniega*"
   ]
  }
 ],
 "metadata": {
  "kernelspec": {
   "display_name": "Python 3 (ipykernel)",
   "language": "python",
   "name": "python3"
  },
  "language_info": {
   "codemirror_mode": {
    "name": "ipython",
    "version": 3
   },
   "file_extension": ".py",
   "mimetype": "text/x-python",
   "name": "python",
   "nbconvert_exporter": "python",
   "pygments_lexer": "ipython3",
   "version": "3.8.19"
  }
 },
 "nbformat": 4,
 "nbformat_minor": 5
}

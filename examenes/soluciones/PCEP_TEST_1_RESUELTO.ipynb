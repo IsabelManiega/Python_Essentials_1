{
 "cells": [
  {
   "attachments": {},
   "cell_type": "markdown",
   "id": "7bcef700",
   "metadata": {},
   "source": [
    "*Contenido creado por: Isabel Maniega*"
   ]
  },
  {
   "attachments": {},
   "cell_type": "markdown",
   "id": "bc926c39",
   "metadata": {},
   "source": [
    "****"
   ]
  },
  {
   "attachments": {},
   "cell_type": "markdown",
   "id": "281b5c00",
   "metadata": {},
   "source": [
    "# Question 1  (Data Aggregates)"
   ]
  },
  {
   "cell_type": "markdown",
   "id": "105ed4ae-47b5-4187-a1f8-fed8dd36cf13",
   "metadata": {},
   "source": [
    "What is the expected output of the following code?\n",
    "```\n",
    "x = [0, 1, 2]\n",
    "x.insert(0, 1)   \n",
    "del x[1]\n",
    "print(sum(x))\n",
    "```\n",
    "\n",
    "A. ```5```\n",
    "\n",
    "B. ```4```\n",
    "\n",
    "C. ```3```\n",
    "\n",
    "D. ```2```"
   ]
  },
  {
   "attachments": {},
   "cell_type": "markdown",
   "id": "be1c5377",
   "metadata": {},
   "source": [
    "# Solution 1"
   ]
  },
  {
   "cell_type": "code",
   "execution_count": null,
   "id": "aa0b0f66",
   "metadata": {},
   "outputs": [],
   "source": [
    "x = [0, 1, 2]     #   0 1 2\n",
    "x.insert(0, 1)    # 1 0 1 2      (insertas en indice 0 un \"1\")      \n",
    "del x[1]          # 1   1 2  ==> 1 1 2\n",
    "print(sum(x))     # 4            (1+1+2)"
   ]
  },
  {
   "cell_type": "code",
   "execution_count": null,
   "id": "25e3a1ac",
   "metadata": {},
   "outputs": [],
   "source": [
    "# Solución\n",
    "# B"
   ]
  },
  {
   "attachments": {},
   "cell_type": "markdown",
   "id": "c15896cb",
   "metadata": {},
   "source": [
    "****"
   ]
  },
  {
   "attachments": {},
   "cell_type": "markdown",
   "id": "38d12fe5",
   "metadata": {},
   "source": [
    "# Question 2 (Operators)"
   ]
  },
  {
   "cell_type": "markdown",
   "id": "ba4fc755-8ccf-4667-91b7-c19cd43e68c4",
   "metadata": {},
   "source": [
    "You develop a Python application for your company.\n",
    "\n",
    "You have the following code.\n",
    "```\n",
    "def main(a, b, c, d):\n",
    "    value = a + b * c - d\n",
    "    return value\n",
    "```\n",
    "\n",
    "Which of the following expressions\n",
    "is equivalent to the expression in the function?\n",
    "\n",
    "\n",
    "A. ```(a + (b * c) - d)```\n",
    "\n",
    "B. None of the above\n",
    "\n",
    "C. ```(a + b) * (c - d)```\n",
    "\n",
    "D. ```a + ((b * c)) - d```"
   ]
  },
  {
   "attachments": {},
   "cell_type": "markdown",
   "id": "08c16214",
   "metadata": {},
   "source": [
    "# Solution 2"
   ]
  },
  {
   "cell_type": "code",
   "execution_count": null,
   "id": "23326201",
   "metadata": {},
   "outputs": [],
   "source": [
    "def main(a, b, c, d):\n",
    "    value = a + b * c - d\n",
    "    return value"
   ]
  },
  {
   "cell_type": "code",
   "execution_count": null,
   "id": "9ad73fb0",
   "metadata": {},
   "outputs": [],
   "source": [
    "main(1,2,3,4)"
   ]
  },
  {
   "cell_type": "code",
   "execution_count": null,
   "id": "74848b2d",
   "metadata": {},
   "outputs": [],
   "source": [
    "# (a + (b * c) - d)\n",
    "(1 + (2 * 3) - 4)"
   ]
  },
  {
   "cell_type": "code",
   "execution_count": null,
   "id": "4b2db600",
   "metadata": {},
   "outputs": [],
   "source": [
    "# Solución\n",
    "# A"
   ]
  },
  {
   "attachments": {},
   "cell_type": "markdown",
   "id": "f787d5f6",
   "metadata": {},
   "source": [
    "****"
   ]
  },
  {
   "attachments": {},
   "cell_type": "markdown",
   "id": "44dbfac5",
   "metadata": {},
   "source": [
    "# Question 3 (Error Handling)"
   ]
  },
  {
   "cell_type": "markdown",
   "id": "7a43dbb9-d2b8-4a86-820e-e5fccef7b349",
   "metadata": {},
   "source": [
    "What will happen when you attempt to run the following code?\n",
    "```\n",
    "print(Hello, World!)\n",
    "```\n",
    "A. The code will raise the ```SyntaxError``` exception\n",
    "\n",
    "B. The code will print ```Hello, World!``` to the console\n",
    "\n",
    "C. The code will raise the ```TypeError``` exception\n",
    "\n",
    "D. The code will raise the ```ValueError``` exception\n",
    "\n",
    "E. The code will raise the ```AttributeError``` exception "
   ]
  },
  {
   "attachments": {},
   "cell_type": "markdown",
   "id": "d57819b5",
   "metadata": {},
   "source": [
    "# Solution 3"
   ]
  },
  {
   "cell_type": "code",
   "execution_count": null,
   "id": "46dd1fa8",
   "metadata": {},
   "outputs": [],
   "source": [
    "print(35)"
   ]
  },
  {
   "cell_type": "code",
   "execution_count": null,
   "id": "9b802a90",
   "metadata": {},
   "outputs": [],
   "source": [
    "# print(Hello, World!)\n",
    "\n",
    "# SyntaxError: invalid syntax"
   ]
  },
  {
   "cell_type": "code",
   "execution_count": null,
   "id": "1928559a",
   "metadata": {},
   "outputs": [],
   "source": [
    "print(\"Hello, World!\")"
   ]
  },
  {
   "cell_type": "code",
   "execution_count": null,
   "id": "26a1d747",
   "metadata": {},
   "outputs": [],
   "source": [
    "# Solución\n",
    "# A"
   ]
  },
  {
   "attachments": {},
   "cell_type": "markdown",
   "id": "eb7caaad",
   "metadata": {},
   "source": [
    "****"
   ]
  },
  {
   "attachments": {},
   "cell_type": "markdown",
   "id": "11a6e2e3",
   "metadata": {},
   "source": [
    "# Question 4  (Functions)"
   ]
  },
  {
   "cell_type": "markdown",
   "id": "c4d8d6ef-a614-4862-8da6-14bce29a2802",
   "metadata": {},
   "source": [
    "What is the output of the following code snippet?\n",
    "\n",
    "```\n",
    "def test(x=1, y=2):\n",
    "    x = x + y\n",
    "    y += 1\n",
    "    print(x, y)\n",
    " \n",
    "test(2, 1)\n",
    "```\n",
    "\n",
    "A. ```3 3```\n",
    "\n",
    "B. ```1 3```\n",
    "\n",
    "C. The code is erroneous\n",
    "\n",
    "D. ```3 2```\n",
    "\n",
    "E. ```2 3```"
   ]
  },
  {
   "attachments": {},
   "cell_type": "markdown",
   "id": "45200cbc",
   "metadata": {},
   "source": [
    "# Solution 4"
   ]
  },
  {
   "cell_type": "code",
   "execution_count": 1,
   "id": "98d8e3be",
   "metadata": {},
   "outputs": [
    {
     "name": "stdout",
     "output_type": "stream",
     "text": [
      "3 2\n"
     ]
    }
   ],
   "source": [
    "def test(x=1, y=2):\n",
    "    x = x + y         # x = x + y  -> 3 <= 2 + 1  => x = 3\n",
    "    y += 1            # y = y + 1  -> 2 <= 1 + 1  => y = 2\n",
    "    print(x, y)       # 3, 2\n",
    "\n",
    "test(2, 1)"
   ]
  },
  {
   "cell_type": "code",
   "execution_count": 2,
   "id": "621f8ba2",
   "metadata": {},
   "outputs": [
    {
     "name": "stdout",
     "output_type": "stream",
     "text": [
      "argumentos de la función: x=1, y=2\n",
      "valores en la llamada:    x=2, y=1\n",
      "valores reales en este instante:\n",
      "x= 2 y= 1\n",
      "\n",
      "\n",
      "3 2\n"
     ]
    }
   ],
   "source": [
    "def test(x=1, y=2):\n",
    "    print('argumentos de la función: x=1, y=2')\n",
    "    print('valores en la llamada:    x=2, y=1')\n",
    "    print(\"valores reales en este instante:\")\n",
    "    print('x=',x, 'y=',y)\n",
    "    print(\"\\n\")\n",
    "    x = x + y         # x = x + y  -> 3 <= 2 + 1\n",
    "    y += 1            # y = y + 1  -> 2 <= 1 + 1 \n",
    "    print(x, y)       # 3, 2\n",
    "\n",
    "test(2, 1)"
   ]
  },
  {
   "cell_type": "code",
   "execution_count": null,
   "id": "70d23162",
   "metadata": {},
   "outputs": [],
   "source": [
    "# Solución\n",
    "# D"
   ]
  },
  {
   "attachments": {},
   "cell_type": "markdown",
   "id": "07b52808",
   "metadata": {},
   "source": [
    "****"
   ]
  },
  {
   "attachments": {},
   "cell_type": "markdown",
   "id": "1f0766b8",
   "metadata": {},
   "source": [
    "# Question 5 (Data Aggregates)"
   ]
  },
  {
   "cell_type": "markdown",
   "id": "b7dff20e-7efc-42c8-8e9e-c503a87820db",
   "metadata": {},
   "source": [
    "Take a look at the snippet, \n",
    "and choose the true statements:\n",
    "\n",
    "```\n",
    "nums = [1, 2, 3]\n",
    "vals = nums\n",
    "del vals[1:2]\n",
    "```\n",
    "SELECT TWO ANSWERS\n",
    "\n",
    "A. nums and vals are of the same length\n",
    "\n",
    "B. nums and vals refer to the same list\n",
    "\n",
    "C. nums is no longer than vals\n",
    "\n",
    "D. vals is longer than nums"
   ]
  },
  {
   "attachments": {},
   "cell_type": "markdown",
   "id": "eb41cf74",
   "metadata": {},
   "source": [
    "# Solution 5"
   ]
  },
  {
   "cell_type": "code",
   "execution_count": 1,
   "id": "fe2b95ec",
   "metadata": {},
   "outputs": [
    {
     "name": "stdout",
     "output_type": "stream",
     "text": [
      "vals: [1, 3]\n",
      "nums: [1, 3]\n"
     ]
    }
   ],
   "source": [
    "nums = [1, 2, 3]\n",
    "vals = nums\n",
    "del vals[1:2]    \n",
    "# añado:\n",
    "print('vals:', vals)    # borro 2, [1,2]\n",
    "print('nums:', nums)    # = que vals\n",
    "\n",
    "# conclusión: \n",
    "# SI NO HACES UNA COPIA DE LA LISTA, \n",
    "# TE GUARDA LOS CAMBIOS"
   ]
  },
  {
   "cell_type": "code",
   "execution_count": null,
   "id": "8743682a",
   "metadata": {},
   "outputs": [],
   "source": [
    "# Solución\n",
    "# A y B"
   ]
  },
  {
   "attachments": {},
   "cell_type": "markdown",
   "id": "4cdfbff3",
   "metadata": {},
   "source": [
    "****"
   ]
  },
  {
   "attachments": {},
   "cell_type": "markdown",
   "id": "43b694cc",
   "metadata": {},
   "source": [
    "# Question 6 (Data Types)"
   ]
  },
  {
   "cell_type": "markdown",
   "id": "97ada71b-c82b-4677-b9cc-0f6045c59836",
   "metadata": {},
   "source": [
    "The value thirty point eleven times ten raised to the power of nine\n",
    "\n",
    "should be written as:\n",
    "\n",
    "\n",
    "A. ```30.11*10^9```\n",
    "\n",
    "B. ```30.11E9.0```\n",
    "\n",
    "C. ```30E11.9```\n",
    "\n",
    "D. ```30.11E9```"
   ]
  },
  {
   "attachments": {},
   "cell_type": "markdown",
   "id": "8355eac1",
   "metadata": {},
   "source": [
    "# Solution 6"
   ]
  },
  {
   "cell_type": "code",
   "execution_count": 2,
   "id": "a2a78ac4",
   "metadata": {},
   "outputs": [
    {
     "data": {
      "text/plain": [
       "30110000000.0"
      ]
     },
     "execution_count": 2,
     "metadata": {},
     "output_type": "execute_result"
    }
   ],
   "source": [
    "30.11E9"
   ]
  },
  {
   "cell_type": "code",
   "execution_count": null,
   "id": "0d6426b8",
   "metadata": {},
   "outputs": [],
   "source": [
    "# Solución\n",
    "# D"
   ]
  },
  {
   "attachments": {},
   "cell_type": "markdown",
   "id": "26cc92ac",
   "metadata": {},
   "source": [
    "****"
   ]
  },
  {
   "attachments": {},
   "cell_type": "markdown",
   "id": "df94cb68",
   "metadata": {},
   "source": [
    "# Question 7 (Functions)"
   ]
  },
  {
   "cell_type": "markdown",
   "id": "2e277a6b-cb7d-4087-974b-c0a1cf0cc227",
   "metadata": {},
   "source": [
    "What is the expected output of the following code?\n",
    "\n",
    "```\n",
    "num = 1\n",
    " \n",
    "def func():\n",
    "    num = num + 3\n",
    "    print(num)\n",
    " \n",
    "func()\n",
    " \n",
    "print(num)\n",
    "```\n",
    "A. ```4 1```\n",
    "\n",
    "B. The code is erroneous\n",
    "\n",
    "C. ```4 4```\n",
    "\n",
    "D. ```1 4```\n",
    "\n",
    "E. ```1 1```"
   ]
  },
  {
   "attachments": {},
   "cell_type": "markdown",
   "id": "652b6c03",
   "metadata": {},
   "source": [
    "# Solution 7"
   ]
  },
  {
   "cell_type": "code",
   "execution_count": null,
   "id": "ee17eb3c",
   "metadata": {},
   "outputs": [],
   "source": [
    "\"\"\"\n",
    "num = 1\n",
    " \n",
    "def func():\n",
    "    num = num + 3    # 4 <- 1 + 3 \n",
    "    print(num)       # 4\n",
    "    \n",
    "func()               # 4\n",
    " \n",
    "print(num)           # 4\n",
    "\"\"\"\n",
    "# 4 4\n",
    "\n",
    "# UnboundLocalError: \n",
    "# local variable 'num' referenced before assignment"
   ]
  },
  {
   "cell_type": "code",
   "execution_count": null,
   "id": "fcc7324f",
   "metadata": {},
   "outputs": [],
   "source": [
    "# Solución\n",
    "# B"
   ]
  },
  {
   "attachments": {},
   "cell_type": "markdown",
   "id": "98a25de0",
   "metadata": {},
   "source": [
    "****"
   ]
  },
  {
   "attachments": {},
   "cell_type": "markdown",
   "id": "3c606e4f",
   "metadata": {},
   "source": [
    "# Question 8  (Error Handling)"
   ]
  },
  {
   "cell_type": "markdown",
   "id": "0902703a-6e01-4762-8896-5781f36544a7",
   "metadata": {},
   "source": [
    "What is the expected behavior of the following program?\n",
    "```\n",
    "try:\n",
    "    print(5/0)\n",
    "    break\n",
    "except:\n",
    "    print(\"Sorry, something went wrong...\")\n",
    "except (ValueError, ZeroDivisionError):\n",
    "    print(\"Too bad...\")\n",
    "```\n",
    "A. The program will raise an exception handled by the first except block\n",
    "\n",
    "B. The program will cause a ```ValueError``` exception\n",
    "and output the following message: ```\"Too bad..\"```\n",
    "    \n",
    "C. The program will cause a ```ValueError``` exception\n",
    "and output a default error message\n",
    "\n",
    "D. The program will cause a ```ZeroDivisionError``` exception\n",
    "and output a default error message\n",
    "\n",
    "E. The program will cause a ```SyntaxError``` exception"
   ]
  },
  {
   "attachments": {},
   "cell_type": "markdown",
   "id": "cbe3738f",
   "metadata": {},
   "source": [
    "# Solution 8"
   ]
  },
  {
   "cell_type": "code",
   "execution_count": null,
   "id": "8b0725d1",
   "metadata": {},
   "outputs": [],
   "source": [
    "\"\"\"\n",
    "try:\n",
    "    print(5/0)\n",
    "    break\n",
    "except:\n",
    "    print(\"Sorry, something went wrong...\")\n",
    "except (ValueError, ZeroDivisionError):\n",
    "    print(\"Too bad...\")\n",
    "\"\"\"\n",
    "# SyntaxError: 'break' outside loop"
   ]
  },
  {
   "cell_type": "code",
   "execution_count": null,
   "id": "266e8226",
   "metadata": {},
   "outputs": [],
   "source": [
    "# Solución\n",
    "# E"
   ]
  },
  {
   "attachments": {},
   "cell_type": "markdown",
   "id": "77465fd5",
   "metadata": {},
   "source": [
    "****"
   ]
  },
  {
   "attachments": {},
   "cell_type": "markdown",
   "id": "3f896908",
   "metadata": {},
   "source": [
    "# Question 9  (data types)"
   ]
  },
  {
   "cell_type": "markdown",
   "id": "c1431ead-adbc-42cd-b136-25e020bbb779",
   "metadata": {},
   "source": [
    "The ```0o``` prefix means that the number after it is denoted as:\n",
    "\n",
    "A. binary\n",
    "\n",
    "B. decimal\n",
    "\n",
    "C. hexadecimal\n",
    "\n",
    "D. octal"
   ]
  },
  {
   "attachments": {},
   "cell_type": "markdown",
   "id": "232c1936",
   "metadata": {},
   "source": [
    "# Solution 9"
   ]
  },
  {
   "cell_type": "code",
   "execution_count": null,
   "id": "95f208ba",
   "metadata": {},
   "outputs": [],
   "source": [
    "# Solución\n",
    "# D"
   ]
  },
  {
   "attachments": {},
   "cell_type": "markdown",
   "id": "247c1047",
   "metadata": {},
   "source": [
    "****"
   ]
  },
  {
   "attachments": {},
   "cell_type": "markdown",
   "id": "a0821b1d",
   "metadata": {},
   "source": [
    "# Question 10 (control flow)"
   ]
  },
  {
   "cell_type": "markdown",
   "id": "a3645fc4-eb87-4038-b724-bf8e1ba45ad4",
   "metadata": {},
   "source": [
    "How many stars will the following code print to the monitor?\n",
    "\n",
    "```\n",
    "i = 0\n",
    "while i <= 3:\n",
    "    i += 2\n",
    "    print('*')\n",
    "```\n",
    "\n",
    "A. zero\n",
    "\n",
    "B. three\n",
    "\n",
    "C. one\n",
    "\n",
    "D. two"
   ]
  },
  {
   "cell_type": "code",
   "execution_count": null,
   "id": "20a1993c",
   "metadata": {},
   "outputs": [],
   "source": [
    "i = 0\n",
    "while i <= 3:    # ------------------>  0-1-2-3\n",
    "    i += 2       # i = i + 2  ------->  0-2\n",
    "    print('*')   # ejecuta 2 veces -->  **"
   ]
  },
  {
   "cell_type": "code",
   "execution_count": null,
   "id": "3921d74f",
   "metadata": {},
   "outputs": [],
   "source": [
    "# Solución\n",
    "# D"
   ]
  },
  {
   "attachments": {},
   "cell_type": "markdown",
   "id": "d5e9f622",
   "metadata": {},
   "source": [
    "****"
   ]
  },
  {
   "attachments": {},
   "cell_type": "markdown",
   "id": "5d06fd5f",
   "metadata": {},
   "source": [
    "# Question 11 (Data Aggregates)"
   ]
  },
  {
   "cell_type": "markdown",
   "id": "ac14e4bb-948c-4c6c-bfd3-cc76718380fc",
   "metadata": {},
   "source": [
    "Insert the correct snippet so that \n",
    "the program produces the expected output.\n",
    "\n",
    "Expected output:\n",
    "```True```\n",
    "\n",
    "\n",
    "Code:\n",
    "```\n",
    "list = [False, True, \"2\", 3, 4, 5]\n",
    "#### insert code here\n",
    "print(b)\n",
    "```\n",
    "\n",
    "A. ```b = 0 not in list```\n",
    "\n",
    "B. ```b = False```\n",
    "\n",
    "C. ```b = 0 in list```\n",
    "\n",
    "D. ```b = list[0]```"
   ]
  },
  {
   "attachments": {},
   "cell_type": "markdown",
   "id": "a585a4f7",
   "metadata": {},
   "source": [
    "# Solution 11"
   ]
  },
  {
   "cell_type": "code",
   "execution_count": 1,
   "id": "01e03084",
   "metadata": {},
   "outputs": [
    {
     "name": "stdout",
     "output_type": "stream",
     "text": [
      "False\n"
     ]
    }
   ],
   "source": [
    "# A\n",
    "\n",
    "list = [False, True, \"2\", 3, 4, 5]\n",
    "# #### insert code here\n",
    "b = 0 not in list\n",
    "print(b)"
   ]
  },
  {
   "cell_type": "code",
   "execution_count": 2,
   "id": "e3687d9e",
   "metadata": {},
   "outputs": [
    {
     "name": "stdout",
     "output_type": "stream",
     "text": [
      "False\n"
     ]
    }
   ],
   "source": [
    "# B\n",
    "\n",
    "list = [False, True, \"2\", 3, 4, 5]\n",
    "# #### insert code here\n",
    "b = False\n",
    "print(b)"
   ]
  },
  {
   "cell_type": "code",
   "execution_count": 3,
   "id": "846bbfa8",
   "metadata": {},
   "outputs": [
    {
     "name": "stdout",
     "output_type": "stream",
     "text": [
      "True\n"
     ]
    }
   ],
   "source": [
    "# C\n",
    "\n",
    "list = [False, True, \"2\", 3, 4, 5]\n",
    "# #### insert code here\n",
    "b = 0 in list\n",
    "print(b)"
   ]
  },
  {
   "attachments": {},
   "cell_type": "markdown",
   "id": "881ac53a",
   "metadata": {},
   "source": [
    "# INCISO"
   ]
  },
  {
   "cell_type": "code",
   "execution_count": 3,
   "id": "208a4a40",
   "metadata": {},
   "outputs": [
    {
     "data": {
      "text/plain": [
       "4"
      ]
     },
     "execution_count": 3,
     "metadata": {},
     "output_type": "execute_result"
    }
   ],
   "source": [
    "False + 4"
   ]
  },
  {
   "cell_type": "code",
   "execution_count": 4,
   "id": "0daca08c",
   "metadata": {},
   "outputs": [
    {
     "data": {
      "text/plain": [
       "6"
      ]
     },
     "execution_count": 4,
     "metadata": {},
     "output_type": "execute_result"
    }
   ],
   "source": [
    "True + 5"
   ]
  },
  {
   "cell_type": "code",
   "execution_count": 5,
   "id": "e944a697",
   "metadata": {},
   "outputs": [
    {
     "name": "stdout",
     "output_type": "stream",
     "text": [
      "False\n",
      "el elemento: True no es 0 o False\n",
      "el elemento: 2 no es 0 o False\n",
      "el elemento: 3 no es 0 o False\n",
      "el elemento: 4 no es 0 o False\n",
      "el elemento: 5 no es 0 o False\n"
     ]
    }
   ],
   "source": [
    "# explicación\n",
    "\n",
    "lista = [False, True, \"2\", 3, 4, 5]\n",
    "# #### insert code here\n",
    "for elemento in lista:\n",
    "    if elemento==0:\n",
    "        print(elemento)\n",
    "    else:\n",
    "        print('el elemento:', elemento, 'no es 0 o False')"
   ]
  },
  {
   "cell_type": "code",
   "execution_count": 6,
   "id": "7e0ec7b4",
   "metadata": {},
   "outputs": [
    {
     "name": "stdout",
     "output_type": "stream",
     "text": [
      "False\n",
      "el elemento: True no es False\n",
      "el elemento: 2 no es False\n",
      "el elemento: 3 no es False\n",
      "el elemento: 4 no es False\n",
      "el elemento: 5 no es False\n"
     ]
    }
   ],
   "source": [
    "# explicación\n",
    "\n",
    "lista = [False, True, \"2\", 3, 4, 5]\n",
    "# #### insert code here\n",
    "for elemento in lista:\n",
    "    if elemento==False:\n",
    "        print(elemento)\n",
    "    else:\n",
    "        print('el elemento:', elemento, 'no es False')"
   ]
  },
  {
   "cell_type": "code",
   "execution_count": 7,
   "id": "eb260b0d",
   "metadata": {},
   "outputs": [
    {
     "name": "stdout",
     "output_type": "stream",
     "text": [
      "False\n"
     ]
    }
   ],
   "source": [
    "# D\n",
    "\n",
    "list = [False, True, \"2\", 3, 4, 5]\n",
    "# #### insert code here\n",
    "b = list[0]\n",
    "print(b)"
   ]
  },
  {
   "cell_type": "code",
   "execution_count": null,
   "id": "d238aeac",
   "metadata": {},
   "outputs": [],
   "source": [
    "# Solución\n",
    "# C"
   ]
  },
  {
   "attachments": {},
   "cell_type": "markdown",
   "id": "93d63b59",
   "metadata": {},
   "source": [
    "****"
   ]
  },
  {
   "attachments": {},
   "cell_type": "markdown",
   "id": "d498db53",
   "metadata": {},
   "source": [
    "# Question 12 (control flow)"
   ]
  },
  {
   "cell_type": "markdown",
   "id": "ac9a3ef9-c406-47a2-8ae9-105ed97ceb8a",
   "metadata": {},
   "source": [
    "What is the expected output of the following code?\n",
    "\n",
    "```\n",
    "def func(x):\n",
    "    return 1 if x % 2 != 0 else 2\n",
    " \n",
    "print(func(func(1)))\n",
    "```\n",
    "\n",
    "A. ```2```\n",
    "\n",
    "B. The code is erroneous\n",
    "\n",
    "C. ```1```\n",
    "\n",
    "D. ```None```"
   ]
  },
  {
   "attachments": {},
   "cell_type": "markdown",
   "id": "f3d4041e",
   "metadata": {},
   "source": [
    "# Solution 12"
   ]
  },
  {
   "cell_type": "code",
   "execution_count": 9,
   "id": "77352bc5",
   "metadata": {},
   "outputs": [
    {
     "name": "stdout",
     "output_type": "stream",
     "text": [
      "1\n"
     ]
    }
   ],
   "source": [
    "def func(x):\n",
    "    return 1 if x % 2 != 0 else 2\n",
    " \n",
    "print(func(func(1)))"
   ]
  },
  {
   "cell_type": "code",
   "execution_count": 10,
   "id": "8f25a7d7",
   "metadata": {},
   "outputs": [],
   "source": [
    "# Solución\n",
    "# C"
   ]
  },
  {
   "cell_type": "code",
   "execution_count": 11,
   "id": "6f2e7f82",
   "metadata": {},
   "outputs": [
    {
     "data": {
      "text/plain": [
       "1"
      ]
     },
     "execution_count": 11,
     "metadata": {},
     "output_type": "execute_result"
    }
   ],
   "source": [
    "1 % 2"
   ]
  },
  {
   "cell_type": "code",
   "execution_count": 12,
   "id": "dd7bb33a",
   "metadata": {},
   "outputs": [],
   "source": [
    "def func(x):\n",
    "    if x % 2 != 0:\n",
    "        return 1\n",
    "    else:\n",
    "        return 2"
   ]
  },
  {
   "cell_type": "code",
   "execution_count": 13,
   "id": "228ccf38",
   "metadata": {},
   "outputs": [
    {
     "data": {
      "text/plain": [
       "1"
      ]
     },
     "execution_count": 13,
     "metadata": {},
     "output_type": "execute_result"
    }
   ],
   "source": [
    "func(1)"
   ]
  },
  {
   "cell_type": "code",
   "execution_count": 14,
   "id": "be538af9",
   "metadata": {},
   "outputs": [
    {
     "name": "stdout",
     "output_type": "stream",
     "text": [
      "1\n"
     ]
    }
   ],
   "source": [
    "# print(func(RESULTADO DEL ANTERIOR func(1)))\n",
    "print(func(func(1)))"
   ]
  },
  {
   "attachments": {},
   "cell_type": "markdown",
   "id": "835f97e7",
   "metadata": {},
   "source": [
    "****"
   ]
  },
  {
   "attachments": {},
   "cell_type": "markdown",
   "id": "eabe69e0",
   "metadata": {},
   "source": [
    "# Question 13  (Data Aggregates)"
   ]
  },
  {
   "cell_type": "markdown",
   "id": "c52a9d52-54bd-4b7c-87e7-74ae0204e160",
   "metadata": {},
   "source": [
    "What is the expected output of the following code?\n",
    "```\n",
    "data = ['Peter', 404, 3.03, 'Wellert', 33.3]\n",
    "print(data[1:3])\n",
    "```\n",
    "A. ```[404, 3.03]```\n",
    "\n",
    "B. None of the above\n",
    "\n",
    "C. ```['Peter', 404, 3.03, 'Wellert', 33.3]```\n",
    "\n",
    "D. ```['Peter', 'Wellert']```"
   ]
  },
  {
   "attachments": {},
   "cell_type": "markdown",
   "id": "ed73ab3d",
   "metadata": {},
   "source": [
    "# Solution 13"
   ]
  },
  {
   "cell_type": "code",
   "execution_count": 15,
   "id": "36615df1",
   "metadata": {},
   "outputs": [
    {
     "name": "stdout",
     "output_type": "stream",
     "text": [
      "[404, 3.03]\n"
     ]
    }
   ],
   "source": [
    "data = ['Peter', 404, 3.03, 'Wellert', 33.3]\n",
    "print(data[1:3])  # 404, 3.03"
   ]
  },
  {
   "cell_type": "code",
   "execution_count": null,
   "id": "534f79d4",
   "metadata": {},
   "outputs": [],
   "source": [
    "# Solución\n",
    "# A"
   ]
  },
  {
   "attachments": {},
   "cell_type": "markdown",
   "id": "df1832a6",
   "metadata": {},
   "source": [
    "****"
   ]
  },
  {
   "attachments": {},
   "cell_type": "markdown",
   "id": "e16354ab",
   "metadata": {},
   "source": [
    "# Question 14 (Operators)"
   ]
  },
  {
   "cell_type": "markdown",
   "id": "9785c64b-a3a7-4a04-a9ba-f801857b712f",
   "metadata": {},
   "source": [
    "What will be the output of the following code snippet?\n",
    "```\n",
    "x = 2\n",
    "y = 1\n",
    "x *= y + 1\n",
    "print(x)\n",
    "```\n",
    "A. ```4```\n",
    "\n",
    "B. ```None```\n",
    "\n",
    "C. ```2```\n",
    "\n",
    "D. ```3```\n",
    "\n",
    "E. ```1```"
   ]
  },
  {
   "attachments": {},
   "cell_type": "markdown",
   "id": "58b8ab3f",
   "metadata": {},
   "source": [
    "# Solution 14"
   ]
  },
  {
   "cell_type": "code",
   "execution_count": null,
   "id": "55e459e8",
   "metadata": {},
   "outputs": [],
   "source": [
    "# x += 1 compatible con x = x + 1"
   ]
  },
  {
   "cell_type": "code",
   "execution_count": null,
   "id": "aa8bbbc1",
   "metadata": {},
   "outputs": [],
   "source": [
    "x = 2\n",
    "y = 1\n",
    "x *= y + 1  # x  = x * (y + 1) \n",
    "print(x)    # 4 <= 2 * (1 + 1)"
   ]
  },
  {
   "cell_type": "code",
   "execution_count": null,
   "id": "25ba9e00",
   "metadata": {},
   "outputs": [],
   "source": [
    "# Solución \n",
    "# A"
   ]
  },
  {
   "attachments": {},
   "cell_type": "markdown",
   "id": "40d4ffc3",
   "metadata": {},
   "source": [
    "****"
   ]
  },
  {
   "attachments": {},
   "cell_type": "markdown",
   "id": "110816c7",
   "metadata": {},
   "source": [
    "# Question 15  (Control Flow)"
   ]
  },
  {
   "cell_type": "markdown",
   "id": "3673461d-5e57-4759-99f5-00704f0a8a8d",
   "metadata": {},
   "source": [
    "What is the expected output of the following code?\n",
    "```\n",
    "def func(text, num):\n",
    "    while num > 0:\n",
    "        print(text)\n",
    "    num = num - 1\n",
    " \n",
    "func('Hello', 3)\n",
    "```\n",
    "\n",
    "A. \n",
    "```\n",
    "Hello\n",
    "Hello\n",
    "Hello\n",
    "Hello\n",
    "```\n",
    "B.\n",
    "An infinite loop\n",
    "\n",
    "C. \n",
    "```\n",
    "Hello\n",
    "Hello\n",
    "Hello\n",
    "```\n",
    "\n",
    "D.\n",
    "```\n",
    "Hello\n",
    "Hello\n",
    "```"
   ]
  },
  {
   "attachments": {},
   "cell_type": "markdown",
   "id": "66791312",
   "metadata": {},
   "source": [
    "# Solution 15"
   ]
  },
  {
   "cell_type": "code",
   "execution_count": 1,
   "id": "b169c6e9",
   "metadata": {},
   "outputs": [
    {
     "data": {
      "text/plain": [
       "\"def func(text, num):\\n    while num > 0:\\n        print(text)\\n    num = num - 1\\n\\nfunc('Hello', 3)\""
      ]
     },
     "execution_count": 1,
     "metadata": {},
     "output_type": "execute_result"
    }
   ],
   "source": [
    "\"\"\"def func(text, num):\n",
    "    while num > 0:\n",
    "        print(text)\n",
    "    num = num - 1\n",
    "\n",
    "func('Hello', 3)\"\"\"\n",
    "\n",
    "# bucle infinito"
   ]
  },
  {
   "cell_type": "code",
   "execution_count": null,
   "id": "87b62301",
   "metadata": {},
   "outputs": [],
   "source": [
    "# Solución\n",
    "# B"
   ]
  },
  {
   "attachments": {},
   "cell_type": "markdown",
   "id": "2b75e634",
   "metadata": {},
   "source": [
    "# SOLUCION QUE SI FUNCIONARIA\n",
    "\n",
    "OJO CON LA INDENTACIÓN DENTRO DEL BUCLE WHILE"
   ]
  },
  {
   "cell_type": "code",
   "execution_count": 16,
   "id": "a6753220",
   "metadata": {},
   "outputs": [
    {
     "name": "stdout",
     "output_type": "stream",
     "text": [
      "Hello\n",
      "Hello\n",
      "Hello\n"
     ]
    }
   ],
   "source": [
    "def func(text, num):\n",
    "    while num > 0:\n",
    "        print(text)\n",
    "        num = num - 1\n",
    "\n",
    "func('Hello', 3)"
   ]
  },
  {
   "attachments": {},
   "cell_type": "markdown",
   "id": "fa565dd8",
   "metadata": {},
   "source": [
    "****"
   ]
  },
  {
   "attachments": {},
   "cell_type": "markdown",
   "id": "916b44a4",
   "metadata": {},
   "source": [
    "# Question 16  (Control Flow)"
   ]
  },
  {
   "cell_type": "markdown",
   "id": "06bef074-eb1c-486a-93e4-a9379c7b224b",
   "metadata": {},
   "source": [
    "What is the expected output of the following code?\n",
    "```\n",
    "x = True\n",
    "y = False\n",
    "z = False\n",
    " \n",
    "if not x or y:\n",
    "    print(1)\n",
    "elif not x or not y and z:\n",
    "    print(2)\n",
    "elif not x or y or not y and x:\n",
    "    print(3)\n",
    "else:\n",
    "    print(4)\n",
    "```   \n",
    "    \n",
    "A. ```1```\n",
    "\n",
    "B. ```3```\n",
    "\n",
    "C. ```2```\n",
    "\n",
    "D. ```4```"
   ]
  },
  {
   "attachments": {},
   "cell_type": "markdown",
   "id": "cbd37e8c",
   "metadata": {},
   "source": [
    "# Solution 16"
   ]
  },
  {
   "cell_type": "code",
   "execution_count": 17,
   "id": "b2ab0095",
   "metadata": {},
   "outputs": [
    {
     "name": "stdout",
     "output_type": "stream",
     "text": [
      "3\n"
     ]
    }
   ],
   "source": [
    "x = True\n",
    "y = False\n",
    "z = False\n",
    " \n",
    "if not x or y:    # False or False\n",
    "    print(1)\n",
    "elif not x or not y and z: # False or (True and False)\n",
    "    print(2)\n",
    "elif not x or y or not y and x: # False or False or (True and True)\n",
    "    print(3) # esto imprime\n",
    "else:\n",
    "    print(4)"
   ]
  },
  {
   "cell_type": "code",
   "execution_count": null,
   "id": "2e9ba025",
   "metadata": {},
   "outputs": [],
   "source": [
    "# Solución\n",
    "# B"
   ]
  },
  {
   "attachments": {},
   "cell_type": "markdown",
   "id": "93d2eb6f",
   "metadata": {},
   "source": [
    "****"
   ]
  },
  {
   "attachments": {},
   "cell_type": "markdown",
   "id": "adbedc11",
   "metadata": {},
   "source": [
    "# Question 17   (Functions)"
   ]
  },
  {
   "cell_type": "markdown",
   "id": "2b2c09a8-ee2b-41ed-9d62-45078af33e42",
   "metadata": {},
   "source": [
    "A function definition starts with the keyword:\n",
    "\n",
    "A. def\n",
    "\n",
    "B. function\n",
    "\n",
    "C. fun\n"
   ]
  },
  {
   "cell_type": "code",
   "execution_count": 18,
   "id": "ff077136",
   "metadata": {},
   "outputs": [],
   "source": [
    "def mi_funcion():\n",
    "    pass"
   ]
  },
  {
   "cell_type": "code",
   "execution_count": 19,
   "id": "e26e3c04",
   "metadata": {},
   "outputs": [],
   "source": [
    "# Solución\n",
    "# A"
   ]
  },
  {
   "attachments": {},
   "cell_type": "markdown",
   "id": "24d58aa6",
   "metadata": {},
   "source": [
    "****"
   ]
  },
  {
   "attachments": {},
   "cell_type": "markdown",
   "id": "24dea987",
   "metadata": {},
   "source": [
    "# Question 18    (Operators)"
   ]
  },
  {
   "cell_type": "code",
   "execution_count": 20,
   "id": "11d2e137",
   "metadata": {},
   "outputs": [
    {
     "data": {
      "text/plain": [
       "(1.0, 1)"
      ]
     },
     "execution_count": 20,
     "metadata": {},
     "output_type": "execute_result"
    }
   ],
   "source": [
    "3/3, 3//3"
   ]
  },
  {
   "cell_type": "markdown",
   "id": "12a4531c-9705-4a63-a332-7323ad5a2adf",
   "metadata": {},
   "source": [
    "What is the expected output of the following code?\n",
    "\n",
    "```\n",
    "x = 1 / 2 + 3 // 3 + 4 ** 2\n",
    "\n",
    "print(x)\n",
    "```\n",
    "A. ```8.5```\n",
    "\n",
    "B. ```8```\n",
    "\n",
    "C. ```17```\n",
    "\n",
    "D. ```17.5```"
   ]
  },
  {
   "attachments": {},
   "cell_type": "markdown",
   "id": "e7b5c284",
   "metadata": {},
   "source": [
    "# Solution 18"
   ]
  },
  {
   "cell_type": "code",
   "execution_count": null,
   "id": "e160b76e",
   "metadata": {},
   "outputs": [],
   "source": [
    "x = 1 / 2 + 3 // 3 + 4 ** 2\n",
    "\n",
    "#    0.5  +  1     +  16 # 17.5\n",
    "print(x)"
   ]
  },
  {
   "cell_type": "code",
   "execution_count": null,
   "id": "7dfe62be",
   "metadata": {},
   "outputs": [],
   "source": [
    "# Solución\n",
    "# D"
   ]
  },
  {
   "attachments": {},
   "cell_type": "markdown",
   "id": "e5cea33b",
   "metadata": {},
   "source": [
    "****"
   ]
  },
  {
   "attachments": {},
   "cell_type": "markdown",
   "id": "822187c3",
   "metadata": {},
   "source": [
    "# Question 19  (Basics) "
   ]
  },
  {
   "cell_type": "markdown",
   "id": "4ac57ac3-22e4-47de-87e5-62be017c8800",
   "metadata": {},
   "source": [
    "What is the expected output of the following code?\n",
    "```\n",
    "x = 1\n",
    "y = 2\n",
    "x, y, z = x, x, y\n",
    "z, y, z = x, y, z\n",
    "print(x, y, z)\n",
    "```\n",
    "\n",
    "A. ```1 1 2```\n",
    "\n",
    "B. ```2 1 2```\n",
    "\n",
    "C. ```1 2 2```\n",
    "\n",
    "D. ```1 2 1```"
   ]
  },
  {
   "attachments": {},
   "cell_type": "markdown",
   "id": "ccb25e6d",
   "metadata": {},
   "source": [
    "# Solution 19"
   ]
  },
  {
   "cell_type": "code",
   "execution_count": null,
   "id": "bf3957e8",
   "metadata": {},
   "outputs": [],
   "source": [
    "x = 1\n",
    "y = 2\n",
    "x, y, z = x, x, y   # x=x=1, y=x=1, z=y=2\n",
    "z, y, z = x, y, z   # z=x=1, y=y=1, z=z=2\n",
    "print(x, y, z)      # 1       1       2"
   ]
  },
  {
   "cell_type": "code",
   "execution_count": null,
   "id": "0d219524",
   "metadata": {},
   "outputs": [],
   "source": [
    "# Solución\n",
    "# A"
   ]
  },
  {
   "attachments": {},
   "cell_type": "markdown",
   "id": "8efb033d",
   "metadata": {},
   "source": [
    "****"
   ]
  },
  {
   "attachments": {},
   "cell_type": "markdown",
   "id": "9012902e",
   "metadata": {},
   "source": [
    "# Question 20     (Data Aggregates)"
   ]
  },
  {
   "cell_type": "markdown",
   "id": "1cc81ac0-8a07-4c77-be5d-07b95ecd401c",
   "metadata": {},
   "source": [
    "What is the expected output of the following code?\n",
    "```\n",
    "list1 = [1, 3]\n",
    "list2 = list1\n",
    "list1[0] = 4\n",
    "print(list2)\n",
    "```\n",
    "A. ```[1, 3]```\n",
    "\n",
    "B. ```[1, 3, 4]```\n",
    "\n",
    "C. ```[1, 4]```\n",
    "\n",
    "D. ```[4, 3]```"
   ]
  },
  {
   "attachments": {},
   "cell_type": "markdown",
   "id": "33090470",
   "metadata": {},
   "source": [
    "# Solution 20"
   ]
  },
  {
   "cell_type": "code",
   "execution_count": 21,
   "id": "1a9b36e6",
   "metadata": {},
   "outputs": [
    {
     "name": "stdout",
     "output_type": "stream",
     "text": [
      "[4, 3]\n"
     ]
    }
   ],
   "source": [
    "list1 = [1, 3]\n",
    "list2 = list1  # list2 = [1, 3]\n",
    "list1[0] = 4   # list2 = [4, 3]\n",
    "print(list2)   "
   ]
  },
  {
   "cell_type": "code",
   "execution_count": 22,
   "id": "5635a8c2",
   "metadata": {},
   "outputs": [
    {
     "name": "stdout",
     "output_type": "stream",
     "text": [
      "list1:  [4, 3]\n",
      "list2:  [4, 3]\n"
     ]
    }
   ],
   "source": [
    "print('list1: ', list1)\n",
    "print('list2: ', list2)"
   ]
  },
  {
   "cell_type": "code",
   "execution_count": null,
   "id": "99a28b60",
   "metadata": {},
   "outputs": [],
   "source": [
    "# Solución\n",
    "# D"
   ]
  },
  {
   "attachments": {},
   "cell_type": "markdown",
   "id": "74bff6ba",
   "metadata": {},
   "source": [
    "****"
   ]
  },
  {
   "attachments": {},
   "cell_type": "markdown",
   "id": "40f24429",
   "metadata": {},
   "source": [
    "# Question 21     (Data Aggregates)"
   ]
  },
  {
   "cell_type": "markdown",
   "id": "120304ca-5ce9-40b5-82e1-8dcf4b1e8f3d",
   "metadata": {},
   "source": [
    "What will be the output of the following code snippet?\n",
    "```\n",
    "a = [1, 2, 3, 4, 5, 6, 7, 8, 9]\n",
    "print(a[::2])\n",
    "```\n",
    "A. ```[1, 2]```\n",
    "\n",
    "B. ```[1, 3, 5, 7, 9]```\n",
    "\n",
    "C. ```[8, 9]```\n",
    "\n",
    "D. ```[1, 2, 3]```"
   ]
  },
  {
   "attachments": {},
   "cell_type": "markdown",
   "id": "fdea8d57",
   "metadata": {},
   "source": [
    "# Solution 21"
   ]
  },
  {
   "cell_type": "code",
   "execution_count": 29,
   "id": "74f58b8b",
   "metadata": {},
   "outputs": [
    {
     "name": "stdout",
     "output_type": "stream",
     "text": [
      "[1, 3, 5, 7, 9]\n"
     ]
    }
   ],
   "source": [
    "a = [1, 2, 3, 4, 5, 6, 7, 8, 9]\n",
    "print(a[::2])"
   ]
  },
  {
   "cell_type": "code",
   "execution_count": null,
   "id": "f8d55d6e",
   "metadata": {},
   "outputs": [],
   "source": [
    "# Solución\n",
    "# B"
   ]
  },
  {
   "attachments": {},
   "cell_type": "markdown",
   "id": "4fee1fca",
   "metadata": {},
   "source": [
    "****"
   ]
  },
  {
   "attachments": {},
   "cell_type": "markdown",
   "id": "02b11c22",
   "metadata": {},
   "source": [
    "# Question 22     (Data Aggregates)"
   ]
  },
  {
   "cell_type": "markdown",
   "id": "43df143f-9b29-4ebf-86c7-2215060906e2",
   "metadata": {},
   "source": [
    "What is the output of the following snippet?\n",
    "\n",
    "```\n",
    "dictionary = {'one': 'two', 'three': 'one', 'two': 'three'}\n",
    "v = dictionary['one']\n",
    " \n",
    "for k in range(len(dictionary)):\n",
    "    v = dictionary[v]\n",
    " \n",
    "print(v)\n",
    "```\n",
    "\n",
    "A. ```('one', 'two', 'three')```\n",
    "\n",
    "B. ```three```\n",
    "\n",
    "C. ```two```\n",
    "\n",
    "D. ```one```"
   ]
  },
  {
   "attachments": {},
   "cell_type": "markdown",
   "id": "6a19ceaa",
   "metadata": {},
   "source": [
    "# Solution 22"
   ]
  },
  {
   "cell_type": "code",
   "execution_count": 24,
   "id": "082c97d3",
   "metadata": {},
   "outputs": [
    {
     "name": "stdout",
     "output_type": "stream",
     "text": [
      "two\n"
     ]
    }
   ],
   "source": [
    "dictionary = {'one': 'two', \n",
    "              'three': 'one', \n",
    "              'two': 'three'}\n",
    "\n",
    "v = dictionary['one']            # two\n",
    " \n",
    "# len(dictionary) = 3\n",
    "# range(3) --> 0-1-2\n",
    "for k in range(len(dictionary)):\n",
    "    v = dictionary[v]            \n",
    "    \n",
    "# 0: v = dictionary[\"two\"]   --> three\n",
    "# 1: v = dictionary[\"three\"] --> one\n",
    "# 2: v = dictionary[\"one\"]   --> two\n",
    "\n",
    "print(v)                        # two"
   ]
  },
  {
   "cell_type": "code",
   "execution_count": 25,
   "id": "3cb05780",
   "metadata": {},
   "outputs": [],
   "source": [
    "# Solución\n",
    "# C"
   ]
  },
  {
   "attachments": {},
   "cell_type": "markdown",
   "id": "5539648a",
   "metadata": {},
   "source": [
    "****"
   ]
  },
  {
   "attachments": {},
   "cell_type": "markdown",
   "id": "707edf97",
   "metadata": {},
   "source": [
    "# Question 23  (Functions)"
   ]
  },
  {
   "cell_type": "markdown",
   "id": "38bd4f94-c53b-44c8-814b-0ace77edbc6f",
   "metadata": {},
   "source": [
    "What is the output of the following snippet?\n",
    "\n",
    "```\n",
    "def fun(x, y, z):\n",
    "    return x + 2 * y + 3 * z\n",
    " \n",
    "print(fun(0, z=1, y=3))\n",
    "```\n",
    "A. ```0```\n",
    "\n",
    "B. ```9```\n",
    "\n",
    "C. ```3```\n",
    "\n",
    "D. The snippet is erroneous"
   ]
  },
  {
   "attachments": {},
   "cell_type": "markdown",
   "id": "2d184945",
   "metadata": {},
   "source": [
    "# Solution 23"
   ]
  },
  {
   "cell_type": "code",
   "execution_count": 10,
   "id": "355d9147",
   "metadata": {},
   "outputs": [
    {
     "name": "stdout",
     "output_type": "stream",
     "text": [
      "9\n"
     ]
    }
   ],
   "source": [
    "def fun(x, y, z):\n",
    "    return x + 2 * y + 3 * z\n",
    "    #      0 + 2 * 3 + 3 * 1\n",
    "    #      0 +  6    +   3\n",
    "    #             9\n",
    "    \n",
    "# PESE A QUE LOS ARGUMENTOS DE LA LLAMADA ESTAN DESORDENADOS, \n",
    "# SE LES RECONOCE IGUALMENTE\n",
    "\n",
    "print(fun(0, z=1, y=3))"
   ]
  },
  {
   "cell_type": "code",
   "execution_count": null,
   "id": "c0f5d652",
   "metadata": {},
   "outputs": [],
   "source": [
    "# Solución\n",
    "# B"
   ]
  },
  {
   "attachments": {},
   "cell_type": "markdown",
   "id": "9f3aa8ed",
   "metadata": {},
   "source": [
    "****"
   ]
  },
  {
   "attachments": {},
   "cell_type": "markdown",
   "id": "30e443de",
   "metadata": {},
   "source": [
    "# Question 24    (Operators)  "
   ]
  },
  {
   "cell_type": "markdown",
   "id": "77193461-62a9-46c3-adfd-e530da63b128",
   "metadata": {},
   "source": [
    "An operator able to check whether \n",
    "two values are not equal is coded as:\n",
    "\n",
    "A. ```not ==```\n",
    "\n",
    "B. ```=/=```\n",
    "\n",
    "C. ```<>```\n",
    "\n",
    "D. ```!=```"
   ]
  },
  {
   "attachments": {},
   "cell_type": "markdown",
   "id": "d5faea99",
   "metadata": {},
   "source": [
    "# Solution 24"
   ]
  },
  {
   "cell_type": "code",
   "execution_count": 30,
   "id": "306e7ba4",
   "metadata": {},
   "outputs": [
    {
     "data": {
      "text/plain": [
       "True"
      ]
     },
     "execution_count": 30,
     "metadata": {},
     "output_type": "execute_result"
    }
   ],
   "source": [
    "5 != 6"
   ]
  },
  {
   "cell_type": "code",
   "execution_count": null,
   "id": "c3de2ad9",
   "metadata": {},
   "outputs": [],
   "source": [
    "# Solución\n",
    "# D"
   ]
  },
  {
   "attachments": {},
   "cell_type": "markdown",
   "id": "0b1bda60",
   "metadata": {},
   "source": [
    "****"
   ]
  },
  {
   "attachments": {},
   "cell_type": "markdown",
   "id": "83f1ab10",
   "metadata": {},
   "source": [
    "# Question 25     (Basics) "
   ]
  },
  {
   "cell_type": "markdown",
   "id": "0e141bc0-1ff5-4528-beb2-b7952ff377f1",
   "metadata": {},
   "source": [
    "Which of the following variable names are illegal?\n",
    "\n",
    "(Select two answers)\n",
    "\n",
    "A. ```TRUE```\n",
    "\n",
    "B. ```True```\n",
    "\n",
    "C. ```true```\n",
    "\n",
    "D. ```and```"
   ]
  },
  {
   "attachments": {},
   "cell_type": "markdown",
   "id": "7cfac698",
   "metadata": {},
   "source": [
    "# Solution 25"
   ]
  },
  {
   "cell_type": "code",
   "execution_count": null,
   "id": "f440d25d",
   "metadata": {},
   "outputs": [],
   "source": [
    "# B y D\n",
    "\n",
    "# variables que no pueden llamarse asi, \n",
    "# son palabra reservada"
   ]
  },
  {
   "cell_type": "code",
   "execution_count": null,
   "id": "49850983",
   "metadata": {},
   "outputs": [],
   "source": [
    "TRUE = 23\n",
    "true = 42\n",
    "# True = 7  # SyntaxError: cannot assign to True\n",
    "# and = 7   # SyntaxError: invalid syntax"
   ]
  },
  {
   "attachments": {},
   "cell_type": "markdown",
   "id": "e3d8ca95",
   "metadata": {},
   "source": [
    "****"
   ]
  },
  {
   "attachments": {},
   "cell_type": "markdown",
   "id": "7900e7db",
   "metadata": {},
   "source": [
    "# Question 26     (Operators)"
   ]
  },
  {
   "cell_type": "markdown",
   "id": "445b412f-1b8d-4ebf-afad-33e7d9322a4c",
   "metadata": {},
   "source": [
    "What would you insert instead of ???\n",
    "\n",
    "so that the program checks for even numbers?\n",
    "\n",
    "```\n",
    "if ???:\n",
    "    print('x is an even number')\n",
    "```\n",
    "A. ```x % 2 == 0```\n",
    "\n",
    "B. ```x % 2 == 1```\n",
    "\n",
    "C. ```x % 1 == 2```\n",
    "\n",
    "D. ```x % x == 0```\n",
    "\n",
    "E. ```x % 'even' == True```"
   ]
  },
  {
   "attachments": {},
   "cell_type": "markdown",
   "id": "2ea540ea",
   "metadata": {},
   "source": [
    "# Solution 26"
   ]
  },
  {
   "cell_type": "code",
   "execution_count": 31,
   "id": "d8a5f57f",
   "metadata": {},
   "outputs": [
    {
     "name": "stdout",
     "output_type": "stream",
     "text": [
      "0 is an even number\n",
      "2 is an even number\n",
      "4 is an even number\n",
      "6 is an even number\n"
     ]
    }
   ],
   "source": [
    "# comprobación \n",
    "for x in range(7):\n",
    "    if x % 2 == 0:\n",
    "        print(x, 'is an even number')"
   ]
  },
  {
   "cell_type": "code",
   "execution_count": 32,
   "id": "1ee07258",
   "metadata": {},
   "outputs": [],
   "source": [
    "# Solución\n",
    "# A"
   ]
  },
  {
   "attachments": {},
   "cell_type": "markdown",
   "id": "48f14d2b",
   "metadata": {},
   "source": [
    "# IMPORTANTE"
   ]
  },
  {
   "attachments": {},
   "cell_type": "markdown",
   "id": "5b5a48a8",
   "metadata": {},
   "source": [
    "* EVEN => PAR\n",
    "* ODD  => IMPAR"
   ]
  },
  {
   "attachments": {},
   "cell_type": "markdown",
   "id": "f64c12d2",
   "metadata": {},
   "source": [
    "****"
   ]
  },
  {
   "attachments": {},
   "cell_type": "markdown",
   "id": "360a6702",
   "metadata": {},
   "source": [
    "# PREVIO AL EJERCICIO 27"
   ]
  },
  {
   "attachments": {},
   "cell_type": "markdown",
   "id": "b00f8de3",
   "metadata": {},
   "source": [
    "### EJEMPLO PREVIO CON data[::2]"
   ]
  },
  {
   "cell_type": "code",
   "execution_count": 33,
   "id": "cce0b7ab",
   "metadata": {},
   "outputs": [
    {
     "name": "stdout",
     "output_type": "stream",
     "text": [
      "[1, 3, 5, 7, 9]\n"
     ]
    }
   ],
   "source": [
    "# de un ejemplo previo vemos que seleccionando:\n",
    "# data[::2]\n",
    "\n",
    "# lo que tenemos es aquellos elementos desde el primero (índice 0) de 2 en 2\n",
    "\n",
    "a = [1, 2, 3, 4, 5, 6, 7, 8, 9]\n",
    "print(a[::2])"
   ]
  },
  {
   "attachments": {},
   "cell_type": "markdown",
   "id": "1dbab933",
   "metadata": {},
   "source": [
    "### EJEMPLO CON yield"
   ]
  },
  {
   "attachments": {},
   "cell_type": "markdown",
   "id": "2cac9865",
   "metadata": {},
   "source": [
    "# ITERABLES, GENERATORS, YIELD"
   ]
  },
  {
   "attachments": {},
   "cell_type": "markdown",
   "id": "60892545",
   "metadata": {},
   "source": [
    "## Iterables"
   ]
  },
  {
   "attachments": {},
   "cell_type": "markdown",
   "id": "3ac56c32",
   "metadata": {},
   "source": [
    "### Listas"
   ]
  },
  {
   "attachments": {},
   "cell_type": "markdown",
   "id": "00698b5c",
   "metadata": {},
   "source": [
    "Cuando creas una lista es posible leer los elementos (items) 1 a 1.\n",
    "\n",
    "A ello se le llama iteración"
   ]
  },
  {
   "cell_type": "code",
   "execution_count": 34,
   "id": "7d3cca54",
   "metadata": {},
   "outputs": [
    {
     "name": "stdout",
     "output_type": "stream",
     "text": [
      "10\n",
      "20\n",
      "30\n"
     ]
    }
   ],
   "source": [
    "# ejemplo\n",
    "\n",
    "listado = [10, 20, 30]\n",
    "for i in listado:\n",
    "    print(i)"
   ]
  },
  {
   "attachments": {},
   "cell_type": "markdown",
   "id": "652fc12c",
   "metadata": {},
   "source": [
    "### list comprehension"
   ]
  },
  {
   "cell_type": "code",
   "execution_count": null,
   "id": "4168ee41",
   "metadata": {},
   "outputs": [],
   "source": [
    "# list comprehension es el bucle FOR + IF en una sola línea\n",
    "\n",
    "# en este caso solamente bucle FOR y todo almacenado en una lista"
   ]
  },
  {
   "cell_type": "code",
   "execution_count": 35,
   "id": "ecdba384",
   "metadata": {},
   "outputs": [
    {
     "data": {
      "text/plain": [
       "[0, 1, 2]"
      ]
     },
     "execution_count": 35,
     "metadata": {},
     "output_type": "execute_result"
    }
   ],
   "source": [
    "listado = [i for i in range(3)]\n",
    "listado"
   ]
  },
  {
   "cell_type": "code",
   "execution_count": 36,
   "id": "0a8a0125",
   "metadata": {},
   "outputs": [
    {
     "name": "stdout",
     "output_type": "stream",
     "text": [
      "0\n",
      "1\n",
      "2\n"
     ]
    }
   ],
   "source": [
    "for i in listado:\n",
    "    print(i)"
   ]
  },
  {
   "attachments": {},
   "cell_type": "markdown",
   "id": "e9a69c98",
   "metadata": {},
   "source": [
    "## Generators"
   ]
  },
  {
   "cell_type": "code",
   "execution_count": null,
   "id": "dd56759e",
   "metadata": {},
   "outputs": [],
   "source": [
    "# similar a list comprehension\n",
    "\n",
    "# en vez de [] llevan ()\n",
    "\n",
    "# SOLO se pueden ejecutar 1 vez\n",
    "\n",
    "# después olvidan lo que tenían almacenado\n",
    "\n",
    "# entonces son iterables, pero no se almacenan\n",
    "\n",
    "# se dice que se generan \"on the fly\""
   ]
  },
  {
   "cell_type": "code",
   "execution_count": 37,
   "id": "16e5e803",
   "metadata": {},
   "outputs": [
    {
     "data": {
      "text/plain": [
       "<generator object <genexpr> at 0x7f1b84114c80>"
      ]
     },
     "execution_count": 37,
     "metadata": {},
     "output_type": "execute_result"
    }
   ],
   "source": [
    "\"\"\"\n",
    "listado = [i for i in range(3)]     LIST COMPREHENSION\n",
    "listado\n",
    "\"\"\"\n",
    "\n",
    "generador = (i for i in range(3))   # RANGE(3) ==> 0,1,2\n",
    "generador"
   ]
  },
  {
   "cell_type": "code",
   "execution_count": 38,
   "id": "f4fa6546",
   "metadata": {},
   "outputs": [
    {
     "data": {
      "text/plain": [
       "generator"
      ]
     },
     "execution_count": 38,
     "metadata": {},
     "output_type": "execute_result"
    }
   ],
   "source": [
    "type(generador)"
   ]
  },
  {
   "cell_type": "code",
   "execution_count": 39,
   "id": "9f22b35c",
   "metadata": {},
   "outputs": [
    {
     "name": "stdout",
     "output_type": "stream",
     "text": [
      "0\n",
      "1\n",
      "2\n"
     ]
    }
   ],
   "source": [
    "for elemento in generador:\n",
    "    print(elemento)"
   ]
  },
  {
   "cell_type": "code",
   "execution_count": 40,
   "id": "56c32e46",
   "metadata": {},
   "outputs": [],
   "source": [
    "for j in generador:\n",
    "    print(j)"
   ]
  },
  {
   "cell_type": "code",
   "execution_count": null,
   "id": "596a7ad6",
   "metadata": {},
   "outputs": [],
   "source": [
    "# esta segunda vez no ejecuta"
   ]
  },
  {
   "attachments": {},
   "cell_type": "markdown",
   "id": "c079e155",
   "metadata": {},
   "source": [
    "****"
   ]
  },
  {
   "attachments": {},
   "cell_type": "markdown",
   "id": "8693c3e2",
   "metadata": {},
   "source": [
    "## Yield"
   ]
  },
  {
   "cell_type": "code",
   "execution_count": null,
   "id": "38d69be9",
   "metadata": {},
   "outputs": [],
   "source": [
    "# yield es una keyword \n",
    "# es usada como por ejemplo return pero en el que la función retornará un generador."
   ]
  },
  {
   "cell_type": "code",
   "execution_count": 41,
   "id": "6591f015",
   "metadata": {},
   "outputs": [],
   "source": [
    "def create_generator():\n",
    "    valores = range(3)     # 0-1-2\n",
    "    for i in valores:      # 0-1-2\n",
    "        yield i*i          # yield (0-1-4)"
   ]
  },
  {
   "cell_type": "code",
   "execution_count": 42,
   "id": "9709530c",
   "metadata": {},
   "outputs": [
    {
     "name": "stdout",
     "output_type": "stream",
     "text": [
      "<generator object create_generator at 0x7f1b840b7040>\n"
     ]
    }
   ],
   "source": [
    "generador_2 = create_generator()   # create a generator\n",
    "print(generador_2)                 # generador is an object!"
   ]
  },
  {
   "cell_type": "code",
   "execution_count": 43,
   "id": "c7509260",
   "metadata": {},
   "outputs": [
    {
     "name": "stdout",
     "output_type": "stream",
     "text": [
      "0\n",
      "1\n",
      "4\n"
     ]
    }
   ],
   "source": [
    "for j in generador_2:\n",
    "    print(j)"
   ]
  },
  {
   "cell_type": "code",
   "execution_count": 44,
   "id": "40dec51c",
   "metadata": {},
   "outputs": [],
   "source": [
    "for x in generador_2:\n",
    "    print(x)"
   ]
  },
  {
   "cell_type": "code",
   "execution_count": null,
   "id": "1a10fb77",
   "metadata": {},
   "outputs": [],
   "source": [
    "# o incluso.."
   ]
  },
  {
   "cell_type": "code",
   "execution_count": 45,
   "id": "3e33cb20",
   "metadata": {},
   "outputs": [],
   "source": [
    "def create_generator():\n",
    "    valores = range(3)    # 0-1-2\n",
    "    for i in valores:     # 0-1-2\n",
    "        yield i*i         # yield (0-1-4)"
   ]
  },
  {
   "cell_type": "code",
   "execution_count": 46,
   "id": "0942aed0",
   "metadata": {},
   "outputs": [
    {
     "name": "stdout",
     "output_type": "stream",
     "text": [
      "0\n",
      "1\n",
      "4\n"
     ]
    }
   ],
   "source": [
    "for j in create_generator():\n",
    "    print(j)"
   ]
  },
  {
   "attachments": {},
   "cell_type": "markdown",
   "id": "0d66e8be",
   "metadata": {},
   "source": [
    "****"
   ]
  },
  {
   "attachments": {},
   "cell_type": "markdown",
   "id": "9d330df2",
   "metadata": {},
   "source": [
    "****"
   ]
  },
  {
   "attachments": {},
   "cell_type": "markdown",
   "id": "423d9c69",
   "metadata": {},
   "source": [
    "# Question 27 (Functions)\n",
    "\n",
    "CONTENIDO EXTRA AL FINAL DEL DOCUMENTO"
   ]
  },
  {
   "cell_type": "markdown",
   "id": "4cd47556-1f88-4049-9b8e-f6a0178ef6e7",
   "metadata": {},
   "source": [
    "What is the expected output of the following code?\n",
    "```\n",
    "def func(data):\n",
    "    for d in data[::2]:\n",
    "        yield d\n",
    "\n",
    "for x in func('abcdef'):\n",
    "    print(x, end='')\n",
    "```\n",
    "\n",
    "A. ```bdf```\n",
    "\n",
    "B. ```abcdef```\n",
    "\n",
    "C. ```ace```\n",
    "\n",
    "D. An empty line"
   ]
  },
  {
   "attachments": {},
   "cell_type": "markdown",
   "id": "05d8aa34",
   "metadata": {},
   "source": [
    "# Solution 27"
   ]
  },
  {
   "cell_type": "code",
   "execution_count": 5,
   "id": "1395291d",
   "metadata": {},
   "outputs": [
    {
     "name": "stdout",
     "output_type": "stream",
     "text": [
      "ace"
     ]
    }
   ],
   "source": [
    "def func(data):\n",
    "    for d in data[::2]:\n",
    "        yield d\n",
    "\n",
    "for x in func('abcdef'):\n",
    "    print(x, end='')"
   ]
  },
  {
   "cell_type": "code",
   "execution_count": null,
   "id": "b0d767bb",
   "metadata": {},
   "outputs": [],
   "source": [
    "# Solución\n",
    "# C"
   ]
  },
  {
   "attachments": {},
   "cell_type": "markdown",
   "id": "94724fac",
   "metadata": {},
   "source": [
    "****"
   ]
  },
  {
   "attachments": {},
   "cell_type": "markdown",
   "id": "acf12e8c",
   "metadata": {},
   "source": [
    "# Question 28    (Basics) "
   ]
  },
  {
   "cell_type": "markdown",
   "id": "c392b460-3d2a-4e24-b087-e02d28dede67",
   "metadata": {},
   "source": [
    "Python is an example of:\n",
    "\n",
    "A. a natural language\n",
    "\n",
    "B. a high-level programming language\n",
    "\n",
    "C. a machine language"
   ]
  },
  {
   "attachments": {},
   "cell_type": "markdown",
   "id": "d2979c06",
   "metadata": {},
   "source": [
    "# Solution 28"
   ]
  },
  {
   "cell_type": "code",
   "execution_count": null,
   "id": "8940526f",
   "metadata": {},
   "outputs": [],
   "source": [
    "# Solución\n",
    "# B"
   ]
  },
  {
   "attachments": {},
   "cell_type": "markdown",
   "id": "c4b8d574",
   "metadata": {},
   "source": [
    "****"
   ]
  },
  {
   "attachments": {},
   "cell_type": "markdown",
   "id": "798b3726",
   "metadata": {},
   "source": [
    "# Question 29   (Functions)  "
   ]
  },
  {
   "cell_type": "markdown",
   "id": "78093978-46d6-4ded-ac13-c0802b003600",
   "metadata": {},
   "source": [
    "What is the expected output of the following code?\n",
    "```\n",
    "def fun():\n",
    "    return True\n",
    "x = fun(False)\n",
    "print(x)\n",
    "```\n",
    "A. ```True```\n",
    "\n",
    "B. ```False```\n",
    "\n",
    "C. ```1```\n",
    "\n",
    "D. The program will cause an error"
   ]
  },
  {
   "attachments": {},
   "cell_type": "markdown",
   "id": "6ad5d7a2",
   "metadata": {},
   "source": [
    "# Solution 29"
   ]
  },
  {
   "cell_type": "code",
   "execution_count": null,
   "id": "7476a918",
   "metadata": {},
   "outputs": [],
   "source": [
    "\"\"\"\n",
    "def fun():\n",
    "    return True\n",
    "x = fun(False)\n",
    "print(x)\n",
    "\"\"\"\n",
    "\n",
    "# TypeError: fun() takes 0 positional arguments but 1 was given"
   ]
  },
  {
   "cell_type": "code",
   "execution_count": null,
   "id": "cdb072f4",
   "metadata": {},
   "outputs": [],
   "source": [
    "# Solución\n",
    "# D"
   ]
  },
  {
   "attachments": {},
   "cell_type": "markdown",
   "id": "78010548",
   "metadata": {},
   "source": [
    "****"
   ]
  },
  {
   "attachments": {},
   "cell_type": "markdown",
   "id": "eb31e191",
   "metadata": {},
   "source": [
    "# Question 30    (Operators)"
   ]
  },
  {
   "cell_type": "markdown",
   "id": "3c37d97d-c742-4014-a9b1-6d448dae5f53",
   "metadata": {},
   "source": [
    "What value will be assigned to the x variable?\n",
    "```\n",
    "z = 3\n",
    "y = 7\n",
    "x = y < z and z > y or y > z and z < y\n",
    "```\n",
    "A. ```1```\n",
    "\n",
    "B. ```0```\n",
    "\n",
    "C. ```False```\n",
    "\n",
    "D. ```True```"
   ]
  },
  {
   "attachments": {},
   "cell_type": "markdown",
   "id": "87bafe8c",
   "metadata": {},
   "source": [
    "# Solution 30"
   ]
  },
  {
   "cell_type": "code",
   "execution_count": null,
   "id": "d63fad4b",
   "metadata": {},
   "outputs": [],
   "source": [
    "z = 3\n",
    "y = 7\n",
    "x   =  y < z and z > y  or  y > z and z < y\n",
    "# x = (False and False) or (True  and True) => True\n",
    "# x =         F         or       T\n",
    "# x =                   T"
   ]
  },
  {
   "cell_type": "code",
   "execution_count": 47,
   "id": "6ceb6f6b",
   "metadata": {},
   "outputs": [
    {
     "name": "stdout",
     "output_type": "stream",
     "text": [
      "True\n"
     ]
    }
   ],
   "source": [
    "z = 3\n",
    "y = 7\n",
    "x = y < z and z > y or y > z and z < y\n",
    "print(x)"
   ]
  },
  {
   "cell_type": "code",
   "execution_count": null,
   "id": "0349b5d0",
   "metadata": {},
   "outputs": [],
   "source": [
    "# Solución\n",
    "# D"
   ]
  },
  {
   "attachments": {},
   "cell_type": "markdown",
   "id": "418e9f7a",
   "metadata": {},
   "source": [
    "****"
   ]
  },
  {
   "attachments": {},
   "cell_type": "markdown",
   "id": "5260296d",
   "metadata": {},
   "source": [
    "*Gracias por la atención*\n",
    "\n",
    "*Isabel Maniega*"
   ]
  }
 ],
 "metadata": {
  "kernelspec": {
   "display_name": "Python 3 (ipykernel)",
   "language": "python",
   "name": "python3"
  },
  "language_info": {
   "codemirror_mode": {
    "name": "ipython",
    "version": 3
   },
   "file_extension": ".py",
   "mimetype": "text/x-python",
   "name": "python",
   "nbconvert_exporter": "python",
   "pygments_lexer": "ipython3",
   "version": "3.8.19"
  }
 },
 "nbformat": 4,
 "nbformat_minor": 5
}

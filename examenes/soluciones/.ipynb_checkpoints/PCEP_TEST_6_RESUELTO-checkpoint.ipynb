{
 "cells": [
  {
   "cell_type": "markdown",
   "id": "93d63b59",
   "metadata": {},
   "source": [
    "*Contenido creado por: Isabel Maniega*"
   ]
  },
  {
   "cell_type": "markdown",
   "id": "fa565dd8",
   "metadata": {},
   "source": [
    "****"
   ]
  },
  {
   "cell_type": "markdown",
   "id": "a4555ca7",
   "metadata": {},
   "source": [
    "# Question 1 "
   ]
  },
  {
   "cell_type": "markdown",
   "id": "7350bfc4-37a0-4e10-b644-a14328e0cfb5",
   "metadata": {},
   "source": [
    "Select the true statements about the try-except block in relation to the following example.\n",
    "\n",
    "```\n",
    "try:\n",
    "    # Some code is here...\n",
    "except:\n",
    "    # Some code is here...\n",
    "```\n",
    "\n",
    "(Select three answers.)\n",
    "\n",
    "\n",
    "A. \n",
    "If you suspect that a snippet may raise an exception,\n",
    "you should place it in the try block\n",
    "\n",
    "B. \n",
    "The code that follows the except statement will be executed\n",
    "if the code in the try clause runs into an error\n",
    "\n",
    "C. \n",
    "The code that follows the try statement will be executed\n",
    "if the code in the except clause runs into an error\n",
    "\n",
    "D. \n",
    "if there is a syntax error in the code located in the try block,\n",
    "the except branch will not handle it,\n",
    "and a SyntaxError exception will be raised instead"
   ]
  },
  {
   "cell_type": "markdown",
   "id": "15cca6af",
   "metadata": {},
   "source": [
    "# Solution 1"
   ]
  },
  {
   "cell_type": "code",
   "execution_count": 2,
   "id": "13648a96",
   "metadata": {},
   "outputs": [],
   "source": [
    "# A, B y D"
   ]
  },
  {
   "cell_type": "markdown",
   "id": "3adc8164",
   "metadata": {},
   "source": [
    "****"
   ]
  },
  {
   "cell_type": "markdown",
   "id": "167b5041",
   "metadata": {},
   "source": [
    "# Question 2 (Basics)"
   ]
  },
  {
   "cell_type": "markdown",
   "id": "2fecc6d7-cc11-4659-9eda-a81d3f87e557",
   "metadata": {},
   "source": [
    "What is the expected behavior of the following program?\n",
    "\n",
    "```\n",
    "print(\"Hello!\")\n",
    "```\n",
    "\n",
    "A. The program will generate an error on the screen\n",
    "\n",
    "B. The program will output ```Hello!``` to the screen\n",
    "\n",
    "C. The program will output ```('Hello!')``` to the screen\n",
    "\n",
    "D. The program will output ```\"Hello!\"``` to the screen"
   ]
  },
  {
   "cell_type": "markdown",
   "id": "69a2d0be",
   "metadata": {},
   "source": [
    "# Solution 2"
   ]
  },
  {
   "cell_type": "code",
   "execution_count": 4,
   "id": "f2e51eec",
   "metadata": {},
   "outputs": [
    {
     "name": "stdout",
     "output_type": "stream",
     "text": [
      "Hello!\n"
     ]
    }
   ],
   "source": [
    "print(\"Hello!\")"
   ]
  },
  {
   "cell_type": "code",
   "execution_count": 5,
   "id": "c255117f",
   "metadata": {},
   "outputs": [],
   "source": [
    "# Solución\n",
    "# B"
   ]
  },
  {
   "cell_type": "markdown",
   "id": "1501ca57",
   "metadata": {},
   "source": [
    "****"
   ]
  },
  {
   "cell_type": "markdown",
   "id": "61071738",
   "metadata": {},
   "source": [
    "# Question 3  (Control Flow) "
   ]
  },
  {
   "cell_type": "markdown",
   "id": "5026369d-b0f1-4d0f-a2d2-491cbf9ba713",
   "metadata": {},
   "source": [
    "How many stars will the following snippet print to the monitor?\n",
    "```\n",
    "data = [[x for x in range(y)] for y in range(3)]\n",
    " \n",
    "for d in data:\n",
    "    if len(d) < 2:\n",
    "        print('*')\n",
    "```\n",
    "\n",
    "A. two\n",
    "\n",
    "B. zero\n",
    "\n",
    "C. three\n",
    "\n",
    "D. one"
   ]
  },
  {
   "cell_type": "markdown",
   "id": "6df2bae3",
   "metadata": {},
   "source": [
    "# Solution 3"
   ]
  },
  {
   "cell_type": "code",
   "execution_count": 7,
   "id": "ef424ca5",
   "metadata": {},
   "outputs": [
    {
     "data": {
      "text/plain": [
       "[[], [0], [0, 1]]"
      ]
     },
     "execution_count": 7,
     "metadata": {},
     "output_type": "execute_result"
    }
   ],
   "source": [
    "data = [[x for x in range(y)] for y in range(3)]\n",
    "data"
   ]
  },
  {
   "cell_type": "code",
   "execution_count": 8,
   "id": "0f584e0b",
   "metadata": {},
   "outputs": [],
   "source": [
    "# que viene de:\n",
    "\n",
    "# sabemos que range(3) es 0-1-2\n",
    "# entonces:\n",
    "# for y in range(3) ==> y=0, y=1, y=2"
   ]
  },
  {
   "cell_type": "code",
   "execution_count": 9,
   "id": "366e9b8b",
   "metadata": {},
   "outputs": [
    {
     "data": {
      "text/plain": [
       "array([], dtype=int64)"
      ]
     },
     "execution_count": 9,
     "metadata": {},
     "output_type": "execute_result"
    }
   ],
   "source": [
    "import numpy as np\n",
    "np.arange(0)"
   ]
  },
  {
   "cell_type": "code",
   "execution_count": 10,
   "id": "f87abba1",
   "metadata": {},
   "outputs": [
    {
     "data": {
      "text/plain": [
       "[]"
      ]
     },
     "execution_count": 10,
     "metadata": {},
     "output_type": "execute_result"
    }
   ],
   "source": [
    "[x for x in range(0)]    # range(0) está vacío, sin elementos, longitud 0"
   ]
  },
  {
   "cell_type": "code",
   "execution_count": 11,
   "id": "8689178d",
   "metadata": {},
   "outputs": [
    {
     "data": {
      "text/plain": [
       "[0]"
      ]
     },
     "execution_count": 11,
     "metadata": {},
     "output_type": "execute_result"
    }
   ],
   "source": [
    "[x for x in range(1)]"
   ]
  },
  {
   "cell_type": "code",
   "execution_count": 12,
   "id": "70ce3990",
   "metadata": {},
   "outputs": [
    {
     "data": {
      "text/plain": [
       "[0, 1]"
      ]
     },
     "execution_count": 12,
     "metadata": {},
     "output_type": "execute_result"
    }
   ],
   "source": [
    "[x for x in range(2)]"
   ]
  },
  {
   "cell_type": "code",
   "execution_count": 13,
   "id": "0e23d2a1",
   "metadata": {},
   "outputs": [],
   "source": [
    "# ahora vemos el bucle for"
   ]
  },
  {
   "cell_type": "code",
   "execution_count": 14,
   "id": "21a7aa5a",
   "metadata": {},
   "outputs": [
    {
     "data": {
      "text/plain": [
       "[[], [0], [0, 1]]"
      ]
     },
     "execution_count": 14,
     "metadata": {},
     "output_type": "execute_result"
    }
   ],
   "source": [
    "data"
   ]
  },
  {
   "cell_type": "code",
   "execution_count": 15,
   "id": "81cc65c3",
   "metadata": {},
   "outputs": [
    {
     "name": "stdout",
     "output_type": "stream",
     "text": [
      "d= []\n",
      "*\n",
      "d= [0]\n",
      "*\n",
      "\n",
      "\n",
      "d de longitud >=2 [0, 1]\n"
     ]
    }
   ],
   "source": [
    "for d in data:\n",
    "    if len(d) < 2:\n",
    "        print('d=', d)\n",
    "        print('*')\n",
    "    else:\n",
    "        print('\\n')\n",
    "        print('d de longitud >=2', d)"
   ]
  },
  {
   "cell_type": "code",
   "execution_count": 16,
   "id": "fc5236dd",
   "metadata": {},
   "outputs": [],
   "source": [
    "# todo de un paso.."
   ]
  },
  {
   "cell_type": "code",
   "execution_count": 17,
   "id": "13e02413",
   "metadata": {},
   "outputs": [
    {
     "name": "stdout",
     "output_type": "stream",
     "text": [
      "[[], [0], [0, 1]]\n",
      "*\n",
      "*\n"
     ]
    }
   ],
   "source": [
    "data = [[x for x in range(y)] for y in range(3)]\n",
    "\n",
    "# range(3) -> 0,1,2 => 0, 1, 2\n",
    "# \n",
    "print(data)\n",
    "\n",
    "for d in data:\n",
    "    if len(d) < 2:\n",
    "        print('*')"
   ]
  },
  {
   "cell_type": "code",
   "execution_count": 18,
   "id": "709bef60",
   "metadata": {},
   "outputs": [],
   "source": [
    "# Solución\n",
    "# A"
   ]
  },
  {
   "cell_type": "markdown",
   "id": "f7dd0f21",
   "metadata": {},
   "source": [
    "****"
   ]
  },
  {
   "cell_type": "markdown",
   "id": "38b1d35a",
   "metadata": {},
   "source": [
    "# Question 4  (Operators)"
   ]
  },
  {
   "cell_type": "markdown",
   "id": "d3b88a66-5cab-45e1-a6cd-06c0866ca510",
   "metadata": {},
   "source": [
    "What is the expected output of the following code?\n",
    "\n",
    "```\n",
    "print(type(1 / 2))\n",
    "```\n",
    "\n",
    "A. ```<type 'int'>```\n",
    "\n",
    "B. ```<type 'number'>```\n",
    "\n",
    "C. ```<type 'float'>```\n",
    "\n",
    "D. ```<type 'double'>```\n",
    "\n",
    "E. ```<type 'tuple'>```"
   ]
  },
  {
   "cell_type": "markdown",
   "id": "6ef0bdef",
   "metadata": {},
   "source": [
    "# Solution 4"
   ]
  },
  {
   "cell_type": "code",
   "execution_count": 20,
   "id": "3d01495b",
   "metadata": {},
   "outputs": [
    {
     "name": "stdout",
     "output_type": "stream",
     "text": [
      "<class 'float'>\n"
     ]
    }
   ],
   "source": [
    "print(type(1 / 2))"
   ]
  },
  {
   "cell_type": "code",
   "execution_count": 21,
   "id": "a3c0a284",
   "metadata": {},
   "outputs": [],
   "source": [
    "# Solución\n",
    "# C"
   ]
  },
  {
   "cell_type": "markdown",
   "id": "08335cfd",
   "metadata": {},
   "source": [
    "****"
   ]
  },
  {
   "cell_type": "markdown",
   "id": "fd673e99",
   "metadata": {},
   "source": [
    "# Question 5  (Functions)"
   ]
  },
  {
   "cell_type": "markdown",
   "id": "3ee9e210-ca28-4ade-a6aa-510b407af123",
   "metadata": {},
   "source": [
    "What is the expected output of the following code?\n",
    "\n",
    "```\n",
    "def func(x):\n",
    "    global y\n",
    "    y = x * x\n",
    "    return y\n",
    " \n",
    "func(2)\n",
    "print(y)\n",
    "```\n",
    "\n",
    "A. ```4```\n",
    "\n",
    "B. ```2```\n",
    "\n",
    "C. The code is erroneous\n",
    "\n",
    "D. ```None```"
   ]
  },
  {
   "cell_type": "markdown",
   "id": "2d0e1c55",
   "metadata": {},
   "source": [
    "# Solution 5"
   ]
  },
  {
   "cell_type": "code",
   "execution_count": 23,
   "id": "e30322f3",
   "metadata": {},
   "outputs": [
    {
     "name": "stdout",
     "output_type": "stream",
     "text": [
      "4\n"
     ]
    }
   ],
   "source": [
    "def func(x):\n",
    "    global y\n",
    "    y = x * x\n",
    "    return y\n",
    " \n",
    "\n",
    "func(2)  # return 4\n",
    "print(y) # 4"
   ]
  },
  {
   "cell_type": "code",
   "execution_count": 24,
   "id": "e17dc18c",
   "metadata": {},
   "outputs": [],
   "source": [
    "# Solución\n",
    "# A"
   ]
  },
  {
   "cell_type": "markdown",
   "id": "7e106f68",
   "metadata": {},
   "source": [
    "**Aclaraciones:**\n",
    "\n",
    "**si lo ponemos en celdas separadas lo vemos 2 veces**"
   ]
  },
  {
   "cell_type": "code",
   "execution_count": 25,
   "id": "9c5264bd",
   "metadata": {},
   "outputs": [
    {
     "data": {
      "text/plain": [
       "4"
      ]
     },
     "execution_count": 25,
     "metadata": {},
     "output_type": "execute_result"
    }
   ],
   "source": [
    "def func(x):\n",
    "    global y\n",
    "    y = x * x\n",
    "    return y\n",
    " \n",
    "\n",
    "func(2)  # return 4"
   ]
  },
  {
   "cell_type": "code",
   "execution_count": 26,
   "id": "02cc7dca",
   "metadata": {},
   "outputs": [
    {
     "name": "stdout",
     "output_type": "stream",
     "text": [
      "4\n"
     ]
    }
   ],
   "source": [
    "print(y) # 4"
   ]
  },
  {
   "cell_type": "markdown",
   "id": "745519ae",
   "metadata": {},
   "source": [
    "**Aclaraciones:**\n",
    "\n",
    "**si ponemos 2 print, veremos como lo imprime 2 veces en la misma celda**"
   ]
  },
  {
   "cell_type": "code",
   "execution_count": 27,
   "id": "8bba25ff",
   "metadata": {},
   "outputs": [
    {
     "name": "stdout",
     "output_type": "stream",
     "text": [
      "4\n",
      "4\n"
     ]
    }
   ],
   "source": [
    "def func(x):\n",
    "    global y\n",
    "    y = x * x\n",
    "    return y\n",
    " \n",
    "\n",
    "print(func(2))  # return 4\n",
    "print(y) # 4"
   ]
  },
  {
   "cell_type": "markdown",
   "id": "6ace650b",
   "metadata": {},
   "source": [
    "****"
   ]
  },
  {
   "cell_type": "markdown",
   "id": "d5822cbe",
   "metadata": {},
   "source": [
    "# Question 6  (Operators) \n",
    "\n",
    "OJO NO ES ELEVADO A COMO CALCULADORA\n",
    "\n",
    "ES XOR"
   ]
  },
  {
   "cell_type": "markdown",
   "id": "93b632fe-d281-42bc-93bb-41a56643b2e6",
   "metadata": {},
   "source": [
    "What is the expected output of the following code?\n",
    "```\n",
    "x = 0\n",
    "y = 1\n",
    "x = x ^ y\n",
    "y = x ^ y\n",
    "y = x ^ y\n",
    "print(x, y)\n",
    "```\n",
    "\n",
    "A. ```1 0```\n",
    "\n",
    "B. ```0 0```\n",
    "\n",
    "C. ```0 1```\n",
    "\n",
    "D. ```1 1```\n",
    "\n",
    "E. The code is erroneous"
   ]
  },
  {
   "cell_type": "markdown",
   "id": "1eb0530f",
   "metadata": {},
   "source": [
    "# Solution 6"
   ]
  },
  {
   "cell_type": "code",
   "execution_count": 29,
   "id": "a60027de",
   "metadata": {},
   "outputs": [
    {
     "name": "stdout",
     "output_type": "stream",
     "text": [
      "XOR (de 0^1) : 1\n",
      "elevado a (de por ejemplo 0**1): 0\n"
     ]
    }
   ],
   "source": [
    "# NO CONFUNDIR !!!!!\n",
    "\n",
    "print('XOR (de 0^1) :', 0^1, )\n",
    "print('elevado a (de por ejemplo 0**1):', 0**1)"
   ]
  },
  {
   "cell_type": "code",
   "execution_count": 30,
   "id": "1e5e2941",
   "metadata": {},
   "outputs": [
    {
     "data": {
      "text/plain": [
       "'\\nTABLA DE VERDAD DE OR EXCLUSIVA (XOR)\\n\\nA B  S\\n0 0  0\\n0 1  1\\n1 0  1\\n1 1  0\\n\\nHay 1 en la salida (S) SI y solo SI,\\n1 de las entradas está a 1, \\nPERO NO LAS 2 AL MISMO TIEMPO\\n\"es exclusiva de una o de la otra\"\\n'"
      ]
     },
     "execution_count": 30,
     "metadata": {},
     "output_type": "execute_result"
    }
   ],
   "source": [
    "'''\n",
    "TABLA DE VERDAD DE OR EXCLUSIVA (XOR)\n",
    "\n",
    "A B  S\n",
    "0 0  0\n",
    "0 1  1\n",
    "1 0  1\n",
    "1 1  0\n",
    "\n",
    "Hay 1 en la salida (S) SI y solo SI,\n",
    "1 de las entradas está a 1, \n",
    "PERO NO LAS 2 AL MISMO TIEMPO\n",
    "\"es exclusiva de una o de la otra\"\n",
    "'''"
   ]
  },
  {
   "cell_type": "code",
   "execution_count": 31,
   "id": "dea699a0",
   "metadata": {},
   "outputs": [
    {
     "name": "stdout",
     "output_type": "stream",
     "text": [
      "XOR: 0 1 1 0\n"
     ]
    }
   ],
   "source": [
    "print('XOR:', 0^0, 0^1, 1^0, 1^1)"
   ]
  },
  {
   "cell_type": "code",
   "execution_count": 32,
   "id": "99c7a1e5",
   "metadata": {},
   "outputs": [
    {
     "name": "stdout",
     "output_type": "stream",
     "text": [
      "1 1\n"
     ]
    }
   ],
   "source": [
    "x = 0\n",
    "y = 1\n",
    "x = x ^ y    # x = 0 ^ 1 => x = 1\n",
    "y = x ^ y    # y = 1 ^ 1 => y = 0\n",
    "y = x ^ y    # y = 1 ^ 0 => y = 1\n",
    "print(x, y)  # x = 1   y = 1"
   ]
  },
  {
   "cell_type": "code",
   "execution_count": 33,
   "id": "4da3cdd2",
   "metadata": {},
   "outputs": [],
   "source": [
    "# Solución\n",
    "# D"
   ]
  },
  {
   "cell_type": "markdown",
   "id": "bf12b6cf",
   "metadata": {},
   "source": [
    "****"
   ]
  },
  {
   "cell_type": "markdown",
   "id": "bfc29f19",
   "metadata": {},
   "source": [
    "# Question 7  (Data Aggregates)"
   ]
  },
  {
   "cell_type": "markdown",
   "id": "7ef37c39-7798-433c-a2ab-962c417f5d96",
   "metadata": {},
   "source": [
    "How many elements does the L list contain?\n",
    "\n",
    "```\n",
    "L = [i for i in range(-1, -2)]\n",
    "```\n",
    "A. zero\n",
    "\n",
    "B. two\n",
    "\n",
    "C. three\n",
    "\n",
    "D. one"
   ]
  },
  {
   "cell_type": "markdown",
   "id": "48b0fcb3",
   "metadata": {},
   "source": [
    "# Solution 7"
   ]
  },
  {
   "cell_type": "code",
   "execution_count": 2,
   "id": "a80a5907",
   "metadata": {},
   "outputs": [
    {
     "name": "stdout",
     "output_type": "stream",
     "text": [
      "[]\n",
      "0\n"
     ]
    }
   ],
   "source": [
    "L = [i for i in range(-1, -2)]\n",
    "\n",
    "# compruebo\n",
    "print(L)      # []\n",
    "print(len(L)) # 0"
   ]
  },
  {
   "cell_type": "code",
   "execution_count": 36,
   "id": "5ec479ed",
   "metadata": {},
   "outputs": [],
   "source": [
    "# Solución\n",
    "# A"
   ]
  },
  {
   "cell_type": "markdown",
   "id": "0fdfe257",
   "metadata": {},
   "source": [
    "****"
   ]
  },
  {
   "cell_type": "markdown",
   "id": "87af2e05",
   "metadata": {},
   "source": [
    "# Question 8   (Data Types)"
   ]
  },
  {
   "cell_type": "markdown",
   "id": "f6d14663-69a2-4260-b15e-19d16e6291f1",
   "metadata": {},
   "source": [
    "Consider the following python code:\n",
    "```\n",
    "x1 = '23'\n",
    "y1 = 7\n",
    "z1 = x1 * y1\n",
    " \n",
    "x2 = 42\n",
    "y2 = 7\n",
    "z2 = x2 / y2\n",
    " \n",
    "x3 = 4.7\n",
    "y3 = 1\n",
    "z3 = x3 / y3\n",
    "```\n",
    "\n",
    "What are the data types of the variables z1, z2 and z3?\n",
    "\n",
    "\n",
    "A. ```str, float, float```\n",
    "\n",
    "B. ```str, int, int```\n",
    "\n",
    "C. ```str, int, float```\n",
    "\n",
    "D. ```str, str, str```"
   ]
  },
  {
   "cell_type": "markdown",
   "id": "d738a756",
   "metadata": {},
   "source": [
    "# Solution 8"
   ]
  },
  {
   "cell_type": "code",
   "execution_count": 38,
   "id": "e5342002",
   "metadata": {},
   "outputs": [],
   "source": [
    "x1 = '23'\n",
    "y1 = 7\n",
    "z1 = x1 * y1    # 23 (7 veces) => str\n",
    " \n",
    "x2 = 42\n",
    "y2 = 7\n",
    "z2 = x2 / y2    # 6.0          => float\n",
    " \n",
    "x3 = 4.7\n",
    "y3 = 1\n",
    "z3 = x3 / y3    # 4.7          => float"
   ]
  },
  {
   "cell_type": "code",
   "execution_count": 39,
   "id": "0ea2267c",
   "metadata": {},
   "outputs": [],
   "source": [
    "# type(z1, z2, z3)\n",
    "\n",
    "# TypeError: \n",
    "# type.__new__() argument 2 must be tuple, not float"
   ]
  },
  {
   "cell_type": "code",
   "execution_count": 40,
   "id": "2389cb3f",
   "metadata": {},
   "outputs": [
    {
     "data": {
      "text/plain": [
       "('23232323232323', 6.0, 4.7)"
      ]
     },
     "execution_count": 40,
     "metadata": {},
     "output_type": "execute_result"
    }
   ],
   "source": [
    "z1, z2, z3"
   ]
  },
  {
   "cell_type": "code",
   "execution_count": 41,
   "id": "54011d95",
   "metadata": {},
   "outputs": [
    {
     "data": {
      "text/plain": [
       "(str, float, float)"
      ]
     },
     "execution_count": 41,
     "metadata": {},
     "output_type": "execute_result"
    }
   ],
   "source": [
    "type(z1), type(z2), type(z3)"
   ]
  },
  {
   "cell_type": "code",
   "execution_count": 42,
   "id": "9b0dd509",
   "metadata": {},
   "outputs": [],
   "source": [
    "# Solución\n",
    "# A"
   ]
  },
  {
   "cell_type": "markdown",
   "id": "3b81f151",
   "metadata": {},
   "source": [
    "****"
   ]
  },
  {
   "cell_type": "markdown",
   "id": "ada0a953",
   "metadata": {},
   "source": [
    "# Question 9  (Operators)"
   ]
  },
  {
   "cell_type": "markdown",
   "id": "7bcb3799-ce04-4ea7-87ae-709a881f7708",
   "metadata": {},
   "source": [
    "The ```**``` operator ...\n",
    "\n",
    "\n",
    "A. performs floating-point multiplication\n",
    "\n",
    "B. performs exponentiation\n",
    "\n",
    "C. does not exist\n",
    "\n",
    "D. performs duplicated multiplication"
   ]
  },
  {
   "cell_type": "markdown",
   "id": "77776116",
   "metadata": {},
   "source": [
    "# Solution 9"
   ]
  },
  {
   "cell_type": "code",
   "execution_count": 44,
   "id": "c6ff51be",
   "metadata": {},
   "outputs": [
    {
     "data": {
      "text/plain": [
       "8"
      ]
     },
     "execution_count": 44,
     "metadata": {},
     "output_type": "execute_result"
    }
   ],
   "source": [
    "2**3  # 2*2*2"
   ]
  },
  {
   "cell_type": "code",
   "execution_count": 45,
   "id": "b7073610",
   "metadata": {},
   "outputs": [],
   "source": [
    "# Solución\n",
    "# B"
   ]
  },
  {
   "cell_type": "markdown",
   "id": "2065b257",
   "metadata": {},
   "source": [
    "****"
   ]
  },
  {
   "cell_type": "markdown",
   "id": "3e7706c0",
   "metadata": {},
   "source": [
    "# Question 10   (Data Aggregates)"
   ]
  },
  {
   "cell_type": "markdown",
   "id": "0d8c28fb-8fd5-4b61-ad63-8e2fa48b468c",
   "metadata": {},
   "source": [
    "What is the expected output of the following code?\n",
    "\n",
    "```\n",
    "data = (1,) * 3\n",
    "data[0] = 2\n",
    "print(data)\n",
    "```\n",
    "\n",
    "A. ```(2, 2, 2)```\n",
    "\n",
    "B. ```(2, 1, 1)```\n",
    "\n",
    "C. ```(1, 1, 1)```\n",
    "\n",
    "D. The code is erroneous"
   ]
  },
  {
   "cell_type": "markdown",
   "id": "4967a372",
   "metadata": {},
   "source": [
    "# Solution 10"
   ]
  },
  {
   "cell_type": "code",
   "execution_count": 47,
   "id": "1097bb8e",
   "metadata": {},
   "outputs": [
    {
     "data": {
      "text/plain": [
       "(1, 1, 1)"
      ]
     },
     "execution_count": 47,
     "metadata": {},
     "output_type": "execute_result"
    }
   ],
   "source": [
    "data = (1,) * 3\n",
    "data"
   ]
  },
  {
   "cell_type": "code",
   "execution_count": 48,
   "id": "b3f8c50a",
   "metadata": {},
   "outputs": [
    {
     "data": {
      "text/plain": [
       "tuple"
      ]
     },
     "execution_count": 48,
     "metadata": {},
     "output_type": "execute_result"
    }
   ],
   "source": [
    "type(data)"
   ]
  },
  {
   "cell_type": "code",
   "execution_count": 49,
   "id": "fb9c44e8",
   "metadata": {},
   "outputs": [
    {
     "data": {
      "text/plain": [
       "'data = (1,) * 3\\ndata[0] = 2\\nprint(data)'"
      ]
     },
     "execution_count": 49,
     "metadata": {},
     "output_type": "execute_result"
    }
   ],
   "source": [
    "\"\"\"data = (1,) * 3\n",
    "data[0] = 2\n",
    "print(data)\"\"\"\n",
    "\n",
    "# TypeError: \n",
    "# 'tuple' object does not support item assignment\n",
    "\n",
    "# SIENDO UNA TUPLA =====> NO Podemos modificar valores "
   ]
  },
  {
   "cell_type": "code",
   "execution_count": 50,
   "id": "33bf307b",
   "metadata": {},
   "outputs": [],
   "source": [
    "# Solución\n",
    "# D"
   ]
  },
  {
   "cell_type": "markdown",
   "id": "abde3014",
   "metadata": {},
   "source": [
    "****"
   ]
  },
  {
   "cell_type": "markdown",
   "id": "8450e942",
   "metadata": {},
   "source": [
    "**explicación**\n",
    "\n",
    "**no es lo mismo el primer ejemplo que el segundo**\n",
    "\n",
    "**uno se refiere a 1 tupla, y el otro 1 entero**"
   ]
  },
  {
   "cell_type": "code",
   "execution_count": 51,
   "id": "f5589bda",
   "metadata": {},
   "outputs": [],
   "source": [
    "# tupla, de 1 solo elemento, el número 1"
   ]
  },
  {
   "cell_type": "code",
   "execution_count": 52,
   "id": "a95713b4",
   "metadata": {},
   "outputs": [
    {
     "data": {
      "text/plain": [
       "(1, 1, 1)"
      ]
     },
     "execution_count": 52,
     "metadata": {},
     "output_type": "execute_result"
    }
   ],
   "source": [
    "data_tupla = (1,) * 3\n",
    "data_tupla"
   ]
  },
  {
   "cell_type": "code",
   "execution_count": 53,
   "id": "b6b3eb4b",
   "metadata": {},
   "outputs": [
    {
     "data": {
      "text/plain": [
       "tuple"
      ]
     },
     "execution_count": 53,
     "metadata": {},
     "output_type": "execute_result"
    }
   ],
   "source": [
    "type(data_tupla)"
   ]
  },
  {
   "cell_type": "code",
   "execution_count": 54,
   "id": "b207d9f9",
   "metadata": {},
   "outputs": [],
   "source": [
    "# entero, podríamos quitar el paréntesis de hecho"
   ]
  },
  {
   "cell_type": "code",
   "execution_count": 55,
   "id": "acb169b0",
   "metadata": {},
   "outputs": [
    {
     "data": {
      "text/plain": [
       "3"
      ]
     },
     "execution_count": 55,
     "metadata": {},
     "output_type": "execute_result"
    }
   ],
   "source": [
    "data_entero = (1) * 3    \n",
    "data_entero"
   ]
  },
  {
   "cell_type": "code",
   "execution_count": 56,
   "id": "ff1d7d32",
   "metadata": {},
   "outputs": [
    {
     "data": {
      "text/plain": [
       "int"
      ]
     },
     "execution_count": 56,
     "metadata": {},
     "output_type": "execute_result"
    }
   ],
   "source": [
    "type(data_entero)"
   ]
  },
  {
   "cell_type": "code",
   "execution_count": 57,
   "id": "3aa4b669",
   "metadata": {},
   "outputs": [],
   "source": [
    "# tupla, son 2 elementos, con paréntesis"
   ]
  },
  {
   "cell_type": "code",
   "execution_count": 58,
   "id": "f1e4b4ef",
   "metadata": {},
   "outputs": [
    {
     "data": {
      "text/plain": [
       "(1, 2, 1, 2, 1, 2)"
      ]
     },
     "execution_count": 58,
     "metadata": {},
     "output_type": "execute_result"
    }
   ],
   "source": [
    "data_tupla2 = (1,2) * 3    \n",
    "data_tupla2"
   ]
  },
  {
   "cell_type": "code",
   "execution_count": 59,
   "id": "87ac4100",
   "metadata": {},
   "outputs": [
    {
     "data": {
      "text/plain": [
       "tuple"
      ]
     },
     "execution_count": 59,
     "metadata": {},
     "output_type": "execute_result"
    }
   ],
   "source": [
    "type(data_tupla2)"
   ]
  },
  {
   "cell_type": "markdown",
   "id": "1966447e-c403-4088-820d-f15b5a7f6cdb",
   "metadata": {},
   "source": [
    "**Otra posible solución al ejercicio...**"
   ]
  },
  {
   "cell_type": "code",
   "execution_count": 3,
   "id": "8e328bfc-6a03-4f7e-bf44-521fdd704615",
   "metadata": {},
   "outputs": [
    {
     "name": "stdout",
     "output_type": "stream",
     "text": [
      "[2, 1, 1]\n",
      "(2, 1, 1)\n"
     ]
    }
   ],
   "source": [
    "data = (1,) * 3\n",
    "data = list(data)\n",
    "data[0] = 2\n",
    "print(data)\n",
    "\n",
    "tupla = tuple(data)\n",
    "print(tupla)"
   ]
  },
  {
   "cell_type": "markdown",
   "id": "cab32d65",
   "metadata": {},
   "source": [
    "****"
   ]
  },
  {
   "cell_type": "markdown",
   "id": "17da28c4",
   "metadata": {},
   "source": [
    "# Question 11  (Data Aggregates)"
   ]
  },
  {
   "cell_type": "markdown",
   "id": "68159492-47e2-489d-bb7f-d769a035b26c",
   "metadata": {},
   "source": [
    "What is the output of the following snippet?\n",
    "```\n",
    "my_list = [3, 1, -2]\n",
    "print(my_list[my_list[-1]])\n",
    "```\n",
    "\n",
    "A. ```1```\n",
    "\n",
    "B. ```3```\n",
    "\n",
    "C. ```-2```\n",
    "\n",
    "D. ```-1```"
   ]
  },
  {
   "cell_type": "markdown",
   "id": "80ff857f",
   "metadata": {},
   "source": [
    "# Solution 11"
   ]
  },
  {
   "cell_type": "code",
   "execution_count": 61,
   "id": "41beea89",
   "metadata": {},
   "outputs": [
    {
     "name": "stdout",
     "output_type": "stream",
     "text": [
      "1\n"
     ]
    }
   ],
   "source": [
    "my_list = [3, 1, -2]\n",
    "print(my_list[my_list[-1]])\n",
    "#                [-2]\n",
    "# my_list[-2] => 1"
   ]
  },
  {
   "cell_type": "code",
   "execution_count": 62,
   "id": "555dff7a",
   "metadata": {},
   "outputs": [],
   "source": [
    "# Solución\n",
    "# A"
   ]
  },
  {
   "cell_type": "markdown",
   "id": "299ff108",
   "metadata": {},
   "source": [
    "****"
   ]
  },
  {
   "cell_type": "markdown",
   "id": "44dbfac5",
   "metadata": {},
   "source": [
    "# Question 12"
   ]
  },
  {
   "cell_type": "markdown",
   "id": "80ef2f12-4aae-4301-b4c9-8917a103a494",
   "metadata": {},
   "source": [
    "What is the expected output of the following code?\n",
    "```\n",
    "def func1(a):\n",
    "    return a ** a\n",
    "  \n",
    "def func2(a):\n",
    "    return func1(a) * func1(a)\n",
    " \n",
    "print(func2(2))\n",
    "```\n",
    "A. The code is erroneous\n",
    "\n",
    "B. ```16```\n",
    "\n",
    "C. ```2```\n",
    "\n",
    "D. ```4```"
   ]
  },
  {
   "cell_type": "markdown",
   "id": "d57819b5",
   "metadata": {},
   "source": [
    "# Solution 12"
   ]
  },
  {
   "cell_type": "code",
   "execution_count": 64,
   "id": "9b802a90",
   "metadata": {},
   "outputs": [
    {
     "name": "stdout",
     "output_type": "stream",
     "text": [
      "16\n"
     ]
    }
   ],
   "source": [
    "def func1(a):\n",
    "    return a ** a\n",
    " \n",
    "def func2(a):\n",
    "    return func1(a) * func1(a)\n",
    " \n",
    "print(func2(2))\n",
    "\n",
    "# func1(2) * func1(2)\n",
    "#  2**2    *  2**2\n",
    "#    4     *   4\n",
    "#         16"
   ]
  },
  {
   "cell_type": "code",
   "execution_count": 65,
   "id": "c7eb0712",
   "metadata": {},
   "outputs": [],
   "source": [
    "# Solución \n",
    "# B"
   ]
  },
  {
   "cell_type": "markdown",
   "id": "eb7caaad",
   "metadata": {},
   "source": [
    "****"
   ]
  },
  {
   "cell_type": "markdown",
   "id": "11a6e2e3",
   "metadata": {},
   "source": [
    "# Question 13  (Data Types)"
   ]
  },
  {
   "cell_type": "markdown",
   "id": "221027a1-dd2c-497f-aa2e-a76b22d07890",
   "metadata": {},
   "source": [
    "Which of the following is the output of the below Python code?\n",
    "\n",
    "```\n",
    "str = 'Hello World'\n",
    "print(str[::-1])\n",
    "```\n",
    "A. ```World```\n",
    "\n",
    "B. ```dlroW olleH```\n",
    "\n",
    "C. ```Hello World```\n",
    "\n",
    "D. ```Hello```"
   ]
  },
  {
   "cell_type": "markdown",
   "id": "45200cbc",
   "metadata": {},
   "source": [
    "# Solution 13"
   ]
  },
  {
   "cell_type": "code",
   "execution_count": 67,
   "id": "98d8e3be",
   "metadata": {},
   "outputs": [
    {
     "name": "stdout",
     "output_type": "stream",
     "text": [
      "dlroW olleH\n"
     ]
    }
   ],
   "source": [
    "str = 'Hello World'\n",
    "print(str[::-1])"
   ]
  },
  {
   "cell_type": "code",
   "execution_count": 68,
   "id": "2a29c072",
   "metadata": {},
   "outputs": [],
   "source": [
    "# Solución\n",
    "# B"
   ]
  },
  {
   "cell_type": "markdown",
   "id": "07b52808",
   "metadata": {},
   "source": [
    "****"
   ]
  },
  {
   "cell_type": "markdown",
   "id": "1f0766b8",
   "metadata": {},
   "source": [
    "# Question 14  (Control Flow)"
   ]
  },
  {
   "cell_type": "markdown",
   "id": "f39b0c98-c954-44b9-a00f-5afe626ee919",
   "metadata": {},
   "source": [
    "You are creating a Python script to evaluate input\n",
    "\n",
    "and check for upper and lower case.\n",
    "\n",
    "\n",
    "\n",
    "Code segment 1:\n",
    "```\n",
    "else:\n",
    "    print(name, 'is mixed case.')\n",
    "```\n",
    "Code segment 2:\n",
    "```\n",
    "else:\n",
    "    print(name, 'is lower case.')\n",
    "```\n",
    "Code segment 3:\n",
    "```\n",
    "name = input('Enter your name: ')\n",
    "```\n",
    "Code segment 4:\n",
    "```\n",
    "else:\n",
    "    print(name, 'is upper case.')\n",
    "```\n",
    "Code segment 5:\n",
    "```\n",
    "elif name.upper() == name:\n",
    "    print(name, 'is all upper case.')\n",
    "```\n",
    "Code segment 6:\n",
    "```\n",
    "if name.lower() == name:\n",
    "    print(name, 'is all lower case.')\n",
    "```\n",
    "\n",
    "Which four code segments should you use to develop the solution?\n",
    "\n",
    "A. \n",
    "```\n",
    "Code segment 3\n",
    "Code segment 6\n",
    "Code segment 5\n",
    "Code segment 1\n",
    "```\n",
    "\n",
    "B. \n",
    "```\n",
    "Code segment 1\n",
    "Code segment 3\n",
    "Code segment 5\n",
    "Code segment 6\n",
    "```\n",
    "\n",
    "C. \n",
    "```\n",
    "Code segment 3\n",
    "Code segment 6\n",
    "Code segment 5\n",
    "Code segment 4\n",
    "```\n",
    "\n",
    "D. \n",
    "```\n",
    "Code segment 3\n",
    "Code segment 6\n",
    "Code segment 5\n",
    "Code segment 2\n",
    "```"
   ]
  },
  {
   "cell_type": "markdown",
   "id": "eb41cf74",
   "metadata": {},
   "source": [
    "# Solution 14"
   ]
  },
  {
   "cell_type": "code",
   "execution_count": 70,
   "id": "fe2b95ec",
   "metadata": {},
   "outputs": [
    {
     "name": "stdout",
     "output_type": "stream",
     "text": [
      "Enter your name: Jose\n",
      "Jose is mixed case.\n"
     ]
    }
   ],
   "source": [
    "# Code segment 3:\n",
    "name = input('Enter your name: ')\n",
    "\n",
    "# Code segment 6:\n",
    "if name.lower() == name:\n",
    "    print(name, 'is all lower case.')\n",
    "\n",
    "# Code segment 5:\n",
    "elif name.upper() == name:\n",
    "    print(name, 'is all upper case.')\n",
    "    \n",
    "# Code segment 1:\n",
    "else:\n",
    "    print(name, 'is mixed case.')\n",
    "    \n",
    "# 3 6 5 1"
   ]
  },
  {
   "cell_type": "code",
   "execution_count": 71,
   "id": "84078b46",
   "metadata": {},
   "outputs": [],
   "source": [
    "# Solución\n",
    "# A"
   ]
  },
  {
   "cell_type": "markdown",
   "id": "4cdfbff3",
   "metadata": {},
   "source": [
    "****"
   ]
  },
  {
   "cell_type": "markdown",
   "id": "43b694cc",
   "metadata": {},
   "source": [
    "# Question 15  (Data Aggregates)"
   ]
  },
  {
   "cell_type": "markdown",
   "id": "8c61c202-710a-4539-9ef1-1d71cf105ac1",
   "metadata": {},
   "source": [
    "What is the expected output of the following code?\n",
    "\n",
    "```\n",
    "data = {'z': 23, 'x': 7, 'y': 42}\n",
    " \n",
    "for _ in sorted(data):\n",
    "    print(data[_], end=' ')\n",
    "```\n",
    "A. ```7 23 42```\n",
    "\n",
    "B. ```7 42 23```\n",
    "\n",
    "C. ```42 23 7```"
   ]
  },
  {
   "cell_type": "markdown",
   "id": "8355eac1",
   "metadata": {},
   "source": [
    "# Solution 15"
   ]
  },
  {
   "cell_type": "code",
   "execution_count": 73,
   "id": "a40688cb",
   "metadata": {},
   "outputs": [
    {
     "data": {
      "text/plain": [
       "{'z': 23, 'x': 7, 'y': 42}"
      ]
     },
     "execution_count": 73,
     "metadata": {},
     "output_type": "execute_result"
    }
   ],
   "source": [
    "# sorted data\n",
    "\n",
    "data = {'z': 23, 'x': 7, 'y': 42}\n",
    "data"
   ]
  },
  {
   "cell_type": "code",
   "execution_count": 74,
   "id": "8d87c51e",
   "metadata": {},
   "outputs": [
    {
     "data": {
      "text/plain": [
       "['x', 'y', 'z']"
      ]
     },
     "execution_count": 74,
     "metadata": {},
     "output_type": "execute_result"
    }
   ],
   "source": [
    "data = {'z': 23, 'x': 7, 'y': 42}\n",
    "sorted(data)\n",
    "\n",
    "# son las claves en orden alfabético"
   ]
  },
  {
   "cell_type": "code",
   "execution_count": 75,
   "id": "96b70203",
   "metadata": {},
   "outputs": [],
   "source": [
    "# el propio ejercicio"
   ]
  },
  {
   "cell_type": "code",
   "execution_count": 76,
   "id": "a2a78ac4",
   "metadata": {},
   "outputs": [
    {
     "name": "stdout",
     "output_type": "stream",
     "text": [
      "7 42 23 "
     ]
    }
   ],
   "source": [
    "data = {'z': 23, 'x': 7, 'y': 42}         # diccionario\n",
    " \n",
    "for _ in sorted(data):                    # ordena las claves en orden alfabético\n",
    "    # x y z \n",
    "    print(data[_], end=' ')               # data['clave'] => devuelve el valor \n",
    "                                          # data['key1'] ==> value1 (ejemplo)\n",
    "    # 7 42 23                             # con un espacio entre valores"
   ]
  },
  {
   "cell_type": "code",
   "execution_count": 77,
   "id": "9d31aa18",
   "metadata": {},
   "outputs": [],
   "source": [
    "# Solución\n",
    "# B"
   ]
  },
  {
   "cell_type": "markdown",
   "id": "f62c992a",
   "metadata": {},
   "source": [
    "**algunos ejemplos similares...**"
   ]
  },
  {
   "cell_type": "markdown",
   "id": "7cea37cb",
   "metadata": {},
   "source": [
    "**ejemplo similar 1: compruebo cómo funciona sorted(data)**"
   ]
  },
  {
   "cell_type": "code",
   "execution_count": 78,
   "id": "a2016d1d",
   "metadata": {},
   "outputs": [
    {
     "name": "stdout",
     "output_type": "stream",
     "text": [
      "x\n",
      "y\n",
      "z\n"
     ]
    }
   ],
   "source": [
    "data = {'z': 23, 'x': 7, 'y': 42}\n",
    " \n",
    "for clave in sorted(data):\n",
    "    print(clave)"
   ]
  },
  {
   "cell_type": "markdown",
   "id": "3308d04f",
   "metadata": {},
   "source": [
    "**ejemplo similar 2: imprimo los valores asociados a cada clave**"
   ]
  },
  {
   "cell_type": "code",
   "execution_count": 79,
   "id": "02509086",
   "metadata": {},
   "outputs": [
    {
     "name": "stdout",
     "output_type": "stream",
     "text": [
      "7\n",
      "42\n",
      "23\n"
     ]
    }
   ],
   "source": [
    "data = {'z': 23, 'x': 7, 'y': 42}\n",
    " \n",
    "for clave in sorted(data):\n",
    "    print(data[clave])"
   ]
  },
  {
   "cell_type": "markdown",
   "id": "e55238c7",
   "metadata": {},
   "source": [
    "**ejemplo similar 3: uso data.keys() y data.values()**"
   ]
  },
  {
   "cell_type": "code",
   "execution_count": 80,
   "id": "ca9a9e65",
   "metadata": {},
   "outputs": [
    {
     "name": "stdout",
     "output_type": "stream",
     "text": [
      "data.keys():  dict_keys(['z', 'x', 'y'])\n",
      "data.values():  dict_values([23, 7, 42])\n"
     ]
    }
   ],
   "source": [
    "data = {'z': 23, 'x': 7, 'y': 42}\n",
    "print('data.keys(): ', data.keys())\n",
    "print('data.values(): ', data.values())"
   ]
  },
  {
   "cell_type": "markdown",
   "id": "959e63c3",
   "metadata": {},
   "source": [
    "**ejemplo similar 4: uso data.keys() para obtener los valores**"
   ]
  },
  {
   "cell_type": "code",
   "execution_count": 81,
   "id": "05c7ad16",
   "metadata": {},
   "outputs": [
    {
     "name": "stdout",
     "output_type": "stream",
     "text": [
      "23\n",
      "7\n",
      "42\n"
     ]
    }
   ],
   "source": [
    "data = {'z': 23, 'x': 7, 'y': 42}\n",
    " \n",
    "for key in data.keys():\n",
    "    print(data[key])"
   ]
  },
  {
   "cell_type": "markdown",
   "id": "26cc92ac",
   "metadata": {},
   "source": [
    "****"
   ]
  },
  {
   "cell_type": "markdown",
   "id": "9e7600d1",
   "metadata": {},
   "source": [
    "# Question 16 (Data Aggregates)"
   ]
  },
  {
   "cell_type": "markdown",
   "id": "78d4273d-4c71-499f-8270-109d0ed9f096",
   "metadata": {},
   "source": [
    "What is the expected output of the following code?\n",
    "\n",
    "```\n",
    "box = {}\n",
    "jars = {}\n",
    "crates = {}\n",
    " \n",
    "box['biscuit'] = 1\n",
    "box['cake'] = 3\n",
    " \n",
    "jars['jam'] = 4\n",
    " \n",
    "crates['box'] = box\n",
    "crates['jars'] = jars\n",
    " \n",
    "print(len(crates[box]))\n",
    "```\n",
    "\n",
    "A. ```1```\n",
    "\n",
    "B. ```3```\n",
    "\n",
    "C. ```4```\n",
    "\n",
    "D. The code is erroneous\n",
    "\n",
    "E. ```2```"
   ]
  },
  {
   "cell_type": "markdown",
   "id": "d15cd913",
   "metadata": {},
   "source": [
    "# Solution 16"
   ]
  },
  {
   "cell_type": "code",
   "execution_count": 83,
   "id": "4a26f582",
   "metadata": {},
   "outputs": [],
   "source": [
    "box = {}\n",
    "jars = {}\n",
    "crates = {}\n",
    " \n",
    "box['biscuit'] = 1      # box = {'biscuit': 1}\n",
    "box['cake'] = 3         # box = {'biscuit': 1, 'cake': 3}\n",
    " \n",
    "jars['jam'] = 4         # jars = {'jam': 4}\n",
    " \n",
    "crates['box'] = box     # crates = {'box': box}   \n",
    "crates['jars'] = jars   # crates = {'box': box, 'jars': jars} \n",
    " \n",
    "# print(len(crates[box]))     # no funciona"
   ]
  },
  {
   "cell_type": "code",
   "execution_count": 84,
   "id": "90be8803",
   "metadata": {},
   "outputs": [],
   "source": [
    "# Solución\n",
    "# D"
   ]
  },
  {
   "cell_type": "markdown",
   "id": "3e794938",
   "metadata": {},
   "source": [
    "**explicación**"
   ]
  },
  {
   "cell_type": "code",
   "execution_count": 85,
   "id": "e2f32590",
   "metadata": {},
   "outputs": [
    {
     "name": "stdout",
     "output_type": "stream",
     "text": [
      "box inicial: {}\n",
      "box final: {'biscuit': 1, 'cake': 3}\n",
      "\n",
      "\n",
      "jars inicial: {}\n",
      "jars final: {'jam': 4}\n",
      "\n",
      "\n",
      "crates incicial: {}\n",
      "crates final {'box': {'biscuit': 1, 'cake': 3}, 'jars': {'jam': 4}}\n"
     ]
    }
   ],
   "source": [
    "# Otro ejemplo:\n",
    "\n",
    "\n",
    "box = {}\n",
    "jars = {}\n",
    "crates = {}\n",
    "\n",
    "print('box inicial:', box)\n",
    "box['biscuit'] = 1      # box = {'biscuit': 1}\n",
    "box['cake'] = 3         # box = {'biscuit': 1, 'cake': 3}\n",
    "print('box final:', box)\n",
    "print('\\n')\n",
    "# -------------------------------------------------------------\n",
    "print('jars inicial:', jars)\n",
    "jars['jam'] = 4         # jars = {'jam': 4}\n",
    "print('jars final:', jars)\n",
    "print('\\n')\n",
    "# -------------------------------------------------------------\n",
    "print('crates incicial:', crates)\n",
    "crates['box'] = box     # crates = {'box': box}   \n",
    "crates['jars'] = jars   # crates = {'box': box, 'jars': jars} \n",
    "print('crates final'    , crates)"
   ]
  },
  {
   "cell_type": "code",
   "execution_count": 86,
   "id": "ca7c9c80",
   "metadata": {},
   "outputs": [
    {
     "name": "stdout",
     "output_type": "stream",
     "text": [
      "{'biscuit': 1, 'cake': 3}\n"
     ]
    }
   ],
   "source": [
    "print(crates['box'])"
   ]
  },
  {
   "cell_type": "code",
   "execution_count": 87,
   "id": "c90ee527",
   "metadata": {},
   "outputs": [
    {
     "name": "stdout",
     "output_type": "stream",
     "text": [
      "2\n"
     ]
    }
   ],
   "source": [
    "print(len(crates['box'])) "
   ]
  },
  {
   "cell_type": "code",
   "execution_count": 3,
   "id": "601af2a2",
   "metadata": {},
   "outputs": [],
   "source": [
    "# print(len(crates[box]))        # no funciona, falta la comilla de la key"
   ]
  },
  {
   "cell_type": "markdown",
   "id": "5528df70",
   "metadata": {},
   "source": [
    "****"
   ]
  },
  {
   "cell_type": "markdown",
   "id": "df94cb68",
   "metadata": {},
   "source": [
    "# Question 17  (Control Flow) "
   ]
  },
  {
   "cell_type": "markdown",
   "id": "8a03db91-0b59-4075-9b4d-8dfe7c5c014e",
   "metadata": {},
   "source": [
    "What is the expected output of the following code?\n",
    "\n",
    "```\n",
    "data = [[42, 17, 23, 13], [11, 9, 3, 7]]\n",
    "res = data[0][0]\n",
    "for da in data:\n",
    "    for d in da:\n",
    "        if res > d:\n",
    "            res = d\n",
    "\n",
    "print(res)\n",
    "```\n",
    "A. ```42```\n",
    "\n",
    "B. The code is erroneous\n",
    "\n",
    "C. ```3```\n",
    "\n",
    "D. ```13```"
   ]
  },
  {
   "cell_type": "markdown",
   "id": "652b6c03",
   "metadata": {},
   "source": [
    "# Solution 17"
   ]
  },
  {
   "cell_type": "code",
   "execution_count": 90,
   "id": "ebe79dbd",
   "metadata": {},
   "outputs": [],
   "source": [
    "#----obtengo res-----"
   ]
  },
  {
   "cell_type": "code",
   "execution_count": 91,
   "id": "9692096b",
   "metadata": {},
   "outputs": [
    {
     "data": {
      "text/plain": [
       "42"
      ]
     },
     "execution_count": 91,
     "metadata": {},
     "output_type": "execute_result"
    }
   ],
   "source": [
    "data = [[42, 17, 23, 13], \n",
    "        [11, 9, 3, 7]]\n",
    "\n",
    "res = data[0][0]     # res = 42    (fila 0 y columna 0 de la matriz de 2 filas y 4 columnas)\n",
    "res"
   ]
  },
  {
   "cell_type": "code",
   "execution_count": 92,
   "id": "c3eed026",
   "metadata": {},
   "outputs": [],
   "source": [
    "# ----observo da en data-------"
   ]
  },
  {
   "cell_type": "code",
   "execution_count": 93,
   "id": "bf1d405e",
   "metadata": {},
   "outputs": [
    {
     "name": "stdout",
     "output_type": "stream",
     "text": [
      "[42, 17, 23, 13]\n",
      "[11, 9, 3, 7]\n"
     ]
    }
   ],
   "source": [
    "for da in data:\n",
    "    print(da)"
   ]
  },
  {
   "cell_type": "code",
   "execution_count": 94,
   "id": "e3cca6e9",
   "metadata": {},
   "outputs": [
    {
     "data": {
      "text/plain": [
       "2"
      ]
     },
     "execution_count": 94,
     "metadata": {},
     "output_type": "execute_result"
    }
   ],
   "source": [
    "len(data)"
   ]
  },
  {
   "cell_type": "code",
   "execution_count": 95,
   "id": "d0bb9016",
   "metadata": {},
   "outputs": [],
   "source": [
    "# -----observo d en da---------"
   ]
  },
  {
   "cell_type": "code",
   "execution_count": 96,
   "id": "43980318",
   "metadata": {},
   "outputs": [
    {
     "name": "stdout",
     "output_type": "stream",
     "text": [
      "42\n",
      "17\n",
      "23\n",
      "13\n",
      "11\n",
      "9\n",
      "3\n",
      "7\n"
     ]
    }
   ],
   "source": [
    "for da in data:            # [[42, 17, 23, 13], [11, 9, 3, 7]]\n",
    "    for d in da:           # todos los números por separado\n",
    "        print(d)"
   ]
  },
  {
   "cell_type": "code",
   "execution_count": 97,
   "id": "e4a85724",
   "metadata": {},
   "outputs": [],
   "source": [
    "# ---- el propio ejercicio completo -------"
   ]
  },
  {
   "cell_type": "code",
   "execution_count": 98,
   "id": "ee17eb3c",
   "metadata": {},
   "outputs": [
    {
     "name": "stdout",
     "output_type": "stream",
     "text": [
      "3\n"
     ]
    }
   ],
   "source": [
    "data = [[42, 17, 23, 13], \n",
    "        [11, 9, 3, 7]]\n",
    "\n",
    "res = data[0][0]           # res = 42\n",
    "for da in data:            # [[42, 17, 23, 13], [11, 9, 3, 7]]\n",
    "    for d in da:           # para cada numero de la lista\n",
    "        if res > d:        # si d < res:  (si ese número es más pequeño que el más pequeño)\n",
    "            res = d        # el nuevo mínimo de la lista es ese número\n",
    "print(res)"
   ]
  },
  {
   "cell_type": "code",
   "execution_count": 99,
   "id": "fbef64b2",
   "metadata": {},
   "outputs": [],
   "source": [
    "# Solución\n",
    "# C"
   ]
  },
  {
   "cell_type": "markdown",
   "id": "98a25de0",
   "metadata": {},
   "source": [
    "****"
   ]
  },
  {
   "cell_type": "markdown",
   "id": "3c606e4f",
   "metadata": {},
   "source": [
    "# Question 18 (Operators)"
   ]
  },
  {
   "cell_type": "markdown",
   "id": "5ac538fc-f548-4bea-943a-a9c55d4784b7",
   "metadata": {},
   "source": [
    "What is the expected output of the following code?\n",
    "\n",
    "```\n",
    "list1 = ['Peter', 'Paul', 'Mary', 'Jane']\n",
    "list2 = ['Peter', 'Paul', 'Mary', 'Jane']\n",
    " \n",
    "print(list1 is not list2)\n",
    "print(list1 != list2)\n",
    " \n",
    "list1 = list2\n",
    " \n",
    "print(list1 is not list2)\n",
    "print(list1 != list2)\n",
    "```\n",
    "A. \n",
    "```\n",
    "True\n",
    "False\n",
    "False\n",
    "False\n",
    "```\n",
    "B.\n",
    "```\n",
    "True\n",
    "False\n",
    "True\n",
    "False\n",
    "```\n",
    "C. \n",
    "```\n",
    "True\n",
    "True\n",
    "False\n",
    "False\n",
    "```\n",
    "D. \n",
    "```\n",
    "True\n",
    "False\n",
    "False\n",
    "True\n",
    "```"
   ]
  },
  {
   "cell_type": "markdown",
   "id": "cbe3738f",
   "metadata": {},
   "source": [
    "# Solution 18"
   ]
  },
  {
   "cell_type": "code",
   "execution_count": 101,
   "id": "8b0725d1",
   "metadata": {},
   "outputs": [
    {
     "name": "stdout",
     "output_type": "stream",
     "text": [
      "True\n",
      "False\n",
      "False\n",
      "False\n"
     ]
    }
   ],
   "source": [
    "list1 = ['Peter', 'Paul', 'Mary', 'Jane']\n",
    "list2 = ['Peter', 'Paul', 'Mary', 'Jane']\n",
    " \n",
    "print(list1 is not list2)     # True\n",
    "print(list1 != list2)         # False\n",
    " \n",
    "list1 = list2\n",
    " \n",
    "print(list1 is not list2)     # False \n",
    "print(list1 != list2)         # False"
   ]
  },
  {
   "cell_type": "code",
   "execution_count": 102,
   "id": "0c8187f1",
   "metadata": {},
   "outputs": [],
   "source": [
    "# Solución\n",
    "# A"
   ]
  },
  {
   "cell_type": "markdown",
   "id": "d9bde24c",
   "metadata": {},
   "source": [
    "**ejemplo similar 1: cambiando alguna cosilla**"
   ]
  },
  {
   "cell_type": "code",
   "execution_count": 103,
   "id": "07b24e34",
   "metadata": {},
   "outputs": [
    {
     "name": "stdout",
     "output_type": "stream",
     "text": [
      "list1 inicial: ['Peter', 'Paul', 'Mary', 'Jane']\n",
      "list2 inicial: ['Peter', 'Paul', 'Mary', 'Jane']\n",
      "False\n",
      "True\n",
      "LIST_1 cuando haces list1 = list2: ['Peter', 'Paul', 'Mary', 'Jane']\n",
      "LIST_2 cuando haces list1 = list2: ['Peter', 'Paul', 'Mary', 'Jane']\n",
      "True\n",
      "True\n"
     ]
    }
   ],
   "source": [
    "list1 = ['Peter', 'Paul', 'Mary', 'Jane']\n",
    "list2 = ['Peter', 'Paul', 'Mary', 'Jane']\n",
    "print('list1 inicial:', list1)\n",
    "print('list2 inicial:', list2)\n",
    "\n",
    "print(list1 is list2)         # False\n",
    "print(list1 == list2)         # True\n",
    "\n",
    "# --------ahora hacemos: list1 = list2 ---------------- \n",
    "\n",
    "list1 = list2\n",
    "print('LIST_1 cuando haces list1 = list2:', list1)\n",
    "print('LIST_2 cuando haces list1 = list2:', list2)\n",
    "\n",
    "print(list1 is list2)         # True \n",
    "print(list1 == list2)         # True"
   ]
  },
  {
   "cell_type": "markdown",
   "id": "d26732a6",
   "metadata": {},
   "source": [
    "**ejemplo similar 2: cambiando alguna cosilla, y apendizando algún valor**"
   ]
  },
  {
   "cell_type": "code",
   "execution_count": 104,
   "id": "128123dd",
   "metadata": {},
   "outputs": [
    {
     "name": "stdout",
     "output_type": "stream",
     "text": [
      "list1 inicial: ['Peter', 'Paul', 'Mary', 'Jane']\n",
      "list2 inicial: ['Peter', 'Paul', 'Mary', 'Jane']\n",
      "False\n",
      "True\n",
      "\n",
      "\n",
      "LIST_1 cuando haces list1 = list2: ['Peter', 'Paul', 'Mary', 'Jane']\n",
      "LIST_2 cuando haces list1 = list2: ['Peter', 'Paul', 'Mary', 'Jane']\n",
      "\n",
      "\n",
      "LIST_1 cuando apendizas en list1: ['Peter', 'Paul', 'Mary', 'Jane', 'Jose']\n",
      "LIST_2 cuando apendizas en list1: ['Peter', 'Paul', 'Mary', 'Jane', 'Jose']\n",
      "\n",
      "\n",
      "True\n",
      "True\n"
     ]
    }
   ],
   "source": [
    "list1 = ['Peter', 'Paul', 'Mary', 'Jane']\n",
    "list2 = ['Peter', 'Paul', 'Mary', 'Jane']\n",
    "print('list1 inicial:', list1)\n",
    "print('list2 inicial:', list2)\n",
    "\n",
    "print(list1 is list2)         # False\n",
    "print(list1 == list2)         # True\n",
    "print('\\n')\n",
    "# --------ahora hacemos: list1 = list2 ---------------- \n",
    "\n",
    "list1 = list2\n",
    "print('LIST_1 cuando haces list1 = list2:', list1)\n",
    "print('LIST_2 cuando haces list1 = list2:', list2)\n",
    "print('\\n')\n",
    "\n",
    "# --------apendizamos algun valor:---------------------\n",
    "\n",
    "list1.append('Jose')\n",
    "\n",
    "print('LIST_1 cuando apendizas en list1:', list1)\n",
    "print('LIST_2 cuando apendizas en list1:', list2)\n",
    "print('\\n')\n",
    "\n",
    "# y ahora...\n",
    "print(list1 is list2)         # True \n",
    "print(list1 == list2)         # True"
   ]
  },
  {
   "cell_type": "markdown",
   "id": "cf4381a2",
   "metadata": {},
   "source": [
    "****"
   ]
  },
  {
   "cell_type": "markdown",
   "id": "3f896908",
   "metadata": {},
   "source": [
    "# Question 19  (Functions)  "
   ]
  },
  {
   "cell_type": "markdown",
   "id": "c29ca1af-9d99-4a46-88d0-85286140d66b",
   "metadata": {},
   "source": [
    "Which of the literals below is not a valid function name?\n",
    "\n",
    "A. ```Func_1_tion```\n",
    "\n",
    "B. ```Function1```\n",
    "\n",
    "C. ```_function1```\n",
    "\n",
    "D. ```1function```\n",
    "\n",
    "E. ```Function_1```"
   ]
  },
  {
   "cell_type": "markdown",
   "id": "232c1936",
   "metadata": {},
   "source": [
    "# Solution 19"
   ]
  },
  {
   "cell_type": "code",
   "execution_count": 106,
   "id": "7e6305b8",
   "metadata": {},
   "outputs": [],
   "source": [
    "# D"
   ]
  },
  {
   "cell_type": "code",
   "execution_count": 107,
   "id": "cd08c263",
   "metadata": {},
   "outputs": [
    {
     "data": {
      "text/plain": [
       "'\\ndef 1funcion():\\n    pass\\n'"
      ]
     },
     "execution_count": 107,
     "metadata": {},
     "output_type": "execute_result"
    }
   ],
   "source": [
    "\"\"\"\n",
    "def 1funcion():\n",
    "    pass\n",
    "\"\"\"\n",
    "# SyntaxError: invalid syntax\n",
    "\n",
    "# COMIENZA POR UN NÚMERO, No está permitido"
   ]
  },
  {
   "cell_type": "markdown",
   "id": "247c1047",
   "metadata": {},
   "source": [
    "****"
   ]
  },
  {
   "cell_type": "markdown",
   "id": "a0821b1d",
   "metadata": {},
   "source": [
    "# Question 20  (Functions)"
   ]
  },
  {
   "cell_type": "markdown",
   "id": "1d2fad63-bb9b-49cc-b9be-18c652991c07",
   "metadata": {},
   "source": [
    "What is the expected output of the following code?\n",
    "\n",
    "```\n",
    "def get_names():\n",
    "    names = ['Peter', 'Paul', 'Mary', 'Jane', 'Steve']\n",
    "    return names[2:]\n",
    " \n",
    "def update_names(names):\n",
    "    res = []\n",
    "    for name in names:\n",
    "        res.append(name[:3].upper())\n",
    "    return res\n",
    " \n",
    "print(update_names(get_names()))\n",
    "```\n",
    "A. ```['JAN', 'STE']```\n",
    "\n",
    "B. ```['JA', 'ST']```\n",
    "\n",
    "C. ```['MAR', 'JAN', 'STE']```\n",
    "\n",
    "D. ```['MA', 'JA', 'ST']```"
   ]
  },
  {
   "cell_type": "markdown",
   "id": "d7b9edb4",
   "metadata": {},
   "source": [
    "# Solution 20"
   ]
  },
  {
   "cell_type": "code",
   "execution_count": 109,
   "id": "b12a9fd8",
   "metadata": {},
   "outputs": [
    {
     "name": "stdout",
     "output_type": "stream",
     "text": [
      "['Mary', 'Jane', 'Steve']\n"
     ]
    }
   ],
   "source": [
    "# concepto previo 1\n",
    "names = ['Peter', 'Paul', 'Mary', 'Jane', 'Steve']\n",
    "print(names[2:])   # ['Mary', 'Jane', 'Steve']"
   ]
  },
  {
   "cell_type": "code",
   "execution_count": 110,
   "id": "f1fb9b94",
   "metadata": {},
   "outputs": [
    {
     "data": {
      "text/plain": [
       "'Pet'"
      ]
     },
     "execution_count": 110,
     "metadata": {},
     "output_type": "execute_result"
    }
   ],
   "source": [
    "# concepto previo 2\n",
    "nombre = 'Peter'\n",
    "nombre[:3]  # 'Pet'"
   ]
  },
  {
   "cell_type": "code",
   "execution_count": 111,
   "id": "11c6fbf6",
   "metadata": {},
   "outputs": [],
   "source": [
    "# el propio ejercicio"
   ]
  },
  {
   "cell_type": "code",
   "execution_count": 112,
   "id": "20a1993c",
   "metadata": {},
   "outputs": [
    {
     "name": "stdout",
     "output_type": "stream",
     "text": [
      "['MAR', 'JAN', 'STE']\n"
     ]
    }
   ],
   "source": [
    "def get_names():\n",
    "    names = ['Peter', 'Paul', 'Mary', 'Jane', 'Steve']\n",
    "    return names[2:]   # ['Mary', 'Jane', 'Steve']\n",
    " \n",
    "def update_names(names):\n",
    "    res = []\n",
    "    for name in names:\n",
    "        res.append(name[:3].upper())  # ['MAR', 'JAN', 'STE']\n",
    "    return res\n",
    " \n",
    "print(update_names(get_names()))"
   ]
  },
  {
   "cell_type": "code",
   "execution_count": 113,
   "id": "e9bebd8e",
   "metadata": {},
   "outputs": [],
   "source": [
    "# Solución \n",
    "# C"
   ]
  },
  {
   "cell_type": "markdown",
   "id": "d5e9f622",
   "metadata": {},
   "source": [
    "****"
   ]
  },
  {
   "cell_type": "markdown",
   "id": "81431c41",
   "metadata": {},
   "source": [
    "# Question 21  (Operators)"
   ]
  },
  {
   "cell_type": "markdown",
   "id": "44e54d27-b930-4aad-ae60-e98c172cf80c",
   "metadata": {},
   "source": [
    "What is the expected output of the following code?\n",
    "```\n",
    "a = 1\n",
    "b = 0\n",
    "c = a & b\n",
    "d = a | b\n",
    "e = a ^ b\n",
    "print(c + d + e)\n",
    "```\n",
    "A. ```1```\n",
    "\n",
    "B. ```2```\n",
    "\n",
    "C. ```0```\n",
    "\n",
    "D. ```3```"
   ]
  },
  {
   "cell_type": "markdown",
   "id": "d6fc851e",
   "metadata": {},
   "source": [
    "# Solution 21"
   ]
  },
  {
   "cell_type": "code",
   "execution_count": 115,
   "id": "349d1e74",
   "metadata": {},
   "outputs": [
    {
     "data": {
      "text/plain": [
       "'\\n\\nOperator\\tExample\\tMeaning\\n&\\ta & b\\tBitwise AND\\n|\\ta | b\\tBitwise OR\\n^\\ta ^ b\\tBitwise XOR (exclusive OR)\\n~\\t~a\\tBitwise NOT\\n<<\\ta << n\\tBitwise left shift\\n>>\\ta >> n\\tBitwise right shift\\n'"
      ]
     },
     "execution_count": 115,
     "metadata": {},
     "output_type": "execute_result"
    }
   ],
   "source": [
    "# https://realpython.com/python-bitwise-operators/\n",
    "\"\"\"\n",
    "\n",
    "Operator\tExample\tMeaning\n",
    "&\ta & b\tBitwise AND\n",
    "|\ta | b\tBitwise OR\n",
    "^\ta ^ b\tBitwise XOR (exclusive OR)\n",
    "~\t~a\tBitwise NOT\n",
    "<<\ta << n\tBitwise left shift\n",
    ">>\ta >> n\tBitwise right shift\n",
    "\"\"\""
   ]
  },
  {
   "cell_type": "code",
   "execution_count": 116,
   "id": "c5bb1241",
   "metadata": {},
   "outputs": [
    {
     "name": "stdout",
     "output_type": "stream",
     "text": [
      "2\n"
     ]
    }
   ],
   "source": [
    "a = 1                       # => a = 1   \n",
    "b = 0                       # => b = 0\n",
    "c = a & b          # 1 AND 0  => c = 0\n",
    "d = a | b          # 1 OR  0  => d = 1\n",
    "e = a ^ b          # 1 XOR 0  => e = 1\n",
    "\n",
    "print(c + d + e)       # 0 + 1 + 1 = 2"
   ]
  },
  {
   "cell_type": "code",
   "execution_count": 117,
   "id": "d7cc1541",
   "metadata": {},
   "outputs": [],
   "source": [
    "# Solución\n",
    "# B"
   ]
  },
  {
   "cell_type": "markdown",
   "id": "765bca13",
   "metadata": {},
   "source": [
    "****"
   ]
  },
  {
   "cell_type": "markdown",
   "id": "5d06fd5f",
   "metadata": {},
   "source": [
    "# Question 22 (Functions)"
   ]
  },
  {
   "cell_type": "markdown",
   "id": "83d91ba4-c94c-4fe8-a771-7e8655ed45f6",
   "metadata": {},
   "source": [
    "What is the expected output of the following code?\n",
    "\n",
    "```\n",
    "def func1(param):\n",
    "    return param\n",
    "  \n",
    "def func2(param):\n",
    "    return param * 2\n",
    " \n",
    "def func3(param):\n",
    "    return param + 3\n",
    "  \n",
    "print(func1(func2(func3(1))))\n",
    "```\n",
    "\n",
    "A. ```8```\n",
    "\n",
    "B. ```1```\n",
    "\n",
    "C. ```6```\n",
    "\n",
    "D. ```3```"
   ]
  },
  {
   "cell_type": "markdown",
   "id": "a585a4f7",
   "metadata": {},
   "source": [
    "# Solution 22"
   ]
  },
  {
   "cell_type": "code",
   "execution_count": 119,
   "id": "01e03084",
   "metadata": {},
   "outputs": [
    {
     "name": "stdout",
     "output_type": "stream",
     "text": [
      "8\n"
     ]
    }
   ],
   "source": [
    "def func1(param):\n",
    "    return param\n",
    " \n",
    "def func2(param):\n",
    "    return param * 2\n",
    " \n",
    "def func3(param):\n",
    "    return param + 3\n",
    " \n",
    "print(func1(func2(func3(1))))\n",
    "#     func1(func2(1+3)     # retorna parámetro + 3     \n",
    "#     func1(func2(4))      # entonces..\n",
    "#     func1(2*4)           # retorna parámetro * 2\n",
    "#     func1(8)             # entonces..\n",
    "#          8               # retorna el propio parámetro"
   ]
  },
  {
   "cell_type": "code",
   "execution_count": 120,
   "id": "f7bea222",
   "metadata": {},
   "outputs": [],
   "source": [
    "# Solución\n",
    "# A"
   ]
  },
  {
   "cell_type": "markdown",
   "id": "65986918",
   "metadata": {},
   "source": [
    "****"
   ]
  },
  {
   "cell_type": "markdown",
   "id": "d498db53",
   "metadata": {},
   "source": [
    "# Question 23  (Operators)"
   ]
  },
  {
   "cell_type": "markdown",
   "id": "d93cd7d2-9333-4d9a-b448-b16e2f7a750f",
   "metadata": {},
   "source": [
    "Consider the following code.\n",
    "```\n",
    "x = float('23.42')\n",
    "```\n",
    "Which of the following expressions will evaluate to ```2```?\n",
    "\n",
    "A. ```bool(x)```\n",
    "\n",
    "B. ```str(x)```\n",
    "\n",
    "C. ```bool(x) + True```\n",
    "\n",
    "D. ```int(x) + False```"
   ]
  },
  {
   "cell_type": "markdown",
   "id": "f3d4041e",
   "metadata": {},
   "source": [
    "# Solution 23"
   ]
  },
  {
   "cell_type": "code",
   "execution_count": 122,
   "id": "77352bc5",
   "metadata": {},
   "outputs": [
    {
     "data": {
      "text/plain": [
       "23.42"
      ]
     },
     "execution_count": 122,
     "metadata": {},
     "output_type": "execute_result"
    }
   ],
   "source": [
    "x = float('23.42')     # float de un string es float\n",
    "x"
   ]
  },
  {
   "cell_type": "code",
   "execution_count": 123,
   "id": "99251c1b",
   "metadata": {},
   "outputs": [
    {
     "data": {
      "text/plain": [
       "True"
      ]
     },
     "execution_count": 123,
     "metadata": {},
     "output_type": "execute_result"
    }
   ],
   "source": [
    "# A\n",
    "bool(x)                # si hay elementos, da 1"
   ]
  },
  {
   "cell_type": "code",
   "execution_count": 124,
   "id": "69a897ed",
   "metadata": {},
   "outputs": [],
   "source": [
    "# B\n",
    "# str(x)\n",
    "\n",
    "# TypeError: 'str' object is not callable"
   ]
  },
  {
   "cell_type": "code",
   "execution_count": 125,
   "id": "a7ba8441",
   "metadata": {},
   "outputs": [
    {
     "data": {
      "text/plain": [
       "2"
      ]
     },
     "execution_count": 125,
     "metadata": {},
     "output_type": "execute_result"
    }
   ],
   "source": [
    "# C\n",
    "bool(x) + True"
   ]
  },
  {
   "cell_type": "code",
   "execution_count": 126,
   "id": "dfd46746",
   "metadata": {},
   "outputs": [
    {
     "data": {
      "text/plain": [
       "23"
      ]
     },
     "execution_count": 126,
     "metadata": {},
     "output_type": "execute_result"
    }
   ],
   "source": [
    "int(x)"
   ]
  },
  {
   "cell_type": "code",
   "execution_count": 127,
   "id": "62d7cbea",
   "metadata": {},
   "outputs": [
    {
     "data": {
      "text/plain": [
       "False"
      ]
     },
     "execution_count": 127,
     "metadata": {},
     "output_type": "execute_result"
    }
   ],
   "source": [
    "False"
   ]
  },
  {
   "cell_type": "code",
   "execution_count": 128,
   "id": "ce414af2",
   "metadata": {},
   "outputs": [
    {
     "data": {
      "text/plain": [
       "0"
      ]
     },
     "execution_count": 128,
     "metadata": {},
     "output_type": "execute_result"
    }
   ],
   "source": [
    "0 + False"
   ]
  },
  {
   "cell_type": "code",
   "execution_count": 129,
   "id": "11dc1e73",
   "metadata": {},
   "outputs": [
    {
     "data": {
      "text/plain": [
       "23"
      ]
     },
     "execution_count": 129,
     "metadata": {},
     "output_type": "execute_result"
    }
   ],
   "source": [
    "# D \n",
    "int(x) + False"
   ]
  },
  {
   "cell_type": "code",
   "execution_count": 130,
   "id": "1289d798",
   "metadata": {},
   "outputs": [],
   "source": [
    "# Solución\n",
    "# C"
   ]
  },
  {
   "cell_type": "markdown",
   "id": "604cd85f",
   "metadata": {},
   "source": [
    "**ejemplos para la explicación**"
   ]
  },
  {
   "cell_type": "code",
   "execution_count": 131,
   "id": "80cec04c",
   "metadata": {},
   "outputs": [
    {
     "name": "stdout",
     "output_type": "stream",
     "text": [
      "bool(k1): False\n",
      "bool(k2) True\n",
      "bool(k3) True\n",
      "bool(k4) True\n"
     ]
    }
   ],
   "source": [
    "k1 = ''\n",
    "print('bool(k1):', bool(k1))     # no hay nada\n",
    "\n",
    "k2 = ' '\n",
    "print('bool(k2)', bool(k2))      # hay un espacio\n",
    "\n",
    "k3 = 13\n",
    "print('bool(k3)', bool(k3))      # un número (positivo)\n",
    "\n",
    "k4 = -15\n",
    "print('bool(k4)', bool(k4))      # un número (negativo)"
   ]
  },
  {
   "cell_type": "code",
   "execution_count": 132,
   "id": "63a6f55c",
   "metadata": {},
   "outputs": [
    {
     "data": {
      "text/plain": [
       "2"
      ]
     },
     "execution_count": 132,
     "metadata": {},
     "output_type": "execute_result"
    }
   ],
   "source": [
    "True + 1    # True = 1"
   ]
  },
  {
   "cell_type": "code",
   "execution_count": 133,
   "id": "b9d7ddb6",
   "metadata": {},
   "outputs": [
    {
     "data": {
      "text/plain": [
       "4"
      ]
     },
     "execution_count": 133,
     "metadata": {},
     "output_type": "execute_result"
    }
   ],
   "source": [
    "True + 3"
   ]
  },
  {
   "cell_type": "code",
   "execution_count": 134,
   "id": "e4d8a455",
   "metadata": {},
   "outputs": [
    {
     "data": {
      "text/plain": [
       "1"
      ]
     },
     "execution_count": 134,
     "metadata": {},
     "output_type": "execute_result"
    }
   ],
   "source": [
    "False + 1   # False = 0"
   ]
  },
  {
   "cell_type": "code",
   "execution_count": 135,
   "id": "783db85c",
   "metadata": {},
   "outputs": [
    {
     "data": {
      "text/plain": [
       "-2"
      ]
     },
     "execution_count": 135,
     "metadata": {},
     "output_type": "execute_result"
    }
   ],
   "source": [
    "False - 2"
   ]
  },
  {
   "cell_type": "markdown",
   "id": "835f97e7",
   "metadata": {},
   "source": [
    "****"
   ]
  },
  {
   "cell_type": "markdown",
   "id": "78fbdd42",
   "metadata": {},
   "source": [
    "# Question 24  (Data Types)"
   ]
  },
  {
   "cell_type": "markdown",
   "id": "c3d108f5-7041-4143-8df0-d7329002f075",
   "metadata": {},
   "source": [
    "What is the expected output of the following code?\n",
    "```\n",
    "print(chr(ord('p') + 3))\n",
    "```\n",
    "\n",
    "A. ```s```\n",
    "\n",
    "B. ```q```\n",
    "\n",
    "C. ```t```\n",
    "\n",
    "D. ```r```"
   ]
  },
  {
   "cell_type": "markdown",
   "id": "d5c13634",
   "metadata": {},
   "source": [
    "# Solution 24"
   ]
  },
  {
   "cell_type": "code",
   "execution_count": 137,
   "id": "5cc7ef59",
   "metadata": {},
   "outputs": [
    {
     "data": {
      "text/plain": [
       "112"
      ]
     },
     "execution_count": 137,
     "metadata": {},
     "output_type": "execute_result"
    }
   ],
   "source": [
    "ord('p')"
   ]
  },
  {
   "cell_type": "code",
   "execution_count": 138,
   "id": "49151dfc",
   "metadata": {},
   "outputs": [
    {
     "name": "stdout",
     "output_type": "stream",
     "text": [
      "s\n"
     ]
    }
   ],
   "source": [
    "print(chr(ord('p') + 3))  # s"
   ]
  },
  {
   "cell_type": "code",
   "execution_count": 139,
   "id": "0720e349",
   "metadata": {},
   "outputs": [],
   "source": [
    "# Solución\n",
    "# A"
   ]
  },
  {
   "cell_type": "markdown",
   "id": "ea130605",
   "metadata": {},
   "source": [
    "****"
   ]
  },
  {
   "cell_type": "markdown",
   "id": "eabe69e0",
   "metadata": {},
   "source": [
    "# Question 25  (Data Types)"
   ]
  },
  {
   "cell_type": "markdown",
   "id": "7c3f0ef2-66fc-4367-828b-0226f9a8d8f3",
   "metadata": {},
   "source": [
    "You want the name, the user puts in to be written back to the monitor.\n",
    "\n",
    "What snippet would you insert in the line indicated below:\n",
    "\n",
    "```\n",
    "print('Enter Your Name: ')\n",
    "# insert your code here\n",
    "print(name)\n",
    "```\n",
    "A. ```name = input```\n",
    "\n",
    "B. ```input('name')```\n",
    "\n",
    "C. ```input(name)```\n",
    "\n",
    "D. ```name = input()```"
   ]
  },
  {
   "cell_type": "markdown",
   "id": "ed73ab3d",
   "metadata": {},
   "source": [
    "# Solution 25"
   ]
  },
  {
   "cell_type": "code",
   "execution_count": 141,
   "id": "36615df1",
   "metadata": {},
   "outputs": [
    {
     "name": "stdout",
     "output_type": "stream",
     "text": [
      "Enter Your Name: \n",
      "Jose\n",
      "Jose\n"
     ]
    }
   ],
   "source": [
    "print('Enter Your Name: ')\n",
    "name = input()\n",
    "print(name)"
   ]
  },
  {
   "cell_type": "code",
   "execution_count": 142,
   "id": "492604b0",
   "metadata": {},
   "outputs": [],
   "source": [
    "# Solución\n",
    "# D"
   ]
  },
  {
   "cell_type": "markdown",
   "id": "df1832a6",
   "metadata": {},
   "source": [
    "****"
   ]
  },
  {
   "cell_type": "markdown",
   "id": "e16354ab",
   "metadata": {},
   "source": [
    "# Question 26  (Control Flow)"
   ]
  },
  {
   "cell_type": "markdown",
   "id": "b84e62e1-9fda-4637-952d-637510596004",
   "metadata": {},
   "source": [
    "What would you insert instead of ???\n",
    "\n",
    "so that the program prints TRUE to the monitor?\n",
    "\n",
    "```\n",
    "w = 7\n",
    "x = 3\n",
    "y = 4\n",
    "z = True\n",
    "a = w + x * y\n",
    "b = w + x / z\n",
    " \n",
    "if ???:\n",
    "    print('TRUE')\n",
    "else:\n",
    "    print('FALSE')\n",
    "```\n",
    "A. ```a < b```\n",
    "\n",
    "B. ```a <= b```\n",
    "\n",
    "C. ```a > b```\n",
    "\n",
    "D. ```a == b```"
   ]
  },
  {
   "cell_type": "markdown",
   "id": "58b8ab3f",
   "metadata": {},
   "source": [
    "# Solution 26"
   ]
  },
  {
   "cell_type": "code",
   "execution_count": 144,
   "id": "547d3a25",
   "metadata": {},
   "outputs": [
    {
     "data": {
      "text/plain": [
       "2"
      ]
     },
     "execution_count": 144,
     "metadata": {},
     "output_type": "execute_result"
    }
   ],
   "source": [
    "True + 1  # True en las sumas => 1"
   ]
  },
  {
   "cell_type": "code",
   "execution_count": 1,
   "id": "aa8bbbc1",
   "metadata": {},
   "outputs": [
    {
     "name": "stdout",
     "output_type": "stream",
     "text": [
      "TRUE\n"
     ]
    }
   ],
   "source": [
    "w = 7\n",
    "x = 3\n",
    "y = 4\n",
    "z = True           # 1 en las sumas\n",
    "a = w + x * y      # 7 + 3 * 4 => a = 14 \n",
    "b = w + x / z      # 7 + 3 / 1 => b = 10\n",
    " \n",
    "if a > b:\n",
    "    print('TRUE')\n",
    "else:\n",
    "    print('FALSE')"
   ]
  },
  {
   "cell_type": "code",
   "execution_count": 146,
   "id": "583313ff",
   "metadata": {},
   "outputs": [],
   "source": [
    "# Solución\n",
    "# C"
   ]
  },
  {
   "cell_type": "markdown",
   "id": "40d4ffc3",
   "metadata": {},
   "source": [
    "****"
   ]
  },
  {
   "cell_type": "markdown",
   "id": "c8261723",
   "metadata": {},
   "source": [
    "# Question 27  (Error Handling)"
   ]
  },
  {
   "cell_type": "markdown",
   "id": "509b9c04-476a-406a-aeed-fa9f94ca0e6d",
   "metadata": {},
   "source": [
    "Which of the following snippets shows the correct way\n",
    "\n",
    "of handling multiple exceptions in a single except clause?\n",
    "\n",
    "A. \n",
    "```\n",
    "except: TypeError, ValueError, ZeroDivisionError\n",
    "    some code.\n",
    "```\n",
    "B. \n",
    "```       \n",
    "except: (TypeError, ValueError, ZeroDivisionError)\n",
    "    some code.\n",
    "```\n",
    "\n",
    "C. \n",
    "```        \n",
    "except TypeError, ValueError, ZeroDivisionError\n",
    "    some code.\n",
    "```\n",
    "\n",
    "D. \n",
    "```       \n",
    "except TypeError, ValueError, ZeroDivisionError:\n",
    "    some code.\n",
    "```    \n",
    "    \n",
    "E.\n",
    "```\n",
    "except (TypeError, ValueError, ZeroDivisionError)\n",
    "    some code.\n",
    "```  \n",
    "    \n",
    "F.\n",
    "```        \n",
    "except (TypeError, ValueError, ZeroDivisionError):\n",
    "    some code.\n",
    "```"
   ]
  },
  {
   "cell_type": "markdown",
   "id": "0f852573",
   "metadata": {},
   "source": [
    "# Solution 27"
   ]
  },
  {
   "cell_type": "code",
   "execution_count": 148,
   "id": "70e94375",
   "metadata": {},
   "outputs": [],
   "source": [
    "# https://www.tutorialspoint.com/How-to-use-the-except-clause-with-multiple-exceptions-in-Python\n",
    "\n",
    "# Except(Exception1, Exception2,…ExceptionN) as e:"
   ]
  },
  {
   "cell_type": "code",
   "execution_count": 149,
   "id": "a68daf75",
   "metadata": {},
   "outputs": [],
   "source": [
    "# Solución\n",
    "# F"
   ]
  },
  {
   "cell_type": "markdown",
   "id": "9b4edf51",
   "metadata": {},
   "source": [
    "****"
   ]
  },
  {
   "cell_type": "markdown",
   "id": "110816c7",
   "metadata": {},
   "source": [
    "# Question 28  (Data Aggregates) "
   ]
  },
  {
   "cell_type": "markdown",
   "id": "2bda350a-b336-4b7e-956c-74efd2bf68fb",
   "metadata": {},
   "source": [
    "What is the expected output of the following code?\n",
    "\n",
    "```\n",
    "data = {}\n",
    "data[1] = 1\n",
    "data['1'] = 2\n",
    "data[1.0] = 4\n",
    " \n",
    "res = 0\n",
    "for d in data:\n",
    "    res += data[d]\n",
    " \n",
    "print(res)\n",
    "```\n",
    "A. ```6```\n",
    "\n",
    "B. ```7```\n",
    "\n",
    "C. ```3```\n",
    "\n",
    "D. The code is erroneous"
   ]
  },
  {
   "cell_type": "markdown",
   "id": "66791312",
   "metadata": {},
   "source": [
    "# Solution 28"
   ]
  },
  {
   "cell_type": "code",
   "execution_count": 151,
   "id": "bd66a37f",
   "metadata": {},
   "outputs": [],
   "source": [
    "# -----primero analizo el diccionario-----"
   ]
  },
  {
   "cell_type": "code",
   "execution_count": 152,
   "id": "973a9753",
   "metadata": {},
   "outputs": [
    {
     "name": "stdout",
     "output_type": "stream",
     "text": [
      "data: {}\n",
      "\n",
      "\n",
      "data: {1: 1}\n",
      "\n",
      "\n",
      "data: {1: 1, '1': 2}\n",
      "\n",
      "\n",
      "data: {1: 4, '1': 2}\n",
      "\n",
      "\n"
     ]
    }
   ],
   "source": [
    "data = {}\n",
    "print('data:', data)\n",
    "print('\\n')\n",
    "\n",
    "data[1] = 1\n",
    "print('data:', data)\n",
    "print('\\n')\n",
    "\n",
    "data['1'] = 2\n",
    "print('data:', data)\n",
    "print('\\n')\n",
    "\n",
    "data[1.0] = 4                 # aunque venga en formato decimal, reconoce el 1 (número)\n",
    "print('data:', data)          # y modifica por tanto, el valor asociado a esa clave\n",
    "print('\\n')"
   ]
  },
  {
   "cell_type": "code",
   "execution_count": 153,
   "id": "fd9b2d75",
   "metadata": {},
   "outputs": [],
   "source": [
    "# bucle for...cambiando las claves.."
   ]
  },
  {
   "cell_type": "code",
   "execution_count": 154,
   "id": "2bfab26e",
   "metadata": {},
   "outputs": [
    {
     "name": "stdout",
     "output_type": "stream",
     "text": [
      "1\n",
      "2\n"
     ]
    }
   ],
   "source": [
    "# imprimo las claves\n",
    "\n",
    "data = {1:4, '2':2} \n",
    "for d in data:\n",
    "    print(d)"
   ]
  },
  {
   "cell_type": "code",
   "execution_count": 155,
   "id": "4b16dcc2",
   "metadata": {},
   "outputs": [
    {
     "name": "stdout",
     "output_type": "stream",
     "text": [
      "4\n",
      "2\n"
     ]
    }
   ],
   "source": [
    "# imprimo los valores\n",
    "\n",
    "data = {1:4, '2':2} \n",
    "for d in data:\n",
    "    print(data[d])"
   ]
  },
  {
   "cell_type": "code",
   "execution_count": 156,
   "id": "2414815a",
   "metadata": {},
   "outputs": [],
   "source": [
    "# --------el ejercicio completo ----------"
   ]
  },
  {
   "cell_type": "code",
   "execution_count": 157,
   "id": "b169c6e9",
   "metadata": {},
   "outputs": [
    {
     "name": "stdout",
     "output_type": "stream",
     "text": [
      "{}\n",
      "{1: 1}\n",
      "{1: 1, '1': 2}\n",
      "{1: 4, '1': 2}\n",
      "\n",
      "\n",
      "d: 1 data[d]: 4\n",
      "res: 4\n",
      "d: 1 data[d]: 2\n",
      "res: 6\n",
      "\n",
      "\n",
      "6\n"
     ]
    }
   ],
   "source": [
    "data = {}\n",
    "print(data)\n",
    "\n",
    "data[1] = 1        # data = {1:1}\n",
    "print(data)\n",
    "\n",
    "data['1'] = 2      # data = {1:1, '1': 2}\n",
    "print(data)\n",
    "\n",
    "data[1.0] = 4      # data = {1:4, '1':2} \n",
    "# (reconoce aun siendo decimal)\n",
    "print(data)\n",
    " \n",
    "print(\"\\n\")\n",
    "\n",
    "res = 0\n",
    "for d in data:\n",
    "    res += data[d]   # res = res + data[d]  ======> va a sumar los 2 values (2+4)\n",
    "    print('d:', d, 'data[d]:', data[d])\n",
    "    print('res:', res)\n",
    "\n",
    "print(\"\\n\")\n",
    "print(res)       # ==> dado que suma los values asociados a las keys ==> 2+4 = 6"
   ]
  },
  {
   "cell_type": "code",
   "execution_count": 158,
   "id": "5538b1a4",
   "metadata": {},
   "outputs": [],
   "source": [
    "# Solución\n",
    "# A"
   ]
  },
  {
   "cell_type": "markdown",
   "id": "fa4c8364",
   "metadata": {},
   "source": [
    "****"
   ]
  },
  {
   "cell_type": "markdown",
   "id": "916b44a4",
   "metadata": {},
   "source": [
    "# Question 29"
   ]
  },
  {
   "cell_type": "markdown",
   "id": "4f4793d9-23a9-4a5b-a42a-c014bd806020",
   "metadata": {},
   "source": [
    "What will happen when you attempt to run the following code?\n",
    "\n",
    "\n",
    "```\n",
    "While True:\n",
    "    print(\"1\")\n",
    "```\n",
    "\n",
    "A. The program will fall into infinite loop, printing ```1``` on each line\n",
    "\n",
    "B. The program will print ```1```, on one line only\n",
    "\n",
    "C. The program will run and cause an error\n",
    "\n",
    "D. The program will not run due to ```syntax error```\n"
   ]
  },
  {
   "cell_type": "markdown",
   "id": "dd037d8e-18b2-4604-99c8-6a0f15e73b97",
   "metadata": {},
   "source": [
    "# Solution 29"
   ]
  },
  {
   "cell_type": "code",
   "execution_count": 160,
   "id": "11d0c2a7",
   "metadata": {},
   "outputs": [
    {
     "data": {
      "text/plain": [
       "'While True:\\n    print(\"1\")'"
      ]
     },
     "execution_count": 160,
     "metadata": {},
     "output_type": "execute_result"
    }
   ],
   "source": [
    "\"\"\"While True:\n",
    "    print(\"1\")\"\"\"\n",
    "    \n",
    "# la w es mayúscula"
   ]
  },
  {
   "cell_type": "code",
   "execution_count": 161,
   "id": "b8deeb0e",
   "metadata": {},
   "outputs": [],
   "source": [
    "# Ojo!!!! la w es mayúscula"
   ]
  },
  {
   "cell_type": "code",
   "execution_count": 162,
   "id": "28b23b75",
   "metadata": {},
   "outputs": [
    {
     "data": {
      "text/plain": [
       "'while True:\\n    print(\"1\")'"
      ]
     },
     "execution_count": 162,
     "metadata": {},
     "output_type": "execute_result"
    }
   ],
   "source": [
    "# Otro ejemplo..\n",
    "\n",
    "\"\"\"while True:\n",
    "    print(\"1\")\"\"\"\n",
    "\n",
    "# bucle infinito"
   ]
  },
  {
   "cell_type": "code",
   "execution_count": 163,
   "id": "b2ab0095",
   "metadata": {},
   "outputs": [],
   "source": [
    "# Solución\n",
    "# D"
   ]
  },
  {
   "cell_type": "markdown",
   "id": "10195893",
   "metadata": {},
   "source": [
    "**conclusion/reflexión**"
   ]
  },
  {
   "cell_type": "markdown",
   "id": "069cd886",
   "metadata": {},
   "source": [
    "hay que leer muy bien las respuestas, y el propio código\n",
    "\n",
    "pudiéramos pensar que es un bucle infinito por el while True\n",
    "\n",
    "pero debemos saber que WHILE o While no son palabras reconocidas \n",
    "\n",
    "en Python la única opción es while con minúsculas todas sus letras"
   ]
  },
  {
   "cell_type": "markdown",
   "id": "93d2eb6f",
   "metadata": {},
   "source": [
    "****"
   ]
  },
  {
   "cell_type": "markdown",
   "id": "adbedc11",
   "metadata": {},
   "source": [
    "# Question 30  (Functions)"
   ]
  },
  {
   "cell_type": "markdown",
   "id": "e630404c-cfc6-4383-aa76-0d3495fb4f2c",
   "metadata": {},
   "source": [
    "The following snippet:\n",
    "```\n",
    "def func(a, b):\n",
    "    return a ** a\n",
    " \n",
    "print(func(2))\n",
    "```\n",
    "A. will return ```None```\n",
    "\n",
    "B. will output ```2```\n",
    "\n",
    "C. will output ```4```\n",
    "\n",
    "D. is erroneous"
   ]
  },
  {
   "cell_type": "markdown",
   "id": "a52798c7",
   "metadata": {},
   "source": [
    "# Solution 30"
   ]
  },
  {
   "cell_type": "code",
   "execution_count": 165,
   "id": "e26e3c04",
   "metadata": {},
   "outputs": [
    {
     "data": {
      "text/plain": [
       "'\\ndef func(a, b):\\n    return a ** a\\n \\nprint(func(2))\\n'"
      ]
     },
     "execution_count": 165,
     "metadata": {},
     "output_type": "execute_result"
    }
   ],
   "source": [
    "\"\"\"\n",
    "def func(a, b):\n",
    "    return a ** a\n",
    " \n",
    "print(func(2))\n",
    "\"\"\"\n",
    "\n",
    "\n",
    "# TypeError: func() missing 1 required positional argument: 'b'"
   ]
  },
  {
   "cell_type": "code",
   "execution_count": 166,
   "id": "e025a300",
   "metadata": {},
   "outputs": [],
   "source": [
    "# Solución\n",
    "# D"
   ]
  },
  {
   "cell_type": "markdown",
   "id": "e0459226",
   "metadata": {},
   "source": [
    "**conclusión**"
   ]
  },
  {
   "cell_type": "markdown",
   "id": "a326e5de",
   "metadata": {},
   "source": [
    "no importa cuantas variables uses realmente en la función  (en la definición)\n",
    "\n",
    "si pasas 2 variables como argumento, debe saberse el valor de ambas (en la llamada)"
   ]
  },
  {
   "cell_type": "markdown",
   "id": "24d58aa6",
   "metadata": {},
   "source": [
    "****"
   ]
  },
  {
   "cell_type": "markdown",
   "id": "9b75b65e",
   "metadata": {},
   "source": [
    "*Gracias por la atención*\n",
    "\n",
    "*Isabel Maniega*"
   ]
  }
 ],
 "metadata": {
  "kernelspec": {
   "display_name": "Python 3 (ipykernel)",
   "language": "python",
   "name": "python3"
  },
  "language_info": {
   "codemirror_mode": {
    "name": "ipython",
    "version": 3
   },
   "file_extension": ".py",
   "mimetype": "text/x-python",
   "name": "python",
   "nbconvert_exporter": "python",
   "pygments_lexer": "ipython3",
   "version": "3.8.19"
  }
 },
 "nbformat": 4,
 "nbformat_minor": 5
}

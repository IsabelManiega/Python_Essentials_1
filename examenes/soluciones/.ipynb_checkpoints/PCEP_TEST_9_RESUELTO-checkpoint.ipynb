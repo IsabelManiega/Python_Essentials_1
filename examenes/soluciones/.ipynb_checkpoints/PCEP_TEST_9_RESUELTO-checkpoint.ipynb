{
 "cells": [
  {
   "cell_type": "markdown",
   "id": "45329112",
   "metadata": {},
   "source": [
    "*Contenido creado por: Isabel Maniega*"
   ]
  },
  {
   "cell_type": "markdown",
   "id": "9f3aa8ed",
   "metadata": {},
   "source": [
    "****"
   ]
  },
  {
   "cell_type": "markdown",
   "id": "30e443de",
   "metadata": {},
   "source": [
    "# Question 1   (Basics) "
   ]
  },
  {
   "cell_type": "markdown",
   "id": "c98158cc-7f84-4760-9fa9-01490d2089d5",
   "metadata": {},
   "source": [
    "You have the following file.\n",
    "\n",
    "\n",
    "index.py:\n",
    "```\n",
    "from sys import argv\n",
    "sum = 0\n",
    "for i in range(2, len(argv)):\n",
    "    sum += float(argv[i])\n",
    "print(\n",
    "    \"The average score for {0} is {1:.2f}\"\n",
    "    .format(argv[1], sum/(len(argv)-2))\n",
    ")\n",
    "```\n",
    "\n",
    "You want the following output.\n",
    "```\n",
    "The average score for Peter is 200.00\n",
    "```\n",
    "\n",
    "\n",
    "Which command do you have to execute in the command line?\n",
    "\n",
    "A. ```python index.py Peter 100 200 300```\n",
    "\n",
    "B. ```python index.py Peter 100```\n",
    "\n",
    "C. ```python index.py 100 200```\n",
    "\n",
    "D. The code is erroneous"
   ]
  },
  {
   "cell_type": "markdown",
   "id": "d5faea99",
   "metadata": {},
   "source": [
    "# Solution 1"
   ]
  },
  {
   "cell_type": "code",
   "execution_count": 2,
   "id": "b870956e",
   "metadata": {},
   "outputs": [
    {
     "data": {
      "text/plain": [
       "'\\nfrom sys import argv\\nsum = 0\\nfor i in range(2, len(argv)):\\n    sum += float(argv[i])\\nprint(\\n    \"The average score for {0} is {1:.2f}\"\\n    .format(argv[1], sum/(len(argv)-2))\\n)\\n\\n'"
      ]
     },
     "execution_count": 2,
     "metadata": {},
     "output_type": "execute_result"
    }
   ],
   "source": [
    "# index.py:\n",
    "\"\"\"\n",
    "from sys import argv\n",
    "sum = 0\n",
    "for i in range(2, len(argv)):\n",
    "    sum += float(argv[i])\n",
    "print(\n",
    "    \"The average score for {0} is {1:.2f}\"\n",
    "    .format(argv[1], sum/(len(argv)-2))\n",
    ")\n",
    "\n",
    "\"\"\"\n",
    "# You want the following output.\n",
    "# The average score for Peter is 200.00\n",
    "\n",
    "# index3 en la carpeta prueba\n",
    "# python3 index3.py Peter 100 200 300"
   ]
  },
  {
   "cell_type": "code",
   "execution_count": 3,
   "id": "306e7ba4",
   "metadata": {},
   "outputs": [],
   "source": [
    "# Solución\n",
    "# A"
   ]
  },
  {
   "cell_type": "markdown",
   "id": "0b1bda60",
   "metadata": {},
   "source": [
    "****"
   ]
  },
  {
   "cell_type": "markdown",
   "id": "68ca6364",
   "metadata": {},
   "source": [
    "# Question 2    (Data Aggregates)"
   ]
  },
  {
   "cell_type": "markdown",
   "id": "6f2718b7-bd2d-410b-9dc5-7a589653a762",
   "metadata": {},
   "source": [
    "What is the expected output of the following code?\n",
    "```\n",
    "data1 = '1', '2'\n",
    "data2 = ('3', '4')\n",
    "print(data1 + data2)\n",
    "```\n",
    "A. ```('1', '2', '3', '4')```\n",
    "\n",
    "B. ```(1, 2, 3, 4)```\n",
    "\n",
    "C. ```['1', '2', '3', '4']```\n",
    "\n",
    "D. The code is erroneous"
   ]
  },
  {
   "cell_type": "markdown",
   "id": "f6de23c2",
   "metadata": {},
   "source": [
    "# Solution 2"
   ]
  },
  {
   "cell_type": "code",
   "execution_count": 5,
   "id": "738e577b",
   "metadata": {},
   "outputs": [],
   "source": [
    "# ejemplos previos"
   ]
  },
  {
   "cell_type": "code",
   "execution_count": 6,
   "id": "d18966df",
   "metadata": {},
   "outputs": [],
   "source": [
    "d1 = 1,2\n",
    "d2 = (1, 2)"
   ]
  },
  {
   "cell_type": "code",
   "execution_count": 7,
   "id": "7e4b0029",
   "metadata": {},
   "outputs": [
    {
     "name": "stdout",
     "output_type": "stream",
     "text": [
      "d1: (1, 2)\n",
      "d2: (1, 2)\n",
      "type(d1) <class 'tuple'>\n",
      "type(d2) <class 'tuple'>\n",
      "d1+d2: (1, 2, 1, 2)\n"
     ]
    }
   ],
   "source": [
    "print('d1:', d1)\n",
    "print('d2:', d2)\n",
    "print('type(d1)', type(d1))\n",
    "print('type(d2)', type(d2))\n",
    "print('d1+d2:', d1+d2)"
   ]
  },
  {
   "cell_type": "code",
   "execution_count": 8,
   "id": "7c4b92d0",
   "metadata": {},
   "outputs": [
    {
     "name": "stdout",
     "output_type": "stream",
     "text": [
      "('1', '2', '3', '4')\n"
     ]
    }
   ],
   "source": [
    "data1 = '1', '2'\n",
    "data2 = ('3', '4')\n",
    "print(data1 + data2)"
   ]
  },
  {
   "cell_type": "code",
   "execution_count": 9,
   "id": "3f0beb8a",
   "metadata": {},
   "outputs": [],
   "source": [
    "# Solución\n",
    "# A"
   ]
  },
  {
   "cell_type": "markdown",
   "id": "a59fd575",
   "metadata": {},
   "source": [
    "****"
   ]
  },
  {
   "cell_type": "markdown",
   "id": "7900e7db",
   "metadata": {},
   "source": [
    "# Question 3    (Operators) "
   ]
  },
  {
   "cell_type": "markdown",
   "id": "c72dad0d-2989-4674-a11e-07bcebf45e58",
   "metadata": {},
   "source": [
    "What is the expected output of the following code?\n",
    "```\n",
    "x, y, z = 3, 2, 1\n",
    "z, y, x = x, y, z\n",
    "print(x, y, z)\n",
    "```\n",
    "A. ```2 1 3```\n",
    "\n",
    "B. ```3 2 1```\n",
    "\n",
    "C. ```1 2 2```\n",
    "\n",
    "D. ```1 2 3```"
   ]
  },
  {
   "cell_type": "markdown",
   "id": "2ea540ea",
   "metadata": {},
   "source": [
    "# Solution 3"
   ]
  },
  {
   "cell_type": "code",
   "execution_count": 11,
   "id": "d8a5f57f",
   "metadata": {},
   "outputs": [
    {
     "name": "stdout",
     "output_type": "stream",
     "text": [
      "1 2 3\n"
     ]
    }
   ],
   "source": [
    "x, y, z = 3, 2, 1\n",
    "# x = 3, y = 2, z = 1\n",
    "z, y, x = x, y, z\n",
    "# z = 3, y = 2, x = 1\n",
    "print(x, y, z) # 1 2 3"
   ]
  },
  {
   "cell_type": "code",
   "execution_count": 12,
   "id": "8a04e483",
   "metadata": {},
   "outputs": [],
   "source": [
    "# Solución\n",
    "# D"
   ]
  },
  {
   "cell_type": "markdown",
   "id": "f64c12d2",
   "metadata": {},
   "source": [
    "****"
   ]
  },
  {
   "cell_type": "markdown",
   "id": "423d9c69",
   "metadata": {},
   "source": [
    "# Question 4  (Error Handling)"
   ]
  },
  {
   "cell_type": "markdown",
   "id": "0849f2fd-64d1-4054-894f-d0ca26b10429",
   "metadata": {},
   "source": [
    "What is the expected output of the following code?\n",
    "```\n",
    "try:\n",
    "    raise Exception\n",
    "except BaseException:\n",
    "    print('1')\n",
    "except Exception:\n",
    "    print('2')\n",
    "except:\n",
    "    print('3')\n",
    "```\n",
    "\n",
    "A.```3```\n",
    "\n",
    "B. The code is erroneous\n",
    "\n",
    "C. ```1```\n",
    "\n",
    "D. ```2```"
   ]
  },
  {
   "cell_type": "markdown",
   "id": "05d8aa34",
   "metadata": {},
   "source": [
    "# Solution 4"
   ]
  },
  {
   "cell_type": "code",
   "execution_count": 14,
   "id": "1395291d",
   "metadata": {},
   "outputs": [
    {
     "name": "stdout",
     "output_type": "stream",
     "text": [
      "1\n"
     ]
    }
   ],
   "source": [
    "try:\n",
    "    raise Exception\n",
    "except BaseException:\n",
    "    print('1')\n",
    "except Exception:\n",
    "    print('2')\n",
    "except:\n",
    "    print('3')"
   ]
  },
  {
   "cell_type": "code",
   "execution_count": 15,
   "id": "3ead24c4",
   "metadata": {},
   "outputs": [],
   "source": [
    "# Solución\n",
    "# C"
   ]
  },
  {
   "cell_type": "markdown",
   "id": "94724fac",
   "metadata": {},
   "source": [
    "****"
   ]
  },
  {
   "cell_type": "markdown",
   "id": "acf12e8c",
   "metadata": {},
   "source": [
    "# Question 5   (Operators)"
   ]
  },
  {
   "cell_type": "markdown",
   "id": "2d91e7ce-b2c8-47c3-a1dd-d0feaaabc22b",
   "metadata": {},
   "source": [
    "What is the expected output of the following code?\n",
    "```\n",
    "nums = [3, 7, 23, 42]\n",
    "alphas = ['p', 'p', 'm', 'j']\n",
    " \n",
    "print(nums is alphas)\n",
    "print(nums == alphas)\n",
    " \n",
    "nums = alphas\n",
    " \n",
    "print(nums is alphas)\n",
    "print(nums == alphas)\n",
    "```\n",
    "A.\n",
    "``` \n",
    "False\n",
    "True\n",
    "True\n",
    "True\n",
    "```\n",
    "B.\n",
    "``` \n",
    "False\n",
    "True\n",
    "False\n",
    "True\n",
    "```\n",
    "C. \n",
    "```\n",
    "True\n",
    "False\n",
    "True\n",
    "False\n",
    "```\n",
    "D.\n",
    "``` \n",
    "False\n",
    "False\n",
    "True\n",
    "True\n",
    "```"
   ]
  },
  {
   "cell_type": "markdown",
   "id": "d2979c06",
   "metadata": {},
   "source": [
    "# Solution 5"
   ]
  },
  {
   "cell_type": "code",
   "execution_count": 17,
   "id": "8940526f",
   "metadata": {},
   "outputs": [
    {
     "name": "stdout",
     "output_type": "stream",
     "text": [
      "False\n",
      "False\n",
      "True\n",
      "True\n"
     ]
    }
   ],
   "source": [
    "nums = [3, 7, 23, 42]\n",
    "alphas = ['p', 'p', 'm', 'j']\n",
    " \n",
    "print(nums is alphas)  # False\n",
    "print(nums == alphas)  # False\n",
    " \n",
    "nums = alphas          \n",
    "\n",
    "# nums = ['p', 'p', 'm', 'j']\n",
    "# alphas = ['p', 'p', 'm', 'j']\n",
    " \n",
    "print(nums is alphas)   # True\n",
    "print(nums == alphas)   # True"
   ]
  },
  {
   "cell_type": "code",
   "execution_count": 18,
   "id": "7f118e62",
   "metadata": {},
   "outputs": [],
   "source": [
    "# Solución\n",
    "# D"
   ]
  },
  {
   "cell_type": "markdown",
   "id": "c4b8d574",
   "metadata": {},
   "source": [
    "****"
   ]
  },
  {
   "cell_type": "markdown",
   "id": "4375e759",
   "metadata": {},
   "source": [
    "# Question 6    (Control Flow) "
   ]
  },
  {
   "cell_type": "markdown",
   "id": "93cd1a29-ffcb-4870-a95b-7f42906eb928",
   "metadata": {},
   "source": [
    "You are coding a math utility by using Python.\n",
    "You are writing a function to compute roots.\n",
    "The function must meet the following requirements:\n",
    "\n",
    "- If a is non-negative, ```return a ** (1 / b)```\n",
    "\n",
    "- If a is negative and even, ```return 'Result is an imaginary number'```\n",
    "\n",
    "- If a is negatitve and odd, ```return -(-a) ** (1 / b)```\n",
    "\n",
    "\n",
    "\n",
    "Which of the following functions meets the requirements?\n",
    "\n",
    "\n",
    "\n",
    "A.\n",
    "``` \n",
    "def safe_root(a,b):\n",
    "    if a % 2 == 0:\n",
    "        answer = a ** (1/b)\n",
    "    elif a>=0:\n",
    "        answer = 'Result is an imaginary number'\n",
    "    else:\n",
    "        answer = -(-a) ** (1/b)\n",
    "    return answer\n",
    "```\n",
    "\n",
    "B.\n",
    "``` \n",
    "def safe_root(a,b):\n",
    "    if a >= 0:\n",
    "        answer = a ** (1/b)\n",
    "    elif a % 2 == 0:\n",
    "        answer = 'Result is an imaginary number'\n",
    "    else:\n",
    "        answer = -(-a) ** (1/b)\n",
    "    return answer\n",
    "```\n",
    "C. \n",
    "```\n",
    "def safe_root(a,b):\n",
    "    if a >= 0:\n",
    "        answer = -(-a) ** (1/b)\n",
    "    elif a % 2 == 0:\n",
    "        answer = 'Result is an imaginary number'\n",
    "    else:\n",
    "        answer = a ** (1/b)\n",
    "    return answer\n",
    "```\n",
    "D. \n",
    "```\n",
    "def safe_root(a,b):\n",
    "    if a % 2 == 0 :\n",
    "        answer = -(-a) ** (1/b)\n",
    "    elif a >= 0:\n",
    "        answer = 'Result is an imaginary number'\n",
    "    else:\n",
    "        answer = a ** (1/b)\n",
    "    return answer\n",
    "```"
   ]
  },
  {
   "cell_type": "markdown",
   "id": "ff249567",
   "metadata": {},
   "source": [
    "# Solution 6"
   ]
  },
  {
   "cell_type": "code",
   "execution_count": 20,
   "id": "2ac496ad",
   "metadata": {},
   "outputs": [],
   "source": [
    "# If a is non-negative, return a ** (1 / b)\n",
    "# If a is negative and even, return 'Result is an imaginary number'\n",
    "# If a is negatitve and odd, return -(-a) ** (1 / b)\n",
    "\n",
    "\n",
    "def safe_root(a,b):\n",
    "    if a >= 0:\n",
    "        answer = a ** (1/b)\n",
    "    elif a % 2 == 0:\n",
    "        answer = 'Result is an imaginary number'\n",
    "    else:\n",
    "        answer = -(-a) ** (1/b)\n",
    "    return answer"
   ]
  },
  {
   "cell_type": "markdown",
   "id": "c879beab",
   "metadata": {},
   "source": [
    "**comprobaciones**"
   ]
  },
  {
   "cell_type": "code",
   "execution_count": 21,
   "id": "c1b2d1df",
   "metadata": {},
   "outputs": [
    {
     "data": {
      "text/plain": [
       "2.0"
      ]
     },
     "execution_count": 21,
     "metadata": {},
     "output_type": "execute_result"
    }
   ],
   "source": [
    "# If a is non-negative, return a ** (1 / b)\n",
    "# NOTA: NO PONER B=0\n",
    "safe_root(2,1)"
   ]
  },
  {
   "cell_type": "code",
   "execution_count": 22,
   "id": "9daf9bc3",
   "metadata": {},
   "outputs": [
    {
     "data": {
      "text/plain": [
       "2.0"
      ]
     },
     "execution_count": 22,
     "metadata": {},
     "output_type": "execute_result"
    }
   ],
   "source": [
    "# a ** (1 / b)\n",
    "a=2\n",
    "b=1\n",
    "a ** (1 / b)"
   ]
  },
  {
   "cell_type": "code",
   "execution_count": 23,
   "id": "12e59616",
   "metadata": {},
   "outputs": [
    {
     "data": {
      "text/plain": [
       "'Result is an imaginary number'"
      ]
     },
     "execution_count": 23,
     "metadata": {},
     "output_type": "execute_result"
    }
   ],
   "source": [
    "# If a is negative and even, return 'Result is an imaginary number'\n",
    "safe_root(-2,1)"
   ]
  },
  {
   "cell_type": "code",
   "execution_count": 24,
   "id": "295397e6",
   "metadata": {},
   "outputs": [
    {
     "data": {
      "text/plain": [
       "3.0"
      ]
     },
     "execution_count": 24,
     "metadata": {},
     "output_type": "execute_result"
    }
   ],
   "source": [
    "# If a is negatitve and odd, return -(-a) ** (1 / b)\n",
    "safe_root(3,1)"
   ]
  },
  {
   "cell_type": "code",
   "execution_count": 25,
   "id": "cf63918f",
   "metadata": {},
   "outputs": [
    {
     "data": {
      "text/plain": [
       "3.0"
      ]
     },
     "execution_count": 25,
     "metadata": {},
     "output_type": "execute_result"
    }
   ],
   "source": [
    "# -(-a) ** (1 / b)\n",
    "a=3\n",
    "b=1\n",
    "-(-a) ** (1 / b)"
   ]
  },
  {
   "cell_type": "code",
   "execution_count": 26,
   "id": "2a0315d9",
   "metadata": {},
   "outputs": [],
   "source": [
    "# Solución\n",
    "# B"
   ]
  },
  {
   "cell_type": "markdown",
   "id": "e994dbfd",
   "metadata": {},
   "source": [
    "****"
   ]
  },
  {
   "cell_type": "markdown",
   "id": "798b3726",
   "metadata": {},
   "source": [
    "# Question 7   "
   ]
  },
  {
   "cell_type": "markdown",
   "id": "0182fbcc-7caa-4c66-b6d0-ae57ee35e1e5",
   "metadata": {},
   "source": [
    "Which of the following sentences is true?\n",
    "```\n",
    "str1 = 'Peter'\n",
    "str2 = str1[:]\n",
    "```\n",
    "A. str2 is longer than str1\n",
    "\n",
    "B. str1 is longer than str2\n",
    "\n",
    "C. str1 and str2 are different (but equal) strings\n",
    "\n",
    "D. str1 and str2 are different names of the same string"
   ]
  },
  {
   "cell_type": "markdown",
   "id": "6ad5d7a2",
   "metadata": {},
   "source": [
    "# Solution 7 (Data Aggregates)"
   ]
  },
  {
   "cell_type": "code",
   "execution_count": 28,
   "id": "fae8ed8c",
   "metadata": {},
   "outputs": [
    {
     "name": "stdout",
     "output_type": "stream",
     "text": [
      "str1: Peter\n",
      "str2: Peter\n",
      "str1 is str2: True\n",
      "str1 == str2: True\n"
     ]
    }
   ],
   "source": [
    "str1 = 'Peter'\n",
    "str2 = str1[:]\n",
    "\n",
    "print('str1:', str1)\n",
    "print('str2:', str2)\n",
    "print('str1 is str2:', str1 is str2)\n",
    "print('str1 == str2:', str1 == str2)"
   ]
  },
  {
   "cell_type": "code",
   "execution_count": 29,
   "id": "38eaf6e0",
   "metadata": {},
   "outputs": [],
   "source": [
    "# Solución\n",
    "# D"
   ]
  },
  {
   "cell_type": "markdown",
   "id": "78010548",
   "metadata": {},
   "source": [
    "****"
   ]
  },
  {
   "cell_type": "markdown",
   "id": "eb31e191",
   "metadata": {},
   "source": [
    "# Question 8   (Error Handling)"
   ]
  },
  {
   "cell_type": "markdown",
   "id": "3be6788d-3503-4df5-beaa-5f0aafbc1bcb",
   "metadata": {},
   "source": [
    "What is the expected behavior of the following program\n",
    "if the user enters 0?\n",
    "```\n",
    "value = input(\"Enter a value: \")\n",
    "print(10/value)\n",
    "```\n",
    "\n",
    "A. The program will raise the ValueError exception\n",
    "\n",
    "B. The program will raise the ZeroDivisionError exception\n",
    "\n",
    "C. The program will raise the TypeError exception\n",
    "\n",
    "D. The program will output 0 to the console"
   ]
  },
  {
   "cell_type": "markdown",
   "id": "87bafe8c",
   "metadata": {},
   "source": [
    "# Solution 8"
   ]
  },
  {
   "cell_type": "code",
   "execution_count": 31,
   "id": "d63fad4b",
   "metadata": {},
   "outputs": [
    {
     "data": {
      "text/plain": [
       "'\\nvalue = input(\"Enter a value: \")\\nprint(10/value)\\n'"
      ]
     },
     "execution_count": 31,
     "metadata": {},
     "output_type": "execute_result"
    }
   ],
   "source": [
    "\"\"\"\n",
    "value = input(\"Enter a value: \")\n",
    "print(10/value)\n",
    "\"\"\"\n",
    "\n",
    "# TypeError: unsupported operand type(s) for /: 'int' and 'str'\n",
    "\n",
    "# OJO, NO DICE INT(INPUT)"
   ]
  },
  {
   "cell_type": "code",
   "execution_count": 32,
   "id": "d33dc4a2",
   "metadata": {},
   "outputs": [],
   "source": [
    "# Solución\n",
    "# C"
   ]
  },
  {
   "cell_type": "markdown",
   "id": "c53078e3",
   "metadata": {},
   "source": [
    "****"
   ]
  },
  {
   "cell_type": "markdown",
   "id": "f8720650",
   "metadata": {},
   "source": [
    "# Question 9  (Functions)"
   ]
  },
  {
   "cell_type": "markdown",
   "id": "6a75a4f7-658c-4808-8cdb-9b85a3b101b3",
   "metadata": {},
   "source": [
    "What is the expected output of the following code?\n",
    "\n",
    "```\n",
    "def fun():\n",
    "    return 3\n",
    " \n",
    "def add(n):\n",
    "    return fun() + n\n",
    " \n",
    "print(add(3))\n",
    "```\n",
    "A. ```3```\n",
    "\n",
    "B. ```9```\n",
    "\n",
    "C. ```6```\n",
    "\n",
    "D. The program will cause an error"
   ]
  },
  {
   "cell_type": "markdown",
   "id": "db5f7d67",
   "metadata": {},
   "source": [
    "# Solution 9"
   ]
  },
  {
   "cell_type": "code",
   "execution_count": 34,
   "id": "6f4ee2db",
   "metadata": {},
   "outputs": [
    {
     "name": "stdout",
     "output_type": "stream",
     "text": [
      "6\n"
     ]
    }
   ],
   "source": [
    "def fun():\n",
    "    return 3\n",
    " \n",
    "def add(n):\n",
    "    return fun() + n\n",
    "            # 3  + 3\n",
    "print(add(3)) # 6"
   ]
  },
  {
   "cell_type": "code",
   "execution_count": 35,
   "id": "65ecfa8a",
   "metadata": {},
   "outputs": [],
   "source": [
    "# Solución\n",
    "# C"
   ]
  },
  {
   "cell_type": "markdown",
   "id": "d26505df",
   "metadata": {},
   "source": [
    "****"
   ]
  },
  {
   "cell_type": "markdown",
   "id": "0bd5d134",
   "metadata": {},
   "source": [
    "# Question 10  (Control Flow) "
   ]
  },
  {
   "cell_type": "markdown",
   "id": "5ecae0b0-c747-4069-bb8f-f10570970b6b",
   "metadata": {},
   "source": [
    "You are developing a Python application\n",
    "for an online product distribution company.\n",
    "\n",
    "You need the program to iterate through a list of products\n",
    "and escape when a target product ID is found.\n",
    "\n",
    "\n",
    "```\n",
    "productIdList = [0, 1, 2, 3, 4, 5, 6, 7, 8, 9]\n",
    "index = 0\n",
    " \n",
    "??? index < 10:\n",
    "    print(productIdList[index])\n",
    "    if productIdList[index] == 6:\n",
    "        ???\n",
    "    else:\n",
    "       index += 1\n",
    "```\n",
    "\n",
    "What would you insert instead of ??? and ???\n",
    "\n",
    "A.\n",
    "``` \n",
    "while\n",
    "for\n",
    "```\n",
    "B.\n",
    "``` \n",
    "if\n",
    "break\n",
    "```\n",
    "C.\n",
    "``` \n",
    "for \n",
    "break\n",
    "```\n",
    "D. \n",
    "```\n",
    "for\n",
    "while\n",
    "```\n",
    "E.\n",
    "```\n",
    "while\n",
    "break\n",
    "```\n",
    "F.\n",
    "```\n",
    "break\n",
    "while\n",
    "```"
   ]
  },
  {
   "cell_type": "markdown",
   "id": "0cf6c901",
   "metadata": {},
   "source": [
    "# Solution 10"
   ]
  },
  {
   "cell_type": "code",
   "execution_count": 37,
   "id": "0943a1a7",
   "metadata": {},
   "outputs": [
    {
     "name": "stdout",
     "output_type": "stream",
     "text": [
      "0\n",
      "1\n",
      "2\n",
      "3\n",
      "4\n",
      "5\n",
      "6\n"
     ]
    }
   ],
   "source": [
    "productIdList = [0, 1, 2, 3, 4, 5, 6, 7, 8, 9]\n",
    "index = 0\n",
    " \n",
    "while index < 10:\n",
    "    print(productIdList[index])\n",
    "    if productIdList[index] == 6:\n",
    "        break   \n",
    "    else:\n",
    "        index += 1\n",
    "\n",
    "\n",
    "# What would you insert instead of ??? and ???"
   ]
  },
  {
   "cell_type": "code",
   "execution_count": 38,
   "id": "bca11fd0",
   "metadata": {},
   "outputs": [],
   "source": [
    "# Solución\n",
    "# E"
   ]
  },
  {
   "cell_type": "markdown",
   "id": "47bd6d7c",
   "metadata": {},
   "source": [
    "****"
   ]
  },
  {
   "cell_type": "markdown",
   "id": "72b3f0f9",
   "metadata": {},
   "source": [
    "# Question 11  (Functions)"
   ]
  },
  {
   "cell_type": "markdown",
   "id": "ed0da343-7f91-4694-8988-d1459afdfd09",
   "metadata": {},
   "source": [
    "What is the expected output of the following code?\n",
    "\n",
    "```\n",
    "def func(data):\n",
    "    data = [7, 23, 42]\n",
    "    print('Function scope: ', data)\n",
    " \n",
    "data = ['Peter', 'Paul', 'Mary']\n",
    "func(data)\n",
    "print('Outer scope: ', data)\n",
    "```\n",
    "\n",
    "A.\n",
    "``` \n",
    "Function scope: [7, 23, 42]\n",
    "Outer scope: ['Peter', 'Paul', 'Mary']\n",
    "```\n",
    "B. \n",
    "```\n",
    "None of the above\n",
    "```\n",
    "C.\n",
    "``` \n",
    "Function scope: [7, 23, 42]\n",
    "Outer scope: [7, 23, 42]\n",
    "```\n",
    "\n",
    "D.\n",
    "``` \n",
    "Function scope: ['Peter', 'Paul', 'Mary']\n",
    "Outer scope: ['Peter', 'Paul', 'Mary']\n",
    "```"
   ]
  },
  {
   "cell_type": "markdown",
   "id": "984fccd3",
   "metadata": {},
   "source": [
    "# Solution 11"
   ]
  },
  {
   "cell_type": "code",
   "execution_count": 40,
   "id": "3ffea330",
   "metadata": {},
   "outputs": [
    {
     "name": "stdout",
     "output_type": "stream",
     "text": [
      "Function scope:  [7, 23, 42]\n",
      "Outer scope:  ['Peter', 'Paul', 'Mary']\n"
     ]
    }
   ],
   "source": [
    "def func(data):\n",
    "    data = [7, 23, 42]\n",
    "    print('Function scope: ', data) \n",
    "    # function scope: [7, 23, 42]\n",
    " \n",
    " \n",
    "data = ['Peter', 'Paul', 'Mary']\n",
    "func(data)                     \n",
    "print('Outer scope: ', data)        \n",
    "# outer scope: ['Peter', 'Paul', 'Mary']\n",
    "\n",
    "# data en la función no es global\n",
    "\n",
    "\n",
    "# quedará:\n",
    "# function scope: [7, 23, 42]\n",
    "# outer scope: ['Peter', 'Paul', 'Mary']"
   ]
  },
  {
   "cell_type": "code",
   "execution_count": 41,
   "id": "3616fe55",
   "metadata": {},
   "outputs": [],
   "source": [
    "# Solución\n",
    "# A"
   ]
  },
  {
   "cell_type": "markdown",
   "id": "84f09098",
   "metadata": {},
   "source": [
    "****"
   ]
  },
  {
   "cell_type": "markdown",
   "id": "a8141556",
   "metadata": {},
   "source": [
    "# Question 12  (Functions)"
   ]
  },
  {
   "cell_type": "markdown",
   "id": "87b387bb-1f59-4bc7-98c3-a82160bc9903",
   "metadata": {},
   "source": [
    "What is the expected output of the following code?\n",
    "\n",
    "```\n",
    "def func(x=2, y=3):\n",
    "    return x * y\n",
    " \n",
    "print(func(y=2))\n",
    "```\n",
    "A. ```6```\n",
    "\n",
    "B. The code is erroneous\n",
    "\n",
    "C. ```4```\n",
    "\n",
    "D. ```2```"
   ]
  },
  {
   "cell_type": "markdown",
   "id": "b9614646",
   "metadata": {},
   "source": [
    "# Solution 12"
   ]
  },
  {
   "cell_type": "code",
   "execution_count": 43,
   "id": "32bfbae7",
   "metadata": {},
   "outputs": [
    {
     "name": "stdout",
     "output_type": "stream",
     "text": [
      "4\n"
     ]
    }
   ],
   "source": [
    "def func(x=2, y=3):\n",
    "    return x * y\n",
    " \n",
    "print(func(y=2))\n",
    "\n",
    "\n",
    "# 2 * 2 = 4"
   ]
  },
  {
   "cell_type": "code",
   "execution_count": 44,
   "id": "fbaa1267",
   "metadata": {},
   "outputs": [],
   "source": [
    "# Solución\n",
    "# C"
   ]
  },
  {
   "cell_type": "markdown",
   "id": "bb19d437",
   "metadata": {},
   "source": [
    "****"
   ]
  },
  {
   "cell_type": "markdown",
   "id": "8d972d0a",
   "metadata": {},
   "source": [
    "# Question 13  (Operators)"
   ]
  },
  {
   "cell_type": "markdown",
   "id": "cea3e9eb-a9d4-4bde-b853-0f0533fbce43",
   "metadata": {},
   "source": [
    "What is the data type of x, y, z after executing the following snippet?\n",
    "\n",
    "```\n",
    "x = 23 + 42\n",
    "y = '23' + '42'\n",
    "z = '23' * 7\n",
    "```\n",
    "\n",
    "A.\n",
    "``` \n",
    "x is int,\n",
    "y and z are invalid declarations\n",
    "```\n",
    "B. \n",
    "```\n",
    "int, str, int\n",
    "```\n",
    "C. \n",
    "```\n",
    "int, int, int\n",
    "```\n",
    "D.\n",
    "``` \n",
    "int, str, str\n",
    "```"
   ]
  },
  {
   "cell_type": "markdown",
   "id": "46ee0b1f",
   "metadata": {},
   "source": [
    "# Solution 13"
   ]
  },
  {
   "cell_type": "code",
   "execution_count": 46,
   "id": "fa1f1c41",
   "metadata": {},
   "outputs": [
    {
     "name": "stdout",
     "output_type": "stream",
     "text": [
      "x:  65\n",
      "y:  2342\n",
      "z:  23232323232323\n",
      "type(x): <class 'int'>\n",
      "type(y): <class 'str'>\n",
      "type(z): <class 'str'>\n"
     ]
    }
   ],
   "source": [
    "x = 23 + 42\n",
    "y = '23' + '42'\n",
    "z = '23' * 7\n",
    "\n",
    "print(\"x: \", x)             # 65\n",
    "print(\"y: \", y)             # '2342'\n",
    "print(\"z: \", z)             # 23 (7 veces), '23232323232323' \n",
    "print('type(x):', type(x))  # int\n",
    "print('type(y):', type(y))  # str\n",
    "print('type(z):', type(z))  # str"
   ]
  },
  {
   "cell_type": "code",
   "execution_count": 47,
   "id": "91257200",
   "metadata": {},
   "outputs": [],
   "source": [
    "# Solución\n",
    "# D"
   ]
  },
  {
   "cell_type": "markdown",
   "id": "34ce9ce2",
   "metadata": {},
   "source": [
    "****"
   ]
  },
  {
   "cell_type": "markdown",
   "id": "1b83f968",
   "metadata": {},
   "source": [
    "# Question 14  (Operators)"
   ]
  },
  {
   "cell_type": "markdown",
   "id": "e83a9032-037b-4a28-8657-d45672c2506f",
   "metadata": {},
   "source": [
    "What is the expected output of the following code?\n",
    "```\n",
    "print(3 * 'abc' + 'xyz')\n",
    "```\n",
    "A. ```3abcxyz```\n",
    "\n",
    "B. ```abcxyzabcxyzabcxyz```\n",
    "\n",
    "C. ```abcabcabcxyz```\n",
    "\n",
    "D. ```abcabcxyzxyz```"
   ]
  },
  {
   "cell_type": "markdown",
   "id": "885a7252",
   "metadata": {},
   "source": [
    "# Solution 14"
   ]
  },
  {
   "cell_type": "code",
   "execution_count": 49,
   "id": "fa6aa98b",
   "metadata": {},
   "outputs": [
    {
     "name": "stdout",
     "output_type": "stream",
     "text": [
      "abcabcabcxyz\n"
     ]
    }
   ],
   "source": [
    "# 3 veces abc y después xyz\n",
    "\n",
    "print(3 * 'abc' + 'xyz')\n",
    "\n",
    "# abcabcabcxyz"
   ]
  },
  {
   "cell_type": "code",
   "execution_count": 50,
   "id": "cceafdbf",
   "metadata": {},
   "outputs": [],
   "source": [
    "# Solución\n",
    "# C"
   ]
  },
  {
   "cell_type": "markdown",
   "id": "5666bcd6",
   "metadata": {},
   "source": [
    "****"
   ]
  },
  {
   "cell_type": "markdown",
   "id": "7af25e14",
   "metadata": {},
   "source": [
    "# Question 15  (Data Types) "
   ]
  },
  {
   "cell_type": "markdown",
   "id": "fadb38c3-812d-4893-835e-4a6cf48bd20b",
   "metadata": {},
   "source": [
    "How many arguments can the ```print()``` function take?\n",
    "\n",
    "A. Any number of arguments (excluding zero)\n",
    "\n",
    "B. Any number of arguments (including zero)\n",
    "\n",
    "C. Not more than seven arguments\n",
    "\n",
    "D. Just one argument"
   ]
  },
  {
   "cell_type": "markdown",
   "id": "d9044afb",
   "metadata": {},
   "source": [
    "# Solution 15"
   ]
  },
  {
   "cell_type": "code",
   "execution_count": 52,
   "id": "ceafcfa9",
   "metadata": {},
   "outputs": [
    {
     "name": "stdout",
     "output_type": "stream",
     "text": [
      "\n"
     ]
    }
   ],
   "source": [
    "print()\n",
    "\n",
    "# print es posible"
   ]
  },
  {
   "cell_type": "code",
   "execution_count": 53,
   "id": "0e26ed21",
   "metadata": {},
   "outputs": [],
   "source": [
    "# Solución\n",
    "# B"
   ]
  },
  {
   "cell_type": "markdown",
   "id": "eb12c5ed",
   "metadata": {},
   "source": [
    "****"
   ]
  },
  {
   "cell_type": "markdown",
   "id": "b24e9681",
   "metadata": {},
   "source": [
    "# Question 16  (Basics)"
   ]
  },
  {
   "cell_type": "markdown",
   "id": "1be8a01b-2f11-416a-95a6-df159d05e79f",
   "metadata": {},
   "source": [
    "The ```print()``` function can output values of:\n",
    "\n",
    "A. not ore than five arguments\n",
    "\n",
    "B. any number of arguments (including zero)\n",
    "\n",
    "C. just one argument\n",
    "\n",
    "D. any number of arguments (excluding zero)"
   ]
  },
  {
   "cell_type": "markdown",
   "id": "d889ff36",
   "metadata": {},
   "source": [
    "# Solution 16"
   ]
  },
  {
   "cell_type": "code",
   "execution_count": 55,
   "id": "0037bbff",
   "metadata": {},
   "outputs": [
    {
     "name": "stdout",
     "output_type": "stream",
     "text": [
      "\n"
     ]
    }
   ],
   "source": [
    "print()"
   ]
  },
  {
   "cell_type": "code",
   "execution_count": 56,
   "id": "b728be0c",
   "metadata": {},
   "outputs": [],
   "source": [
    "# Solución\n",
    "# B"
   ]
  },
  {
   "cell_type": "markdown",
   "id": "b92c75e6",
   "metadata": {},
   "source": [
    "****"
   ]
  },
  {
   "cell_type": "markdown",
   "id": "9d643951",
   "metadata": {},
   "source": [
    "# Question 17  (Operators)"
   ]
  },
  {
   "cell_type": "markdown",
   "id": "471c6ff9-8278-454b-a11a-3cab55465ad6",
   "metadata": {},
   "source": [
    "What would you insert instead of ??? so that \n",
    "the program prints True to the monitor?\n",
    "\n",
    "```\n",
    "x = 'Peter'\n",
    "y = 'Peter'\n",
    "res = ???\n",
    "print(res)\n",
    "```\n",
    "\n",
    "A. ```x != y```\n",
    "\n",
    "B. ```x is y```\n",
    "\n",
    "C. ```x is not y```\n",
    "\n",
    "D. ```x < y```"
   ]
  },
  {
   "cell_type": "markdown",
   "id": "2be9bfb2",
   "metadata": {},
   "source": [
    "# Solution 17"
   ]
  },
  {
   "cell_type": "code",
   "execution_count": 58,
   "id": "1f830609",
   "metadata": {},
   "outputs": [
    {
     "name": "stdout",
     "output_type": "stream",
     "text": [
      "True\n"
     ]
    }
   ],
   "source": [
    "x = 'Peter'\n",
    "y = 'Peter'\n",
    "res = x is y\n",
    "print(res)"
   ]
  },
  {
   "cell_type": "code",
   "execution_count": 59,
   "id": "340f8a92",
   "metadata": {},
   "outputs": [],
   "source": [
    "# Solución\n",
    "# B"
   ]
  },
  {
   "cell_type": "markdown",
   "id": "a3fc7d26",
   "metadata": {},
   "source": [
    "****"
   ]
  },
  {
   "cell_type": "markdown",
   "id": "dfbc9a98",
   "metadata": {},
   "source": [
    "# Question 18  (Functions)"
   ]
  },
  {
   "cell_type": "markdown",
   "id": "f923bb62-85f8-404d-b4a7-c685d141e31f",
   "metadata": {},
   "source": [
    "The following snippet:\n",
    "\n",
    "```\n",
    "def func(a, b):\n",
    "    return b ** a\n",
    " \n",
    "print(func(b=2, 2))\n",
    "```\n",
    "A. will output ```None```\n",
    "\n",
    "B. will output ```2```\n",
    "\n",
    "C. will output ```4```\n",
    "\n",
    "D. is erroneous"
   ]
  },
  {
   "cell_type": "markdown",
   "id": "20db0835",
   "metadata": {},
   "source": [
    "# Solution 18"
   ]
  },
  {
   "cell_type": "code",
   "execution_count": 61,
   "id": "2d52ca23",
   "metadata": {},
   "outputs": [
    {
     "data": {
      "text/plain": [
       "'\\ndef func(a, b):\\n    return b ** a\\n \\nprint(func(b=2, 2))  \\n'"
      ]
     },
     "execution_count": 61,
     "metadata": {},
     "output_type": "execute_result"
    }
   ],
   "source": [
    "\"\"\"\n",
    "def func(a, b):\n",
    "    return b ** a\n",
    " \n",
    "print(func(b=2, 2))  \n",
    "\"\"\"\n",
    "\n",
    "# SyntaxError: positional argument follows keyword argument"
   ]
  },
  {
   "cell_type": "code",
   "execution_count": 62,
   "id": "92f9befd",
   "metadata": {},
   "outputs": [],
   "source": [
    "# Solución\n",
    "# D"
   ]
  },
  {
   "cell_type": "markdown",
   "id": "80f6a783",
   "metadata": {},
   "source": [
    "****"
   ]
  },
  {
   "cell_type": "markdown",
   "id": "389dadab",
   "metadata": {},
   "source": [
    "# Question 19  (Data Types)"
   ]
  },
  {
   "cell_type": "markdown",
   "id": "50adb958-dce5-4b49-a312-1035200f9d20",
   "metadata": {},
   "source": [
    "Which of the following statements can be used\n",
    "to return the length of the given string str?\n",
    "\n",
    "A. ```str._len_()```\n",
    "\n",
    "B. ```len(str)```\n",
    "\n",
    "C. ```size(str)```\n",
    "\n",
    "D. ```str.size()```"
   ]
  },
  {
   "cell_type": "markdown",
   "id": "a0d2edba",
   "metadata": {},
   "source": [
    "# Solution 19"
   ]
  },
  {
   "cell_type": "code",
   "execution_count": 64,
   "id": "a99598f4",
   "metadata": {},
   "outputs": [
    {
     "data": {
      "text/plain": [
       "4"
      ]
     },
     "execution_count": 64,
     "metadata": {},
     "output_type": "execute_result"
    }
   ],
   "source": [
    "string = 'casa'\n",
    "len(string)\n",
    "\n",
    "# realmente ningún string debería llamarse str\n",
    "# pero sería la opción b"
   ]
  },
  {
   "cell_type": "code",
   "execution_count": 65,
   "id": "f89abbff",
   "metadata": {},
   "outputs": [],
   "source": [
    "# Solución\n",
    "# B"
   ]
  },
  {
   "cell_type": "markdown",
   "id": "31ac7c94",
   "metadata": {},
   "source": [
    "****"
   ]
  },
  {
   "cell_type": "markdown",
   "id": "714d27a5",
   "metadata": {},
   "source": [
    "# Question 20  (Control Flow) "
   ]
  },
  {
   "cell_type": "markdown",
   "id": "409f070f-6c36-4ffd-8b40-f6a08893bfd5",
   "metadata": {},
   "source": [
    "The following is a program to validate customer numbers.\n",
    "\n",
    "```\n",
    "customer_number = input('Enter the employee number (dd-ddd-dddd): ')\n",
    "parts = customer_number.split('-')\n",
    "valid = False\n",
    "if len(parts) == 3:\n",
    "  if len(parts[0]) == 2 and len(parts[1]) == 3 and len(parts[2]) == 4:\n",
    "    if parts[0].isdigit() and parts[1].isdigit() and parts[2].isdigit():\n",
    "      valid = True\n",
    "print(valid)\n",
    "```\n",
    "\n",
    "The number may only contain numbers and dashes.\n",
    "The number must have the right format (dd-ddd-dddd).\n",
    "What is true about this programm?\n",
    "\n",
    "\n",
    "A. The program works properly\n",
    "\n",
    "B. There will be a ```SyntaxError```\n",
    "\n",
    "C. There will be an ```AttributeError```\n",
    "\n",
    "D. There will be no error but there will be an unwanted result"
   ]
  },
  {
   "cell_type": "markdown",
   "id": "0b6bd346",
   "metadata": {},
   "source": [
    "# Solution 20"
   ]
  },
  {
   "cell_type": "code",
   "execution_count": 67,
   "id": "6ff9aebf",
   "metadata": {},
   "outputs": [
    {
     "name": "stdout",
     "output_type": "stream",
     "text": [
      "Enter the employee number (dd-ddd-dddd): 10-101-1010\n",
      "True\n"
     ]
    }
   ],
   "source": [
    "customer_number = input('Enter the employee number (dd-ddd-dddd): ')\n",
    "parts = customer_number.split('-')\n",
    "valid = False\n",
    "if len(parts) == 3:\n",
    "    if len(parts[0]) == 2 and len(parts[1]) == 3 and len(parts[2]) == 4:\n",
    "        if parts[0].isdigit() and parts[1].isdigit() and parts[2].isdigit():\n",
    "            valid = True\n",
    "print(valid)"
   ]
  },
  {
   "cell_type": "code",
   "execution_count": 68,
   "id": "d5adbe79",
   "metadata": {},
   "outputs": [],
   "source": [
    "# Solución\n",
    "# A"
   ]
  },
  {
   "cell_type": "markdown",
   "id": "55de30e1",
   "metadata": {},
   "source": [
    "****"
   ]
  },
  {
   "cell_type": "markdown",
   "id": "090b502d",
   "metadata": {},
   "source": [
    "# Question 21  (Data Types) "
   ]
  },
  {
   "cell_type": "markdown",
   "id": "2fd6b93f-8a68-47d2-a062-965f11b30224",
   "metadata": {},
   "source": [
    "You want to write a program that asks the user for a value.\n",
    "\n",
    "For the rest of the program you need a whole number,\n",
    "even if the user enters a decimal value.\n",
    "\n",
    "What would you have to write?\n",
    "\n",
    "A. ```num = int('How many do you need?')```\n",
    "\n",
    "B. ```num = float(input('How many do you need?'))```\n",
    "\n",
    "C. ```num = str(input('How many do you need?'))```\n",
    "\n",
    "D. ```num = int(float(input('How many do you need?')))```"
   ]
  },
  {
   "cell_type": "markdown",
   "id": "b67cdf58",
   "metadata": {},
   "source": [
    "# Solution 21"
   ]
  },
  {
   "cell_type": "code",
   "execution_count": 70,
   "id": "72764ef0",
   "metadata": {},
   "outputs": [
    {
     "name": "stdout",
     "output_type": "stream",
     "text": [
      "How many do you need?10\n"
     ]
    },
    {
     "data": {
      "text/plain": [
       "10"
      ]
     },
     "execution_count": 70,
     "metadata": {},
     "output_type": "execute_result"
    }
   ],
   "source": [
    "# D\n",
    "num = int(float(input('How many do you need?')))\n",
    "num"
   ]
  },
  {
   "cell_type": "code",
   "execution_count": 71,
   "id": "bb214803",
   "metadata": {},
   "outputs": [],
   "source": [
    "# Solución\n",
    "# D"
   ]
  },
  {
   "cell_type": "markdown",
   "id": "613fcc28",
   "metadata": {},
   "source": [
    "****"
   ]
  },
  {
   "cell_type": "markdown",
   "id": "7ff79a5d",
   "metadata": {},
   "source": [
    "# Question 22  (Data Aggregates)"
   ]
  },
  {
   "cell_type": "markdown",
   "id": "b08924c6-f5dc-4b3a-b8fc-880ecc647bd9",
   "metadata": {},
   "source": [
    "Which one of the lines should you put in the snippet below\n",
    "to match the expected output?\n",
    "\n",
    "\n",
    "Expected output:\n",
    "```\n",
    "[4, 1, 7, 2, 'A']\n",
    "```\n",
    "\n",
    "Code:\n",
    "```\n",
    "list = ['A', 2, 7, 1, 4]\n",
    "enter code here\n",
    "print(list)\n",
    "```\n",
    "\n",
    "A. ```reversed(list)```\n",
    "\n",
    "B. ```reverse(list)```\n",
    "\n",
    "C. ```list.reverse()```\n",
    "\n",
    "D. ```list.reversed()```"
   ]
  },
  {
   "cell_type": "markdown",
   "id": "456270bf",
   "metadata": {},
   "source": [
    "# Solution 22"
   ]
  },
  {
   "cell_type": "code",
   "execution_count": 73,
   "id": "7832d213",
   "metadata": {},
   "outputs": [
    {
     "name": "stdout",
     "output_type": "stream",
     "text": [
      "[4, 1, 7, 2, 'A']\n"
     ]
    }
   ],
   "source": [
    "list = ['A', 2, 7, 1, 4]\n",
    "# enter code here\n",
    "list.reverse()\n",
    "\n",
    "print(list)\n",
    "\n",
    "# Expected output:\n",
    "# [4, 1, 7, 2, 'A']"
   ]
  },
  {
   "cell_type": "code",
   "execution_count": 74,
   "id": "72d0aa3f",
   "metadata": {},
   "outputs": [],
   "source": [
    "# Solución\n",
    "# C"
   ]
  },
  {
   "cell_type": "markdown",
   "id": "5bbf4a14",
   "metadata": {},
   "source": [
    "****"
   ]
  },
  {
   "cell_type": "markdown",
   "id": "a4555ca7",
   "metadata": {},
   "source": [
    "# Question 23  (Basics) "
   ]
  },
  {
   "cell_type": "markdown",
   "id": "f141e108-9a92-4e46-8f42-a3d04f9a11b9",
   "metadata": {},
   "source": [
    "What is the expected output of the following code?\n",
    "```\n",
    "x = '\\\\\\'\n",
    "print(len(x))\n",
    "```\n",
    "A. The code is erroneous\n",
    "\n",
    "B. ```2```\n",
    "\n",
    "C. ```1```\n",
    "\n",
    "D. ```3```"
   ]
  },
  {
   "cell_type": "markdown",
   "id": "15cca6af",
   "metadata": {},
   "source": [
    "# Solution 23"
   ]
  },
  {
   "cell_type": "code",
   "execution_count": 76,
   "id": "13648a96",
   "metadata": {},
   "outputs": [
    {
     "data": {
      "text/plain": [
       "\"\\nx = '\\\\'\\n\\nprint(len(x))\\n\""
      ]
     },
     "execution_count": 76,
     "metadata": {},
     "output_type": "execute_result"
    }
   ],
   "source": [
    "\"\"\"\n",
    "x = '\\\\\\'\n",
    "\n",
    "print(len(x))\n",
    "\"\"\"\n",
    "\n",
    "# SyntaxError: EOL while scanning string literal"
   ]
  },
  {
   "cell_type": "code",
   "execution_count": 77,
   "id": "24a8c17e",
   "metadata": {},
   "outputs": [],
   "source": [
    "# Solución\n",
    "# A"
   ]
  },
  {
   "cell_type": "markdown",
   "id": "3adc8164",
   "metadata": {},
   "source": [
    "****"
   ]
  },
  {
   "cell_type": "markdown",
   "id": "167b5041",
   "metadata": {},
   "source": [
    "# Question 24  (Control Flow) "
   ]
  },
  {
   "cell_type": "markdown",
   "id": "8252bbf3-a414-431d-b272-de0dc83c86e8",
   "metadata": {},
   "source": [
    "Consider the following code.\n",
    "```\n",
    "data = ['Peter', 'Paul', 'Mary', 'Jane']\n",
    "res = 0\n",
    "```\n",
    "\n",
    "Which of the following code snippets will expand the code,\n",
    "so that 100 will be printed to the monitor?\n",
    "\n",
    "Choose two\n",
    "\n",
    "A. \n",
    "```\n",
    "for i in ('Peter', 'Steve', 'Jane'):\n",
    "    if i not in data:\n",
    "        res += 50\n",
    "print(res)\n",
    "```\n",
    "\n",
    "B. \n",
    "```\n",
    "for i in ('Peter', 'Steve', 'Jane'):\n",
    "    if i in data:\n",
    "        res += 50\n",
    "print(res)\n",
    "```\n",
    "C. \n",
    "```\n",
    "for i in ('Peter', 'Steve', 'Jane'):\n",
    "    if i not in data:\n",
    "        res += 100\n",
    "print(res)```\n",
    "```\n",
    "D. \n",
    "```\n",
    "for i in ('Peter', 'Steve', 'Jane'):\n",
    "    if i in data:\n",
    "        res += 100\n",
    "print(res)\n",
    "```"
   ]
  },
  {
   "cell_type": "markdown",
   "id": "69a2d0be",
   "metadata": {},
   "source": [
    "# Solution 24"
   ]
  },
  {
   "cell_type": "code",
   "execution_count": 79,
   "id": "9e44f65c",
   "metadata": {},
   "outputs": [
    {
     "name": "stdout",
     "output_type": "stream",
     "text": [
      "50\n"
     ]
    }
   ],
   "source": [
    "# A.\n",
    "\n",
    "data = ['Peter', 'Paul', 'Mary', 'Jane']\n",
    "res = 0\n",
    "\n",
    "for i in ('Peter', 'Steve', 'Jane'):\n",
    "    if i not in data:\n",
    "        res += 50\n",
    "print(res)"
   ]
  },
  {
   "cell_type": "code",
   "execution_count": 80,
   "id": "1de8a204",
   "metadata": {},
   "outputs": [
    {
     "name": "stdout",
     "output_type": "stream",
     "text": [
      "100\n"
     ]
    }
   ],
   "source": [
    "# B\n",
    "\n",
    "data = ['Peter', 'Paul', 'Mary', 'Jane']\n",
    "res = 0\n",
    "\n",
    "for i in ('Peter', 'Steve', 'Jane'):\n",
    "    if i in data:\n",
    "        res += 50\n",
    "print(res)"
   ]
  },
  {
   "cell_type": "code",
   "execution_count": 81,
   "id": "386fb932",
   "metadata": {},
   "outputs": [
    {
     "name": "stdout",
     "output_type": "stream",
     "text": [
      "100\n"
     ]
    }
   ],
   "source": [
    "# C\n",
    "\n",
    "data = ['Peter', 'Paul', 'Mary', 'Jane']\n",
    "res = 0\n",
    "\n",
    "for i in ('Peter', 'Steve', 'Jane'):\n",
    "    if i not in data:\n",
    "        res += 100\n",
    "print(res)"
   ]
  },
  {
   "cell_type": "code",
   "execution_count": 82,
   "id": "38d81c1e",
   "metadata": {},
   "outputs": [
    {
     "name": "stdout",
     "output_type": "stream",
     "text": [
      "200\n"
     ]
    }
   ],
   "source": [
    "# D\n",
    "\n",
    "data = ['Peter', 'Paul', 'Mary', 'Jane']\n",
    "res = 0\n",
    "\n",
    "for i in ('Peter', 'Steve', 'Jane'):\n",
    "    if i in data:\n",
    "        res += 100\n",
    "print(res)"
   ]
  },
  {
   "cell_type": "code",
   "execution_count": 83,
   "id": "31b84d44",
   "metadata": {},
   "outputs": [],
   "source": [
    "# Solución\n",
    "# B y C"
   ]
  },
  {
   "cell_type": "markdown",
   "id": "1501ca57",
   "metadata": {},
   "source": [
    "****"
   ]
  },
  {
   "cell_type": "markdown",
   "id": "38b1d35a",
   "metadata": {},
   "source": [
    "# Question 25  (Data Types)"
   ]
  },
  {
   "cell_type": "markdown",
   "id": "4db52bb9-2193-460a-9401-d62470676edb",
   "metadata": {},
   "source": [
    "Consider the following Python code:\n",
    "```\n",
    "name = 'Peter'\n",
    "age = 23\n",
    "flag = True\n",
    "```\n",
    "What are the types of the variables name, age and flag?\n",
    "\n",
    "A. ```int, bool, char```\n",
    "\n",
    "B. ```str, int, int```\n",
    "\n",
    "C. ```str, int, bool```\n",
    "\n",
    "D. ```float, bool, str```"
   ]
  },
  {
   "cell_type": "markdown",
   "id": "6ef0bdef",
   "metadata": {},
   "source": [
    "# Solution 25"
   ]
  },
  {
   "cell_type": "code",
   "execution_count": 85,
   "id": "3d01495b",
   "metadata": {},
   "outputs": [
    {
     "name": "stdout",
     "output_type": "stream",
     "text": [
      "type(name): <class 'str'>\n",
      "type(age): <class 'int'>\n",
      "type(flag): <class 'bool'>\n"
     ]
    }
   ],
   "source": [
    "name = 'Peter'\n",
    "age = 23\n",
    "flag = True\n",
    "\n",
    "print('type(name):', type(name))\n",
    "print('type(age):', type(age))\n",
    "print('type(flag):', type(flag))"
   ]
  },
  {
   "cell_type": "code",
   "execution_count": 86,
   "id": "fb03ca89",
   "metadata": {},
   "outputs": [],
   "source": [
    "# Solución\n",
    "# C"
   ]
  },
  {
   "cell_type": "markdown",
   "id": "08335cfd",
   "metadata": {},
   "source": [
    "****"
   ]
  },
  {
   "cell_type": "markdown",
   "id": "8b458202",
   "metadata": {},
   "source": [
    "# Question 26  (Control Flow)"
   ]
  },
  {
   "cell_type": "markdown",
   "id": "36476499-e9e1-49b3-8ab6-96a88ed6ecfe",
   "metadata": {},
   "source": [
    "How many stars will the following snippet print to the monitor?\n",
    "```\n",
    "for i in range(1):\n",
    "    print('*')\n",
    "else:\n",
    "    print('*')\n",
    "```\n",
    "A. one\n",
    "\n",
    "B. zero\n",
    "\n",
    "C. two\n",
    "\n",
    "D. three"
   ]
  },
  {
   "cell_type": "markdown",
   "id": "6a9721bd",
   "metadata": {},
   "source": [
    "# Solution 26"
   ]
  },
  {
   "cell_type": "code",
   "execution_count": 88,
   "id": "198caf9b",
   "metadata": {},
   "outputs": [
    {
     "name": "stdout",
     "output_type": "stream",
     "text": [
      "1\n",
      "*\n",
      "salto a else\n",
      "2\n",
      "*\n"
     ]
    }
   ],
   "source": [
    "for i in range(1): # 0\n",
    "    print('1')\n",
    "    print('*')     \n",
    "    print('salto a else')\n",
    "else:\n",
    "    print('2')\n",
    "    print('*')"
   ]
  },
  {
   "cell_type": "code",
   "execution_count": 89,
   "id": "b4597c3f",
   "metadata": {},
   "outputs": [
    {
     "name": "stdout",
     "output_type": "stream",
     "text": [
      "*\n",
      "*\n"
     ]
    }
   ],
   "source": [
    "for i in range(1):\n",
    "    print('*')\n",
    "else:\n",
    "    print('*')"
   ]
  },
  {
   "cell_type": "code",
   "execution_count": 90,
   "id": "36361d65",
   "metadata": {},
   "outputs": [],
   "source": [
    "# Solución\n",
    "# C"
   ]
  },
  {
   "cell_type": "markdown",
   "id": "9db8c254",
   "metadata": {},
   "source": [
    "****"
   ]
  },
  {
   "cell_type": "markdown",
   "id": "d5822cbe",
   "metadata": {},
   "source": [
    "# Question 27  (Data Aggregates)  "
   ]
  },
  {
   "cell_type": "markdown",
   "id": "226a367a-75d0-40e2-bc40-d1c8fedc8bbe",
   "metadata": {},
   "source": [
    "What is the expected output of the following code?\n",
    "```\n",
    "data = {'Peter': 30, 'Paul': 31}\n",
    "print(list(data.keys()))\n",
    "```\n",
    "A. ```('Peter': 30, 'Paul': 31)```\n",
    "\n",
    "B. ```['Peter', 'Paul']```\n",
    "\n",
    "C. ```('Peter', 'Paul')```\n",
    "\n",
    "D. ```['Peter': 30, 'Paul': 31]```"
   ]
  },
  {
   "cell_type": "markdown",
   "id": "1eb0530f",
   "metadata": {},
   "source": [
    "# Solution 27"
   ]
  },
  {
   "cell_type": "code",
   "execution_count": 92,
   "id": "feb68d66",
   "metadata": {},
   "outputs": [],
   "source": [
    "# Cosas previas"
   ]
  },
  {
   "cell_type": "code",
   "execution_count": 93,
   "id": "ff540c9a",
   "metadata": {},
   "outputs": [
    {
     "data": {
      "text/plain": [
       "dict_keys(['Peter', 'Paul'])"
      ]
     },
     "execution_count": 93,
     "metadata": {},
     "output_type": "execute_result"
    }
   ],
   "source": [
    "data = {'Peter': 30, 'Paul': 31}\n",
    "data.keys()"
   ]
  },
  {
   "cell_type": "code",
   "execution_count": 94,
   "id": "f69a1761",
   "metadata": {},
   "outputs": [],
   "source": [
    "# El propio ejercicio"
   ]
  },
  {
   "cell_type": "code",
   "execution_count": 95,
   "id": "f85f7695",
   "metadata": {},
   "outputs": [
    {
     "data": {
      "text/plain": [
       "\"data = {'Peter': 30, 'Paul': 31}\\nprint(list(data.keys()))\""
      ]
     },
     "execution_count": 95,
     "metadata": {},
     "output_type": "execute_result"
    }
   ],
   "source": [
    "\"\"\"data = {'Peter': 30, 'Paul': 31}\n",
    "print(list(data.keys()))\"\"\"\n",
    "\n",
    "# me da error cuando ejecuto todo de golpe"
   ]
  },
  {
   "cell_type": "code",
   "execution_count": 96,
   "id": "6023752a",
   "metadata": {},
   "outputs": [],
   "source": [
    "# Solución\n",
    "# B "
   ]
  },
  {
   "cell_type": "markdown",
   "id": "bf12b6cf",
   "metadata": {},
   "source": [
    "****"
   ]
  },
  {
   "cell_type": "markdown",
   "id": "87af2e05",
   "metadata": {},
   "source": [
    "# Question 28  (Functions) "
   ]
  },
  {
   "cell_type": "markdown",
   "id": "6b8a67c5-ca57-474a-a56b-94c7c6217125",
   "metadata": {},
   "source": [
    "What is the expected output of the following code?\n",
    "```\n",
    "def func(n):\n",
    "    s = ''\n",
    "    for i in range(n):\n",
    "        s += '*'\n",
    "        yield s\n",
    " \n",
    "for x in func(3):\n",
    "    print(x, end='')\n",
    "```\n",
    "\n",
    "A. The code is erroneous\n",
    "\n",
    "B. ```*```\n",
    "\n",
    "C. ```***```\n",
    "    \n",
    "D. ```******```"
   ]
  },
  {
   "cell_type": "markdown",
   "id": "d738a756",
   "metadata": {},
   "source": [
    "# Solution 28"
   ]
  },
  {
   "cell_type": "code",
   "execution_count": 98,
   "id": "e5342002",
   "metadata": {},
   "outputs": [
    {
     "name": "stdout",
     "output_type": "stream",
     "text": [
      "******"
     ]
    }
   ],
   "source": [
    "def func(n):\n",
    "    s = ''\n",
    "    for i in range(n):    # range(3) => 0,1,2\n",
    "        s += '*'          # s = s + *\n",
    "        yield s\n",
    " \n",
    " \n",
    "for x in func(3):\n",
    "    print(x, end='')   "
   ]
  },
  {
   "cell_type": "code",
   "execution_count": 99,
   "id": "65021b97",
   "metadata": {},
   "outputs": [],
   "source": [
    "# Solución\n",
    "# D"
   ]
  },
  {
   "cell_type": "markdown",
   "id": "3b81f151",
   "metadata": {},
   "source": [
    "****"
   ]
  },
  {
   "cell_type": "markdown",
   "id": "3e7706c0",
   "metadata": {},
   "source": [
    "# Question 29  (Control Flow)"
   ]
  },
  {
   "cell_type": "markdown",
   "id": "b980f597-f40a-4a3c-8f3a-ab9726893f70",
   "metadata": {},
   "source": [
    "How many stars will the following snippet send to the console?\n",
    "\n",
    "```\n",
    "for i in range(-1, 1):\n",
    "    print(\"*\")\n",
    "```\n",
    "A. two\n",
    "\n",
    "B. three\n",
    "\n",
    "C. one"
   ]
  },
  {
   "cell_type": "markdown",
   "id": "4967a372",
   "metadata": {},
   "source": [
    "# Solution 29"
   ]
  },
  {
   "cell_type": "code",
   "execution_count": 101,
   "id": "fb9c44e8",
   "metadata": {},
   "outputs": [
    {
     "name": "stdout",
     "output_type": "stream",
     "text": [
      "*\n",
      "*\n"
     ]
    }
   ],
   "source": [
    "for i in range(-1, 1):   # -1, 0\n",
    "    print(\"*\")           # 2 *"
   ]
  },
  {
   "cell_type": "code",
   "execution_count": 102,
   "id": "8ebdeca4",
   "metadata": {},
   "outputs": [],
   "source": [
    "# Solución\n",
    "# A"
   ]
  },
  {
   "cell_type": "markdown",
   "id": "cab32d65",
   "metadata": {},
   "source": [
    "****"
   ]
  },
  {
   "cell_type": "markdown",
   "id": "17da28c4",
   "metadata": {},
   "source": [
    "# Question 30  (Data Types)"
   ]
  },
  {
   "cell_type": "markdown",
   "id": "dc7abb8c-21e6-4462-bb47-f1c4295ee1c5",
   "metadata": {},
   "source": [
    "What is the expected output of the following code \n",
    "if the user enters 2 and 4?\n",
    "```\n",
    "x = int(input())\n",
    "y = int(input())\n",
    "print(x + y)\n",
    "```\n",
    "\n",
    "A. ```4```\n",
    "\n",
    "B. ```6```\n",
    "\n",
    "C. ```24```\n",
    "\n",
    "D. ```2```"
   ]
  },
  {
   "cell_type": "markdown",
   "id": "80ff857f",
   "metadata": {},
   "source": [
    "# Solution 30"
   ]
  },
  {
   "cell_type": "code",
   "execution_count": 104,
   "id": "41beea89",
   "metadata": {},
   "outputs": [
    {
     "name": "stdout",
     "output_type": "stream",
     "text": [
      "2\n",
      "4\n",
      "6\n"
     ]
    }
   ],
   "source": [
    "# 2, 4\n",
    "x = int(input())\n",
    "y = int(input())\n",
    "print(x + y)        # 6"
   ]
  },
  {
   "cell_type": "code",
   "execution_count": 105,
   "id": "c231b840",
   "metadata": {},
   "outputs": [],
   "source": [
    "# Solución\n",
    "# B"
   ]
  },
  {
   "cell_type": "markdown",
   "id": "837ccbb3",
   "metadata": {},
   "source": [
    "****"
   ]
  },
  {
   "cell_type": "markdown",
   "id": "db271fca",
   "metadata": {},
   "source": [
    "*Gracias por la atención*\n",
    "\n",
    "*Isabel Maniega*"
   ]
  }
 ],
 "metadata": {
  "kernelspec": {
   "display_name": "Python 3 (ipykernel)",
   "language": "python",
   "name": "python3"
  },
  "language_info": {
   "codemirror_mode": {
    "name": "ipython",
    "version": 3
   },
   "file_extension": ".py",
   "mimetype": "text/x-python",
   "name": "python",
   "nbconvert_exporter": "python",
   "pygments_lexer": "ipython3",
   "version": "3.8.19"
  }
 },
 "nbformat": 4,
 "nbformat_minor": 5
}

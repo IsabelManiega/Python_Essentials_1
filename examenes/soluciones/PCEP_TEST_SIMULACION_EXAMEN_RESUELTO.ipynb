{
 "cells": [
  {
   "cell_type": "markdown",
   "id": "ec3eb97d",
   "metadata": {},
   "source": [
    "*Contenido creado por: Isabel Maniega*"
   ]
  },
  {
   "cell_type": "markdown",
   "id": "07cad330",
   "metadata": {},
   "source": [
    "****"
   ]
  },
  {
   "cell_type": "markdown",
   "id": "83f1ab10",
   "metadata": {},
   "source": [
    "# Question 1    (Data Aggregates)"
   ]
  },
  {
   "cell_type": "markdown",
   "id": "9e97a755-5ca4-411b-bb62-c1105264ca2a",
   "metadata": {},
   "source": [
    "What is the expected output of the following code?\n",
    "```\n",
    "data = (1, 2, 3, 4)\n",
    "data = data[-2:-1]\n",
    "data = data[-1]\n",
    "print(data)\n",
    "```\n",
    "A. ```1```\n",
    "\n",
    "B. ```3```\n",
    "\n",
    "C. ```4```\n",
    "\n",
    "D. ```2```"
   ]
  },
  {
   "cell_type": "markdown",
   "id": "7cfac698",
   "metadata": {},
   "source": [
    "# Solution 1"
   ]
  },
  {
   "cell_type": "code",
   "execution_count": 2,
   "id": "de119d08",
   "metadata": {},
   "outputs": [
    {
     "name": "stdout",
     "output_type": "stream",
     "text": [
      "data inicial: (1, 2, 3, 4)\n",
      "data tras: data[-2:-1]: (3,)\n",
      "data tras: data[-1]: 3\n"
     ]
    }
   ],
   "source": [
    "data = (1, 2, 3, 4)\n",
    "print('data inicial:', data)\n",
    "\n",
    "data = data[-2:-1]  # data = 3\n",
    "print('data tras: data[-2:-1]:', data)\n",
    "\n",
    "data = data[-1]     # 3\n",
    "print('data tras: data[-1]:', data)"
   ]
  },
  {
   "cell_type": "code",
   "execution_count": 3,
   "id": "f440d25d",
   "metadata": {},
   "outputs": [],
   "source": [
    "# Solución\n",
    "# B"
   ]
  },
  {
   "cell_type": "markdown",
   "id": "e3d8ca95",
   "metadata": {},
   "source": [
    "****"
   ]
  },
  {
   "cell_type": "markdown",
   "id": "68ca6364",
   "metadata": {},
   "source": [
    "# Question 2   (Functions)    "
   ]
  },
  {
   "cell_type": "markdown",
   "id": "924c658b-d2ee-4074-9af6-0da16f8ce8d2",
   "metadata": {},
   "source": [
    "What is the expected output of the following code?\n",
    "```\n",
    "def func(n):\n",
    "    s = '*'\n",
    "    for i in range(n):\n",
    "        s += s\n",
    "    yield s\n",
    " \n",
    "for x in func(2):\n",
    "    print(x, end='')\n",
    "```\n",
    "\n",
    "A. ```***```\n",
    "    \n",
    "B. ```*```\n",
    "    \n",
    "C. ```****```\n",
    "    \n",
    "D. ```**```"
   ]
  },
  {
   "cell_type": "markdown",
   "id": "f6de23c2",
   "metadata": {},
   "source": [
    "# Solution 2"
   ]
  },
  {
   "cell_type": "code",
   "execution_count": 5,
   "id": "7c4b92d0",
   "metadata": {},
   "outputs": [
    {
     "name": "stdout",
     "output_type": "stream",
     "text": [
      "****"
     ]
    }
   ],
   "source": [
    "def func(n):\n",
    "    s = '*'\n",
    "    for i in range(n):\n",
    "        s += s           # s = s + s ===>  # s = 2 * s\n",
    "    yield s\n",
    " \n",
    " \n",
    "for x in func(2):\n",
    "    print(x, end='')\n",
    "    \n",
    "# s = 2(*) = 2*\n",
    "# s = 2(2*) = 4*\n",
    "# ****"
   ]
  },
  {
   "cell_type": "code",
   "execution_count": 6,
   "id": "3f0beb8a",
   "metadata": {},
   "outputs": [],
   "source": [
    "# Solución\n",
    "# C"
   ]
  },
  {
   "cell_type": "markdown",
   "id": "a59fd575",
   "metadata": {},
   "source": [
    "****"
   ]
  },
  {
   "cell_type": "markdown",
   "id": "7900e7db",
   "metadata": {},
   "source": [
    "# Question 3    (Data Aggregates)"
   ]
  },
  {
   "cell_type": "markdown",
   "id": "14011571-1033-409a-bbe9-fdc557d924ec",
   "metadata": {},
   "source": [
    "What is the expected output of the following code?\n",
    "\n",
    "```\n",
    "data = {}\n",
    "data['2'] = [1, 2]\n",
    "data['1'] = [3, 4]\n",
    " \n",
    "for i in data.keys():\n",
    "    print(data[i][1], end=' ')\n",
    "```\n",
    "\n",
    "A. ```4 2```\n",
    "\n",
    "B. ```1 3```\n",
    "\n",
    "C. ```3 1```\n",
    "\n",
    "D. ```2 4```"
   ]
  },
  {
   "cell_type": "markdown",
   "id": "2ea540ea",
   "metadata": {},
   "source": [
    "# Solution 3"
   ]
  },
  {
   "cell_type": "code",
   "execution_count": 8,
   "id": "a56a2781",
   "metadata": {},
   "outputs": [],
   "source": [
    "# explicación completa paso a paso"
   ]
  },
  {
   "cell_type": "code",
   "execution_count": 9,
   "id": "d8a5f57f",
   "metadata": {},
   "outputs": [
    {
     "name": "stdout",
     "output_type": "stream",
     "text": [
      "i <key>: 2\n",
      "data[i] <apuntamos al valor>: [1, 2]\n",
      "data[i][0] ese valor en posición 0: 1\n",
      "data[i][1] ese valor en posición 1: 2\n",
      "\n",
      "\n",
      "i <key>: 1\n",
      "data[i] <apuntamos al valor>: [3, 4]\n",
      "data[i][0] ese valor en posición 0: 3\n",
      "data[i][1] ese valor en posición 1: 4\n",
      "\n",
      "\n"
     ]
    }
   ],
   "source": [
    "data = {}\n",
    "data['2'] = [1, 2]   # {'2': [1,2]} \n",
    "data['1'] = [3, 4]   # {'2': [1,2], '1': [3, 4]}\n",
    " \n",
    "for i in data.keys():\n",
    "    print('i <key>:', i)\n",
    "    print('data[i] <apuntamos al valor>:', data[i])\n",
    "    print('data[i][0] ese valor en posición 0:', data[i][0])\n",
    "    print('data[i][1] ese valor en posición 1:', data[i][1])\n",
    "    print(\"\\n\")\n",
    "\n",
    "# {'2': [1,2], \n",
    "#  '1': [3, 4]}"
   ]
  },
  {
   "cell_type": "code",
   "execution_count": 10,
   "id": "e53afe91",
   "metadata": {},
   "outputs": [],
   "source": [
    "# el propio ejercicio"
   ]
  },
  {
   "cell_type": "code",
   "execution_count": 11,
   "id": "4044fc5d",
   "metadata": {},
   "outputs": [
    {
     "name": "stdout",
     "output_type": "stream",
     "text": [
      "2 4 "
     ]
    }
   ],
   "source": [
    "data = {}\n",
    "data['2'] = [1, 2]   # {'2': [1,2]} \n",
    "data['1'] = [3, 4]   # {'2': [1,2], '1': [3, 4]}\n",
    " \n",
    "for i in data.keys():\n",
    "    print(data[i][1], end=' ')\n",
    "    # 2 4\n",
    "    \n",
    "    \n",
    "\n",
    "# {'2': [1,2], \n",
    "#  '1': [3, 4]}"
   ]
  },
  {
   "cell_type": "code",
   "execution_count": 12,
   "id": "8a04e483",
   "metadata": {},
   "outputs": [],
   "source": [
    "# Solución\n",
    "# D"
   ]
  },
  {
   "cell_type": "markdown",
   "id": "f64c12d2",
   "metadata": {},
   "source": [
    "****"
   ]
  },
  {
   "cell_type": "markdown",
   "id": "423d9c69",
   "metadata": {},
   "source": [
    "# Question 4  (Control Flow) "
   ]
  },
  {
   "cell_type": "markdown",
   "id": "63384427-2bbf-4735-ba87-528a543eac0f",
   "metadata": {},
   "source": [
    "How many stars will the following code print to the monitor?\n",
    "\n",
    "```\n",
    "data = [[x for x in range(3)] for y in range(3)]\n",
    "for i in range(3):\n",
    "    for j in range(3):\n",
    "        if data[i][j] % 2 != 0:\n",
    "            print('*')\n",
    "```\n",
    "            \n",
    "A. six\n",
    "\n",
    "B. three\n",
    "\n",
    "C. zero\n",
    "\n",
    "D. nine"
   ]
  },
  {
   "cell_type": "markdown",
   "id": "05d8aa34",
   "metadata": {},
   "source": [
    "# Solution 4"
   ]
  },
  {
   "cell_type": "code",
   "execution_count": 14,
   "id": "bd3636ec",
   "metadata": {},
   "outputs": [],
   "source": [
    "# ---[x for x in range(3)]---"
   ]
  },
  {
   "cell_type": "code",
   "execution_count": 15,
   "id": "24f03f33",
   "metadata": {},
   "outputs": [
    {
     "data": {
      "text/plain": [
       "[0, 1, 2]"
      ]
     },
     "execution_count": 15,
     "metadata": {},
     "output_type": "execute_result"
    }
   ],
   "source": [
    "[x for x in range(3)]"
   ]
  },
  {
   "cell_type": "code",
   "execution_count": 16,
   "id": "812ba55d",
   "metadata": {},
   "outputs": [],
   "source": [
    "# ---data---"
   ]
  },
  {
   "cell_type": "code",
   "execution_count": 17,
   "id": "827e9128",
   "metadata": {},
   "outputs": [
    {
     "name": "stdout",
     "output_type": "stream",
     "text": [
      "[[0, 1, 2], [0, 1, 2], [0, 1, 2]]\n"
     ]
    }
   ],
   "source": [
    "data = [[x for x in range(3)] for y in range(3)]\n",
    "\n",
    "# data = [[0,1,2] for y in range(3)]\n",
    "'''\n",
    "data=\n",
    "[\n",
    "[0,1,2],\n",
    "[0,1,2],\n",
    "[0,1,2]\n",
    "]\n",
    "'''\n",
    "\n",
    "print(data)"
   ]
  },
  {
   "cell_type": "code",
   "execution_count": 18,
   "id": "87874039",
   "metadata": {},
   "outputs": [],
   "source": [
    "# ----filas y columnas en la matriz----"
   ]
  },
  {
   "cell_type": "code",
   "execution_count": 19,
   "id": "e38d2c85",
   "metadata": {},
   "outputs": [
    {
     "name": "stdout",
     "output_type": "stream",
     "text": [
      "Fila i: 0  - Columna j: 0 - data[i][j]: 0\n",
      "Fila i: 0  - Columna j: 1 - data[i][j]: 1\n",
      "Fila i: 0  - Columna j: 2 - data[i][j]: 2\n",
      "Fila i: 1  - Columna j: 0 - data[i][j]: 0\n",
      "Fila i: 1  - Columna j: 1 - data[i][j]: 1\n",
      "Fila i: 1  - Columna j: 2 - data[i][j]: 2\n",
      "Fila i: 2  - Columna j: 0 - data[i][j]: 0\n",
      "Fila i: 2  - Columna j: 1 - data[i][j]: 1\n",
      "Fila i: 2  - Columna j: 2 - data[i][j]: 2\n"
     ]
    }
   ],
   "source": [
    "data = [[0, 1, 2], [0, 1, 2], [0, 1, 2]]\n",
    "\n",
    "for i in range(3):                                   \n",
    "    for j in range(3):     \n",
    "        print('Fila i:', i, ' - Columna j:', j,'- data[i][j]:', data[i][j])"
   ]
  },
  {
   "cell_type": "code",
   "execution_count": 20,
   "id": "de8b51d7",
   "metadata": {},
   "outputs": [],
   "source": [
    "# ----ejemplos de resto 0 y distinto de 0 en división por 2----"
   ]
  },
  {
   "cell_type": "code",
   "execution_count": 21,
   "id": "af400452",
   "metadata": {},
   "outputs": [
    {
     "data": {
      "text/plain": [
       "(0, 1, 0)"
      ]
     },
     "execution_count": 21,
     "metadata": {},
     "output_type": "execute_result"
    }
   ],
   "source": [
    "0%2, 1%2, 2%2"
   ]
  },
  {
   "cell_type": "code",
   "execution_count": 22,
   "id": "694db757",
   "metadata": {},
   "outputs": [],
   "source": [
    "# ----todo junto en el ejercicio----"
   ]
  },
  {
   "cell_type": "code",
   "execution_count": 23,
   "id": "1395291d",
   "metadata": {},
   "outputs": [
    {
     "name": "stdout",
     "output_type": "stream",
     "text": [
      "en este número se cumple que es distinto de 0 el resto: 1\n",
      "*\n",
      "en este número se cumple que es distinto de 0 el resto: 1\n",
      "*\n",
      "en este número se cumple que es distinto de 0 el resto: 1\n",
      "*\n"
     ]
    }
   ],
   "source": [
    "data = [[x for x in range(3)] for y in range(3)]\n",
    "for i in range(3):                                   \n",
    "    for j in range(3):                              \n",
    "        if data[i][j] % 2 != 0:    # si el resto de data[i][j] entre 2 es distinto de 0\n",
    "            print('en este número se cumple que es distinto de 0 el resto:', data[i][j])\n",
    "            print('*')"
   ]
  },
  {
   "cell_type": "code",
   "execution_count": 24,
   "id": "3ead24c4",
   "metadata": {},
   "outputs": [],
   "source": [
    "# Solución\n",
    "# B"
   ]
  },
  {
   "cell_type": "markdown",
   "id": "d6e2461e",
   "metadata": {},
   "source": [
    "**explicación**"
   ]
  },
  {
   "cell_type": "markdown",
   "id": "54327273",
   "metadata": {},
   "source": [
    "obviamente solo el número 1 cumple que 1%2 != 0"
   ]
  },
  {
   "cell_type": "markdown",
   "id": "94724fac",
   "metadata": {},
   "source": [
    "****"
   ]
  },
  {
   "cell_type": "markdown",
   "id": "acf12e8c",
   "metadata": {},
   "source": [
    "# Question 5   (Data Types)"
   ]
  },
  {
   "cell_type": "markdown",
   "id": "fbb26793-679c-4f24-8859-2279423755b4",
   "metadata": {},
   "source": [
    "Consider the following code.\n",
    "\n",
    "```\n",
    "start = input('How old were you at the time of joining?')\n",
    "now = input('How old are you today?')\n",
    "```\n",
    "\n",
    "Which of the following codes will print the right output?\n",
    "\n",
    "\n",
    "A.\n",
    "```\n",
    "print(\n",
    "     'Congrats on '\n",
    "     + int(now - start)\n",
    "     + ' years of service!'\n",
    ")\n",
    "```\n",
    "B.\n",
    "```\n",
    "print(\n",
    "     'Congrats on '\n",
    "     + str(now - start)\n",
    "     + ' years of service!'\n",
    ")\n",
    "```\n",
    "C.\n",
    "```\n",
    "print(\n",
    "     'Congrats on '\n",
    "     + (int(now) - int(start))\n",
    "     + ' years of service!'\n",
    ")\n",
    "```\n",
    "D.\n",
    "```\n",
    "print(\n",
    "     'Congrats on '\n",
    "     + str(int(now) - int(start))\n",
    "     + ' years of service!'\n",
    ")\n",
    "```"
   ]
  },
  {
   "cell_type": "markdown",
   "id": "d2979c06",
   "metadata": {},
   "source": [
    "# Solution 5"
   ]
  },
  {
   "cell_type": "code",
   "execution_count": 26,
   "id": "f0564cfa",
   "metadata": {},
   "outputs": [],
   "source": [
    "# D"
   ]
  },
  {
   "cell_type": "code",
   "execution_count": 27,
   "id": "8940526f",
   "metadata": {},
   "outputs": [
    {
     "name": "stdout",
     "output_type": "stream",
     "text": [
      "How old were you at the time of joining?23\n",
      "How old are you today?28\n",
      "Congrats on 5 years of service!\n"
     ]
    }
   ],
   "source": [
    "start = input('How old were you at the time of joining?')     # 23   (es un ejemplo)\n",
    "now = input('How old are you today?')                         # 28\n",
    "\n",
    "print(\n",
    "     'Congrats on '\n",
    "     + str(int(now) - int(start))\n",
    "     + ' years of service!'\n",
    ")"
   ]
  },
  {
   "cell_type": "code",
   "execution_count": 28,
   "id": "7f118e62",
   "metadata": {},
   "outputs": [],
   "source": [
    "# Solución\n",
    "# D"
   ]
  },
  {
   "cell_type": "markdown",
   "id": "77281150",
   "metadata": {},
   "source": [
    "**explicación**"
   ]
  },
  {
   "cell_type": "markdown",
   "id": "cf31bb59",
   "metadata": {},
   "source": [
    "no pide por teclado el número entero: int(input)\n",
    "    \n",
    "y concatena strings, para que ejecute"
   ]
  },
  {
   "cell_type": "code",
   "execution_count": 29,
   "id": "a924674a",
   "metadata": {},
   "outputs": [
    {
     "data": {
      "text/plain": [
       "\"\\nESTA ES LA C, LA OTRA CON LA QUE SE PODÍA DUDAR\\n\\nNO SIRVE PUESTO QUE ESTAMOS CONCATENANDO STRINGS\\n\\n\\nstart = input('How old were you at the time of joining?')\\nnow = input('How old are you today?')\\n\\nprint(\\n     'Congrats on '\\n     + int(now) - int(start)\\n     + ' years of service!'\\n)\\n\""
      ]
     },
     "execution_count": 29,
     "metadata": {},
     "output_type": "execute_result"
    }
   ],
   "source": [
    "\"\"\"\n",
    "ESTA ES LA C, LA OTRA CON LA QUE SE PODÍA DUDAR\n",
    "\n",
    "NO SIRVE PUESTO QUE ESTAMOS CONCATENANDO STRINGS\n",
    "\n",
    "\n",
    "start = input('How old were you at the time of joining?')\n",
    "now = input('How old are you today?')\n",
    "\n",
    "print(\n",
    "     'Congrats on '\n",
    "     + int(now) - int(start)\n",
    "     + ' years of service!'\n",
    ")\n",
    "\"\"\"\n",
    "\n",
    "\n",
    "# TypeError: can only concatenate str (not \"int\") to str"
   ]
  },
  {
   "cell_type": "markdown",
   "id": "c4b8d574",
   "metadata": {},
   "source": [
    "****"
   ]
  },
  {
   "cell_type": "markdown",
   "id": "4375e759",
   "metadata": {},
   "source": [
    "# Question 6    (Control Flow)"
   ]
  },
  {
   "cell_type": "markdown",
   "id": "26fd955f-2dcc-4bc8-aab4-28772f0e37cf",
   "metadata": {},
   "source": [
    "Which one of the lines should you put in the snippet below to match the expected output?\n",
    "\n",
    "\n",
    "Expected output:\n",
    "```\n",
    "1245\n",
    "```\n",
    "\n",
    "Code:\n",
    "```\n",
    "c = 0\n",
    "while c < 5:\n",
    "    c = c + 1\n",
    "    if c == 3:\n",
    "        # enter code here\n",
    "    print(c, end=\"\")\n",
    "```\n",
    "A. ```exit```\n",
    "\n",
    "B. ```continue```\n",
    "\n",
    "C. ```print()```\n",
    "\n",
    "D. ```break```"
   ]
  },
  {
   "cell_type": "markdown",
   "id": "ff249567",
   "metadata": {},
   "source": [
    "# Solution 6"
   ]
  },
  {
   "cell_type": "code",
   "execution_count": 31,
   "id": "2ac496ad",
   "metadata": {},
   "outputs": [
    {
     "name": "stdout",
     "output_type": "stream",
     "text": [
      "1245"
     ]
    }
   ],
   "source": [
    "# expected output 1245\n",
    "\n",
    "c = 0\n",
    "while c < 5:\n",
    "    c = c + 1\n",
    "    if c == 3:\n",
    "        continue\n",
    "    print(c, end=\"\")"
   ]
  },
  {
   "cell_type": "code",
   "execution_count": 32,
   "id": "2a0315d9",
   "metadata": {},
   "outputs": [],
   "source": [
    "# Solución\n",
    "# B"
   ]
  },
  {
   "cell_type": "markdown",
   "id": "e994dbfd",
   "metadata": {},
   "source": [
    "****"
   ]
  },
  {
   "cell_type": "markdown",
   "id": "798b3726",
   "metadata": {},
   "source": [
    "# Question 7   (Functions)"
   ]
  },
  {
   "cell_type": "markdown",
   "id": "0c549acd-de15-4061-ab84-9e9a5a266edf",
   "metadata": {},
   "source": [
    "What is the expected output of the following code?\n",
    "\n",
    "```\n",
    "def func(x=2, y=3):\n",
    "    return x * y\n",
    " \n",
    "print(func(y=2, 3))\n",
    "```\n",
    "\n",
    "A. The code is erroneous\n",
    "\n",
    "B. ```4```\n",
    "\n",
    "C. ```6```\n",
    "\n",
    "D. ```2```"
   ]
  },
  {
   "cell_type": "markdown",
   "id": "6ad5d7a2",
   "metadata": {},
   "source": [
    "# Solution 7"
   ]
  },
  {
   "cell_type": "code",
   "execution_count": 34,
   "id": "7476a918",
   "metadata": {},
   "outputs": [
    {
     "data": {
      "text/plain": [
       "'\\ndef func(x=2, y=3):\\n    return x * y\\n \\n\\nprint(func(y=2, 3))\\n'"
      ]
     },
     "execution_count": 34,
     "metadata": {},
     "output_type": "execute_result"
    }
   ],
   "source": [
    "\"\"\"\n",
    "def func(x=2, y=3):\n",
    "    return x * y\n",
    " \n",
    "\n",
    "print(func(y=2, 3))\n",
    "\"\"\"\n",
    "\n",
    "# SyntaxError: positional argument follows keyword argument"
   ]
  },
  {
   "cell_type": "code",
   "execution_count": 35,
   "id": "38eaf6e0",
   "metadata": {},
   "outputs": [],
   "source": [
    "# Solución\n",
    "# A"
   ]
  },
  {
   "cell_type": "markdown",
   "id": "75758c8b",
   "metadata": {},
   "source": [
    "**un ejemplo similar que funciona**"
   ]
  },
  {
   "cell_type": "code",
   "execution_count": 36,
   "id": "2eab30ae",
   "metadata": {},
   "outputs": [
    {
     "name": "stdout",
     "output_type": "stream",
     "text": [
      "20\n"
     ]
    }
   ],
   "source": [
    "def func(x=2, y=3):\n",
    "    return x * y\n",
    " \n",
    "\n",
    "print(func(y=5, x=4))"
   ]
  },
  {
   "cell_type": "markdown",
   "id": "78010548",
   "metadata": {},
   "source": [
    "****"
   ]
  },
  {
   "cell_type": "markdown",
   "id": "eb31e191",
   "metadata": {},
   "source": [
    "# Question 8  (Data Aggregates)    "
   ]
  },
  {
   "cell_type": "markdown",
   "id": "850a6f8a-5100-4f55-a233-8119f7728ac6",
   "metadata": {},
   "source": [
    "What is the expected output of the following code?\n",
    "\n",
    "```\n",
    "data = {1: 0, 2: 1, 3: 2, 0: 1}\n",
    "x = 0\n",
    " \n",
    "for _ in range(len(data)):\n",
    "    x = data[x]\n",
    " \n",
    "print(x)\n",
    "```\n",
    "\n",
    "A. ```0```\n",
    "\n",
    "B. ```1```\n",
    "\n",
    "C. The code is erroneous\n",
    "\n",
    "D. ```2```"
   ]
  },
  {
   "cell_type": "markdown",
   "id": "87bafe8c",
   "metadata": {},
   "source": [
    "# Solution 8"
   ]
  },
  {
   "cell_type": "code",
   "execution_count": 38,
   "id": "d63fad4b",
   "metadata": {},
   "outputs": [
    {
     "name": "stdout",
     "output_type": "stream",
     "text": [
      "0\n"
     ]
    }
   ],
   "source": [
    "data = {1: 0, \n",
    "        2: 1, \n",
    "        3: 2, \n",
    "        0: 1}\n",
    "\n",
    "x=0\n",
    " \n",
    "for _ in range(len(data)):   # len(data) = 4\n",
    "    x = data[x]              \n",
    " #  x = data[0] ==> x = 1\n",
    " #  x = data[1] ==> x = 0\n",
    " #  x = data[0] ==> x = 1 \n",
    " #  x = data[1] ==> x = 0\n",
    "    \n",
    "print(x)   # 0\n",
    "\n",
    "# LO HACE 4 VECES POR range(len(data))\n",
    "# pero, en cada ocasión se tiene en cuenta el valor anterior"
   ]
  },
  {
   "cell_type": "code",
   "execution_count": 39,
   "id": "d33dc4a2",
   "metadata": {},
   "outputs": [],
   "source": [
    "# Solución\n",
    "# A"
   ]
  },
  {
   "cell_type": "markdown",
   "id": "f68fadbd",
   "metadata": {},
   "source": [
    "**OJO!!! NO CONFUNDIR CON ESTE EJERCICIO----**"
   ]
  },
  {
   "cell_type": "code",
   "execution_count": 40,
   "id": "725822ef",
   "metadata": {},
   "outputs": [
    {
     "name": "stdout",
     "output_type": "stream",
     "text": [
      "2\n"
     ]
    }
   ],
   "source": [
    "data = {1: 0, \n",
    "        2: 1, \n",
    "        3: 2, \n",
    "        0: 1}\n",
    "\n",
    " \n",
    "# aqui no es necesario x  !!!\n",
    "# x=0\n",
    "\n",
    "\n",
    "for x in range(len(data)):   # len(data) = 4\n",
    "    x = data[x]              \n",
    "# RANGE(LEN(3)) ===> 0-1-2-3\n",
    "\n",
    " #  x = data[0] ==> x = 1 (SI, PERO NO AFECTA, SOLO IMPORTA EL ÚLTIMO)\n",
    " #  x = data[1] ==> x = 0 (SI, PERO NO AFECTA, SOLO IMPORTA EL ÚLTIMO)\n",
    " #  x = data[2] ==> x = 1 (SI, PERO NO AFECTA, SOLO IMPORTA EL ÚLTIMO) \n",
    " #  x = data[3] ==> x = 2  ÚLTIMA VEZ QUE REASIGNA VALOR\n",
    "    \n",
    "print(x)   # 2"
   ]
  },
  {
   "cell_type": "markdown",
   "id": "e4bbc3a8",
   "metadata": {},
   "source": [
    "**ejercicio original x=1**"
   ]
  },
  {
   "cell_type": "code",
   "execution_count": 41,
   "id": "d50e6d9f",
   "metadata": {},
   "outputs": [
    {
     "name": "stdout",
     "output_type": "stream",
     "text": [
      "1\n"
     ]
    }
   ],
   "source": [
    "data = {1: 0, \n",
    "        2: 1, \n",
    "        3: 2, \n",
    "        0: 1}\n",
    "\n",
    "x=1\n",
    " \n",
    "for _ in range(len(data)):   # len(data) = 4\n",
    "    x = data[x]              \n",
    " #  x = data[1] ==> x = 0\n",
    " #  x = data[0] ==> x = 1\n",
    " #  x = data[1] ==> x = 0 \n",
    " #  x = data[0] ==> x = 1\n",
    "    \n",
    "print(x)   # 0\n",
    "\n",
    "# LO HACE 4 VECES POR range(len(data))\n",
    "# pero, en cada ocasión se tiene en cuenta el valor anterior"
   ]
  },
  {
   "cell_type": "markdown",
   "id": "0c1eb501",
   "metadata": {},
   "source": [
    "**ejercicio original x=2**"
   ]
  },
  {
   "cell_type": "code",
   "execution_count": 42,
   "id": "82cc6743",
   "metadata": {},
   "outputs": [
    {
     "name": "stdout",
     "output_type": "stream",
     "text": [
      "0\n"
     ]
    }
   ],
   "source": [
    "data = {1: 0, \n",
    "        2: 1, \n",
    "        3: 2, \n",
    "        0: 1}\n",
    "\n",
    "x=2\n",
    " \n",
    "for _ in range(len(data)):   # len(data) = 4\n",
    "    x = data[x]              \n",
    " #  x = data[2] ==> x = 1\n",
    " #  x = data[1] ==> x = 0\n",
    " #  x = data[0] ==> x = 1 \n",
    " #  x = data[1] ==> x = 0\n",
    "    \n",
    "print(x)   # 0\n",
    "\n",
    "# LO HACE 4 VECES POR range(len(data))\n",
    "# pero, en cada ocasión se tiene en cuenta el valor anterior"
   ]
  },
  {
   "cell_type": "markdown",
   "id": "771fea70",
   "metadata": {},
   "source": [
    "**ejercicio original x=3**"
   ]
  },
  {
   "cell_type": "code",
   "execution_count": 43,
   "id": "73534b26",
   "metadata": {},
   "outputs": [
    {
     "name": "stdout",
     "output_type": "stream",
     "text": [
      "1\n"
     ]
    }
   ],
   "source": [
    "data = {1: 0, \n",
    "        2: 1, \n",
    "        3: 2, \n",
    "        0: 1}\n",
    "\n",
    "x=3\n",
    " \n",
    "for _ in range(len(data)):   # len(data) = 4\n",
    "    x = data[x]              \n",
    " #  x = data[3] ==> x = 2\n",
    " #  x = data[2] ==> x = 1\n",
    " #  x = data[1] ==> x = 0 \n",
    " #  x = data[0] ==> x = 1\n",
    "    \n",
    "print(x)   # 0\n",
    "\n",
    "# LO HACE 4 VECES POR range(len(data))\n",
    "# pero, en cada ocasión se tiene en cuenta el valor anterior"
   ]
  },
  {
   "cell_type": "markdown",
   "id": "59779622",
   "metadata": {},
   "source": [
    "**ejercicio original x=4**"
   ]
  },
  {
   "cell_type": "code",
   "execution_count": 44,
   "id": "2464766b",
   "metadata": {},
   "outputs": [
    {
     "data": {
      "text/plain": [
       "'\\ndata = {1: 0, \\n        2: 1, \\n        3: 2, \\n        0: 1}\\n\\nx=4\\n \\nfor _ in range(len(data)):   # len(data) = 4\\n    x = data[x]              \\n #  x = data[4] ==> ??\\n\\n    \\nprint(x)   \\n'"
      ]
     },
     "execution_count": 44,
     "metadata": {},
     "output_type": "execute_result"
    }
   ],
   "source": [
    "\"\"\"\n",
    "data = {1: 0, \n",
    "        2: 1, \n",
    "        3: 2, \n",
    "        0: 1}\n",
    "\n",
    "x=4\n",
    " \n",
    "for _ in range(len(data)):   # len(data) = 4\n",
    "    x = data[x]              \n",
    " #  x = data[4] ==> ??\n",
    "\n",
    "    \n",
    "print(x)   \n",
    "\"\"\"\n",
    "\n",
    "# KeyError: 4"
   ]
  },
  {
   "cell_type": "markdown",
   "id": "ac29095c",
   "metadata": {},
   "source": [
    "**diferente longitud de data**"
   ]
  },
  {
   "cell_type": "code",
   "execution_count": 45,
   "id": "bba13833",
   "metadata": {},
   "outputs": [
    {
     "name": "stdout",
     "output_type": "stream",
     "text": [
      "dentro del bucle for: 1\n",
      "dentro del bucle for: 0\n",
      "al final vale: 0\n"
     ]
    }
   ],
   "source": [
    "data = {1: 0, \n",
    "        2: 1}\n",
    "\n",
    "x=2\n",
    " \n",
    "for _ in range(len(data)):   # len(data) = 2\n",
    "    x = data[x]    \n",
    "    print('dentro del bucle for:',  x)\n",
    "#   x = data[2] ==> x = 1\n",
    "#   x = data[1] ==> x = 0\n",
    "\n",
    "    \n",
    "print('al final vale:', x)   # 0"
   ]
  },
  {
   "cell_type": "markdown",
   "id": "c53078e3",
   "metadata": {},
   "source": [
    "****"
   ]
  },
  {
   "cell_type": "markdown",
   "id": "f8720650",
   "metadata": {},
   "source": [
    "# Question 9  (Operators)"
   ]
  },
  {
   "cell_type": "markdown",
   "id": "46c47111-dc04-42e9-b44c-08d135952eec",
   "metadata": {},
   "source": [
    "Which of the following statements are correct?\n",
    "\n",
    "Choose two.\n",
    "\n",
    "A. ```True and False``` evaluates to ```true```\n",
    "\n",
    "B. ```7 + False``` evaluates to ```False```\n",
    "\n",
    "C. ```type('')``` returns ```<class 'bool'>```\n",
    "\n",
    "D. ```True + 1``` evaluates to ```2```\n",
    "\n",
    "E. ```True or False``` evaluates to ```True```"
   ]
  },
  {
   "cell_type": "markdown",
   "id": "db5f7d67",
   "metadata": {},
   "source": [
    "# Solution 9"
   ]
  },
  {
   "cell_type": "code",
   "execution_count": 47,
   "id": "6f4ee2db",
   "metadata": {},
   "outputs": [
    {
     "data": {
      "text/plain": [
       "False"
      ]
     },
     "execution_count": 47,
     "metadata": {},
     "output_type": "execute_result"
    }
   ],
   "source": [
    "# A\n",
    "True and False # False  \n",
    "\n",
    "# True and False evaluates to true  ===> NO ES CORRECTO"
   ]
  },
  {
   "cell_type": "code",
   "execution_count": 48,
   "id": "f29b1e45",
   "metadata": {},
   "outputs": [
    {
     "data": {
      "text/plain": [
       "7"
      ]
     },
     "execution_count": 48,
     "metadata": {},
     "output_type": "execute_result"
    }
   ],
   "source": [
    "# B\n",
    "7 + False # 7\n",
    "\n",
    "# 7 + False evaluates to False  ======> NO ES CORRECTO"
   ]
  },
  {
   "cell_type": "code",
   "execution_count": 49,
   "id": "ae81f610",
   "metadata": {},
   "outputs": [
    {
     "data": {
      "text/plain": [
       "str"
      ]
     },
     "execution_count": 49,
     "metadata": {},
     "output_type": "execute_result"
    }
   ],
   "source": [
    "# C\n",
    "type('') # str\n",
    "\n",
    "# type('') returns <class 'bool'>  ===> NO ES CORRECTO"
   ]
  },
  {
   "cell_type": "code",
   "execution_count": 50,
   "id": "9be06803",
   "metadata": {},
   "outputs": [
    {
     "data": {
      "text/plain": [
       "2"
      ]
     },
     "execution_count": 50,
     "metadata": {},
     "output_type": "execute_result"
    }
   ],
   "source": [
    "# D\n",
    "True + 1  # 1+1 = 2\n",
    "\n",
    "# True + 1 evaluates to 2  ===========> ES CORRECTO"
   ]
  },
  {
   "cell_type": "code",
   "execution_count": 51,
   "id": "d9222fc1",
   "metadata": {},
   "outputs": [
    {
     "data": {
      "text/plain": [
       "True"
      ]
     },
     "execution_count": 51,
     "metadata": {},
     "output_type": "execute_result"
    }
   ],
   "source": [
    "# E\n",
    "True or False # True\n",
    "\n",
    "# True or False evaluates to True ====> ES CORRECTO"
   ]
  },
  {
   "cell_type": "code",
   "execution_count": 52,
   "id": "65ecfa8a",
   "metadata": {},
   "outputs": [],
   "source": [
    "# Solución\n",
    "# D y E"
   ]
  },
  {
   "cell_type": "markdown",
   "id": "58b6e975",
   "metadata": {},
   "source": [
    "**no confundir estos ejemplos..**"
   ]
  },
  {
   "cell_type": "code",
   "execution_count": 53,
   "id": "e71588dc",
   "metadata": {},
   "outputs": [
    {
     "data": {
      "text/plain": [
       "(str, str, str)"
      ]
     },
     "execution_count": 53,
     "metadata": {},
     "output_type": "execute_result"
    }
   ],
   "source": [
    "type(''), type(' '), type('miString')"
   ]
  },
  {
   "cell_type": "code",
   "execution_count": 54,
   "id": "76884ec2",
   "metadata": {},
   "outputs": [
    {
     "data": {
      "text/plain": [
       "(False, True, True)"
      ]
     },
     "execution_count": 54,
     "metadata": {},
     "output_type": "execute_result"
    }
   ],
   "source": [
    "bool(''), bool('  '), bool('miString')"
   ]
  },
  {
   "cell_type": "markdown",
   "id": "d26505df",
   "metadata": {},
   "source": [
    "****"
   ]
  },
  {
   "cell_type": "markdown",
   "id": "0bd5d134",
   "metadata": {},
   "source": [
    "# Question 10  (Error Handling)"
   ]
  },
  {
   "cell_type": "markdown",
   "id": "d2877b07-3e3e-4d71-b2e5-9a7780b27b69",
   "metadata": {},
   "source": [
    "What is the output of the following code if the user enters a 0?\n",
    "\n",
    "```\n",
    "try:\n",
    "    value = input(\"Enter a value: \")\n",
    "    print(int(value)/int(value))\n",
    "except ValueError:\n",
    "    print(\"Bad input...\")\n",
    "except ZeroDivisionError:\n",
    "    print(\"Very bad input...\")\n",
    "except TypeError:\n",
    "    print(\"Very very bad input...\")\n",
    "except:\n",
    "    print(\"Booo!\")\n",
    "```\n",
    "    \n",
    "A. ```1.0``` \n",
    "\n",
    "B. ```Bad input...```\n",
    "\n",
    "C. ```Booo!```\n",
    "\n",
    "D. ```Very bad input...```\n",
    "\n",
    "E. ```Very very bad input...```\n",
    "\n",
    "F. ```0.0```"
   ]
  },
  {
   "cell_type": "markdown",
   "id": "0cf6c901",
   "metadata": {},
   "source": [
    "# Solution 10"
   ]
  },
  {
   "cell_type": "code",
   "execution_count": 56,
   "id": "52ab0095",
   "metadata": {},
   "outputs": [],
   "source": [
    "# ejemplos previos"
   ]
  },
  {
   "cell_type": "code",
   "execution_count": 57,
   "id": "a9f88bb3",
   "metadata": {},
   "outputs": [],
   "source": [
    "# numero entero"
   ]
  },
  {
   "cell_type": "code",
   "execution_count": 58,
   "id": "0943a1a7",
   "metadata": {},
   "outputs": [
    {
     "name": "stdout",
     "output_type": "stream",
     "text": [
      "Enter a value: 10\n",
      "1.0\n"
     ]
    }
   ],
   "source": [
    "try:\n",
    "    value = input(\"Enter a value: \")    # 10\n",
    "    print(int(value)/int(value))\n",
    "except ValueError:\n",
    "    print(\"Bad input...\")\n",
    "except ZeroDivisionError:\n",
    "    print(\"Very bad input...\")\n",
    "except TypeError:\n",
    "    print(\"Very very bad input...\")\n",
    "except:\n",
    "    print(\"Booo!\")"
   ]
  },
  {
   "cell_type": "code",
   "execution_count": 59,
   "id": "8a640fbb",
   "metadata": {},
   "outputs": [],
   "source": [
    "# numero decimal"
   ]
  },
  {
   "cell_type": "code",
   "execution_count": 60,
   "id": "1aace3c6",
   "metadata": {},
   "outputs": [
    {
     "name": "stdout",
     "output_type": "stream",
     "text": [
      "Enter a value: 10.5\n",
      "Bad input...\n"
     ]
    }
   ],
   "source": [
    "try:\n",
    "    value = input(\"Enter a value: \")      # 10.5\n",
    "    print(int(value)/int(value))\n",
    "except ValueError:\n",
    "    print(\"Bad input...\")\n",
    "except ZeroDivisionError:\n",
    "    print(\"Very bad input...\")\n",
    "except TypeError:\n",
    "    print(\"Very very bad input...\")\n",
    "except:\n",
    "    print(\"Booo!\")"
   ]
  },
  {
   "cell_type": "code",
   "execution_count": 61,
   "id": "fc2e6e4d",
   "metadata": {},
   "outputs": [],
   "source": [
    "# string"
   ]
  },
  {
   "cell_type": "code",
   "execution_count": 62,
   "id": "eb06d8c5",
   "metadata": {},
   "outputs": [
    {
     "name": "stdout",
     "output_type": "stream",
     "text": [
      "Enter a value: hola\n",
      "Bad input...\n"
     ]
    }
   ],
   "source": [
    "try:\n",
    "    value = input(\"Enter a value: \")    # hola \n",
    "    print(int(value)/int(value))\n",
    "except ValueError:\n",
    "    print(\"Bad input...\")\n",
    "except ZeroDivisionError:\n",
    "    print(\"Very bad input...\")\n",
    "except TypeError:\n",
    "    print(\"Very very bad input...\")\n",
    "except:\n",
    "    print(\"Booo!\")"
   ]
  },
  {
   "cell_type": "code",
   "execution_count": 63,
   "id": "6d657b79",
   "metadata": {},
   "outputs": [],
   "source": [
    "# 0 (el propio ejemplo)"
   ]
  },
  {
   "cell_type": "code",
   "execution_count": 64,
   "id": "aa9a6c40",
   "metadata": {},
   "outputs": [
    {
     "name": "stdout",
     "output_type": "stream",
     "text": [
      "Enter a value: 0\n",
      "Very bad input...\n"
     ]
    }
   ],
   "source": [
    "try:\n",
    "    value = input(\"Enter a value: \")    # 0\n",
    "    print(int(value)/int(value))\n",
    "except ValueError:\n",
    "    print(\"Bad input...\")\n",
    "except ZeroDivisionError:\n",
    "    print(\"Very bad input...\")\n",
    "except TypeError:\n",
    "    print(\"Very very bad input...\")\n",
    "except:\n",
    "    print(\"Booo!\")"
   ]
  },
  {
   "cell_type": "code",
   "execution_count": 65,
   "id": "bca11fd0",
   "metadata": {},
   "outputs": [],
   "source": [
    "# Solución\n",
    "# D (no B)"
   ]
  },
  {
   "cell_type": "markdown",
   "id": "47bd6d7c",
   "metadata": {},
   "source": [
    "****"
   ]
  },
  {
   "cell_type": "markdown",
   "id": "72b3f0f9",
   "metadata": {},
   "source": [
    "# Question 11  (Operators)"
   ]
  },
  {
   "cell_type": "markdown",
   "id": "9ab348ab-6f41-4afe-8f4e-87a6bff086e7",
   "metadata": {},
   "source": [
    "What is the output of the following snippet?\n",
    "\n",
    "```\n",
    "y = 2 + 3 * 5.\n",
    "print(y)\n",
    "```\n",
    "A. ```17.0```\n",
    "\n",
    "B. ```25.0```\n",
    "\n",
    "C. the snippet will cause an execution error\n",
    "\n",
    "D. ```17```"
   ]
  },
  {
   "cell_type": "markdown",
   "id": "984fccd3",
   "metadata": {},
   "source": [
    "# Solution 11"
   ]
  },
  {
   "cell_type": "code",
   "execution_count": 67,
   "id": "1f8af98b",
   "metadata": {},
   "outputs": [
    {
     "data": {
      "text/plain": [
       "15"
      ]
     },
     "execution_count": 67,
     "metadata": {},
     "output_type": "execute_result"
    }
   ],
   "source": [
    "3*5"
   ]
  },
  {
   "cell_type": "code",
   "execution_count": 68,
   "id": "8b829342",
   "metadata": {},
   "outputs": [
    {
     "data": {
      "text/plain": [
       "15.0"
      ]
     },
     "execution_count": 68,
     "metadata": {},
     "output_type": "execute_result"
    }
   ],
   "source": [
    "3*5."
   ]
  },
  {
   "cell_type": "code",
   "execution_count": 69,
   "id": "af11d8aa",
   "metadata": {},
   "outputs": [
    {
     "data": {
      "text/plain": [
       "15.0"
      ]
     },
     "execution_count": 69,
     "metadata": {},
     "output_type": "execute_result"
    }
   ],
   "source": [
    "3*5.0"
   ]
  },
  {
   "cell_type": "code",
   "execution_count": 70,
   "id": "3ffea330",
   "metadata": {},
   "outputs": [
    {
     "name": "stdout",
     "output_type": "stream",
     "text": [
      "17.0\n"
     ]
    }
   ],
   "source": [
    "y = 2 + 3 * 5.    # 2 + 3 * 5.0  (EQUIVALENTE A 5.0)  \n",
    "print(y)          # 17.0"
   ]
  },
  {
   "cell_type": "code",
   "execution_count": 71,
   "id": "3616fe55",
   "metadata": {},
   "outputs": [],
   "source": [
    "# Solución\n",
    "# A"
   ]
  },
  {
   "cell_type": "markdown",
   "id": "84f09098",
   "metadata": {},
   "source": [
    "****"
   ]
  },
  {
   "cell_type": "markdown",
   "id": "a8141556",
   "metadata": {},
   "source": [
    "# Question 12   (Functions)"
   ]
  },
  {
   "cell_type": "markdown",
   "id": "bab16006-c3bf-4f60-98e8-9518fdcc1b73",
   "metadata": {},
   "source": [
    "What is the expected output of the following code?\n",
    "\n",
    "```\n",
    "def func(x):\n",
    "    if x % 2 == 0:\n",
    "        return 1\n",
    "    else:\n",
    "        return 2\n",
    " \n",
    "print(func(func(2)))\n",
    "```\n",
    "A. ```0```\n",
    "\n",
    "B. ```1```\n",
    "\n",
    "C. ```2```\n",
    "\n",
    "D. The code is erroneous"
   ]
  },
  {
   "cell_type": "markdown",
   "id": "b9614646",
   "metadata": {},
   "source": [
    "# Solution 12"
   ]
  },
  {
   "cell_type": "code",
   "execution_count": 73,
   "id": "32bfbae7",
   "metadata": {},
   "outputs": [
    {
     "name": "stdout",
     "output_type": "stream",
     "text": [
      "2\n"
     ]
    }
   ],
   "source": [
    "def func(x):\n",
    "    if x % 2 == 0:\n",
    "        return 1\n",
    "    else:\n",
    "        return 2\n",
    "    \n",
    "    \n",
    "print(func(func(2)))\n",
    "#     func(1)        (el resto de 2/2 es 0 entonces retorna 1)\n",
    "#     # 2"
   ]
  },
  {
   "cell_type": "code",
   "execution_count": 74,
   "id": "fbaa1267",
   "metadata": {},
   "outputs": [],
   "source": [
    "# Solución\n",
    "# C"
   ]
  },
  {
   "cell_type": "markdown",
   "id": "bb19d437",
   "metadata": {},
   "source": [
    "****"
   ]
  },
  {
   "cell_type": "markdown",
   "id": "8d972d0a",
   "metadata": {},
   "source": [
    "# Question 13  (Operators)"
   ]
  },
  {
   "cell_type": "markdown",
   "id": "1f63cad3-339b-42d3-b007-bbc5f4d03692",
   "metadata": {},
   "source": [
    "Consider the following code.\n",
    "\n",
    "```\n",
    "languages = ['English', 'Spanish', 'German']\n",
    "more_languages = ['English', 'Spanish', 'German']\n",
    "extra_languages = more_languages\n",
    "```\n",
    "Which statement will print True to the monitor?\n",
    "\n",
    "Choose two.\n",
    "\n",
    "\n",
    "A. ```print(more_languages is extra_languages)```\n",
    "    \n",
    "B. ```print(languages == more_languages)```\n",
    "    \n",
    "C. ```print(languages is extra_languages)```\n",
    "    \n",
    "D. ```print(languages is more_languages)```"
   ]
  },
  {
   "cell_type": "markdown",
   "id": "46ee0b1f",
   "metadata": {},
   "source": [
    "# Solution 13"
   ]
  },
  {
   "cell_type": "code",
   "execution_count": 76,
   "id": "fa1f1c41",
   "metadata": {},
   "outputs": [],
   "source": [
    "languages = ['English', 'Spanish', 'German']\n",
    "more_languages = ['English', 'Spanish', 'German']\n",
    "extra_languages = more_languages"
   ]
  },
  {
   "cell_type": "code",
   "execution_count": 77,
   "id": "7c9a2908",
   "metadata": {},
   "outputs": [
    {
     "name": "stdout",
     "output_type": "stream",
     "text": [
      "True\n"
     ]
    }
   ],
   "source": [
    "# A. \n",
    "print(more_languages is extra_languages)  # True"
   ]
  },
  {
   "cell_type": "code",
   "execution_count": 78,
   "id": "5a978676",
   "metadata": {},
   "outputs": [
    {
     "name": "stdout",
     "output_type": "stream",
     "text": [
      "True\n"
     ]
    }
   ],
   "source": [
    "# B\n",
    "print(languages == more_languages)  # True"
   ]
  },
  {
   "cell_type": "code",
   "execution_count": 79,
   "id": "66ef3940",
   "metadata": {},
   "outputs": [
    {
     "name": "stdout",
     "output_type": "stream",
     "text": [
      "False\n"
     ]
    }
   ],
   "source": [
    "# C. \n",
    "print(languages is extra_languages)   # False"
   ]
  },
  {
   "cell_type": "code",
   "execution_count": 80,
   "id": "0ef33830",
   "metadata": {},
   "outputs": [
    {
     "name": "stdout",
     "output_type": "stream",
     "text": [
      "False\n"
     ]
    }
   ],
   "source": [
    "# D.\n",
    "print(languages is more_languages)   # False"
   ]
  },
  {
   "cell_type": "code",
   "execution_count": 81,
   "id": "91257200",
   "metadata": {},
   "outputs": [],
   "source": [
    "# Solución\n",
    "# A y B"
   ]
  },
  {
   "cell_type": "markdown",
   "id": "34ce9ce2",
   "metadata": {},
   "source": [
    "****"
   ]
  },
  {
   "cell_type": "markdown",
   "id": "1b83f968",
   "metadata": {},
   "source": [
    "# Question 14   (Data Aggregates) "
   ]
  },
  {
   "cell_type": "markdown",
   "id": "4734dbac-db54-40ef-a15b-3f3a4a999454",
   "metadata": {},
   "source": [
    "What is the output of the following snippet?\n",
    "\n",
    "```\n",
    "my_list = ['Mary', 'had', 'a', 'little', 'lamb']\n",
    " \n",
    "def my_list(my_list):\n",
    "    del my_list[3]\n",
    "    my_list[3] = 'ram'\n",
    " \n",
    "print(my_list(my_list))\n",
    "```\n",
    "A. ```['Mary', 'had', 'a', 'lamb']```\n",
    "\n",
    "B. ```['Mary', 'had', 'a', 'ramb']```\n",
    "\n",
    "C. no output, the snippet is erroneous\n",
    "\n",
    "D. ```['Mary', 'had', 'a', 'little', 'lamb']```"
   ]
  },
  {
   "cell_type": "markdown",
   "id": "885a7252",
   "metadata": {},
   "source": [
    "# Solution 14"
   ]
  },
  {
   "cell_type": "code",
   "execution_count": 83,
   "id": "fa6aa98b",
   "metadata": {},
   "outputs": [
    {
     "data": {
      "text/plain": [
       "\"\\nmy_list = ['Mary', 'had', 'a', 'little', 'lamb']\\n \\n\\ndef my_list(my_list):    # ['Mary', 'had', 'a', 'little', 'lamb']\\n    del my_list[3]       # ['Mary', 'had', 'a',           'lamb']\\n    my_list[3] = 'ram'   # ['Mary', 'had', 'a',           'ram']\\n \\n \\nprint(my_list(my_list))\\n\""
      ]
     },
     "execution_count": 83,
     "metadata": {},
     "output_type": "execute_result"
    }
   ],
   "source": [
    "\"\"\"\n",
    "my_list = ['Mary', 'had', 'a', 'little', 'lamb']\n",
    " \n",
    "\n",
    "def my_list(my_list):    # ['Mary', 'had', 'a', 'little', 'lamb']\n",
    "    del my_list[3]       # ['Mary', 'had', 'a',           'lamb']\n",
    "    my_list[3] = 'ram'   # ['Mary', 'had', 'a',           'ram']\n",
    " \n",
    " \n",
    "print(my_list(my_list))\n",
    "\"\"\"\n",
    "\n",
    "\n",
    "# TypeError: 'function' object does not support item deletion"
   ]
  },
  {
   "cell_type": "code",
   "execution_count": 84,
   "id": "cceafdbf",
   "metadata": {},
   "outputs": [],
   "source": [
    "# Solución\n",
    "# C"
   ]
  },
  {
   "cell_type": "markdown",
   "id": "5666bcd6",
   "metadata": {},
   "source": [
    "****"
   ]
  },
  {
   "cell_type": "markdown",
   "id": "7af25e14",
   "metadata": {},
   "source": [
    "# Question 15  (Control Flow) "
   ]
  },
  {
   "cell_type": "markdown",
   "id": "49bb0e92-d7ca-469d-82dd-bef6d7353c42",
   "metadata": {},
   "source": [
    "The ABC company needs a way to find the count of particular letters\n",
    "in their publications to ensure that there is a good balance.\n",
    "It seems that there have been complaints about overuse of the letter e\n",
    "You need to create a function to meet the requirements.\n",
    "\n",
    "Function accepts a list of words from a file,\n",
    "and a letter to search for.\n",
    "Returns count of the words containing that letter.\n",
    "``` \n",
    "def count_letter(letter, word_list):\n",
    "    count = 0\n",
    "    for ???:\n",
    "        if ???:\n",
    "            count += 1\n",
    "return count\n",
    " \n",
    "word_list = []\n",
    "# word_list is populated from a file. Code not shown.\n",
    " \n",
    "letter = input('Which letter would you like to count?')\n",
    "letter_count = count_letter(letter, word_list)\n",
    "print('There are', letter_count, 'words with the letter', letter)\n",
    "```\n",
    "\n",
    "What would you insert instead of ??? and ???\n",
    "\n",
    "A.\n",
    "```\n",
    "word is word_list\n",
    "letter in word\n",
    "```\n",
    "B. \n",
    "```\n",
    "word in word_list\n",
    "letter is word\n",
    "```\n",
    "C. \n",
    "```\n",
    "word_list in word\n",
    "word in letter\n",
    "```\n",
    "D.\n",
    "```\n",
    "word_list in word\n",
    "word in letter\n",
    "```\n",
    "E.\n",
    "```\n",
    "words in word_list\n",
    "letter in word\n",
    "```\n",
    "F.\n",
    "```\n",
    "word in word_list\n",
    " letter in word\n",
    "```"
   ]
  },
  {
   "cell_type": "markdown",
   "id": "d9044afb",
   "metadata": {},
   "source": [
    "# Solution 15"
   ]
  },
  {
   "cell_type": "code",
   "execution_count": 86,
   "id": "25436997",
   "metadata": {},
   "outputs": [
    {
     "name": "stdout",
     "output_type": "stream",
     "text": [
      "Which letter would you like to count?e\n",
      "There are 2 words with the letter e\n"
     ]
    }
   ],
   "source": [
    "def count_letter(letter, word_list):\n",
    "    count = 0\n",
    "    for word in word_list:\n",
    "        if letter in word:\n",
    "            count += 1\n",
    "    return count\n",
    " \n",
    "# -----para word_list nos inventamos un string cualquiera-----\n",
    "# word_list = []\n",
    "# word_list is populated from a file. Code not shown.\n",
    "# ---\n",
    "# word_list simulacion (ES MI EJEMPLO QUE SIMULA LOS DATOS DEL ARCHIVO)\n",
    "word_list = 'ejemplo'\n",
    "\n",
    "\n",
    "letter = input('Which letter would you like to count?')         # ejemplo: poner una 'e'\n",
    "letter_count = count_letter(letter, word_list)\n",
    "print('There are', letter_count, 'words with the letter', letter)"
   ]
  },
  {
   "cell_type": "code",
   "execution_count": 87,
   "id": "0e26ed21",
   "metadata": {},
   "outputs": [],
   "source": [
    "# Solución\n",
    "# F"
   ]
  },
  {
   "cell_type": "markdown",
   "id": "eb12c5ed",
   "metadata": {},
   "source": [
    "****"
   ]
  },
  {
   "cell_type": "markdown",
   "id": "b24e9681",
   "metadata": {},
   "source": [
    "# Question 16  (Data Types)"
   ]
  },
  {
   "cell_type": "markdown",
   "id": "b86f5304-7431-44d9-ac1c-19e01cd3c2ef",
   "metadata": {},
   "source": [
    "The following code:\n",
    "```\n",
    "print(float(\"1, 3\"))\n",
    "```\n",
    "\n",
    "A. ```prints 1.3```\n",
    "\n",
    "B. ```prints 1,3```\n",
    "\n",
    "C. raises a ValueError exception\n",
    "\n",
    "D. ```prints 13```"
   ]
  },
  {
   "cell_type": "markdown",
   "id": "d889ff36",
   "metadata": {},
   "source": [
    "# Solution 16"
   ]
  },
  {
   "cell_type": "code",
   "execution_count": 89,
   "id": "0037bbff",
   "metadata": {},
   "outputs": [],
   "source": [
    "# print(float(\"1, 3\"))\n",
    "\n",
    "# ValueError: could not convert string to float: '1, 3'"
   ]
  },
  {
   "cell_type": "code",
   "execution_count": 90,
   "id": "b728be0c",
   "metadata": {},
   "outputs": [],
   "source": [
    "# Solución\n",
    "# C"
   ]
  },
  {
   "cell_type": "markdown",
   "id": "6af4171d",
   "metadata": {},
   "source": [
    "**ejemplos similares**"
   ]
  },
  {
   "cell_type": "code",
   "execution_count": 91,
   "id": "7ba917ac",
   "metadata": {},
   "outputs": [],
   "source": [
    "# print(float(\"1. 3\"))\n",
    "# ValueError: could not convert string to float: '1. 3'"
   ]
  },
  {
   "cell_type": "code",
   "execution_count": 92,
   "id": "021a4243",
   "metadata": {},
   "outputs": [
    {
     "name": "stdout",
     "output_type": "stream",
     "text": [
      "1.3\n"
     ]
    }
   ],
   "source": [
    "print(float(\"1.3\"))    # ESTE NO TIENE ESPACIO ENTRE AMBOS NÚMEROS Y TIENE '.',  NO LA ','"
   ]
  },
  {
   "cell_type": "code",
   "execution_count": 93,
   "id": "c43f5716",
   "metadata": {},
   "outputs": [],
   "source": [
    "# print(float(\"1, 3\"))\n",
    "# ValueError: could not convert string to float: '1, 3'"
   ]
  },
  {
   "cell_type": "code",
   "execution_count": 94,
   "id": "a4082188",
   "metadata": {},
   "outputs": [],
   "source": [
    "# print(float(\"1,3\"))\n",
    "# ValueError: could not convert string to float: '1,3'"
   ]
  },
  {
   "cell_type": "markdown",
   "id": "b92c75e6",
   "metadata": {},
   "source": [
    "****"
   ]
  },
  {
   "cell_type": "markdown",
   "id": "9d643951",
   "metadata": {},
   "source": [
    "# Question 17  (Data Types)"
   ]
  },
  {
   "cell_type": "markdown",
   "id": "0a0c5add-55fb-4e89-90c3-e520af458a96",
   "metadata": {},
   "source": [
    "Consider the following Python code:\n",
    "```\n",
    "distance = 1876.23\n",
    "amount = +42E7\n",
    "country = 'Italy'\n",
    "```\n",
    "\n",
    "What are the types of the variables distance, amount and country?\n",
    "\n",
    "A. ```float, str, str```\n",
    "\n",
    "B. ```float, float, str```\n",
    "\n",
    "C. ```double, str, float```\n",
    "\n",
    "D. ```float, int, str```"
   ]
  },
  {
   "cell_type": "markdown",
   "id": "2be9bfb2",
   "metadata": {},
   "source": [
    "# Solution 17"
   ]
  },
  {
   "cell_type": "code",
   "execution_count": 96,
   "id": "1f830609",
   "metadata": {},
   "outputs": [
    {
     "name": "stdout",
     "output_type": "stream",
     "text": [
      "1876.23\n",
      "420000000.0\n",
      "Italy\n"
     ]
    }
   ],
   "source": [
    "distance = 1876.23\n",
    "amount = +42E7\n",
    "country = 'Italy'\n",
    "\n",
    "print(distance)\n",
    "print(amount)\n",
    "print(country)"
   ]
  },
  {
   "cell_type": "code",
   "execution_count": 97,
   "id": "e98b63ac",
   "metadata": {},
   "outputs": [
    {
     "name": "stdout",
     "output_type": "stream",
     "text": [
      "type(distance): <class 'float'>\n",
      "type(amount): <class 'float'>\n",
      "type(country): <class 'str'>\n"
     ]
    }
   ],
   "source": [
    "print('type(distance):', type(distance))   # float\n",
    "print('type(amount):', type(amount))       # float\n",
    "print('type(country):', type(country))     # str"
   ]
  },
  {
   "cell_type": "code",
   "execution_count": 98,
   "id": "340f8a92",
   "metadata": {},
   "outputs": [],
   "source": [
    "# Solución\n",
    "# B"
   ]
  },
  {
   "cell_type": "markdown",
   "id": "a3fc7d26",
   "metadata": {},
   "source": [
    "****"
   ]
  },
  {
   "cell_type": "markdown",
   "id": "dfbc9a98",
   "metadata": {},
   "source": [
    "# Question 18  (Operators)"
   ]
  },
  {
   "cell_type": "markdown",
   "id": "58236d60-8aed-4919-bfc9-4d9c6030ec92",
   "metadata": {},
   "source": [
    "What is the result of the following operation?\n",
    "```\n",
    "1 + 1.0\n",
    "```\n",
    "\n",
    "A. ```2```\n",
    "\n",
    "B. the operation is illegal in Python\n",
    "\n",
    "C. ```11.0```\n",
    "\n",
    "D. ```2.0```"
   ]
  },
  {
   "cell_type": "markdown",
   "id": "20db0835",
   "metadata": {},
   "source": [
    "# Solution 18"
   ]
  },
  {
   "cell_type": "code",
   "execution_count": 100,
   "id": "2d52ca23",
   "metadata": {},
   "outputs": [
    {
     "data": {
      "text/plain": [
       "2.0"
      ]
     },
     "execution_count": 100,
     "metadata": {},
     "output_type": "execute_result"
    }
   ],
   "source": [
    "1 + 1.0     # 2.0"
   ]
  },
  {
   "cell_type": "code",
   "execution_count": 101,
   "id": "92f9befd",
   "metadata": {},
   "outputs": [],
   "source": [
    "# Solución\n",
    "# D"
   ]
  },
  {
   "cell_type": "markdown",
   "id": "80f6a783",
   "metadata": {},
   "source": [
    "****"
   ]
  },
  {
   "cell_type": "markdown",
   "id": "3ec4acce",
   "metadata": {},
   "source": [
    "**EVAL**"
   ]
  },
  {
   "cell_type": "markdown",
   "id": "d3be9105",
   "metadata": {},
   "source": [
    "eval is una built-in- function de python, \n",
    "\n",
    "evalúa el string como una expresión de Python y retorna un entero"
   ]
  },
  {
   "cell_type": "code",
   "execution_count": 102,
   "id": "f69ca5e6",
   "metadata": {},
   "outputs": [],
   "source": [
    "# eval: ejemplo 1 (sin eval)"
   ]
  },
  {
   "cell_type": "code",
   "execution_count": 103,
   "id": "56679125",
   "metadata": {},
   "outputs": [
    {
     "name": "stdout",
     "output_type": "stream",
     "text": [
      "Introduce un número10\n",
      "10\n",
      "<class 'str'>\n"
     ]
    }
   ],
   "source": [
    "x1 = input(\"Introduce un número\")       # 10\n",
    "print(x1)\n",
    "print(type(x1))"
   ]
  },
  {
   "cell_type": "code",
   "execution_count": 104,
   "id": "53e81847",
   "metadata": {},
   "outputs": [],
   "source": [
    "# ejemplo 1 (con eval)"
   ]
  },
  {
   "cell_type": "code",
   "execution_count": 105,
   "id": "794f323a",
   "metadata": {},
   "outputs": [
    {
     "name": "stdout",
     "output_type": "stream",
     "text": [
      "Introduce un número10\n",
      "10\n",
      "<class 'int'>\n"
     ]
    }
   ],
   "source": [
    "x2 = eval(input(\"Introduce un número\"))    # 10\n",
    "print(x2)\n",
    "print(type(x2))"
   ]
  },
  {
   "cell_type": "code",
   "execution_count": 106,
   "id": "e63644dd",
   "metadata": {},
   "outputs": [],
   "source": [
    "# eval: ejemplo 2"
   ]
  },
  {
   "cell_type": "code",
   "execution_count": 107,
   "id": "2ee286d5",
   "metadata": {},
   "outputs": [
    {
     "name": "stdout",
     "output_type": "stream",
     "text": [
      "25\n"
     ]
    }
   ],
   "source": [
    "x = 10\n",
    "x3 = eval('15 + x')\n",
    "print(x3)"
   ]
  },
  {
   "cell_type": "code",
   "execution_count": 108,
   "id": "adce6097",
   "metadata": {},
   "outputs": [],
   "source": [
    "# eval: ejemplo 3"
   ]
  },
  {
   "cell_type": "code",
   "execution_count": 109,
   "id": "ca4109c1",
   "metadata": {},
   "outputs": [
    {
     "name": "stdout",
     "output_type": "stream",
     "text": [
      "Introduce 2 números: 10,20\n",
      "x3: 10 , y3: 20\n"
     ]
    }
   ],
   "source": [
    "# HAY QUE AÑADIR LOS NUMEROS CON UNA COMA\n",
    "# 10,30\n",
    "# PARA QUE SEPA QUE ES X3 UNO DE ELLOS, Y3 EL OTRO\n",
    "\n",
    "x3, y3 = eval(input('Introduce 2 números: '))    # 10, 20    (de una sola vez, con la coma)\n",
    "print('x3:', x3, ', y3:', y3)"
   ]
  },
  {
   "cell_type": "code",
   "execution_count": 110,
   "id": "a6a8c884",
   "metadata": {},
   "outputs": [],
   "source": [
    "# eval: ejemplo 4"
   ]
  },
  {
   "cell_type": "code",
   "execution_count": 111,
   "id": "4a1e2a35",
   "metadata": {},
   "outputs": [
    {
     "name": "stdout",
     "output_type": "stream",
     "text": [
      "x4: 3 , y4: 4\n"
     ]
    }
   ],
   "source": [
    "x4, y4 = eval('3, 4') \n",
    "print('x4:', x4, ', y4:', y4)"
   ]
  },
  {
   "cell_type": "code",
   "execution_count": 112,
   "id": "5ad200db",
   "metadata": {},
   "outputs": [],
   "source": [
    "# eval: ejemplo 5"
   ]
  },
  {
   "cell_type": "code",
   "execution_count": 113,
   "id": "72448552",
   "metadata": {},
   "outputs": [
    {
     "data": {
      "text/plain": [
       "\"\\nx5, y5 = eval('3 4') \\nprint('x5:', x5, ', y5:', y5)\\n\""
      ]
     },
     "execution_count": 113,
     "metadata": {},
     "output_type": "execute_result"
    }
   ],
   "source": [
    "\"\"\"\n",
    "x5, y5 = eval('3 4') \n",
    "print('x5:', x5, ', y5:', y5)\n",
    "\"\"\"\n",
    "\n",
    "# SyntaxError: unexpected EOF while parsing"
   ]
  },
  {
   "cell_type": "code",
   "execution_count": 114,
   "id": "1f7cd62d",
   "metadata": {},
   "outputs": [],
   "source": [
    "# el propio ejercicio 19"
   ]
  },
  {
   "cell_type": "markdown",
   "id": "389dadab",
   "metadata": {},
   "source": [
    "# Question 19  (Data Types)"
   ]
  },
  {
   "cell_type": "markdown",
   "id": "c3d651c1-efd7-4575-a8aa-78a3a9a72062",
   "metadata": {},
   "source": [
    "The following code reads two numbers.\n",
    "\n",
    "Which of the following is the correct input for the code?\n",
    "\n",
    "```\n",
    "x, y = eval(input('Enter two numbers: '))\n",
    "print(x)\n",
    "print(y)\n",
    "```\n",
    "A. ```3, 4```\n",
    "\n",
    "B. ```3 4```\n",
    "\n",
    "C. None of the above\n",
    "\n",
    "D. ```<pre>3 4</pre>```"
   ]
  },
  {
   "cell_type": "markdown",
   "id": "a0d2edba",
   "metadata": {},
   "source": [
    "# Solution 19"
   ]
  },
  {
   "cell_type": "code",
   "execution_count": 116,
   "id": "a99598f4",
   "metadata": {},
   "outputs": [
    {
     "name": "stdout",
     "output_type": "stream",
     "text": [
      "Enter two numbers: 3,4\n",
      "3\n",
      "4\n"
     ]
    }
   ],
   "source": [
    "x, y = eval(input('Enter two numbers: '))  # 3, 4    (DEBES AÑADIRLOS TAL CUAL)\n",
    "print(x)\n",
    "print(y)"
   ]
  },
  {
   "cell_type": "code",
   "execution_count": 117,
   "id": "e2e186af",
   "metadata": {},
   "outputs": [],
   "source": [
    "# Solución\n",
    "# A"
   ]
  },
  {
   "cell_type": "markdown",
   "id": "31ac7c94",
   "metadata": {},
   "source": [
    "****"
   ]
  },
  {
   "cell_type": "markdown",
   "id": "714d27a5",
   "metadata": {},
   "source": [
    "# Question 20  (Data Aggregates)"
   ]
  },
  {
   "cell_type": "markdown",
   "id": "11024b95-c8df-4cd7-990c-e483ba127538",
   "metadata": {},
   "source": [
    "What is the output of the following snippet?\n",
    "\n",
    "```\n",
    "my_list_1 = [1, 2, 3]\n",
    "my_list_2 = []\n",
    "for v in my_list_1:\n",
    "    my_list_2.insert(0, v)\n",
    "print(my_list_2)\n",
    "```\n",
    "A. ```[1, 1, 1]```\n",
    "\n",
    "B. ```[3, 2, 1]```\n",
    "\n",
    "C. ```[1, 2, 3]```\n",
    "\n",
    "D. ```[3, 3, 3]```"
   ]
  },
  {
   "cell_type": "markdown",
   "id": "0b6bd346",
   "metadata": {},
   "source": [
    "# Solution 20"
   ]
  },
  {
   "cell_type": "code",
   "execution_count": 119,
   "id": "6ff9aebf",
   "metadata": {},
   "outputs": [
    {
     "name": "stdout",
     "output_type": "stream",
     "text": [
      "[3, 2, 1]\n"
     ]
    }
   ],
   "source": [
    "my_list_1 = [1, 2, 3]\n",
    "my_list_2 = []\n",
    "for v in my_list_1:         # v es: 1, 2, 3\n",
    "    my_list_2.insert(0, v)  # index 0 valor v\n",
    "    # inicial:        my_list_2 = []\n",
    "    # insert(0, 1)    my_list_2 = [1] \n",
    "    # insert(0, 2)    my_list_2 = [2, 1] \n",
    "    # insert(0, 3)    my_list_2 = [3, 2, 1] \n",
    "    \n",
    "print(my_list_2)"
   ]
  },
  {
   "cell_type": "code",
   "execution_count": 120,
   "id": "d5adbe79",
   "metadata": {},
   "outputs": [],
   "source": [
    "# Solución\n",
    "# B"
   ]
  },
  {
   "cell_type": "markdown",
   "id": "55de30e1",
   "metadata": {},
   "source": [
    "****"
   ]
  },
  {
   "cell_type": "markdown",
   "id": "090b502d",
   "metadata": {},
   "source": [
    "# Question 21  (Operators)"
   ]
  },
  {
   "cell_type": "markdown",
   "id": "0bbd73ce-67a4-496a-9bbf-87944537f222",
   "metadata": {},
   "source": [
    "The ```//``` operator:\n",
    "\n",
    "\n",
    "A. does not exist\n",
    "\n",
    "B. performs integer division\n",
    "\n",
    "C. performs regular division"
   ]
  },
  {
   "cell_type": "markdown",
   "id": "b67cdf58",
   "metadata": {},
   "source": [
    "# Solution 21"
   ]
  },
  {
   "cell_type": "code",
   "execution_count": 122,
   "id": "72764ef0",
   "metadata": {},
   "outputs": [
    {
     "data": {
      "text/plain": [
       "(3.5, 3, 1)"
      ]
     },
     "execution_count": 122,
     "metadata": {},
     "output_type": "execute_result"
    }
   ],
   "source": [
    "7/2, 7//2, 7%2"
   ]
  },
  {
   "cell_type": "code",
   "execution_count": 123,
   "id": "bb214803",
   "metadata": {},
   "outputs": [],
   "source": [
    "# Solución\n",
    "# B"
   ]
  },
  {
   "cell_type": "markdown",
   "id": "613fcc28",
   "metadata": {},
   "source": [
    "****"
   ]
  },
  {
   "cell_type": "markdown",
   "id": "7ff79a5d",
   "metadata": {},
   "source": [
    "# Question 22  (Operators) "
   ]
  },
  {
   "cell_type": "markdown",
   "id": "90efddf5-d3a8-413d-a664-e4b5cb643bca",
   "metadata": {},
   "source": [
    "What is the expected output of the following code?\n",
    "\n",
    "```\n",
    "list1 = ['Peter', 'Paul', 'Mary', 'Jane']\n",
    "list2 = ['Peter', 'Paul', 'Mary', 'Jane']\n",
    " \n",
    "print(list1 is list2)\n",
    "print(list1 == list2)\n",
    " \n",
    "list1 = list2\n",
    " \n",
    "print(list1 is list2)\n",
    "print(list1 == list2)\n",
    "```\n",
    "\n",
    "A.\n",
    "```\n",
    "False\n",
    "True\n",
    "False\n",
    "True\n",
    "```\n",
    "B.\n",
    "```\n",
    "False\n",
    "True\n",
    "True\n",
    "True\n",
    "```\n",
    "C.\n",
    "```\n",
    "False\n",
    "True\n",
    "True\n",
    "False\n",
    "```\n",
    "D.\n",
    "```\n",
    "False\n",
    "False\n",
    "True\n",
    "True\n",
    "```"
   ]
  },
  {
   "cell_type": "markdown",
   "id": "456270bf",
   "metadata": {},
   "source": [
    "# Solution 22"
   ]
  },
  {
   "cell_type": "code",
   "execution_count": 125,
   "id": "7832d213",
   "metadata": {},
   "outputs": [
    {
     "name": "stdout",
     "output_type": "stream",
     "text": [
      "False\n",
      "True\n",
      "True\n",
      "True\n"
     ]
    }
   ],
   "source": [
    "list1 = ['Peter', 'Paul', 'Mary', 'Jane']\n",
    "list2 = ['Peter', 'Paul', 'Mary', 'Jane']\n",
    " \n",
    "print(list1 is list2)   # False\n",
    "print(list1 == list2)   # True\n",
    " \n",
    "list1 = list2           # AL ASIGNAR UNA A LA OTRA, CAMBIA LA SENTENCIA QUE LLEVA: 'is'\n",
    " \n",
    "print(list1 is list2)   # True\n",
    "print(list1 == list2)   # True"
   ]
  },
  {
   "cell_type": "code",
   "execution_count": 126,
   "id": "72d0aa3f",
   "metadata": {},
   "outputs": [],
   "source": [
    "# Solución\n",
    "# B"
   ]
  },
  {
   "cell_type": "markdown",
   "id": "5bbf4a14",
   "metadata": {},
   "source": [
    "****"
   ]
  },
  {
   "cell_type": "markdown",
   "id": "61071738",
   "metadata": {},
   "source": [
    "# Question 23  (Data Aggregates)"
   ]
  },
  {
   "cell_type": "markdown",
   "id": "ca2a8d2a-1885-4950-93fd-6db0a09cce93",
   "metadata": {},
   "source": [
    "Which one of the lines should you put in the snippet below\n",
    "to match the expected output?\n",
    "\n",
    "\n",
    "Expected output:\n",
    "```\n",
    "[1, 2, 4, 7]\n",
    "```\n",
    "\n",
    "Code:\n",
    "```\n",
    "list = [2, 7, 1, 4] \n",
    "# enter code here\n",
    "print(list)\n",
    "```\n",
    "A. ```sort(list)```\n",
    "\n",
    "B. ```sorted(list)```\n",
    "\n",
    "C. ```list.sort()```\n",
    "\n",
    "D. ```list.sorted()```"
   ]
  },
  {
   "cell_type": "markdown",
   "id": "6df2bae3",
   "metadata": {},
   "source": [
    "# Solution 23"
   ]
  },
  {
   "cell_type": "code",
   "execution_count": 128,
   "id": "13e02413",
   "metadata": {},
   "outputs": [
    {
     "name": "stdout",
     "output_type": "stream",
     "text": [
      "[1, 2, 4, 7]\n"
     ]
    }
   ],
   "source": [
    "lista = [2, 7, 1, 4] \n",
    "# # enter code here\n",
    "\n",
    "lista.sort()\n",
    "print(lista)\n",
    "\n",
    "\n",
    "\n",
    "# DEBERIAN NO USAR UNA PALABRA RESERVADA \n",
    "# COMO NOMBRE DE VARIABLE\n",
    "\n",
    "# Expected output:\n",
    "# [1, 2, 4, 7]"
   ]
  },
  {
   "cell_type": "code",
   "execution_count": 129,
   "id": "ebcaf050",
   "metadata": {},
   "outputs": [],
   "source": [
    "# Solución\n",
    "# C"
   ]
  },
  {
   "cell_type": "markdown",
   "id": "af799fc2",
   "metadata": {},
   "source": [
    "**explicación: por defecto es reverse=False**"
   ]
  },
  {
   "cell_type": "code",
   "execution_count": 130,
   "id": "84abc140",
   "metadata": {},
   "outputs": [],
   "source": [
    "# lista.sort?"
   ]
  },
  {
   "cell_type": "code",
   "execution_count": 131,
   "id": "957b91d1",
   "metadata": {},
   "outputs": [],
   "source": [
    "# lista = [2, 7, 1, 4] \n",
    "\n",
    "# NOS FIJAMOS EN SUS PARÁMETROS\n",
    "# lista.sort?"
   ]
  },
  {
   "cell_type": "code",
   "execution_count": 132,
   "id": "036ed701",
   "metadata": {},
   "outputs": [],
   "source": [
    "# reverse=False"
   ]
  },
  {
   "cell_type": "code",
   "execution_count": 133,
   "id": "69687620",
   "metadata": {},
   "outputs": [
    {
     "name": "stdout",
     "output_type": "stream",
     "text": [
      "[1, 2, 4, 7]\n"
     ]
    }
   ],
   "source": [
    "lista = [2, 7, 1, 4] \n",
    "lista.sort(reverse=False)\n",
    "print(lista)"
   ]
  },
  {
   "cell_type": "code",
   "execution_count": 134,
   "id": "9ccc5093",
   "metadata": {},
   "outputs": [],
   "source": [
    "# reverse=True"
   ]
  },
  {
   "cell_type": "code",
   "execution_count": 135,
   "id": "fd2cbb0d",
   "metadata": {},
   "outputs": [
    {
     "name": "stdout",
     "output_type": "stream",
     "text": [
      "[7, 4, 2, 1]\n"
     ]
    }
   ],
   "source": [
    "lista = [2, 7, 1, 4] \n",
    "lista.sort(reverse=True)\n",
    "print(lista)"
   ]
  },
  {
   "cell_type": "markdown",
   "id": "f7dd0f21",
   "metadata": {},
   "source": [
    "****"
   ]
  },
  {
   "cell_type": "markdown",
   "id": "38b1d35a",
   "metadata": {},
   "source": [
    "# Question 24  (Control Flow) "
   ]
  },
  {
   "cell_type": "markdown",
   "id": "9cae946a-923d-45dc-b573-164d64f3c6b2",
   "metadata": {},
   "source": [
    "Which of the following code snippets will print all prime numbers\n",
    "between ```2``` and ```100``` to the monitor?\n",
    "\n",
    "A. \n",
    "```\n",
    "num = 2\n",
    "is_prime = True\n",
    "while num <= 100:\n",
    "    for i in range(2, num):\n",
    "        if num%i == 0:\n",
    "            is_prime = False\n",
    "            break\n",
    "    if is_prime == True:\n",
    "        print(num)\n",
    "    num += 1\n",
    "```\n",
    "\n",
    "B.\n",
    "```\n",
    "num = 2\n",
    "is_prime = True\n",
    "while num <= 100:\n",
    "    for i in range(2, num):\n",
    "        if num%i == 0:\n",
    "            is_prime = False\n",
    "            break\n",
    "    if is_prime == False:\n",
    "        print(num)\n",
    "    num += 1\n",
    "```\n",
    "C.\n",
    "```\n",
    "num = 2\n",
    "while num <= 100:\n",
    "    is_prime = True\n",
    "    for i in range(2, num):\n",
    "        if num%i == 0:\n",
    "            is_prime = False\n",
    "            break\n",
    "    if is_prime == True:\n",
    "        print(num)\n",
    "```\n",
    "D. \n",
    "```\n",
    "num = 2\n",
    "while num <= 100:\n",
    "    is_prime = True\n",
    "    for i in range(2, num):\n",
    "        if num%i == 0:\n",
    "            is_prime = False\n",
    "            break\n",
    "    if is_prime == True:\n",
    "        print(num)\n",
    "    num += 1\n",
    "```"
   ]
  },
  {
   "cell_type": "markdown",
   "id": "6ef0bdef",
   "metadata": {},
   "source": [
    "# Solution 24"
   ]
  },
  {
   "cell_type": "code",
   "execution_count": 137,
   "id": "3d01495b",
   "metadata": {},
   "outputs": [],
   "source": [
    "# A"
   ]
  },
  {
   "cell_type": "code",
   "execution_count": 138,
   "id": "e0682c82",
   "metadata": {},
   "outputs": [
    {
     "name": "stdout",
     "output_type": "stream",
     "text": [
      "2\n",
      "3\n"
     ]
    }
   ],
   "source": [
    "num = 2\n",
    "is_prime = True                  # aqui se encuentra: is_prime fuera de while, no funciona\n",
    "while num <= 100:\n",
    "    for i in range(2, num):\n",
    "        if num%i == 0:\n",
    "            is_prime = False\n",
    "            break\n",
    "    if is_prime == True:\n",
    "        print(num)\n",
    "    num += 1"
   ]
  },
  {
   "cell_type": "code",
   "execution_count": 139,
   "id": "70694fe0",
   "metadata": {},
   "outputs": [],
   "source": [
    "# D"
   ]
  },
  {
   "cell_type": "code",
   "execution_count": 140,
   "id": "15647129",
   "metadata": {},
   "outputs": [
    {
     "name": "stdout",
     "output_type": "stream",
     "text": [
      "2 3 5 7 11 13 17 19 23 29 31 37 41 43 47 53 59 61 67 71 73 79 83 89 97 "
     ]
    }
   ],
   "source": [
    "num = 2\n",
    "while num <= 100:\n",
    "    is_prime = True              # variable 'is_prime' fijada a True para cada número\n",
    "    for i in range(2, num):      # número testeado no primo ==> 'is_prime' puesta a false\n",
    "        if num%i == 0:\n",
    "            is_prime = False     \n",
    "            break\n",
    "    if is_prime == True:         # 'is_prime' sigue siendo True ==> imprime el número\n",
    "        print(num, end=' ')      # añadido: end= ' ' para verlos todos en la misma línea\n",
    "    num += 1"
   ]
  },
  {
   "cell_type": "code",
   "execution_count": 141,
   "id": "aeeb8218",
   "metadata": {},
   "outputs": [],
   "source": [
    "# B"
   ]
  },
  {
   "cell_type": "code",
   "execution_count": 142,
   "id": "c89ae750",
   "metadata": {},
   "outputs": [
    {
     "data": {
      "text/plain": [
       "'\\nnum = 2\\nis_prime = True\\nwhile num <= 100:\\n    for i in range(2, num):\\n        if num%i == 0:\\n            is_prime = False\\n            break\\n    if is_prime == False:\\n        print(num)\\n    num += 1\\n    \\n'"
      ]
     },
     "execution_count": 142,
     "metadata": {},
     "output_type": "execute_result"
    }
   ],
   "source": [
    "\"\"\"\n",
    "num = 2\n",
    "is_prime = True\n",
    "while num <= 100:\n",
    "    for i in range(2, num):\n",
    "        if num%i == 0:\n",
    "            is_prime = False\n",
    "            break\n",
    "    if is_prime == False:\n",
    "        print(num)\n",
    "    num += 1\n",
    "    \n",
    "\"\"\""
   ]
  },
  {
   "cell_type": "code",
   "execution_count": 143,
   "id": "11eaeed9",
   "metadata": {},
   "outputs": [],
   "source": [
    "# C"
   ]
  },
  {
   "cell_type": "code",
   "execution_count": 144,
   "id": "2a2b57e0",
   "metadata": {},
   "outputs": [
    {
     "data": {
      "text/plain": [
       "'num = 2\\nwhile num <= 100:\\n    is_prime = True\\n    for i in range(2, num):\\n        if num%i == 0:\\n            is_prime = False\\n            break\\n    if is_prime == True:\\n        print(num)'"
      ]
     },
     "execution_count": 144,
     "metadata": {},
     "output_type": "execute_result"
    }
   ],
   "source": [
    "\"\"\"num = 2\n",
    "while num <= 100:\n",
    "    is_prime = True\n",
    "    for i in range(2, num):\n",
    "        if num%i == 0:\n",
    "            is_prime = False\n",
    "            break\n",
    "    if is_prime == True:\n",
    "        print(num)\"\"\""
   ]
  },
  {
   "cell_type": "code",
   "execution_count": 145,
   "id": "fb03ca89",
   "metadata": {},
   "outputs": [],
   "source": [
    "# Solución\n",
    "# D"
   ]
  },
  {
   "cell_type": "markdown",
   "id": "08335cfd",
   "metadata": {},
   "source": [
    "****"
   ]
  },
  {
   "cell_type": "markdown",
   "id": "8b458202",
   "metadata": {},
   "source": [
    "# Question 25  (Data Types)"
   ]
  },
  {
   "cell_type": "markdown",
   "id": "00e7b7c0-3b87-42a0-9fd1-7ad10d69e32a",
   "metadata": {},
   "source": [
    "What is the expected output of the following code?\n",
    "```\n",
    "print('x', 'y', 'z', sep='sep')\n",
    "```\n",
    "\n",
    "A. ```x y z```\n",
    "\n",
    "B. ```xsepysepzsep```\n",
    "\n",
    "C. ```xsepysepz```\n",
    "\n",
    "D. ```xyz```"
   ]
  },
  {
   "cell_type": "markdown",
   "id": "6a9721bd",
   "metadata": {},
   "source": [
    "# Solution 25"
   ]
  },
  {
   "cell_type": "code",
   "execution_count": 147,
   "id": "198caf9b",
   "metadata": {},
   "outputs": [
    {
     "name": "stdout",
     "output_type": "stream",
     "text": [
      "xsepysepz\n"
     ]
    }
   ],
   "source": [
    "print('x', 'y', 'z', sep='sep')\n",
    "# xsepysepz"
   ]
  },
  {
   "cell_type": "code",
   "execution_count": 148,
   "id": "36361d65",
   "metadata": {},
   "outputs": [],
   "source": [
    "# Solución\n",
    "# C"
   ]
  },
  {
   "cell_type": "markdown",
   "id": "9db8c254",
   "metadata": {},
   "source": [
    "****"
   ]
  },
  {
   "cell_type": "markdown",
   "id": "fd673e99",
   "metadata": {},
   "source": [
    "# Question 26 (Functions)"
   ]
  },
  {
   "cell_type": "markdown",
   "id": "951dd579-146b-47bf-9539-69289ea4b396",
   "metadata": {},
   "source": [
    "What is the expected output of the following code?\n",
    "```\n",
    "def func():\n",
    "    print(x + 1, end=' ')\n",
    " \n",
    "x = 1\n",
    "func()\n",
    "print(x)\n",
    "```\n",
    "A. ```2 1```\n",
    "\n",
    "B. ```1 1```\n",
    "\n",
    "C. ```1 2```\n",
    "\n",
    "D. ```2 2```"
   ]
  },
  {
   "cell_type": "markdown",
   "id": "2d0e1c55",
   "metadata": {},
   "source": [
    "# Solution 26"
   ]
  },
  {
   "cell_type": "code",
   "execution_count": 150,
   "id": "e30322f3",
   "metadata": {},
   "outputs": [
    {
     "name": "stdout",
     "output_type": "stream",
     "text": [
      "2 1\n"
     ]
    }
   ],
   "source": [
    "def func():\n",
    "    print(x + 1, end=' ')\n",
    " \n",
    " \n",
    "x = 1\n",
    "func()      # x + 1  ===> 1 + 1 = 2\n",
    "print(x)    # 2 1"
   ]
  },
  {
   "cell_type": "code",
   "execution_count": 151,
   "id": "8d0efd71",
   "metadata": {},
   "outputs": [],
   "source": [
    "# Solución\n",
    "# A"
   ]
  },
  {
   "cell_type": "markdown",
   "id": "6ace650b",
   "metadata": {},
   "source": [
    "****"
   ]
  },
  {
   "cell_type": "markdown",
   "id": "d5822cbe",
   "metadata": {},
   "source": [
    "# Question 27  (Data Aggregates) "
   ]
  },
  {
   "cell_type": "markdown",
   "id": "73b65089-c60d-4444-a6ae-4cfb2f2a5bfe",
   "metadata": {},
   "source": [
    "What is the expected output of the following code?\n",
    "\n",
    "```\n",
    "list = ['Peter', 'Paul', 'Mary']\n",
    " \n",
    "def list(data):\n",
    "    del data[1]\n",
    "    data[1] = 'Jane'\n",
    "    return data\n",
    "  \n",
    "print(list(list))\n",
    "```\n",
    "A. The code is erroneous\n",
    "\n",
    "B. ```['Peter', 'Jane']```\n",
    "\n",
    "C. ```['Peter', 'Jane', 'Mary']```\n",
    "\n",
    "D. ```['Paul', 'Mary', 'Jane']```"
   ]
  },
  {
   "cell_type": "markdown",
   "id": "1eb0530f",
   "metadata": {},
   "source": [
    "# Solution 27"
   ]
  },
  {
   "cell_type": "code",
   "execution_count": 153,
   "id": "99c7a1e5",
   "metadata": {},
   "outputs": [
    {
     "data": {
      "text/plain": [
       "\"\\nlist = ['Peter', 'Paul', 'Mary']\\n \\ndef list(data):\\n    del data[1]           \\n    data[1] = 'Jane'\\n    return data\\n \\nprint(list(list))\\n\""
      ]
     },
     "execution_count": 153,
     "metadata": {},
     "output_type": "execute_result"
    }
   ],
   "source": [
    "# ESTE CÓDIGO ES UNA CHAPUZA\n",
    "# solución que si funcionaría en celda más abajo\n",
    "\n",
    "\"\"\"\n",
    "list = ['Peter', 'Paul', 'Mary']\n",
    " \n",
    "def list(data):\n",
    "    del data[1]           \n",
    "    data[1] = 'Jane'\n",
    "    return data\n",
    " \n",
    "print(list(list))\n",
    "\"\"\"\n",
    "\n",
    "# TypeError: 'function' object does not support item deletion"
   ]
  },
  {
   "cell_type": "code",
   "execution_count": 154,
   "id": "6023752a",
   "metadata": {},
   "outputs": [],
   "source": [
    "# Solución\n",
    "# A"
   ]
  },
  {
   "cell_type": "markdown",
   "id": "0ce3ad20",
   "metadata": {},
   "source": [
    "**ejemplo simple de código que si funciona**"
   ]
  },
  {
   "cell_type": "code",
   "execution_count": 155,
   "id": "42dd144f",
   "metadata": {},
   "outputs": [
    {
     "name": "stdout",
     "output_type": "stream",
     "text": [
      "['Peter', 'Jane']\n"
     ]
    }
   ],
   "source": [
    "data = ['Peter', 'Paul', 'Mary']\n",
    " \n",
    "def funcion_listado(data):\n",
    "    # data original :    # data = ['Peter', 'Paul', 'Mary']\n",
    "    del data[1]          # data = ['Peter',       , 'Mary']   (borrado elemento en actual index 1)\n",
    "    data[1] = 'Jane'     # data = ['Peter',       , 'Jane']   (cambiado elemento de index 1)\n",
    "    return data          # data = ['Peter', 'Jane']           (obviamente son 2 elementos, no 3)\n",
    " \n",
    "print(funcion_listado(data))"
   ]
  },
  {
   "cell_type": "markdown",
   "id": "bf12b6cf",
   "metadata": {},
   "source": [
    "****"
   ]
  },
  {
   "cell_type": "markdown",
   "id": "ada0a953",
   "metadata": {},
   "source": [
    "# Question 28  (Data Aggregates) "
   ]
  },
  {
   "cell_type": "markdown",
   "id": "09ec44b2-c5c4-45cc-9134-4fcd1e9a0796",
   "metadata": {},
   "source": [
    "What snippet would you insert in the line indicated below to print\n",
    "\n",
    "The highest number is ```10``` and the lowest number is ```1.``` to the monitor?\n",
    "\n",
    "\n",
    "```\n",
    "data = [10, 2, 1, 7, 5, 6, 4, 3, 9, 8]\n",
    "# insert your code here\n",
    "print(\n",
    "    ('The highest number is {} ' +\n",
    "     'and the lowest number is {}.').format(high, low)000\n",
    ")\n",
    "```\n",
    "\n",
    "\n",
    "A.\n",
    "```\n",
    "def find_high_low(nums):\n",
    "    nums.sort()\n",
    "    return nums[-1], nums[0]\n",
    "                \n",
    "high, low = find_high_low(data)\n",
    "```\n",
    "\n",
    "B.\n",
    "```\n",
    "def find_high_low(nums):\n",
    "    nums.sort()\n",
    "    return nums[len(nums)], nums[0]\n",
    "                \n",
    "high, low = find_high_low(data)\n",
    "```  \n",
    "    \n",
    "C.\n",
    "```\n",
    "None of the above\n",
    "```                \n",
    "D.\n",
    "```\n",
    "def find_high_low(nums):\n",
    "    nums.sort()\n",
    "    return nums[0], nums[-1]\n",
    "                \n",
    "high, low = find_high_low(data)\n",
    "```                \n"
   ]
  },
  {
   "cell_type": "markdown",
   "id": "77776116",
   "metadata": {},
   "source": [
    "# Solution 28  (Basics)"
   ]
  },
  {
   "cell_type": "code",
   "execution_count": 157,
   "id": "c6ff51be",
   "metadata": {},
   "outputs": [],
   "source": [
    "# A"
   ]
  },
  {
   "cell_type": "code",
   "execution_count": 158,
   "id": "68b49c66",
   "metadata": {},
   "outputs": [
    {
     "name": "stdout",
     "output_type": "stream",
     "text": [
      "The highest number is 10 and the lowest number is 1.\n"
     ]
    }
   ],
   "source": [
    "# The highest number is 10 and the lowest number is 1. to the monitor?\n",
    "\n",
    "\n",
    "\n",
    "data = [10, 2, 1, 7, 5, 6, 4, 3, 9, 8]\n",
    "# insert your code here\n",
    "# A.\n",
    "def find_high_low(nums):\n",
    "    nums.sort()                     # por defecto: reverse=False ==> listado ascendente          \n",
    "    return nums[-1], nums[0]        # maximo el de index -1, minimo el de index 0\n",
    "                \n",
    "high, low = find_high_low(data)\n",
    "\n",
    "print(\n",
    "    ('The highest number is {} ' +\n",
    "     'and the lowest number is {}.').format(high, low)\n",
    ")\n"
   ]
  },
  {
   "cell_type": "code",
   "execution_count": 159,
   "id": "8b055d60",
   "metadata": {},
   "outputs": [],
   "source": [
    "# Solución\n",
    "# A"
   ]
  },
  {
   "cell_type": "markdown",
   "id": "2065b257",
   "metadata": {},
   "source": [
    "****"
   ]
  },
  {
   "cell_type": "markdown",
   "id": "3e7706c0",
   "metadata": {},
   "source": [
    "# Question 29   (Basics)"
   ]
  },
  {
   "cell_type": "markdown",
   "id": "d6f2dc3a-c255-4c5d-a62b-416e03f961ae",
   "metadata": {},
   "source": [
    "What is true about compilation?\n",
    "\n",
    "(Select two answers)\n",
    "\n",
    "A. The code is converted directly into machine code executable by the processor\n",
    "\n",
    "B. Both you and the end user must have the compiler to run your code\n",
    "\n",
    "C. It tends to be slower than interpretation\n",
    "\n",
    "D. It tends to be faster than interpretation"
   ]
  },
  {
   "cell_type": "markdown",
   "id": "4967a372",
   "metadata": {},
   "source": [
    "# Solution 29"
   ]
  },
  {
   "cell_type": "code",
   "execution_count": 161,
   "id": "8ebdeca4",
   "metadata": {},
   "outputs": [],
   "source": [
    "# Solución\n",
    "# A y D"
   ]
  },
  {
   "cell_type": "markdown",
   "id": "cab32d65",
   "metadata": {},
   "source": [
    "****"
   ]
  },
  {
   "cell_type": "markdown",
   "id": "17da28c4",
   "metadata": {},
   "source": [
    "# Question 30  (Functions)"
   ]
  },
  {
   "cell_type": "markdown",
   "id": "d207ef00-022d-4703-aa15-fccf1da264e2",
   "metadata": {},
   "source": [
    "What is the expected output of the following code?\n",
    "\n",
    "```\n",
    "def func(a, b):\n",
    "    return a ** a\n",
    " \n",
    "print(func(2))\n",
    "```\n",
    "A. ```2```\n",
    "\n",
    "B. ```None```\n",
    "\n",
    "C. The code is erroneous\n",
    "\n",
    "D. ```4```"
   ]
  },
  {
   "cell_type": "markdown",
   "id": "80ff857f",
   "metadata": {},
   "source": [
    "# Solution 30"
   ]
  },
  {
   "cell_type": "code",
   "execution_count": 163,
   "id": "41beea89",
   "metadata": {},
   "outputs": [
    {
     "data": {
      "text/plain": [
       "'\\ndef func(a, b):\\n    return a ** a\\n \\nprint(func(2))\\n'"
      ]
     },
     "execution_count": 163,
     "metadata": {},
     "output_type": "execute_result"
    }
   ],
   "source": [
    "\"\"\"\n",
    "def func(a, b):\n",
    "    return a ** a\n",
    " \n",
    "print(func(2))\n",
    "\"\"\"\n",
    "\n",
    "# TypeError: func() missing 1 required positional argument: 'b'"
   ]
  },
  {
   "cell_type": "code",
   "execution_count": 164,
   "id": "c231b840",
   "metadata": {},
   "outputs": [],
   "source": [
    "# Solución\n",
    "# C"
   ]
  },
  {
   "cell_type": "markdown",
   "id": "95706d09",
   "metadata": {},
   "source": [
    "****"
   ]
  },
  {
   "cell_type": "markdown",
   "id": "c4a66361",
   "metadata": {},
   "source": [
    "*Gracias por la atención*\n",
    "\n",
    "*Isabel Maniega*"
   ]
  }
 ],
 "metadata": {
  "kernelspec": {
   "display_name": "Python 3 (ipykernel)",
   "language": "python",
   "name": "python3"
  },
  "language_info": {
   "codemirror_mode": {
    "name": "ipython",
    "version": 3
   },
   "file_extension": ".py",
   "mimetype": "text/x-python",
   "name": "python",
   "nbconvert_exporter": "python",
   "pygments_lexer": "ipython3",
   "version": "3.8.19"
  }
 },
 "nbformat": 4,
 "nbformat_minor": 5
}

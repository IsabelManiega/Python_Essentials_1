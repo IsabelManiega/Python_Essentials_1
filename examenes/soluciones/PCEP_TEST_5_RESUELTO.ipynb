{
 "cells": [
  {
   "cell_type": "markdown",
   "id": "93d63b59",
   "metadata": {},
   "source": [
    "*Contenido creado por: Isabel Maniega*"
   ]
  },
  {
   "cell_type": "markdown",
   "id": "fa565dd8",
   "metadata": {},
   "source": [
    "****"
   ]
  },
  {
   "cell_type": "markdown",
   "id": "916b44a4",
   "metadata": {},
   "source": [
    "# Question 1 (Basics)"
   ]
  },
  {
   "cell_type": "markdown",
   "id": "48b42584-f5c5-4ce4-9eb0-49308c6f05e1",
   "metadata": {},
   "source": [
    "The folder created by Python used to store pyc files is named:\n",
    "\n",
    "A. ```__pycfiles__```\n",
    "\n",
    "B. ```__cache__```\n",
    "\n",
    "C. ```__pycache__```\n",
    "\n",
    "D. ```__pyc__```"
   ]
  },
  {
   "cell_type": "markdown",
   "id": "cbd37e8c",
   "metadata": {},
   "source": [
    "# Solution 1"
   ]
  },
  {
   "cell_type": "code",
   "execution_count": 2,
   "id": "b2ab0095",
   "metadata": {},
   "outputs": [],
   "source": [
    "# Solución\n",
    "# C"
   ]
  },
  {
   "cell_type": "markdown",
   "id": "93d2eb6f",
   "metadata": {},
   "source": [
    "****"
   ]
  },
  {
   "cell_type": "markdown",
   "id": "adbedc11",
   "metadata": {},
   "source": [
    "# Question 2 (Data Aggregates)"
   ]
  },
  {
   "cell_type": "markdown",
   "id": "0c86ef0f-29f1-4f27-a05a-a0691a085287",
   "metadata": {},
   "source": [
    "What is the expected output of the following code?\n",
    "\n",
    "```\n",
    "fruits1 = ['Apple', 'Pear', 'Banana']\n",
    "fruits2 = fruits1\n",
    "fruits3 = fruits1[:]\n",
    " \n",
    "fruits2[0] = 'Cherry'\n",
    "fruits3[1] = 'Orange'\n",
    " \n",
    "res = 0\n",
    " \n",
    "for i in (fruits1, fruits2, fruits3):\n",
    "    if i[0] == 'Cherry':\n",
    "        res += 1\n",
    "    if i[1] == 'Orange':\n",
    "        res += 10\n",
    " \n",
    "print(res)\n",
    "```\n",
    "\n",
    "A. ```12```\n",
    "\n",
    "B. ```11```\n",
    "\n",
    "C. ```22```\n",
    "\n",
    "D. ```0```"
   ]
  },
  {
   "cell_type": "markdown",
   "id": "a52798c7",
   "metadata": {},
   "source": [
    "# Solution 2"
   ]
  },
  {
   "cell_type": "code",
   "execution_count": 4,
   "id": "1ae31dad",
   "metadata": {},
   "outputs": [],
   "source": [
    "# resuelto paso a paso.."
   ]
  },
  {
   "cell_type": "code",
   "execution_count": 5,
   "id": "68521738",
   "metadata": {},
   "outputs": [
    {
     "name": "stdout",
     "output_type": "stream",
     "text": [
      "fruits1 inicial:  ['Apple', 'Pear', 'Banana']\n",
      "\n",
      "\n",
      "fruits2 = fruits1\n",
      "fruits1:  ['Apple', 'Pear', 'Banana']\n",
      "fruits2:  ['Apple', 'Pear', 'Banana']\n",
      "\n",
      "\n",
      "fruits3 = fruits1[:]\n",
      "fruits1:  ['Apple', 'Pear', 'Banana']\n",
      "fruits3:  ['Apple', 'Pear', 'Banana']\n",
      "\n",
      "\n",
      "fruits2[0] = 'Cherry'\n",
      "fruits1:  ['Cherry', 'Pear', 'Banana']\n",
      "fruits2:  ['Cherry', 'Pear', 'Banana']\n",
      "\n",
      "\n",
      "fruits3[1] = 'Orange'\n",
      "fruits1:  ['Cherry', 'Pear', 'Banana']\n",
      "fruits3:  ['Apple', 'Orange', 'Banana']\n",
      "\n",
      "\n"
     ]
    }
   ],
   "source": [
    "fruits1 = ['Apple', 'Pear', 'Banana']\n",
    "print('fruits1 inicial: ', fruits1)\n",
    "print('\\n')\n",
    "fruits2 = fruits1\n",
    "print('fruits2 = fruits1')\n",
    "print('fruits1: ', fruits1)\n",
    "print('fruits2: ', fruits2)\n",
    "print('\\n')\n",
    "fruits3 = fruits1[:]\n",
    "print('fruits3 = fruits1[:]')\n",
    "print('fruits1: ', fruits1)\n",
    "print('fruits3: ', fruits3)\n",
    "print('\\n')\n",
    "fruits2[0] = 'Cherry'\n",
    "print(\"fruits2[0] = 'Cherry'\")\n",
    "print('fruits1: ', fruits1)\n",
    "print('fruits2: ', fruits2)\n",
    "print('\\n')\n",
    "fruits3[1] = 'Orange'\n",
    "print(\"fruits3[1] = 'Orange'\")\n",
    "print('fruits1: ', fruits1)\n",
    "print('fruits3: ', fruits3)\n",
    "print('\\n')"
   ]
  },
  {
   "cell_type": "code",
   "execution_count": 6,
   "id": "e25f8b0e",
   "metadata": {},
   "outputs": [
    {
     "name": "stdout",
     "output_type": "stream",
     "text": [
      "['Cherry', 'Pear', 'Banana'] ['Cherry', 'Pear', 'Banana'] ['Apple', 'Orange', 'Banana']\n"
     ]
    }
   ],
   "source": [
    "print(fruits1, fruits2, fruits3)"
   ]
  },
  {
   "cell_type": "code",
   "execution_count": 7,
   "id": "3d6045f1",
   "metadata": {},
   "outputs": [
    {
     "name": "stdout",
     "output_type": "stream",
     "text": [
      "['Cherry', 'Pear', 'Banana']\n",
      "['Cherry', 'Pear', 'Banana']\n",
      "['Apple', 'Orange', 'Banana']\n"
     ]
    }
   ],
   "source": [
    "for i in (fruits1, fruits2, fruits3):\n",
    "    print(i)"
   ]
  },
  {
   "cell_type": "code",
   "execution_count": 8,
   "id": "8a6efe7f",
   "metadata": {},
   "outputs": [],
   "source": [
    "# bucle final"
   ]
  },
  {
   "cell_type": "code",
   "execution_count": 9,
   "id": "e26e3c04",
   "metadata": {},
   "outputs": [
    {
     "name": "stdout",
     "output_type": "stream",
     "text": [
      "12\n"
     ]
    }
   ],
   "source": [
    "res = 0\n",
    " \n",
    "for i in (fruits1, fruits2, fruits3):     # para cada lista por separado\n",
    "    if i[0] == 'Cherry':\n",
    "        res += 1\n",
    "    if i[1] == 'Orange':\n",
    "        res += 10\n",
    "        \n",
    "    # res = 0\n",
    "    \n",
    "    # ['Cherry', 'Pear', 'Banana'] (primera lista)\n",
    "    #    +1        \n",
    "\n",
    "    # ['Cherry', 'Pear', 'Banana'] (segunda lista)\n",
    "    #    +1\n",
    "    \n",
    "    # ['Apple', 'Orange', 'Banana'] (tercera lista)\n",
    "    #              +10\n",
    "    \n",
    "    # +1 +1 +10 ==> +12\n",
    "    \n",
    "print(res)"
   ]
  },
  {
   "cell_type": "code",
   "execution_count": 10,
   "id": "98e2c249",
   "metadata": {},
   "outputs": [],
   "source": [
    "# TODO DE UN PASO"
   ]
  },
  {
   "cell_type": "code",
   "execution_count": 11,
   "id": "670b347f",
   "metadata": {},
   "outputs": [
    {
     "name": "stdout",
     "output_type": "stream",
     "text": [
      "12\n"
     ]
    }
   ],
   "source": [
    "fruits1 = ['Apple', 'Pear', 'Banana']\n",
    "fruits2 = fruits1\n",
    "fruits3 = fruits1[:]\n",
    " \n",
    "fruits2[0] = 'Cherry'\n",
    "fruits3[1] = 'Orange'\n",
    " \n",
    "res = 0\n",
    " \n",
    "for i in (fruits1, fruits2, fruits3):\n",
    "    if i[0] == 'Cherry':\n",
    "        res += 1\n",
    "    if i[1] == 'Orange':\n",
    "        res += 10\n",
    "\n",
    "print(res)"
   ]
  },
  {
   "cell_type": "code",
   "execution_count": 12,
   "id": "2dd49840",
   "metadata": {},
   "outputs": [],
   "source": [
    "# Solución\n",
    "# A"
   ]
  },
  {
   "cell_type": "markdown",
   "id": "24d58aa6",
   "metadata": {},
   "source": [
    "****"
   ]
  },
  {
   "cell_type": "markdown",
   "id": "24dea987",
   "metadata": {},
   "source": [
    "# Question 3   (Data Aggregates)"
   ]
  },
  {
   "cell_type": "markdown",
   "id": "029ae146-0a9f-47d7-bda6-2f397994a0dc",
   "metadata": {},
   "source": [
    "An alternative name for a data structure called a stack is:\n",
    "\n",
    "A. FIFO\n",
    "                   \n",
    "B. LIFO\n",
    "                   \n",
    "C. FOLO"
   ]
  },
  {
   "cell_type": "markdown",
   "id": "e7b5c284",
   "metadata": {},
   "source": [
    "# Solution 3"
   ]
  },
  {
   "cell_type": "code",
   "execution_count": 14,
   "id": "aa69d18a",
   "metadata": {},
   "outputs": [],
   "source": [
    "# stack --> pila, apilamiento\n",
    "# la estructura en la cual APILAS, en un montón, \n",
    "# en ella el último que entra es el primero que sale\n",
    "# LAST IN FIRST OUT (LIFO)\n",
    "\n",
    "\n",
    "# LIFO "
   ]
  },
  {
   "cell_type": "code",
   "execution_count": 15,
   "id": "e160b76e",
   "metadata": {},
   "outputs": [],
   "source": [
    "# Solución\n",
    "# B"
   ]
  },
  {
   "cell_type": "markdown",
   "id": "e5cea33b",
   "metadata": {},
   "source": [
    "****"
   ]
  },
  {
   "cell_type": "markdown",
   "id": "822187c3",
   "metadata": {},
   "source": [
    "# Question 4 (Basics)    "
   ]
  },
  {
   "cell_type": "markdown",
   "id": "7c780e5d-3b79-4d43-8c3e-29370f0e8286",
   "metadata": {},
   "source": [
    "UNICODE is a standard:\n",
    "\n",
    "A. like ASCII, but much more expansive\n",
    "\n",
    "B. used by coders from Universities\n",
    "\n",
    "C. for coding floating-point numbers\n",
    "\n",
    "D. honored by the whole universe"
   ]
  },
  {
   "cell_type": "markdown",
   "id": "ccb25e6d",
   "metadata": {},
   "source": [
    "# Solution 4"
   ]
  },
  {
   "cell_type": "code",
   "execution_count": 17,
   "id": "bf3957e8",
   "metadata": {},
   "outputs": [],
   "source": [
    "# Solución\n",
    "# A"
   ]
  },
  {
   "cell_type": "markdown",
   "id": "8efb033d",
   "metadata": {},
   "source": [
    "****"
   ]
  },
  {
   "cell_type": "markdown",
   "id": "3e9e3c38",
   "metadata": {},
   "source": [
    "# Question 5   (Operators)"
   ]
  },
  {
   "cell_type": "markdown",
   "id": "fa2b29a2-f33b-4027-b6b0-d0852792c48b",
   "metadata": {},
   "source": [
    "What is the expected output of the following code\n",
    "if the user enters 2 and 4?\n",
    "\n",
    "```\n",
    "x = float(input())\n",
    "y = float(input())\n",
    "print(y ** (1 / x))\n",
    "```\n",
    "\n",
    "A. ```1.0```\n",
    "\n",
    "B. ```2.0```\n",
    "\n",
    "C. ```0.0```\n",
    "\n",
    "D. ```4.0```"
   ]
  },
  {
   "cell_type": "markdown",
   "id": "bf5df307",
   "metadata": {},
   "source": [
    "# Solution 5"
   ]
  },
  {
   "cell_type": "code",
   "execution_count": 19,
   "id": "ac104f0b",
   "metadata": {},
   "outputs": [
    {
     "name": "stdout",
     "output_type": "stream",
     "text": [
      "2\n",
      "4\n",
      "2.0\n"
     ]
    }
   ],
   "source": [
    "# 2 and 4\n",
    "\n",
    "x = float(input())    # 2.00\n",
    "y = float(input())    # 4.00\n",
    "print(y ** (1 / x))   \n",
    "# 4 ** (1 / 2.00) = 4 ** 0.50"
   ]
  },
  {
   "cell_type": "code",
   "execution_count": 20,
   "id": "5969e585",
   "metadata": {},
   "outputs": [
    {
     "data": {
      "text/plain": [
       "2.0"
      ]
     },
     "execution_count": 20,
     "metadata": {},
     "output_type": "execute_result"
    }
   ],
   "source": [
    "4**0.50"
   ]
  },
  {
   "cell_type": "code",
   "execution_count": 21,
   "id": "667a1008",
   "metadata": {},
   "outputs": [
    {
     "data": {
      "text/plain": [
       "(1, 4, 'entonces..', 2.0)"
      ]
     },
     "execution_count": 21,
     "metadata": {},
     "output_type": "execute_result"
    }
   ],
   "source": [
    "4**0, 4**1, 'entonces..', 4**0.5"
   ]
  },
  {
   "cell_type": "code",
   "execution_count": 22,
   "id": "ee8924fe",
   "metadata": {},
   "outputs": [],
   "source": [
    "# Solución\n",
    "# B"
   ]
  },
  {
   "cell_type": "markdown",
   "id": "08decad0",
   "metadata": {},
   "source": [
    "****"
   ]
  },
  {
   "cell_type": "markdown",
   "id": "33c08eb7",
   "metadata": {},
   "source": [
    "# Question 6  (Data Types) "
   ]
  },
  {
   "cell_type": "markdown",
   "id": "70583a8d-3c78-4f2a-b67c-08c6ad6fd324",
   "metadata": {},
   "source": [
    "What is the result of the following code?\n",
    "\n",
    "```\n",
    "x = (3, )\n",
    "print(len(x))\n",
    "```\n",
    "A. ```2```\n",
    "\n",
    "B. ```3```\n",
    "\n",
    "C. The program will cause an error\n",
    "\n",
    "D. ```1```"
   ]
  },
  {
   "cell_type": "markdown",
   "id": "48f0c038",
   "metadata": {},
   "source": [
    "# Solution 6"
   ]
  },
  {
   "cell_type": "code",
   "execution_count": 5,
   "id": "70792feb",
   "metadata": {},
   "outputs": [
    {
     "name": "stdout",
     "output_type": "stream",
     "text": [
      "1\n"
     ]
    }
   ],
   "source": [
    "x = (3, )\n",
    "print(len(x))"
   ]
  },
  {
   "cell_type": "code",
   "execution_count": 25,
   "id": "d812c4b3",
   "metadata": {},
   "outputs": [],
   "source": [
    "# Solución\n",
    "# D"
   ]
  },
  {
   "cell_type": "markdown",
   "id": "9499536d",
   "metadata": {},
   "source": [
    "****"
   ]
  },
  {
   "cell_type": "markdown",
   "id": "9012902e",
   "metadata": {},
   "source": [
    "# Question 7  (Operators)   "
   ]
  },
  {
   "cell_type": "markdown",
   "id": "657c5d8d-d044-4ea6-90bb-bb10c69ab675",
   "metadata": {},
   "source": [
    "Right-sided binding means that the following expression\n",
    "```\n",
    "1 ** 2 ** 3\n",
    "```\n",
    "will be evaluated:\n",
    "\n",
    "A. from left to right\n",
    "\n",
    "B. from right to left\n",
    "\n",
    "C. in random order"
   ]
  },
  {
   "cell_type": "markdown",
   "id": "33090470",
   "metadata": {},
   "source": [
    "# Solution 7"
   ]
  },
  {
   "cell_type": "code",
   "execution_count": 27,
   "id": "1a9b36e6",
   "metadata": {},
   "outputs": [
    {
     "data": {
      "text/plain": [
       "1"
      ]
     },
     "execution_count": 27,
     "metadata": {},
     "output_type": "execute_result"
    }
   ],
   "source": [
    "1**2**3"
   ]
  },
  {
   "cell_type": "code",
   "execution_count": 28,
   "id": "b216305a",
   "metadata": {},
   "outputs": [
    {
     "data": {
      "text/plain": [
       "1"
      ]
     },
     "execution_count": 28,
     "metadata": {},
     "output_type": "execute_result"
    }
   ],
   "source": [
    "1**(2**3)\n",
    "\n",
    "# from right to left\n",
    "# de derecha a izquierda"
   ]
  },
  {
   "cell_type": "code",
   "execution_count": 29,
   "id": "9ee0d603",
   "metadata": {},
   "outputs": [],
   "source": [
    "# Solución\n",
    "# B"
   ]
  },
  {
   "cell_type": "markdown",
   "id": "74bff6ba",
   "metadata": {},
   "source": [
    "****"
   ]
  },
  {
   "cell_type": "markdown",
   "id": "6bebbbb8",
   "metadata": {},
   "source": [
    "# Question 8  (Functions)    "
   ]
  },
  {
   "cell_type": "markdown",
   "id": "ef58bbd6-75e1-40d9-bfb1-43db2f19c56b",
   "metadata": {},
   "source": [
    "What is the expected output of the following code?\n",
    "\n",
    "```\n",
    "def test(x=1, y=2):\n",
    "    x = x + y\n",
    "    y += 1\n",
    "    print(x, y)\n",
    " \n",
    "test()\n",
    "```\n",
    "A. ```1 1```\n",
    "\n",
    "B. The code is erroneous\n",
    "\n",
    "C. ```1 3```\n",
    "\n",
    "D. ```3 3```\n",
    "\n",
    "E. ```3 1```"
   ]
  },
  {
   "cell_type": "markdown",
   "id": "fad8536a",
   "metadata": {},
   "source": [
    "# Solution 8"
   ]
  },
  {
   "cell_type": "code",
   "execution_count": 31,
   "id": "ba06fa30",
   "metadata": {},
   "outputs": [
    {
     "name": "stdout",
     "output_type": "stream",
     "text": [
      "3 3\n"
     ]
    }
   ],
   "source": [
    "def test(x=1, y=2):\n",
    "    x = x + y         # x = 1 + 2 => x = 3\n",
    "    y += 1            # y = y + 1 => y = 2 + 1 = 3\n",
    "    print(x, y)       # 3 3\n",
    " \n",
    " \n",
    "test()"
   ]
  },
  {
   "cell_type": "code",
   "execution_count": 32,
   "id": "f5b88d33",
   "metadata": {},
   "outputs": [],
   "source": [
    "# Solución\n",
    "# D"
   ]
  },
  {
   "cell_type": "markdown",
   "id": "2a66728a",
   "metadata": {},
   "source": [
    "****"
   ]
  },
  {
   "cell_type": "markdown",
   "id": "40f24429",
   "metadata": {},
   "source": [
    "# Question 9   (Basics) "
   ]
  },
  {
   "cell_type": "markdown",
   "id": "c47d5c01-5064-40d2-b6ee-d5f9a4da4369",
   "metadata": {},
   "source": [
    "You have the following file.\n",
    "\n",
    "index.py:\n",
    "```\n",
    "from sys import argv\n",
    "print(argv[0])\n",
    "```\n",
    "You run the file by executing the following command \n",
    "in the terminal.\n",
    "\n",
    "```\n",
    "python index.py Hello\n",
    "```\n",
    "What is the expected oputput?\n",
    "\n",
    "\n",
    "A. ```IndexError```\n",
    "\n",
    "B. ```Hello```\n",
    "\n",
    "C. ```index.py```\n",
    "\n",
    "D. ```ImportError```"
   ]
  },
  {
   "cell_type": "markdown",
   "id": "fdea8d57",
   "metadata": {},
   "source": [
    "# Solution 9"
   ]
  },
  {
   "cell_type": "code",
   "execution_count": 34,
   "id": "74f58b8b",
   "metadata": {},
   "outputs": [],
   "source": [
    "# Solución\n",
    "# C"
   ]
  },
  {
   "cell_type": "markdown",
   "id": "caef74c7",
   "metadata": {},
   "source": [
    "**cómo comprobarlo**"
   ]
  },
  {
   "cell_type": "code",
   "execution_count": 35,
   "id": "a457ca1d",
   "metadata": {},
   "outputs": [
    {
     "data": {
      "text/plain": [
       "'\\nir a un bloc de notas (editor de textos en Ubuntu)\\n\\nescribir el siguiente código:\\n    \\nfrom sys import argv\\nprint(argv)\\n\\nentonces, guardar como todos los archivos,\\nde nombre: \"prueba.py\" mismanente en el escritorio\\n    \\nabrir la consola en esa ruta, (si es escritorio, ahí)\\n\\n-> en ubuntu:\\nbotón derecho en el archivo en el escritorio -> mostrar en files\\nen esa ruta sin hacer click en archivo, botón derecho, abrir en una terminal.\\nabre la consola en esa ruta\\n\\n\\ny ejecutar el archivo, haciendo lo siguiente:\\n    \\npython3 index.py Hello World   (ubuntu)\\npython index.py Hello World    (Windows)\\n\\n(python 3 en vez de Python para Ubuntu)\\n    \\nnos quedará: \\n    \\n[\\'prueba.py\\', \\'Hello\\', \\'World\\']\\n\\ny podríamos acceder a cualquier elemento de esos.\\nindex 0, 1 y 2\\n'"
      ]
     },
     "execution_count": 35,
     "metadata": {},
     "output_type": "execute_result"
    }
   ],
   "source": [
    "\"\"\"\n",
    "ir a un bloc de notas (editor de textos en Ubuntu)\n",
    "\n",
    "escribir el siguiente código:\n",
    "    \n",
    "from sys import argv\n",
    "print(argv)\n",
    "\n",
    "entonces, guardar como todos los archivos,\n",
    "de nombre: \"prueba.py\" mismanente en el escritorio\n",
    "    \n",
    "abrir la consola en esa ruta, (si es escritorio, ahí)\n",
    "\n",
    "-> en ubuntu:\n",
    "botón derecho en el archivo en el escritorio -> mostrar en files\n",
    "en esa ruta sin hacer click en archivo, botón derecho, abrir en una terminal.\n",
    "abre la consola en esa ruta\n",
    "\n",
    "\n",
    "y ejecutar el archivo, haciendo lo siguiente:\n",
    "    \n",
    "python3 index.py Hello World   (ubuntu)\n",
    "python index.py Hello World    (Windows)\n",
    "\n",
    "(python 3 en vez de Python para Ubuntu)\n",
    "    \n",
    "nos quedará: \n",
    "    \n",
    "['prueba.py', 'Hello', 'World']\n",
    "\n",
    "y podríamos acceder a cualquier elemento de esos.\n",
    "index 0, 1 y 2\n",
    "\"\"\"\n",
    "\n",
    "# entonces...podremos acceder al string prueba.py si definimos index 0\n",
    "\n",
    "# from sys import argv\n",
    "# print(argv[0])\n",
    "\n",
    "# y ejecutando:\n",
    "# python index.py Hello"
   ]
  },
  {
   "cell_type": "markdown",
   "id": "4fee1fca",
   "metadata": {},
   "source": [
    "****"
   ]
  },
  {
   "cell_type": "markdown",
   "id": "02b11c22",
   "metadata": {},
   "source": [
    "# Question 10  (Data Aggregates)    "
   ]
  },
  {
   "cell_type": "markdown",
   "id": "646eff19-edce-45f1-91e5-efee4fc91068",
   "metadata": {},
   "source": [
    "What is the expected output of the following code?\n",
    "\n",
    "```\n",
    "t1 = (1, 4, 9)\n",
    "t2 = ('A', 'D', 'Z')\n",
    "t3 = (True, False, None)\n",
    "t4 = (5.0, 7.5, 9.9)\n",
    " \n",
    "t1, t3 = t2, t4\n",
    "print(t1)\n",
    "```\n",
    "\n",
    "A. ```(5.0, 7.5, 9.9)```\n",
    "\n",
    "B. ```(1, 4, 9)```\n",
    "\n",
    "C. The program will cause an error\n",
    "\n",
    "D. ```('A', 'D', 'Z')```"
   ]
  },
  {
   "cell_type": "markdown",
   "id": "6a19ceaa",
   "metadata": {},
   "source": [
    "# Solution 10"
   ]
  },
  {
   "cell_type": "code",
   "execution_count": 37,
   "id": "082c97d3",
   "metadata": {},
   "outputs": [
    {
     "name": "stdout",
     "output_type": "stream",
     "text": [
      "('A', 'D', 'Z')\n"
     ]
    }
   ],
   "source": [
    "t1 = (1, 4, 9)\n",
    "t2 = ('A', 'D', 'Z')\n",
    "t3 = (True, False, None)\n",
    "t4 = (5.0, 7.5, 9.9)\n",
    " \n",
    "t1, t3 = t2, t4\n",
    "# t1 = ('A', 'D', 'Z')\n",
    "# t3 = (5.0, 7.5, 9.9)\n",
    "\n",
    "print(t1)  # ('A', 'D', 'Z')"
   ]
  },
  {
   "cell_type": "code",
   "execution_count": 38,
   "id": "13748d99",
   "metadata": {},
   "outputs": [],
   "source": [
    "# Solución\n",
    "# D"
   ]
  },
  {
   "cell_type": "markdown",
   "id": "5539648a",
   "metadata": {},
   "source": [
    "****"
   ]
  },
  {
   "cell_type": "markdown",
   "id": "30e443de",
   "metadata": {},
   "source": [
    "# Question 11  (Data Agregates)"
   ]
  },
  {
   "cell_type": "markdown",
   "id": "1af1a34e-8c0c-492a-867b-23c626f141ba",
   "metadata": {},
   "source": [
    "What is the expected output of the following code?\n",
    "```\n",
    "data = {'a': 1, 'b': 2, 'c': 3}\n",
    "print(data['a', 'b'])\n",
    "```\n",
    "A. The code is erroneous\n",
    "\n",
    "B. ```(1,2)```\n",
    "\n",
    "C. ```[1,2]```\n",
    "\n",
    "D. ```{'a':1, 'b':2}```"
   ]
  },
  {
   "cell_type": "markdown",
   "id": "d5faea99",
   "metadata": {},
   "source": [
    "# Solution 11"
   ]
  },
  {
   "cell_type": "code",
   "execution_count": 40,
   "id": "306e7ba4",
   "metadata": {},
   "outputs": [
    {
     "data": {
      "text/plain": [
       "\"data = {'a': 1, \\n        'b': 2, \\n        'c': 3}\\n\\nprint(data['a', 'b'])\""
      ]
     },
     "execution_count": 40,
     "metadata": {},
     "output_type": "execute_result"
    }
   ],
   "source": [
    "\"\"\"data = {'a': 1, \n",
    "        'b': 2, \n",
    "        'c': 3}\n",
    "\n",
    "print(data['a', 'b'])\"\"\"\n",
    "\n",
    "# KeyError: ('a', 'b')"
   ]
  },
  {
   "cell_type": "code",
   "execution_count": 41,
   "id": "44f823f0",
   "metadata": {},
   "outputs": [],
   "source": [
    "# Solución\n",
    "# A"
   ]
  },
  {
   "cell_type": "markdown",
   "id": "3ac36904",
   "metadata": {},
   "source": [
    "**explicación**"
   ]
  },
  {
   "cell_type": "code",
   "execution_count": 42,
   "id": "23e401bb",
   "metadata": {},
   "outputs": [
    {
     "name": "stdout",
     "output_type": "stream",
     "text": [
      "1 2\n"
     ]
    }
   ],
   "source": [
    "# no se puede pasar varias keys, para obtener varios valores\n",
    "\n",
    "# Otra posible opción, esta si es posible\n",
    "data = {'a': 1, 'b': 2, 'c': 3}\n",
    "print(data['a'], data['b'])"
   ]
  },
  {
   "cell_type": "markdown",
   "id": "0b1bda60",
   "metadata": {},
   "source": [
    "****"
   ]
  },
  {
   "cell_type": "markdown",
   "id": "83f1ab10",
   "metadata": {},
   "source": [
    "# Question 12     "
   ]
  },
  {
   "cell_type": "markdown",
   "id": "dbe3a693-06f2-4d1c-85c1-19c57cd5d201",
   "metadata": {},
   "source": [
    "Take a look at the snippet\n",
    "\n",
    "and choose one of the following statements which is true:\n",
    "```\n",
    "nums = []\n",
    "vals = nums\n",
    "vals.append(1)\n",
    "```\n",
    "\n",
    "A. vals is longer than nums\n",
    "\n",
    "B. nums is longer than vals\n",
    "\n",
    "C. nums anb vals are of the same length"
   ]
  },
  {
   "cell_type": "markdown",
   "id": "7cfac698",
   "metadata": {},
   "source": [
    "# Solution 12"
   ]
  },
  {
   "cell_type": "code",
   "execution_count": 44,
   "id": "f440d25d",
   "metadata": {},
   "outputs": [],
   "source": [
    "nums = []\n",
    "vals = nums\n",
    "vals.append(1)"
   ]
  },
  {
   "cell_type": "code",
   "execution_count": 45,
   "id": "5cbc29d8",
   "metadata": {},
   "outputs": [
    {
     "name": "stdout",
     "output_type": "stream",
     "text": [
      "[1]\n",
      "[1]\n"
     ]
    }
   ],
   "source": [
    "print(vals)\n",
    "print(nums)"
   ]
  },
  {
   "cell_type": "code",
   "execution_count": 46,
   "id": "6771a978",
   "metadata": {},
   "outputs": [],
   "source": [
    "# Solución\n",
    "# C"
   ]
  },
  {
   "cell_type": "markdown",
   "id": "5004d0d6",
   "metadata": {},
   "source": [
    "**Explicación con ejemplo similar**"
   ]
  },
  {
   "cell_type": "code",
   "execution_count": 47,
   "id": "6744d39c",
   "metadata": {},
   "outputs": [],
   "source": [
    "# otro ejemplo, similar, \n",
    "# en vez de modificar una de las listas\n",
    "# modifico la otra\n",
    "\n",
    "nums = []\n",
    "vals = nums\n",
    "nums.append(1)"
   ]
  },
  {
   "cell_type": "code",
   "execution_count": 48,
   "id": "703d2119",
   "metadata": {},
   "outputs": [
    {
     "name": "stdout",
     "output_type": "stream",
     "text": [
      "[1]\n",
      "[1]\n"
     ]
    }
   ],
   "source": [
    "print(vals)\n",
    "print(nums)"
   ]
  },
  {
   "cell_type": "markdown",
   "id": "e3d8ca95",
   "metadata": {},
   "source": [
    "****"
   ]
  },
  {
   "cell_type": "markdown",
   "id": "68ca6364",
   "metadata": {},
   "source": [
    "# Question 13   (Data Agregates)  "
   ]
  },
  {
   "cell_type": "markdown",
   "id": "dfeb8e7a-960f-46d7-9745-094bbb597adc",
   "metadata": {},
   "source": [
    "What is the expected output of the following code?\n",
    "```\n",
    "data = (1, 2, 4, 8)\n",
    "data = data[1:-1]\n",
    "data = data[0]\n",
    "print(data)\n",
    "```\n",
    "\n",
    "A. ```(2)```\n",
    "\n",
    "B. The code is erroneous\n",
    "\n",
    "C. ```2```\n",
    "\n",
    "D. ```(2,)```"
   ]
  },
  {
   "cell_type": "markdown",
   "id": "f6de23c2",
   "metadata": {},
   "source": [
    "# Solution 13"
   ]
  },
  {
   "cell_type": "code",
   "execution_count": 50,
   "id": "7c4b92d0",
   "metadata": {},
   "outputs": [
    {
     "name": "stdout",
     "output_type": "stream",
     "text": [
      "data inicial (1, 2, 4, 8)\n",
      "data tras [1,-1], osea DESDE index 1 hasta el último elemento no incluído: (2, 4)\n",
      "data, su elemento de index 0:  2\n",
      "SOLUCIÓN:\n",
      "2\n"
     ]
    }
   ],
   "source": [
    "data = (1, 2, 4, 8)\n",
    "print('data inicial', data)\n",
    "data = data[1:-1]    # data = (2,4)\n",
    "print('data tras [1,-1], osea DESDE index 1 hasta el último elemento no incluído:', data)\n",
    "data = data[0]       # data = 2\n",
    "print('data, su elemento de index 0: ', data)\n",
    "print('SOLUCIÓN:')\n",
    "print(data)"
   ]
  },
  {
   "cell_type": "code",
   "execution_count": 51,
   "id": "3f0beb8a",
   "metadata": {},
   "outputs": [],
   "source": [
    "# Solución\n",
    "# C"
   ]
  },
  {
   "cell_type": "markdown",
   "id": "a59fd575",
   "metadata": {},
   "source": [
    "****"
   ]
  },
  {
   "cell_type": "markdown",
   "id": "423d9c69",
   "metadata": {},
   "source": [
    "# Question 14"
   ]
  },
  {
   "cell_type": "markdown",
   "id": "d54ec71d-f8bc-4604-9eda-3fb86337b974",
   "metadata": {},
   "source": [
    "How many stars will the following snippet print to the monitor?\n",
    "```\n",
    "x = 16\n",
    "while x > 0:\n",
    "    print('*')\n",
    "x //= 2\n",
    "```\n",
    "\n",
    "A. five\n",
    "\n",
    "B. The code will enter an infinite loop\n",
    "\n",
    "C. one\n",
    "\n",
    "D. three"
   ]
  },
  {
   "cell_type": "markdown",
   "id": "05d8aa34",
   "metadata": {},
   "source": [
    "# Solution 14"
   ]
  },
  {
   "cell_type": "code",
   "execution_count": 53,
   "id": "c9cbf9e6",
   "metadata": {},
   "outputs": [
    {
     "data": {
      "text/plain": [
       "\"\\nx = 16\\n\\nwhile x > 0:\\n    print('*')\\nx //= 2  \\n\\nBUCLE INFINITO\\n\""
      ]
     },
     "execution_count": 53,
     "metadata": {},
     "output_type": "execute_result"
    }
   ],
   "source": [
    "\"\"\"\n",
    "x = 16\n",
    "\n",
    "while x > 0:\n",
    "    print('*')\n",
    "x //= 2  \n",
    "\n",
    "BUCLE INFINITO\n",
    "\"\"\""
   ]
  },
  {
   "cell_type": "code",
   "execution_count": 54,
   "id": "d98f3db5",
   "metadata": {},
   "outputs": [],
   "source": [
    "# Solución\n",
    "# B"
   ]
  },
  {
   "cell_type": "markdown",
   "id": "1728fc1a",
   "metadata": {},
   "source": [
    "**EJEMPLO SIMILAR, PERO EN ESTE CASO, SI FUNCIONA CORRECTAMENTE**"
   ]
  },
  {
   "cell_type": "code",
   "execution_count": 55,
   "id": "ab1622e2",
   "metadata": {},
   "outputs": [
    {
     "name": "stdout",
     "output_type": "stream",
     "text": [
      "*\n",
      "*\n",
      "*\n",
      "*\n",
      "*\n"
     ]
    }
   ],
   "source": [
    "x = 16\n",
    "\n",
    "while x > 0:\n",
    "    print('*')\n",
    "    x //= 2      # x = x // 2  (cociente)\n",
    "    \n",
    "    # 16->8->4->2->1 => 5 *\n",
    "    # 1//2 => 0 "
   ]
  },
  {
   "cell_type": "markdown",
   "id": "94724fac",
   "metadata": {},
   "source": [
    "****"
   ]
  },
  {
   "cell_type": "markdown",
   "id": "4375e759",
   "metadata": {},
   "source": [
    "# Question 15    (Basics)"
   ]
  },
  {
   "cell_type": "markdown",
   "id": "ea25199d-9392-40f0-914e-afbe012f03c0",
   "metadata": {},
   "source": [
    "Select the true statements?\n",
    "\n",
    "(Select two answers)\n",
    "\n",
    "A. \n",
    "Python is a good choice for creating and executing \n",
    "tests for applications \n",
    "\n",
    "B. \n",
    "Python is a good choice for low-level programming, \n",
    "e.g. when you want to implement an effective driver\n",
    "\n",
    "C. \n",
    "Python is free, open-source, and multiplatform\n",
    "\n",
    "D. \n",
    "Python 3 is backwards compatible with Python 2"
   ]
  },
  {
   "cell_type": "markdown",
   "id": "ff249567",
   "metadata": {},
   "source": [
    "# Solution 15"
   ]
  },
  {
   "cell_type": "code",
   "execution_count": 57,
   "id": "2ac496ad",
   "metadata": {},
   "outputs": [],
   "source": [
    "# A and C"
   ]
  },
  {
   "cell_type": "markdown",
   "id": "e994dbfd",
   "metadata": {},
   "source": [
    "****"
   ]
  },
  {
   "cell_type": "markdown",
   "id": "798b3726",
   "metadata": {},
   "source": [
    "# Question 16   (Error Handling)"
   ]
  },
  {
   "cell_type": "markdown",
   "id": "5a9fbd75-05ca-48cf-a87c-4dac44006ca2",
   "metadata": {},
   "source": [
    "The part of your code where you think \n",
    "an exception may occur should be placed inside:\n",
    "\n",
    "A. the ```try:``` branch\n",
    "\n",
    "B. the ```exception:``` branch\n",
    "\n",
    "C. the ```except:``` branch"
   ]
  },
  {
   "cell_type": "markdown",
   "id": "6ad5d7a2",
   "metadata": {},
   "source": [
    "# Solution 16"
   ]
  },
  {
   "cell_type": "code",
   "execution_count": 59,
   "id": "7476a918",
   "metadata": {},
   "outputs": [],
   "source": [
    "# Solución\n",
    "# A"
   ]
  },
  {
   "cell_type": "markdown",
   "id": "78010548",
   "metadata": {},
   "source": [
    "****"
   ]
  },
  {
   "cell_type": "markdown",
   "id": "eb31e191",
   "metadata": {},
   "source": [
    "# Question 17   (Control Flow)"
   ]
  },
  {
   "cell_type": "markdown",
   "id": "f2d5f20c-96d1-4f6c-a7ac-0448aae4f736",
   "metadata": {},
   "source": [
    "How many elements will the following list contain?\n",
    "```\n",
    "data = [i for i in range(-1, 2)]\n",
    "```\n",
    "A. three\n",
    "\n",
    "B. one\n",
    "\n",
    "C. zero\n",
    "\n",
    "D. two\n",
    "\n",
    "E. four"
   ]
  },
  {
   "cell_type": "markdown",
   "id": "87bafe8c",
   "metadata": {},
   "source": [
    "# Solution 17"
   ]
  },
  {
   "cell_type": "code",
   "execution_count": 61,
   "id": "d63fad4b",
   "metadata": {},
   "outputs": [
    {
     "name": "stdout",
     "output_type": "stream",
     "text": [
      "[-1, 0, 1]\n",
      "3\n"
     ]
    }
   ],
   "source": [
    "data = [i for i in range(-1, 2)]\n",
    "\n",
    "# range(-1,2) => -1, 0, 1\n",
    "\n",
    "print(data)\n",
    "print(len(data))"
   ]
  },
  {
   "cell_type": "code",
   "execution_count": 62,
   "id": "cb34c022",
   "metadata": {},
   "outputs": [],
   "source": [
    "# Solución\n",
    "# A"
   ]
  },
  {
   "cell_type": "markdown",
   "id": "c53078e3",
   "metadata": {},
   "source": [
    "****"
   ]
  },
  {
   "cell_type": "markdown",
   "id": "f8720650",
   "metadata": {},
   "source": [
    "# Question 18 (Basics) "
   ]
  },
  {
   "cell_type": "markdown",
   "id": "c3f459f1-0362-4ff0-922d-ceb69a23f5ce",
   "metadata": {},
   "source": [
    "Which one of the following \n",
    "is an example of a Python file extension?\n",
    "\n",
    "A. p\n",
    "\n",
    "B. py\n",
    "\n",
    "C. pi"
   ]
  },
  {
   "cell_type": "markdown",
   "id": "db5f7d67",
   "metadata": {},
   "source": [
    "# Solution 18"
   ]
  },
  {
   "cell_type": "code",
   "execution_count": 64,
   "id": "65ecfa8a",
   "metadata": {},
   "outputs": [],
   "source": [
    "# Solución\n",
    "# B"
   ]
  },
  {
   "cell_type": "markdown",
   "id": "d26505df",
   "metadata": {},
   "source": [
    "****"
   ]
  },
  {
   "cell_type": "markdown",
   "id": "0bd5d134",
   "metadata": {},
   "source": [
    "# Question 19   (Data Types)"
   ]
  },
  {
   "cell_type": "markdown",
   "id": "1e0208c6-0a38-463b-af91-f612dd0302c5",
   "metadata": {},
   "source": [
    "What is the expected output of the following code?\n",
    "```\n",
    "print(type(1J))\n",
    "```\n",
    "A. ```<type 'float'>```\n",
    "\n",
    "B. ```<type 'dict'>```\n",
    "\n",
    "C. ```<type 'complex'>```\n",
    "\n",
    "D. ```<type 'unicode'>```"
   ]
  },
  {
   "cell_type": "markdown",
   "id": "0cf6c901",
   "metadata": {},
   "source": [
    "# Solution 19"
   ]
  },
  {
   "cell_type": "code",
   "execution_count": 66,
   "id": "0943a1a7",
   "metadata": {},
   "outputs": [
    {
     "name": "stdout",
     "output_type": "stream",
     "text": [
      "<class 'complex'>\n"
     ]
    }
   ],
   "source": [
    "print(type(1J))"
   ]
  },
  {
   "cell_type": "code",
   "execution_count": 67,
   "id": "62c6fc88",
   "metadata": {},
   "outputs": [],
   "source": [
    "# Solución\n",
    "# C"
   ]
  },
  {
   "cell_type": "markdown",
   "id": "8d5bae36",
   "metadata": {},
   "source": [
    "**Explicación: números complejos/imaginarios**"
   ]
  },
  {
   "cell_type": "code",
   "execution_count": 68,
   "id": "99293f75",
   "metadata": {},
   "outputs": [
    {
     "name": "stdout",
     "output_type": "stream",
     "text": [
      "<class 'int'>\n"
     ]
    }
   ],
   "source": [
    "print(type(2))"
   ]
  },
  {
   "cell_type": "code",
   "execution_count": 69,
   "id": "9dd63581",
   "metadata": {},
   "outputs": [],
   "source": [
    "# print(type(1I))\n",
    "\n",
    "# SyntaxError: invalid syntax"
   ]
  },
  {
   "cell_type": "code",
   "execution_count": 70,
   "id": "c225f4d9",
   "metadata": {},
   "outputs": [
    {
     "name": "stdout",
     "output_type": "stream",
     "text": [
      "<class 'complex'>\n"
     ]
    }
   ],
   "source": [
    "print(type(3+4J))"
   ]
  },
  {
   "cell_type": "code",
   "execution_count": 71,
   "id": "975c195f",
   "metadata": {},
   "outputs": [
    {
     "data": {
      "text/plain": [
       "(3+2j)"
      ]
     },
     "execution_count": 71,
     "metadata": {},
     "output_type": "execute_result"
    }
   ],
   "source": [
    "3+2J"
   ]
  },
  {
   "cell_type": "code",
   "execution_count": 72,
   "id": "abbe388f",
   "metadata": {},
   "outputs": [
    {
     "data": {
      "text/plain": [
       "(7+5j)"
      ]
     },
     "execution_count": 72,
     "metadata": {},
     "output_type": "execute_result"
    }
   ],
   "source": [
    "(3+2J)+(4+3J)   \n",
    "\n",
    "# se suman las partes reales por un lado\n",
    "# se suman las partes imaginarias por el otro"
   ]
  },
  {
   "cell_type": "markdown",
   "id": "47bd6d7c",
   "metadata": {},
   "source": [
    "****"
   ]
  },
  {
   "cell_type": "markdown",
   "id": "72b3f0f9",
   "metadata": {},
   "source": [
    "# Question 20 (Data Types)"
   ]
  },
  {
   "cell_type": "markdown",
   "id": "b0b6690e-98c2-4ec2-8938-d866e9739b75",
   "metadata": {},
   "source": [
    "You want to print each name of the list on a new line.\n",
    "```\n",
    "data = ['Peter', 'Paul', 'Mary', 'Jane']\n",
    "```\n",
    "Which statement will you use?\n",
    "\n",
    "A. ```print(data.join('%s\\n', names))```\n",
    "\n",
    "B. ```print(data.join('\\n'))```\n",
    "\n",
    "C. ```print(data.concatenate('\\n'))```\n",
    "\n",
    "D. ```print('\\n'.join(data))```"
   ]
  },
  {
   "cell_type": "markdown",
   "id": "984fccd3",
   "metadata": {},
   "source": [
    "# Solution 20"
   ]
  },
  {
   "cell_type": "code",
   "execution_count": 74,
   "id": "3ffea330",
   "metadata": {},
   "outputs": [
    {
     "data": {
      "text/plain": [
       "['Peter', 'Paul', 'Mary', 'Jane']"
      ]
     },
     "execution_count": 74,
     "metadata": {},
     "output_type": "execute_result"
    }
   ],
   "source": [
    "data = ['Peter', 'Paul', 'Mary', 'Jane']\n",
    "data"
   ]
  },
  {
   "cell_type": "code",
   "execution_count": 75,
   "id": "5cbf7026",
   "metadata": {},
   "outputs": [],
   "source": [
    "# A\n",
    "# print(data.join('%s\\n', names))\n",
    "\n",
    "# AttributeError: 'list' object has no attribute 'join'"
   ]
  },
  {
   "cell_type": "code",
   "execution_count": 76,
   "id": "2de2187e",
   "metadata": {},
   "outputs": [],
   "source": [
    "# B\n",
    "# print(data.join('\\n'))\n",
    "\n",
    "# AttributeError: 'list' object has no attribute 'join'"
   ]
  },
  {
   "cell_type": "code",
   "execution_count": 77,
   "id": "0e9528c5",
   "metadata": {},
   "outputs": [],
   "source": [
    "# C\n",
    "# print(data.concatenate('\\n'))\n",
    "\n",
    "# AttributeError: 'list' object has no attribute 'concatenate'"
   ]
  },
  {
   "cell_type": "code",
   "execution_count": 78,
   "id": "8fc758ef",
   "metadata": {},
   "outputs": [
    {
     "name": "stdout",
     "output_type": "stream",
     "text": [
      "Peter\n",
      "Paul\n",
      "Mary\n",
      "Jane\n"
     ]
    }
   ],
   "source": [
    "# D\n",
    "print('\\n'.join(data))"
   ]
  },
  {
   "cell_type": "code",
   "execution_count": 79,
   "id": "3ef71cca",
   "metadata": {},
   "outputs": [],
   "source": [
    "# Solución\n",
    "# D"
   ]
  },
  {
   "cell_type": "markdown",
   "id": "84f09098",
   "metadata": {},
   "source": [
    "****"
   ]
  },
  {
   "cell_type": "markdown",
   "id": "a8141556",
   "metadata": {},
   "source": [
    "# Question 21  (Functions)"
   ]
  },
  {
   "cell_type": "markdown",
   "id": "371c6625-fd05-4ae3-aae3-5973bccfd9b3",
   "metadata": {},
   "source": [
    "What is the expected output of the following code?\n",
    "\n",
    "```\n",
    "\n",
    "def func(x, y=2):\n",
    "    num = 1\n",
    "    for i in range(y):\n",
    "        num = num * x\n",
    "    return num\n",
    " \n",
    "print(func(4))\n",
    "print(func(4, 4))\n",
    "```\n",
    "\n",
    "\n",
    "A.\n",
    "```\n",
    "16\n",
    "256\n",
    "```\n",
    "\n",
    "B.\n",
    "```\n",
    "8\n",
    "16\n",
    "```\n",
    "\n",
    "C.\n",
    "```\n",
    "128\n",
    "512\n",
    "```\n",
    "\n",
    "D.\n",
    "```\n",
    "32\n",
    "1024\n",
    "```\n"
   ]
  },
  {
   "cell_type": "markdown",
   "id": "b9614646",
   "metadata": {},
   "source": [
    "# Solution 21"
   ]
  },
  {
   "cell_type": "code",
   "execution_count": 81,
   "id": "32bfbae7",
   "metadata": {},
   "outputs": [
    {
     "name": "stdout",
     "output_type": "stream",
     "text": [
      "16\n",
      "256\n"
     ]
    }
   ],
   "source": [
    "def func(x, y=2):\n",
    "    num = 1\n",
    "    for i in range(y):\n",
    "        num = num * x\n",
    "    return num\n",
    " \n",
    "print(func(4))\n",
    "# x=4, y=2\n",
    "# range(2) => 0,1\n",
    "# num = num * x\n",
    "# num = 1   * 4 => num = 4   (0)\n",
    "# num = 4   * 4 => num = 16  (1)\n",
    "# ===> 16 ===> A única opción posible\n",
    "\n",
    "# PERO HAREMOS LA SEGUNDA LLAMADA IGUALMENTE, Por confirmar.\n",
    "\n",
    "print(func(4, 4))\n",
    "# x=4, y=4\n",
    "# range(4) => 0,1,2,3\n",
    "# num = num * x\n",
    "# num =  1   * 4 => num =  4    (0)\n",
    "# num =  4   * 4 => num =  16   (1)\n",
    "# num = 16   * 4 => num =  64   (2)\n",
    "# num = 64   * 4 => num = 256   (3)\n",
    "# ===> 256 ===> A es la única opción posible"
   ]
  },
  {
   "cell_type": "code",
   "execution_count": 82,
   "id": "714eafbd",
   "metadata": {},
   "outputs": [],
   "source": [
    "# Solución\n",
    "# A"
   ]
  },
  {
   "cell_type": "markdown",
   "id": "bb19d437",
   "metadata": {},
   "source": [
    "****"
   ]
  },
  {
   "cell_type": "markdown",
   "id": "8d972d0a",
   "metadata": {},
   "source": [
    "# Question 22  (Functions)"
   ]
  },
  {
   "cell_type": "markdown",
   "id": "30caa4c6-0319-46bc-b1cd-52051f982042",
   "metadata": {},
   "source": [
    "What is the expected output of the following code?\n",
    "```\n",
    "def test(x, y=23, z=10):\n",
    "    print('x is', x, 'and y is', y, 'and z is', z)\n",
    " \n",
    "test(3, 7)\n",
    "test(42, z=24)\n",
    "test(z=60, x=100)\n",
    "```\n",
    "A. \n",
    "```\n",
    "x is 7 and y is 3 and z is 10\n",
    "x is 42 and y is 23 and z is 24\n",
    "x is 23 and y is 100 and z is 60\n",
    "```\n",
    "B. \n",
    "```\n",
    "x is 3 and y is 7 and z is 10\n",
    "x is 23 and y is 42 and z is 24\n",
    "x is 60 and y is 100 and z is 23\n",
    "```\n",
    "C. \n",
    "```The code is erroneous```\n",
    "\n",
    "D. \n",
    "```\n",
    "x is 3 and y is 7 and z is 10\n",
    "x is 42 and y is 23 and z is 24\n",
    "x is 100 and y is 23 and z is 60\n",
    "```"
   ]
  },
  {
   "cell_type": "markdown",
   "id": "46ee0b1f",
   "metadata": {},
   "source": [
    "# Solution 22"
   ]
  },
  {
   "cell_type": "code",
   "execution_count": 84,
   "id": "fa1f1c41",
   "metadata": {},
   "outputs": [],
   "source": [
    "def test(x, y=23, z=10):\n",
    "    print('x =', x, ', y =', y, ', z =', z)"
   ]
  },
  {
   "cell_type": "code",
   "execution_count": 85,
   "id": "34aad07f",
   "metadata": {},
   "outputs": [
    {
     "name": "stdout",
     "output_type": "stream",
     "text": [
      "x = 3 , y = 7 , z = 10\n"
     ]
    }
   ],
   "source": [
    "test(3, 7)           # 3, 7, 10"
   ]
  },
  {
   "cell_type": "code",
   "execution_count": 86,
   "id": "1120617c",
   "metadata": {},
   "outputs": [
    {
     "name": "stdout",
     "output_type": "stream",
     "text": [
      "x = 42 , y = 23 , z = 24\n"
     ]
    }
   ],
   "source": [
    "test(42, z=24)       # 42, 23, 24"
   ]
  },
  {
   "cell_type": "code",
   "execution_count": 87,
   "id": "98273d58",
   "metadata": {},
   "outputs": [
    {
     "name": "stdout",
     "output_type": "stream",
     "text": [
      "x = 100 , y = 23 , z = 60\n"
     ]
    }
   ],
   "source": [
    "test(z=60, x=100)    # 100, 23, 60"
   ]
  },
  {
   "cell_type": "code",
   "execution_count": 88,
   "id": "4d06647e",
   "metadata": {},
   "outputs": [],
   "source": [
    "# Solución\n",
    "# D"
   ]
  },
  {
   "cell_type": "markdown",
   "id": "34ce9ce2",
   "metadata": {},
   "source": [
    "****"
   ]
  },
  {
   "cell_type": "markdown",
   "id": "1b83f968",
   "metadata": {},
   "source": [
    "# Question 23  (Operators)"
   ]
  },
  {
   "cell_type": "markdown",
   "id": "948916fb-7a8c-4ddd-98de-23697ea01fbc",
   "metadata": {},
   "source": [
    "What is the expected output of the following code?\n",
    "```\n",
    "x = True\n",
    "y = False\n",
    "z = False\n",
    " \n",
    "if x or y and z:\n",
    "    print('TRUE')\n",
    "else:\n",
    "    print('FALSE')\n",
    "```\n",
    "\n",
    "A. ```TRUE```\n",
    "\n",
    "B. ```FALSE```\n",
    "\n",
    "C. None of the above\n",
    "\n",
    "D. The code is erroneous"
   ]
  },
  {
   "cell_type": "markdown",
   "id": "885a7252",
   "metadata": {},
   "source": [
    "# Solution 23"
   ]
  },
  {
   "cell_type": "code",
   "execution_count": 90,
   "id": "fa6aa98b",
   "metadata": {},
   "outputs": [
    {
     "name": "stdout",
     "output_type": "stream",
     "text": [
      "TRUE\n"
     ]
    }
   ],
   "source": [
    "x = True\n",
    "y = False\n",
    "z = False\n",
    " \n",
    "if x or y and z:     # True or (False and False)\n",
    "    print('TRUE')    # TRUE\n",
    "else:\n",
    "    print('FALSE')"
   ]
  },
  {
   "cell_type": "code",
   "execution_count": 91,
   "id": "7f7b10d6",
   "metadata": {},
   "outputs": [],
   "source": [
    "# Solución\n",
    "# A"
   ]
  },
  {
   "cell_type": "markdown",
   "id": "5666bcd6",
   "metadata": {},
   "source": [
    "****"
   ]
  },
  {
   "cell_type": "markdown",
   "id": "b24e9681",
   "metadata": {},
   "source": [
    "# Question 24  (Data Aggregates) "
   ]
  },
  {
   "cell_type": "markdown",
   "id": "17fa4b14-d5fa-4aa6-9f51-10d751f77ec9",
   "metadata": {},
   "source": [
    "What is the expected output of the following code?\n",
    "```\n",
    "nums = [1, 2, 3]\n",
    "data = ('Peter',) * (len(nums) - nums[::-1][0])\n",
    "print(data)\n",
    "```\n",
    "\n",
    "A. ```()```\n",
    "\n",
    "B. ```('Peter', 'Peter')```\n",
    "\n",
    "C. ```'Peter')```\n",
    "\n",
    "D. ```PeterPeter```\n",
    "\n",
    "E. The code is erroneous"
   ]
  },
  {
   "cell_type": "markdown",
   "id": "d889ff36",
   "metadata": {},
   "source": [
    "# Solution 24"
   ]
  },
  {
   "cell_type": "code",
   "execution_count": 93,
   "id": "1b56c806",
   "metadata": {},
   "outputs": [],
   "source": [
    "nums = [1, 2, 3]"
   ]
  },
  {
   "cell_type": "code",
   "execution_count": 94,
   "id": "f2a49624",
   "metadata": {},
   "outputs": [
    {
     "data": {
      "text/plain": [
       "[3, 2, 1]"
      ]
     },
     "execution_count": 94,
     "metadata": {},
     "output_type": "execute_result"
    }
   ],
   "source": [
    "nums[::-1]"
   ]
  },
  {
   "cell_type": "code",
   "execution_count": 95,
   "id": "a79b37c6",
   "metadata": {},
   "outputs": [
    {
     "data": {
      "text/plain": [
       "3"
      ]
     },
     "execution_count": 95,
     "metadata": {},
     "output_type": "execute_result"
    }
   ],
   "source": [
    "nums[::-1][0]"
   ]
  },
  {
   "cell_type": "code",
   "execution_count": 4,
   "id": "0037bbff",
   "metadata": {},
   "outputs": [
    {
     "name": "stdout",
     "output_type": "stream",
     "text": [
      "()\n"
     ]
    }
   ],
   "source": [
    "nums = [1, 2, 3]\n",
    "data = ('Peter',)  * (len(nums) - nums[::-1][0])\n",
    "# data = ('Peter') *     3      -       3\n",
    "# data = ('Peter') *            0\n",
    "print(data) # ()"
   ]
  },
  {
   "cell_type": "code",
   "execution_count": 97,
   "id": "229666c2",
   "metadata": {},
   "outputs": [],
   "source": [
    "# Solución\n",
    "# A"
   ]
  },
  {
   "cell_type": "markdown",
   "id": "b92c75e6",
   "metadata": {},
   "source": [
    "****"
   ]
  },
  {
   "cell_type": "markdown",
   "id": "9d643951",
   "metadata": {},
   "source": [
    "# Question 25  (Error Handling)"
   ]
  },
  {
   "cell_type": "markdown",
   "id": "c92abd3e-fda0-4865-95fd-bf8adad66e5c",
   "metadata": {},
   "source": [
    "What is the expected behavior of the following program?\n",
    "\n",
    "```\n",
    "foo = (1, 2, 3)\n",
    "foo.index(0)\n",
    "```\n",
    "\n",
    "A. The program will cause a ```SyntaxError``` exception\n",
    "\n",
    "B. The program will cause a ```ValueError``` exception\n",
    "\n",
    "C. The program will output ```1``` to the screen\n",
    "\n",
    "D. The program will cause a ```TypeErro``` exception\n",
    "\n",
    "E. The program will cause a ```AttributeError``` exception"
   ]
  },
  {
   "cell_type": "markdown",
   "id": "2be9bfb2",
   "metadata": {},
   "source": [
    "# Solution 25"
   ]
  },
  {
   "cell_type": "code",
   "execution_count": 99,
   "id": "1f830609",
   "metadata": {},
   "outputs": [
    {
     "data": {
      "text/plain": [
       "'foo = (1, 2, 3)\\nfoo.index(0)'"
      ]
     },
     "execution_count": 99,
     "metadata": {},
     "output_type": "execute_result"
    }
   ],
   "source": [
    "\"\"\"foo = (1, 2, 3)\n",
    "foo.index(0)\"\"\"\n",
    "\n",
    "\n",
    "# ValueError: tuple.index(x): x not in tuple"
   ]
  },
  {
   "cell_type": "code",
   "execution_count": 100,
   "id": "65133626",
   "metadata": {},
   "outputs": [],
   "source": [
    "# Solución\n",
    "# B"
   ]
  },
  {
   "cell_type": "code",
   "execution_count": 101,
   "id": "3e7fa5e6",
   "metadata": {},
   "outputs": [],
   "source": [
    "# foo.index?"
   ]
  },
  {
   "cell_type": "code",
   "execution_count": 102,
   "id": "9d414ae5",
   "metadata": {},
   "outputs": [
    {
     "name": "stdout",
     "output_type": "stream",
     "text": [
      "0\n",
      "1\n",
      "2\n"
     ]
    }
   ],
   "source": [
    "foo = (1, 2, 3)\n",
    "\n",
    "print(foo.index(1)) \n",
    "# index donde está el 1\n",
    "\n",
    "print(foo.index(2)) \n",
    "# index donde está el 2\n",
    "\n",
    "print(foo.index(3))\n",
    "# index donde está el 3"
   ]
  },
  {
   "cell_type": "code",
   "execution_count": 103,
   "id": "b74c3e5b",
   "metadata": {},
   "outputs": [
    {
     "data": {
      "text/plain": [
       "2"
      ]
     },
     "execution_count": 103,
     "metadata": {},
     "output_type": "execute_result"
    }
   ],
   "source": [
    "# otro ejemplo\n",
    "\n",
    "vocales = ('a', 'e', 'i', 'o', 'u')\n",
    "\n",
    "# index de una vocal\n",
    "# ejemplo 'i'\n",
    "\n",
    "index = vocales.index('i')\n",
    "index"
   ]
  },
  {
   "cell_type": "markdown",
   "id": "a3fc7d26",
   "metadata": {},
   "source": [
    "****"
   ]
  },
  {
   "cell_type": "markdown",
   "id": "dfbc9a98",
   "metadata": {},
   "source": [
    "# Question 26  (Control Flow)"
   ]
  },
  {
   "cell_type": "markdown",
   "id": "c4fe33e0-4794-4739-ad48-2f19a3632474",
   "metadata": {},
   "source": [
    "What is the expected output of the following code?\n",
    "```\n",
    "print(len([i for i in range(0, -2)]))\n",
    "```\n",
    "\n",
    "A. ```3```\n",
    "\n",
    "B. ```0```\n",
    "\n",
    "C. ```2```\n",
    "\n",
    "D. ```1```"
   ]
  },
  {
   "cell_type": "markdown",
   "id": "20db0835",
   "metadata": {},
   "source": [
    "# Solution 26"
   ]
  },
  {
   "cell_type": "code",
   "execution_count": 105,
   "id": "7094e77a",
   "metadata": {},
   "outputs": [
    {
     "data": {
      "text/plain": [
       "[]"
      ]
     },
     "execution_count": 105,
     "metadata": {},
     "output_type": "execute_result"
    }
   ],
   "source": [
    "[i for i in range(0, -2)]   # no hay elementos en ese rango"
   ]
  },
  {
   "cell_type": "code",
   "execution_count": 106,
   "id": "ff6bf5a5",
   "metadata": {},
   "outputs": [
    {
     "data": {
      "text/plain": [
       "array([], dtype=int64)"
      ]
     },
     "execution_count": 106,
     "metadata": {},
     "output_type": "execute_result"
    }
   ],
   "source": [
    "import numpy as np\n",
    "np.arange(0,-2)"
   ]
  },
  {
   "cell_type": "code",
   "execution_count": 107,
   "id": "2d52ca23",
   "metadata": {},
   "outputs": [
    {
     "name": "stdout",
     "output_type": "stream",
     "text": [
      "0\n"
     ]
    }
   ],
   "source": [
    "print(len([i for i in range(0, -2)]))\n",
    "\n",
    "# 0"
   ]
  },
  {
   "cell_type": "code",
   "execution_count": 108,
   "id": "c881e267",
   "metadata": {},
   "outputs": [],
   "source": [
    "# Solución\n",
    "# B"
   ]
  },
  {
   "cell_type": "markdown",
   "id": "80f6a783",
   "metadata": {},
   "source": [
    "****"
   ]
  },
  {
   "cell_type": "markdown",
   "id": "389dadab",
   "metadata": {},
   "source": [
    "# Question 27  (Control Flow) "
   ]
  },
  {
   "cell_type": "markdown",
   "id": "d75e9399-be27-45a4-8e7c-36e7133cab1e",
   "metadata": {},
   "source": [
    "The ABC company is creating a program\n",
    "that allows customers to log the number of miles biked.\n",
    "The program will send messages based on how many miles the customer logs.\n",
    "You create the following Python code.\n",
    "```\n",
    "???\n",
    "    name = input('What is your name? ')\n",
    "    return name\n",
    " \n",
    "???\n",
    "    calories = miles * calories_per_mile\n",
    "    return calories\n",
    " \n",
    "distance = int(input('How many miles did you bike this week? '))\n",
    "burn_rate = 50\n",
    "biker = get_name()\n",
    "calories_burned = calc_calories(distance, burn_rate)\n",
    "print(biker + ', you burned about', calories_burned, 'calories.')\n",
    "```\n",
    "What would you insert instead of ??? and ???\n",
    "\n",
    "\n",
    "A. ```def calc_calories(miles, burn_rate):```\n",
    "\n",
    "B. ```def calc_calories(miles, calories_per_mile):```\n",
    "\n",
    "C. ```def calc_calories():```\n",
    "\n",
    "D. ```def get_name():```\n",
    "\n",
    "E. ```def get_name(name):```\n",
    "\n",
    "F. ```def get_name(biker):```"
   ]
  },
  {
   "cell_type": "markdown",
   "id": "a0d2edba",
   "metadata": {},
   "source": [
    "# Solution 27"
   ]
  },
  {
   "cell_type": "code",
   "execution_count": 110,
   "id": "a99598f4",
   "metadata": {},
   "outputs": [
    {
     "name": "stdout",
     "output_type": "stream",
     "text": [
      "How many miles did you bike this week? 50\n",
      "What is your name? jose\n",
      "jose, you burned about 2500 calories.\n"
     ]
    }
   ],
   "source": [
    "# ???\n",
    "def get_name():\n",
    "    name = input('What is your name? ')\n",
    "    return name\n",
    "\n",
    "# ???\n",
    "def calc_calories(miles, calories_per_mile):\n",
    "    calories = miles * calories_per_mile\n",
    "    return calories\n",
    " \n",
    "\n",
    "distance = int(input('How many miles did you bike this week? '))\n",
    "burn_rate = 50\n",
    "biker = get_name()\n",
    "calories_burned = calc_calories(distance, burn_rate)\n",
    "print(biker + ', you burned about', calories_burned, 'calories.')"
   ]
  },
  {
   "cell_type": "code",
   "execution_count": 111,
   "id": "b2a2cb8b",
   "metadata": {},
   "outputs": [],
   "source": [
    "# Solución\n",
    "# B y D"
   ]
  },
  {
   "cell_type": "markdown",
   "id": "31ac7c94",
   "metadata": {},
   "source": [
    "****"
   ]
  },
  {
   "cell_type": "markdown",
   "id": "714d27a5",
   "metadata": {},
   "source": [
    "# Question 28 (Control Flow)"
   ]
  },
  {
   "cell_type": "markdown",
   "id": "e18b086c-d9c0-4547-b77a-a4faf04765e7",
   "metadata": {},
   "source": [
    "How many stars (*) will the following code output to the screen?\n",
    "\n",
    "```\n",
    "n = 0\n",
    "if n > 0:\n",
    "    print(\"*\")\n",
    "elif n == True:\n",
    "    print(\"**\")\n",
    "else:\n",
    "    print(\"***\")\n",
    "```\n",
    "\n",
    "\n",
    "A. one\n",
    "\n",
    "B. two\n",
    "\n",
    "C. three\n",
    "\n",
    "D. six"
   ]
  },
  {
   "cell_type": "markdown",
   "id": "0b6bd346",
   "metadata": {},
   "source": [
    "# Solution 28"
   ]
  },
  {
   "cell_type": "code",
   "execution_count": 113,
   "id": "6ff9aebf",
   "metadata": {},
   "outputs": [
    {
     "name": "stdout",
     "output_type": "stream",
     "text": [
      "***\n"
     ]
    }
   ],
   "source": [
    "n = 0\n",
    "if n > 0:\n",
    "    print(\"*\")\n",
    "elif n == True:\n",
    "    print(\"**\")\n",
    "else:\n",
    "    print(\"***\")  # ejecuta 3 *"
   ]
  },
  {
   "cell_type": "code",
   "execution_count": 114,
   "id": "8831b089",
   "metadata": {},
   "outputs": [],
   "source": [
    "# Solución\n",
    "# C"
   ]
  },
  {
   "cell_type": "markdown",
   "id": "55de30e1",
   "metadata": {},
   "source": [
    "****"
   ]
  },
  {
   "cell_type": "markdown",
   "id": "090b502d",
   "metadata": {},
   "source": [
    "# Question 29  (Data Types)"
   ]
  },
  {
   "cell_type": "markdown",
   "id": "cf23c4cb-01b2-4342-82aa-081d7024f5c4",
   "metadata": {},
   "source": [
    "The most important difference between integer and floating-point numbers lies in the fact that:\n",
    "\n",
    "\n",
    "A. The are stored differently in the computer memory\n",
    "\n",
    "B. they cannot be used simultaneously\n",
    "\n",
    "C. integers cannot be literal, while floats can"
   ]
  },
  {
   "cell_type": "markdown",
   "id": "b67cdf58",
   "metadata": {},
   "source": [
    "# Solution 29"
   ]
  },
  {
   "cell_type": "code",
   "execution_count": 116,
   "id": "72764ef0",
   "metadata": {},
   "outputs": [],
   "source": [
    "# Solución\n",
    "# A"
   ]
  },
  {
   "cell_type": "markdown",
   "id": "613fcc28",
   "metadata": {},
   "source": [
    "****"
   ]
  },
  {
   "cell_type": "markdown",
   "id": "7ff79a5d",
   "metadata": {},
   "source": [
    "# Question 30 (Functions)"
   ]
  },
  {
   "cell_type": "markdown",
   "id": "aa29ff78-68c2-4a15-9ade-107ad68b3f5f",
   "metadata": {},
   "source": [
    "What is the expected output of the following code?\n",
    "\n",
    "```\n",
    "def func(item):\n",
    "    item += [1]\n",
    " \n",
    "data = [1, 2, 3, 4]\n",
    "func(data)\n",
    "print(len(data))\n",
    "```\n",
    "\n",
    "A. ```2```\n",
    "\n",
    "B. The code is erroneous\n",
    "\n",
    "C. ```5```\n",
    "\n",
    "D. ```4```"
   ]
  },
  {
   "cell_type": "markdown",
   "id": "456270bf",
   "metadata": {},
   "source": [
    "# Solution 30"
   ]
  },
  {
   "cell_type": "code",
   "execution_count": 118,
   "id": "7651c39d",
   "metadata": {},
   "outputs": [
    {
     "data": {
      "text/plain": [
       "[1, 2, 3, 4, 1]"
      ]
     },
     "execution_count": 118,
     "metadata": {},
     "output_type": "execute_result"
    }
   ],
   "source": [
    "# Apendizado de listas  (otra posible opción)\n",
    "\n",
    "[1, 2, 3, 4] + [1]"
   ]
  },
  {
   "cell_type": "code",
   "execution_count": 119,
   "id": "7832d213",
   "metadata": {},
   "outputs": [
    {
     "name": "stdout",
     "output_type": "stream",
     "text": [
      "5\n"
     ]
    }
   ],
   "source": [
    "def func(item):\n",
    "    item += [1]            # item = item + [1]\n",
    " \n",
    " \n",
    "data = [1, 2, 3, 4]\n",
    "func(data)                 # data = [1, 2, 3, 4] + [1]\n",
    "\n",
    "# data = [1, 2, 3, 4, 1]\n",
    "\n",
    "print(len(data))           # 5"
   ]
  },
  {
   "cell_type": "code",
   "execution_count": 120,
   "id": "0bd69c7d",
   "metadata": {},
   "outputs": [],
   "source": [
    "# Solución\n",
    "# C"
   ]
  },
  {
   "cell_type": "markdown",
   "id": "5bbf4a14",
   "metadata": {},
   "source": [
    "****"
   ]
  },
  {
   "cell_type": "markdown",
   "id": "3c8fa21f",
   "metadata": {},
   "source": [
    "*Gracias por la atención*\n",
    "\n",
    "*Isabel Maniega*"
   ]
  }
 ],
 "metadata": {
  "kernelspec": {
   "display_name": "Python 3 (ipykernel)",
   "language": "python",
   "name": "python3"
  },
  "language_info": {
   "codemirror_mode": {
    "name": "ipython",
    "version": 3
   },
   "file_extension": ".py",
   "mimetype": "text/x-python",
   "name": "python",
   "nbconvert_exporter": "python",
   "pygments_lexer": "ipython3",
   "version": "3.8.19"
  }
 },
 "nbformat": 4,
 "nbformat_minor": 5
}

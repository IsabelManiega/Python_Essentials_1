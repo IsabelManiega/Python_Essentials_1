{
 "cells": [
  {
   "cell_type": "markdown",
   "id": "93d63b59",
   "metadata": {},
   "source": [
    "*Contenido creado por: Isabel Maniega*"
   ]
  },
  {
   "cell_type": "markdown",
   "id": "fa565dd8",
   "metadata": {},
   "source": [
    "****"
   ]
  },
  {
   "cell_type": "markdown",
   "id": "a4555ca7",
   "metadata": {},
   "source": [
    "# Question 1 "
   ]
  },
  {
   "cell_type": "markdown",
   "id": "7350bfc4-37a0-4e10-b644-a14328e0cfb5",
   "metadata": {},
   "source": [
    "Select the true statements about the try-except block in relation to the following example.\n",
    "\n",
    "```\n",
    "try:\n",
    "    # Some code is here...\n",
    "except:\n",
    "    # Some code is here...\n",
    "```\n",
    "\n",
    "(Select three answers.)\n",
    "\n",
    "\n",
    "A. \n",
    "If you suspect that a snippet may raise an exception,\n",
    "you should place it in the try block\n",
    "\n",
    "B. \n",
    "The code that follows the except statement will be executed\n",
    "if the code in the try clause runs into an error\n",
    "\n",
    "C. \n",
    "The code that follows the try statement will be executed\n",
    "if the code in the except clause runs into an error\n",
    "\n",
    "D. \n",
    "if there is a syntax error in the code located in the try block,\n",
    "the except branch will not handle it,\n",
    "and a SyntaxError exception will be raised instead"
   ]
  },
  {
   "cell_type": "markdown",
   "id": "15cca6af",
   "metadata": {},
   "source": [
    "# Solution 1"
   ]
  },
  {
   "cell_type": "code",
   "execution_count": null,
   "id": "13648a96",
   "metadata": {},
   "outputs": [],
   "source": [
    "# Solución"
   ]
  },
  {
   "cell_type": "markdown",
   "id": "3adc8164",
   "metadata": {},
   "source": [
    "****"
   ]
  },
  {
   "cell_type": "markdown",
   "id": "167b5041",
   "metadata": {},
   "source": [
    "# Question 2 (Basics)"
   ]
  },
  {
   "cell_type": "markdown",
   "id": "2fecc6d7-cc11-4659-9eda-a81d3f87e557",
   "metadata": {},
   "source": [
    "What is the expected behavior of the following program?\n",
    "\n",
    "```\n",
    "print(\"Hello!\")\n",
    "```\n",
    "\n",
    "A. The program will generate an error on the screen\n",
    "\n",
    "B. The program will output ```Hello!``` to the screen\n",
    "\n",
    "C. The program will output ```('Hello!')``` to the screen\n",
    "\n",
    "D. The program will output ```\"Hello!\"``` to the screen"
   ]
  },
  {
   "cell_type": "markdown",
   "id": "69a2d0be",
   "metadata": {},
   "source": [
    "# Solution 2"
   ]
  },
  {
   "cell_type": "code",
   "execution_count": null,
   "id": "c255117f",
   "metadata": {},
   "outputs": [],
   "source": [
    "# Solución"
   ]
  },
  {
   "cell_type": "markdown",
   "id": "1501ca57",
   "metadata": {},
   "source": [
    "****"
   ]
  },
  {
   "cell_type": "markdown",
   "id": "61071738",
   "metadata": {},
   "source": [
    "# Question 3  (Control Flow) "
   ]
  },
  {
   "cell_type": "markdown",
   "id": "5026369d-b0f1-4d0f-a2d2-491cbf9ba713",
   "metadata": {},
   "source": [
    "How many stars will the following snippet print to the monitor?\n",
    "```\n",
    "data = [[x for x in range(y)] for y in range(3)]\n",
    " \n",
    "for d in data:\n",
    "    if len(d) < 2:\n",
    "        print('*')\n",
    "```\n",
    "\n",
    "A. two\n",
    "\n",
    "B. zero\n",
    "\n",
    "C. three\n",
    "\n",
    "D. one"
   ]
  },
  {
   "cell_type": "markdown",
   "id": "6df2bae3",
   "metadata": {},
   "source": [
    "# Solution 3"
   ]
  },
  {
   "cell_type": "code",
   "execution_count": null,
   "id": "709bef60",
   "metadata": {},
   "outputs": [],
   "source": [
    "# Solución\n"
   ]
  },
  {
   "cell_type": "markdown",
   "id": "f7dd0f21",
   "metadata": {},
   "source": [
    "****"
   ]
  },
  {
   "cell_type": "markdown",
   "id": "38b1d35a",
   "metadata": {},
   "source": [
    "# Question 4  (Operators)"
   ]
  },
  {
   "cell_type": "markdown",
   "id": "d3b88a66-5cab-45e1-a6cd-06c0866ca510",
   "metadata": {},
   "source": [
    "What is the expected output of the following code?\n",
    "\n",
    "```\n",
    "print(type(1 / 2))\n",
    "```\n",
    "\n",
    "A. ```<type 'int'>```\n",
    "\n",
    "B. ```<type 'number'>```\n",
    "\n",
    "C. ```<type 'float'>```\n",
    "\n",
    "D. ```<type 'double'>```\n",
    "\n",
    "E. ```<type 'tuple'>```"
   ]
  },
  {
   "cell_type": "markdown",
   "id": "6ef0bdef",
   "metadata": {},
   "source": [
    "# Solution 4"
   ]
  },
  {
   "cell_type": "code",
   "execution_count": null,
   "id": "a3c0a284",
   "metadata": {},
   "outputs": [],
   "source": [
    "# Solución"
   ]
  },
  {
   "cell_type": "markdown",
   "id": "08335cfd",
   "metadata": {},
   "source": [
    "****"
   ]
  },
  {
   "cell_type": "markdown",
   "id": "fd673e99",
   "metadata": {},
   "source": [
    "# Question 5  (Functions)"
   ]
  },
  {
   "cell_type": "markdown",
   "id": "3ee9e210-ca28-4ade-a6aa-510b407af123",
   "metadata": {},
   "source": [
    "What is the expected output of the following code?\n",
    "\n",
    "```\n",
    "def func(x):\n",
    "    global y\n",
    "    y = x * x\n",
    "    return y\n",
    " \n",
    "func(2)\n",
    "print(y)\n",
    "```\n",
    "\n",
    "A. ```4```\n",
    "\n",
    "B. ```2```\n",
    "\n",
    "C. The code is erroneous\n",
    "\n",
    "D. ```None```"
   ]
  },
  {
   "cell_type": "markdown",
   "id": "2d0e1c55",
   "metadata": {},
   "source": [
    "# Solution 5"
   ]
  },
  {
   "cell_type": "code",
   "execution_count": null,
   "id": "e17dc18c",
   "metadata": {},
   "outputs": [],
   "source": [
    "# Solución"
   ]
  },
  {
   "cell_type": "markdown",
   "id": "6ace650b",
   "metadata": {},
   "source": [
    "****"
   ]
  },
  {
   "cell_type": "markdown",
   "id": "d5822cbe",
   "metadata": {},
   "source": [
    "# Question 6  (Operators) \n",
    "\n",
    "OJO NO ES ELEVADO A COMO CALCULADORA\n",
    "\n",
    "ES XOR"
   ]
  },
  {
   "cell_type": "markdown",
   "id": "93b632fe-d281-42bc-93bb-41a56643b2e6",
   "metadata": {},
   "source": [
    "What is the expected output of the following code?\n",
    "```\n",
    "x = 0\n",
    "y = 1\n",
    "x = x ^ y\n",
    "y = x ^ y\n",
    "y = x ^ y\n",
    "print(x, y)\n",
    "```\n",
    "\n",
    "A. ```1 0```\n",
    "\n",
    "B. ```0 0```\n",
    "\n",
    "C. ```0 1```\n",
    "\n",
    "D. ```1 1```\n",
    "\n",
    "E. The code is erroneous"
   ]
  },
  {
   "cell_type": "markdown",
   "id": "1eb0530f",
   "metadata": {},
   "source": [
    "# Solution 6"
   ]
  },
  {
   "cell_type": "code",
   "execution_count": null,
   "id": "4da3cdd2",
   "metadata": {},
   "outputs": [],
   "source": [
    "# Solución"
   ]
  },
  {
   "cell_type": "markdown",
   "id": "bf12b6cf",
   "metadata": {},
   "source": [
    "****"
   ]
  },
  {
   "cell_type": "markdown",
   "id": "bfc29f19",
   "metadata": {},
   "source": [
    "# Question 7  (Data Aggregates)"
   ]
  },
  {
   "cell_type": "markdown",
   "id": "7ef37c39-7798-433c-a2ab-962c417f5d96",
   "metadata": {},
   "source": [
    "How many elements does the L list contain?\n",
    "\n",
    "```\n",
    "L = [i for i in range(-1, -2)]\n",
    "```\n",
    "A. zero\n",
    "\n",
    "B. two\n",
    "\n",
    "C. three\n",
    "\n",
    "D. one"
   ]
  },
  {
   "cell_type": "markdown",
   "id": "48b0fcb3",
   "metadata": {},
   "source": [
    "# Solution 7"
   ]
  },
  {
   "cell_type": "code",
   "execution_count": null,
   "id": "5ec479ed",
   "metadata": {},
   "outputs": [],
   "source": [
    "# Solución"
   ]
  },
  {
   "cell_type": "markdown",
   "id": "0fdfe257",
   "metadata": {},
   "source": [
    "****"
   ]
  },
  {
   "cell_type": "markdown",
   "id": "87af2e05",
   "metadata": {},
   "source": [
    "# Question 8   (Data Types)"
   ]
  },
  {
   "cell_type": "markdown",
   "id": "f6d14663-69a2-4260-b15e-19d16e6291f1",
   "metadata": {},
   "source": [
    "Consider the following python code:\n",
    "```\n",
    "x1 = '23'\n",
    "y1 = 7\n",
    "z1 = x1 * y1\n",
    " \n",
    "x2 = 42\n",
    "y2 = 7\n",
    "z2 = x2 / y2\n",
    " \n",
    "x3 = 4.7\n",
    "y3 = 1\n",
    "z3 = x3 / y3\n",
    "```\n",
    "\n",
    "What are the data types of the variables z1, z2 and z3?\n",
    "\n",
    "\n",
    "A. ```str, float, float```\n",
    "\n",
    "B. ```str, int, int```\n",
    "\n",
    "C. ```str, int, float```\n",
    "\n",
    "D. ```str, str, str```"
   ]
  },
  {
   "cell_type": "markdown",
   "id": "d738a756",
   "metadata": {},
   "source": [
    "# Solution 8"
   ]
  },
  {
   "cell_type": "code",
   "execution_count": null,
   "id": "9b0dd509",
   "metadata": {},
   "outputs": [],
   "source": [
    "# Solución"
   ]
  },
  {
   "cell_type": "markdown",
   "id": "3b81f151",
   "metadata": {},
   "source": [
    "****"
   ]
  },
  {
   "cell_type": "markdown",
   "id": "ada0a953",
   "metadata": {},
   "source": [
    "# Question 9  (Operators)"
   ]
  },
  {
   "cell_type": "markdown",
   "id": "7bcb3799-ce04-4ea7-87ae-709a881f7708",
   "metadata": {},
   "source": [
    "The ```**``` operator ...\n",
    "\n",
    "\n",
    "A. performs floating-point multiplication\n",
    "\n",
    "B. performs exponentiation\n",
    "\n",
    "C. does not exist\n",
    "\n",
    "D. performs duplicated multiplication"
   ]
  },
  {
   "cell_type": "markdown",
   "id": "77776116",
   "metadata": {},
   "source": [
    "# Solution 9"
   ]
  },
  {
   "cell_type": "code",
   "execution_count": null,
   "id": "b7073610",
   "metadata": {},
   "outputs": [],
   "source": [
    "# Solución"
   ]
  },
  {
   "cell_type": "markdown",
   "id": "2065b257",
   "metadata": {},
   "source": [
    "****"
   ]
  },
  {
   "cell_type": "markdown",
   "id": "3e7706c0",
   "metadata": {},
   "source": [
    "# Question 10   (Data Aggregates)"
   ]
  },
  {
   "cell_type": "markdown",
   "id": "0d8c28fb-8fd5-4b61-ad63-8e2fa48b468c",
   "metadata": {},
   "source": [
    "What is the expected output of the following code?\n",
    "\n",
    "```\n",
    "data = (1,) * 3\n",
    "data[0] = 2\n",
    "print(data)\n",
    "```\n",
    "\n",
    "A. ```(2, 2, 2)```\n",
    "\n",
    "B. ```(2, 1, 1)```\n",
    "\n",
    "C. ```(1, 1, 1)```\n",
    "\n",
    "D. The code is erroneous"
   ]
  },
  {
   "cell_type": "markdown",
   "id": "4967a372",
   "metadata": {},
   "source": [
    "# Solution 10"
   ]
  },
  {
   "cell_type": "code",
   "execution_count": null,
   "id": "33bf307b",
   "metadata": {},
   "outputs": [],
   "source": [
    "# Solución"
   ]
  },
  {
   "cell_type": "markdown",
   "id": "abde3014",
   "metadata": {},
   "source": [
    "****"
   ]
  },
  {
   "cell_type": "markdown",
   "id": "17da28c4",
   "metadata": {},
   "source": [
    "# Question 11  (Data Aggregates)"
   ]
  },
  {
   "cell_type": "markdown",
   "id": "68159492-47e2-489d-bb7f-d769a035b26c",
   "metadata": {},
   "source": [
    "What is the output of the following snippet?\n",
    "```\n",
    "my_list = [3, 1, -2]\n",
    "print(my_list[my_list[-1]])\n",
    "```\n",
    "\n",
    "A. ```1```\n",
    "\n",
    "B. ```3```\n",
    "\n",
    "C. ```-2```\n",
    "\n",
    "D. ```-1```"
   ]
  },
  {
   "cell_type": "markdown",
   "id": "80ff857f",
   "metadata": {},
   "source": [
    "# Solution 11"
   ]
  },
  {
   "cell_type": "code",
   "execution_count": null,
   "id": "555dff7a",
   "metadata": {},
   "outputs": [],
   "source": [
    "# Solución"
   ]
  },
  {
   "cell_type": "markdown",
   "id": "299ff108",
   "metadata": {},
   "source": [
    "****"
   ]
  },
  {
   "cell_type": "markdown",
   "id": "44dbfac5",
   "metadata": {},
   "source": [
    "# Question 12"
   ]
  },
  {
   "cell_type": "markdown",
   "id": "80ef2f12-4aae-4301-b4c9-8917a103a494",
   "metadata": {},
   "source": [
    "What is the expected output of the following code?\n",
    "```\n",
    "def func1(a):\n",
    "    return a ** a\n",
    "  \n",
    "def func2(a):\n",
    "    return func1(a) * func1(a)\n",
    " \n",
    "print(func2(2))\n",
    "```\n",
    "A. The code is erroneous\n",
    "\n",
    "B. ```16```\n",
    "\n",
    "C. ```2```\n",
    "\n",
    "D. ```4```"
   ]
  },
  {
   "cell_type": "markdown",
   "id": "d57819b5",
   "metadata": {},
   "source": [
    "# Solution 12"
   ]
  },
  {
   "cell_type": "code",
   "execution_count": null,
   "id": "c7eb0712",
   "metadata": {},
   "outputs": [],
   "source": [
    "# Solución "
   ]
  },
  {
   "cell_type": "markdown",
   "id": "eb7caaad",
   "metadata": {},
   "source": [
    "****"
   ]
  },
  {
   "cell_type": "markdown",
   "id": "11a6e2e3",
   "metadata": {},
   "source": [
    "# Question 13  (Data Types)"
   ]
  },
  {
   "cell_type": "markdown",
   "id": "221027a1-dd2c-497f-aa2e-a76b22d07890",
   "metadata": {},
   "source": [
    "Which of the following is the output of the below Python code?\n",
    "\n",
    "```\n",
    "str = 'Hello World'\n",
    "print(str[::-1])\n",
    "```\n",
    "A. ```World```\n",
    "\n",
    "B. ```dlroW olleH```\n",
    "\n",
    "C. ```Hello World```\n",
    "\n",
    "D. ```Hello```"
   ]
  },
  {
   "cell_type": "markdown",
   "id": "45200cbc",
   "metadata": {},
   "source": [
    "# Solution 13"
   ]
  },
  {
   "cell_type": "code",
   "execution_count": null,
   "id": "2a29c072",
   "metadata": {},
   "outputs": [],
   "source": [
    "# Solución"
   ]
  },
  {
   "cell_type": "markdown",
   "id": "07b52808",
   "metadata": {},
   "source": [
    "****"
   ]
  },
  {
   "cell_type": "markdown",
   "id": "1f0766b8",
   "metadata": {},
   "source": [
    "# Question 14  (Control Flow)"
   ]
  },
  {
   "cell_type": "markdown",
   "id": "f39b0c98-c954-44b9-a00f-5afe626ee919",
   "metadata": {},
   "source": [
    "You are creating a Python script to evaluate input\n",
    "\n",
    "and check for upper and lower case.\n",
    "\n",
    "\n",
    "\n",
    "Code segment 1:\n",
    "```\n",
    "else:\n",
    "    print(name, 'is mixed case.')\n",
    "```\n",
    "Code segment 2:\n",
    "```\n",
    "else:\n",
    "    print(name, 'is lower case.')\n",
    "```\n",
    "Code segment 3:\n",
    "```\n",
    "name = input('Enter your name: ')\n",
    "```\n",
    "Code segment 4:\n",
    "```\n",
    "else:\n",
    "    print(name, 'is upper case.')\n",
    "```\n",
    "Code segment 5:\n",
    "```\n",
    "elif name.upper() == name:\n",
    "    print(name, 'is all upper case.')\n",
    "```\n",
    "Code segment 6:\n",
    "```\n",
    "if name.lower() == name:\n",
    "    print(name, 'is all lower case.')\n",
    "```\n",
    "\n",
    "Which four code segments should you use to develop the solution?\n",
    "\n",
    "A. \n",
    "```\n",
    "Code segment 3\n",
    "Code segment 6\n",
    "Code segment 5\n",
    "Code segment 1\n",
    "```\n",
    "\n",
    "B. \n",
    "```\n",
    "Code segment 1\n",
    "Code segment 3\n",
    "Code segment 5\n",
    "Code segment 6\n",
    "```\n",
    "\n",
    "C. \n",
    "```\n",
    "Code segment 3\n",
    "Code segment 6\n",
    "Code segment 5\n",
    "Code segment 4\n",
    "```\n",
    "\n",
    "D. \n",
    "```\n",
    "Code segment 3\n",
    "Code segment 6\n",
    "Code segment 5\n",
    "Code segment 2\n",
    "```"
   ]
  },
  {
   "cell_type": "markdown",
   "id": "eb41cf74",
   "metadata": {},
   "source": [
    "# Solution 14"
   ]
  },
  {
   "cell_type": "code",
   "execution_count": null,
   "id": "84078b46",
   "metadata": {},
   "outputs": [],
   "source": [
    "# Solución"
   ]
  },
  {
   "cell_type": "markdown",
   "id": "4cdfbff3",
   "metadata": {},
   "source": [
    "****"
   ]
  },
  {
   "cell_type": "markdown",
   "id": "43b694cc",
   "metadata": {},
   "source": [
    "# Question 15  (Data Aggregates)"
   ]
  },
  {
   "cell_type": "markdown",
   "id": "8c61c202-710a-4539-9ef1-1d71cf105ac1",
   "metadata": {},
   "source": [
    "What is the expected output of the following code?\n",
    "\n",
    "```\n",
    "data = {'z': 23, 'x': 7, 'y': 42}\n",
    " \n",
    "for _ in sorted(data):\n",
    "    print(data[_], end=' ')\n",
    "```\n",
    "A. ```7 23 42```\n",
    "\n",
    "B. ```7 42 23```\n",
    "\n",
    "C. ```42 23 7```"
   ]
  },
  {
   "cell_type": "markdown",
   "id": "8355eac1",
   "metadata": {},
   "source": [
    "# Solution 15"
   ]
  },
  {
   "cell_type": "code",
   "execution_count": null,
   "id": "9d31aa18",
   "metadata": {},
   "outputs": [],
   "source": [
    "# Solución"
   ]
  },
  {
   "cell_type": "markdown",
   "id": "26cc92ac",
   "metadata": {},
   "source": [
    "****"
   ]
  },
  {
   "cell_type": "markdown",
   "id": "9e7600d1",
   "metadata": {},
   "source": [
    "# Question 16 (Data Aggregates)"
   ]
  },
  {
   "cell_type": "markdown",
   "id": "78d4273d-4c71-499f-8270-109d0ed9f096",
   "metadata": {},
   "source": [
    "What is the expected output of the following code?\n",
    "\n",
    "```\n",
    "box = {}\n",
    "jars = {}\n",
    "crates = {}\n",
    " \n",
    "box['biscuit'] = 1\n",
    "box['cake'] = 3\n",
    " \n",
    "jars['jam'] = 4\n",
    " \n",
    "crates['box'] = box\n",
    "crates['jars'] = jars\n",
    " \n",
    "print(len(crates[box]))\n",
    "```\n",
    "\n",
    "A. ```1```\n",
    "\n",
    "B. ```3```\n",
    "\n",
    "C. ```4```\n",
    "\n",
    "D. The code is erroneous\n",
    "\n",
    "E. ```2```"
   ]
  },
  {
   "cell_type": "markdown",
   "id": "d15cd913",
   "metadata": {},
   "source": [
    "# Solution 16"
   ]
  },
  {
   "cell_type": "code",
   "execution_count": null,
   "id": "90be8803",
   "metadata": {},
   "outputs": [],
   "source": [
    "# Solución"
   ]
  },
  {
   "cell_type": "markdown",
   "id": "5528df70",
   "metadata": {},
   "source": [
    "****"
   ]
  },
  {
   "cell_type": "markdown",
   "id": "df94cb68",
   "metadata": {},
   "source": [
    "# Question 17  (Control Flow) "
   ]
  },
  {
   "cell_type": "markdown",
   "id": "8a03db91-0b59-4075-9b4d-8dfe7c5c014e",
   "metadata": {},
   "source": [
    "What is the expected output of the following code?\n",
    "\n",
    "```\n",
    "data = [[42, 17, 23, 13], [11, 9, 3, 7]]\n",
    "res = data[0][0]\n",
    "for da in data:\n",
    "    for d in da:\n",
    "        if res > d:\n",
    "            res = d\n",
    "\n",
    "print(res)\n",
    "```\n",
    "A. ```42```\n",
    "\n",
    "B. The code is erroneous\n",
    "\n",
    "C. ```3```\n",
    "\n",
    "D. ```13```"
   ]
  },
  {
   "cell_type": "markdown",
   "id": "652b6c03",
   "metadata": {},
   "source": [
    "# Solution 17"
   ]
  },
  {
   "cell_type": "code",
   "execution_count": null,
   "id": "fbef64b2",
   "metadata": {},
   "outputs": [],
   "source": [
    "# Solución"
   ]
  },
  {
   "cell_type": "markdown",
   "id": "98a25de0",
   "metadata": {},
   "source": [
    "****"
   ]
  },
  {
   "cell_type": "markdown",
   "id": "3c606e4f",
   "metadata": {},
   "source": [
    "# Question 18 (Operators)"
   ]
  },
  {
   "cell_type": "markdown",
   "id": "5ac538fc-f548-4bea-943a-a9c55d4784b7",
   "metadata": {},
   "source": [
    "What is the expected output of the following code?\n",
    "\n",
    "```\n",
    "list1 = ['Peter', 'Paul', 'Mary', 'Jane']\n",
    "list2 = ['Peter', 'Paul', 'Mary', 'Jane']\n",
    " \n",
    "print(list1 is not list2)\n",
    "print(list1 != list2)\n",
    " \n",
    "list1 = list2\n",
    " \n",
    "print(list1 is not list2)\n",
    "print(list1 != list2)\n",
    "```\n",
    "A. \n",
    "```\n",
    "True\n",
    "False\n",
    "False\n",
    "False\n",
    "```\n",
    "B.\n",
    "```\n",
    "True\n",
    "False\n",
    "True\n",
    "False\n",
    "```\n",
    "C. \n",
    "```\n",
    "True\n",
    "True\n",
    "False\n",
    "False\n",
    "```\n",
    "D. \n",
    "```\n",
    "True\n",
    "False\n",
    "False\n",
    "True\n",
    "```"
   ]
  },
  {
   "cell_type": "markdown",
   "id": "cbe3738f",
   "metadata": {},
   "source": [
    "# Solution 18"
   ]
  },
  {
   "cell_type": "code",
   "execution_count": null,
   "id": "0c8187f1",
   "metadata": {},
   "outputs": [],
   "source": [
    "# Solución"
   ]
  },
  {
   "cell_type": "markdown",
   "id": "cf4381a2",
   "metadata": {},
   "source": [
    "****"
   ]
  },
  {
   "cell_type": "markdown",
   "id": "3f896908",
   "metadata": {},
   "source": [
    "# Question 19  (Functions)  "
   ]
  },
  {
   "cell_type": "markdown",
   "id": "c29ca1af-9d99-4a46-88d0-85286140d66b",
   "metadata": {},
   "source": [
    "Which of the literals below is not a valid function name?\n",
    "\n",
    "A. ```Func_1_tion```\n",
    "\n",
    "B. ```Function1```\n",
    "\n",
    "C. ```_function1```\n",
    "\n",
    "D. ```1function```\n",
    "\n",
    "E. ```Function_1```"
   ]
  },
  {
   "cell_type": "markdown",
   "id": "232c1936",
   "metadata": {},
   "source": [
    "# Solution 19"
   ]
  },
  {
   "cell_type": "code",
   "execution_count": null,
   "id": "7e6305b8",
   "metadata": {},
   "outputs": [],
   "source": [
    "# Solución"
   ]
  },
  {
   "cell_type": "markdown",
   "id": "247c1047",
   "metadata": {},
   "source": [
    "****"
   ]
  },
  {
   "cell_type": "markdown",
   "id": "a0821b1d",
   "metadata": {},
   "source": [
    "# Question 20  (Functions)"
   ]
  },
  {
   "cell_type": "markdown",
   "id": "1d2fad63-bb9b-49cc-b9be-18c652991c07",
   "metadata": {},
   "source": [
    "What is the expected output of the following code?\n",
    "\n",
    "```\n",
    "def get_names():\n",
    "    names = ['Peter', 'Paul', 'Mary', 'Jane', 'Steve']\n",
    "    return names[2:]\n",
    " \n",
    "def update_names(names):\n",
    "    res = []\n",
    "    for name in names:\n",
    "        res.append(name[:3].upper())\n",
    "    return res\n",
    " \n",
    "print(update_names(get_names()))\n",
    "```\n",
    "A. ```['JAN', 'STE']```\n",
    "\n",
    "B. ```['JA', 'ST']```\n",
    "\n",
    "C. ```['MAR', 'JAN', 'STE']```\n",
    "\n",
    "D. ```['MA', 'JA', 'ST']```"
   ]
  },
  {
   "cell_type": "markdown",
   "id": "d7b9edb4",
   "metadata": {},
   "source": [
    "# Solution 20"
   ]
  },
  {
   "cell_type": "code",
   "execution_count": null,
   "id": "e9bebd8e",
   "metadata": {},
   "outputs": [],
   "source": [
    "# Solución "
   ]
  },
  {
   "cell_type": "markdown",
   "id": "d5e9f622",
   "metadata": {},
   "source": [
    "****"
   ]
  },
  {
   "cell_type": "markdown",
   "id": "81431c41",
   "metadata": {},
   "source": [
    "# Question 21  (Operators)"
   ]
  },
  {
   "cell_type": "markdown",
   "id": "44e54d27-b930-4aad-ae60-e98c172cf80c",
   "metadata": {},
   "source": [
    "What is the expected output of the following code?\n",
    "```\n",
    "a = 1\n",
    "b = 0\n",
    "c = a & b\n",
    "d = a | b\n",
    "e = a ^ b\n",
    "print(c + d + e)\n",
    "```\n",
    "A. ```1```\n",
    "\n",
    "B. ```2```\n",
    "\n",
    "C. ```0```\n",
    "\n",
    "D. ```3```"
   ]
  },
  {
   "cell_type": "markdown",
   "id": "d6fc851e",
   "metadata": {},
   "source": [
    "# Solution 21"
   ]
  },
  {
   "cell_type": "code",
   "execution_count": null,
   "id": "d7cc1541",
   "metadata": {},
   "outputs": [],
   "source": [
    "# Solución"
   ]
  },
  {
   "cell_type": "markdown",
   "id": "765bca13",
   "metadata": {},
   "source": [
    "****"
   ]
  },
  {
   "cell_type": "markdown",
   "id": "5d06fd5f",
   "metadata": {},
   "source": [
    "# Question 22 (Functions)"
   ]
  },
  {
   "cell_type": "markdown",
   "id": "83d91ba4-c94c-4fe8-a771-7e8655ed45f6",
   "metadata": {},
   "source": [
    "What is the expected output of the following code?\n",
    "\n",
    "```\n",
    "def func1(param):\n",
    "    return param\n",
    "  \n",
    "def func2(param):\n",
    "    return param * 2\n",
    " \n",
    "def func3(param):\n",
    "    return param + 3\n",
    "  \n",
    "print(func1(func2(func3(1))))\n",
    "```\n",
    "\n",
    "A. ```8```\n",
    "\n",
    "B. ```1```\n",
    "\n",
    "C. ```6```\n",
    "\n",
    "D. ```3```"
   ]
  },
  {
   "cell_type": "markdown",
   "id": "a585a4f7",
   "metadata": {},
   "source": [
    "# Solution 22"
   ]
  },
  {
   "cell_type": "code",
   "execution_count": null,
   "id": "f7bea222",
   "metadata": {},
   "outputs": [],
   "source": [
    "# Solución"
   ]
  },
  {
   "cell_type": "markdown",
   "id": "65986918",
   "metadata": {},
   "source": [
    "****"
   ]
  },
  {
   "cell_type": "markdown",
   "id": "d498db53",
   "metadata": {},
   "source": [
    "# Question 23  (Operators)"
   ]
  },
  {
   "cell_type": "markdown",
   "id": "d93cd7d2-9333-4d9a-b448-b16e2f7a750f",
   "metadata": {},
   "source": [
    "Consider the following code.\n",
    "```\n",
    "x = float('23.42')\n",
    "```\n",
    "Which of the following expressions will evaluate to ```2```?\n",
    "\n",
    "A. ```bool(x)```\n",
    "\n",
    "B. ```str(x)```\n",
    "\n",
    "C. ```bool(x) + True```\n",
    "\n",
    "D. ```int(x) + False```"
   ]
  },
  {
   "cell_type": "markdown",
   "id": "f3d4041e",
   "metadata": {},
   "source": [
    "# Solution 23"
   ]
  },
  {
   "cell_type": "code",
   "execution_count": null,
   "id": "1289d798",
   "metadata": {},
   "outputs": [],
   "source": [
    "# Solución"
   ]
  },
  {
   "cell_type": "markdown",
   "id": "835f97e7",
   "metadata": {},
   "source": [
    "****"
   ]
  },
  {
   "cell_type": "markdown",
   "id": "78fbdd42",
   "metadata": {},
   "source": [
    "# Question 24  (Data Types)"
   ]
  },
  {
   "cell_type": "markdown",
   "id": "c3d108f5-7041-4143-8df0-d7329002f075",
   "metadata": {},
   "source": [
    "What is the expected output of the following code?\n",
    "```\n",
    "print(chr(ord('p') + 3))\n",
    "```\n",
    "\n",
    "A. ```s```\n",
    "\n",
    "B. ```q```\n",
    "\n",
    "C. ```t```\n",
    "\n",
    "D. ```r```"
   ]
  },
  {
   "cell_type": "markdown",
   "id": "d5c13634",
   "metadata": {},
   "source": [
    "# Solution 24"
   ]
  },
  {
   "cell_type": "code",
   "execution_count": null,
   "id": "0720e349",
   "metadata": {},
   "outputs": [],
   "source": [
    "# Solución"
   ]
  },
  {
   "cell_type": "markdown",
   "id": "ea130605",
   "metadata": {},
   "source": [
    "****"
   ]
  },
  {
   "cell_type": "markdown",
   "id": "eabe69e0",
   "metadata": {},
   "source": [
    "# Question 25  (Data Types)"
   ]
  },
  {
   "cell_type": "markdown",
   "id": "7c3f0ef2-66fc-4367-828b-0226f9a8d8f3",
   "metadata": {},
   "source": [
    "You want the name, the user puts in to be written back to the monitor.\n",
    "\n",
    "What snippet would you insert in the line indicated below:\n",
    "\n",
    "```\n",
    "print('Enter Your Name: ')\n",
    "# insert your code here\n",
    "print(name)\n",
    "```\n",
    "A. ```name = input```\n",
    "\n",
    "B. ```input('name')```\n",
    "\n",
    "C. ```input(name)```\n",
    "\n",
    "D. ```name = input()```"
   ]
  },
  {
   "cell_type": "markdown",
   "id": "ed73ab3d",
   "metadata": {},
   "source": [
    "# Solution 25"
   ]
  },
  {
   "cell_type": "code",
   "execution_count": null,
   "id": "492604b0",
   "metadata": {},
   "outputs": [],
   "source": [
    "# Solución"
   ]
  },
  {
   "cell_type": "markdown",
   "id": "df1832a6",
   "metadata": {},
   "source": [
    "****"
   ]
  },
  {
   "cell_type": "markdown",
   "id": "e16354ab",
   "metadata": {},
   "source": [
    "# Question 26  (Control Flow)"
   ]
  },
  {
   "cell_type": "markdown",
   "id": "b84e62e1-9fda-4637-952d-637510596004",
   "metadata": {},
   "source": [
    "What would you insert instead of ???\n",
    "\n",
    "so that the program prints TRUE to the monitor?\n",
    "\n",
    "```\n",
    "w = 7\n",
    "x = 3\n",
    "y = 4\n",
    "z = True\n",
    "a = w + x * y\n",
    "b = w + x / z\n",
    " \n",
    "if ???:\n",
    "    print('TRUE')\n",
    "else:\n",
    "    print('FALSE')\n",
    "```\n",
    "A. ```a < b```\n",
    "\n",
    "B. ```a <= b```\n",
    "\n",
    "C. ```a > ```\n",
    "\n",
    "D. ```a == b```"
   ]
  },
  {
   "cell_type": "markdown",
   "id": "58b8ab3f",
   "metadata": {},
   "source": [
    "# Solution 26"
   ]
  },
  {
   "cell_type": "code",
   "execution_count": null,
   "id": "583313ff",
   "metadata": {},
   "outputs": [],
   "source": [
    "# Solución"
   ]
  },
  {
   "cell_type": "markdown",
   "id": "40d4ffc3",
   "metadata": {},
   "source": [
    "****"
   ]
  },
  {
   "cell_type": "markdown",
   "id": "c8261723",
   "metadata": {},
   "source": [
    "# Question 27  (Error Handling)"
   ]
  },
  {
   "cell_type": "markdown",
   "id": "509b9c04-476a-406a-aeed-fa9f94ca0e6d",
   "metadata": {},
   "source": [
    "Which of the following snippets shows the correct way\n",
    "\n",
    "of handling multiple exceptions in a single except clause?\n",
    "\n",
    "A. \n",
    "```\n",
    "except: TypeError, ValueError, ZeroDivisionError\n",
    "    some code.\n",
    "```\n",
    "B. \n",
    "```       \n",
    "except: (TypeError, ValueError, ZeroDivisionError)\n",
    "    some code.\n",
    "```\n",
    "\n",
    "C. \n",
    "```        \n",
    "except TypeError, ValueError, ZeroDivisionError\n",
    "    some code.\n",
    "```\n",
    "\n",
    "D. \n",
    "```       \n",
    "except TypeError, ValueError, ZeroDivisionError:\n",
    "    some code.\n",
    "```    \n",
    "    \n",
    "E.\n",
    "```\n",
    "except (TypeError, ValueError, ZeroDivisionError)\n",
    "    some code.\n",
    "```  \n",
    "    \n",
    "F.\n",
    "```        \n",
    "except (TypeError, ValueError, ZeroDivisionError):\n",
    "    some code.\n",
    "```"
   ]
  },
  {
   "cell_type": "markdown",
   "id": "0f852573",
   "metadata": {},
   "source": [
    "# Solution 27"
   ]
  },
  {
   "cell_type": "code",
   "execution_count": null,
   "id": "a68daf75",
   "metadata": {},
   "outputs": [],
   "source": [
    "# Solución"
   ]
  },
  {
   "cell_type": "markdown",
   "id": "9b4edf51",
   "metadata": {},
   "source": [
    "****"
   ]
  },
  {
   "cell_type": "markdown",
   "id": "110816c7",
   "metadata": {},
   "source": [
    "# Question 28  (Data Aggregates) "
   ]
  },
  {
   "cell_type": "markdown",
   "id": "2bda350a-b336-4b7e-956c-74efd2bf68fb",
   "metadata": {},
   "source": [
    "What is the expected output of the following code?\n",
    "\n",
    "```\n",
    "data = {}\n",
    "data[1] = 1\n",
    "data['1'] = 2\n",
    "data[1.0] = 4\n",
    " \n",
    "res = 0\n",
    "for d in data:\n",
    "    res += data[d]\n",
    " \n",
    "print(res)\n",
    "```\n",
    "A. ```6```\n",
    "\n",
    "B. ```7```\n",
    "\n",
    "C. ```3```\n",
    "\n",
    "D. The code is erroneous"
   ]
  },
  {
   "cell_type": "markdown",
   "id": "66791312",
   "metadata": {},
   "source": [
    "# Solution 28"
   ]
  },
  {
   "cell_type": "code",
   "execution_count": null,
   "id": "5538b1a4",
   "metadata": {},
   "outputs": [],
   "source": [
    "# Solución"
   ]
  },
  {
   "cell_type": "markdown",
   "id": "fa4c8364",
   "metadata": {},
   "source": [
    "****"
   ]
  },
  {
   "cell_type": "markdown",
   "id": "916b44a4",
   "metadata": {},
   "source": [
    "# Question 29"
   ]
  },
  {
   "cell_type": "markdown",
   "id": "4f4793d9-23a9-4a5b-a42a-c014bd806020",
   "metadata": {},
   "source": [
    "What will happen when you attempt to run the following code?\n",
    "\n",
    "\n",
    "```\n",
    "While True:\n",
    "    print(\"1\")\n",
    "```\n",
    "\n",
    "A. The program will fall into infinite loop, printing ```1``` on each line\n",
    "\n",
    "B. The program will print ```1```, on one line only\n",
    "\n",
    "C. The program will run and cause an error\n",
    "\n",
    "D. The program will not run due to ```syntax error```\n"
   ]
  },
  {
   "cell_type": "markdown",
   "id": "dd037d8e-18b2-4604-99c8-6a0f15e73b97",
   "metadata": {},
   "source": [
    "# Solution 29"
   ]
  },
  {
   "cell_type": "code",
   "execution_count": null,
   "id": "b2ab0095",
   "metadata": {},
   "outputs": [],
   "source": [
    "# Solución"
   ]
  },
  {
   "cell_type": "markdown",
   "id": "93d2eb6f",
   "metadata": {},
   "source": [
    "****"
   ]
  },
  {
   "cell_type": "markdown",
   "id": "adbedc11",
   "metadata": {},
   "source": [
    "# Question 30  (Functions)"
   ]
  },
  {
   "cell_type": "markdown",
   "id": "e630404c-cfc6-4383-aa76-0d3495fb4f2c",
   "metadata": {},
   "source": [
    "The following snippet:\n",
    "```\n",
    "def func(a, b):\n",
    "    return a ** a\n",
    " \n",
    "print(func(2))\n",
    "```\n",
    "A. will return ```None```\n",
    "\n",
    "B. will output ```2```\n",
    "\n",
    "C. will output ```4```\n",
    "\n",
    "D. is erroneous"
   ]
  },
  {
   "cell_type": "markdown",
   "id": "a52798c7",
   "metadata": {},
   "source": [
    "# Solution 30"
   ]
  },
  {
   "cell_type": "code",
   "execution_count": null,
   "id": "e025a300",
   "metadata": {},
   "outputs": [],
   "source": [
    "# Solución"
   ]
  },
  {
   "cell_type": "markdown",
   "id": "24d58aa6",
   "metadata": {},
   "source": [
    "****"
   ]
  },
  {
   "cell_type": "markdown",
   "id": "9b75b65e",
   "metadata": {},
   "source": [
    "*Gracias por la atención*\n",
    "\n",
    "*Isabel Maniega*"
   ]
  }
 ],
 "metadata": {
  "kernelspec": {
   "display_name": "Python 3 (ipykernel)",
   "language": "python",
   "name": "python3"
  },
  "language_info": {
   "codemirror_mode": {
    "name": "ipython",
    "version": 3
   },
   "file_extension": ".py",
   "mimetype": "text/x-python",
   "name": "python",
   "nbconvert_exporter": "python",
   "pygments_lexer": "ipython3",
   "version": "3.8.19"
  }
 },
 "nbformat": 4,
 "nbformat_minor": 5
}

{
 "cells": [
  {
   "attachments": {},
   "cell_type": "markdown",
   "id": "82b4d641",
   "metadata": {},
   "source": [
    "*Contenido creado por: Isabel Maniega*"
   ]
  },
  {
   "attachments": {},
   "cell_type": "markdown",
   "id": "77465fd5",
   "metadata": {},
   "source": [
    "****"
   ]
  },
  {
   "attachments": {},
   "cell_type": "markdown",
   "id": "24dea987",
   "metadata": {},
   "source": [
    "# Question 1  "
   ]
  },
  {
   "cell_type": "markdown",
   "id": "81c5f903-95f8-468e-b8eb-6934046a644f",
   "metadata": {},
   "source": [
    "What is the result of the following code?\n",
    "```\n",
    "x = 7\n",
    "y = x % 2\n",
    "y += 1\n",
    "print(y)\n",
    "```\n",
    "\n",
    "A. ```1```\n",
    "\n",
    "B. ```5```\n",
    "\n",
    "C. ```3```\n",
    "\n",
    "D. ```2```"
   ]
  },
  {
   "attachments": {},
   "cell_type": "markdown",
   "id": "e7b5c284",
   "metadata": {},
   "source": [
    "# Solution 1"
   ]
  },
  {
   "cell_type": "code",
   "execution_count": null,
   "id": "0c43950e",
   "metadata": {},
   "outputs": [],
   "source": [
    "# Solución"
   ]
  },
  {
   "attachments": {},
   "cell_type": "markdown",
   "id": "e5cea33b",
   "metadata": {},
   "source": [
    "****"
   ]
  },
  {
   "attachments": {},
   "cell_type": "markdown",
   "id": "822187c3",
   "metadata": {},
   "source": [
    "# Question 2    (Data Aggregates)"
   ]
  },
  {
   "cell_type": "markdown",
   "id": "4735caca-00b6-4b99-a2a9-6c0e8a86429c",
   "metadata": {},
   "source": [
    "Take a look at the snippet and choose the true statement:\n",
    "```\n",
    "nums = [1, 2, 3]\n",
    "vals = nums\n",
    "del vals[:]\n",
    "```\n",
    "\n",
    "A. nums is longer than vals\n",
    "\n",
    "B. nums and vals have the same length\n",
    "\n",
    "C. the snippet will cause a runtime error\n",
    "\n",
    "D. vals is longer than nums"
   ]
  },
  {
   "attachments": {},
   "cell_type": "markdown",
   "id": "ccb25e6d",
   "metadata": {},
   "source": [
    "# Solution 2"
   ]
  },
  {
   "cell_type": "code",
   "execution_count": null,
   "id": "e099de4d",
   "metadata": {},
   "outputs": [],
   "source": [
    "# Solución"
   ]
  },
  {
   "attachments": {},
   "cell_type": "markdown",
   "id": "8efb033d",
   "metadata": {},
   "source": [
    "****"
   ]
  },
  {
   "attachments": {},
   "cell_type": "markdown",
   "id": "3e9e3c38",
   "metadata": {},
   "source": [
    "# Question 3    (Operators)"
   ]
  },
  {
   "cell_type": "markdown",
   "id": "381cb050-3909-429c-940a-54d8d53bb6d5",
   "metadata": {},
   "source": [
    "The expression:\n",
    "```\n",
    "'mike' > 'Mike'\n",
    "```\n",
    "is\n",
    "\n",
    "\n",
    "A. ```erroneous```\n",
    "\n",
    "B. ```False```\n",
    "\n",
    "C. ```True```"
   ]
  },
  {
   "attachments": {},
   "cell_type": "markdown",
   "id": "bf5df307",
   "metadata": {},
   "source": [
    "# Solution 3"
   ]
  },
  {
   "cell_type": "code",
   "execution_count": null,
   "id": "1014319a",
   "metadata": {},
   "outputs": [],
   "source": [
    "# Solución"
   ]
  },
  {
   "attachments": {},
   "cell_type": "markdown",
   "id": "08decad0",
   "metadata": {},
   "source": [
    "****"
   ]
  },
  {
   "attachments": {},
   "cell_type": "markdown",
   "id": "33c08eb7",
   "metadata": {},
   "source": [
    "# Question 4  (Control Flow)  "
   ]
  },
  {
   "cell_type": "markdown",
   "id": "99f3c076-c932-43e4-ad7e-22912af5a601",
   "metadata": {},
   "source": [
    "What is the expected output of the following code?\n",
    "\n",
    "```\n",
    "x = (1, 4, 7, 9, 10, 11)\n",
    "y = {2: 'A', 4: 'B', 6: 'C', 8: 'D', 10: 'E', 12: 'F'}\n",
    "res = 1\n",
    "for z in x:\n",
    "    if z in y:\n",
    "        res += z\n",
    "print(res)\n",
    "```\n",
    "\n",
    "A. ```14```\n",
    "\n",
    "B. ```6```\n",
    "\n",
    "C. ```15```\n",
    "\n",
    "D. ```22```"
   ]
  },
  {
   "attachments": {},
   "cell_type": "markdown",
   "id": "48f0c038",
   "metadata": {},
   "source": [
    "# Solution 4"
   ]
  },
  {
   "cell_type": "code",
   "execution_count": null,
   "id": "fc151686",
   "metadata": {},
   "outputs": [],
   "source": [
    "# Solución"
   ]
  },
  {
   "attachments": {},
   "cell_type": "markdown",
   "id": "9499536d",
   "metadata": {},
   "source": [
    "****"
   ]
  },
  {
   "attachments": {},
   "cell_type": "markdown",
   "id": "9012902e",
   "metadata": {},
   "source": [
    "# Question 5     (Data Types) "
   ]
  },
  {
   "cell_type": "markdown",
   "id": "5b64c878-34d7-43e8-b209-b4fdd1013df8",
   "metadata": {},
   "source": [
    "What is the expected output of the following code?\n",
    "```\n",
    "print(not 0)\n",
    "print(not 23)\n",
    "print(not '')\n",
    "print(not 'Peter')\n",
    "print(not None)\n",
    "```\n",
    "A. \n",
    "```\n",
    "True\n",
    "False\n",
    "True\n",
    "False\n",
    "False\n",
    "```\n",
    "B. \n",
    "```\n",
    "False\n",
    "False\n",
    "True\n",
    "False\n",
    "True\n",
    "```\n",
    "C. \n",
    "```\n",
    "True\n",
    "False\n",
    "True\n",
    "False\n",
    "True\n",
    "```\n",
    "D. \n",
    "```\n",
    "True\n",
    "False\n",
    "False\n",
    "False\n",
    "True\n",
    "```"
   ]
  },
  {
   "attachments": {},
   "cell_type": "markdown",
   "id": "33090470",
   "metadata": {},
   "source": [
    "# Solution 5"
   ]
  },
  {
   "cell_type": "code",
   "execution_count": null,
   "id": "b98a8b1b",
   "metadata": {},
   "outputs": [],
   "source": [
    "# Solución"
   ]
  },
  {
   "attachments": {},
   "cell_type": "markdown",
   "id": "74bff6ba",
   "metadata": {},
   "source": [
    "****"
   ]
  },
  {
   "attachments": {},
   "cell_type": "markdown",
   "id": "6bebbbb8",
   "metadata": {},
   "source": [
    "# Question 6   (Basics)  "
   ]
  },
  {
   "cell_type": "markdown",
   "id": "0a1b1a41-e1be-46a0-9a62-5a9feea8fb2a",
   "metadata": {},
   "source": [
    "What is machine code?\n",
    "\n",
    "\n",
    "A. \n",
    "\n",
    "A low-level programming language \n",
    "consisting of binary digits/bit \n",
    "that the computer reads and understands\n",
    "\n",
    "B. \n",
    "\n",
    "A low-level programming language \n",
    "consisting of hexadecimal digits\n",
    "that make up high-level language instructions\n",
    "\n",
    "C. \n",
    "\n",
    "A high-level programming language \n",
    "consisting of instruction lists\n",
    "that humans can read and understand\n",
    "\n",
    "D. \n",
    "\n",
    "A medium-level programming language \n",
    "consisting of the assembly code\n",
    "designed for the computer processor"
   ]
  },
  {
   "attachments": {},
   "cell_type": "markdown",
   "id": "fad8536a",
   "metadata": {},
   "source": [
    "# Solution 6"
   ]
  },
  {
   "cell_type": "code",
   "execution_count": null,
   "id": "ba06fa30",
   "metadata": {},
   "outputs": [],
   "source": [
    "# Solución"
   ]
  },
  {
   "attachments": {},
   "cell_type": "markdown",
   "id": "2a66728a",
   "metadata": {},
   "source": [
    "****"
   ]
  },
  {
   "attachments": {},
   "cell_type": "markdown",
   "id": "02b11c22",
   "metadata": {},
   "source": [
    "# Question 7    (Functions)"
   ]
  },
  {
   "cell_type": "markdown",
   "id": "c0e8142d-2e59-4381-9afe-52fca920db7d",
   "metadata": {},
   "source": [
    "What is the expected behavior of the following snippet?\n",
    "\n",
    "```\n",
    "x = 1\n",
    " \n",
    "def a(x):\n",
    "    return 2 * x\n",
    " \n",
    "x = 2 + a(x)      # Line 8\n",
    "print(a(x))       # Line 9\n",
    "```\n",
    "\n",
    "It will:\n",
    "\n",
    "A. cause a runtime exception on Line 9\n",
    "\n",
    "B. print ```4```\n",
    "\n",
    "C. print ```6```\n",
    "\n",
    "D. print ```8```\n",
    "\n",
    "E. cause a runtime exception on Line 8"
   ]
  },
  {
   "attachments": {},
   "cell_type": "markdown",
   "id": "6a19ceaa",
   "metadata": {},
   "source": [
    "# Solution 7"
   ]
  },
  {
   "cell_type": "code",
   "execution_count": null,
   "id": "21020ab1",
   "metadata": {},
   "outputs": [],
   "source": [
    "# Solución"
   ]
  },
  {
   "attachments": {},
   "cell_type": "markdown",
   "id": "5539648a",
   "metadata": {},
   "source": [
    "****"
   ]
  },
  {
   "attachments": {},
   "cell_type": "markdown",
   "id": "707edf97",
   "metadata": {},
   "source": [
    "# Question 8  (Operators)"
   ]
  },
  {
   "cell_type": "markdown",
   "id": "d713599a-7849-4ef9-8f06-8249a6aeba98",
   "metadata": {},
   "source": [
    "Evaluate the following Python arithmetic expression:\n",
    "```\n",
    "(3 * (1 + 2) ** 2 - (2 ** 2) * 3)\n",
    "```\n",
    "What is the result?\n",
    "\n",
    "\n",
    "A. ```13```\n",
    "\n",
    "B. ```3```\n",
    "\n",
    "C. ```69```\n",
    "\n",
    "D. ```15```"
   ]
  },
  {
   "attachments": {},
   "cell_type": "markdown",
   "id": "2d184945",
   "metadata": {},
   "source": [
    "# Solution 8"
   ]
  },
  {
   "cell_type": "code",
   "execution_count": null,
   "id": "8a4e795c",
   "metadata": {},
   "outputs": [],
   "source": [
    "# Solución"
   ]
  },
  {
   "attachments": {},
   "cell_type": "markdown",
   "id": "9f3aa8ed",
   "metadata": {},
   "source": [
    "****"
   ]
  },
  {
   "attachments": {},
   "cell_type": "markdown",
   "id": "30e443de",
   "metadata": {},
   "source": [
    "# Question 9    (Data Aggregates)"
   ]
  },
  {
   "cell_type": "markdown",
   "id": "fd78d83f-45f9-42bc-b164-f471466192bd",
   "metadata": {},
   "source": [
    "How many elements does the my_list list contain?\n",
    "```\n",
    "my_list = [0 for i in range(1, 3)]\n",
    "```\n",
    "\n",
    "A. two\n",
    "\n",
    "B. three\n",
    "\n",
    "C. one"
   ]
  },
  {
   "attachments": {},
   "cell_type": "markdown",
   "id": "d5faea99",
   "metadata": {},
   "source": [
    "# Solution 9"
   ]
  },
  {
   "cell_type": "code",
   "execution_count": null,
   "id": "5f405911",
   "metadata": {},
   "outputs": [],
   "source": [
    "# Solución"
   ]
  },
  {
   "attachments": {},
   "cell_type": "markdown",
   "id": "0b1bda60",
   "metadata": {},
   "source": [
    "****"
   ]
  },
  {
   "attachments": {},
   "cell_type": "markdown",
   "id": "83f1ab10",
   "metadata": {},
   "source": [
    "# Question 10     (Data Types)"
   ]
  },
  {
   "cell_type": "markdown",
   "id": "8e4bf7e7-7c47-4078-a5d3-31520b72ffc4",
   "metadata": {},
   "source": [
    "What is the expected output of the following code \n",
    "if the user enters 3 and 2?\n",
    "```\n",
    "x = int(input())\n",
    "y = int(input())\n",
    "x = x % y\n",
    "x = x % y\n",
    "y = y % x\n",
    "print(y)\n",
    "```\n",
    "A. ```3```\n",
    "\n",
    "B. ```0```\n",
    "\n",
    "C. ```1```\n",
    "\n",
    "D. ```2```"
   ]
  },
  {
   "attachments": {},
   "cell_type": "markdown",
   "id": "7cfac698",
   "metadata": {},
   "source": [
    "# Solution 10"
   ]
  },
  {
   "cell_type": "code",
   "execution_count": null,
   "id": "ac05e278",
   "metadata": {},
   "outputs": [],
   "source": [
    "# Solución"
   ]
  },
  {
   "attachments": {},
   "cell_type": "markdown",
   "id": "e3d8ca95",
   "metadata": {},
   "source": [
    "****"
   ]
  },
  {
   "attachments": {},
   "cell_type": "markdown",
   "id": "7900e7db",
   "metadata": {},
   "source": [
    "# Question 11    (Operators)"
   ]
  },
  {
   "cell_type": "markdown",
   "id": "42320727-a98f-4a8c-87be-81738386c358",
   "metadata": {},
   "source": [
    "An operator able to check whether two values are equal, is coded as:\n",
    "\n",
    "A. ```is```\n",
    "\n",
    "B. ```==```\n",
    "\n",
    "C. ```===```\n",
    "\n",
    "D. ```=```"
   ]
  },
  {
   "attachments": {},
   "cell_type": "markdown",
   "id": "2ea540ea",
   "metadata": {},
   "source": [
    "# Solution 11"
   ]
  },
  {
   "cell_type": "code",
   "execution_count": null,
   "id": "8a04e483",
   "metadata": {},
   "outputs": [],
   "source": [
    "# Solución"
   ]
  },
  {
   "attachments": {},
   "cell_type": "markdown",
   "id": "f64c12d2",
   "metadata": {},
   "source": [
    "****"
   ]
  },
  {
   "attachments": {},
   "cell_type": "markdown",
   "id": "acf12e8c",
   "metadata": {},
   "source": [
    "# Question 12  (Operators)  "
   ]
  },
  {
   "cell_type": "markdown",
   "id": "7eb70ec2-caba-45e9-9a93-b7f0ff880e2b",
   "metadata": {},
   "source": [
    "What is the expected output of the following code?\n",
    "```\n",
    "print(1 // 2)\n",
    "```\n",
    "A. None of the above\n",
    "\n",
    "B. ```0.0```\n",
    "\n",
    "C. ```0```\n",
    "\n",
    "D. ```0.5```"
   ]
  },
  {
   "attachments": {},
   "cell_type": "markdown",
   "id": "d2979c06",
   "metadata": {},
   "source": [
    "# Solution 12"
   ]
  },
  {
   "cell_type": "code",
   "execution_count": null,
   "id": "a24984ab",
   "metadata": {},
   "outputs": [],
   "source": [
    "# Solución"
   ]
  },
  {
   "attachments": {},
   "cell_type": "markdown",
   "id": "c4b8d574",
   "metadata": {},
   "source": [
    "****"
   ]
  },
  {
   "attachments": {},
   "cell_type": "markdown",
   "id": "798b3726",
   "metadata": {},
   "source": [
    "# Question 13   (Data Aggregates)"
   ]
  },
  {
   "cell_type": "markdown",
   "id": "09c2baed-dacb-4e56-acb0-a2b4cc01b6d6",
   "metadata": {},
   "source": [
    "What is the expected output of the following code?\n",
    "```\n",
    "data = 'Hello@Peter!!'\n",
    "print(data.lower())\n",
    "```\n",
    "A. ```hellopeter```\n",
    "\n",
    "B. ```hello@peter!!```\n",
    "\n",
    "C. ```hello@Peter!!```\n",
    "\n",
    "D. ```None```"
   ]
  },
  {
   "attachments": {},
   "cell_type": "markdown",
   "id": "6ad5d7a2",
   "metadata": {},
   "source": [
    "# Solution 13"
   ]
  },
  {
   "cell_type": "code",
   "execution_count": null,
   "id": "9185c9f7",
   "metadata": {},
   "outputs": [],
   "source": [
    "# Solución"
   ]
  },
  {
   "attachments": {},
   "cell_type": "markdown",
   "id": "78010548",
   "metadata": {},
   "source": [
    "****"
   ]
  },
  {
   "attachments": {},
   "cell_type": "markdown",
   "id": "eb31e191",
   "metadata": {},
   "source": [
    "# Question 14    (Data Aggregates)"
   ]
  },
  {
   "cell_type": "markdown",
   "id": "fd4fbb1b-78b6-48d3-a1d6-482db22ee39b",
   "metadata": {},
   "source": [
    "Insert the correct snippet \n",
    "to convert the t tuple to a dictionary named d\n",
    "\n",
    "\n",
    "Expected output:\n",
    "```\n",
    "{'A': 1, 'B': 2, 'C': 3}\n",
    "```\n",
    "\n",
    "Code:\n",
    "```\n",
    "t = (('A', 1), ('B', 2), ('C', 3))\n",
    "insert code here\n",
    "print(d)\n",
    "```\n",
    "\n",
    "A. ```t >> d.dict```\n",
    "\n",
    "B. ```d = t(dict)```\n",
    "\n",
    "C. ```d.dict(t)```\n",
    "\n",
    "D. ```d = dict(t)```"
   ]
  },
  {
   "attachments": {},
   "cell_type": "markdown",
   "id": "87bafe8c",
   "metadata": {},
   "source": [
    "# Solution 14"
   ]
  },
  {
   "cell_type": "code",
   "execution_count": null,
   "id": "94bf3849",
   "metadata": {},
   "outputs": [],
   "source": [
    "# Solución"
   ]
  },
  {
   "attachments": {},
   "cell_type": "markdown",
   "id": "c53078e3",
   "metadata": {},
   "source": [
    "****"
   ]
  },
  {
   "attachments": {},
   "cell_type": "markdown",
   "id": "f8720650",
   "metadata": {},
   "source": [
    "# Question 15  (Data Aggregates)"
   ]
  },
  {
   "cell_type": "markdown",
   "id": "0760fb42-d249-46a9-8d1d-768fa9487d82",
   "metadata": {},
   "source": [
    "What is the output of the following snippet?\n",
    "```\n",
    "l1 = [1, 2, 3]\n",
    " \n",
    "for v in range(len(l1)):\n",
    "    l1.insert(1, l1[v])\n",
    " \n",
    "print(l1)\n",
    "```\n",
    "A. ```[1, 2, 3, 3, 2, 1]```\n",
    "\n",
    "B. ```[1, 2, 3, 1, 2, 3]```\n",
    "\n",
    "C. ```[1, 1, 1, 1, 2, 3]```\n",
    "\n",
    "D. ```[3, 2, 1, 1, 2, 3]```"
   ]
  },
  {
   "attachments": {},
   "cell_type": "markdown",
   "id": "db5f7d67",
   "metadata": {},
   "source": [
    "# Solution 15"
   ]
  },
  {
   "cell_type": "code",
   "execution_count": null,
   "id": "e481ff43",
   "metadata": {},
   "outputs": [],
   "source": [
    "# Solución"
   ]
  },
  {
   "attachments": {},
   "cell_type": "markdown",
   "id": "d26505df",
   "metadata": {},
   "source": [
    "****"
   ]
  },
  {
   "attachments": {},
   "cell_type": "markdown",
   "id": "0bd5d134",
   "metadata": {},
   "source": [
    "# Question 16  (Functions)"
   ]
  },
  {
   "cell_type": "markdown",
   "id": "466f1f9c-7d7e-41f8-978b-9e495bc79d4d",
   "metadata": {},
   "source": [
    "What is the output of the following snippet?\n",
    "\n",
    "```\n",
    "def fun(x):\n",
    "    x += 1\n",
    "    return x\n",
    " \n",
    "x = 2\n",
    "x = fun(x + 1)\n",
    "print(x)\n",
    "```\n",
    "\n",
    "A. ```4```\n",
    "\n",
    "B. the code is erroneous\n",
    "\n",
    "C. ```3```\n",
    "\n",
    "D. ```5```"
   ]
  },
  {
   "attachments": {},
   "cell_type": "markdown",
   "id": "0cf6c901",
   "metadata": {},
   "source": [
    "# Solution 16"
   ]
  },
  {
   "cell_type": "code",
   "execution_count": null,
   "id": "fc3b21b2",
   "metadata": {},
   "outputs": [],
   "source": [
    "# Solución"
   ]
  },
  {
   "attachments": {},
   "cell_type": "markdown",
   "id": "47bd6d7c",
   "metadata": {},
   "source": [
    "****"
   ]
  },
  {
   "attachments": {},
   "cell_type": "markdown",
   "id": "72b3f0f9",
   "metadata": {},
   "source": [
    "# Question 17  (Functions)  "
   ]
  },
  {
   "cell_type": "markdown",
   "id": "b2923584-5db6-40bc-bdbb-9dd5c03c74a5",
   "metadata": {},
   "source": [
    "What is the expected output of the following code?\n",
    "```\n",
    "def func1(x):\n",
    "    return str(x)\n",
    " \n",
    "def func2(x):\n",
    "    return str(2 * x)\n",
    "\n",
    "print(func1(1) + func2(2))\n",
    "```\n",
    "\n",
    "A. ```14```\n",
    "\n",
    "B. ```5```\n",
    "\n",
    "C. The code is erroneous\n",
    "\n",
    "D. ```3```"
   ]
  },
  {
   "attachments": {},
   "cell_type": "markdown",
   "id": "984fccd3",
   "metadata": {},
   "source": [
    "# Solution 17"
   ]
  },
  {
   "cell_type": "code",
   "execution_count": null,
   "id": "6b04613e",
   "metadata": {},
   "outputs": [],
   "source": [
    "# Solución"
   ]
  },
  {
   "attachments": {},
   "cell_type": "markdown",
   "id": "84f09098",
   "metadata": {},
   "source": [
    "****"
   ]
  },
  {
   "attachments": {},
   "cell_type": "markdown",
   "id": "a8141556",
   "metadata": {},
   "source": [
    "# Question 18  (Data Aggregates)"
   ]
  },
  {
   "cell_type": "markdown",
   "id": "89bf8ca3-04c0-4b96-a90b-60797191b8fe",
   "metadata": {},
   "source": [
    "What is the expected output of the following code?\n",
    "```\n",
    "print(type(+1E10))\n",
    "print(type(5.0))\n",
    "print(type('True'))\n",
    "print(type(False))\n",
    "```\n",
    "A.  \n",
    "```\n",
    "<class 'float'>\n",
    "<class 'float'>\n",
    "<class 'str'>\n",
    "<class 'bool'>\n",
    "```\n",
    "B. \n",
    "```    \n",
    "<class 'float'>\n",
    "<class 'float'>\n",
    "<class 'bool'>\n",
    "<class 'bool'>\n",
    "```\n",
    "C. \n",
    "```   \n",
    "<class 'int'>\n",
    "<class 'float'>\n",
    "<class 'str'>\n",
    "<class 'bool'>\n",
    "```\n",
    "D. \n",
    "```   \n",
    "<class 'int'>\n",
    "<class 'float'>\n",
    "<class 'bool'>\n",
    "<class 'bool'>```"
   ]
  },
  {
   "attachments": {},
   "cell_type": "markdown",
   "id": "b9614646",
   "metadata": {},
   "source": [
    "# Solution 18"
   ]
  },
  {
   "cell_type": "code",
   "execution_count": null,
   "id": "bb0217e2",
   "metadata": {},
   "outputs": [],
   "source": [
    "# Solución"
   ]
  },
  {
   "attachments": {},
   "cell_type": "markdown",
   "id": "bb19d437",
   "metadata": {},
   "source": [
    "****"
   ]
  },
  {
   "attachments": {},
   "cell_type": "markdown",
   "id": "8d972d0a",
   "metadata": {},
   "source": [
    "# Question 19  (Data Aggregates)"
   ]
  },
  {
   "cell_type": "markdown",
   "id": "d74a05f3-4d0a-4b5f-adb9-85a6bca4cd30",
   "metadata": {},
   "source": [
    "What is the expected output of the following code?\n",
    "```\n",
    "x = [1, 2, 3, 4, 5, 6, 7, 8, 9]\n",
    "x[::2] = 10, 20, 30, 40, 50, 60\n",
    "print(x)\n",
    "```\n",
    "A. ```[1, 10, 3, 20, 5, 30, 7, 40, 9, 50, 60]```\n",
    "\n",
    "B. ```[1, 2, 10, 20, 30, 40, 50, 60]```\n",
    "\n",
    "C. ```[10, 2, 20, 4, 30, 6, 40, 8, 50, 60]```\n",
    "\n",
    "D. The code is erroneous"
   ]
  },
  {
   "attachments": {},
   "cell_type": "markdown",
   "id": "46ee0b1f",
   "metadata": {},
   "source": [
    "# Solution 19"
   ]
  },
  {
   "cell_type": "code",
   "execution_count": null,
   "id": "d29c0577",
   "metadata": {},
   "outputs": [],
   "source": [
    "# Solución"
   ]
  },
  {
   "attachments": {},
   "cell_type": "markdown",
   "id": "34ce9ce2",
   "metadata": {},
   "source": [
    "****"
   ]
  },
  {
   "attachments": {},
   "cell_type": "markdown",
   "id": "1b83f968",
   "metadata": {},
   "source": [
    "# Question 20  (Operators)"
   ]
  },
  {
   "cell_type": "markdown",
   "id": "015f3a64-9201-4686-b33e-60d595ea4848",
   "metadata": {},
   "source": [
    "What will be the output of the following snippet?\n",
    "```\n",
    "a = 1\n",
    "b = 0\n",
    "a = a ^ b\n",
    "b = a ^ b\n",
    "b = a ^ b\n",
    "print(a, b)\n",
    "```\n",
    "\n",
    "A. ```1 0```\n",
    "\n",
    "B. ```0 1```\n",
    "\n",
    "C. ```1 1```\n",
    "\n",
    "D. ```0 0```"
   ]
  },
  {
   "attachments": {},
   "cell_type": "markdown",
   "id": "885a7252",
   "metadata": {},
   "source": [
    "# Solution 20"
   ]
  },
  {
   "cell_type": "code",
   "execution_count": null,
   "id": "1e1d36fa",
   "metadata": {},
   "outputs": [],
   "source": [
    "# Solución"
   ]
  },
  {
   "attachments": {},
   "cell_type": "markdown",
   "id": "5666bcd6",
   "metadata": {},
   "source": [
    "****"
   ]
  },
  {
   "attachments": {},
   "cell_type": "markdown",
   "id": "7af25e14",
   "metadata": {},
   "source": [
    "# Question 21 "
   ]
  },
  {
   "cell_type": "markdown",
   "id": "4231154e-2056-447b-868a-c19f578fecd2",
   "metadata": {},
   "source": [
    "Consider the following list.\n",
    "```\n",
    "data = [1, 5, 10, 19, 55, 30, 55, 99]\n",
    "```\n",
    "Which of the code snippets below \n",
    "would produce a new list like the following?\n",
    "```\n",
    "[1, 5, 10, 99]\n",
    "```\n",
    "A. \n",
    "```\n",
    "data.pop(5)\n",
    "data.remove(19)\n",
    "data.remove(55)\n",
    "data.remove(55)\n",
    "```\n",
    "B. \n",
    "```\n",
    "data.pop(1)\n",
    "data.pop(3)\n",
    "data.pop(4)\n",
    "data.pop(6)\n",
    "```\n",
    "C. \n",
    "```\n",
    "data.pop(5)\n",
    "data.pop(19)\n",
    "data.pop(55)\n",
    "```\n",
    "D. \n",
    "```\n",
    "None of the above\n",
    "```\n",
    "E.\n",
    "```\n",
    "data.remove(5)\n",
    "data.remove(19)\n",
    "data.remove(55)\n",
    "```"
   ]
  },
  {
   "attachments": {},
   "cell_type": "markdown",
   "id": "d9044afb",
   "metadata": {},
   "source": [
    "# Solution 21"
   ]
  },
  {
   "cell_type": "code",
   "execution_count": null,
   "id": "816784ab",
   "metadata": {},
   "outputs": [],
   "source": [
    "# Solución "
   ]
  },
  {
   "attachments": {},
   "cell_type": "markdown",
   "id": "eb12c5ed",
   "metadata": {},
   "source": [
    "****"
   ]
  },
  {
   "attachments": {},
   "cell_type": "markdown",
   "id": "b24e9681",
   "metadata": {},
   "source": [
    "# Question 22  (Functions) "
   ]
  },
  {
   "cell_type": "markdown",
   "id": "7b23c235-9017-4033-8b42-8e89e249dcee",
   "metadata": {},
   "source": [
    "What is the expected output of the following code?\n",
    "```\n",
    "v = 1\n",
    " \n",
    "def fun():\n",
    "    global v\n",
    "    v = 2\n",
    "    return v\n",
    " \n",
    "print(v)\n",
    "```\n",
    "A. ```2```\n",
    "\n",
    "B. ```None```\n",
    "\n",
    "C. The program will cause an error\n",
    "\n",
    "D. ```1```"
   ]
  },
  {
   "attachments": {},
   "cell_type": "markdown",
   "id": "d889ff36",
   "metadata": {},
   "source": [
    "# Solution 22"
   ]
  },
  {
   "cell_type": "code",
   "execution_count": null,
   "id": "85e6d476",
   "metadata": {},
   "outputs": [],
   "source": [
    "# Solución"
   ]
  },
  {
   "attachments": {},
   "cell_type": "markdown",
   "id": "b92c75e6",
   "metadata": {},
   "source": [
    "****"
   ]
  },
  {
   "attachments": {},
   "cell_type": "markdown",
   "id": "9d643951",
   "metadata": {},
   "source": [
    "# Question 23  (Data Aggregates)"
   ]
  },
  {
   "cell_type": "markdown",
   "id": "698c8c51-db0e-4787-8867-1ffc34356b55",
   "metadata": {},
   "source": [
    "What is the expected output of the following code?\n",
    "\n",
    "```\n",
    "data1 = 'a', 'b'\n",
    "data2 = ('a', 'b')\n",
    "print(data1 == data2)\n",
    "```\n",
    "\n",
    "A. ```False```\n",
    "\n",
    "B. ```1```\n",
    "\n",
    "C. ```True```\n",
    "\n",
    "D. ```0```"
   ]
  },
  {
   "attachments": {},
   "cell_type": "markdown",
   "id": "2be9bfb2",
   "metadata": {},
   "source": [
    "# Solution 23"
   ]
  },
  {
   "cell_type": "code",
   "execution_count": null,
   "id": "6de04b1a",
   "metadata": {},
   "outputs": [],
   "source": [
    "# Solución"
   ]
  },
  {
   "attachments": {},
   "cell_type": "markdown",
   "id": "a3fc7d26",
   "metadata": {},
   "source": [
    "****"
   ]
  },
  {
   "attachments": {},
   "cell_type": "markdown",
   "id": "dfbc9a98",
   "metadata": {},
   "source": [
    "# Question 24  (Functions)"
   ]
  },
  {
   "cell_type": "markdown",
   "id": "692ece7e-67e6-4653-b622-ce58562dd233",
   "metadata": {},
   "source": [
    "What does the following code do?\n",
    "```\n",
    "def a(b, c, d):\n",
    "    pass\n",
    "```\n",
    "A. Defines a list and initializes it\n",
    "\n",
    "B. Defines an empty class\n",
    "\n",
    "C. Defines a function, which passes its parameters through\n",
    "\n",
    "D. Defines a function, which does nothing\n",
    "\n",
    "E. None of the above"
   ]
  },
  {
   "attachments": {},
   "cell_type": "markdown",
   "id": "20db0835",
   "metadata": {},
   "source": [
    "# Solution 24"
   ]
  },
  {
   "cell_type": "code",
   "execution_count": null,
   "id": "551a6ea2",
   "metadata": {},
   "outputs": [],
   "source": [
    "# Solución"
   ]
  },
  {
   "attachments": {},
   "cell_type": "markdown",
   "id": "80f6a783",
   "metadata": {},
   "source": [
    "****"
   ]
  },
  {
   "attachments": {},
   "cell_type": "markdown",
   "id": "389dadab",
   "metadata": {},
   "source": [
    "# Question 25  (Error Handling)"
   ]
  },
  {
   "cell_type": "markdown",
   "id": "7f1a1b84-dcad-4c23-a058-05db9d1e4557",
   "metadata": {},
   "source": [
    "The following statement ...\n",
    "\n",
    "```\n",
    "assert x == 0\n",
    "```\n",
    "\n",
    "A. will stop the program if x is equal to ```0```\n",
    "\n",
    "B. is erroneous\n",
    "\n",
    "C. has no effect\n",
    "\n",
    "D. will stop the program if x is not equal to ```0```"
   ]
  },
  {
   "attachments": {},
   "cell_type": "markdown",
   "id": "a0d2edba",
   "metadata": {},
   "source": [
    "# Solution 25"
   ]
  },
  {
   "cell_type": "code",
   "execution_count": null,
   "id": "016b7bfe",
   "metadata": {},
   "outputs": [],
   "source": [
    "# Solución"
   ]
  },
  {
   "attachments": {},
   "cell_type": "markdown",
   "id": "31ac7c94",
   "metadata": {},
   "source": [
    "****"
   ]
  },
  {
   "attachments": {},
   "cell_type": "markdown",
   "id": "714d27a5",
   "metadata": {},
   "source": [
    "# Question 26  (Operators)"
   ]
  },
  {
   "cell_type": "markdown",
   "id": "f0df6dfa-d567-431c-9ca1-5e384afe8179",
   "metadata": {},
   "source": [
    "What value will be assigned to the x variable?\n",
    "```\n",
    "z = 10\n",
    "y = 0\n",
    "x = z > y or z == y   \n",
    "```\n",
    "\n",
    "A. ```True```\n",
    "\n",
    "B. ```False```\n",
    "\n",
    "C. ```1```"
   ]
  },
  {
   "attachments": {},
   "cell_type": "markdown",
   "id": "0b6bd346",
   "metadata": {},
   "source": [
    "# Solution 26"
   ]
  },
  {
   "cell_type": "code",
   "execution_count": null,
   "id": "98da5126",
   "metadata": {},
   "outputs": [],
   "source": [
    "# Solución"
   ]
  },
  {
   "attachments": {},
   "cell_type": "markdown",
   "id": "55de30e1",
   "metadata": {},
   "source": [
    "****"
   ]
  },
  {
   "attachments": {},
   "cell_type": "markdown",
   "id": "090b502d",
   "metadata": {},
   "source": [
    "# Question 27   (Data Types) "
   ]
  },
  {
   "cell_type": "markdown",
   "id": "71ec404a-2494-447a-9b13-d44d57b4e103",
   "metadata": {},
   "source": [
    "Which of the following operators can be used with strings?\n",
    "```\n",
    "1. +\n",
    "2. *\n",
    "3. -\n",
    "4. in\n",
    "```\n",
    "A. ```1, 2, 3```\n",
    "\n",
    "B. ```1, 2, 4```\n",
    "\n",
    "C. ```1, 2, 3, 4```\n",
    "\n",
    "D. ```1, 2```"
   ]
  },
  {
   "attachments": {},
   "cell_type": "markdown",
   "id": "b67cdf58",
   "metadata": {},
   "source": [
    "# Solution 27"
   ]
  },
  {
   "cell_type": "code",
   "execution_count": null,
   "id": "4558ab01",
   "metadata": {},
   "outputs": [],
   "source": [
    "# Solución"
   ]
  },
  {
   "attachments": {},
   "cell_type": "markdown",
   "id": "613fcc28",
   "metadata": {},
   "source": [
    "****"
   ]
  },
  {
   "attachments": {},
   "cell_type": "markdown",
   "id": "7ff79a5d",
   "metadata": {},
   "source": [
    "# Question 28"
   ]
  },
  {
   "cell_type": "markdown",
   "id": "dd3b65d6-b0cf-4ed0-bbed-b2095533a549",
   "metadata": {},
   "source": [
    "What do you call a computer program which directly\n",
    "executes instructions written in a programming language?\n",
    "\n",
    "A. A compiler\n",
    "\n",
    "B. An interpreter\n",
    "\n",
    "C. A translater"
   ]
  },
  {
   "attachments": {},
   "cell_type": "markdown",
   "id": "456270bf",
   "metadata": {},
   "source": [
    "# Solution 28"
   ]
  },
  {
   "cell_type": "code",
   "execution_count": null,
   "id": "7832d213",
   "metadata": {},
   "outputs": [],
   "source": [
    "# Solución"
   ]
  },
  {
   "attachments": {},
   "cell_type": "markdown",
   "id": "5bbf4a14",
   "metadata": {},
   "source": [
    "****"
   ]
  },
  {
   "attachments": {},
   "cell_type": "markdown",
   "id": "a4555ca7",
   "metadata": {},
   "source": [
    "# Question 29  (Data Aggregates) "
   ]
  },
  {
   "cell_type": "markdown",
   "id": "039c6be1-7eb8-4983-99b6-90a709656d76",
   "metadata": {},
   "source": [
    "What is the expected output of the following code?\n",
    "```\n",
    "x = {(1, 2): 1, (2, 3): 2}\n",
    "print(x[1, 2])\n",
    "```\n",
    "\n",
    "A. ```{(2, 3): 2}```\n",
    "\n",
    "B. ```1```\n",
    "\n",
    "C. ```{(1, 2): 1}```\n",
    "\n",
    "D. The code is erroneous"
   ]
  },
  {
   "attachments": {},
   "cell_type": "markdown",
   "id": "15cca6af",
   "metadata": {},
   "source": [
    "# Solution 29"
   ]
  },
  {
   "cell_type": "code",
   "execution_count": null,
   "id": "41c04a72",
   "metadata": {},
   "outputs": [],
   "source": [
    "# Solución"
   ]
  },
  {
   "attachments": {},
   "cell_type": "markdown",
   "id": "3adc8164",
   "metadata": {},
   "source": [
    "****"
   ]
  },
  {
   "attachments": {},
   "cell_type": "markdown",
   "id": "167b5041",
   "metadata": {},
   "source": [
    "# Question 30  (Control Flow)"
   ]
  },
  {
   "cell_type": "markdown",
   "id": "6ea42e9c-7c3a-4118-8046-90027fb21452",
   "metadata": {},
   "source": [
    "Which of the code snippet below \n",
    "will print the following to the monitor?\n",
    "\n",
    "```\n",
    "Paul\n",
    "Mary\n",
    "Jane\n",
    "```\n",
    "\n",
    "A. \n",
    "```\n",
    "data = ['Peter', 'Paul', 'Mary', 'Jane']\n",
    "for d in data:\n",
    "    if len(d) != 4:\n",
    "        print(d)\n",
    "```\n",
    "B. \n",
    "```\n",
    "data = ['Peter', 'Paul', 'Mary', 'Jane']\n",
    "da = data[1:]\n",
    "for d in data:\n",
    "    print(d)\n",
    "```\n",
    "C. \n",
    "```\n",
    "data = ['Peter', 'Paul', 'Mary', 'Jane']\n",
    "for d in data:\n",
    "    print(d)\n",
    "```\n",
    "D. \n",
    "```\n",
    "data = ['Peter', 'Paul', 'Mary', 'Jane']\n",
    "for d in data:\n",
    "    if len(d) == 4:\n",
    "        print(d)\n",
    "```"
   ]
  },
  {
   "attachments": {},
   "cell_type": "markdown",
   "id": "69a2d0be",
   "metadata": {},
   "source": [
    "# Solution 30"
   ]
  },
  {
   "cell_type": "code",
   "execution_count": null,
   "id": "1c1b0c72",
   "metadata": {},
   "outputs": [],
   "source": [
    "# Solución"
   ]
  },
  {
   "attachments": {},
   "cell_type": "markdown",
   "id": "1501ca57",
   "metadata": {},
   "source": [
    "****"
   ]
  },
  {
   "attachments": {},
   "cell_type": "markdown",
   "id": "2a75d490",
   "metadata": {},
   "source": [
    "*Gracias por la atención*\n",
    "\n",
    "*Isabel Maniega*"
   ]
  }
 ],
 "metadata": {
  "kernelspec": {
   "display_name": "Python 3 (ipykernel)",
   "language": "python",
   "name": "python3"
  },
  "language_info": {
   "codemirror_mode": {
    "name": "ipython",
    "version": 3
   },
   "file_extension": ".py",
   "mimetype": "text/x-python",
   "name": "python",
   "nbconvert_exporter": "python",
   "pygments_lexer": "ipython3",
   "version": "3.8.19"
  }
 },
 "nbformat": 4,
 "nbformat_minor": 5
}
